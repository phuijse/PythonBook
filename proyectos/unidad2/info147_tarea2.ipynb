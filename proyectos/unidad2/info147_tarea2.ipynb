{
 "cells": [
  {
   "cell_type": "markdown",
   "metadata": {},
   "source": [
    "# Tarea 2: ¿Es posible explicar la cantidad de billonarios en base al desarrollo país?  <a class=\"tocSkip\"></a>\n",
    "\n",
    "\n",
    "\n",
    "\n",
    "\n"
   ]
  },
  {
   "cell_type": "markdown",
   "metadata": {},
   "source": [
    "En 2006 *Daniel Treisman* publicó un artículo titulado [*Russia Billionaries*](https://pubs.aeaweb.org/doi/pdfplus/10.1257/aer.p20161068) en el cual conectó la cantidad de billonarios de un país con ciertos atributos económicos de los mismos. \n",
    "\n",
    "Su conclusión principal fue que Rusia tiene una cantidad de billonarios mayor que la que predicen los indicadores económicos\n",
    "\n",
    "En esta tarea ustedes analizarán datos macroeconómicos para comprobar o refutar los hallazgos de *D. Treisman*"
   ]
  },
  {
   "cell_type": "markdown",
   "metadata": {},
   "source": [
    "## Instrucciones generales \n",
    "\n",
    "1. Forme un grupo de **máximo tres estudiantes**\n",
    "1. Versione su trabajo usando un **repositorio privado de github**. Agregue a sus compañeros y a su profesor (usuario github: phuijse) en la pestaña *Settings/Manage access*. No se aceptarán consultas de programación si no se cumple este requisito\n",
    "1. Su tarea se evaluará en base al último commit antes de la fecha de entrega: **14:10 del Martes XX de XX de 2021**. La nota se calcula como (\"pt totales\" + 1)\n",
    "1. [Sean leales y honestos](https://www.acm.org/about-acm/code-of-ethics-in-spanish), no copie ni comparta resultados con otros grupos"
   ]
  },
  {
   "cell_type": "markdown",
   "metadata": {},
   "source": [
    "## Datos\n",
    "\n",
    "Para esta tarea se les provee de un conjunto de datos `billonarios.csv` indexado por país con los siguientes atributos\n",
    "\n",
    "- `nbillonarios`: La cantidad de billonarios del pais\n",
    "- `logpibpc`: El logaritmo del Producto Interno Bruto (PIB) per capita del pais\n",
    "- `logpob`: El logaritmo de la población del pais\n",
    "- `gatt`: La cantidad de años que el pais está adherido al *General Agreement on Tariffs and Trade* (GATT)"
   ]
  },
  {
   "cell_type": "markdown",
   "metadata": {},
   "source": [
    "## Modelo (1.0pt)\n",
    "\n",
    "El objetivo principal de esta tarea es entrenar un modelo de regresión que prediga la cantidad de billonarios en función de los demás atributos\n",
    "\n",
    "> El número de billonarios es una variable entera y no-negativa. \n",
    "\n",
    "Un modelo apropiado en este caso es la [regresión de Poisson](https://en.wikipedia.org/wiki/Poisson_distribution), donde definimos la probabilidad condicional para un pais $i$ como  \n",
    "\n",
    "$$\n",
    "p(y_i | x_i ) = \\frac{\\lambda_i^{y_i}}{y_i!} \\exp \\left ({-\\lambda_i} \\right)\n",
    "$$\n",
    "\n",
    "con intensidad\n",
    "\n",
    "$$\n",
    "\\lambda_i = \\exp \\left (\\theta_0 + \\sum_{j=1}^M \\theta_j x_{ij} \\right)\n",
    "$$\n",
    "\n",
    "donde \n",
    "\n",
    "- $\\theta$ es el vector de parámetros que deseamos ajustar \n",
    "- $y_i$ y $x_i$ son la cantidad de billonarios y el vector de atributos del país $i$, respectivamente\n",
    "\n",
    "En base a este modelo se pide que ajusten $\\theta$ mediante la maximización de la verosimilitud. \n",
    "\n",
    "$$\n",
    "\\begin{align}\n",
    "\\hat \\theta &= \\text{arg}\\max_\\theta \\log \\mathcal{L} (\\theta) \\nonumber \\\\ \n",
    "&= \\text{arg}\\max_\\theta \\log \\prod_{i=1}^N  p(y_i | x_i) \\nonumber \\\\\n",
    "&= \\text{arg}\\max_\\theta \\sum_{i=1}^N \\log p(y_i | x_i) \\nonumber\n",
    "\\end{align}\n",
    "$$\n",
    "\n",
    "En particular:\n",
    "\n",
    "1. Estudie y describa la distribución de Poisson en detalle. Muestre como varía la distribución en función de su parámetro $\\lambda$, ¿Qué ocurre cuando $\\lambda$ es pequeño? ¿Y cuando es grande?\n",
    "1. Reemplace las expresiones y obtenga una expresión analítica para el logaritmo de la verosimilitud: $\\log \\mathcal{L}(\\theta)$. Muestre la ecuación obtenida. HINT: Puede ignorar los términos que no dependan de $\\theta$. Luego obtenga una expresión analítica para la primera derivada del logaritmo de la verosimilitud. Muestra la ecuación obtenida"
   ]
  },
  {
   "cell_type": "markdown",
   "metadata": {},
   "source": [
    "## Implementación (1.5pt)\n",
    "\n",
    "1. Implemente el logaritmo de la verosimilitud y su derivada usando `numpy`. Utilice operaciones vectoriales (prohibido usar `for` para iterar en los países)\n",
    "1. Implemente una rutina que encuentre el vector de parámetros óptimo en base a `scipy.optimize.minimize` \n",
    "1. Implemente una rutina que calcule el pseudo coeficiente de correlación\n",
    "$$\n",
    "R^2 = \\frac{\\log \\mathcal{L} (\\hat \\theta_0) - \\log \\mathcal{L} (\\hat \\theta) }{\\log \\mathcal{L} (\\hat \\theta_0)} \\in [0, 1]\n",
    "$$\n",
    "donde $\\log \\mathcal{L} (\\hat \\theta)$ es el logaritmo de la verosimilitud de su mejor modelo y $\\log \\mathcal{L} (\\hat \\theta_0)$ es el logaritmo de la verosimilitud de un modelo que tiene sólo el parámetro $\\theta_0$\n",
    "1. Implemente una rutina de bootstrap resampling para encontrar la distribución y los intervalos de confianza empíricos para $\\theta$ y el pseudo coeficiente de correlación\n"
   ]
  },
  {
   "cell_type": "markdown",
   "metadata": {},
   "source": [
    "## Resultados (3pt)\n",
    "\n",
    "1. Compare los métodos `CG`, `BFGS`, `Nelder-mead` y `Powell` en términos del vector de parámetros obtenido, la log verosimilitud alcanzada, el pseudo coeficiente de correlación alcanzado, el número de iteraciones necesarias para converger y el tiempo total para converger. Seleccione uno de los métodos para contestar los siguientes puntos\n",
    "1. Prediga la cantidad de billonarios de cada país usando su modelo. Muestre la cantidad de billonarios predicha y real para cada continente. ¿Qué puede comentar al respecto?\n",
    "1. Muestre las distribuciones empíricas de los parámetros y del pseudo coeficiente de correlación. ¿Cuáles parámetros tienen $\\theta$ significativamente distinto de cero? ¿Cuál es el intervalo de confianza al 95% del $R^2$? En base a esto ¿Qué puede decir sobre su modelo?\n",
    "1. Gráfique el error entre la cantidad de billonarios predicha y la cantidad de billonarios real. El gráfico debe mostrar los paises ordenados de mayor a menor **error absoluto**.  Analice ¿Cuáles son los 5 países con mayor error en la predicción? ¿Cuáles países tienen un exceso de billonarios? ¿Cúales paises tienen menos billonarios de lo esperado? ¿Qué puede decir sobre Rusia?\n",
    "\n"
   ]
  },
  {
   "cell_type": "markdown",
   "metadata": {},
   "source": [
    "## Conclusiones (0.5pt)\n",
    "\n",
    "Resuma sus principales hallazgos y comenté sobre las desafios encontrados al desarrollar esta tarea "
   ]
  },
  {
   "cell_type": "code",
   "execution_count": null,
   "metadata": {},
   "outputs": [],
   "source": []
  }
 ],
 "metadata": {
  "kernelspec": {
   "display_name": "Python 3",
   "language": "python",
   "name": "python3"
  },
  "language_info": {
   "codemirror_mode": {
    "name": "ipython",
    "version": 3
   },
   "file_extension": ".py",
   "mimetype": "text/x-python",
   "name": "python",
   "nbconvert_exporter": "python",
   "pygments_lexer": "ipython3",
   "version": "3.7.10"
  },
  "toc": {
   "base_numbering": 1,
   "nav_menu": {},
   "number_sections": true,
   "sideBar": true,
   "skip_h1_title": false,
   "title_cell": "Table of Contents",
   "title_sidebar": "Contents",
   "toc_cell": false,
   "toc_position": {},
   "toc_section_display": true,
   "toc_window_display": false
  }
 },
 "nbformat": 4,
 "nbformat_minor": 4
}
