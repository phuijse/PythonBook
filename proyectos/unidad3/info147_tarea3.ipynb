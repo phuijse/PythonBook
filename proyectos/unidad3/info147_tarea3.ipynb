{
 "cells": [
  {
   "cell_type": "markdown",
   "metadata": {},
   "source": [
    "# Tarea 3: Los K-vecinos \n",
    "\n",
    "## Introducción\n",
    "\n",
    "<img src=\"vecinos.png\" width=\"400\">\n",
    "\n",
    "Los $K$-vecinos es un método clásico y muy sencillo para hacer clasificación de datos, que se basa en predecir la etiqueta de un dato basado en las etiquetas de los datos de entrenamiento que más se le parecen. La siguiente figura describe graficamente los tres pasos del algoritmo\n",
    "\n",
    "<img src=\"algoritmo.png\" width=\"600\">\n",
    "\n",
    "En este caso es clave definir una noción de distancia entre los ejemplos y también especificar un valor adecuado para $K$, la cantidad de vecinos que influyen en la predicción.\n",
    "\n",
    "## Formalismo matemático\n",
    "\n",
    "Sea una base de datos $E = \\{(x_j, y_j), j=1, \\ldots, N\\}$, con $N$ ejemplos donde $x_j \\in \\mathbb{R}^{D}$ es un atributo d-dimensional e $y_j \\in \\{0, 1, 2, \\ldots, C\\}$ son sus etiquetas de clase. Sea ahora una segunda base de datos $T = \\{(z_i), i=1, \\ldots, M\\}$ con $M$ ejemplos donde $z_i \\in \\mathbb{R}^{D}$ es un atributo d-dimensional. Esta base de datos no tiene etiquetas. El objetivo es clasificar los ejemplos de $T$ en base a las etiquetas de los $K$ ejemplos más cercanos de la base de datos $E$\n"
   ]
  },
  {
   "cell_type": "markdown",
   "metadata": {},
   "source": [
    "El algoritmo para clasificar el i-esimo elemento de Z es\n",
    "\n",
    "**Paso 1** Calculamos la distancia entre $z_i$ y cada elemento de $E$ usando\n",
    "\n",
    "$$\n",
    "d(z_i, x_j) = \\left ( \\sum_{d=1}^D  |z_{id} - x_{jd}|^p \\right)^{1/p}\n",
    "$$\n",
    "\n",
    "que se conoce como [distancia de Minkowski](https://en.wikipedia.org/wiki/Minkowski_distance). Para el caso $p=2$ se recupera la clásica distancia euclidiana.\n",
    "\n",
    "**Paso 2** Buscamos las $k$ tuplas $(x_k^{(i)}, y_k^{(i)})$ con menor distancia a $z_i$\n",
    "\n",
    "**Paso 3** Seleccionamos la clase de $z_i$ según\n",
    "\n",
    "$$\n",
    "\\text{arg}\\max_{c=0, 1, \\ldots} \\sum_{k=1}^K \\frac{\\mathbb{1}(c=y^{(i)}_k)}{d(z_i, x^{(i)}_k)}\n",
    "$$\n",
    "\n",
    "donde \n",
    "\n",
    "$$\n",
    "\\mathbb{1}(a=b) = \\begin{cases} 1 & \\text{si } a=b \\\\ 0 &  \\text{si } a\\neq b \\end{cases}\n",
    "$$\n",
    "\n",
    "se conoce como función indicadora. Esta versión particular del algoritmo se conoce como clasificador de $k$ vecinos ponderado, ya que una menor distancia (mayor cercanía) aumenta el peso del voto"
   ]
  },
  {
   "cell_type": "markdown",
   "metadata": {},
   "source": [
    "## Instrucciones generales \n",
    "\n",
    "1. Forme un grupo de **máximo tres estudiantes**\n",
    "1. Versione su trabajo usando un **repositorio privado de github**. Agregue a sus compañeros y a su profesor (usuario github: phuijse) en la pestaña *Settings/Manage access*. No se aceptarán consultas de programación si no se cumple este requisito\n",
    "1. Su tarea se evaluará en base al último commit antes de la fecha de entrega: **23:59 del Martes 20 de Julio de 2021**. La nota se calcula como (\"pt totales\" + 1)\n",
    "1. [Sean leales y honestos](https://www.acm.org/about-acm/code-of-ethics-in-spanish), no copie ni comparta resultados con otros grupos"
   ]
  },
  {
   "cell_type": "markdown",
   "metadata": {},
   "source": [
    "## Instrucciones de la actividad\n",
    "\n",
    "- (1pt) Considere la implementación \"ingenua\" del algoritmo KNN que se adjunta a esta tarea con los parámetros $p$ y $k$ por defecto\n",
    "    - Use la función adjunta `create_data` para crear un conjunto de `N=1000` datos\n",
    "    - Realice un profiling completo de la función `KNN` usando las magias `timeit`, `prun` y `lprun`\n",
    "    - Reporte sus resultados y comente sobre los cuellos de botella del algoritmo\n",
    "- (2pt) Implemente una nueva versión de la función `KNN`\n",
    "    - Utilice `Cython` con tipos fijos, vistas de arreglos y funciones de la librería estándar matemática de `C`\n",
    "    - Muestre que obtiene el mismo resultado que la versión original\n",
    "    - Grafique el *speed-up* de su nueva función con respecto a la implementación \"inocente\" original para $N=[10, 50, 100, 500, 1000, 5000, 10000]$\n",
    "- (2pt) Usando la nueva versión de `KNN` y el conjunto de `N=1000` datos creados con `create_data` realice una validación cruzada en el conjunto $E$ para encontrar el mejor valor de los parámetros $k$ y $p$\n",
    "- (1pt) Evalue su mejor clasificador en el conjunto $T$ y haga un reporte completo de resultados que incluya curvas ROC y las métricas vistas en el curso. Muestre una gráfica de la frontera de decisión de su clasificador en el rango $[(-2,2), (-2,2)]$\n",
    "\n",
    "**Justifique adecuadamente todas sus decisiones de diseño**\n",
    "\n",
    "A continuación se muestra una gráfica con los datos a utilizar en esta tarea"
   ]
  },
  {
   "cell_type": "code",
   "execution_count": null,
   "metadata": {
    "ExecuteTime": {
     "end_time": "2020-08-22T02:56:05.546081Z",
     "start_time": "2020-08-22T02:56:05.439738Z"
    }
   },
   "outputs": [],
   "source": [
    "%matplotlib inline\n",
    "import numpy as np\n",
    "import matplotlib.pyplot as plt\n",
    "from funciones import create_data, KNN\n",
    "\n",
    "E, T = create_data(N=1000)\n",
    "x, y = E # Use E para realizar validación cruzada\n",
    "z, w = T # Use las etiquetas w para evaluar sus resultados finales\n",
    "\n",
    "fig, ax = plt.subplots(figsize=(6, 4), tight_layout=True)\n",
    "for c in np.unique(y):\n",
    "    mask = y == c\n",
    "    ax.scatter(x[mask, 0], x[mask, 1], label=f\"E: {c}\", s=10)\n",
    "ax.scatter(z[:, 0], z[:, 1], c='k', s=10, marker='x',  alpha=0.2, label='T')\n",
    "ax.legend();"
   ]
  },
  {
   "cell_type": "code",
   "execution_count": null,
   "metadata": {},
   "outputs": [],
   "source": []
  }
 ],
 "metadata": {
  "kernelspec": {
   "display_name": "Python 3",
   "language": "python",
   "name": "python3"
  },
  "language_info": {
   "codemirror_mode": {
    "name": "ipython",
    "version": 3
   },
   "file_extension": ".py",
   "mimetype": "text/x-python",
   "name": "python",
   "nbconvert_exporter": "python",
   "pygments_lexer": "ipython3",
   "version": "3.7.10"
  },
  "toc": {
   "base_numbering": 1,
   "nav_menu": {},
   "number_sections": true,
   "sideBar": true,
   "skip_h1_title": false,
   "title_cell": "Table of Contents",
   "title_sidebar": "Contents",
   "toc_cell": false,
   "toc_position": {},
   "toc_section_display": true,
   "toc_window_display": false
  }
 },
 "nbformat": 4,
 "nbformat_minor": 2
}
