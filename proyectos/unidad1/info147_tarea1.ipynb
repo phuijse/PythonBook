{
 "cells": [
  {
   "cell_type": "markdown",
   "metadata": {},
   "source": [
    "# Tarea 1: Explorando datos mundiales de COVID-19 \n",
    "\n",
    "En esta actividad se pide que explore los datos del repositorio [\"COVID-19 Data Repository by the Center for Systems Science and Engineering (CSSE) at Johns Hopkins University\"](https://github.com/CSSEGISandData/COVID-19)\n",
    "\n",
    "Adjunto a este cuadernillo encontrará los datos al 26 de Abril de 2021 de dicho repositorio en el archivo `data.zip`. Luego de descomprimir debería observar cuatro archivos\n",
    "\n",
    "- `covid19_confirmados.csv` : Número de casos diarios acumulado reportados como COVID-19 positivos (confirmados)\n",
    "- `covid19_recuperados.csv` : Número de casos diarios acumulado reportados como recuperados \n",
    "- `covid19_decesos.csv` : Número de decesos diarios por COVID-19 acumulado \n",
    "- `population_by_country_2020.csv`:  Población por país más otros indicadores socioeconómicos al 2020 descargados desde: https://www.kaggle.com/tanuprabhu/population-by-country-2020\n",
    "\n",
    "En los primeros tres archivos cada fila corresponde a un país o un estado/provincia de un país. Las columnas son las coordenadas geográficas (latitud y longitud) y el número de casos diarios para cada día desde Enero de 2020 a la fecha. Según quienes compilaron este repositorio, la información de casos recuperados debe analizarse con cautela pues podría estar considerablemente subestimada. \n",
    "\n",
    "A modo de ejemplo se muestra a continuación una gráfica de la series de tiempo del número de casos confirmados totales acumulados de Chile, Argentina y Bolivia \n",
    "\n",
    "<img src=\"ejemplo1.png\">\n",
    "\n",
    "A partir de esta información se puede calcular la serie de tiempo de los casos confirmados \"nuevos\" por día\n",
    "\n",
    "<img src=\"ejemplo2.png\">\n",
    "\n",
    "En esta tarea se pide que procese, visualice, analice y discuta en base a estos datos. Escriba las rutinas de Python necesarias para resolver las actividades específicas que encontrará en este enunciado. **Use las librerías vistas en el curso**. Discuta con sus compañeros de grupo y complete con su análisis donde corresponda."
   ]
  },
  {
   "cell_type": "markdown",
   "metadata": {},
   "source": [
    "## Instrucciones generales \n",
    "\n",
    "1. Forme un grupo de **máximo tres estudiantes**\n",
    "1. Versione su trabajo usando un **repositorio privado de github**. Agregue a sus compañeros y a su profesor (usuario github: phuijse) en la pestaña *Settings/Manage access*. No se aceptarán consultas de programación si no se cumple este requisito\n",
    "1. Su tarea se evaluará en base al último commit antes de la fecha de entrega: **14:10 del Martes 11 de Mayo de 2021**. La nota se calcula como (\"pt totales\" + 1)\n",
    "1. [Sean leales y honestos](https://www.acm.org/about-acm/code-of-ethics-in-spanish), no copie ni comparta resultados con otros grupos"
   ]
  },
  {
   "cell_type": "markdown",
   "metadata": {},
   "source": [
    "## Enunciado"
   ]
  },
  {
   "cell_type": "markdown",
   "metadata": {},
   "source": [
    "### Preparación de datos (1.5pt)"
   ]
  },
  {
   "cell_type": "markdown",
   "metadata": {},
   "source": [
    "1. Explore el archivo `covid19_confirmados.csv` y configure la función `read_csv` de pandas para importarlo como un `DataFrame`. \n",
    "    1. Utilice el nombre de país como índice principal\n",
    "    1. Elimine las columnas `Lat` y `Long`\n",
    "    1. Use TimeStamps para los \"nombres de columna\" asociados a fechas\n",
    "    1. Reduzca la columna `Province/State`, el DataFrame resultante debe tener los totales a nivel país\n",
    "1. Explore el archivo `population_by_country_2020.csv` y configure la función `read_csv` de pandas para importarlo como un `DataFrame`. \n",
    "    1. Utilice el nombre de país como índice principal. Algunos siglas o nombres podrían no calzar con el `DataFrame` anterior, modifíquelos manualmente o usando pandas. \n",
    "1. Haga un `merge` de los `DataFrame` anteriores. El objetivo es asignar un valor de `Population` a cada elemento del primer `DataFrame`. Indique las filas donde no se puede realizar el `merge` y luego descártelas de su `DataFrame` final\n",
    "1. Repita el procedimiento anterior para los archivos `covid19_recuperados.csv` y `covid19_muertes.csv` "
   ]
  },
  {
   "cell_type": "markdown",
   "metadata": {},
   "source": [
    "### Análisis global (1.5pt)\n",
    "\n",
    "1. Obtenga la cantidad total  a la fecha (26 de Abril) de los casos (a) confirmados, (b) cerrados (recuperados más decesos) y (c) activos (confirmados menos cerrados) por país. En base a estas cantidades calcule el porcentaje de \n",
    "    1. casos activos con respecto al total de confirmados\n",
    "    1. decesos con respecto al total de casos cerrados\n",
    "    1. recuperados con respecto al total de casos cerrados\n",
    "1. Luego calcule las siguientes tasas en base a información a la fecha\n",
    "    1. Tasa de incidencia: confirmados por 100.000 dividido población total\n",
    "    1. Tasa de recuperación: recuperados por 100.000 dividido población total\n",
    "    1. Tasa de mortalidad: decesos por 100.000 dividido población total\n",
    "1. En base a lo anterior muestre los nombres y los valores de los 5 países con\n",
    "    1. La mayor y menor tasa de incidencia, respectivamente\n",
    "    1. La mayor y menor tasa de recuperación, respectivamente\n",
    "    1. La mayor y menor tasa de mortalidad, respectivamente\n",
    "1. Responda, analice y discuta: ¿En qué lugar/ranking se encuentra Chile con respecto a cada una de las métricas de los puntos anteriores? ¿A qué países de la [OCDE](https://es.wikipedia.org/wiki/Organizaci%C3%B3n_para_la_Cooperaci%C3%B3n_y_el_Desarrollo_Econ%C3%B3micos) se parece más? ¿A qué paises de latinoamérica se parece más? "
   ]
  },
  {
   "cell_type": "markdown",
   "metadata": {},
   "source": [
    "### Análisis temporal y comparativo (2.0pt)\n",
    "\n",
    "1. Construya una interfaz gráfica usando `ipywidgets` y `matplotlib` que permita realizar comparaciones entre las series de tiempo de COVID-19 de dos países seleccionados arbitrariamente. A modo de simplificación considere sólo los países de la [OCDE](https://es.wikipedia.org/wiki/Organizaci%C3%B3n_para_la_Cooperaci%C3%B3n_y_el_Desarrollo_Econ%C3%B3micos). Requerimientos:\n",
    "    1. La interfaz debe incluir controles para escoger dos países a partir de una lista\n",
    "    1. La interfaz debe incluir tres [tabs](https://ipywidgets.readthedocs.io/en/latest/examples/Widget%20List.html#Tabs), el primero debe mostrar las series de tiempo de ambos países de los casos confirmados, el segundo la de recuperados y el tercero la de los decesos, respectivamente. Use una leyenda para indicar el nombre de los países.\n",
    "    1. La interfaz debe tener un control que permita escoger entre casos acumulados y casos nuevos  \n",
    "    1. La interfaz debe tener un control que permita escoger entre valores absolutos y valores relativos (tasas por 100.000 habitantes)\n",
    "    1. La interfaz debe tener un control que permita escoger entre valores diarios y valores semanales (acumulados). Para esto último se recomienda usar `groupby` con una [frecuencia lunes a lunes](https://pandas.pydata.org/pandas-docs/stable/user_guide/timeseries.html#anchored-offsets)\n",
    "    \n",
    "En base a su interfaz:   \n",
    "\n",
    "1. Describa en detalle la situación de Chile con respecto a la evolución temporal de las series de tiempo. En particular destaque patrones y comportamientos que considere relevantes y compare lo que observa en las distintas series de tiempo. Considerando la evolución a nivel de semana, conteste ¿En qué fechas ocurre un aumento o disminución notoria de los casos? ¿En qué fechas hay máximos y mínimos?\n",
    "1. Considerando métricas que sean relativas compare el caso de Chile contra cinco países de la OCDE seleccionados por ustedes. Destaque semejanzas y diferencias considerando las cantidades y los posibles desfases temporales existentes.\n"
   ]
  },
  {
   "cell_type": "markdown",
   "metadata": {},
   "source": [
    "### Dashboard interactivo (1.0pt)\n",
    "\n",
    "Implemente un *dashboard web* interactivo a partir de la interfaz desarrollada en el punto anterior utilizando la librería [voila](https://github.com/voila-dashboards/voila). Sirva su interfaz en la nube, para esto puede considerar los servicios gratuitos [binder](https://mybinder.org/) o [heroku](https://www.heroku.com/free). Revise la documentación de voila [con respecto a *deployment* en la nube](https://voila.readthedocs.io/en/stable/deploy.html) y este repositorio con [un ejemplo en base a heroku](https://github.com/voila-dashboards/voila-heroku). Entregue el link de su dashboard web"
   ]
  },
  {
   "cell_type": "code",
   "execution_count": null,
   "metadata": {},
   "outputs": [],
   "source": []
  }
 ],
 "metadata": {
  "kernelspec": {
   "display_name": "Python 3",
   "language": "python",
   "name": "python3"
  },
  "language_info": {
   "codemirror_mode": {
    "name": "ipython",
    "version": 3
   },
   "file_extension": ".py",
   "mimetype": "text/x-python",
   "name": "python",
   "nbconvert_exporter": "python",
   "pygments_lexer": "ipython3",
   "version": "3.7.10"
  },
  "toc": {
   "base_numbering": 1,
   "nav_menu": {},
   "number_sections": true,
   "sideBar": true,
   "skip_h1_title": false,
   "title_cell": "Table of Contents",
   "title_sidebar": "Contents",
   "toc_cell": false,
   "toc_position": {},
   "toc_section_display": true,
   "toc_window_display": false
  }
 },
 "nbformat": 4,
 "nbformat_minor": 2
}
