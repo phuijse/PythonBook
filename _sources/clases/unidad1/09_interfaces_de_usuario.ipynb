{
 "cells": [
  {
   "cell_type": "markdown",
   "metadata": {},
   "source": [
    "# Interfaces de usuario en Jupyter con `ipywidgets`\n",
    "\n",
    "Jupyter y IPython permiten no sólo visualizar datos sino también interactuar con ellos en tiempo real\n",
    "\n",
    "Para lograr esto estudiaremos los componentes de la librería [`ipywidgets`](https://ipywidgets.readthedocs.io/en/stable/)"
   ]
  },
  {
   "cell_type": "code",
   "execution_count": null,
   "metadata": {
    "ExecuteTime": {
     "end_time": "2020-06-20T17:46:17.657498Z",
     "start_time": "2020-06-20T17:46:17.249754Z"
    }
   },
   "outputs": [],
   "source": [
    "%matplotlib inline\n",
    "import matplotlib.pyplot as plt\n",
    "import numpy as np\n",
    "from IPython.display import YouTubeVideo\n",
    "from functools import partial\n",
    "YouTubeVideo_formato = partial(YouTubeVideo, modestbranding=1, disablekb=0,\n",
    "                               width=640, height=360, autoplay=0, rel=0, showinfo=0)"
   ]
  },
  {
   "cell_type": "markdown",
   "metadata": {},
   "source": [
    "## ¿Qué es un widget?\n",
    "\n",
    "Un widget es un elemento gráfico que permite interactuar con una aplicación\n",
    "\n",
    "Un conjunto de widgets forman una interfaz de usuario gráfica (Graphical user interface o GUI)\n",
    "\n",
    "La siguiente imagen muestra los widgets típicos que se encuentran en las aplicaciones de PC\n",
    "\n",
    "<img src=\"https://upload.wikimedia.org/wikipedia/commons/d/d5/Widgets.png\" width=\"400\">\n",
    "\n",
    "La librería `ipywidgets` provee controles que permiten interactuar con funciones de Python \n",
    "\n",
    "Entre los muchos [widgets disponibles](https://ipywidgets.readthedocs.io/en/stable/examples/Widget%20List.html) se encuentran:\n",
    "- Botones e selectores (*check-box*)\n",
    "- Listas desplegables (*combo-box*)\n",
    "- Campos de ingreso de texto (*text-box*)\n",
    "- Deslizadores (*sliders*)\n",
    "\n",
    "\n",
    "**Instalación**\n",
    "\n",
    "La forma más sencilla de instalar es usando `conda`\n",
    "\n",
    "    conda install  ipywidgets\n",
    "    \n",
    "Si lo instalas de otra manera (pip o python setup.py) es necesario habilitar la extensión\n",
    "\n",
    "    pip install ipywidgets --user\n",
    "    jupyter nbextension enable --py widgetsnbextension\n",
    "   "
   ]
  },
  {
   "cell_type": "markdown",
   "metadata": {},
   "source": [
    "## Creación semi-automática de widgets\n",
    "\n",
    "Una manera rápida de implementar widgets es usar el  **decorador `interact`**\n",
    "\n",
    "> Al aplicar el decorador a una función convertiremos sus argumentos de entrada en widgets\n",
    "\n",
    "Cada entrada genera y se enlaza a un widget según su tipo:\n",
    "\n",
    "- Un entero produce un widget `IntSlider`\n",
    "- Un flotante produce un widget `FloatSlider`\n",
    "- Un booleando produce un widget `Checkbox`\n",
    "- Una lista produce un widget `Dropdown`\n",
    "- Un string produce un widget `Text`\n",
    "\n",
    "\n",
    "Los argumentos del decorador permiten entregar algunas opciones a los widgets"
   ]
  },
  {
   "cell_type": "code",
   "execution_count": null,
   "metadata": {
    "ExecuteTime": {
     "end_time": "2020-06-20T17:46:18.332538Z",
     "start_time": "2020-06-20T17:46:18.209592Z"
    }
   },
   "outputs": [],
   "source": [
    "import ipywidgets as widgets\n",
    "\n",
    "# Se crea un widget por cada argumento de la función\n",
    "@widgets.interact(x=(0, 10, 2), # El mínimo, máximo y paso para x\n",
    "                  y=(-1., 1., 0.01) # El mínimo, máximo y paso para y\n",
    "                  )\n",
    "\n",
    "def print_cosas(x=0, \n",
    "                y=0., \n",
    "                z=True, \n",
    "                w=['foo','bar'], \n",
    "                v='foo'): \n",
    "    display(x, y, z, w, v)"
   ]
  },
  {
   "cell_type": "markdown",
   "metadata": {},
   "source": [
    "## Creación manual de widgets\n",
    "\n",
    "Para mayor control podemos crear los widgets de nuestra preferencia con sus respectivos constructores y luego enlazarlos a una función usando   manualmente con la **función `interact`**\n",
    "\n",
    "A continuación revisaremos algunos de ellos"
   ]
  },
  {
   "cell_type": "markdown",
   "metadata": {},
   "source": [
    "### [Widgets numéricos](https://ipywidgets.readthedocs.io/en/stable/examples/Widget%20List.html#Numeric-widgets)\n",
    "\n",
    "Un desplazador o *slider* es un widget cuyos argumentos son\n",
    "- min: valor donde inicia\n",
    "- max: valor donde termina\n",
    "- step: el salto entre valores\n",
    "- value: valor inicial\n",
    "\n",
    "El slider generará números entre esos rangos a medida que interactuamos con él\n",
    "\n",
    "Se puede crear un desplazador que produce números enteros con `IntSlider` o flotantes con `FloatSlider`\n",
    "\n",
    "**Ejemplo**\n",
    "\n",
    "```python\n",
    ">>> f = lambda a: display(a)\n",
    ">>> x = widgets.IntSlider(min=-100, max=100, step=5) # Esto crea el widget\n",
    ">>> widgets.interact(f, a=x) # Esto enlaza x con a para la función f\n",
    "```"
   ]
  },
  {
   "cell_type": "markdown",
   "metadata": {},
   "source": [
    "Se pueden generar tuplas de enteros y flotantes usando  `IntRangeSlider` y `FloatRangeSlider`, respectivamente\n",
    "\n",
    "Por otro lado los widgets te tipo text-box `FloatText` y `IntText` pueden usarse para pedir un número al usuario\n",
    "\n",
    "```python\n",
    ">>> f = lambda a: display(a)\n",
    ">>> x = widgets.FloatText(description=\"Por favor ingrese un número\")\n",
    ">>> widgets.interact(f, a=x) # Esto enlaza el widget al primer argumento de f\n",
    "\n",
    "```\n",
    "\n",
    "En ambos casos podemos obtener el valor de los widgets usando \n",
    "```python\n",
    ">>> x.value\n",
    "```\n",
    "\n",
    "Podemos verificar todos los atributos del widget usando\n",
    "```python\n",
    ">>> x.keys\n",
    "```"
   ]
  },
  {
   "cell_type": "markdown",
   "metadata": {},
   "source": [
    "### [Widgets de texto](https://ipywidgets.readthedocs.io/en/stable/examples/Widget%20List.html#String-widgets)\n",
    "\n",
    "Sirven para capturar y mostrar strings\n",
    "\n",
    "- `Text`: Da una linea en blanco para escribir, al apretar Enter se captura el string\n",
    "- `Textarea`: Da un bloque de texto para escribir, se comporta igual a `Text`\n",
    "- `Label`: Muestra un string\n",
    "\n",
    "```python\n",
    "widgets.Text(value, # Texto por defecto\n",
    "             placeholder, # Texto que aparece cuando está vacío\n",
    "             description # Texto que aparece a la izquierda del cuadrado de texto\n",
    "            )\n",
    "```\n",
    "**Ejemplo**"
   ]
  },
  {
   "cell_type": "code",
   "execution_count": null,
   "metadata": {
    "ExecuteTime": {
     "end_time": "2020-06-20T17:46:18.345772Z",
     "start_time": "2020-06-20T17:46:18.334079Z"
    }
   },
   "outputs": [],
   "source": [
    "widgets.Text(placeholder='Escribe tu nombre acá', description='Nombre:')"
   ]
  },
  {
   "cell_type": "markdown",
   "metadata": {},
   "source": [
    "### [Objeto Layout y atributo style](https://ipywidgets.readthedocs.io/en/stable/examples/Widget%20Styling.html)\n",
    "\n",
    " El objeto `Layout` sirve para dar estilo a los *widgets*\n",
    " \n",
    "El estilo se explicita usando [CSS](https://www.w3schools.com/css/)\n",
    "\n",
    "Algunos argumentos útiles son \n",
    "- width: ancho del widget en pixeles\n",
    "- height: alto del widget en pixeles\n",
    "- margin: espacio entre el widget y otros componentes\n",
    "\n",
    "Cada widget tiene un atributo llamado `style` para personalizarlo \n",
    "\n",
    "La lista de atributos de estilo se puede acceder con \n",
    "```python\n",
    ">>> x = widgets.Button()\n",
    ">>> x.style.keys\n",
    "```\n",
    "\n",
    "**Ejemplo**"
   ]
  },
  {
   "cell_type": "code",
   "execution_count": null,
   "metadata": {
    "ExecuteTime": {
     "end_time": "2020-06-20T17:46:18.448262Z",
     "start_time": "2020-06-20T17:46:18.347550Z"
    }
   },
   "outputs": [],
   "source": [
    "slider_layout = widgets.Layout(width='600px', height='20px', margin='10px')\n",
    "\n",
    "def mi_funcion(x):\n",
    "    display(x[0], x[1], (x[1] - x[0]))\n",
    "\n",
    "range_slider = widgets.FloatRangeSlider(min=-100., max=100., step=0.01, \n",
    "                                        continuous_update=True, \n",
    "                                        description=r'Un argumento muy interesante:',\n",
    "                                        layout=slider_layout)\n",
    "range_slider.style.description_width = 'initial'\n",
    "range_slider.style.handle_color = 'black'\n",
    "\n",
    "widgets.interact(mi_funcion, x=range_slider);"
   ]
  },
  {
   "cell_type": "markdown",
   "metadata": {},
   "source": [
    "**Ejercicio: \"Funciones e `interact`\"**\n",
    "\n",
    "Considera la función `plot_sinewave` que se presenta a continuación \n",
    "\n",
    "Crea una interfaz que modifique en tiempo real sus cuatro argumentos usando cuatro FloatSliders, respectivamente\n",
    "- Los primeros tres deben tener un rango en $[0.0, 1.0]$ y un paso de 0.01\n",
    "- El último debe tener un rango $[0.0, 2\\pi]$ y un paso de 0.1"
   ]
  },
  {
   "cell_type": "code",
   "execution_count": null,
   "metadata": {
    "ExecuteTime": {
     "end_time": "2020-06-20T17:46:18.573309Z",
     "start_time": "2020-06-20T17:46:18.457358Z"
    }
   },
   "outputs": [],
   "source": [
    "import ipywidgets as widgets\n",
    "\n",
    "time = np.linspace(0, 3, num=500)\n",
    "arg = 2.0*np.pi*time\n",
    "\n",
    "fig, ax = plt.subplots(figsize=(6, 3), tight_layout=True)\n",
    "line = ax.plot(time, 3*np.cos(arg))\n",
    "\n",
    "def plot_sinewave(A1, A2, A3, phi):\n",
    "    data = A1*np.cos(arg + phi) + A2*np.cos(2*arg + phi) + A3*np.cos(3*arg + phi)\n",
    "    line[0].set_ydata(data)\n",
    "    \n",
    "\n",
    "# Completa acá\n",
    "plot_sinewave(0, 0, 0, 0)"
   ]
  },
  {
   "cell_type": "code",
   "execution_count": null,
   "metadata": {
    "ExecuteTime": {
     "end_time": "2020-06-20T17:46:18.777313Z",
     "start_time": "2020-06-20T17:46:18.574956Z"
    }
   },
   "outputs": [],
   "source": [
    "YouTubeVideo_formato('ili-iy1hXs8')"
   ]
  },
  {
   "cell_type": "markdown",
   "metadata": {},
   "source": [
    "### Widget de tipo contenedor\n",
    "\n",
    "Son widgets que sirven para organizar otros widgets\n",
    "\n",
    "Por ejemplo \n",
    "- `HBox`: Organiza los widgets en forma horizontal\n",
    "- `VBox`: Organiza los widgets en forma vertical\n",
    "- `Tab`: Crea pestañas con los widgets\n",
    "\n",
    "Estos widgets reciben una lista de widgets y pueden anidarse\n",
    "\n",
    "**Ejemplo**"
   ]
  },
  {
   "cell_type": "code",
   "execution_count": null,
   "metadata": {
    "ExecuteTime": {
     "end_time": "2020-06-20T17:46:18.808180Z",
     "start_time": "2020-06-20T17:46:18.779618Z"
    }
   },
   "outputs": [],
   "source": [
    "firstname = widgets.Text(description='Nombre:')\n",
    "lastname = widgets.Text(description='Apellido:')\n",
    "widgets.VBox([firstname, lastname])"
   ]
  },
  {
   "cell_type": "markdown",
   "metadata": {},
   "source": [
    "## Callbacks y eventos"
   ]
  },
  {
   "cell_type": "markdown",
   "metadata": {},
   "source": [
    "### [Widget Button](https://ipywidgets.readthedocs.io/en/stable/examples/Widget%20List.html#Button) y atributo `on_click`\n",
    "\n",
    "```python\n",
    "widgets.Button(description, # Texto en el botón\n",
    "               button_style='', # Estilo del botón: 'success', 'info', 'warning', 'danger' or ''\n",
    "               icon='check', # Icono del botón\n",
    "               ...\n",
    "              )\n",
    "```\n",
    "\n",
    "El uso principal del botón es enlazarlo con una **acción o evento**\n",
    "\n",
    "Hacemos esto especificando una función en el atributo `on_click` del botón\n",
    "\n",
    "La función debe tener un argumento que corresponde al botón en sí"
   ]
  },
  {
   "cell_type": "code",
   "execution_count": null,
   "metadata": {
    "ExecuteTime": {
     "end_time": "2020-06-20T17:46:18.889846Z",
     "start_time": "2020-06-20T17:46:18.809950Z"
    }
   },
   "outputs": [],
   "source": [
    "insert_name = widgets.Text(description='Escribir tu nombre:')\n",
    "insert_name.style.description_width = 'initial'\n",
    "push_data = widgets.Button(description='Enviar')\n",
    "display(widgets.HBox([insert_name, push_data]))\n",
    "\n",
    "def boton_apretado(b):\n",
    "    display(insert_name.value)\n",
    "    \n",
    "push_data.on_click(boton_apretado)"
   ]
  },
  {
   "cell_type": "markdown",
   "metadata": {},
   "source": [
    "### Atributo `observe`\n",
    "\n",
    "Podemos agregar acciones a otros widgets especificando el atributo `observe`\n",
    "\n",
    "`observe` recibe una función de un argumento y el nombre del atributo que queremos \"observar\"\n",
    "\n",
    "El argumento es un diccionario que tiene las siguientes llaves\n",
    "- `owner` : El widget que provocó el cambio\n",
    "- `name` : El nombre del atributo que está cambiando\n",
    "- `old` : El valor antiguo del atributo\n",
    "- `new` : El valor nuevo del atributo\n",
    "\n",
    "**Ejemplo**"
   ]
  },
  {
   "cell_type": "code",
   "execution_count": null,
   "metadata": {
    "ExecuteTime": {
     "end_time": "2020-06-20T17:46:18.970168Z",
     "start_time": "2020-06-20T17:46:18.891677Z"
    }
   },
   "outputs": [],
   "source": [
    "def handler(change):\n",
    "    # change es un diccionario para el atributo value\n",
    "    display(f\"Hola {change['new']}, Chao {change['old']}\")\n",
    "\n",
    "sel_slider = widgets.Dropdown(description=\"Nombre:\", \n",
    "                              options=[\"Pablo\", \"Sebastián\", \"Enrique\"])\n",
    "\n",
    "display(sel_slider)\n",
    "sel_slider.observe(handler, names='value')"
   ]
  },
  {
   "cell_type": "markdown",
   "metadata": {},
   "source": [
    "### widget Output \n",
    "\n",
    "Este es un widget especial que puede usarse para redireccionar las salidas de otros widgets\n",
    "\n",
    "1. Primero creamos y mostrarmos Output \n",
    "1. Luego lo usamos de contexto para la salida de otro widget\n",
    "\n",
    "**Ejemplo**"
   ]
  },
  {
   "cell_type": "code",
   "execution_count": null,
   "metadata": {
    "ExecuteTime": {
     "end_time": "2020-06-20T17:46:19.051946Z",
     "start_time": "2020-06-20T17:46:18.972238Z"
    }
   },
   "outputs": [],
   "source": [
    "out = widgets.Output(layout={'border': '1px solid black'})\n",
    "display(out)"
   ]
  },
  {
   "cell_type": "code",
   "execution_count": null,
   "metadata": {
    "ExecuteTime": {
     "end_time": "2020-06-20T17:46:19.182215Z",
     "start_time": "2020-06-20T17:46:19.053788Z"
    }
   },
   "outputs": [],
   "source": [
    "def on_change(button):\n",
    "    with out: \n",
    "        display(insert_name.value) # Esto se va escribir donde quiera que esté out\n",
    "\n",
    "insert_name = widgets.Text(description='Escribir tu nombre')\n",
    "insert_name.style.description_width = 'initial'\n",
    "push_data = widgets.Button(description='Enviar')\n",
    "display(widgets.HBox([insert_name, push_data]))\n",
    "push_data.on_click(on_change)"
   ]
  },
  {
   "cell_type": "markdown",
   "metadata": {},
   "source": [
    "## Ejercicio: Polinomio con `observe`\n",
    "\n",
    "Considere un polinomio de grado dos:\n",
    "\n",
    "$$\n",
    "f(x) = a x^2 + b x + c\n",
    "$$\n",
    "\n",
    "1. Dibuje este polinomio usando matplotlib en el rango $x=[-2.0 ,2.0]$\n",
    "1. Use widgets FloatText con el atributo `observe` para modificar los parámetros $a$, $b$ y $c$ del polinomio y actualizar el gráfico\n"
   ]
  },
  {
   "cell_type": "code",
   "execution_count": null,
   "metadata": {
    "ExecuteTime": {
     "end_time": "2020-06-20T17:46:19.265694Z",
     "start_time": "2020-06-20T17:46:19.183908Z"
    },
    "scrolled": true
   },
   "outputs": [],
   "source": [
    "# Completa aquí"
   ]
  },
  {
   "cell_type": "code",
   "execution_count": null,
   "metadata": {
    "ExecuteTime": {
     "end_time": "2020-06-20T17:46:19.468715Z",
     "start_time": "2020-06-20T17:46:19.268810Z"
    }
   },
   "outputs": [],
   "source": [
    "YouTubeVideo_formato('2ZbnnFNx_wA')"
   ]
  },
  {
   "cell_type": "code",
   "execution_count": null,
   "metadata": {},
   "outputs": [],
   "source": []
  }
 ],
 "metadata": {
  "kernelspec": {
   "display_name": "Python 3",
   "language": "python",
   "name": "python3"
  },
  "language_info": {
   "codemirror_mode": {
    "name": "ipython",
    "version": 3
   },
   "file_extension": ".py",
   "mimetype": "text/x-python",
   "name": "python",
   "nbconvert_exporter": "python",
   "pygments_lexer": "ipython3",
   "version": "3.7.10"
  },
  "toc": {
   "base_numbering": 1,
   "nav_menu": {},
   "number_sections": true,
   "sideBar": true,
   "skip_h1_title": false,
   "title_cell": "Table of Contents",
   "title_sidebar": "Contents",
   "toc_cell": false,
   "toc_position": {
    "height": "calc(100% - 180px)",
    "left": "10px",
    "top": "150px",
    "width": "294.4px"
   },
   "toc_section_display": true,
   "toc_window_display": true
  }
 },
 "nbformat": 4,
 "nbformat_minor": 2
}
