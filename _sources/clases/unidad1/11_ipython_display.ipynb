{
 "cells": [
  {
   "cell_type": "code",
   "execution_count": null,
   "metadata": {
    "ExecuteTime": {
     "end_time": "2020-06-20T17:46:17.657498Z",
     "start_time": "2020-06-20T17:46:17.249754Z"
    }
   },
   "outputs": [],
   "source": [
    "%matplotlib inline\n",
    "import matplotlib.pyplot as plt\n",
    "import numpy as np\n",
    "from IPython.display import YouTubeVideo\n",
    "from functools import partial\n",
    "YouTubeVideo_formato = partial(YouTubeVideo, modestbranding=1, disablekb=0,\n",
    "                               width=640, height=360, autoplay=0, rel=0, showinfo=0)"
   ]
  },
  {
   "cell_type": "markdown",
   "metadata": {},
   "source": [
    "# Módulo  `IPython.display`\n",
    "\n",
    "El módulo [`IPython.display`](https://ipython.readthedocs.io/en/stable/api/generated/IPython.display.html) está instalado por defecto con el kernel de IPython\n",
    "\n",
    "Hasta ahora sólo hemos usando la función `display`\n",
    "\n",
    "```python\n",
    "display(*objs, # Una tupla de objetos de Python\n",
    "        ...)\n",
    "```\n",
    "Hemos visto que, al igual que `print`, esta función imprime el valor de los objetos de Python\n",
    "\n",
    "Sin embargo, `display` permite adicionalmente imprimir/mostrar objetos multimedia como imágenes, audio, video y HTML: esto es lo que llamamos \"salida enriquecida\""
   ]
  },
  {
   "cell_type": "markdown",
   "metadata": {},
   "source": [
    "## Los atributos `__str__` y `__repr__`\n",
    "\n",
    "La forma en que se imprime un objeto con `print` o `display` está dado por los atributos internos [`__str__`](https://docs.python.org/3/reference/datamodel.html#object.__str__) y [`__repr__`](https://docs.python.org/3/reference/datamodel.html#object.__repr__) de dicho objeto, respectivamente\n",
    "\n",
    "Los objetos básicos de `Python` (por ejemplo las listas) ya tienen estos atributos definidos\n",
    "\n",
    "Adicionalmente display acepta el atributo `_repr_html_` que permite imprimir con formato HTML\n",
    "\n",
    "Observe las diferencias entre `print` y `display` para las siguientes clases"
   ]
  },
  {
   "cell_type": "code",
   "execution_count": null,
   "metadata": {
    "ExecuteTime": {
     "end_time": "2020-06-20T17:46:17.666228Z",
     "start_time": "2020-06-20T17:46:17.659844Z"
    },
    "scrolled": true
   },
   "outputs": [],
   "source": [
    "class Fruta:\n",
    "    def __init__(self, color, nombre):\n",
    "        self.color = color\n",
    "        self.nombre = nombre\n",
    "        \n",
    "a = Fruta('rojo', 'manzana')\n",
    "print(a)\n",
    "display(a)"
   ]
  },
  {
   "cell_type": "code",
   "execution_count": null,
   "metadata": {
    "ExecuteTime": {
     "end_time": "2020-06-20T17:46:17.736644Z",
     "start_time": "2020-06-20T17:46:17.668154Z"
    }
   },
   "outputs": [],
   "source": [
    "class Fruta_str(Fruta): # Esta clase hereda de Fruta        \n",
    "    def __str__(self): # y le agrega este atributo\n",
    "        return f'Soy una {self.nombre} de color {self.color}'\n",
    "    \n",
    "a = Fruta_str('rojo', 'manzana')\n",
    "print(a)\n",
    "display(a) # Display no imprime __str__"
   ]
  },
  {
   "cell_type": "code",
   "execution_count": null,
   "metadata": {
    "ExecuteTime": {
     "end_time": "2020-06-20T17:46:17.812172Z",
     "start_time": "2020-06-20T17:46:17.738684Z"
    }
   },
   "outputs": [],
   "source": [
    "class Fruta_repr(Fruta): # Esta clase hereda de Fruta        \n",
    "    def __repr__(self): # y le agrega este atributo\n",
    "        return f'Soy una {self.nombre} de color {self.color}'\n",
    "    \n",
    "a = Fruta_repr('rojo', 'manzana')\n",
    "print(a) # Print imprime __repr__ si no encuentra __str__\n",
    "display(a) # Display imprime __repr__"
   ]
  },
  {
   "cell_type": "code",
   "execution_count": null,
   "metadata": {
    "ExecuteTime": {
     "end_time": "2020-06-20T17:46:17.923764Z",
     "start_time": "2020-06-20T17:46:17.814758Z"
    }
   },
   "outputs": [],
   "source": [
    "class Fruta_repr_nice(Fruta): # Esta clase hereda de Fruta        \n",
    "    def _repr_html_(self): # y le agrega este atributo\n",
    "        return f'<p style=\"color:blue\">Soy una {self.nombre} de color {self.color}</p>'\n",
    "    \n",
    "a = Fruta_repr_nice('rojo', 'manzana')\n",
    "print(a)  # Print no entiende _repr_html_\n",
    "display(a) # En cambio disply lo interpreta como HTML"
   ]
  },
  {
   "cell_type": "markdown",
   "metadata": {},
   "source": [
    "## Imprimiendo imágenes con el objeto `Image`\n",
    "\n",
    "Usando este objeto podemos mostrar una imagen en formato JPG, PNG o GIF que esté en nuestro disco duro o una URL (dirección web)\n",
    "\n",
    "Para mostrar una imagen llamada `mi_imagen.jpg` en nuestro directorio local \n",
    "\n",
    "```python\n",
    ">>> from IPython.display import Image\n",
    ">>> display(Image(filename=\"mi_imagen.jpg\"))\n",
    "```\n",
    "\n",
    "Se debe especificar al menos uno de los siguientes argumentos\n",
    "\n",
    "```python\n",
    "Image(data, # Tira binaria que representa una imagen, requiere especificar format (abajo)\n",
    "      url, # dirección web a un archivo en una página web\n",
    "      filename, # dirección local a un archivo en nuestro disco duro\n",
    "      ...\n",
    "     )\n",
    "```\n",
    "\n",
    "Los siguientes argumentos son opcionales\n",
    "\n",
    "```python\n",
    "Image(...\n",
    "      format, # String, formato de la imagen, solo necesario para la entrada data\n",
    "      embed, # Bool, indica si el archivo se guardará en la metadata del notebook\n",
    "      width, # Entero, ancho del cuadro a mostrar, por defecto se usa el tamaño real de la imagen\n",
    "      height, # Entero, alto del cuadro a mostrar\n",
    "      ...\n",
    "     )\n",
    "```\n",
    "\n",
    "> Recordemos que también se puede mostrar una imagen con `matplotlib` importándola con `imread` y dibujándola con `imshow`. Si sólo nos interesa mostrar la imagen y no vamos a ocupar su data entonces `Image` es más conveniente\n"
   ]
  },
  {
   "cell_type": "markdown",
   "metadata": {},
   "source": [
    "**Breve nota sobre una imagen digital**\n",
    "\n",
    "Una imagen digital es un arreglo multidimensional de $N\\times M\\times C$, donde $N$ es el alto, $M$ es el ancho y $C$ es la cantidad de canales. Tipicamente tiene 3 canales (RGB o HSV, o YCbCr)\n",
    "\n",
    "En cada posición individual fila, columna existe una tupla de 3 valores denominada pixel\n",
    "\n",
    "Cada elemento de la tupla se representa como un valor entero sin signo de 8 bits $[0, 255]$, es decir un Byte \n",
    "\n",
    "El computador interpreta valores más altos como más brillantes (más cercanos al blanco) y valores más bajos como más oscuros (más cercanos al negro)"
   ]
  },
  {
   "cell_type": "markdown",
   "metadata": {},
   "source": [
    "## Reproducción de sonido con el objeto `Audio`\n",
    "\n",
    "\n",
    "Este objeto crea un reproductor de sonido con controles play/pause a partir de un archivo de audio, una URL o un arreglo de datos, por ejemplo\n",
    "\n",
    "```python\n",
    ">>> from IPython.display import Audio\n",
    ">>> display(Audio(filename=\"mi_audio.ogg\"))\n",
    "```\n",
    "\n",
    "Se debe especificar al menos uno de los siguientes argumentos\n",
    "\n",
    "```python\n",
    "Audio(data, # Lista o ndarray que se interpreterá como audio crudo de uno (mono) o dos canales (stereo)\n",
    "      url, # dirección web a un archivo en una página web\n",
    "      filename, # dirección local a un archivo en nuestro disco duro\n",
    "      ...\n",
    "     )\n",
    "```\n",
    "\n",
    "El tipo de archivo soportado depende del browser (wav y ogg funcionan por defecto)\n",
    "\n",
    "Los siguientes argumentos son opcionales\n",
    "\n",
    "```python\n",
    "Audio(...\n",
    "      embed, # Bool, indica si el archivo se guardará en la metadata del notebook\n",
    "      rate, # Entero, especifica la frecuencia de muestreo si usamos data (nota abajo)\n",
    "      autoplay, # Bool, indica si el sonido debe empezar a reproducirse inmediatamente\n",
    "      normalize, # Bool, indica si se debe reescalar el sonido entre [-1,1]\n",
    "      ...\n",
    "     )\n",
    "```\n"
   ]
  },
  {
   "cell_type": "markdown",
   "metadata": {},
   "source": [
    "**Breve nota sobre sonido**\n",
    "\n",
    "Un sonido es una **vibración** en el espacio en una determinada **frecuencia de oscilación** que puede ser percibida por nuestro oido\n",
    "\n",
    "Podemos sintetizar un sonido como una serie de tiempo usando funciones trigonométricas, por ejemplo\n",
    "\n",
    "$$\n",
    "s(t) = A \\cos (2 \\pi t f_0 + \\phi)\n",
    "$$\n",
    "\n",
    "donde $A$, la amplitud, está asociado al volumen y $f_0$, frecuencia de oscilación, corresponde al tono \n",
    "\n",
    "Por ejemplo si $f_0 = 440 [Hz]$ estaríamos creando una nota A4 (La), que corresponde a la [tecla 49 de un piano](https://en.wikipedia.org/wiki/Piano_key_frequencies)\n"
   ]
  },
  {
   "cell_type": "markdown",
   "metadata": {},
   "source": [
    "**Breve nota sobre audio**\n",
    "\n",
    "El audio es una señal que representa un sonido\n",
    "\n",
    "> Un archivo de audio digital descomprimido (wav/pcm) es una secuencia de valores que corresponden a la amplitud en función del tiempo\n",
    "\n",
    "Los valores pueden ser enteros sin signo o flotantes en el rango [-1, 1]\n",
    "\n",
    "> Para que un arreglo se interprete como audio se debe especificar la frecuencia o tasa de muestreo, es decir la velocidad a la que se reproduce el audio\n",
    "\n",
    "La frecuencia de muestreo típica es de 44100 Hz, es decir que en 1 segundo de reproducción el computador ha leido un arreglo de 44100 valores\n",
    "\n",
    "Podemos crear un tono fundamental con NumPy usando:\n",
    "\n",
    "```python\n",
    ">>> Fs = 44100 # Frecuencia de muestreo\n",
    ">>> tiempo = np.arange(0.0, 1.0, step=1./Fs) # La separación entre dos tiempos es 1/Fs\n",
    ">>> audio = np.cos(2.0*np.pi*tiempo*440.0) # Nota A4\n",
    ">>> display(Audio(data=audio, rate=Fs))\n",
    "```\n"
   ]
  },
  {
   "cell_type": "markdown",
   "metadata": {},
   "source": [
    "## Reproducción de video con el objeto  `Video`\n",
    "\n",
    "Crea un reproductor con los mismos controles del objeto `Audio` para un archivo de video\n",
    "\n",
    "El archivo puede estar en nuestro disco duro en una URL\n",
    "\n",
    "Se usa de forma equivalente a `Image` (mismos argumentos)\n",
    "\n",
    "Adicionalmente existen los objetos `YouTubeVideo` y `VimeoVideo` para embeber videos de estas plataformas"
   ]
  },
  {
   "cell_type": "markdown",
   "metadata": {},
   "source": [
    "##  Código fuente formateado con el objeto `Code`\n",
    "\n",
    "Este objeto imprime código fuente con colores la sintáxis, sus argumentos son\n",
    "\n",
    "```python\n",
    "Code(data=None, # Un string con código fuente\n",
    "     url=None,  # Una URL a un archivo de código fuente en un servidor\n",
    "     filename=None, # Un archivo de código fuente en nuestro disco duro\n",
    "     language=None # Para especificar el lenguaje que se usará para resaltar color\n",
    "    )\n",
    "```\n"
   ]
  },
  {
   "cell_type": "markdown",
   "metadata": {},
   "source": [
    "## Mostrando Objeto `HTML`\n",
    "\n",
    "Muestra una página web o un fragmento de página web escrito en HTML\n",
    "\n",
    "```python\n",
    "HTML(data=None, # String, texto plano en lenguaje HTML\n",
    "     url=None, # Una URL a un archivo HTML\n",
    "     filename=None, # Una ruta a un archivo HTML en nuestro sistema\n",
    "     ...\n",
    "    )\n",
    "```\n",
    "\n"
   ]
  },
  {
   "cell_type": "markdown",
   "metadata": {},
   "source": [
    "**Breve nota sobre HTML**\n",
    "\n",
    "HyperText Markup Language (HTML) es un lenguaje de marcado (markup) para diseñar documentos que serán mostrados por un navegador (browser)\n",
    "\n",
    "HTML en conjunto a Cascading Style Sheets (CSS) y a JavaScript son los ingredientes fundamentals de una página web\n",
    "\n",
    "HTML permite crear documentos estructurados con encabezados, párrafos, enlaces, imágenes, audio y video\n",
    "\n",
    "Cada uno de estos elementos se escribe con uno o dos **tags**, por ejemplo\n",
    "\n",
    "```HTML\n",
    "<h1> Esto es un encabezado</h1>\n",
    "<p style=\"color:red;text-align:center\"> Esto es un parrafo centrado y de color rojo</p>\n",
    "<img src=\"mi_imagen.jpg\">\n",
    "```"
   ]
  },
  {
   "cell_type": "markdown",
   "metadata": {},
   "source": [
    "## Ejercicios prácticos"
   ]
  },
  {
   "cell_type": "markdown",
   "metadata": {},
   "source": [
    "Muestre la imagen `img/valdivia.png` usando el objeto `Image`"
   ]
  },
  {
   "cell_type": "code",
   "execution_count": null,
   "metadata": {
    "ExecuteTime": {
     "end_time": "2020-06-20T17:46:17.991905Z",
     "start_time": "2020-06-20T17:46:17.927219Z"
    }
   },
   "outputs": [],
   "source": [
    "# Solución\n",
    "from IPython.display import Image\n",
    "display(Image('img/valdivia.png'))"
   ]
  },
  {
   "cell_type": "markdown",
   "metadata": {},
   "source": [
    "Genere un tono fundamental con frecuencia $220Hz$, amplitud $0.25$ y duración $0.5s$ y reproduzcalo usando el objeto `Audio` con la opción `normalize=False`"
   ]
  },
  {
   "cell_type": "code",
   "execution_count": null,
   "metadata": {},
   "outputs": [],
   "source": [
    "# Solución\n",
    "from IPython.display import Audio\n",
    "Fs = 48000\n",
    "time = np.arange(0, 2, step=1./Fs)\n",
    "data = 0.1*np.cos(2.0*np.pi*time*440)\n",
    "display(Audio(data, rate=Fs, normalize=False))"
   ]
  },
  {
   "cell_type": "markdown",
   "metadata": {},
   "source": [
    "Reproduzca el video `magister.mp4` usando el objeto `Video` en un tamaño de 426×240 "
   ]
  },
  {
   "cell_type": "code",
   "execution_count": null,
   "metadata": {},
   "outputs": [],
   "source": [
    "# Solución\n",
    "from IPython.display import Video\n",
    "display(Video(\"magister.mp4\", width=426, height=240))"
   ]
  },
  {
   "cell_type": "markdown",
   "metadata": {},
   "source": [
    "Reproduzca su video favorito de Youtube usando el objeto `YoutubeVideo`"
   ]
  },
  {
   "cell_type": "code",
   "execution_count": null,
   "metadata": {},
   "outputs": [],
   "source": [
    "# Solución\n",
    "from IPython.display import YouTubeVideo\n",
    "display(YouTubeVideo(\"ywWBy6J5gz8\"))"
   ]
  },
  {
   "cell_type": "markdown",
   "metadata": {},
   "source": [
    "Escriba su nombre en tamaño `20pt` y de color azul usando [lenguaje HTML](https://www.w3schools.com/html/html_styles.asp) y muestrelo usando el objeto `HTML`"
   ]
  },
  {
   "cell_type": "code",
   "execution_count": null,
   "metadata": {},
   "outputs": [],
   "source": [
    "# Solución\n",
    "from IPython.display import HTML\n",
    "display(HTML('<p style=\"font-size:20pt;color:blue;\">Pablo Huijse\\n</p>'))"
   ]
  },
  {
   "cell_type": "markdown",
   "metadata": {},
   "source": [
    "Muestre el código de `script_interesante.py` usando el objeto `Code`"
   ]
  },
  {
   "cell_type": "code",
   "execution_count": null,
   "metadata": {},
   "outputs": [],
   "source": [
    "# Solución\n",
    "from IPython.display import Code\n",
    "display(Code(\"script_interesante.py\"))"
   ]
  },
  {
   "cell_type": "markdown",
   "metadata": {},
   "source": [
    "**Solución paso a paso con comentarios**"
   ]
  },
  {
   "cell_type": "code",
   "execution_count": null,
   "metadata": {
    "ExecuteTime": {
     "end_time": "2020-06-20T17:46:18.206299Z",
     "start_time": "2020-06-20T17:46:17.995128Z"
    }
   },
   "outputs": [],
   "source": [
    "YouTubeVideo_formato('yD-V-4tZlgI')"
   ]
  }
 ],
 "metadata": {
  "kernelspec": {
   "display_name": "Python 3",
   "language": "python",
   "name": "python3"
  },
  "language_info": {
   "codemirror_mode": {
    "name": "ipython",
    "version": 3
   },
   "file_extension": ".py",
   "mimetype": "text/x-python",
   "name": "python",
   "nbconvert_exporter": "python",
   "pygments_lexer": "ipython3",
   "version": "3.7.10"
  },
  "toc": {
   "base_numbering": 1,
   "nav_menu": {},
   "number_sections": true,
   "sideBar": true,
   "skip_h1_title": false,
   "title_cell": "Table of Contents",
   "title_sidebar": "Contents",
   "toc_cell": false,
   "toc_position": {
    "height": "calc(100% - 180px)",
    "left": "10px",
    "top": "150px",
    "width": "294.4px"
   },
   "toc_section_display": true,
   "toc_window_display": true
  }
 },
 "nbformat": 4,
 "nbformat_minor": 2
}
