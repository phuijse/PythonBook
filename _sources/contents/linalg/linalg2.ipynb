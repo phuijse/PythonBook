{
 "cells": [
  {
   "cell_type": "markdown",
   "metadata": {},
   "source": [
    "# Problema de los valores y vectores propios\n",
    "\n",
    "Existen [múltiples sistemas en física](https://en.wikipedia.org/wiki/Eigenvalues_and_eigenvectors#Applications) que [ocurren naturalmente](https://hubpages.com/education/What-the-Heck-are-Eigenvalues-and-Eigenvectors) como un problema de valores/vectores propios. En esta lección veremos como resolver un problema de este tipo utilizando Python.\n",
    "\n",
    "## Formulación matemática\n",
    "\n",
    "Sea una matriz cuadrada $A \\in \\mathbb{R}^{D\\times D}$. El siguiente sistema de ecuaciones de $D$ ecuaciones\n",
    "\n",
    "$$\n",
    "A \\vec v = \\lambda I \\vec v \n",
    "$$\n",
    "\n",
    "que se puede escribir de forma equivalente como\n",
    "\n",
    "$$\n",
    "(A - \\lambda I) \\vec v = 0\n",
    "$$\n",
    "\n",
    "tiene como resultado \n",
    "\n",
    "- $\\lambda$, los valores propios de $A$\n",
    "- $\\vec v$ los vectores propios de $A$\n",
    "\n",
    "La solución no trivial de este problema ($\\vec v \\neq 0$) se obtiene si $(A - \\lambda I)$ es singular, es decir\n",
    "\n",
    "$$\n",
    "|A - \\lambda I | = 0\n",
    "$$\n",
    "\n",
    "que resulta en un polinomio de grado $D$ cuyas raices son $\\{\\lambda_i\\}$, $i=1,2,\\ldots, D$\n",
    "\n",
    "Una vez determinado $\\lambda_i$ se pueden usar para despejar $\\vec v_i$"
   ]
  },
  {
   "cell_type": "markdown",
   "metadata": {},
   "source": [
    "**Ejemplo**\n",
    "\n",
    "Para la matriz $A$ del ejemplo, si igualamos su determinante a cero tenemos\n",
    "\n",
    "$$\n",
    "(1 - \\lambda)^2 - 1/4 = 3/4 - 2\\lambda + \\lambda^2 = 0\n",
    "$$\n",
    "\n",
    "osea $\\lambda_1 = 1.5$ y $\\lambda_2 = 0.5$. Luego para el primer vector propio tenemos un sistema de ecuaciones\n",
    "\n",
    "$$\n",
    "\\begin{split}\n",
    "-0.5v_{11} +0.5v_{12} &= 0 \\\\\n",
    "0.5 v_{11} -0.5v_{12} &= 0\n",
    "\\end{split}\n",
    "$$\n",
    "\n",
    "osea $v_{11} = v_{12}$ con esto podemos construir un vector normalizado genérico $v_1 = \\frac{1}{\\sqrt{2}}\\begin{pmatrix} 1 \\\\ 1 \\end{pmatrix}$\n",
    "\n",
    "De forma equivalente para $v_2 = \\frac{1}{\\sqrt{2}}\\begin{pmatrix} -1 \\\\ 1 \\end{pmatrix}$\n",
    "\n",
    "## Cálculo de valores y vectores propios con scipy\n",
    "\n",
    "El módulo [`linalg`](https://docs.scipy.org/doc/scipy/reference/linalg.html) de scipy ofrece funciones para obtener vectores y valores propios. Los de aplicación más común son:\n",
    "\n",
    "- `eig(X)`: Retorna una tupla con los valores y vectores propios de `X`\n",
    "- `eigvals(X)`: Retorna los valores propios de `X`\n",
    "- `eigh(X)`: Retorna una tupla con los valores y vectores propios de `X`, asumiendo que `X` tiene simetría hermítica\n",
    "- `eigvalsh(X)`: Retorna los valores propios de `X`, asumiendo que `X` tiene simetría hermítica\n",
    "\n",
    "Utilicemos `eig` para el ejemplo anterior: "
   ]
  },
  {
   "cell_type": "code",
   "execution_count": 1,
   "metadata": {},
   "outputs": [
    {
     "data": {
      "text/plain": [
       "(array([1.5+0.j, 0.5+0.j]),\n",
       " array([[ 0.70710678, -0.70710678],\n",
       "        [ 0.70710678,  0.70710678]]))"
      ]
     },
     "execution_count": 1,
     "metadata": {},
     "output_type": "execute_result"
    }
   ],
   "source": [
    "import numpy as np\n",
    "import scipy.linalg\n",
    "\n",
    "A = np.array([[1., 0.5], [0.5, 1]])\n",
    "evals, evecs = scipy.linalg.eig(A)\n",
    "evals, evecs"
   ]
  },
  {
   "cell_type": "markdown",
   "metadata": {},
   "source": [
    "## Descomposicion en valores propios\n",
    "\n",
    "Una aplicación importante del problema de valores/vectores propios es la **descomposición en vectores propios**\n",
    "\n",
    "**Principal Component Analysis (PCA):** Es un procedimiento estadístico que busca una **transformación ortogonal** para los datos que logre **maximizar su varianza**\n",
    "\n",
    "Un conjunto de datos $\\{x_i\\}$ con $i=1,2,\\ldots, M$ y $x_i \\in \\mathbb{R}^D$\n",
    "\n",
    "Podemos escribirlo como una matriz $X \\in \\mathbb{R}^{M\\times D}$\n",
    "\n",
    "Asumiendo que los datos **tienen media cero**, podemos calcular su matriz de correlación como \n",
    "$$\n",
    "C = \\frac{1}{M} X^T X\n",
    "$$\n",
    "\n",
    "donde $C \\in \\mathbb{R}^{D\\times D}$ y $\\bar X$ es la media del conjunto\n",
    "\n",
    "Llamemos $W \\in \\mathbb{R}^{D\\times D}$ a la matriz de proyección y $X' = X W$ los datos proyectados\n",
    "\n",
    "- Varianza de $X'$: $\\frac{1}{M} X'^T X' = \\frac{1}{M} W^T X^T X W = W^T C W$\n",
    "- Ortogonalidad: $W^T W = I$\n",
    "\n",
    "Luego el problema de PCA se puede escribir como\n",
    "\n",
    "$$\n",
    "\\max_W W^T C W \\text{ sujeto a } W^T W = I\n",
    "$$\n",
    "\n",
    "Si usamos *multiplicadores de Lagrange* para incluir la restricción. Luego derivamos e igualamos a cero\n",
    "\n",
    "$$\n",
    "\\begin{align}\n",
    "\\frac{d}{dW} W^T C W + \\Lambda(I- W^T W) &= 0 \\nonumber \\\\ \n",
    "CW - \\Lambda W &= 0 \\nonumber\n",
    "\\end{align}\n",
    "$$\n",
    "\n",
    "donde $\\Lambda = \\lambda I$ y $\\lambda = (\\lambda_1, \\lambda_2, \\ldots, \\lambda_D)$\n",
    "\n",
    ":::{important}\n",
    "\n",
    "La transformación de PCA consiste en encontrar los valores y vectores propios de $C$\n",
    "\n",
    ":::"
   ]
  },
  {
   "cell_type": "markdown",
   "metadata": {},
   "source": [
    "**Ejemplo**\n",
    "\n",
    "Sean los siguientes datos bidimensionales"
   ]
  },
  {
   "cell_type": "code",
   "execution_count": 2,
   "metadata": {},
   "outputs": [],
   "source": [
    "np.random.seed(12345)\n",
    "X = np.random.multivariate_normal([0, 0], [[0.5, -0.7], [-0.7, 1]], size=1000)"
   ]
  },
  {
   "cell_type": "markdown",
   "metadata": {},
   "source": [
    "Usaremos PCA para encontrar los ejes coordenados de máxima varianza y graficarlos "
   ]
  },
  {
   "cell_type": "code",
   "execution_count": 3,
   "metadata": {},
   "outputs": [],
   "source": [
    "# Se resta la media\n",
    "X_ = X - np.mean(X, axis=0, keepdims=True)\n",
    "# Se calcula la covarianza\n",
    "C = np.dot(X_.T, X_)/len(X_)\n",
    "# Se calculan los valores y vectores propios de la covarianza\n",
    "L, W = scipy.linalg.eigh(C)\n",
    "# Se proyectan los datos\n",
    "U = np.dot(X, W)"
   ]
  },
  {
   "cell_type": "code",
   "execution_count": 4,
   "metadata": {},
   "outputs": [
    {
     "data": {
      "image/png": "[encoded data removed]",
      "text/plain": [
       "<Figure size 432x288 with 2 Axes>"
      ]
     },
     "metadata": {
      "needs_background": "light"
     },
     "output_type": "display_data"
    }
   ],
   "source": [
    "%matplotlib inline\n",
    "import matplotlib.pyplot as plt\n",
    "\n",
    "arrow_args = {'width': 0.05, 'length_includes_head': True, 'alpha': 0.5}\n",
    "fig, ax = plt.subplots(1, 2, figsize=(6, 4), tight_layout=True, sharex=True, sharey=True)\n",
    "\n",
    "ax[0].scatter(X[:, 0], X[:, 1], s=10);\n",
    "ax[0].set_aspect('equal'); \n",
    "ax[1].set_aspect('equal'); \n",
    "\n",
    "for i, c in enumerate(['g', 'r']):\n",
    "    ax[0].arrow(0, 0, W[i, 0], W[i, 1], color=c, **arrow_args)\n",
    "    ax[0].text(W[i, 0]+0.1, W[i, 1]+0.1, \"%0.3f\" %(L[i]/np.sum(L)))\n",
    "    \n",
    "ax[1].scatter(U[:, 0], U[:, 1])\n",
    "ax[1].spines['bottom'].set_color('g')\n",
    "ax[1].spines['left'].set_color('r')"
   ]
  },
  {
   "cell_type": "markdown",
   "metadata": {},
   "source": [
    "**Resultado:** \n",
    "\n",
    "- El eje rojo acumula un 99.6% de la varianza\n",
    "- El eje verde es ortogonal al rojo\n",
    "- Los nuevos ejes están decorrelacionados con respecto a los originales\n",
    "\n",
    "\n",
    ":::{note}\n",
    "\n",
    "PCA suele utilizarse como descartar variables poco informativas en un paso previo al entrenamiento de modelos de predicción. Profundizaremos en esto más adelante\n",
    "\n",
    ":::"
   ]
  },
  {
   "cell_type": "code",
   "execution_count": null,
   "metadata": {},
   "outputs": [],
   "source": []
  }
 ],
 "metadata": {
  "kernelspec": {
   "display_name": "Python 3 (ipykernel)",
   "language": "python",
   "name": "python3"
  },
  "language_info": {
   "codemirror_mode": {
    "name": "ipython",
    "version": 3
   },
   "file_extension": ".py",
   "mimetype": "text/x-python",
   "name": "python",
   "nbconvert_exporter": "python",
   "pygments_lexer": "ipython3",
   "version": "3.8.12"
  },
  "toc": {
   "base_numbering": 1,
   "nav_menu": {},
   "number_sections": true,
   "sideBar": true,
   "skip_h1_title": false,
   "title_cell": "Table of Contents",
   "title_sidebar": "Contents",
   "toc_cell": false,
   "toc_position": {},
   "toc_section_display": true,
   "toc_window_display": false
  }
 },
 "nbformat": 4,
 "nbformat_minor": 2
}
