{
 "cells": [
  {
   "cell_type": "markdown",
   "metadata": {},
   "source": [
    "# Problema de los valores y vectores propios\n",
    "\n",
    "Existen [múltiples sistemas en física](https://en.wikipedia.org/wiki/Eigenvalues_and_eigenvectors#Applications) que [ocurren naturalmente](https://hubpages.com/education/What-the-Heck-are-Eigenvalues-and-Eigenvectors) como un problema de valores/vectores propios. En esta lección veremos como resolver un problema de este tipo utilizando Python.\n",
    "\n",
    "## Formulación matemática\n",
    "\n",
    "Sea una matriz cuadrada $A \\in \\mathbb{R}^{D\\times D}$. El siguiente sistema de ecuaciones de $D$ ecuaciones\n",
    "\n",
    "$$\n",
    "A \\vec v = \\lambda I \\vec v \n",
    "$$\n",
    "\n",
    "que se puede escribir de forma equivalente como\n",
    "\n",
    "$$\n",
    "(A - \\lambda I) \\vec v = 0\n",
    "$$\n",
    "\n",
    "tiene como resultado \n",
    "\n",
    "- $\\lambda$, los valores propios de $A$\n",
    "- $\\vec v$ los vectores propios de $A$\n",
    "\n",
    "La solución no trivial de este problema ($\\vec v \\neq 0$) se obtiene si $(A - \\lambda I)$ es singular, es decir\n",
    "\n",
    "$$\n",
    "|A - \\lambda I | = 0\n",
    "$$\n",
    "\n",
    "que resulta en un polinomio de grado $D$ cuyas raices son $\\{\\lambda_i\\}$, $i=1,2,\\ldots, D$\n",
    "\n",
    "Una vez determinado $\\lambda_i$ se pueden usar para despejar $\\vec v_i$"
   ]
  },
  {
   "cell_type": "markdown",
   "metadata": {},
   "source": [
    "**Ejemplo**\n",
    "\n",
    "Para la matriz $A$ del ejemplo, si igualamos su determinante a cero tenemos\n",
    "\n",
    "$$\n",
    "(1 - \\lambda)^2 - 1/4 = 3/4 - 2\\lambda + \\lambda^2 = 0\n",
    "$$\n",
    "\n",
    "osea $\\lambda_1 = 1.5$ y $\\lambda_2 = 0.5$. Luego para el primer vector propio tenemos un sistema de ecuaciones\n",
    "\n",
    "$$\n",
    "\\begin{split}\n",
    "-0.5v_{11} +0.5v_{12} &= 0 \\\\\n",
    "0.5 v_{11} -0.5v_{12} &= 0\n",
    "\\end{split}\n",
    "$$\n",
    "\n",
    "osea $v_{11} = v_{12}$ con esto podemos construir un vector normalizado genérico $v_1 = \\frac{1}{\\sqrt{2}}\\begin{pmatrix} 1 \\\\ 1 \\end{pmatrix}$\n",
    "\n",
    "De forma equivalente para $v_2 = \\frac{1}{\\sqrt{2}}\\begin{pmatrix} -1 \\\\ 1 \\end{pmatrix}$\n",
    "\n",
    "## Cálculo de valores y vectores propios con scipy\n",
    "\n",
    "El módulo [`linalg`](https://docs.scipy.org/doc/scipy/reference/linalg.html) de scipy ofrece funciones para obtener vectores y valores propios. Los de aplicación más común son:\n",
    "\n",
    "- `eig(X)`: Retorna una tupla con los valores y vectores propios de `X`\n",
    "- `eigvals(X)`: Retorna los valores propios de `X`\n",
    "- `eigh(X)`: Retorna una tupla con los valores y vectores propios de `X`, asumiendo que `X` tiene simetría hermítica\n",
    "- `eigvalsh(X)`: Retorna los valores propios de `X`, asumiendo que `X` tiene simetría hermítica\n",
    "\n",
    "Utilicemos `eig` para el ejemplo anterior: "
   ]
  },
  {
   "cell_type": "code",
   "execution_count": 1,
   "metadata": {},
   "outputs": [
    {
     "data": {
      "text/plain": [
       "(array([1.5+0.j, 0.5+0.j]),\n",
       " array([[ 0.70710678, -0.70710678],\n",
       "        [ 0.70710678,  0.70710678]]))"
      ]
     },
     "execution_count": 1,
     "metadata": {},
     "output_type": "execute_result"
    }
   ],
   "source": [
    "import numpy as np\n",
    "import scipy.linalg\n",
    "\n",
    "A = np.array([[1., 0.5], [0.5, 1]])\n",
    "evals, evecs = scipy.linalg.eig(A)\n",
    "evals, evecs"
   ]
  },
  {
   "cell_type": "markdown",
   "metadata": {},
   "source": [
    "## Descomposición en valores y vectores propios"
   ]
  },
  {
   "cell_type": "markdown",
   "metadata": {},
   "source": []
  },
  {
   "cell_type": "code",
   "execution_count": null,
   "metadata": {},
   "outputs": [],
   "source": []
  }
 ],
 "metadata": {
  "kernelspec": {
   "display_name": "Python 3 (ipykernel)",
   "language": "python",
   "name": "python3"
  },
  "language_info": {
   "codemirror_mode": {
    "name": "ipython",
    "version": 3
   },
   "file_extension": ".py",
   "mimetype": "text/x-python",
   "name": "python",
   "nbconvert_exporter": "python",
   "pygments_lexer": "ipython3",
   "version": "3.8.12"
  },
  "toc": {
   "base_numbering": 1,
   "nav_menu": {},
   "number_sections": true,
   "sideBar": true,
   "skip_h1_title": false,
   "title_cell": "Table of Contents",
   "title_sidebar": "Contents",
   "toc_cell": false,
   "toc_position": {},
   "toc_section_display": true,
   "toc_window_display": false
  }
 },
 "nbformat": 4,
 "nbformat_minor": 2
}
