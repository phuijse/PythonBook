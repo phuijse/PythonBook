{
 "cells": [
  {
   "cell_type": "markdown",
   "metadata": {},
   "source": [
    "# Breve tutorial de Jupyter y IPython\n",
    "\n",
    "## Uso básico\n",
    "\n",
    "Al abrir el frontend web de jupyter veremos tres pestañas: *Files*, *Running* y *Clusters*.\n",
    "\n",
    "<img src=\"img/jupyter_interface1.png\">\n",
    "\n",
    "\n",
    "- Files: Permite navegar por nuestro sistema, manipular archivos/carpetas y abrir cuadernillos/scripts\n",
    "- Running: Muestra y permite terminar los cuadernillos en ejecución.\n",
    "- Clusters: Para controlar conjuntos de ejecutores o kernels de IPython para hacer cómputo multiproceso.\n",
    "\n",
    "Si creamos o seleccionamos un cuadernillo veremos la siguiente interfaz:\n",
    "\n",
    "<img src=\"img/jupyter_interface2.png\">\n",
    "\n",
    "Que tiene dos secciones principales\n",
    "\n",
    "- Encabezado: Muestra el título y barras de herramientas y comandos.\n",
    "- Cuerpo: Colección de **celdas** para código y texto enriquecido.\n",
    "\n",
    "El código o lenguaje de programación depende del kernel que se esté utilizando. En cambio el texto enriquecido siempre se escribe en lenguaje [*markdown*](https://www.markdownguide.org/).\n",
    "\n",
    "Las celdas de código o texto tienen dos modos:\n",
    "\n",
    "- Modo edición indicado por un borde verde: Permite editar el  contenido de la celda.\n",
    "- modo comando indicado por un borde azul: Permite mover, cortar, copiar la celda.\n",
    "\n",
    "En lo que sigue veremos algunos aspectos características de las celdas de código enfocándonos en sus diferencias con *scripts* regulares de Python. \n",
    "\n",
    ":::{hint}\n",
    "\n",
    "Se recomienda aprender los siguientes atajos de teclado (keyboard shortcuts):\n",
    "\n",
    "- Ejecución: <kbd>Shift+Enter</kbd> y <kbd>Ctrl+Enter</kbd>\n",
    "- Creación: <kbd>a</kbd> y <kbd>b</kbd>\n",
    "- Copiar y pegar celdas: <kbd>c</kbd> y  <kbd>v</kbd>\n",
    "- Cambio de tipo: <kbd>m</kbd> y <kbd>y</kbd>\n",
    "- Salvar: <kbd>Ctrl+s</kbd>\n",
    "\n",
    "Puede consultar la lista completa de atajos con <kbd>h</kbd> o bajo el menú Help.\n",
    "\n",
    ":::"
   ]
  },
  {
   "cell_type": "markdown",
   "metadata": {},
   "source": [
    "## Editando y ejecutando un bloque de código"
   ]
  },
  {
   "cell_type": "markdown",
   "metadata": {},
   "source": [
    "La última línea de ejecución de un bloque se imprime como salida "
   ]
  },
  {
   "cell_type": "code",
   "execution_count": 1,
   "metadata": {},
   "outputs": [
    {
     "data": {
      "text/plain": [
       "1412043130"
      ]
     },
     "execution_count": 1,
     "metadata": {},
     "output_type": "execute_result"
    }
   ],
   "source": [
    "x = 1412043130\n",
    "x"
   ]
  },
  {
   "cell_type": "markdown",
   "metadata": {},
   "source": [
    "Las variables y módulos que se crean/importan en un bloque puede ser llamados desde otro bloque"
   ]
  },
  {
   "cell_type": "code",
   "execution_count": 2,
   "metadata": {},
   "outputs": [
    {
     "data": {
      "text/plain": [
       "1412043130"
      ]
     },
     "execution_count": 2,
     "metadata": {},
     "output_type": "execute_result"
    }
   ],
   "source": [
    "x"
   ]
  },
  {
   "cell_type": "markdown",
   "metadata": {},
   "source": [
    "Para imprimir otras lineas usamos print o display"
   ]
  },
  {
   "cell_type": "code",
   "execution_count": 3,
   "metadata": {},
   "outputs": [
    {
     "name": "stdout",
     "output_type": "stream",
     "text": [
      "2824086260\n"
     ]
    },
    {
     "data": {
      "text/plain": [
       "4236129390"
      ]
     },
     "execution_count": 3,
     "metadata": {},
     "output_type": "execute_result"
    }
   ],
   "source": [
    "print(2*x)\n",
    "3*x"
   ]
  },
  {
   "cell_type": "markdown",
   "metadata": {},
   "source": [
    "Se puede suprimir la salida terminando la expresión con ;"
   ]
  },
  {
   "cell_type": "code",
   "execution_count": 4,
   "metadata": {},
   "outputs": [],
   "source": [
    "x;"
   ]
  },
  {
   "cell_type": "markdown",
   "metadata": {},
   "source": [
    "## Ayuda y autocompletación en Jupyter\n",
    "\n",
    "- Si escribes `?` después de un módulo se levantará el docstring de ese módulo\n",
    "- Si escribes `??` después de un módulo se levantará el código fuente de ese código\n",
    "\n",
    "Por ejemplo"
   ]
  },
  {
   "cell_type": "code",
   "execution_count": 5,
   "metadata": {
    "code_folding": []
   },
   "outputs": [],
   "source": [
    "def funcion_interesante(x, y):\n",
    "    \"\"\"\n",
    "    Esta es una función interesante que suma sus argumentos\n",
    "    Argumentos: x, y\n",
    "    \"\"\"\n",
    "    return x + y"
   ]
  },
  {
   "cell_type": "markdown",
   "metadata": {},
   "source": [
    "Si escribes `funcion_interesante??` deberías ver una pestaña como la siguiente\n",
    "\n",
    "<img src=\"img/jupyter2.png\" width=\"850\">"
   ]
  },
  {
   "cell_type": "markdown",
   "metadata": {},
   "source": [
    "En un bloque de código puedes usar <kbd>TAB</kbd> para autocompletar nombres de variables, módulos o rutas \n",
    "\n",
    "También puedes usar <kbd>Shift+TAB</kbd> para levantar el docstring de una función\n",
    "\n",
    "Si usas esto con `funcion_interesante` deberías ver algo como\n",
    "\n",
    "<img src=\"img/jupyter1.png\" width=\"700\">"
   ]
  },
  {
   "cell_type": "markdown",
   "metadata": {},
   "source": [
    "## \"Magias\" de IPython"
   ]
  },
  {
   "cell_type": "markdown",
   "metadata": {},
   "source": [
    "Las magias son comandos especiales de IPython que se llama con el operador `%`\n",
    "\n",
    "Las \"magias\" disponibles son"
   ]
  },
  {
   "cell_type": "code",
   "execution_count": 6,
   "metadata": {
    "scrolled": true
   },
   "outputs": [
    {
     "data": {
      "application/json": {
       "cell": {
        "!": "OSMagics",
        "HTML": "Other",
        "SVG": "Other",
        "bash": "Other",
        "capture": "ExecutionMagics",
        "debug": "ExecutionMagics",
        "file": "Other",
        "html": "DisplayMagics",
        "javascript": "DisplayMagics",
        "js": "DisplayMagics",
        "latex": "DisplayMagics",
        "markdown": "DisplayMagics",
        "perl": "Other",
        "prun": "ExecutionMagics",
        "pypy": "Other",
        "python": "Other",
        "python2": "Other",
        "python3": "Other",
        "ruby": "Other",
        "script": "ScriptMagics",
        "sh": "Other",
        "svg": "DisplayMagics",
        "sx": "OSMagics",
        "system": "OSMagics",
        "time": "ExecutionMagics",
        "timeit": "ExecutionMagics",
        "writefile": "OSMagics"
       },
       "line": {
        "alias": "OSMagics",
        "alias_magic": "BasicMagics",
        "autoawait": "AsyncMagics",
        "autocall": "AutoMagics",
        "automagic": "AutoMagics",
        "autosave": "KernelMagics",
        "bookmark": "OSMagics",
        "cat": "Other",
        "cd": "OSMagics",
        "clear": "KernelMagics",
        "colors": "BasicMagics",
        "conda": "PackagingMagics",
        "config": "ConfigMagics",
        "connect_info": "KernelMagics",
        "cp": "Other",
        "debug": "ExecutionMagics",
        "dhist": "OSMagics",
        "dirs": "OSMagics",
        "doctest_mode": "BasicMagics",
        "ed": "Other",
        "edit": "KernelMagics",
        "env": "OSMagics",
        "gui": "BasicMagics",
        "hist": "Other",
        "history": "HistoryMagics",
        "killbgscripts": "ScriptMagics",
        "ldir": "Other",
        "less": "KernelMagics",
        "lf": "Other",
        "lk": "Other",
        "ll": "Other",
        "load": "CodeMagics",
        "load_ext": "ExtensionMagics",
        "loadpy": "CodeMagics",
        "logoff": "LoggingMagics",
        "logon": "LoggingMagics",
        "logstart": "LoggingMagics",
        "logstate": "LoggingMagics",
        "logstop": "LoggingMagics",
        "ls": "Other",
        "lsmagic": "BasicMagics",
        "lx": "Other",
        "macro": "ExecutionMagics",
        "magic": "BasicMagics",
        "man": "KernelMagics",
        "matplotlib": "PylabMagics",
        "mkdir": "Other",
        "more": "KernelMagics",
        "mv": "Other",
        "notebook": "BasicMagics",
        "page": "BasicMagics",
        "pastebin": "CodeMagics",
        "pdb": "ExecutionMagics",
        "pdef": "NamespaceMagics",
        "pdoc": "NamespaceMagics",
        "pfile": "NamespaceMagics",
        "pinfo": "NamespaceMagics",
        "pinfo2": "NamespaceMagics",
        "pip": "PackagingMagics",
        "popd": "OSMagics",
        "pprint": "BasicMagics",
        "precision": "BasicMagics",
        "prun": "ExecutionMagics",
        "psearch": "NamespaceMagics",
        "psource": "NamespaceMagics",
        "pushd": "OSMagics",
        "pwd": "OSMagics",
        "pycat": "OSMagics",
        "pylab": "PylabMagics",
        "qtconsole": "KernelMagics",
        "quickref": "BasicMagics",
        "recall": "HistoryMagics",
        "rehashx": "OSMagics",
        "reload_ext": "ExtensionMagics",
        "rep": "Other",
        "rerun": "HistoryMagics",
        "reset": "NamespaceMagics",
        "reset_selective": "NamespaceMagics",
        "rm": "Other",
        "rmdir": "Other",
        "run": "ExecutionMagics",
        "save": "CodeMagics",
        "sc": "OSMagics",
        "set_env": "OSMagics",
        "store": "StoreMagics",
        "sx": "OSMagics",
        "system": "OSMagics",
        "tb": "ExecutionMagics",
        "time": "ExecutionMagics",
        "timeit": "ExecutionMagics",
        "unalias": "OSMagics",
        "unload_ext": "ExtensionMagics",
        "who": "NamespaceMagics",
        "who_ls": "NamespaceMagics",
        "whos": "NamespaceMagics",
        "xdel": "NamespaceMagics",
        "xmode": "BasicMagics"
       }
      },
      "text/plain": [
       "Available line magics:\n",
       "%alias  %alias_magic  %autoawait  %autocall  %automagic  %autosave  %bookmark  %cat  %cd  %clear  %colors  %conda  %config  %connect_info  %cp  %debug  %dhist  %dirs  %doctest_mode  %ed  %edit  %env  %gui  %hist  %history  %killbgscripts  %ldir  %less  %lf  %lk  %ll  %load  %load_ext  %loadpy  %logoff  %logon  %logstart  %logstate  %logstop  %ls  %lsmagic  %lx  %macro  %magic  %man  %matplotlib  %mkdir  %more  %mv  %notebook  %page  %pastebin  %pdb  %pdef  %pdoc  %pfile  %pinfo  %pinfo2  %pip  %popd  %pprint  %precision  %prun  %psearch  %psource  %pushd  %pwd  %pycat  %pylab  %qtconsole  %quickref  %recall  %rehashx  %reload_ext  %rep  %rerun  %reset  %reset_selective  %rm  %rmdir  %run  %save  %sc  %set_env  %store  %sx  %system  %tb  %time  %timeit  %unalias  %unload_ext  %who  %who_ls  %whos  %xdel  %xmode\n",
       "\n",
       "Available cell magics:\n",
       "%%!  %%HTML  %%SVG  %%bash  %%capture  %%debug  %%file  %%html  %%javascript  %%js  %%latex  %%markdown  %%perl  %%prun  %%pypy  %%python  %%python2  %%python3  %%ruby  %%script  %%sh  %%svg  %%sx  %%system  %%time  %%timeit  %%writefile\n",
       "\n",
       "Automagic is ON, % prefix IS NOT needed for line magics."
      ]
     },
     "execution_count": 6,
     "metadata": {},
     "output_type": "execute_result"
    }
   ],
   "source": [
    "%lsmagic"
   ]
  },
  {
   "cell_type": "markdown",
   "metadata": {},
   "source": [
    "Por ejemplo podemos medir el tiempo de ejecución de un bloque usando"
   ]
  },
  {
   "cell_type": "code",
   "execution_count": 7,
   "metadata": {},
   "outputs": [
    {
     "name": "stdout",
     "output_type": "stream",
     "text": [
      "0123456789\n",
      "CPU times: user 88 µs, sys: 8 µs, total: 96 µs\n",
      "Wall time: 89.9 µs\n"
     ]
    }
   ],
   "source": [
    "%%time \n",
    "a = ''\n",
    "for i in range(10):\n",
    "    a += str(i)\n",
    "print(a)"
   ]
  },
  {
   "cell_type": "markdown",
   "metadata": {},
   "source": [
    "O mostrar las variables y librerías que hemos importado a nuestro entorno"
   ]
  },
  {
   "cell_type": "code",
   "execution_count": 8,
   "metadata": {
    "scrolled": true
   },
   "outputs": [
    {
     "name": "stdout",
     "output_type": "stream",
     "text": [
      "a\t funcion_interesante\t i\t x\t \n"
     ]
    }
   ],
   "source": [
    "%who"
   ]
  },
  {
   "cell_type": "markdown",
   "metadata": {},
   "source": [
    "O los comandos que hemos escrito"
   ]
  },
  {
   "cell_type": "code",
   "execution_count": 9,
   "metadata": {},
   "outputs": [
    {
     "name": "stdout",
     "output_type": "stream",
     "text": [
      "x = 1412043130\n",
      "x\n",
      "x\n",
      "print(2*x)\n",
      "3*x\n",
      "x;\n",
      "def funcion_interesante(x, y):\n",
      "    \"\"\"\n",
      "    Esta es una función interesante que suma sus argumentos\n",
      "    Argumentos: x, y\n",
      "    \"\"\"\n",
      "    return x + y\n",
      "%lsmagic\n",
      "%%time \n",
      "a = ''\n",
      "for i in range(10):\n",
      "    a += str(i)\n",
      "print(a)\n",
      "%who\n",
      "%history\n"
     ]
    }
   ],
   "source": [
    "%history"
   ]
  },
  {
   "cell_type": "markdown",
   "metadata": {},
   "source": [
    "También podemos borrar las variables creadas y módulos importados con"
   ]
  },
  {
   "cell_type": "code",
   "execution_count": 10,
   "metadata": {},
   "outputs": [
    {
     "name": "stdout",
     "output_type": "stream",
     "text": [
      "Once deleted, variables cannot be recovered. Proceed (y/[n])? y\n"
     ]
    }
   ],
   "source": [
    "%reset"
   ]
  },
  {
   "cell_type": "markdown",
   "metadata": {},
   "source": [
    "Y setear variables de entorno"
   ]
  },
  {
   "cell_type": "code",
   "execution_count": 11,
   "metadata": {},
   "outputs": [
    {
     "name": "stdout",
     "output_type": "stream",
     "text": [
      "env: OMP_NUM_THREADS=4\n"
     ]
    }
   ],
   "source": [
    "%env OMP_NUM_THREADS=4"
   ]
  },
  {
   "cell_type": "markdown",
   "metadata": {},
   "source": [
    "entre mutras otras opciones útiles que iremos viendo a lo largo del curso"
   ]
  },
  {
   "cell_type": "markdown",
   "metadata": {},
   "source": [
    "**Corriendo un script Python externo**\n",
    "\n",
    "Podemos usar la magia `%run` para ejecutar un script externo"
   ]
  },
  {
   "cell_type": "code",
   "execution_count": 12,
   "metadata": {},
   "outputs": [
    {
     "name": "stdout",
     "output_type": "stream",
     "text": [
      "3628800\n"
     ]
    }
   ],
   "source": [
    "%run script_interesante.py"
   ]
  },
  {
   "cell_type": "code",
   "execution_count": 13,
   "metadata": {},
   "outputs": [
    {
     "data": {
      "text/plain": [
       "3628800"
      ]
     },
     "execution_count": 13,
     "metadata": {},
     "output_type": "execute_result"
    }
   ],
   "source": [
    "1*2*3*4*5*6*7*8*9*10"
   ]
  },
  {
   "cell_type": "markdown",
   "metadata": {},
   "source": [
    "También podemos importar una función dentro de un módulo con"
   ]
  },
  {
   "cell_type": "code",
   "execution_count": 14,
   "metadata": {},
   "outputs": [
    {
     "data": {
      "text/plain": [
       "3628800"
      ]
     },
     "execution_count": 14,
     "metadata": {},
     "output_type": "execute_result"
    }
   ],
   "source": [
    "from script_interesante import funcion_interesante\n",
    "\n",
    "funcion_interesante(10)"
   ]
  },
  {
   "cell_type": "markdown",
   "metadata": {},
   "source": [
    "Si estamos trabajando en el módulo `script_interesante` es conveniente importarlo dinamicamente\n",
    "\n",
    "De esta forma cualquier cambio que hagamos en el script se vera reflejado inmediatamente en el cuadernillo\n",
    "\n",
    "Para uso debemos usar la magia `%autoreload`\n",
    "\n",
    "Puedes consultar la ayuda de esta magia con `%autoreload?`"
   ]
  },
  {
   "cell_type": "code",
   "execution_count": 15,
   "metadata": {},
   "outputs": [
    {
     "data": {
      "text/plain": [
       "3628800"
      ]
     },
     "execution_count": 15,
     "metadata": {},
     "output_type": "execute_result"
    }
   ],
   "source": [
    "%load_ext autoreload\n",
    "%autoreload 2\n",
    "# Todo lo que importe a continuación podrá ser modificado dinamicamente\n",
    "from script_interesante import funcion_interesante\n",
    "funcion_interesante(10)"
   ]
  },
  {
   "cell_type": "markdown",
   "metadata": {},
   "source": [
    "**Errores y debugging**\n",
    "\n",
    "La magia `%debug` nos permite hacer debugging a nivel de bloque\n",
    "\n",
    "Si se detecta un error se levanta automáticamente una interfaz de ipdb\n",
    "\n",
    "```python\n",
    "%debug\n",
    "a = [1, 2, 3, 4]\n",
    "a[10] # Esto lanzará ipdb\n",
    "```\n",
    "\n",
    "En [](../preliminaries/python3.ipynb) encontrarás instrucciones para usar pdb/ipdb"
   ]
  },
  {
   "cell_type": "markdown",
   "metadata": {},
   "source": [
    "## Accediendo al sistema operativo"
   ]
  },
  {
   "cell_type": "markdown",
   "metadata": {},
   "source": [
    "Usando el operador `!` podemos hacer llamados al sistema operativo dentro de nuestros bloques de código.\n",
    "\n",
    "Además podemos usar `$` dentro de un comando para entregar variables de nuestro cuadernillo.\n",
    "\n",
    ":::{note}\n",
    "\n",
    "Los ejemplos que se muestran a continuación asumen un sistema UNIX. En MS Windows estos comandos podrían no existir. \n",
    "\n",
    ":::"
   ]
  },
  {
   "cell_type": "code",
   "execution_count": 16,
   "metadata": {},
   "outputs": [],
   "source": [
    "mi_variable_interesante = '/home/phuijse'"
   ]
  },
  {
   "cell_type": "markdown",
   "metadata": {},
   "source": [
    "Puedo utilizar una variable de Python como entrada para un comando de terminal:"
   ]
  },
  {
   "cell_type": "code",
   "execution_count": 17,
   "metadata": {
    "scrolled": true
   },
   "outputs": [
    {
     "name": "stdout",
     "output_type": "stream",
     "text": [
      "/home/phuijse\r\n"
     ]
    }
   ],
   "source": [
    "!echo $mi_variable_interesante"
   ]
  },
  {
   "cell_type": "markdown",
   "metadata": {},
   "source": [
    "También es posible capturar el retorno de las funciónes llamadas con `!`"
   ]
  },
  {
   "cell_type": "code",
   "execution_count": 18,
   "metadata": {},
   "outputs": [
    {
     "name": "stdout",
     "output_type": "stream",
     "text": [
      "lsd: /home/phuijse/Work/Cursos/PythonBook/contents/: No such file or directory (os error 2).\r\n",
      "\r\n"
     ]
    }
   ],
   "source": [
    "!ls /home/phuijse/Work/Cursos/PythonBook/contents/"
   ]
  },
  {
   "cell_type": "code",
   "execution_count": 19,
   "metadata": {},
   "outputs": [
    {
     "name": "stdout",
     "output_type": "stream",
     "text": [
      "['__pycache__', 'beyond_python.ipynb', 'img', 'intro.md', 'ipython_display.ipynb', 'script_interesante.py', 'tutorial.ipynb']\n"
     ]
    }
   ],
   "source": [
    "lista_archivos = !ls\n",
    "\n",
    "print(lista_archivos)"
   ]
  },
  {
   "cell_type": "markdown",
   "metadata": {},
   "source": [
    "Algunas funciones básicas de UNIX a tener con consideración:\n",
    "\n",
    "- `pwd`: Retorna la ruta del directorio actual\n",
    "- `ls foo`: Lista de los archivos y directorios en `foo`\n",
    "- `rm foo`: Borrar el archivo `foo`\n",
    "- `cd foo`: Moverse al directorio `foo`\n",
    "- `cp foo bar`: Copiar el archivo `foo` como `bar`\n",
    "- `mkdir/rmdir foo` Crear/Borrar directorio `foo`\n",
    "- `cat foo`: Imprimir el contenido del archivo `foo`\n",
    "- `head/tail -n10 foo`: Imprimir las primeras/últimas 10 lineas de `foo`\n",
    "- `more foo`: Imprimir `foo` por partes\n",
    "    "
   ]
  },
  {
   "cell_type": "markdown",
   "metadata": {},
   "source": [
    ":::{note}\n",
    "\n",
    "También podemos usar la magía `%%bash` para acceder al terminal.\n",
    "\n",
    ":::"
   ]
  },
  {
   "cell_type": "code",
   "execution_count": 20,
   "metadata": {},
   "outputs": [
    {
     "name": "stdout",
     "output_type": "stream",
     "text": [
      "Estoy usando: /usr/bin/fish\n",
      "Mi path es: /home/phuijse/.conda/envs/ds/bin:/home/phuijse/.local/bin:/opt/miniconda3/condabin:/usr/local/sbin:/usr/local/bin:/usr/bin:/usr/bin/site_perl:/usr/bin/vendor_perl:/usr/bin/core_perl\n",
      "               total        used        free      shared  buff/cache   available\n",
      "Mem:           15695        3769        9667         448        2258       11160\n",
      "Swap:              0           0           0\n",
      "Filesystem      Size  Used Avail Use% Mounted on\n",
      "dev             7.7G     0  7.7G   0% /dev\n",
      "run             7.7G  1.3M  7.7G   1% /run\n",
      "/dev/nvme0n1p2   98G   37G   57G  40% /\n",
      "tmpfs           7.7G  1.8M  7.7G   1% /dev/shm\n",
      "tmpfs           7.7G  4.0K  7.7G   1% /tmp\n",
      "/dev/nvme0n1p3  370G  154G  198G  44% /home\n",
      "/dev/nvme0n1p1  350M  109M  242M  31% /boot\n",
      "tmpfs           1.6G   24K  1.6G   1% /run/user/1000\n"
     ]
    }
   ],
   "source": [
    "%%bash\n",
    "echo \"Estoy usando:\" $SHELL\n",
    "echo \"Mi path es:\" $PATH\n",
    "free -m\n",
    "df -h"
   ]
  },
  {
   "cell_type": "code",
   "execution_count": null,
   "metadata": {},
   "outputs": [],
   "source": []
  }
 ],
 "metadata": {
  "kernelspec": {
   "display_name": "Python 3 (ipykernel)",
   "language": "python",
   "name": "python3"
  },
  "language_info": {
   "codemirror_mode": {
    "name": "ipython",
    "version": 3
   },
   "file_extension": ".py",
   "mimetype": "text/x-python",
   "name": "python",
   "nbconvert_exporter": "python",
   "pygments_lexer": "ipython3",
   "version": "3.10.9"
  },
  "toc": {
   "base_numbering": 1,
   "nav_menu": {},
   "number_sections": true,
   "sideBar": true,
   "skip_h1_title": false,
   "title_cell": "Table of Contents",
   "title_sidebar": "Contents",
   "toc_cell": false,
   "toc_position": {},
   "toc_section_display": true,
   "toc_window_display": false
  }
 },
 "nbformat": 4,
 "nbformat_minor": 2
}
