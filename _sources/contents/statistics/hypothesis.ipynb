{
 "cells": [
  {
   "cell_type": "markdown",
   "metadata": {},
   "source": [
    "# Test de hipótesis\n",
    "\n",
    "Supongamos que existe una nueva y contagiosa enfermedad y que se inventa un nuevo tratamiento médico con el fin de erradicarla. A modo de prueba el tratamiento es aplicado a una muestra de la población. \n",
    "\n",
    "Podemos definir $X$, una variable aleatoria binaria que indica si el tratamiento fue efectivo o no\n",
    "\n",
    "En base a estos resultados, ¿cómo concluir formalmente que el tratamiento fue efectivo? además ¿qué podemos decir sobre la efectividad del tratamiento en la población general?\n",
    "\n",
    "> En estadística este tipo de preguntas se resuelven utilizando un **test de hipótesis**\n"
   ]
  },
  {
   "cell_type": "markdown",
   "metadata": {},
   "source": [
    "Test de hipótesis \n",
    ": Es un procedimiento de estadística inferencial para comprobar si el resultado de un experimento es significativo\n",
    "\n",
    "El primer paso es formular las\n",
    "\n",
    "Hipótesis\n",
    ": Conjetura que planteamos respecto al resultado de nuestro experimento\n",
    "\n",
    "Y en general lo que se plantea es una \n",
    "\n",
    "Hipótesis nula \n",
    ": Es una conjetura que suele representar el \"status quo\", es decir el escenario en que los resultados del experimento no son significativos. Se denota como $H_0$\n",
    "\n",
    "La hipótesis nula suele redactarse de las siguientes formas\n",
    "\n",
    "- \"No hay diferencia entre la muestra X y la muestra Y\"\n",
    "- \"No existe relación entre la variable X y la variable Y\"\n",
    "\n",
    "Para el ejemplo anterior podríamos redactar \"No hay diferencia entre los pacientes que tomaron y los que no tomaron el tratamiento\"\n",
    "\n",
    ":::{important}\n",
    "\n",
    "El test de hipótesis se diseña para medir que tan fuerte es la evidencia **en contra** de la hipótesis nula\n",
    "\n",
    ":::\n",
    "\n",
    ":::{seealso}\n",
    "\n",
    "Puedes revisar otros ejemplos más pintorescos de hipótesis nula en [este link](https://www.thoughtco.com/null-hypothesis-examples-609097)\n",
    "\n",
    ":::\n",
    "\n",
    "El test de hipótesis también considera el complemento (contrario) de la hipótesis nula, que se denomina: **hipótesis alternativa**, que denotaremos $H_A$\n"
   ]
  },
  {
   "cell_type": "markdown",
   "metadata": {},
   "source": [
    "## Algoritmo general de un test de hipótesis\n",
    "\n",
    "El siguiente es el algoritmo general de un test de hipótesis paramétrico\n",
    "\n",
    "1. Definir $H_0$ y $H_A$\n",
    "1. Definir un estadístico $T$\n",
    "1. Obtener la distribución para $T$ dado que $H_0$ es cierto\n",
    "1. Seleccionar un nivel de significancia $\\alpha$ \n",
    "1. Calcular el valor de $T$ para nuestros datos: $T_{data}$\n",
    "1. Calcular el **p-value**\n",
    "\n",
    "Finalmente:\n",
    "\n",
    "`if`  $p < \\alpha$ `:` se rechaza la hipótesis nula con confianza (1-$\\alpha$)\n",
    "\n",
    "`else:` No hay suficiente evidencia para rechazar la hipótesis nula\n",
    "\n",
    "\n",
    ":::{note}\n",
    "\n",
    "El valor de $\\alpha$ nos permite controlar el **[Error tipo I](https://es.wikipedia.org/wiki/Errores_de_tipo_I_y_de_tipo_II)**, es decir el error que cometemos si rechazamos $H_0$ cuando en realidad era cierta (falso positivo). Típicamente se usa $\\alpha=0.05$ o $\\alpha=0.01$ \n",
    "\n",
    ":::\n",
    "\n",
    "**Definición del p-value y errores de interpretación comunes**\n",
    "\n",
    "En un test de hipótesis \"de una cola\" el p-value se define como la probabilidad de observar un valor del estadístico $T$ más extremo que el observamos en nuestra muestra, es decir\n",
    "\n",
    "$$\n",
    "p = P(T> T_{data} | H_0) \n",
    "$$\n",
    "\n"
   ]
  },
  {
   "cell_type": "markdown",
   "metadata": {},
   "source": [
    "\n",
    "\n",
    ":::{error}\n",
    "\n",
    "El p-value **no es** es la probabilidad de que $H_0$ sea cierta dado nuestras observaciones, eso sería:\n",
    "\n",
    "$$\n",
    "P(H_0 | T> T_{data})\n",
    "$$\n",
    "\n",
    ":::\n",
    "\n",
    "Otro error común es creer que no ser capaz de rechazar $H_0$ es lo mismo que aceptar $H_0$\n",
    "\n",
    ":::{error}\n",
    "\n",
    "No tener suficiente evidencia para rechazar no es lo mismo que aceptar\n",
    "\n",
    ":::"
   ]
  },
  {
   "cell_type": "markdown",
   "metadata": {},
   "source": [
    "## El t-test de una muestra \n",
    "\n",
    "Sea un conjunto de $N$ observaciones independientes de una variable aleatoria $X$. La media muestral de este conjunto ${x_1, x_2, \\ldots, x_N}$ es \n",
    "\n",
    "$$\n",
    "\\bar x = \\sum_{i=1}^N x_i\n",
    "$$ \n",
    "\n",
    "El **t-test de una muestra** busca verificar si $\\bar x$ (media muestral) es significativamente distinta de la **media poblacional** $\\mu$, en el caso de que **no conocemos la varianza poblacional** $\\sigma^2$\n",
    "\n",
    "Las hipótesis son\n",
    "\n",
    "- $H_0:$ $\\bar x = \\mu$\n",
    "- $H_A:$ $\\bar x \\neq \\mu$ \n",
    "\n",
    "(Esto corresponde a un test de dos colas)\n",
    "\n",
    "Para este test el estadístico de prueba es \n",
    "\n",
    "$$\n",
    "t = \\frac{\\bar x - \\mu}{\\hat \\sigma /\\sqrt{N-1}}\n",
    "$$\n",
    "\n",
    "donde $\\hat \\sigma = \\sqrt{ \\frac{1}{N} \\sum_{i=1}^N (x_i - \\bar x)^2}$ es la desviación estándar muestral (sesgada)\n",
    "\n",
    "Asumiendo que $\\bar x$ se distribuye $\\mathcal{N}(\\mu, \\frac{\\sigma^2}{N})$ entonces\n",
    "$t$ se distribuye [t-student](https://en.wikipedia.org/wiki/Student%27s_t-distribution) con $N-1$ grados de libertad\n",
    "\n",
    ":::{warning}\n",
    "\n",
    "Para muestras iid y $N$ grande el supuesto del t-test se cumple por teorema central del límite. Si $N$ es pequeño debemos verificar la normalidad de los datos antes de aplicar el t-test\n",
    "\n",
    ":::\n"
   ]
  },
  {
   "cell_type": "markdown",
   "metadata": {},
   "source": [
    "## T-test de una y dos muestras con scipy\n",
    "\n",
    "**Ejemplo 1:** Una investigadora en botánica quiere saber si la áltura promedio de cierta especia de planta es igual a 38 cm (hipótesis nula) \n",
    "\n",
    "Para esto colecta una muestra aleatoria de 12 plantas y registra su altura:"
   ]
  },
  {
   "cell_type": "code",
   "execution_count": 1,
   "metadata": {},
   "outputs": [
    {
     "data": {
      "text/plain": [
       "array([35.56, 35.56, 40.64, 33.02, 30.48, 43.18, 38.1 , 35.56, 38.1 ,\n",
       "       33.02, 38.1 , 35.56])"
      ]
     },
     "execution_count": 1,
     "metadata": {},
     "output_type": "execute_result"
    }
   ],
   "source": [
    "import numpy as np\n",
    "import scipy.stats\n",
    "\n",
    "mu = 38.\n",
    "alpha = 0.05\n",
    "data = np.load(\"data/botany.npy\")\n",
    "data"
   ]
  },
  {
   "cell_type": "markdown",
   "metadata": {},
   "source": [
    "Para realizar un t-test de una muestra con scipy utilizamos"
   ]
  },
  {
   "cell_type": "code",
   "execution_count": 2,
   "metadata": {},
   "outputs": [
    {
     "data": {
      "text/plain": [
       "Ttest_1sampResult(statistic=-1.5853482351389023, pvalue=0.1411941997029352)"
      ]
     },
     "execution_count": 2,
     "metadata": {},
     "output_type": "execute_result"
    }
   ],
   "source": [
    "result = scipy.stats.ttest_1samp(data, mu, alternative='two-sided')\n",
    "result"
   ]
  },
  {
   "cell_type": "markdown",
   "metadata": {},
   "source": [
    "donde"
   ]
  },
  {
   "cell_type": "code",
   "execution_count": 3,
   "metadata": {},
   "outputs": [
    {
     "data": {
      "text/plain": [
       "False"
      ]
     },
     "execution_count": 3,
     "metadata": {},
     "output_type": "execute_result"
    }
   ],
   "source": [
    "result.pvalue < alpha"
   ]
  },
  {
   "cell_type": "markdown",
   "metadata": {},
   "source": [
    "> No hay suficiente evidencia para rechazar la hipótesis nula "
   ]
  },
  {
   "cell_type": "markdown",
   "metadata": {},
   "source": [
    "**Ejemplo 2:** Un médico bioregulador quiere verificar si el gasto energético promedio es menor en personas obesas que en personas no obesas\n",
    "\n",
    "Para esto evalua una muestra al azar de personas obesas y una muestra al azar de personas delgadas y registra los resultados en la siguiente base de datos:"
   ]
  },
  {
   "cell_type": "code",
   "execution_count": 4,
   "metadata": {},
   "outputs": [],
   "source": [
    "alpha = 0.05\n",
    "\n",
    "energy, label = np.load('data/energy.npy').T\n",
    "sample_control, sample_obese = energy[label==0], energy[label==1]"
   ]
  },
  {
   "cell_type": "markdown",
   "metadata": {},
   "source": [
    "Para resolver este problema podemos utilizar **un t-test de dos muestras**. En este test la hipótesis nula es que las medias de ambas muestreas son equivalentes, mientras que la hipótesis alternativa puede ser\n",
    "\n",
    "- que las medias muestrales son distintas (dos colas)\n",
    "- que la media de la primera muestra es mayor que la de la segunda (una cola)\n",
    "- que la media de la primera muestra es menor que la de la segunda (una cola)\n",
    "\n",
    "Podemos resolver un t-test de dos muestras como el del ejemplo anterior utilizando scipy con"
   ]
  },
  {
   "cell_type": "code",
   "execution_count": 5,
   "metadata": {},
   "outputs": [
    {
     "data": {
      "text/plain": [
       "Ttest_indResult(statistic=-3.9455649161549835, pvalue=0.00039949910558502964)"
      ]
     },
     "execution_count": 5,
     "metadata": {},
     "output_type": "execute_result"
    }
   ],
   "source": [
    "result = scipy.stats.ttest_ind(sample_obese, sample_control, alternative='less')\n",
    "result"
   ]
  },
  {
   "cell_type": "markdown",
   "metadata": {},
   "source": [
    "donde"
   ]
  },
  {
   "cell_type": "code",
   "execution_count": 6,
   "metadata": {},
   "outputs": [
    {
     "data": {
      "text/plain": [
       "True"
      ]
     },
     "execution_count": 6,
     "metadata": {},
     "output_type": "execute_result"
    }
   ],
   "source": [
    "result.pvalue < alpha"
   ]
  },
  {
   "cell_type": "markdown",
   "metadata": {},
   "source": [
    "> Rechazamos la hipótesis nula de que los gastos energéticos son iguales"
   ]
  },
  {
   "cell_type": "markdown",
   "metadata": {},
   "source": [
    "## Test de hipótesis para la regresión lineal\n",
    "\n",
    "En un modelo de regresión lineal donde tenemos $N$ ejemplos\n",
    "\n",
    "$$\n",
    "y_i = x_i \\theta_1 + \\theta_0, ~ i=1, 2, \\ldots, N\n",
    "$$\n",
    "\n",
    "nos interesa probar que la correlación entre $x$ es $y$ es significativa. Podemos hacer esto realizando un test sobre el parámetro $\\theta_1$\n",
    "\n",
    "Por ejemplo podemos plantear las siguientes hipótesis\n",
    "\n",
    "- $H_0:$ La pendiente es nula $\\theta_1 = 0$ (no hay correlación entre $x$ e $y$)\n",
    "- $H_A:$ La pendiente no es nula: $\\theta_1 \\neq 0$ \n",
    "\n",
    "(test de dos colas)\n",
    "\n",
    "Asumiendo que $\\theta_1$ se distribuye normal con varianza desconocida podemos formular el siguiente estadístico de prueba \n",
    "\n",
    "$$\n",
    "t = \\frac{(\\theta_1-\\theta^*) }{\\text{SE}_{\\theta_1}/\\sqrt{N-2}} = \\frac{ r\\sqrt{N-2}}{\\sqrt{1-r^2}},\n",
    "$$\n",
    "\n",
    "donde $r \\in [-1, 1]$ es el [coeficiente de correlación de Pearson](https://en.wikipedia.org/wiki/Pearson_correlation_coefficient), el cual es comunmente utilizado para medir la fuerza de la correlación\n",
    "\n",
    "- si $r=1$ existe una correlación lineal perfecta\n",
    "- si $r=-1$ existe una anticorrelación lineal perfecta\n",
    "- si $r=0$ no hay correlación lineal entre las variables\n",
    "\n",
    ":::{note}\n",
    "\n",
    "En general un $r>0.5$ se considera una correlación importante\n",
    "\n",
    ":::\n",
    "\n",
    "\n",
    "La última igualdad en la expresión de $t$ se obtiene reemplazando $\\theta^*=0$ y \n",
    "\n",
    "$$\n",
    "\\text{SE}_{\\theta_1} = \\sqrt{ \\frac{\\frac{1}{N} \\sum_i (y_i - \\hat y_i)^2}{\\text{Var}(x)}}.\n",
    "$$ \n",
    "\n",
    ":::{note}\n",
    "\n",
    "Si $\\theta_1$ es normal entonces el estadístico $t$ tiene distribución t-student con dos grados de libertad (modelo de dos parámetros) \n",
    "\n",
    ":::"
   ]
  },
  {
   "cell_type": "markdown",
   "metadata": {},
   "source": [
    "**Ejercicio formativo**\n",
    "\n",
    "Sea el dataset de consumo de helados que utilizamos en lecciones anteriores"
   ]
  },
  {
   "cell_type": "code",
   "execution_count": 7,
   "metadata": {
    "ExecuteTime": {
     "end_time": "2020-07-23T18:29:12.104916Z",
     "start_time": "2020-07-23T18:29:12.021606Z"
    }
   },
   "outputs": [
    {
     "data": {
      "text/html": [
       "<div>\n",
       "<style scoped>\n",
       "    .dataframe tbody tr th:only-of-type {\n",
       "        vertical-align: middle;\n",
       "    }\n",
       "\n",
       "    .dataframe tbody tr th {\n",
       "        vertical-align: top;\n",
       "    }\n",
       "\n",
       "    .dataframe thead th {\n",
       "        text-align: right;\n",
       "    }\n",
       "</style>\n",
       "<table border=\"1\" class=\"dataframe\">\n",
       "  <thead>\n",
       "    <tr style=\"text-align: right;\">\n",
       "      <th></th>\n",
       "      <th>consumo</th>\n",
       "      <th>ingreso</th>\n",
       "      <th>precio</th>\n",
       "      <th>temperatura</th>\n",
       "    </tr>\n",
       "  </thead>\n",
       "  <tbody>\n",
       "    <tr>\n",
       "      <th>1</th>\n",
       "      <td>0.386</td>\n",
       "      <td>78</td>\n",
       "      <td>0.270</td>\n",
       "      <td>41</td>\n",
       "    </tr>\n",
       "    <tr>\n",
       "      <th>2</th>\n",
       "      <td>0.374</td>\n",
       "      <td>79</td>\n",
       "      <td>0.282</td>\n",
       "      <td>56</td>\n",
       "    </tr>\n",
       "    <tr>\n",
       "      <th>3</th>\n",
       "      <td>0.393</td>\n",
       "      <td>81</td>\n",
       "      <td>0.277</td>\n",
       "      <td>63</td>\n",
       "    </tr>\n",
       "    <tr>\n",
       "      <th>4</th>\n",
       "      <td>0.425</td>\n",
       "      <td>80</td>\n",
       "      <td>0.280</td>\n",
       "      <td>68</td>\n",
       "    </tr>\n",
       "    <tr>\n",
       "      <th>5</th>\n",
       "      <td>0.406</td>\n",
       "      <td>76</td>\n",
       "      <td>0.272</td>\n",
       "      <td>69</td>\n",
       "    </tr>\n",
       "  </tbody>\n",
       "</table>\n",
       "</div>"
      ],
      "text/plain": [
       "   consumo  ingreso  precio  temperatura\n",
       "1    0.386       78   0.270           41\n",
       "2    0.374       79   0.282           56\n",
       "3    0.393       81   0.277           63\n",
       "4    0.425       80   0.280           68\n",
       "5    0.406       76   0.272           69"
      ]
     },
     "metadata": {},
     "output_type": "display_data"
    }
   ],
   "source": [
    "import pandas as pd\n",
    "df = pd.read_csv('../linalg/data/helados.csv', header=0, index_col=0)\n",
    "df.columns = ['consumo', 'ingreso', 'precio', 'temperatura']\n",
    "display(df.head())"
   ]
  },
  {
   "cell_type": "markdown",
   "metadata": {},
   "source": [
    "Podemos resolver un problema de regresión lineal univariado con scipy utilizando\n",
    "\n",
    "```python\n",
    "scipy.stats.linregress(x, # Variable independiente unidimensional\n",
    "                       y # Variable dependiente unidimensional\n",
    "                      )\n",
    "```\n",
    "\n",
    "Esta función retorna una tupla con\n",
    "\n",
    "- Valor de la pendiente: $\\theta_1$\n",
    "- Valor de la intercepta: $\\theta_0$\n",
    "- Coeficiente de correlación $r$\n",
    "- p-value\n",
    "- Error estándar del ajuste\n",
    "\n",
    "Para el ejemplo anterior podemos ajustar regresiones lineales entre consumo y las demás variables:"
   ]
  },
  {
   "cell_type": "code",
   "execution_count": 8,
   "metadata": {
    "ExecuteTime": {
     "end_time": "2020-07-23T18:29:12.415952Z",
     "start_time": "2020-07-23T18:29:12.255458Z"
    }
   },
   "outputs": [
    {
     "data": {
      "image/png": "[encoded data removed]",
      "text/plain": [
       "<Figure size 576x216 with 3 Axes>"
      ]
     },
     "metadata": {
      "needs_background": "light"
     },
     "output_type": "display_data"
    }
   ],
   "source": [
    "%matplotlib inline\n",
    "import matplotlib.pyplot as plt\n",
    "\n",
    "fig, ax = plt.subplots(1, 3, figsize=(8, 3), tight_layout=True, sharey=True)\n",
    "ax[0].set_ylabel(df.columns[0]);\n",
    "for ax_, col in zip(ax, df.columns[1:]):\n",
    "    res = scipy.stats.linregress(df[col], df[\"consumo\"])\n",
    "    x_plot = np.linspace(np.amin(df[col]), np. amax(df[col]), num=100)\n",
    "    ax_.scatter(df[col], df[\"consumo\"], label='datos', s=10)    \n",
    "    ax_.plot(x_plot, res.slope*x_plot + res.intercept, lw=2, c='r', label='modelo');\n",
    "    ax_.set_xlabel(col)\n",
    "    ax_.set_title(f\"$r$: {res.rvalue:0.5f}\")\n",
    "ax_.legend();"
   ]
  },
  {
   "cell_type": "markdown",
   "metadata": {},
   "source": [
    "Es decir que visualmente parece existir\n",
    "\n",
    "- una correlación cercana a cero entre consumo e ingreso\n",
    "- una correlación negativa moderada entre consumo y precio\n",
    "- una correlación positiva alta entre consumo y temperatura"
   ]
  },
  {
   "cell_type": "markdown",
   "metadata": {},
   "source": [
    "La función `linregress` implementa el t-test sobre $\\theta_1$ que vimos anteriormente. Usemos estos resultados para verificar si las correlaciones son estadísticamente significativas"
   ]
  },
  {
   "cell_type": "code",
   "execution_count": 9,
   "metadata": {},
   "outputs": [
    {
     "name": "stdout",
     "output_type": "stream",
     "text": [
      "ingreso: \t Rechazo hipótesis nula: False\n",
      "precio: \t Rechazo hipótesis nula: False\n",
      "temperatura: \t Rechazo hipótesis nula: True\n"
     ]
    }
   ],
   "source": [
    "alpha = 0.05\n",
    "\n",
    "for i, col in enumerate(df.columns[1:]):\n",
    "    res = scipy.stats.linregress(df[col], df[\"consumo\"])\n",
    "    print(f\"{col}: \\t Rechazo hipótesis nula: {res.pvalue < alpha}\")    "
   ]
  },
  {
   "cell_type": "markdown",
   "metadata": {},
   "source": [
    "Como complemento visualizemos \n",
    "\n",
    "- las distribuciones bajo la hipótesis nula: linea azul\n",
    "- los límites dados por $\\alpha$: linea punteada negra (dos colas)\n",
    "- El valor del observado para cada una de las variables: linea roja "
   ]
  },
  {
   "cell_type": "code",
   "execution_count": 10,
   "metadata": {
    "ExecuteTime": {
     "end_time": "2020-07-23T18:29:12.537649Z",
     "start_time": "2020-07-23T18:29:12.417765Z"
    }
   },
   "outputs": [
    {
     "data": {
      "image/png": "[encoded data removed]",
      "text/plain": [
       "<Figure size 576x144 with 3 Axes>"
      ]
     },
     "metadata": {
      "needs_background": "light"
     },
     "output_type": "display_data"
    }
   ],
   "source": [
    "fig, ax = plt.subplots(1, 3, figsize=(8, 2), tight_layout=True, sharey=True)\n",
    "ax[0].set_ylabel(df.columns[0]);\n",
    "\n",
    "N = df.shape[0]\n",
    "t = np.linspace(-7, 7, num=1000)\n",
    "dist = scipy.stats.t(loc=0, scale=1, df=N-2) # dos grados de libertad\n",
    "\n",
    "\n",
    "for i, col in enumerate(df.columns[1:]):\n",
    "    res = scipy.stats.linregress(df[col], df[\"consumo\"])\n",
    "    t_data = res.rvalue*np.sqrt(N-2)/np.sqrt(1.-res.rvalue**2)\n",
    "    ax[i].plot(t, dist.pdf(t))\n",
    "    ax[i].plot([dist.ppf(alpha/2)]*2, [0, np.amax(dist.pdf(t))], 'k--')\n",
    "    ax[i].plot([dist.ppf(1-alpha/2)]*2, [0, np.amax(dist.pdf(t))], 'k--')\n",
    "    ax[i].plot([t_data]*2, [0, np.amax(dist.pdf(t))], 'r-')\n",
    "    ax[i].set_xlabel(col)    "
   ]
  },
  {
   "cell_type": "markdown",
   "metadata": {},
   "source": [
    "Por lo tanto\n",
    "\n",
    "> Rechazamos la hipótesis nula de que no existe correlación entre temperatura y consumo con un 95% de confianza\n",
    "\n",
    "Para las variables ingreso y precio no existe suficiente evidencia para rechazar la hipótesis nula\n"
   ]
  },
  {
   "cell_type": "markdown",
   "metadata": {},
   "source": [
    "## Reflexión final\n",
    "\n",
    "En el ejercicio anterior usamos un t-test para una regresión lineal entre dos variables \n",
    "\n",
    "¿Qué prueba puedo usar si quiero hacer regresión lineal multivariada? \n",
    "\n",
    "> Se puede usar un f-test o [ANOVA](https://docs.scipy.org/doc/scipy/reference/generated/scipy.stats.f_oneway.html#scipy.stats.f_oneway)\n",
    "\n",
    "¿Qué pasa si...\n",
    "\n",
    "- los datos tienen una relación que no es lineal? \n",
    "- $\\theta_1$ no es Gaussiano/normal? \n",
    "- si el ruido de los datos no es Gaussiano? \n",
    "\n",
    "> En estos casos no se cumplen los supuestos del modelo o del test, por ende el resultado no es confiable\n",
    "\n",
    ":::{hint}\n",
    "\n",
    "Si los supuestos no se cumplen para ninguna prueba parámetrica se puede probar con pruebas no-paramétricas. Las pruebas no parámetricas no presuponen una distribución para los estadísticos de prueba pero suele ser menos poderosas que sus contrapartes paramétricas\n",
    "\n",
    ":::"
   ]
  },
  {
   "cell_type": "markdown",
   "metadata": {},
   "source": [
    "## Apéndice: Interpretación probabilística de la regresión lineal\n",
    "\n",
    "Sea un problema de regresión lineal donde queremos predecir $y$ en función de $x$. Para esto proponemos un modelo de dos parámetros\n",
    "\n",
    "$$\n",
    "f_i = \\theta_0 + \\theta_1 x_i\n",
    "$$\n",
    "\n",
    "Y asumimos que las observaciones son una combinación aditiva del modelo y ruido\n",
    "\n",
    "$$\n",
    "y_i = f_i + \\epsilon_i\n",
    "$$\n",
    "\n",
    "donde $\\epsilon_i \\sim \\mathcal{N}(0, \\sigma^2)$, es decir que el ruido es independiente, normal y con media cero. Por lo tanto\n",
    "\n",
    "$$\n",
    "y_i \\sim \\mathcal{N}(f_i, \\sigma^2)\n",
    "$$\n",
    "\n",
    "y en consecuencia el estimador de máxima verosimilitud para $\\theta$ es\n",
    "\n",
    "$$\n",
    "\\begin{split}\n",
    "\\hat \\theta &= \\text{arg}\\max_\\theta \\log \\mathcal{L}(\\theta)  \\\\\n",
    "&=\\text{arg}\\max_\\theta  \\sum_{i=1}^N -\\frac{(y_i - f_i)^2}{2\\sigma^2}  \\\\\n",
    "&=\\text{arg}\\max_\\theta  - \\frac{1}{2\\sigma^2} \\sum_{i=1}^N (y_i - \\theta_0 - \\theta_1 x_i)^2 \\\\\n",
    "&=\\text{arg}\\min_\\theta  \\sum_{i=1}^N (y_i - \\theta_0 - \\theta_1 x_i)^2 \n",
    "\\end{split}\n",
    "$$\n",
    "\n",
    "Es decir que el estimador de máxima verosimilitud es equivalente a la solución de mínimos cuadrados ordinarios que vimos anteriormente\n",
    "\n",
    ":::{important}\n",
    "\n",
    "Cuando utilizamos la solución de mínimos cuadrados estamos asumiendo implicitamente que las observaciones son iid y que la verosimilitud es Gaussiana\n",
    "\n",
    ":::\n",
    "\n",
    "\n",
    "Derivando con respecto a los parámetros e igualado a cero tenemos que\n",
    "\n",
    "$$\n",
    "\\begin{split}\n",
    "\\sum_i y_i  - N\\theta_0 - \\theta_1  \\sum_i x_i &= 0  \\\\\n",
    "\\sum_i y_i x_i - \\theta_0 \\sum_i x_i - \\theta_1 \\sum_i x_i^2 &= 0 \n",
    "\\end{split}\n",
    "$$\n",
    "\n",
    "y despejando lo anterior\n",
    "\n",
    "$$\n",
    "\\begin{split}\n",
    "\\theta_0 &= \\bar y - \\theta_1 \\bar x  \\\\\n",
    "\\theta_1 &= \\frac{\\sum_i x_i y_i - N \\bar x \\bar y}{\\sum_i x_i^2 - M \\bar x^2}   \\\\\n",
    "&= \\frac{ \\sum_i (y_i - \\bar y)(x_i - \\bar x)}{\\sum_i (x_i - \\bar x)^2}  = \\frac{\\text{COV}(x, y)}{\\text{Var}(x)}\n",
    "\\end{split}\n",
    "$$\n",
    "\n",
    "de donde reconocemos las expresiones para la covarianza entre $x$ e $y$ y la varianza de $x$\n",
    "\n",
    "Estas son las soluciones que implementa `scipy.stats.linregress`\n"
   ]
  },
  {
   "cell_type": "code",
   "execution_count": null,
   "metadata": {},
   "outputs": [],
   "source": []
  }
 ],
 "metadata": {
  "kernelspec": {
   "display_name": "Python 3 (ipykernel)",
   "language": "python",
   "name": "python3"
  },
  "language_info": {
   "codemirror_mode": {
    "name": "ipython",
    "version": 3
   },
   "file_extension": ".py",
   "mimetype": "text/x-python",
   "name": "python",
   "nbconvert_exporter": "python",
   "pygments_lexer": "ipython3",
   "version": "3.8.12"
  },
  "toc": {
   "base_numbering": 1,
   "nav_menu": {},
   "number_sections": true,
   "sideBar": true,
   "skip_h1_title": false,
   "title_cell": "Table of Contents",
   "title_sidebar": "Contents",
   "toc_cell": false,
   "toc_position": {
    "height": "calc(100% - 180px)",
    "left": "10px",
    "top": "150px",
    "width": "384px"
   },
   "toc_section_display": true,
   "toc_window_display": true
  }
 },
 "nbformat": 4,
 "nbformat_minor": 2
}
