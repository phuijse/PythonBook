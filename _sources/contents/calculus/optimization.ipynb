{
 "cells": [
  {
   "cell_type": "markdown",
   "metadata": {},
   "source": [
    "# Optimización matemática\n",
    "\n",
    "¿Qué significa [óptimo](https://dle.rae.es/%C3%B3ptimo)?\n",
    "\n",
    "> Sumamente bueno, que no puede ser mejor\n",
    "\n",
    "Pero el significado de \"mejor\" depende de la situación. Considere por ejemplo el problema de escoger la ruta que debe tomar un vehículo de reparto de carga \n",
    "\n",
    "La \"mejor\" ruta pudiera ser \n",
    "\n",
    "- la ruta más rápida\n",
    "- la ruta más barata\n",
    "- la ruta más directa\n",
    "\n",
    ":::{important}\n",
    "\n",
    "Para encontrar la mejor ruta primero debemos definir el **criterio** en que basaremos nuestra decisión\n",
    "\n",
    ":::\n",
    "\n",
    "En el ejemplo anterior tenemos\n",
    "\n",
    "- la ruta de mínimo **tiempo**\n",
    "- la ruta de mínimo **costo**\n",
    "- la ruta de mínima **distancia**\n",
    "\n",
    "La selección de la mejor ruta es un ejemplo de **optimización**. Más en general, la optimización es:\n",
    "\n",
    "> El proceso de encontrar la mejor solución para un problema dentro de un conjunto de posibilidades\n",
    "\n",
    "La optimización es un área bastante estudiada de las matemáticas y algunos problemas de optimización requieren de soluciones muy específicas\n",
    "\n",
    "El objetivo de esta lección es entregar una revisión general a los problemas de optimización que podemos resolver usando las herramientas del módulo `scipy.optimize`"
   ]
  },
  {
   "cell_type": "code",
   "execution_count": 1,
   "metadata": {},
   "outputs": [],
   "source": [
    "%matplotlib inline\n",
    "import matplotlib.pyplot as plt\n",
    "import numpy as np\n",
    "import scipy.optimize"
   ]
  },
  {
   "cell_type": "markdown",
   "metadata": {},
   "source": [
    "## Modelamiento matemático de un problema\n",
    "\n",
    "Para encontrar la mejor solución de un problema debemos primero modelarlo matemáticamente. En su forma más básica esto significa escribir el criterio de decisión como una función\n",
    "\n",
    "> Llamamos a esta función, la **función objetivo** del problema\n",
    "\n",
    "Para el problema del vehículo de reparto que comentamos en la introducción, si tenemos una variable $x$ que define la ruta y una función $f(x)$ que retorna el tiempo de dicha ruta, podemos escribir\n",
    "\n",
    "$$\n",
    "\\min_x f(x)\n",
    "$$"
   ]
  },
  {
   "cell_type": "markdown",
   "metadata": {},
   "source": [
    "Supongamos ahora que el vehículo debe pasar por un cierto punto de la ciudad durante el reparto. La mejor ruta es ahora la de mínimo tiempo que además pasa por ese punto\n",
    "\n",
    "> Llamamos **restricciones**, a las condiciones adicionales que debe cumplir la mejor solución\n",
    "\n",
    "Incluyendo restricciones el modelo matemático de nuestro problema sería\n",
    "\n",
    "$$\n",
    "\\begin{split}\n",
    "\\min_x &f(x)  \\\\\n",
    "\\text{sujeto a: } & g_i(x) = 0, i=1,2\\ldots, I \\\\  \n",
    "& h_j(x) \\leq 0, j=1,2,\\ldots J \n",
    "\\end{split}\n",
    "$$\n",
    "\n",
    "donde \n",
    "\n",
    "- $x \\in \\mathbb{R}^D$ son las **variables de decisión**\n",
    "- $f : \\mathbb{R}^D \\to \\mathbb{R}$ es la **función objetivo**\n",
    "- $g_i : \\mathbb{R}^D \\to \\mathbb{R}$ son las **restricciones de igualdad** \n",
    "- $h_j : \\mathbb{R}^D \\to \\mathbb{R}$ son las **restricciones de desigualdad**\n",
    "\n",
    "> Optimizar es el proceso de encontrar el valor óptimo (mínimo) de la función objetivo en el espacio definido por las restricciones"
   ]
  },
  {
   "cell_type": "markdown",
   "metadata": {},
   "source": [
    ":::{note}\n",
    "\n",
    "En algunos problemas podríamos estar necesitar un máximo en lugar de un mínimo de la función objetivo\n",
    "\n",
    ":::\n",
    "\n",
    "Sin embargo considere que\n",
    "\n",
    "$$\n",
    "\\max_x f(\\vec x) \\equiv \\min_x - f(\\vec x),\n",
    "$$\n",
    "\n",
    "Por lo que podemos hablar de minimización sin pérdida de generalidad"
   ]
  },
  {
   "cell_type": "markdown",
   "metadata": {},
   "source": [
    "## Reconocer y clasificar problemas de optimización\n",
    "\n",
    "Estudiando algunas características del problema podemos seleccionar más fácilmente un algoritmo  apropiado para resolverlo. Algunas preguntas guía que podemos realizar son\n",
    "\n",
    "¿Es mi función objetivo de una variable ($D=1$) versus multi-variable ($D>1$)?\n",
    "\n",
    "> Esto define la dimensionalidad o escala del problema\n",
    "\n",
    "¿Existen restricciones de igualidad y/o desigualidad que debo cumplir?\n",
    "\n",
    "> Algunos algoritmos sólo pueden resolver problemas sin restricciones\n",
    "\n",
    "¿Es mi función objetivo lineal o no lineal con respecto a la entrada?\n",
    "\n",
    "> Si todas las funciones son lineales entonces se pueden usar técnicas de **programación lineal**. Esto problemas son más simples que los no lineales\n",
    "\n",
    "¿Es mi función objetivo convexa o no convexa?\n",
    "\n",
    "<img src=\"img/opti1.png\">\n",
    "\n",
    "> Una función no-convexa (derecha) puede tener múltiples mínimos locales. Por el contrario una función convexa (izquierda) tiene un único mínimo\n",
    "\n",
    "¿Es mi función objetivo continua y diferenciable o no-diferenciable?\n",
    "\n",
    "> Si la función no es continua entonces no puedo calcular su gradiente. Muchos métodos se basan en el gradiente para encontrar óptimos\n",
    "\n",
    " \n"
   ]
  },
  {
   "cell_type": "markdown",
   "metadata": {},
   "source": [
    "## Resolviendo problemas de optimización"
   ]
  },
  {
   "cell_type": "markdown",
   "metadata": {},
   "source": [
    "### Solución de fuerza bruta\n",
    "\n",
    "La forma más \"simple\" de resolver un problema de optimización es la **fuerza bruta**, es decir evaluar $f(x)$, $g_i(x)$ y $h_j(x)$ exhaustivamente para todos los valores de $x$ hasta encontrar el mejor\n",
    "\n",
    ":::{note}\n",
    "\n",
    "Si $x$ fuera una variable continua necesitariamos discretizarla para crear una grilla de búsqueda\n",
    "\n",
    ":::\n",
    "\n",
    "La ventaja del método de fuerza bruta es que si la grilla es lo suficientemente fina entonces el método no confudirá un mínimo local con el mínimo global\n",
    "\n",
    ":::{warning}\n",
    "\n",
    "El método de fuerza bruta es ingenuo pues se vuelve enormemente ineficiente a medida que crece el rango y la dimensionalidad de $x$\n",
    "\n",
    ":::"
   ]
  },
  {
   "cell_type": "markdown",
   "metadata": {},
   "source": [
    "### Solución analítica\n",
    "\n",
    "Si nuestra función es continua y derivable podemos intentar encontrar una solución analítica igualando su gradiente a cero, es decir\n",
    "\n",
    "$$\n",
    "\\nabla f (x^*) = \\begin{pmatrix} \\frac{\\partial f}{\\partial x_1}, \\frac{\\partial f}{\\partial x_2}, \\ldots, \\frac{\\partial f}{\\partial x_D} \\end{pmatrix} = \\vec 0\n",
    "$$\n",
    "\n",
    "Estas soluciones se conocen como **puntos estacionarios** de $f$, que incluyen los mínimos, máximos y puntos silla\n",
    "\n",
    "Luego si la segunda derivada o matriz Hessiana de $f$\n",
    "\n",
    "$$\n",
    "H_{ij}^f (x)  = \\frac{\\partial^2 f}{\\partial x_i \\partial x_j} (x^*) > 0\n",
    "$$\n",
    "\n",
    "entonces $x^*$ es un **mínimo**\n",
    "\n",
    ":::{note}\n",
    "\n",
    "Si el problema tiene restricciones podríamos incluirlas utilizando multiplicadores de Lagrange\n",
    "\n",
    ":::\n",
    "\n",
    ":::{warning}\n",
    "\n",
    "En muchos casos prácticos $f(x)$ es demasiado complicada como para despejar una expresión análitica de $x$ a partir de $\\nabla f (x^*)=0$\n",
    "\n",
    ":::"
   ]
  },
  {
   "cell_type": "markdown",
   "metadata": {},
   "source": [
    "### Solución iterativa: Método de Newton y Gradiente Descedente\n",
    "\n",
    "Si evaluar el espacio de soluciones completo es infactible podríamos intentar explorarlo de forma parcial con un método iterativo\n",
    "\n",
    "Los métodos iterativos parten de una o varias \"soluciones iniciales\" y luego aplican criterios que las \"mejoran\" paso a paso, acercándolas a la solución óptima\n",
    "\n",
    "Sea $x_t$ el valor actual de la variable de decisión. Podemos escribir el valor que tendrá en el siguiente paso como\n",
    "\n",
    "$$\n",
    "x_{t+1} = x_t + \\Delta x\n",
    "$$\n",
    "\n",
    "y lo que queremos es encontrar el mejor $\\Delta x$ según nuestra función objetivo $f(x)$. Para continuar consideremos la aproximación de Taylor de segundo orden de $f$ en torno a $x_{t+1}$\n",
    "\n",
    "$$\n",
    "f(x_{t} + \\Delta x) \\approx f(x_t) + \\nabla f (x_t) \\Delta x + \\frac{1}{2} \\Delta x^T H_f (x_t) \\Delta x \n",
    "$$\n",
    "\n",
    "donde\n",
    "\n",
    "$$\n",
    "\\nabla f (x) = \\begin{pmatrix} \\frac{\\partial f}{\\partial x_1}, \\frac{\\partial f}{\\partial x_2}, \\ldots, \\frac{\\partial f}{\\partial x_D} \\end{pmatrix}\n",
    "$$\n",
    "\n",
    "es el gradiente de $f(x)$ y \n",
    "\n",
    "$$\n",
    "H_{ij}^f (x)  = \\frac{\\partial^2 f}{\\partial x_i \\partial x_j} (x)\n",
    "$$\n",
    "\n",
    "es el Hessiano de $f(x)$. Si derivamos en función de $\\Delta x$ e igualamos a cero se tiene que\n",
    "\n",
    "$$\n",
    "\\begin{align}\n",
    "\\nabla f (x_t)  +  H_f (x_t) \\Delta x &= 0 \\nonumber \\\\\n",
    "\\Delta x &= - [H_f (x_t)]^{-1}\\nabla f (x_t)  \\nonumber \\\\\n",
    "x_{t+1} &= x_{t} - [H_f (x_t)]^{-1}\\nabla f (x_t)  \\nonumber \n",
    "\\end{align}\n",
    "$$\n",
    "\n",
    "Que se conoce como **la regla iterativa de Newton** y donde\n",
    "\n",
    "- El gradiente nos indica la dirección en que debemos desplazarnos\n",
    "- El hessiano nos indica la distancia que debemos desplazarnos\n",
    "\n",
    ":::{caution}\n",
    "\n",
    "- Usando Newton estamos asumiendo que la aproximación de segundo orden de $f$ es buena\n",
    "- La solución del método de Newton depende de $x_0$ (solución inicial). Es conveniente probar varios valores de $x_0$\n",
    "- Si la dimensionalidad de $x$ es grande, invertir el hessiano (matriz de $M\\times M$) puede ser costoso\n",
    "\n",
    ":::\n"
   ]
  },
  {
   "cell_type": "markdown",
   "metadata": {},
   "source": [
    "Si el Hessiano es prohibitivo podemos usar una aproximación de primer orden de la regla de Newton. Esto resulta en el clásico método conocido como  **gradiente descendente**\n",
    "\n",
    "$$\n",
    "x_{t+1} = x_{t} - \\eta \\nabla f (x_t)\n",
    "$$\n",
    "\n",
    "donde se reemplaza el Hessiano por una constante $\\eta$ llamado \"paso\" o \"tasa de aprendizaje\". \n",
    "\n",
    "Es importante calibrar adecuadamente $\\eta$. Si es muy grande la adaptación será inestable, y si es muy pequeño demoraremos demasiado en llegar al óptimo. La siguiente figura lo ejemplifica\n",
    "\n",
    "<img src=\"img/opti2.png\" width=\"700\">"
   ]
  },
  {
   "cell_type": "markdown",
   "metadata": {},
   "source": [
    "## Tutorial de `scipy.optimize`\n",
    "\n",
    "Podemos realizar optimización matemática utilizando el módulo [`scipy.optimize`](https://docs.scipy.org/doc/scipy/reference/tutorial/optimize.html#optimization-scipy-optimize). La función principal de este módulo es `minimize` la cual engloba a una larga lista de métodos de optimización\n",
    "\n",
    "Los argumentos esta función son\n",
    "\n",
    "```python\n",
    "from scipy.optimize import minimize\n",
    "minimize(fun, # Función objetivo \n",
    "         x0, # Valor inicial de la variable de decisión\n",
    "         args=(), # Argumentos adicionales de fun\n",
    "         method=None, # El método de optimización a usar \n",
    "         jac=None, # Función que calcula la matriz de primeras derivadas (jacobiano)\n",
    "         bounds=None, # Secuencia de tuplas (min, max) con cotas para x \n",
    "         constraints=(), # Diccinario o lista de restricciones (más detalles a continuación)\n",
    "         tol=None, # Tolerancia para el término de la optimización\n",
    "         callback=None, # Una función que se ejecuta luego de cada iteración\n",
    "         options=None, # Diccionario con las opciones especificas para cada método\n",
    "         ...\n",
    "        )\n",
    "```\n",
    "\n",
    "Para utilizar `minimize` la función objetivo debe estar definida de la siguiente forma\n",
    "\n",
    "```python\n",
    "def fun(x, *args):\n",
    "    ...\n",
    "    return foo\n",
    "```\n",
    "\n",
    "donde \n",
    "\n",
    "- `x` debe ser un escalar o un ndarray\n",
    "- `foo` debe ser un valor escalar flotante \n",
    "- Los argumentos adicionales a `x` se deben desempaquetar de la tupla `args`\n",
    "\n",
    ":::{warning}\n",
    "\n",
    "Si el problema a resolver es de maximización, debemos convertirlo a un problema de minimización antes de usar `minimize`\n",
    "\n",
    ":::\n",
    "\n",
    "\n",
    ":::{note}\n",
    "\n",
    "Si no se especifica `method` se utiliza por defecto [BFGS](https://es.wikipedia.org/wiki/L-BFGS), un método de tipo quasi-Newton que utiliza el gradiente de la función objetivo y una aproximación del inverso de su Hessiano\n",
    "\n",
    ":::"
   ]
  },
  {
   "cell_type": "markdown",
   "metadata": {},
   "source": [
    "**Ejemplo**\n",
    "\n",
    "Sea la siguiente función objetivo con variable de decisión escalar\n",
    "\n",
    "$$\n",
    "f(x) = x^2 - 2x + 5 \\sin(2x)\n",
    "$$\n",
    "\n",
    "Para optimizarla con `scipy` primero debemos definirla:"
   ]
  },
  {
   "cell_type": "code",
   "execution_count": 2,
   "metadata": {},
   "outputs": [],
   "source": [
    "def f(x):\n",
    "    return x**2 - 2*x + 5*np.sin(2*x)"
   ]
  },
  {
   "cell_type": "markdown",
   "metadata": {},
   "source": [
    "Luego la optimizamos con `minimize` especificando como mínimo la función misma y una solución inicial"
   ]
  },
  {
   "cell_type": "code",
   "execution_count": 3,
   "metadata": {},
   "outputs": [],
   "source": [
    "x0 = -2\n",
    "solution = scipy.optimize.minimize(f, x0)"
   ]
  },
  {
   "cell_type": "markdown",
   "metadata": {},
   "source": [
    "`solution` es un objeto de tipo [`OptimizeResult`](https://docs.scipy.org/doc/scipy/reference/generated/scipy.optimize.OptimizeResult.html#scipy.optimize.OptimizeResult), cuyos atributos más importantes son\n",
    "\n",
    "- `x`: Mejor valor encontrado de la variable de decisión\n",
    "- `fun`: Valor de la función objetivo en el óptimo encontrado\n",
    "- `jac`: Valor de la matriz de primeras derivadas en el óptimo encontrado\n",
    "- `success`: Booleano que indica si la optimización se llevó a cabo con exito\n",
    "- `message:` Mensaje indicando la razón de término, útil para debuggear"
   ]
  },
  {
   "cell_type": "code",
   "execution_count": 4,
   "metadata": {},
   "outputs": [
    {
     "data": {
      "text/plain": [
       "'Optimization terminated successfully.'"
      ]
     },
     "execution_count": 4,
     "metadata": {},
     "output_type": "execute_result"
    }
   ],
   "source": [
    "solution.message"
   ]
  },
  {
   "cell_type": "markdown",
   "metadata": {},
   "source": [
    "Si visualizamos la solución con `matplotlib`"
   ]
  },
  {
   "cell_type": "code",
   "execution_count": 5,
   "metadata": {},
   "outputs": [
    {
     "data": {
      "image/png": "[encoded data removed]",
      "text/plain": [
       "<Figure size 504x288 with 1 Axes>"
      ]
     },
     "metadata": {
      "needs_background": "light"
     },
     "output_type": "display_data"
    }
   ],
   "source": [
    "x_plot = np.linspace(-5, 5, num=100)\n",
    "fig, ax = plt.subplots(figsize=(7, 4), tight_layout=True)\n",
    "ax.plot(x_plot, f(x_plot))\n",
    "ax.scatter(x0, f(x0), s=100, c='k')\n",
    "ax.arrow(x0, f(x0), solution.x[0]-x0, f(solution.x[0])-f(x0), \n",
    "         head_width=0.3, head_length=3, color='k', length_includes_head=True)\n",
    "ax.set_xlabel('Variable de decisión')\n",
    "ax.set_ylabel('Función objetivo');"
   ]
  },
  {
   "cell_type": "markdown",
   "metadata": {},
   "source": [
    "> La función es no convexa y el método quasi-Newton ha encontrado un mínimo local\n",
    "\n",
    ":::{hint}\n",
    "\n",
    "En problemas no-convexos es conveniente probar distintas soluciones iniciales \n",
    "\n",
    ":::"
   ]
  },
  {
   "cell_type": "code",
   "execution_count": 6,
   "metadata": {},
   "outputs": [],
   "source": [
    "x0 = np.array([-4.5, -2, 4])\n",
    "solution = []\n",
    "for x0_ in x0:\n",
    "    solution.append(scipy.optimize.minimize(f, x0_))\n",
    "    \n",
    "bests = np.array([solution.x[0] for solution in solution])"
   ]
  },
  {
   "cell_type": "code",
   "execution_count": 7,
   "metadata": {},
   "outputs": [
    {
     "data": {
      "image/png": "[encoded data removed]",
      "text/plain": [
       "<Figure size 504x288 with 1 Axes>"
      ]
     },
     "metadata": {
      "needs_background": "light"
     },
     "output_type": "display_data"
    }
   ],
   "source": [
    "fig, ax = plt.subplots(figsize=(7, 4), tight_layout=True)\n",
    "ax.plot(x_plot, f(x_plot))\n",
    "ax.scatter(x0, f(x0), label='solución inicial', s=100, c='k')\n",
    "for x0_, best in zip(x0, bests):\n",
    "    ax.arrow(x0_, f(x0_), best-x0_, f(best)-f(x0_), \n",
    "             head_width=0.3, head_length=3, color='k', length_includes_head=True)\n",
    "ax.set_xlabel('Variable de decisión')\n",
    "ax.set_ylabel('Función objetivo');"
   ]
  },
  {
   "cell_type": "markdown",
   "metadata": {},
   "source": [
    "El argumento `jac` de `minimize` espera la función de primeras derivadas o vector jacobiano. Este debe seguir una forma similar a la función objetivo\n",
    "\n",
    "```python\n",
    "def jac(x, *args):\n",
    "    ...\n",
    "    return dfoo \n",
    "```\n",
    "\n",
    "donde\n",
    "\n",
    "- donde `x` y `args` deben coincidir con `fun`. \n",
    "- `dfoo` debe tener la misma dimensionalidad de `x`\n",
    "\n",
    "Si no se especifica `jac` las derivadas se calcularán de forma numérica, lo cual es menos eficiente"
   ]
  },
  {
   "cell_type": "code",
   "execution_count": 8,
   "metadata": {},
   "outputs": [
    {
     "name": "stdout",
     "output_type": "stream",
     "text": [
      "2.4 ms ± 318 µs per loop (mean ± std. dev. of 10 runs, 10 loops each)\n",
      "1.09 ms ± 29.4 µs per loop (mean ± std. dev. of 10 runs, 10 loops each)\n"
     ]
    }
   ],
   "source": [
    "def df(x):\n",
    "    return 2*x - 2 + 2*5*np.cos(2*x)\n",
    "\n",
    "%timeit -r10 -n10 scipy.optimize.minimize(f, 0.0)\n",
    "%timeit -r10 -n10 scipy.optimize.minimize(f, 0.0, jac=df)"
   ]
  },
  {
   "cell_type": "markdown",
   "metadata": {},
   "source": [
    "A continuación describiremos algunos de los métodos disponibles a través del argumento `method` de `minimize`"
   ]
  },
  {
   "cell_type": "markdown",
   "metadata": {},
   "source": [
    "### Métodos para optimización sin restricciones \n",
    "\n",
    "Con estos métodos no se pueden especificar los argumentos `constraint` y/o `bounds`. \n",
    "\n",
    "Por ejemplo están\n",
    "\n",
    "- [`method=CG`](https://docs.scipy.org/doc/scipy/reference/optimize.minimize-cg.html#optimize-minimize-cg): Gradiente conjugado. Es una versión de GD con tasa de aprendizaje adaptiva\n",
    "- [`method=BFGS`](https://docs.scipy.org/doc/scipy/reference/optimize.minimize-bfgs.html#optimize-minimize-bfgs): Es un método de tipo [quasi-Newton](https://en.wikipedia.org/wiki/Quasi-Newton_method) con Hessiano inverso aproximado a cada paso. \n",
    "\n",
    "Los cuales usan gradientes, ya sea numérico o especificado mediante el argumento `jac`. Si la derivada puede obtenerse analiticamente y es confiable estos métodos tendrán un desempeño superior a las alternativas\n",
    "    \n",
    "Luego están\n",
    "\n",
    "- [`method=Nelder-Mead`](https://docs.scipy.org/doc/scipy/reference/optimize.minimize-neldermead.html#optimize-minimize-neldermead): Es una heurística tipo simplex. [Animación que muestra su funcionamiento](https://www.youtube.com/watch?v=HUqLxHfxWqU)\n",
    "- [`method=Powell`](https://docs.scipy.org/doc/scipy/reference/optimize.minimize-powell.html#optimize-minimize-powell): Algoritmo de búsqueda de linea siguiendo una dirección a la vez. [Animación que muestra su funcionamiento](https://www.youtube.com/watch?v=4TYJGihyuDg)\n",
    "\n",
    "Los cuales no usan gradientes. Estos métodos pueden usarse cuando la función objetivo es no-derivable o demasiado ruidosa para ser derivada"
   ]
  },
  {
   "cell_type": "markdown",
   "metadata": {},
   "source": [
    "### Métodos para optimización con restricciones\n",
    "\n",
    "Con estos métodos se pueden incorporar restricciones al problema ya sea en forma de cotas para las variables o ecuaciones de igualdad/desigualdad que las variables deben cumplir\n",
    "\n",
    "- Las restricciones de igualdad deben ser siempre de la forma $g(x) = 0$\n",
    "- Las restricciones de desigualdad deben ser siempre de la forma $h(x) \\geq 0 $\n",
    "\n",
    "En la práctica las restricciones se entregan como una tupla en el argumento `constraint` de `method`. Cada restricción es un diccionario con las llaves `type` y `fun` para especificar el tipo (string `eq` o `ineq`) y la función, respectivamente. Opcionalmente se puede especificar `jac`, la matriz de primeras derivadas de `fun` y `arg` una tupla con argumentos adicionales para `fun` y `jac`\n",
    "\n",
    "Por ejemplo si se tiene la siguiente restricción \n",
    "\n",
    "$$\n",
    "x^2 \\geq 1 + 2x\n",
    "$$\n",
    "\n",
    "se escribe como:\n",
    "\n",
    "```python\n",
    "h1 = {'type': 'ineq', \n",
    "      'fun' : lambda x: x**2 - 2*x -1,\n",
    "      'jac' : lambda x: np.array([2*x - 2])}\n",
    "```\n",
    "\n",
    ":::{warning}\n",
    "\n",
    "Si tenemos restricciones del tipo $h(x)\\leq 0$ debemos transformarlas a $-h(x)\\geq 0$ antes de implementarlas\n",
    "\n",
    ":::\n",
    "\n",
    "Los métodos que permiten especificar restricciones son\n",
    "\n",
    "- [`L-BFGS-B`](https://docs.scipy.org/doc/scipy/reference/optimize.minimize-lbfgsb.html): Similar a BFGS pero permite añadir cotas (`bounds`) para la variable de decisión\n",
    "- [`SLSQP`](https://docs.scipy.org/doc/scipy/reference/optimize.minimize-slsqp.html): *Sequential Least Squares Programming*. Este método acepta cotas, restricciones de igualdad y restricciones de desigualdad"
   ]
  },
  {
   "cell_type": "markdown",
   "metadata": {},
   "source": [
    "**Ejemplo**\n",
    "\n",
    "Sea la siguiente función de costo con dos variables de decisión\n",
    "\n",
    "$$\n",
    "\\min f(x, y) = -(2xy+2x-x^2-2y^2) \n",
    "$$\n",
    "\n",
    "sujeta a \n",
    "\n",
    "$$\n",
    "x^3 - y = 0 ~\\wedge~y-(x-1)^4-2 \\geq 0 \n",
    "$$\n",
    "\n",
    "donde\n",
    "\n",
    "$$\n",
    "0.5\\leq x \\leq 1.5 ~\\wedge~ 1.5 \\leq y \\leq 2.5\n",
    "$$\n",
    "\n",
    "Resolvamos utilizando `minimize`. La solución sin considerar restricciones sería:"
   ]
  },
  {
   "cell_type": "code",
   "execution_count": 9,
   "metadata": {},
   "outputs": [
    {
     "data": {
      "text/plain": [
       "array([2., 1.])"
      ]
     },
     "execution_count": 9,
     "metadata": {},
     "output_type": "execute_result"
    }
   ],
   "source": [
    "def f(z):\n",
    "    return -(2*z[0]*z[1] + 2*z[0] - z[0]**2 - 2*z[1]**2)\n",
    "\n",
    "def df(z):\n",
    "    return np.array([-2*z[1] - 2 + 2*z[0], -2*z[0] + 4*z[1]])\n",
    "\n",
    "x0 = np.array([0, 1])\n",
    "\n",
    "solution_no_constraint = scipy.optimize.minimize(f, x0, jac=df, method='BFGS')\n",
    "solution_no_constraint.x"
   ]
  },
  {
   "cell_type": "markdown",
   "metadata": {},
   "source": [
    "La solución considerando cotas paras las variables de decisión sería:"
   ]
  },
  {
   "cell_type": "code",
   "execution_count": 10,
   "metadata": {},
   "outputs": [
    {
     "data": {
      "text/plain": [
       "array([1.5, 1.5])"
      ]
     },
     "execution_count": 10,
     "metadata": {},
     "output_type": "execute_result"
    }
   ],
   "source": [
    "bounds = ((0.5, 1.5), (1.5, 2.5))\n",
    "solution_with_bounds = scipy.optimize.minimize(f, x0, jac=df, method='L-BFGS-B', bounds=bounds)\n",
    "solution_with_bounds.x"
   ]
  },
  {
   "cell_type": "markdown",
   "metadata": {},
   "source": [
    "Finalmente la solución considerando cotas y restricciones sería:"
   ]
  },
  {
   "cell_type": "code",
   "execution_count": 11,
   "metadata": {},
   "outputs": [
    {
     "data": {
      "text/plain": [
       "array([1.26089314, 2.00463288])"
      ]
     },
     "execution_count": 11,
     "metadata": {},
     "output_type": "execute_result"
    }
   ],
   "source": [
    "cons = ({'type': 'eq', \n",
    "         'fun': lambda z: z[0]**3 - z[1], \n",
    "         'jac': lambda z: np.array([3*z[0]**2, -1.])\n",
    "        },\n",
    "        {'type': 'ineq',\n",
    "         'fun': lambda z: z[1] - (z[0]-1)**4 - 2,\n",
    "         'jac': lambda z: np.array([-4*(z[0]-1)**3, 1.])\n",
    "        })\n",
    "\n",
    "solution_with_constraints = scipy.optimize.minimize(f, x0, jac=df, method='SLSQP', \n",
    "                                                    bounds=bounds, constraints=cons)\n",
    "solution_with_constraints.x"
   ]
  },
  {
   "cell_type": "markdown",
   "metadata": {},
   "source": [
    "Podemos visualizar estas soluciones con `matplotlib`, el color de la superficie representa la función objetivo, el área oscura las cotas y las lineas punteadas las restricciones"
   ]
  },
  {
   "cell_type": "code",
   "execution_count": 12,
   "metadata": {},
   "outputs": [
    {
     "data": {
      "image/png": "[encoded data removed]",
      "text/plain": [
       "<Figure size 648x360 with 2 Axes>"
      ]
     },
     "metadata": {
      "needs_background": "light"
     },
     "output_type": "display_data"
    }
   ],
   "source": [
    "x = np.linspace(0, 3, 100)\n",
    "y = np.linspace(0, 3, 100)\n",
    "A, B = np.meshgrid(x, y)\n",
    "C = f(np.vstack([A.ravel(), B.ravel()])).reshape((100,100))\n",
    "fig, ax = plt.subplots(figsize=(9, 5))\n",
    "cm = ax.contourf(A, B, C, cmap=plt.cm.Blues);\n",
    "ax.plot(x, x**3, 'k--', lw=2)\n",
    "ax.plot(x, 2+(x-1)**4, 'k--', lw=2)\n",
    "ax.fill([0.5, 0.5, 1.5, 1.5], [2.5, 1.5, 1.5, 2.5], alpha=0.3)\n",
    "ax.axis([0, 3, 0, 3])\n",
    "ax.scatter(solution_no_constraint.x[0], solution_no_constraint.x[1], \n",
    "           s=100, c='b', label='BFGS');\n",
    "ax.scatter(solution_with_bounds.x[0], solution_with_bounds.x[1], \n",
    "           s=100, c='g', label='L-BFGS-B');\n",
    "ax.scatter(solution_with_constraints.x[0], solution_with_constraints.x[1], \n",
    "           s=100, c='r', label='SLSQP');\n",
    "fig.colorbar(cm)\n",
    "plt.legend();"
   ]
  },
  {
   "cell_type": "markdown",
   "metadata": {},
   "source": [
    "## Más allá de esta lección"
   ]
  },
  {
   "cell_type": "markdown",
   "metadata": {},
   "source": [
    ":::{seealso}\n",
    "\n",
    "Funcionalidades de SciPy que no se exploraron en esta lección:\n",
    "\n",
    "- [Encontrando raices de una función](https://docs.scipy.org/doc/scipy/reference/generated/scipy.optimize.root.html#scipy.optimize.root)\n",
    "- [Solución de problemas de programación lineal](https://docs.scipy.org/doc/scipy/reference/generated/scipy.optimize.linprog.html#scipy.optimize.linprog)\n",
    "\n",
    ":::\n",
    "\n",
    "\n",
    ":::{warning}\n",
    "\n",
    "Tenga en cuenta las siguientes limitaciones:\n",
    "\n",
    "- Scipy puede ser lento para problemas de gran envergadura. Si este es el caso sugiero explorar los wrappers de Python de [CVXOPT](https://www.cvxpy.org/)\n",
    "- Scipy no tiene optimizadores para variables de decisión discretas. En caso de necesitar utilizar un algoritmo de optimización externo/comercial (por ejemplo CPLEX, Gurobi o AMPL) , sugiero explorar la librería [Pyomo](http://www.pyomo.org/documentation)\n",
    "\n",
    ":::\n",
    "\n"
   ]
  },
  {
   "cell_type": "code",
   "execution_count": null,
   "metadata": {},
   "outputs": [],
   "source": []
  }
 ],
 "metadata": {
  "kernelspec": {
   "display_name": "Python 3 (ipykernel)",
   "language": "python",
   "name": "python3"
  },
  "language_info": {
   "codemirror_mode": {
    "name": "ipython",
    "version": 3
   },
   "file_extension": ".py",
   "mimetype": "text/x-python",
   "name": "python",
   "nbconvert_exporter": "python",
   "pygments_lexer": "ipython3",
   "version": "3.8.12"
  },
  "toc": {
   "base_numbering": 1,
   "nav_menu": {},
   "number_sections": true,
   "sideBar": true,
   "skip_h1_title": false,
   "title_cell": "Table of Contents",
   "title_sidebar": "Contents",
   "toc_cell": false,
   "toc_position": {
    "height": "calc(100% - 180px)",
    "left": "10px",
    "top": "150px",
    "width": "320px"
   },
   "toc_section_display": true,
   "toc_window_display": true
  }
 },
 "nbformat": 4,
 "nbformat_minor": 2
}
