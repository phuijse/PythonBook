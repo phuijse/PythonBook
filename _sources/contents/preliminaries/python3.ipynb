{
 "cells": [
  {
   "cell_type": "markdown",
   "metadata": {},
   "source": [
    "# Repaso de Python 3\n",
    "\n",
    "Este curso asume una competencia intermedia de Python. Esta lección autocontenida es sólo un refresco de memoria de las cosas más importantes que Python ofrece\n",
    "\n",
    "Partamos por recitar el zen de Python:"
   ]
  },
  {
   "cell_type": "code",
   "execution_count": 1,
   "metadata": {
    "ExecuteTime": {
     "end_time": "2020-05-14T14:48:13.965156Z",
     "start_time": "2020-05-14T14:48:13.960923Z"
    }
   },
   "outputs": [
    {
     "name": "stdout",
     "output_type": "stream",
     "text": [
      "The Zen of Python, by Tim Peters\n",
      "\n",
      "Beautiful is better than ugly.\n",
      "Explicit is better than implicit.\n",
      "Simple is better than complex.\n",
      "Complex is better than complicated.\n",
      "Flat is better than nested.\n",
      "Sparse is better than dense.\n",
      "Readability counts.\n",
      "Special cases aren't special enough to break the rules.\n",
      "Although practicality beats purity.\n",
      "Errors should never pass silently.\n",
      "Unless explicitly silenced.\n",
      "In the face of ambiguity, refuse the temptation to guess.\n",
      "There should be one-- and preferably only one --obvious way to do it.\n",
      "Although that way may not be obvious at first unless you're Dutch.\n",
      "Now is better than never.\n",
      "Although never is often better than *right* now.\n",
      "If the implementation is hard to explain, it's a bad idea.\n",
      "If the implementation is easy to explain, it may be a good idea.\n",
      "Namespaces are one honking great idea -- let's do more of those!\n"
     ]
    }
   ],
   "source": [
    "import this"
   ]
  },
  {
   "cell_type": "markdown",
   "metadata": {},
   "source": [
    "## Dynamic typing\n",
    "\n",
    "No es necesario declarar el tipo de una variable, Python lo hace automaticamente"
   ]
  },
  {
   "cell_type": "code",
   "execution_count": 2,
   "metadata": {
    "ExecuteTime": {
     "end_time": "2020-05-14T14:52:35.955610Z",
     "start_time": "2020-05-14T14:52:35.946823Z"
    }
   },
   "outputs": [
    {
     "data": {
      "text/plain": [
       "int"
      ]
     },
     "execution_count": 2,
     "metadata": {},
     "output_type": "execute_result"
    }
   ],
   "source": [
    "x = 1\n",
    "type(x)"
   ]
  },
  {
   "cell_type": "code",
   "execution_count": 3,
   "metadata": {},
   "outputs": [
    {
     "data": {
      "text/plain": [
       "float"
      ]
     },
     "execution_count": 3,
     "metadata": {},
     "output_type": "execute_result"
    }
   ],
   "source": [
    "x = 1.\n",
    "type(x)"
   ]
  },
  {
   "cell_type": "code",
   "execution_count": 4,
   "metadata": {},
   "outputs": [
    {
     "data": {
      "text/plain": [
       "str"
      ]
     },
     "execution_count": 4,
     "metadata": {},
     "output_type": "execute_result"
    }
   ],
   "source": [
    "x = '1'\n",
    "type(x)"
   ]
  },
  {
   "cell_type": "markdown",
   "metadata": {},
   "source": [
    "## Funciones\n",
    "\n",
    "Argumentos posicionales (mandatorios), keywords, lista de argumentos y lista con nombre especificado"
   ]
  },
  {
   "cell_type": "code",
   "execution_count": 5,
   "metadata": {
    "ExecuteTime": {
     "end_time": "2020-05-14T14:53:50.455791Z",
     "start_time": "2020-05-14T14:53:50.444949Z"
    },
    "cell_style": "center",
    "code_folding": []
   },
   "outputs": [
    {
     "name": "stdout",
     "output_type": "stream",
     "text": [
      "10\n",
      "20\n",
      "('asd', 21, 54)\n",
      "{'bar': 12}\n"
     ]
    },
    {
     "data": {
      "text/plain": [
       "10"
      ]
     },
     "execution_count": 5,
     "metadata": {},
     "output_type": "execute_result"
    }
   ],
   "source": [
    "def foo(x,  # Este es un positional argument\n",
    "        y=100,  # Este es un keyword argument\n",
    "        *args, # Esta es una lista de argumentos\n",
    "        **kwargs): # Este es un diccionario de argumentos\n",
    "    print(x)\n",
    "    print(y)\n",
    "    print(args)\n",
    "    print(kwargs)\n",
    "    return x\n",
    "\n",
    "\n",
    "foo(10, 20, 'asd', 21, 54, bar=12)"
   ]
  },
  {
   "cell_type": "code",
   "execution_count": 6,
   "metadata": {
    "ExecuteTime": {
     "end_time": "2020-05-14T14:54:35.673851Z",
     "start_time": "2020-05-14T14:54:35.668901Z"
    },
    "cell_style": "center"
   },
   "outputs": [
    {
     "name": "stdout",
     "output_type": "stream",
     "text": [
      "2.0\n",
      "3\n"
     ]
    }
   ],
   "source": [
    "def foo(x, y=None):\n",
    "    y = 1. if y is None else y\n",
    "    return x + y\n",
    "\n",
    "print(foo(1))\n",
    "print(foo(1, 2))"
   ]
  },
  {
   "cell_type": "markdown",
   "metadata": {},
   "source": [
    "## Clases\n",
    "\n",
    "Ejemplo de herencia de clases en Python\n"
   ]
  },
  {
   "cell_type": "code",
   "execution_count": 7,
   "metadata": {
    "ExecuteTime": {
     "end_time": "2020-05-14T14:55:12.999309Z",
     "start_time": "2020-05-14T14:55:12.993297Z"
    }
   },
   "outputs": [
    {
     "name": "stdout",
     "output_type": "stream",
     "text": [
      "Rojo\n"
     ]
    }
   ],
   "source": [
    "class Fruta:\n",
    "    def __init__(self, nombre, color):\n",
    "        self.nombre = nombre # Atributos públicos\n",
    "        self.color = color\n",
    "        self.__sabor =  'asd' # Este es un atributo privado\n",
    "        \n",
    "class Manzana(Fruta):\n",
    "    def __init__(self):\n",
    "        super().__init__(\"Manzana\", \"Rojo\") # Llamamos al constructor de Fruta con super\n",
    "    \n",
    "mi_manzana = Manzana()\n",
    "print(mi_manzana.color)\n",
    "#mi_manzana.__atributo_privado"
   ]
  },
  {
   "cell_type": "markdown",
   "metadata": {},
   "source": [
    "## Imprimiendo\n",
    "\n",
    "En Python 3 `print` es una función, podemos imprimir texto formateado como"
   ]
  },
  {
   "cell_type": "code",
   "execution_count": 8,
   "metadata": {
    "ExecuteTime": {
     "end_time": "2020-05-14T14:57:30.661352Z",
     "start_time": "2020-05-14T14:57:30.654587Z"
    }
   },
   "outputs": [
    {
     "name": "stdout",
     "output_type": "stream",
     "text": [
      "pablo huijse\t edad: 33 peso: 80.2000\n",
      "pablo huijse\t edad: 33 peso: 80.2000\n",
      "pablo huijse\t edad: 33 peso: 80.2000\n"
     ]
    }
   ],
   "source": [
    "nombre = 'pablo'\n",
    "apellido = 'huijse'\n",
    "edad = 33\n",
    "peso = 80.2\n",
    "\n",
    "print(\"%s %s\\t edad: %d peso: %0.4f\" %(nombre, apellido, edad, peso))\n",
    "print(\"{1} {0}\\t edad: {2} peso: {3:0.4f}\".format(apellido, nombre, edad, peso))\n",
    "# Mi favorito: f-strings:\n",
    "print(f\"{nombre} {apellido}\\t edad: {edad} peso: {peso:0.4f}\")"
   ]
  },
  {
   "cell_type": "code",
   "execution_count": 9,
   "metadata": {},
   "outputs": [
    {
     "name": "stdout",
     "output_type": "stream",
     "text": [
      "pablo huijse 33 80.2\n"
     ]
    }
   ],
   "source": [
    "# Demostración del argumento sep de print\n",
    "print(nombre, apellido, edad, peso, sep=' ')"
   ]
  },
  {
   "cell_type": "markdown",
   "metadata": {},
   "source": [
    "## Manejadores de contexto\n",
    "\n",
    "Usando la palabra clave `with` no es necesario preocuparse de cerrar el archivo file.txt"
   ]
  },
  {
   "cell_type": "code",
   "execution_count": 10,
   "metadata": {
    "ExecuteTime": {
     "end_time": "2020-05-14T14:58:59.283657Z",
     "start_time": "2020-05-14T14:58:59.160835Z"
    }
   },
   "outputs": [
    {
     "name": "stdout",
     "output_type": "stream",
     "text": [
      "asdasdasdasd\n",
      "\n"
     ]
    }
   ],
   "source": [
    "!echo \"asdasdasdasd\" > file.txt\n",
    "\n",
    "with open('file.txt') as f:\n",
    "    contents = f.read()\n",
    "\n",
    "print(contents)"
   ]
  },
  {
   "cell_type": "markdown",
   "metadata": {},
   "source": [
    "## Decoradores\n",
    "\n",
    "Funciones o clases que pueden modificar el funcionamiento de otra función"
   ]
  },
  {
   "cell_type": "code",
   "execution_count": 11,
   "metadata": {
    "ExecuteTime": {
     "end_time": "2020-05-14T15:00:08.164278Z",
     "start_time": "2020-05-14T15:00:08.153976Z"
    }
   },
   "outputs": [
    {
     "data": {
      "text/plain": [
       "21"
      ]
     },
     "execution_count": 11,
     "metadata": {},
     "output_type": "execute_result"
    }
   ],
   "source": [
    "def decorator(func):    \n",
    "    def new_func(x):\n",
    "        return func(x) + 10\n",
    "    return new_func\n",
    "\n",
    "@decorator\n",
    "def foo(x):\n",
    "    return x +1\n",
    "\n",
    "foo(10)"
   ]
  },
  {
   "cell_type": "markdown",
   "metadata": {},
   "source": [
    "## Listas, tuplas y rangos\n",
    "\n",
    "Son tipos de datos secuenciales, es decir pueden ser iterados"
   ]
  },
  {
   "cell_type": "code",
   "execution_count": 12,
   "metadata": {
    "ExecuteTime": {
     "end_time": "2020-05-14T15:00:49.885249Z",
     "start_time": "2020-05-14T15:00:49.876150Z"
    }
   },
   "outputs": [
    {
     "name": "stdout",
     "output_type": "stream",
     "text": [
      "None\n",
      "[1, 'hola']\n",
      "hola\n",
      "[1]\n",
      "['chao']\n"
     ]
    }
   ],
   "source": [
    "lista_vacia = [] # Creación de una lista vacía\n",
    "print(lista_vacia.append(1)) # Agregando un elemento\n",
    "lista_vacia.append('hola')\n",
    "print(lista_vacia) # Tiene dos elementos\n",
    "print(lista_vacia.pop()) # Eliminando el primer elemento\n",
    "print(lista_vacia) # Ahora tiene uno\n",
    "lista_vacia[0] = 'chao' # Modificando el primer elemento\n",
    "print(lista_vacia)"
   ]
  },
  {
   "cell_type": "code",
   "execution_count": 13,
   "metadata": {
    "ExecuteTime": {
     "end_time": "2020-05-14T15:01:06.445770Z",
     "start_time": "2020-05-14T15:01:06.436638Z"
    }
   },
   "outputs": [
    {
     "name": "stdout",
     "output_type": "stream",
     "text": [
      "a b c 1 2 3 2.4 asd "
     ]
    }
   ],
   "source": [
    "una_lista = ['a', 'b', 'c', 1, 2, 3, 2.4, 'asd']\n",
    "\n",
    "for elemento in una_lista:\n",
    "    print(elemento, end=' ')"
   ]
  },
  {
   "cell_type": "markdown",
   "metadata": {},
   "source": [
    "\"Desempacando\" (unpacking) una lista"
   ]
  },
  {
   "cell_type": "code",
   "execution_count": 14,
   "metadata": {
    "ExecuteTime": {
     "end_time": "2020-05-14T15:02:01.005832Z",
     "start_time": "2020-05-14T15:02:01.001126Z"
    }
   },
   "outputs": [
    {
     "name": "stdout",
     "output_type": "stream",
     "text": [
      "a\n",
      "['b', 'c', 1, 2, 3, 2.4]\n",
      "asd\n"
     ]
    }
   ],
   "source": [
    "primero, *medio, ultimo = una_lista\n",
    "print(primero)\n",
    "print(medio)\n",
    "print(ultimo)"
   ]
  },
  {
   "cell_type": "code",
   "execution_count": 15,
   "metadata": {
    "ExecuteTime": {
     "end_time": "2020-05-14T15:02:21.918097Z",
     "start_time": "2020-05-14T15:02:21.909842Z"
    }
   },
   "outputs": [
    {
     "name": "stdout",
     "output_type": "stream",
     "text": [
      "asd a\n"
     ]
    }
   ],
   "source": [
    "primero, ultimo = ultimo, primero\n",
    "print(primero, ultimo)"
   ]
  },
  {
   "cell_type": "markdown",
   "metadata": {},
   "source": [
    "Imprimiendo una lista completa"
   ]
  },
  {
   "cell_type": "code",
   "execution_count": 16,
   "metadata": {
    "ExecuteTime": {
     "end_time": "2020-05-14T15:02:34.457197Z",
     "start_time": "2020-05-14T15:02:34.450679Z"
    }
   },
   "outputs": [
    {
     "name": "stdout",
     "output_type": "stream",
     "text": [
      "['a', 'b', 'c', 1, 2, 3, 2.4, 'asd']\n",
      "a b c 1 2 3 2.4 asd\n",
      "a-b-c-1-2-3-2.4-asd fin!"
     ]
    }
   ],
   "source": [
    "print(una_lista)\n",
    "print(*una_lista)\n",
    "print(*una_lista, sep='-', end=' fin!')"
   ]
  },
  {
   "cell_type": "markdown",
   "metadata": {},
   "source": [
    "Obteniendo el largo de una lista"
   ]
  },
  {
   "cell_type": "code",
   "execution_count": 17,
   "metadata": {
    "ExecuteTime": {
     "end_time": "2020-05-14T15:02:57.419295Z",
     "start_time": "2020-05-14T15:02:57.412540Z"
    }
   },
   "outputs": [
    {
     "data": {
      "text/plain": [
       "8"
      ]
     },
     "execution_count": 17,
     "metadata": {},
     "output_type": "execute_result"
    }
   ],
   "source": [
    "len(una_lista)"
   ]
  },
  {
   "cell_type": "markdown",
   "metadata": {},
   "source": [
    "Tomando slices (trozos) de una lista"
   ]
  },
  {
   "cell_type": "code",
   "execution_count": 18,
   "metadata": {
    "ExecuteTime": {
     "end_time": "2020-05-14T15:03:22.611482Z",
     "start_time": "2020-05-14T15:03:22.605620Z"
    }
   },
   "outputs": [
    {
     "name": "stdout",
     "output_type": "stream",
     "text": [
      "a\n",
      "['b', 'c', 1]\n",
      "asd\n",
      "['a', 'c', 2, 2.4]\n",
      "['asd', 2.4, 3, 2, 1, 'c', 'b', 'a']\n"
     ]
    }
   ],
   "source": [
    "print(una_lista[0])\n",
    "print(una_lista[1:4])\n",
    "print(una_lista[-1])\n",
    "print(una_lista[::2])\n",
    "print(una_lista[::-1])"
   ]
  },
  {
   "cell_type": "markdown",
   "metadata": {},
   "source": [
    "Las tuplas son similares a las listas, en el sentido de que sus elementos pueden tener tipos distintos"
   ]
  },
  {
   "cell_type": "code",
   "execution_count": 19,
   "metadata": {
    "ExecuteTime": {
     "end_time": "2020-05-14T15:03:34.568102Z",
     "start_time": "2020-05-14T15:03:34.419332Z"
    }
   },
   "outputs": [
    {
     "name": "stdout",
     "output_type": "stream",
     "text": [
      "(0, 10, 51243, 'asd')\n",
      "0\n",
      "0 10 51243 asd "
     ]
    }
   ],
   "source": [
    "tupla = (0, 10, 51243, 'asd')\n",
    "print(tupla)\n",
    "print(tupla[0])\n",
    "for elemento in tupla:\n",
    "    print(elemento, end=' ')"
   ]
  },
  {
   "cell_type": "markdown",
   "metadata": {},
   "source": [
    "Pero a diferencia de las listas son inmutables, es decir no se pueden modificar"
   ]
  },
  {
   "cell_type": "code",
   "execution_count": 20,
   "metadata": {},
   "outputs": [
    {
     "ename": "TypeError",
     "evalue": "'tuple' object does not support item assignment",
     "output_type": "error",
     "traceback": [
      "\u001b[0;31m---------------------------------------------------------------------------\u001b[0m",
      "\u001b[0;31mTypeError\u001b[0m                                 Traceback (most recent call last)",
      "Input \u001b[0;32mIn [20]\u001b[0m, in \u001b[0;36m<cell line: 1>\u001b[0;34m()\u001b[0m\n\u001b[0;32m----> 1\u001b[0m tupla[\u001b[38;5;241m0\u001b[39m] \u001b[38;5;241m=\u001b[39m \u001b[38;5;124m'\u001b[39m\u001b[38;5;124mhola\u001b[39m\u001b[38;5;124m'\u001b[39m\n",
      "\u001b[0;31mTypeError\u001b[0m: 'tuple' object does not support item assignment"
     ]
    }
   ],
   "source": [
    "tupla[0] = 'hola'"
   ]
  },
  {
   "cell_type": "markdown",
   "metadata": {},
   "source": [
    "Podemos usar `range` para crear un iterador de números enteros"
   ]
  },
  {
   "cell_type": "code",
   "execution_count": 21,
   "metadata": {
    "ExecuteTime": {
     "end_time": "2020-05-14T15:03:58.634421Z",
     "start_time": "2020-05-14T15:03:58.628231Z"
    }
   },
   "outputs": [
    {
     "name": "stdout",
     "output_type": "stream",
     "text": [
      "0 2 4 6 8 10 12 14 16 18 "
     ]
    }
   ],
   "source": [
    "for element in range(0, 20, 2):\n",
    "    print(element, end=' ')\n"
   ]
  },
  {
   "cell_type": "markdown",
   "metadata": {},
   "source": [
    "Adicionalmente podemos usar `enumerate`, para crear un índice entero a partir de una lista"
   ]
  },
  {
   "cell_type": "code",
   "execution_count": 22,
   "metadata": {
    "ExecuteTime": {
     "end_time": "2020-05-14T15:05:09.609659Z",
     "start_time": "2020-05-14T15:05:09.602326Z"
    }
   },
   "outputs": [
    {
     "name": "stdout",
     "output_type": "stream",
     "text": [
      "0, a\n",
      "1, b\n",
      "2, c\n",
      "3, 1\n",
      "4, 2\n",
      "5, 3\n",
      "6, 2.4\n",
      "7, asd\n",
      "0, a\n",
      "1, b\n",
      "2, c\n",
      "3, 1\n",
      "4, 2\n",
      "5, 3\n",
      "6, 2.4\n",
      "7, asd\n"
     ]
    }
   ],
   "source": [
    "for i in range(len(una_lista)):\n",
    "    print(\"{0}, {1}\".format(i, una_lista[i]))\n",
    "\n",
    "for i, element in enumerate(una_lista):\n",
    "    print(\"{0}, {1}\".format(i, element))    "
   ]
  },
  {
   "cell_type": "markdown",
   "metadata": {},
   "source": [
    "## Comprensiones de listas (list comprehensions)\n",
    "\n",
    "Son una forma consisa de crear listas"
   ]
  },
  {
   "cell_type": "code",
   "execution_count": 23,
   "metadata": {
    "ExecuteTime": {
     "end_time": "2020-05-14T15:05:30.061060Z",
     "start_time": "2020-05-14T15:05:30.055536Z"
    }
   },
   "outputs": [
    {
     "data": {
      "text/plain": [
       "[0, 1, 2, 3, 4, 5, 6, 7, 8, 9, 10, 11, 12, 13, 14, 15, 16, 17, 18, 19]"
      ]
     },
     "execution_count": 23,
     "metadata": {},
     "output_type": "execute_result"
    }
   ],
   "source": [
    "[x for x in range(20)]"
   ]
  },
  {
   "cell_type": "code",
   "execution_count": 24,
   "metadata": {
    "ExecuteTime": {
     "end_time": "2020-05-14T15:06:51.827988Z",
     "start_time": "2020-05-14T15:06:51.821494Z"
    }
   },
   "outputs": [
    {
     "name": "stdout",
     "output_type": "stream",
     "text": [
      "['UN', 'DÍA', 'VI', 'UNA', 'VACA', 'VESTIDA', 'DE', 'UNIFORME']\n",
      "['UN', 'DÍA', 'VI', 'UNA', 'VACA', 'VESTIDA', 'DE', 'UNIFORME']\n"
     ]
    }
   ],
   "source": [
    "texto_en_minuscula = ['Un', 'día', 'vi', 'una', 'vaca', 'vestida', 'de', 'uniforme']\n",
    "\n",
    "texto_en_mayuscula = []\n",
    "for palabra in texto_en_minuscula:\n",
    "    texto_en_mayuscula.append(palabra.upper())\n",
    "print(texto_en_mayuscula)\n",
    "\n",
    "print([palabra.upper() for palabra in texto_en_minuscula])"
   ]
  },
  {
   "cell_type": "markdown",
   "metadata": {},
   "source": [
    "Se puede hacer una doble iteración"
   ]
  },
  {
   "cell_type": "code",
   "execution_count": 25,
   "metadata": {
    "ExecuteTime": {
     "end_time": "2020-05-14T15:06:59.423405Z",
     "start_time": "2020-05-14T15:06:59.415299Z"
    }
   },
   "outputs": [
    {
     "name": "stdout",
     "output_type": "stream",
     "text": [
      "[(0, 0), (0, 1), (0, 2), (0, 3), (0, 4), (1, 0), (1, 1), (1, 2), (1, 3), (1, 4), (2, 0), (2, 1), (2, 2), (2, 3), (2, 4), (3, 0), (3, 1), (3, 2), (3, 3), (3, 4), (4, 0), (4, 1), (4, 2), (4, 3), (4, 4)]\n"
     ]
    }
   ],
   "source": [
    "print([(x, y) for x in range(5) for y in range(5)])"
   ]
  },
  {
   "cell_type": "markdown",
   "metadata": {},
   "source": [
    "También se pueden aplicar condicionales en el iterador y/o en los valores"
   ]
  },
  {
   "cell_type": "code",
   "execution_count": 26,
   "metadata": {
    "ExecuteTime": {
     "end_time": "2020-05-14T15:07:18.154920Z",
     "start_time": "2020-05-14T15:07:18.150987Z"
    }
   },
   "outputs": [
    {
     "name": "stdout",
     "output_type": "stream",
     "text": [
      "[0, 2, 4, 6, 8]\n"
     ]
    }
   ],
   "source": [
    "# condicional en el iterador\n",
    "print([x for x in range(10) if x % 2 == 0])"
   ]
  },
  {
   "cell_type": "code",
   "execution_count": 27,
   "metadata": {
    "ExecuteTime": {
     "end_time": "2020-05-14T15:07:27.147652Z",
     "start_time": "2020-05-14T15:07:27.143341Z"
    }
   },
   "outputs": [
    {
     "name": "stdout",
     "output_type": "stream",
     "text": [
      "[0, 1, 4, 9, 16, 5, 6, 7, 8, 9]\n"
     ]
    }
   ],
   "source": [
    "# conditional en el valor\n",
    "print([x**2 if x < 5 else x for x in range(10)])"
   ]
  },
  {
   "cell_type": "markdown",
   "metadata": {},
   "source": [
    "Puede usarse `zip` parar iterar sobre más de una lista"
   ]
  },
  {
   "cell_type": "code",
   "execution_count": 28,
   "metadata": {
    "ExecuteTime": {
     "end_time": "2020-05-14T15:07:50.759825Z",
     "start_time": "2020-05-14T15:07:50.749407Z"
    }
   },
   "outputs": [
    {
     "name": "stdout",
     "output_type": "stream",
     "text": [
      "0, 10, Un\n",
      "1, 10, día\n",
      "2, 10, vi\n",
      "3, 10, una\n",
      "4, 10, vaca\n",
      "5, 10, vestida\n",
      "6, 10, de\n",
      "7, 10, uniforme\n"
     ]
    }
   ],
   "source": [
    "lista1 = [x for x in range(20)]\n",
    "lista2 = [10]*20\n",
    "lista3 = texto_en_minuscula\n",
    "\n",
    "for elemento1, elemento2, elemento3 in zip(lista1, lista2, lista3):\n",
    "    print(elemento1, elemento2, elemento3, sep=', ')"
   ]
  },
  {
   "cell_type": "markdown",
   "metadata": {},
   "source": [
    "## Sets\n",
    "\n",
    "Los `set` son una colección desordenada de objetos sin duplicados\n",
    "\n",
    "Es posible iterar en un set, agregar/remover elementos y aplicar operaciones lógicas entre sets (intersección, union, diferencia)\n",
    "\n",
    "Tiene complejidad O(1) de búsqueda (muy eficientes). Se deben preferir antes que las listas cuando\n",
    "\n",
    "- La colección es de gran tamaño\n",
    "- No hay elementos repetidos\n",
    "- Se realizarán múltiples búsquedas en la colección\n",
    "\n",
    "\n",
    "\n"
   ]
  },
  {
   "cell_type": "code",
   "execution_count": 29,
   "metadata": {
    "ExecuteTime": {
     "end_time": "2020-05-14T15:08:58.310990Z",
     "start_time": "2020-05-14T15:08:58.294202Z"
    }
   },
   "outputs": [
    {
     "name": "stdout",
     "output_type": "stream",
     "text": [
      "['the', 'zen', 'of', 'python', 'by', 'tim', 'peters', 'beautiful', 'is', 'better', 'than', 'ugly', 'explicit', 'is', 'better', 'than', 'implicit', 'simple', 'is', 'better', 'than', 'complex', 'complex', 'is', 'better', 'than', 'complicated', 'flat', 'is', 'better', 'than', 'nested', 'sparse', 'is', 'better', 'than', 'dense', 'readability', 'counts', 'special', 'cases', \"aren't\", 'special', 'enough', 'to', 'break', 'the', 'rules', 'although', 'practicality', 'beats', 'purity', 'errors', 'should', 'never', 'pass', 'silently', 'unless', 'explicitly', 'silenced', 'in', 'the', 'face', 'of', 'ambiguity', 'refuse', 'the', 'temptation', 'to', 'guess', 'there', 'should', 'be', 'one', 'and', 'preferably', 'only', 'one', 'obvious', 'way', 'to', 'do', 'it', 'although', 'that', 'way', 'may', 'not', 'be', 'obvious', 'at', 'first', 'unless', \"you're\", 'dutch', 'now', 'is', 'better', 'than', 'never', 'although', 'never', 'is', 'often', 'better', 'than', 'right', 'now', 'if', 'the', 'implementation', 'is', 'hard', 'to', 'explain', \"it's\", 'a', 'bad', 'idea', 'if', 'the', 'implementation', 'is', 'easy', 'to', 'explain', 'it', 'may', 'be', 'a', 'good', 'idea', 'namespaces', 'are', 'one', 'honking', 'great', 'idea', '', \"let's\", 'do', 'more', 'of', 'those']\n"
     ]
    }
   ],
   "source": [
    "with open(\"zen.txt\") as archivo:\n",
    "    zen = [palabra.strip(\".,-*!\").lower() for linea in archivo for palabra in linea.split()]\n",
    "\n",
    "print(zen)"
   ]
  },
  {
   "cell_type": "markdown",
   "metadata": {},
   "source": [
    "Para ver si un elemento es parte de una lista, set, diccionario usamos `in`\n",
    "\n",
    "Comparemos el tiempo que demora esta operación en una lista y en un set"
   ]
  },
  {
   "cell_type": "code",
   "execution_count": 30,
   "metadata": {
    "ExecuteTime": {
     "end_time": "2020-05-14T15:09:17.126721Z",
     "start_time": "2020-05-14T15:09:17.112539Z"
    }
   },
   "outputs": [
    {
     "name": "stdout",
     "output_type": "stream",
     "text": [
      "72.2 ns ± 18.5 ns per loop (mean ± std. dev. of 7 runs, 20 loops each)\n",
      "2.6 µs ± 365 ns per loop (mean ± std. dev. of 7 runs, 20 loops each)\n"
     ]
    }
   ],
   "source": [
    "s = set(zen) # Esto construye un set a partir de una lista\n",
    "\n",
    "%timeit -n20 'Although' in s\n",
    "\n",
    "%timeit -n20 'Although' in zen"
   ]
  },
  {
   "cell_type": "markdown",
   "metadata": {},
   "source": [
    "## Diccionario\n",
    "\n",
    "Es una secuencia indexada por llaves (*keys*). \n",
    "\n",
    "- Al igual que el set tienen complejidad de búsqueda O(1)\n",
    "- A diferencia del set se puede buscar un elemento usando su llave"
   ]
  },
  {
   "cell_type": "code",
   "execution_count": 31,
   "metadata": {
    "ExecuteTime": {
     "end_time": "2020-05-14T15:11:03.963713Z",
     "start_time": "2020-05-14T15:11:03.950221Z"
    }
   },
   "outputs": [
    {
     "name": "stdout",
     "output_type": "stream",
     "text": [
      "huijse\n",
      "True\n",
      "['nombre', 'apellido', 'edad', 'peso']\n",
      "nombre: pablo\n",
      "apellido: huijse\n",
      "edad: 33\n",
      "peso: 80.1\n"
     ]
    }
   ],
   "source": [
    "d = {'nombre': 'pablo', 'apellido': 'huijse', 'edad': 33, 'peso': 80.1}\n",
    "\n",
    "# Leyendo el valor asociado a una llave\n",
    "print(d['apellido'])\n",
    "# Buscando si un elemento existe\n",
    "print('edad' in d)\n",
    "# Retorna las llaves:\n",
    "print(list(d))\n",
    "# Se puede iterar en llaves y valores\n",
    "for llave, valor in d.items():\n",
    "    print(llave, valor, sep=': ')"
   ]
  },
  {
   "cell_type": "markdown",
   "metadata": {},
   "source": [
    "## Iteradores\n",
    "\n",
    "Podemos usar `iter` para crear un iterador a partir de un objeto iterable (lista, tupla, rango, string, diccionario)\n",
    "\n",
    "El iterador se evalua con `next` para escupir el próximo elemento, el cual sale del iterador (lazy, single-use)\n",
    "\n",
    "Son ventajosos en términos de uso de memoría (la lista completa no se mapea en memoria)"
   ]
  },
  {
   "cell_type": "code",
   "execution_count": 32,
   "metadata": {
    "ExecuteTime": {
     "end_time": "2020-05-14T15:11:38.280917Z",
     "start_time": "2020-05-14T15:11:38.265859Z"
    }
   },
   "outputs": [
    {
     "name": "stdout",
     "output_type": "stream",
     "text": [
      "Un\n",
      "día\n",
      "['vi', 'una', 'vaca', 'vestida', 'de', 'uniforme']\n"
     ]
    },
    {
     "ename": "StopIteration",
     "evalue": "",
     "output_type": "error",
     "traceback": [
      "\u001b[0;31m---------------------------------------------------------------------------\u001b[0m",
      "\u001b[0;31mStopIteration\u001b[0m                             Traceback (most recent call last)",
      "Input \u001b[0;32mIn [32]\u001b[0m, in \u001b[0;36m<cell line: 7>\u001b[0;34m()\u001b[0m\n\u001b[1;32m      5\u001b[0m \u001b[38;5;28mprint\u001b[39m(\u001b[38;5;28mlist\u001b[39m(iterador))\n\u001b[1;32m      6\u001b[0m \u001b[38;5;66;03m# El iterador arroja una excepción StopIteration cuando se termina\u001b[39;00m\n\u001b[0;32m----> 7\u001b[0m \u001b[38;5;28mprint\u001b[39m(\u001b[38;5;28;43mnext\u001b[39;49m\u001b[43m(\u001b[49m\u001b[43miterador\u001b[49m\u001b[43m)\u001b[49m)\n",
      "\u001b[0;31mStopIteration\u001b[0m: "
     ]
    }
   ],
   "source": [
    "iterador = iter(texto_en_minuscula)\n",
    "\n",
    "print(next(iterador))\n",
    "print(next(iterador))\n",
    "print(list(iterador))\n",
    "# El iterador arroja una excepción StopIteration cuando se termina\n",
    "print(next(iterador))"
   ]
  },
  {
   "cell_type": "code",
   "execution_count": 33,
   "metadata": {
    "ExecuteTime": {
     "end_time": "2020-05-14T15:11:38.977579Z",
     "start_time": "2020-05-14T15:11:38.967768Z"
    }
   },
   "outputs": [
    {
     "name": "stdout",
     "output_type": "stream",
     "text": [
      "Un\n",
      "día\n",
      "vi\n",
      "una\n",
      "vaca\n",
      "vestida\n",
      "de\n",
      "uniforme\n",
      "[]\n"
     ]
    }
   ],
   "source": [
    "iterador = iter(texto_en_minuscula)\n",
    "for elemento in iterador:\n",
    "    print(elemento)\n",
    "\n",
    "# El iterador queda vacio luego de usarse    \n",
    "print(list(iterador))"
   ]
  },
  {
   "cell_type": "markdown",
   "metadata": {},
   "source": [
    "Escribiendo un iterador"
   ]
  },
  {
   "cell_type": "code",
   "execution_count": 34,
   "metadata": {},
   "outputs": [
    {
     "name": "stdout",
     "output_type": "stream",
     "text": [
      "1e-06 1e-05 0.0001 0.001 0.01 0.1 1 10 100 1000 10000 100000 1000000 "
     ]
    }
   ],
   "source": [
    "class Logrange:\n",
    "    \n",
    "    def __init__(self, start=-6, end=6):\n",
    "        self.num = start\n",
    "        self.end = end\n",
    "    \n",
    "    def __iter__(self):\n",
    "        return self\n",
    "    \n",
    "    def __next__(self):\n",
    "        a = self.num\n",
    "        if a > self.end:\n",
    "            raise StopIteration\n",
    "        self.num += 1\n",
    "        return 10**a\n",
    "        \n",
    "for elemento in Logrange():\n",
    "    print(elemento, end=' ')"
   ]
  },
  {
   "cell_type": "markdown",
   "metadata": {},
   "source": [
    "## Generadores (generator function)\n",
    "\n",
    "Funciones que retornan un iterador\n",
    "\n",
    "Se usa el keyword reservado `yield`"
   ]
  },
  {
   "cell_type": "code",
   "execution_count": 35,
   "metadata": {
    "scrolled": true
   },
   "outputs": [
    {
     "name": "stdout",
     "output_type": "stream",
     "text": [
      "0 1 4 9 16 25 36 49 64 81 "
     ]
    }
   ],
   "source": [
    "def gen():\n",
    "    for i in range(10):\n",
    "        yield i**2\n",
    "        \n",
    "for x in gen():\n",
    "    print(x, end=' ')\n",
    "#print(*gen())"
   ]
  },
  {
   "cell_type": "markdown",
   "metadata": {},
   "source": [
    "## Expresión generadora (generator expression)\n",
    "- Se construye como una comprensión de lista pero usando () en vez de []\n",
    "- Produce una \"receta\" en lugar de una lista\n",
    "- Se consume una vez y muere"
   ]
  },
  {
   "cell_type": "code",
   "execution_count": 36,
   "metadata": {},
   "outputs": [
    {
     "name": "stdout",
     "output_type": "stream",
     "text": [
      "<generator object <genexpr> at 0x7fb7b18d20b0>\n",
      "Un\n",
      "día\n",
      "vi\n",
      "una vaca vestida de uniforme "
     ]
    }
   ],
   "source": [
    "gen = (palabra for palabra in texto_en_minuscula)\n",
    "print(gen)\n",
    "print(next(gen))\n",
    "print(next(gen))\n",
    "print(next(gen))\n",
    "for palabra in gen:\n",
    "    print(palabra, end=' ')"
   ]
  },
  {
   "cell_type": "markdown",
   "metadata": {},
   "source": [
    "## [Contenedores especializados](https://docs.python.org/3.7/library/collections.html)\n",
    "\n",
    "Por ejemplo el contenedor Counter permite hacer histogramas"
   ]
  },
  {
   "cell_type": "code",
   "execution_count": 37,
   "metadata": {
    "ExecuteTime": {
     "end_time": "2020-05-14T15:10:30.256865Z",
     "start_time": "2020-05-14T15:10:30.248432Z"
    },
    "scrolled": true
   },
   "outputs": [
    {
     "data": {
      "text/plain": [
       "Counter({'the': 6,\n",
       "         'zen': 1,\n",
       "         'of': 3,\n",
       "         'python': 1,\n",
       "         'by': 1,\n",
       "         'tim': 1,\n",
       "         'peters': 1,\n",
       "         'beautiful': 1,\n",
       "         'is': 10,\n",
       "         'better': 8,\n",
       "         'than': 8,\n",
       "         'ugly': 1,\n",
       "         'explicit': 1,\n",
       "         'implicit': 1,\n",
       "         'simple': 1,\n",
       "         'complex': 2,\n",
       "         'complicated': 1,\n",
       "         'flat': 1,\n",
       "         'nested': 1,\n",
       "         'sparse': 1,\n",
       "         'dense': 1,\n",
       "         'readability': 1,\n",
       "         'counts': 1,\n",
       "         'special': 2,\n",
       "         'cases': 1,\n",
       "         \"aren't\": 1,\n",
       "         'enough': 1,\n",
       "         'to': 5,\n",
       "         'break': 1,\n",
       "         'rules': 1,\n",
       "         'although': 3,\n",
       "         'practicality': 1,\n",
       "         'beats': 1,\n",
       "         'purity': 1,\n",
       "         'errors': 1,\n",
       "         'should': 2,\n",
       "         'never': 3,\n",
       "         'pass': 1,\n",
       "         'silently': 1,\n",
       "         'unless': 2,\n",
       "         'explicitly': 1,\n",
       "         'silenced': 1,\n",
       "         'in': 1,\n",
       "         'face': 1,\n",
       "         'ambiguity': 1,\n",
       "         'refuse': 1,\n",
       "         'temptation': 1,\n",
       "         'guess': 1,\n",
       "         'there': 1,\n",
       "         'be': 3,\n",
       "         'one': 3,\n",
       "         'and': 1,\n",
       "         'preferably': 1,\n",
       "         'only': 1,\n",
       "         'obvious': 2,\n",
       "         'way': 2,\n",
       "         'do': 2,\n",
       "         'it': 2,\n",
       "         'that': 1,\n",
       "         'may': 2,\n",
       "         'not': 1,\n",
       "         'at': 1,\n",
       "         'first': 1,\n",
       "         \"you're\": 1,\n",
       "         'dutch': 1,\n",
       "         'now': 2,\n",
       "         'often': 1,\n",
       "         'right': 1,\n",
       "         'if': 2,\n",
       "         'implementation': 2,\n",
       "         'hard': 1,\n",
       "         'explain': 2,\n",
       "         \"it's\": 1,\n",
       "         'a': 2,\n",
       "         'bad': 1,\n",
       "         'idea': 3,\n",
       "         'easy': 1,\n",
       "         'good': 1,\n",
       "         'namespaces': 1,\n",
       "         'are': 1,\n",
       "         'honking': 1,\n",
       "         'great': 1,\n",
       "         '': 1,\n",
       "         \"let's\": 1,\n",
       "         'more': 1,\n",
       "         'those': 1})"
      ]
     },
     "execution_count": 37,
     "metadata": {},
     "output_type": "execute_result"
    }
   ],
   "source": [
    "from collections import Counter\n",
    "\n",
    "Counter(zen)"
   ]
  },
  {
   "cell_type": "markdown",
   "metadata": {},
   "source": [
    "## Manejo de excepciones\n",
    "\n",
    "Bloque `try` en Python"
   ]
  },
  {
   "cell_type": "code",
   "execution_count": 38,
   "metadata": {
    "ExecuteTime": {
     "end_time": "2020-05-14T15:13:08.438424Z",
     "start_time": "2020-05-14T15:13:08.429982Z"
    }
   },
   "outputs": [
    {
     "name": "stdout",
     "output_type": "stream",
     "text": [
      "Esta excepcion se captura\n",
      "Esto corre al final de cualquier camino (cleanup)\n"
     ]
    }
   ],
   "source": [
    "def foo(x):\n",
    "    try:\n",
    "        return x/10\n",
    "    except TypeError: \n",
    "        print(\"Esta excepcion se captura\")    \n",
    "    else:\n",
    "        print(\"Estas excepciones se propagan\")\n",
    "    finally:\n",
    "        print(\"Esto corre al final de cualquier camino (cleanup)\")\n",
    "        \n",
    "foo('asd')        "
   ]
  },
  {
   "cell_type": "markdown",
   "metadata": {},
   "source": [
    "Levantar excepciones con `raise` y `assert`"
   ]
  },
  {
   "cell_type": "code",
   "execution_count": 39,
   "metadata": {
    "ExecuteTime": {
     "end_time": "2020-05-14T15:13:52.319454Z",
     "start_time": "2020-05-14T15:13:52.307034Z"
    }
   },
   "outputs": [
    {
     "ename": "TypeError",
     "evalue": "Algo no está bien aquí",
     "output_type": "error",
     "traceback": [
      "\u001b[0;31m---------------------------------------------------------------------------\u001b[0m",
      "\u001b[0;31mTypeError\u001b[0m                                 Traceback (most recent call last)",
      "Input \u001b[0;32mIn [39]\u001b[0m, in \u001b[0;36m<cell line: 1>\u001b[0;34m()\u001b[0m\n\u001b[0;32m----> 1\u001b[0m \u001b[38;5;28;01mraise\u001b[39;00m \u001b[38;5;167;01mTypeError\u001b[39;00m(\u001b[38;5;124m\"\u001b[39m\u001b[38;5;124mAlgo no está bien aquí\u001b[39m\u001b[38;5;124m\"\u001b[39m)\n",
      "\u001b[0;31mTypeError\u001b[0m: Algo no está bien aquí"
     ]
    }
   ],
   "source": [
    "raise TypeError(\"Algo no está bien aquí\")"
   ]
  },
  {
   "cell_type": "code",
   "execution_count": 40,
   "metadata": {
    "ExecuteTime": {
     "end_time": "2020-05-14T15:14:43.896104Z",
     "start_time": "2020-05-14T15:14:43.884950Z"
    }
   },
   "outputs": [
    {
     "ename": "AssertionError",
     "evalue": "El argumento no es un entero",
     "output_type": "error",
     "traceback": [
      "\u001b[0;31m---------------------------------------------------------------------------\u001b[0m",
      "\u001b[0;31mAssertionError\u001b[0m                            Traceback (most recent call last)",
      "Input \u001b[0;32mIn [40]\u001b[0m, in \u001b[0;36m<cell line: 5>\u001b[0;34m()\u001b[0m\n\u001b[1;32m      2\u001b[0m     \u001b[38;5;28;01massert\u001b[39;00m \u001b[38;5;28mtype\u001b[39m(x) \u001b[38;5;241m==\u001b[39m \u001b[38;5;28mint\u001b[39m, \u001b[38;5;124m\"\u001b[39m\u001b[38;5;124mEl argumento no es un entero\u001b[39m\u001b[38;5;124m\"\u001b[39m\n\u001b[1;32m      3\u001b[0m     \u001b[38;5;28;01mreturn\u001b[39;00m x \u001b[38;5;241m+\u001b[39m \u001b[38;5;241m1\u001b[39m\n\u001b[0;32m----> 5\u001b[0m \u001b[43mfoo\u001b[49m\u001b[43m(\u001b[49m\u001b[38;5;124;43m'\u001b[39;49m\u001b[38;5;124;43ma\u001b[39;49m\u001b[38;5;124;43m'\u001b[39;49m\u001b[43m)\u001b[49m\n",
      "Input \u001b[0;32mIn [40]\u001b[0m, in \u001b[0;36mfoo\u001b[0;34m(x)\u001b[0m\n\u001b[1;32m      1\u001b[0m \u001b[38;5;28;01mdef\u001b[39;00m \u001b[38;5;21mfoo\u001b[39m(x):\n\u001b[0;32m----> 2\u001b[0m     \u001b[38;5;28;01massert\u001b[39;00m \u001b[38;5;28mtype\u001b[39m(x) \u001b[38;5;241m==\u001b[39m \u001b[38;5;28mint\u001b[39m, \u001b[38;5;124m\"\u001b[39m\u001b[38;5;124mEl argumento no es un entero\u001b[39m\u001b[38;5;124m\"\u001b[39m\n\u001b[1;32m      3\u001b[0m     \u001b[38;5;28;01mreturn\u001b[39;00m x \u001b[38;5;241m+\u001b[39m \u001b[38;5;241m1\u001b[39m\n",
      "\u001b[0;31mAssertionError\u001b[0m: El argumento no es un entero"
     ]
    }
   ],
   "source": [
    "def foo(x):\n",
    "    assert type(x) == int, \"El argumento no es un entero\"\n",
    "    return x + 1\n",
    "\n",
    "foo('a')"
   ]
  },
  {
   "cell_type": "markdown",
   "metadata": {},
   "source": [
    "## Expresión lambda\n",
    "\n",
    "Son funciones de una linea con la estructura\n",
    "    \n",
    "    foo = lambda argumentos: expresión\n",
    "    \n",
    "Una lambda puede tener zero o más argumentos y siempre solo **una** expresión \n",
    "\n",
    "En general se usan para definir funciones anónimas, funciones que se ocupan sólo una vez en el código\n",
    "\n",
    "`lambda` + `map` = comprensión de lista"
   ]
  },
  {
   "cell_type": "code",
   "execution_count": 41,
   "metadata": {},
   "outputs": [
    {
     "data": {
      "text/plain": [
       "1.5"
      ]
     },
     "execution_count": 41,
     "metadata": {},
     "output_type": "execute_result"
    }
   ],
   "source": [
    "foo = lambda x, y : x+1/y\n",
    "\n",
    "foo(1, 2)"
   ]
  },
  {
   "cell_type": "code",
   "execution_count": 42,
   "metadata": {},
   "outputs": [
    {
     "data": {
      "text/plain": [
       "[0, 1, 4, 9, 16, 25, 36, 49, 64, 81]"
      ]
     },
     "execution_count": 42,
     "metadata": {},
     "output_type": "execute_result"
    }
   ],
   "source": [
    "list(map(lambda x : x**2, range(10)))"
   ]
  },
  {
   "cell_type": "code",
   "execution_count": 43,
   "metadata": {},
   "outputs": [
    {
     "data": {
      "text/plain": [
       "[0, 2, 4, 6, 8]"
      ]
     },
     "execution_count": 43,
     "metadata": {},
     "output_type": "execute_result"
    }
   ],
   "source": [
    "list(filter(lambda x : x % 2 == 0, range(10)))"
   ]
  },
  {
   "cell_type": "code",
   "execution_count": 44,
   "metadata": {},
   "outputs": [
    {
     "name": "stdout",
     "output_type": "stream",
     "text": [
      "[(1, 'uno'), (2, 'dos'), (3, 'tres'), (4, 'cuatro')]\n",
      "[(4, 'cuatro'), (2, 'dos'), (3, 'tres'), (1, 'uno')]\n",
      "[(1, 'uno'), (2, 'dos'), (3, 'tres'), (4, 'cuatro')]\n"
     ]
    }
   ],
   "source": [
    "parejas = [(1, 'uno'), (2, 'dos'), (3, 'tres'), (4, 'cuatro')]\n",
    "#pairs.sort(key=lambda pair: pair[1])\n",
    "print(sorted(parejas, key=lambda p: p[0]))\n",
    "print(sorted(parejas, key=lambda p: p[1]))\n",
    "print(sorted(parejas, key=lambda p: len(p[1])))"
   ]
  },
  {
   "cell_type": "markdown",
   "metadata": {},
   "source": [
    "## Debugging con ipdb\n",
    "\n",
    "Dos maneras para encontrar *bugs* con IPython usando el debugger `ipdb` \n",
    "\n",
    "Necesitas tener instalado `ipdb` \n"
   ]
  },
  {
   "cell_type": "markdown",
   "metadata": {},
   "source": [
    "**1) Debugeo Paso-a-paso:** Insertar breakpoints manualmente "
   ]
  },
  {
   "cell_type": "code",
   "execution_count": 45,
   "metadata": {
    "scrolled": true
   },
   "outputs": [],
   "source": [
    "def foo(x, y):\n",
    "    import ipdb; ipdb.set_trace(context=10) # Esto inserta un breakpoint en la función\n",
    "    z = x/2.\n",
    "    z += 2/y\n",
    "    return z"
   ]
  },
  {
   "cell_type": "markdown",
   "metadata": {},
   "source": [
    "Si ejecutamos `foo(1, 0)` veremos algo como lo siguiente\n",
    "\n"
   ]
  },
  {
   "cell_type": "markdown",
   "metadata": {},
   "source": [
    "<img src=\"img/debug1.png\" width=\"750\">"
   ]
  },
  {
   "cell_type": "markdown",
   "metadata": {},
   "source": [
    "Comandos en ipdb\n",
    "- a: Muestra los valores de los argumentos\n",
    "- l: Muestra la linea de código en que estamos posicionados\n",
    "- u/d: Sube y baja en el stack\n",
    "- q: Salir del modo debug"
   ]
  },
  {
   "cell_type": "markdown",
   "metadata": {},
   "source": [
    "**Debugeo Post-mortem:** Entra a modo debug con ipdb cuando ocurre una excepción"
   ]
  },
  {
   "cell_type": "code",
   "execution_count": 46,
   "metadata": {},
   "outputs": [
    {
     "name": "stdout",
     "output_type": "stream",
     "text": [
      "Automatic pdb calling has been turned ON\n"
     ]
    }
   ],
   "source": [
    "# Esto activa el modo post-mortem\n",
    "%pdb on "
   ]
  },
  {
   "cell_type": "code",
   "execution_count": 47,
   "metadata": {
    "scrolled": true
   },
   "outputs": [],
   "source": [
    "def foo(x, y):\n",
    "    z = x/2.\n",
    "    z += 2/y    \n",
    "    return z"
   ]
  },
  {
   "cell_type": "markdown",
   "metadata": {},
   "source": [
    "Si ejecutamos `foo(1, 0)` veremos algo como:"
   ]
  },
  {
   "cell_type": "markdown",
   "metadata": {},
   "source": [
    "<img src=\"img/debug2.png\" width=\"800\">"
   ]
  },
  {
   "cell_type": "markdown",
   "metadata": {},
   "source": [
    "## [pathlib](https://docs.python.org/3/library/pathlib.html)\n",
    "\n",
    "Modulo regular de Python3 para leer y manipular directorios"
   ]
  },
  {
   "cell_type": "code",
   "execution_count": 48,
   "metadata": {
    "ExecuteTime": {
     "end_time": "2020-05-14T15:15:56.315323Z",
     "start_time": "2020-05-14T15:15:56.302726Z"
    }
   },
   "outputs": [
    {
     "name": "stdout",
     "output_type": "stream",
     "text": [
      "[PosixPath('08_soluciones.py'), PosixPath('09_soluciones.py'), PosixPath('script_interesante.py')]\n",
      "[PosixPath('.ipynb_checkpoints'), PosixPath('img')]\n",
      "[PosixPath('script_interesante.py'), PosixPath('Cantidad-de-Viviendas-por-Tipo.xlsx'), PosixPath('02_ambientes_virtuales.ipynb'), PosixPath('diagramas.ipynb'), PosixPath('zen.txt'), PosixPath('example.csv'), PosixPath('07_pandas_básico.ipynb'), PosixPath('06_matplotlib.ipynb'), PosixPath('01_introduccion.ipynb'), PosixPath('08_pandas_avanzado.ipynb'), PosixPath('X_más_allá_de_Python.ipynb'), PosixPath('10_pandas_anexos.ipynb'), PosixPath('dow_jones_index.data'), PosixPath('04_jupyter_y_ipython.ipynb'), PosixPath('dow_jones_index.zip'), PosixPath('03_control_de_versiones.ipynb'), PosixPath('covid19_extract.csv'), PosixPath('magister.mp4'), PosixPath('dow_jones_index.names'), PosixPath('rrl.dat'), PosixPath('00_repaso_python3.ipynb'), PosixPath('09_soluciones.py'), PosixPath('clase_serialización.ipynb'), PosixPath('08_soluciones.py'), PosixPath('06_matplotlib_extras.ipynb'), PosixPath('file.txt'), PosixPath('09_interfaces_de_usuario.ipynb'), PosixPath('11_ipython_display.ipynb'), PosixPath('05_numpy.ipynb')]\n",
      "('/', 'usr', 'bin', 'python3')\n"
     ]
    }
   ],
   "source": [
    "from pathlib import Path\n",
    "p = Path('.')\n",
    "print(sorted(p.glob('*.py')))\n",
    "print([x for x in p.iterdir() if x.is_dir()])\n",
    "print([x for x in p.iterdir() if x.is_file() and x])\n",
    "p = Path('/usr/bin/python3')\n",
    "print(p.parts)"
   ]
  },
  {
   "cell_type": "markdown",
   "metadata": {},
   "source": [
    "## [Lista de módulos de Python 3](https://docs.python.org/3/py-modindex.html)\n",
    "\n",
    "Siempre antes de implementar un módulo hay que revisar el link de arriba\n",
    "\n",
    "Aprovecha la extensa lista de módulos estándar de Python!"
   ]
  },
  {
   "cell_type": "markdown",
   "metadata": {},
   "source": [
    "## Resumen de buenas prácticas\n",
    "\n",
    "- Prefiere variables keyword antes que posicionales (auto-documentación)\n",
    "- Siempre comenta con docstring cada función o clase\n",
    "- Prefiere los tipos nativos de Python\n",
    "- Trata de seguir el [PEP8](https://www.python.org/dev/peps/pep-0008/)\n",
    "\n",
    "[Python Enhancement Proposal (PEP)](https://www.python.org/dev/peps/pep-0008/) es una especificación técnica que busca mejorar el lenguaje Python\n",
    "\n",
    "PEP 0 es el índice de todos los PEP existentes. \n",
    "\n",
    "> El PEP 8 es una guia de buenas prácticas para dar formato a nuestros códigos en Python\n",
    "\n",
    "El objetivo de PEP 8 es mantener un estándar que facilite la lectura de código escrito en Python\n"
   ]
  },
  {
   "cell_type": "code",
   "execution_count": 49,
   "metadata": {
    "ExecuteTime": {
     "end_time": "2020-05-14T15:19:44.881306Z",
     "start_time": "2020-05-14T15:19:44.867627Z"
    },
    "code_folding": []
   },
   "outputs": [
    {
     "name": "stdout",
     "output_type": "stream",
     "text": [
      "Hola Pablo\n",
      "Help on function saludo in module __main__:\n",
      "\n",
      "saludo(nombre: 'Esto debería ser un string' = None)\n",
      "    Esta es una función que saluda a quien la llama\n",
      "    Args:\n",
      "        nombre: un string\n",
      "    Returns:\n",
      "        None\n",
      "\n"
     ]
    }
   ],
   "source": [
    "def saludo(nombre: \"Esto debería ser un string\"=None):\n",
    "    \"\"\"Esta es una función que saluda a quien la llama\n",
    "    Args:\n",
    "        nombre: un string\n",
    "    Returns:\n",
    "        None\n",
    "    \"\"\"\n",
    "    if nombre is None:\n",
    "        print(\"Hola, ¿Cómo te llamas?\")\n",
    "    else:\n",
    "        print(\"Hola {0}\".format(nombre))\n",
    "\n",
    "saludo(\"Pablo\")\n",
    "help(saludo)"
   ]
  },
  {
   "cell_type": "code",
   "execution_count": null,
   "metadata": {},
   "outputs": [],
   "source": []
  }
 ],
 "metadata": {
  "kernelspec": {
   "display_name": "Python 3 (ipykernel)",
   "language": "python",
   "name": "python3"
  },
  "language_info": {
   "codemirror_mode": {
    "name": "ipython",
    "version": 3
   },
   "file_extension": ".py",
   "mimetype": "text/x-python",
   "name": "python",
   "nbconvert_exporter": "python",
   "pygments_lexer": "ipython3",
   "version": "3.8.12"
  },
  "toc": {
   "base_numbering": 1,
   "nav_menu": {},
   "number_sections": true,
   "sideBar": true,
   "skip_h1_title": false,
   "title_cell": "Table of Contents",
   "title_sidebar": "Contents",
   "toc_cell": false,
   "toc_position": {
    "height": "calc(100% - 180px)",
    "left": "10px",
    "top": "150px",
    "width": "384px"
   },
   "toc_section_display": true,
   "toc_window_display": false
  }
 },
 "nbformat": 4,
 "nbformat_minor": 2
}
