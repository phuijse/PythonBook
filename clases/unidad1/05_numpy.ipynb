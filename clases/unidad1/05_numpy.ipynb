{
 "cells": [
  {
   "cell_type": "markdown",
   "metadata": {},
   "source": [
    "\n",
    " \n",
    "# Arreglos y operaciones vectoriales con [NumPy](http://www.numpy.org/)  <a class=\"tocSkip\">\n",
    "\n",
    "\n",
    "NumPy es un paquete de computación científica con Python que provee:\n",
    "\n",
    "- Un objecto contenedor muy versatil: arreglo N-dimensional `ndarray`\n",
    "- Funciones capaces de hacer *broadcasting*\n",
    "- Módulos para algebra lineal, Transformada de Fourier, generación de número aleatorios, entre otros\n",
    "- Herramientas para integrar código C/C++\n"
   ]
  },
  {
   "cell_type": "markdown",
   "metadata": {},
   "source": [
    "### Instalación <a class=\"tocSkip\">\n",
    "    \n",
    "Con nuestro ambiente conda activado:\n",
    "\n",
    "    conda install numpy\n",
    "    \n",
    "Esto instalará numpy y las librerías de bajo nivel BLAS y MKL\n",
    "\n",
    "Luego importamos usando"
   ]
  },
  {
   "cell_type": "code",
   "execution_count": null,
   "metadata": {
    "ExecuteTime": {
     "end_time": "2020-05-16T00:19:24.853448Z",
     "start_time": "2020-05-16T00:19:24.744862Z"
    }
   },
   "outputs": [],
   "source": [
    "import numpy as np\n",
    "display(np.__version__)"
   ]
  },
  {
   "cell_type": "markdown",
   "metadata": {},
   "source": [
    "Contenidos del namespace np"
   ]
  },
  {
   "cell_type": "code",
   "execution_count": null,
   "metadata": {
    "ExecuteTime": {
     "end_time": "2020-05-16T00:02:22.255272Z",
     "start_time": "2020-05-16T00:02:22.247255Z"
    }
   },
   "outputs": [],
   "source": [
    "np?"
   ]
  },
  {
   "cell_type": "markdown",
   "metadata": {},
   "source": [
    "# Objeto ndarray (alias array)\n",
    "\n",
    "El objeto ndaray es un **arreglo n-dimensional de tipo fijo**\n",
    "\n",
    "Las operaciones sobre ndarray son eficientes: Usan librerías de bajo nivel (OpenBLAS, MKL)\n",
    "\n",
    "Podemos crear un ndarray a partir de \n",
    "- una lista o tupla usando `np.array`\n",
    "- un fichero, por ejemplo usando `np.genfromtxt`\n",
    "- funciones generadoras de NumPy, por ejemplo `np.linspace`, `np.zeros`, etc\n",
    "\n",
    "## Ndarray a partir de listas y atributos básicos"
   ]
  },
  {
   "cell_type": "code",
   "execution_count": null,
   "metadata": {
    "ExecuteTime": {
     "end_time": "2020-05-16T00:02:22.524424Z",
     "start_time": "2020-05-16T00:02:22.515949Z"
    }
   },
   "outputs": [],
   "source": [
    "L = [[0, 1], [2, 3]]\n",
    "display(type(L))\n",
    "# Creación de un ndarray\n",
    "A = np.array(L)\n",
    "display(type(A))\n",
    "A"
   ]
  },
  {
   "cell_type": "markdown",
   "metadata": {},
   "source": [
    "Los tipos de dato estándar de NumPy son\n",
    "- Enteros: int8, int16, int32, int64\n",
    "- Enteros sin signo: uint8, uint16, uint32, uint64\n",
    "- Flotantes (reales): float16, float32, float64, float128\n",
    "- Números complejos: complex64, complex128, complex256\n",
    "- Booleanos: Bool"
   ]
  },
  {
   "cell_type": "code",
   "execution_count": null,
   "metadata": {
    "ExecuteTime": {
     "end_time": "2020-05-16T00:02:22.795418Z",
     "start_time": "2020-05-16T00:02:22.786892Z"
    }
   },
   "outputs": [],
   "source": [
    "display(np.array(L, dtype=np.int16))\n",
    "display(np.array(L, dtype=np.float32))"
   ]
  },
  {
   "cell_type": "markdown",
   "metadata": {},
   "source": [
    "El atributo `dtype` nos permite ver el tipo de un arreglo NumPy"
   ]
  },
  {
   "cell_type": "code",
   "execution_count": null,
   "metadata": {
    "ExecuteTime": {
     "end_time": "2020-05-16T00:02:23.574143Z",
     "start_time": "2020-05-16T00:02:23.565292Z"
    }
   },
   "outputs": [],
   "source": [
    "x = np.array([1. + 2j])\n",
    "display(x.dtype)"
   ]
  },
  {
   "cell_type": "markdown",
   "metadata": {},
   "source": [
    "Los atributos `ndim` y `shape` nos indican las dimensiones y el tamaño del arreglo, respectivamente"
   ]
  },
  {
   "cell_type": "code",
   "execution_count": null,
   "metadata": {
    "ExecuteTime": {
     "end_time": "2020-05-16T00:02:26.733889Z",
     "start_time": "2020-05-16T00:02:26.722060Z"
    }
   },
   "outputs": [],
   "source": [
    "display(L)\n",
    "A = np.array(L)\n",
    "display(A)\n",
    "display(A.ndim)\n",
    "display(A.shape)"
   ]
  },
  {
   "cell_type": "markdown",
   "metadata": {},
   "source": [
    "## Ordenamiento en memoria de ndarray\n",
    "\n",
    "Por defecto un ndarray multidimensional se ordena en memoria siguiente un formato row-major (C)\n",
    "\n",
    "Se puede cambiar a formato column-major usando el atributo `order`\n",
    "\n",
    "Se puede verificar el ordenamiento leyendo el atributo `flags`"
   ]
  },
  {
   "cell_type": "code",
   "execution_count": null,
   "metadata": {
    "ExecuteTime": {
     "end_time": "2020-05-16T00:02:27.022441Z",
     "start_time": "2020-05-16T00:02:27.013314Z"
    }
   },
   "outputs": [],
   "source": [
    "A = np.array(L)\n",
    "display(A)\n",
    "display(A.flags)\n",
    "\n",
    "A = np.array(L, order='F')\n",
    "display(A)\n",
    "display(A.flags)"
   ]
  },
  {
   "attachments": {
    "rowcolumnarrays.jpg": {
     "image/jpeg": "[encoded data removed]"
    }
   },
   "cell_type": "markdown",
   "metadata": {},
   "source": [
    "![rowcolumnarrays.jpg](attachment:rowcolumnarrays.jpg)"
   ]
  },
  {
   "cell_type": "markdown",
   "metadata": {},
   "source": [
    "## Ndarray a partir de ficheros"
   ]
  },
  {
   "cell_type": "markdown",
   "metadata": {},
   "source": [
    "NumPy tiene [operaciones de IO para conectar con ficheros e importar datos](https://numpy.org/devdocs/reference/routines.io.html)\n",
    "\n",
    "Por ejemplo para leer un archivo en formato CSV podemos usar  [genfromtxt](https://numpy.org/devdocs/user/basics.io.genfromtxt.html)\n",
    "\n",
    "No entraremos en detalle pues en una próxima clase veremos la librería pandas que provee funciones mucho más poderosas y flexibles para parsear datos "
   ]
  },
  {
   "cell_type": "code",
   "execution_count": null,
   "metadata": {
    "ExecuteTime": {
     "end_time": "2020-05-16T00:02:28.139050Z",
     "start_time": "2020-05-16T00:02:28.016378Z"
    }
   },
   "outputs": [],
   "source": [
    "!head covid19_extract.csv"
   ]
  },
  {
   "cell_type": "code",
   "execution_count": null,
   "metadata": {
    "ExecuteTime": {
     "end_time": "2020-05-16T00:02:28.216907Z",
     "start_time": "2020-05-16T00:02:28.197180Z"
    }
   },
   "outputs": [],
   "source": [
    "np.genfromtxt('covid19_extract.csv', delimiter=',', names=True,\n",
    "              dtype= ['U50', 'U50', 'f8', 'f8'] + ['i4']*100)"
   ]
  },
  {
   "cell_type": "markdown",
   "metadata": {},
   "source": [
    "## Funciones generadoras de arreglos\n",
    "\n",
    "Se pueden crear arreglos directamente desde Numpy:"
   ]
  },
  {
   "cell_type": "code",
   "execution_count": null,
   "metadata": {
    "ExecuteTime": {
     "end_time": "2020-05-16T01:57:51.862864Z",
     "start_time": "2020-05-16T01:57:51.836123Z"
    }
   },
   "outputs": [],
   "source": [
    "display(np.zeros(shape=(3, 3), dtype=np.int))  # Lleno de ceros\n",
    "display(np.ones(shape=(3, 3), dtype=np.float32))  # Lleno de unos\n",
    "display(np.full(shape=(3, 3), fill_value=np.pi))  # Lleno de PI\n",
    "display(np.eye(3))  # Matriz identidad\n",
    "display(np.random.randn(3, 3))  # Matriz aleatoria con distribución N(0, 1)"
   ]
  },
  {
   "cell_type": "markdown",
   "metadata": {},
   "source": [
    "Existen versiones de estas funciones que copian el tamaño de otro ndarray"
   ]
  },
  {
   "cell_type": "code",
   "execution_count": null,
   "metadata": {
    "ExecuteTime": {
     "end_time": "2020-05-16T00:02:29.173423Z",
     "start_time": "2020-05-16T00:02:29.166084Z"
    }
   },
   "outputs": [],
   "source": [
    "display(np.zeros_like(A))"
   ]
  },
  {
   "cell_type": "markdown",
   "metadata": {},
   "source": [
    "Funciones para crear rangos:"
   ]
  },
  {
   "cell_type": "code",
   "execution_count": null,
   "metadata": {
    "ExecuteTime": {
     "end_time": "2020-05-16T01:58:46.456791Z",
     "start_time": "2020-05-16T01:58:46.434293Z"
    }
   },
   "outputs": [],
   "source": [
    "display(np.arange(start=0, stop=5, step=0.5))  \n",
    "display(np.linspace(start=0, stop=10, num=11)) \n",
    "display(np.logspace(start=-1, stop=1, num=11))"
   ]
  },
  {
   "cell_type": "markdown",
   "metadata": {},
   "source": [
    "Se puede usar `meshgrid` para crear arreglos de coordenadas"
   ]
  },
  {
   "cell_type": "code",
   "execution_count": null,
   "metadata": {
    "ExecuteTime": {
     "end_time": "2020-05-16T00:02:30.440755Z",
     "start_time": "2020-05-16T00:02:30.430606Z"
    }
   },
   "outputs": [],
   "source": [
    "x = np.arange(3)\n",
    "X, Y = np.meshgrid(x, x)\n",
    "display(X)\n",
    "display(Y)"
   ]
  },
  {
   "cell_type": "markdown",
   "metadata": {},
   "source": [
    "Ojo con los tamaños de los arreglos \n",
    "\n",
    "Un arreglo unidimensional puede ser \n",
    "- vector adimensional\n",
    "- vector columna\n",
    "- vector fila"
   ]
  },
  {
   "cell_type": "code",
   "execution_count": null,
   "metadata": {
    "ExecuteTime": {
     "end_time": "2020-05-16T00:02:31.417096Z",
     "start_time": "2020-05-16T00:02:31.402029Z"
    }
   },
   "outputs": [],
   "source": [
    "A = np.array([0, 1, 2, 3, 4]) # Vector adimensional\n",
    "display(A.shape)\n",
    "A = np.array([[0], [1], [2], [3], [4]]) # Vector columna\n",
    "display(A.shape)\n",
    "A = np.array([[0, 1, 2, 3, 4]]) # Vector fila\n",
    "display(A.shape)"
   ]
  },
  {
   "cell_type": "markdown",
   "metadata": {},
   "source": [
    "Se puede agregar una dimensión a un arreglo usando `newaxis`\n",
    "\n",
    "Podemos usarlo para convertir un vector adimensional en fila o columna"
   ]
  },
  {
   "cell_type": "code",
   "execution_count": null,
   "metadata": {
    "ExecuteTime": {
     "end_time": "2020-05-16T00:02:32.289797Z",
     "start_time": "2020-05-16T00:02:32.280252Z"
    }
   },
   "outputs": [],
   "source": [
    "A = np.array([0, 1, 2, 3, 4])\n",
    "display(A.shape)\n",
    "display(A[:, np.newaxis].shape)\n",
    "display(A[np.newaxis, :].shape)"
   ]
  },
  {
   "cell_type": "markdown",
   "metadata": {},
   "source": [
    "## Manipulación de matrices y vectores\n",
    "\n",
    "Operaciones para modificar la forma de un arreglo: `reshape`, `tile`, `repeat`"
   ]
  },
  {
   "cell_type": "code",
   "execution_count": null,
   "metadata": {
    "ExecuteTime": {
     "end_time": "2020-05-16T01:59:38.677307Z",
     "start_time": "2020-05-16T01:59:38.669038Z"
    }
   },
   "outputs": [],
   "source": [
    "A = np.arange(6)\n",
    "display(A)\n",
    "\n",
    "# Crea nuevas dimensiones pero se debe preservar el tamaño\n",
    "display(np.reshape(A, (3, 2)))  # in-place: A.reshape(3, 2)\n",
    "display(np.reshape(A, (2, 3)))"
   ]
  },
  {
   "cell_type": "code",
   "execution_count": null,
   "metadata": {
    "ExecuteTime": {
     "end_time": "2020-05-16T00:02:34.065495Z",
     "start_time": "2020-05-16T00:02:34.057141Z"
    }
   },
   "outputs": [],
   "source": [
    "# Repite el arreglo en una dirección dada\n",
    "display(np.tile(A, (6, 1)))\n",
    "display(np.tile(A, (1, 6)))"
   ]
  },
  {
   "cell_type": "code",
   "execution_count": null,
   "metadata": {
    "ExecuteTime": {
     "end_time": "2020-05-16T00:02:34.241601Z",
     "start_time": "2020-05-16T00:02:34.233567Z"
    }
   },
   "outputs": [],
   "source": [
    "# Repite cada elemento en una dirección dada\n",
    "display(np.repeat(A, 2))\n",
    "display(np.repeat(A.reshape(3, 2), 2, axis=0))"
   ]
  },
  {
   "cell_type": "code",
   "execution_count": null,
   "metadata": {
    "ExecuteTime": {
     "end_time": "2020-05-16T00:02:35.331447Z",
     "start_time": "2020-05-16T00:02:35.321801Z"
    }
   },
   "outputs": [],
   "source": [
    "# Aplana una matriz\n",
    "display(np.ravel(np.zeros(shape=(5, 5))))"
   ]
  },
  {
   "cell_type": "markdown",
   "metadata": {},
   "source": [
    "Se puede crear una matriz diagonal a partir de un vector con `diag`\n",
    "\n",
    "También sirve para extraer la diagonal de una matriz "
   ]
  },
  {
   "cell_type": "code",
   "execution_count": null,
   "metadata": {
    "ExecuteTime": {
     "end_time": "2020-05-16T00:02:36.531038Z",
     "start_time": "2020-05-16T00:02:36.519393Z"
    }
   },
   "outputs": [],
   "source": [
    "A = np.arange(5)\n",
    "display(np.diag(A))\n",
    "B = np.random.randn(3, 3)\n",
    "display(B)\n",
    "display(np.diag(B))"
   ]
  },
  {
   "cell_type": "markdown",
   "metadata": {},
   "source": [
    "Trasposición de una arreglo con `transpose`"
   ]
  },
  {
   "cell_type": "code",
   "execution_count": null,
   "metadata": {
    "ExecuteTime": {
     "end_time": "2020-05-16T00:02:37.934718Z",
     "start_time": "2020-05-16T00:02:37.923818Z"
    }
   },
   "outputs": [],
   "source": [
    "A = np.arange(9).reshape(3, 3)\n",
    "display(A)\n",
    "display(np.transpose(A)) # Equivalente a A.transpose() o A.T"
   ]
  },
  {
   "cell_type": "code",
   "execution_count": null,
   "metadata": {
    "ExecuteTime": {
     "end_time": "2020-05-16T00:02:38.587442Z",
     "start_time": "2020-05-16T00:02:38.577132Z"
    }
   },
   "outputs": [],
   "source": [
    "A = np.arange(8).reshape(2, 2, 2)\n",
    "display(A)\n",
    "display(np.transpose(A, axes=(0, 2, 1)))  # Equivalente a: np.swapaxes(A, 2, 1)"
   ]
  },
  {
   "cell_type": "markdown",
   "metadata": {},
   "source": [
    "Operaciones para juntar dos o más arreglos: `concatenate`, `vstack`, `hstack`"
   ]
  },
  {
   "cell_type": "code",
   "execution_count": null,
   "metadata": {
    "ExecuteTime": {
     "end_time": "2020-05-16T00:02:40.298490Z",
     "start_time": "2020-05-16T00:02:40.279828Z"
    }
   },
   "outputs": [],
   "source": [
    "A = np.arange(6).reshape(1, 6)\n",
    "B = np.ones(shape=(1,6))\n",
    "\n",
    "display(np.concatenate((A, B), axis=0))\n",
    "display(np.concatenate((A, B), axis=1))\n",
    "display(np.vstack((A, B)))\n",
    "display(np.hstack((A, B)))"
   ]
  },
  {
   "cell_type": "markdown",
   "metadata": {},
   "source": [
    "Operaciones para agregar o quitar elementos: `append`, `insert`, `delete`"
   ]
  },
  {
   "cell_type": "code",
   "execution_count": null,
   "metadata": {
    "ExecuteTime": {
     "end_time": "2020-05-16T00:02:43.187655Z",
     "start_time": "2020-05-16T00:02:43.095351Z"
    }
   },
   "outputs": [],
   "source": [
    "np.append?"
   ]
  },
  {
   "cell_type": "code",
   "execution_count": null,
   "metadata": {
    "ExecuteTime": {
     "end_time": "2020-05-16T00:02:43.253396Z",
     "start_time": "2020-05-16T00:02:43.240162Z"
    }
   },
   "outputs": [],
   "source": [
    "A = np.array([1., 2., 3.])\n",
    "display(A)\n",
    "display(np.append(A, 4))\n",
    "display(np.insert(A, 2, values=0.))\n",
    "display(np.delete(A, 2))"
   ]
  },
  {
   "cell_type": "markdown",
   "metadata": {},
   "source": [
    "## Indexación y *slicing*\n",
    "\n",
    "Al igual que otros contenedores de Python los ndarray soportan *slicing*\n",
    "\n",
    "> Slicing es crear una arreglo a partir de una indexación sobre otro arreglo\n",
    "\n",
    "Por ejemplo:"
   ]
  },
  {
   "cell_type": "code",
   "execution_count": null,
   "metadata": {
    "ExecuteTime": {
     "end_time": "2020-05-16T02:04:56.026880Z",
     "start_time": "2020-05-16T02:04:56.006785Z"
    }
   },
   "outputs": [],
   "source": [
    "L = [[0, 1, 2], [3, 4, 5]]\n",
    "A = np.array(L)\n",
    "display(A)\n",
    "\n",
    "display(L[1][0]) \n",
    "display(A[1, 0]) # Segunda fila, primera columna\n",
    "display(A[:, 1])  # Segunda columna\n",
    "display(A[0, :]) # Primera fila \n",
    "display(A[1, ::2]) # Elementos de la primera fila y columnas pares\n",
    "display(A[-1, -2]) # Elementos de la ultima fila y penultima columna"
   ]
  },
  {
   "cell_type": "markdown",
   "metadata": {},
   "source": [
    "Podemos usar un arreglo de enteros para indexar otro arreglo"
   ]
  },
  {
   "cell_type": "code",
   "execution_count": null,
   "metadata": {
    "ExecuteTime": {
     "end_time": "2020-05-16T00:02:43.769002Z",
     "start_time": "2020-05-16T00:02:43.760705Z"
    }
   },
   "outputs": [],
   "source": [
    "ix = np.array([0, 0, 1])\n",
    "iy = np.array([0, 1, 1])\n",
    "A[ix, iy] = 10\n",
    "display(A)"
   ]
  },
  {
   "cell_type": "markdown",
   "metadata": {},
   "source": [
    "También podemos indexar usando un arreglo de booleanos"
   ]
  },
  {
   "cell_type": "code",
   "execution_count": null,
   "metadata": {
    "ExecuteTime": {
     "end_time": "2020-05-16T00:02:46.633407Z",
     "start_time": "2020-05-16T00:02:46.626376Z"
    }
   },
   "outputs": [],
   "source": [
    "A = np.array([0, 2, 1, 3, 4])\n",
    "B = np.array([True, False, False, True, True])\n",
    "display(A[B])"
   ]
  },
  {
   "attachments": {
    "DeepinScreenshot_20190402113957.png": {
     "image/png": "[encoded data removed]"
    }
   },
   "cell_type": "markdown",
   "metadata": {},
   "source": [
    "![DeepinScreenshot_20190402113957.png](attachment:DeepinScreenshot_20190402113957.png)"
   ]
  },
  {
   "cell_type": "markdown",
   "metadata": {},
   "source": [
    "## Nota sobre copias en memoria\n",
    "Algunas operaciones sobre arreglos no hacen copias (usan referencias)"
   ]
  },
  {
   "cell_type": "code",
   "execution_count": null,
   "metadata": {
    "ExecuteTime": {
     "end_time": "2020-05-16T00:02:47.333289Z",
     "start_time": "2020-05-16T00:02:47.323775Z"
    }
   },
   "outputs": [],
   "source": [
    "A = np.arange(100).reshape(10, 10)\n",
    "B = A\n",
    "B is A"
   ]
  },
  {
   "cell_type": "markdown",
   "metadata": {},
   "source": [
    "Si modifico A se ve reflejado en B"
   ]
  },
  {
   "cell_type": "code",
   "execution_count": null,
   "metadata": {
    "ExecuteTime": {
     "end_time": "2020-05-16T00:02:47.847184Z",
     "start_time": "2020-05-16T00:02:47.842375Z"
    }
   },
   "outputs": [],
   "source": [
    "A[:5, :5] = 100\n",
    "display(B)"
   ]
  },
  {
   "cell_type": "markdown",
   "metadata": {},
   "source": [
    "Modificaciones en subarreglos (vistas) también son referenciadas"
   ]
  },
  {
   "cell_type": "code",
   "execution_count": null,
   "metadata": {
    "ExecuteTime": {
     "end_time": "2020-05-16T00:02:51.610069Z",
     "start_time": "2020-05-16T00:02:51.603385Z"
    },
    "scrolled": true
   },
   "outputs": [],
   "source": [
    "A = np.arange(100).reshape(10, 10)\n",
    "B = A[:5, :5]\n",
    "display(B is A)\n",
    "B[:, :] = 100\n",
    "display(A)"
   ]
  },
  {
   "cell_type": "markdown",
   "metadata": {},
   "source": [
    "Se puede forzar la creación de una copia con el método `copy()`"
   ]
  },
  {
   "cell_type": "code",
   "execution_count": null,
   "metadata": {
    "ExecuteTime": {
     "end_time": "2020-05-16T00:02:52.563246Z",
     "start_time": "2020-05-16T00:02:52.555364Z"
    }
   },
   "outputs": [],
   "source": [
    "B = A.copy()\n",
    "A[0, 0] = 0\n",
    "display(B[0])"
   ]
  },
  {
   "cell_type": "markdown",
   "metadata": {},
   "source": [
    "# Operaciones sobre ndarray\n",
    "\n",
    "## Operaciones aritméticas y *Broadcasting* \n",
    "\n",
    "- Suma:  +, +=\n",
    "- Resta: -, -=\n",
    "- Multiplicación:  *,*= \n",
    "- División: /, /=\n",
    "- División entera: //, //=\n",
    "- Exponenciación: ** , **=\n",
    "\n",
    "Estas operaciones tienen un comportamiento element-wise (elemento a elemento), es decir\n",
    "\n",
    "$$\n",
    "\\pmatrix{0 & 1 \\\\2 & 3 } * \\pmatrix{1 & 5 \\\\2 & 2 } = \\pmatrix{0 & 5 \\\\4 & 6 }\n",
    "$$"
   ]
  },
  {
   "cell_type": "code",
   "execution_count": null,
   "metadata": {
    "ExecuteTime": {
     "end_time": "2020-05-16T00:21:02.455706Z",
     "start_time": "2020-05-16T00:21:02.443045Z"
    },
    "scrolled": true
   },
   "outputs": [],
   "source": [
    "N = 3\n",
    "A = np.eye(N)\n",
    "B = np.ones(shape=(N, N))\n",
    "display(A)\n",
    "display(B)\n",
    "display(A + B)\n",
    "display(A*B)  "
   ]
  },
  {
   "cell_type": "markdown",
   "metadata": {},
   "source": [
    "Cuando los términos no son del mismo tamaño se hace un *broadcast*\n",
    "\n",
    "Por ejemplo operar una constante con un arreglo"
   ]
  },
  {
   "cell_type": "code",
   "execution_count": null,
   "metadata": {
    "ExecuteTime": {
     "end_time": "2020-05-16T00:21:57.573634Z",
     "start_time": "2020-05-16T00:21:57.564219Z"
    }
   },
   "outputs": [],
   "source": [
    "A - 1"
   ]
  },
  {
   "cell_type": "markdown",
   "metadata": {},
   "source": [
    "o operar con arreglos de distinto número de dimensiones"
   ]
  },
  {
   "cell_type": "code",
   "execution_count": null,
   "metadata": {
    "ExecuteTime": {
     "end_time": "2020-05-16T00:22:10.561899Z",
     "start_time": "2020-05-16T00:22:10.540446Z"
    }
   },
   "outputs": [],
   "source": [
    "C = np.arange(N)\n",
    "display(C)\n",
    "display(B)\n",
    "display(B + C)\n",
    "display(B + C.reshape(-1, 1))"
   ]
  },
  {
   "cell_type": "code",
   "execution_count": null,
   "metadata": {
    "ExecuteTime": {
     "end_time": "2020-05-16T00:22:39.646437Z",
     "start_time": "2020-05-16T00:22:39.637991Z"
    }
   },
   "outputs": [],
   "source": [
    "display(C.reshape(1, N))\n",
    "display(C.reshape(N, 1))\n",
    "display(C.reshape(1, N) + C.reshape(N, 1))"
   ]
  },
  {
   "attachments": {
    "index.png": {
     "image/png": "[encoded data removed]"
    }
   },
   "cell_type": "markdown",
   "metadata": {},
   "source": [
    "#### Reglas de *broadcasting* en Numpy   <a class=\"tocSkip\">\n",
    "\n",
    "1. Si dos arreglos son de dimensiones distintas la dimensión del más pequeño se agranda con \"1\"s por la izquierda\n",
    "1. Si dos arreglos tienen tamaños ditintos, el que tiene tamaño \"1\" se estira en dicha dimensión\n",
    "1. Si en cualquier dimensión los tamaños son distintos y ninguno es igual a \"1\" ocurre un error\n",
    "\n",
    "\n",
    "![index.png](attachment:index.png)\n",
    "\n",
    "Ref: https://jakevdp.github.io/PythonDataScienceHandbook/06.00-figure-code.html#Broadcasting"
   ]
  },
  {
   "cell_type": "code",
   "execution_count": null,
   "metadata": {
    "ExecuteTime": {
     "end_time": "2020-05-16T02:26:55.194218Z",
     "start_time": "2020-05-16T02:26:55.179889Z"
    }
   },
   "outputs": [],
   "source": [
    "A = np.arange(6).reshape(2, 3)\n",
    "display(A)\n",
    "display(A.shape)\n",
    "B = np.arange(3)\n",
    "display(B)\n",
    "display(B.shape)\n",
    "display(B.reshape(1, -1))\n",
    "A + B"
   ]
  },
  {
   "cell_type": "markdown",
   "metadata": {},
   "source": [
    "## Operaciones matriciales\n",
    "\n",
    "Para realizar una multiplicación matricial podemos usar `dot` o el operador `@`"
   ]
  },
  {
   "cell_type": "code",
   "execution_count": null,
   "metadata": {
    "ExecuteTime": {
     "end_time": "2020-05-16T00:35:02.211070Z",
     "start_time": "2020-05-16T00:35:02.194021Z"
    }
   },
   "outputs": [],
   "source": [
    "A = np.arange(4).reshape(2, 2)\n",
    "B = np.arange(4)[::-1].reshape(2, 2)\n",
    "display(A, B)\n",
    "display(A*B)  \n",
    "display(np.dot(A, B))  "
   ]
  },
  {
   "cell_type": "markdown",
   "metadata": {
    "ExecuteTime": {
     "end_time": "2020-05-14T23:52:21.123842Z",
     "start_time": "2020-05-14T23:52:21.119785Z"
    }
   },
   "source": [
    "Otras funciones útiles son:\n",
    "- `np.inner` que calcula el producto escalar o producto interno\n",
    "- `np.outer` que calcula el producto externo\n",
    "- `np.cross` que calcula  cruz"
   ]
  },
  {
   "cell_type": "code",
   "execution_count": null,
   "metadata": {
    "ExecuteTime": {
     "end_time": "2020-05-16T00:35:52.958427Z",
     "start_time": "2020-05-16T00:35:52.951551Z"
    }
   },
   "outputs": [],
   "source": [
    "display(np.inner(A, B))\n",
    "display(np.outer(A, B))"
   ]
  },
  {
   "cell_type": "markdown",
   "metadata": {
    "ExecuteTime": {
     "end_time": "2020-05-14T23:53:14.986015Z",
     "start_time": "2020-05-14T23:53:14.980209Z"
    }
   },
   "source": [
    "Cuando revisemos el módulo `linalg` veremos más funcionalidades de álgebra lineal"
   ]
  },
  {
   "cell_type": "markdown",
   "metadata": {},
   "source": [
    "## Operaciones de reducción\n",
    "\n",
    "Llamamos **reducción** a una operación que **agrega** los valores de un arreglo entregando un único valor como respuesta\n",
    "\n",
    "La reducción más básica es la **suma agregada**\n",
    "\n",
    "$$\n",
    "[0, 1, 2, 4, 3] \\rightarrow 0 + 1 + 2 + 4 + 3 = 10 \n",
    "$$\n",
    "\n",
    "> Las operaciones de reducción se usan ampliamente para resumir datos y hacer estadística\n",
    "\n",
    "\n",
    "Algunas de las reducciones disponibles en NumPy son:\n",
    "- `sum`, `prod`\n",
    "- `amax`, `amin`, `argmax`, `argmin`\n",
    "- `mean`, `std`, `var`, `percentile`, `median`\n",
    "- `cumsum`, `cumprod`"
   ]
  },
  {
   "cell_type": "code",
   "execution_count": null,
   "metadata": {
    "ExecuteTime": {
     "end_time": "2020-05-16T00:38:34.817181Z",
     "start_time": "2020-05-16T00:38:34.805646Z"
    }
   },
   "outputs": [],
   "source": [
    "A = np.tile(np.arange(3), (3, 1))\n",
    "display(A)\n",
    "display(np.sum(A, axis=0))\n",
    "display(np.sum(A, axis=1))\n",
    "display(np.sum(A))"
   ]
  },
  {
   "cell_type": "code",
   "execution_count": null,
   "metadata": {
    "ExecuteTime": {
     "end_time": "2020-05-16T00:39:45.794940Z",
     "start_time": "2020-05-16T00:39:45.778270Z"
    }
   },
   "outputs": [],
   "source": [
    "A = np.random.randn(3, 3)\n",
    "display(A)\n",
    "display(np.amax(A, axis=0))\n",
    "display(np.argmax(A, axis=0))"
   ]
  },
  {
   "cell_type": "markdown",
   "metadata": {},
   "source": [
    "Las operaciones de reducción de NumPy son altamente eficientes\n",
    "\n",
    "Hagamos una pequeña prueba de desempeño sumando  un vector"
   ]
  },
  {
   "cell_type": "code",
   "execution_count": null,
   "metadata": {
    "ExecuteTime": {
     "end_time": "2020-05-16T00:41:57.444424Z",
     "start_time": "2020-05-16T00:41:49.763494Z"
    }
   },
   "outputs": [],
   "source": [
    "A = np.arange(100000)\n",
    "\n",
    "def suma_loop(arreglo):\n",
    "    suma = 0.\n",
    "    for elemento in arreglo:\n",
    "        suma += elemento\n",
    "    return suma\n",
    "\n",
    "L = list(A)\n",
    "%timeit -n10 suma_loop(A)\n",
    "%timeit -n10 suma_loop(L)\n",
    "%timeit -n10 sum(A)\n",
    "%timeit -n10 sum(L)\n",
    "%timeit -n10 np.sum(L)\n",
    "%timeit -n10 np.sum(A)\n",
    "\n",
    "display(np.sum(A))\n",
    "display(sum(L))"
   ]
  },
  {
   "cell_type": "markdown",
   "metadata": {},
   "source": [
    "Muchas de estas funciones están implementadas como métodos de la clase arreglo"
   ]
  },
  {
   "cell_type": "code",
   "execution_count": null,
   "metadata": {
    "ExecuteTime": {
     "end_time": "2020-05-15T00:40:36.139436Z",
     "start_time": "2020-05-15T00:40:36.127316Z"
    }
   },
   "outputs": [],
   "source": [
    "display(A.sum())\n",
    "display(A.max(axis=0))\n",
    "display(A.min())"
   ]
  },
  {
   "cell_type": "markdown",
   "metadata": {},
   "source": [
    "También cuenta con versiones seguras contra NaNs"
   ]
  },
  {
   "cell_type": "code",
   "execution_count": null,
   "metadata": {
    "ExecuteTime": {
     "end_time": "2020-05-16T00:44:00.254762Z",
     "start_time": "2020-05-16T00:44:00.247889Z"
    }
   },
   "outputs": [],
   "source": [
    "A = np.array([1., 10., 2., np.nan])\n",
    "display(np.sum(A))\n",
    "display(np.nansum(A))"
   ]
  },
  {
   "cell_type": "markdown",
   "metadata": {},
   "source": [
    "Nota: Si queremos encontrar los nan en un arreglo podemos usar `isnan` "
   ]
  },
  {
   "cell_type": "code",
   "execution_count": null,
   "metadata": {
    "ExecuteTime": {
     "end_time": "2020-05-16T00:45:03.177050Z",
     "start_time": "2020-05-16T00:45:03.168364Z"
    }
   },
   "outputs": [],
   "source": [
    "np.isnan(A)"
   ]
  },
  {
   "cell_type": "markdown",
   "metadata": {},
   "source": [
    "## Operaciones vectorizadas\n",
    "\n",
    "Son funciones que operan de forma *element-wise* o elemento a elemento\n",
    "\n",
    "\n",
    "Por ejemplo para calcular el valor absoluto de los elementos de un arreglo"
   ]
  },
  {
   "cell_type": "code",
   "execution_count": null,
   "metadata": {
    "ExecuteTime": {
     "end_time": "2020-05-16T00:45:45.762104Z",
     "start_time": "2020-05-16T00:45:45.748228Z"
    }
   },
   "outputs": [],
   "source": [
    "A = np.random.randn(3, 3)\n",
    "display(A)\n",
    "np.absolute(A) # Equivalente a np.abs(A)"
   ]
  },
  {
   "cell_type": "markdown",
   "metadata": {},
   "source": [
    "Exponenciar un arreglo"
   ]
  },
  {
   "cell_type": "code",
   "execution_count": null,
   "metadata": {
    "ExecuteTime": {
     "end_time": "2020-05-16T00:46:06.639128Z",
     "start_time": "2020-05-16T00:46:06.628539Z"
    }
   },
   "outputs": [],
   "source": [
    "x = np.arange(10)\n",
    "display(np.power(x, 2))\n",
    "display(np.sqrt(x))\n",
    "display(x**2)"
   ]
  },
  {
   "cell_type": "markdown",
   "metadata": {},
   "source": [
    "Calcular funciones exponencial, logaritmo y trigonométricas  a partir de una arreglo"
   ]
  },
  {
   "cell_type": "code",
   "execution_count": null,
   "metadata": {
    "ExecuteTime": {
     "end_time": "2020-05-16T00:46:22.277359Z",
     "start_time": "2020-05-16T00:46:22.253545Z"
    }
   },
   "outputs": [],
   "source": [
    "x = np.array([0.1, 1., 10.0])\n",
    "display(np.log(x)) #log2, log10\n",
    "display(np.exp(x)) \n",
    "display(np.sin(x)) #arcsin, sinh\n",
    "display(np.cos(x)) #arccos, cosh\n",
    "display(np.tan(x)) #arctan, tanh"
   ]
  },
  {
   "cell_type": "markdown",
   "metadata": {},
   "source": [
    "Otras funciones: `sign`, `reciprocal`, `round` `floor`, `ciel`, `real`, `imag`,  `conj`, "
   ]
  },
  {
   "cell_type": "markdown",
   "metadata": {},
   "source": [
    "## Operaciones booleanas \n",
    "\n",
    "NumPy soporta operaciones booleanas sobre ndarray"
   ]
  },
  {
   "cell_type": "code",
   "execution_count": null,
   "metadata": {
    "ExecuteTime": {
     "end_time": "2020-05-16T00:46:53.987064Z",
     "start_time": "2020-05-16T00:46:53.970217Z"
    }
   },
   "outputs": [],
   "source": [
    "A = np.arange(6).reshape(2, 3)\n",
    "display(A)\n",
    "display(A == 4)\n",
    "display(np.equal(A, 4))"
   ]
  },
  {
   "cell_type": "markdown",
   "metadata": {},
   "source": [
    "Podemos crear una máscara booleana para indexar un arreglo"
   ]
  },
  {
   "cell_type": "code",
   "execution_count": null,
   "metadata": {
    "ExecuteTime": {
     "end_time": "2020-05-16T00:47:56.874179Z",
     "start_time": "2020-05-16T00:47:56.864752Z"
    }
   },
   "outputs": [],
   "source": [
    "mask = ~(A % 2 == 0) & (A > 2)\n",
    "display(mask)\n",
    "display(A[mask])"
   ]
  },
  {
   "cell_type": "markdown",
   "metadata": {},
   "source": [
    "La función `where` sirve para recuperar el índice de los elementos que cumplen una cierta condición"
   ]
  },
  {
   "cell_type": "code",
   "execution_count": null,
   "metadata": {
    "ExecuteTime": {
     "end_time": "2020-05-16T00:48:26.975345Z",
     "start_time": "2020-05-16T00:48:26.961679Z"
    }
   },
   "outputs": [],
   "source": [
    "(ixs, iys) = np.where(~(A % 2 == 0) & (A > 2))\n",
    "\n",
    "for i, j in zip(ixs, iys):\n",
    "    display(\"Fila {0} Columna {1} Valor {2}\".format(i, j, A[i, j]))"
   ]
  },
  {
   "cell_type": "markdown",
   "metadata": {},
   "source": [
    "Funciones `any` y `all`"
   ]
  },
  {
   "cell_type": "code",
   "execution_count": null,
   "metadata": {
    "ExecuteTime": {
     "end_time": "2020-05-16T00:49:26.977938Z",
     "start_time": "2020-05-16T00:49:26.967224Z"
    }
   },
   "outputs": [],
   "source": [
    "x = np.random.randn(3, 3)\n",
    "display(x)\n",
    "b = (x > 0) & (x**2 > 0.5)\n",
    "display(b)\n",
    "\n",
    "display(np.any(b))\n",
    "display(np.all(b))"
   ]
  },
  {
   "cell_type": "markdown",
   "metadata": {},
   "source": [
    "## Operaciónes de conjutos\n",
    "\n",
    "Operaciones de tipo union, intersección y diferencia entre arreglos 1D\n",
    "\n",
    "Si se les entrega un arreglo de mayor dimensión este se aplanará automaticamente"
   ]
  },
  {
   "cell_type": "code",
   "execution_count": null,
   "metadata": {
    "ExecuteTime": {
     "end_time": "2020-05-16T00:50:16.965342Z",
     "start_time": "2020-05-16T00:50:16.956741Z"
    }
   },
   "outputs": [],
   "source": [
    "A = np.arange(6)\n",
    "B = np.array([0, 1, 10, 100])\n",
    "display(A)\n",
    "display(B)"
   ]
  },
  {
   "cell_type": "code",
   "execution_count": null,
   "metadata": {
    "ExecuteTime": {
     "end_time": "2020-05-16T00:50:41.238406Z",
     "start_time": "2020-05-16T00:50:41.218850Z"
    }
   },
   "outputs": [],
   "source": [
    "display(np.union1d(A, B)) # Union de A y B \n",
    "display(np.intersect1d(A, B)) # Intersección de A y B\n",
    "display(np.setdiff1d(A, B)) # Lo que hay en A y no en B\n",
    "display(np.setdiff1d(B, A)) # Lo que hay en B y no en A"
   ]
  },
  {
   "cell_type": "markdown",
   "metadata": {},
   "source": [
    "## Ordenando arreglos\n",
    "\n",
    "NumPy provee la función `np.sort` para ordernar un ndarray\n",
    "\n",
    "Se puede usar el argumento `kind` para escoger distintos algoritmos de ordenamiento (por defecto quicksort)\n",
    "\n",
    "El argumento `axis` especifica que eje se va a ordenar"
   ]
  },
  {
   "cell_type": "code",
   "execution_count": null,
   "metadata": {
    "ExecuteTime": {
     "end_time": "2020-05-16T00:51:53.068684Z",
     "start_time": "2020-05-16T00:51:53.055167Z"
    }
   },
   "outputs": [],
   "source": [
    "A = np.random.randn(2, 2)\n",
    "display(A)\n",
    "display(np.sort(A, axis=1))\n",
    "display(np.sort(A, axis=0))\n",
    "display(np.sort(A, axis=None))"
   ]
  },
  {
   "cell_type": "markdown",
   "metadata": {},
   "source": [
    "La función `np.argsort` entrega un arreglo de índices que ordena el arreglo de menor a mayor"
   ]
  },
  {
   "cell_type": "code",
   "execution_count": null,
   "metadata": {
    "ExecuteTime": {
     "end_time": "2020-05-16T00:53:18.916647Z",
     "start_time": "2020-05-16T00:53:18.908467Z"
    }
   },
   "outputs": [],
   "source": [
    "A = np.array([\"A\", \"B\", \"C\"])\n",
    "B = np.array([2, 4, 1])\n",
    "\n",
    "idx = np.argsort(B)\n",
    "display(idx)\n",
    "display(A[idx])"
   ]
  },
  {
   "cell_type": "markdown",
   "metadata": {},
   "source": [
    "# Módulos de NumPy\n"
   ]
  },
  {
   "cell_type": "markdown",
   "metadata": {},
   "source": [
    "## [`np.random`](https://numpy.org/doc/stable/reference/random/index.html)\n",
    "\n",
    "Es un módulo para generar permutaciones y arreglos de números aleatorios siguiendo distintas distribuciones\n",
    "\n",
    "\n",
    "- `np.random.rand(d1, d2, ... ,dn)` Genera flotantes con distribución uniforme en [0, 1)\n",
    "- `np.random.seed` Especifica la semilla para inicializar el generador de números pseudo-aleatorios"
   ]
  },
  {
   "cell_type": "code",
   "execution_count": null,
   "metadata": {
    "ExecuteTime": {
     "end_time": "2020-05-16T00:55:37.211367Z",
     "start_time": "2020-05-16T00:55:37.206355Z"
    }
   },
   "outputs": [],
   "source": [
    "np.random.seed(0)\n",
    "\n",
    "data = np.random.rand(10)\n",
    "display(data)"
   ]
  },
  {
   "cell_type": "markdown",
   "metadata": {},
   "source": [
    "Mayor control sobre el generador de números aleatorios con `get_state` y `set_state`"
   ]
  },
  {
   "cell_type": "code",
   "execution_count": null,
   "metadata": {
    "ExecuteTime": {
     "end_time": "2020-05-16T00:56:02.175448Z",
     "start_time": "2020-05-16T00:56:02.163578Z"
    }
   },
   "outputs": [],
   "source": [
    "rstate = np.random.get_state()\n",
    "data = np.random.rand(10)\n",
    "display(data)\n",
    "data = np.random.rand(10)\n",
    "display(data)\n",
    "np.random.set_state(rstate)\n",
    "data = np.random.rand(10)\n",
    "display(data)"
   ]
  },
  {
   "cell_type": "markdown",
   "metadata": {},
   "source": [
    "- `np.random.randn` Números con distribución normal estándar $\\mathcal{N}(0, I)$"
   ]
  },
  {
   "cell_type": "code",
   "execution_count": null,
   "metadata": {
    "ExecuteTime": {
     "end_time": "2020-05-16T00:57:29.788366Z",
     "start_time": "2020-05-16T00:57:29.782789Z"
    }
   },
   "outputs": [],
   "source": [
    "data = np.random.randn(10)\n",
    "display(data)"
   ]
  },
  {
   "cell_type": "markdown",
   "metadata": {},
   "source": [
    "- `np.random.randint` Números con distribución categórica (discreta)"
   ]
  },
  {
   "cell_type": "code",
   "execution_count": null,
   "metadata": {
    "ExecuteTime": {
     "end_time": "2020-05-16T00:58:00.337611Z",
     "start_time": "2020-05-16T00:58:00.320391Z"
    }
   },
   "outputs": [],
   "source": [
    "data = np.random.randint(low=0, high=10, size=10)\n",
    "display(data)"
   ]
  },
  {
   "cell_type": "markdown",
   "metadata": {},
   "source": [
    "- `np.random.choice` Extrae una muestra aleatoria de una arreglo"
   ]
  },
  {
   "cell_type": "code",
   "execution_count": null,
   "metadata": {
    "ExecuteTime": {
     "end_time": "2020-05-16T00:59:31.120219Z",
     "start_time": "2020-05-16T00:59:31.114200Z"
    }
   },
   "outputs": [],
   "source": [
    "x = np.array([0, 1, 10, 100, 1000, 10000])\n",
    "np.random.choice(x, size=2, replace=False)"
   ]
  },
  {
   "cell_type": "markdown",
   "metadata": {},
   "source": [
    "Si se entrega un entero D es equivalente a entregar range(D)"
   ]
  },
  {
   "cell_type": "code",
   "execution_count": null,
   "metadata": {
    "ExecuteTime": {
     "end_time": "2020-05-15T00:40:37.630851Z",
     "start_time": "2020-05-15T00:40:37.508445Z"
    }
   },
   "outputs": [],
   "source": [
    "np.random.choice(10, size=10, replace=True)"
   ]
  },
  {
   "cell_type": "markdown",
   "metadata": {},
   "source": [
    "- `np.random.permutation` Crea una permutación de indices "
   ]
  },
  {
   "cell_type": "code",
   "execution_count": null,
   "metadata": {
    "ExecuteTime": {
     "end_time": "2020-05-16T01:00:08.448896Z",
     "start_time": "2020-05-16T01:00:08.442130Z"
    }
   },
   "outputs": [],
   "source": [
    "idx = np.random.permutation(len(x))\n",
    "display(idx)\n",
    "display(x[idx])"
   ]
  },
  {
   "cell_type": "markdown",
   "metadata": {
    "ExecuteTime": {
     "end_time": "2020-05-14T21:35:47.811635Z",
     "start_time": "2020-05-14T21:35:47.805719Z"
    }
   },
   "source": [
    "- `np.random.shuffle` Desordena una arreglo (*inplace*)"
   ]
  },
  {
   "cell_type": "code",
   "execution_count": null,
   "metadata": {
    "ExecuteTime": {
     "end_time": "2020-05-16T01:00:35.647493Z",
     "start_time": "2020-05-16T01:00:35.642976Z"
    }
   },
   "outputs": [],
   "source": [
    "np.random.shuffle(x)\n",
    "display(x)"
   ]
  },
  {
   "cell_type": "markdown",
   "metadata": {},
   "source": [
    "`np.random` ofrece una gran cantidad de distribuciones para crear números aleatorios\n",
    "\n",
    "Estudiaremos algunas de ellas en la siguiente unidad del curso"
   ]
  },
  {
   "cell_type": "markdown",
   "metadata": {},
   "source": [
    "## [`linalg`](https://numpy.org/doc/stable/reference/routines.linalg.html)\n",
    "\n",
    "Es un módulo con implementaciones muy eficientes para hacer álgebra lineal y operaciones matriciales\n",
    "- Calcular matriz inversa, determinantes y trazas\n",
    "- Resolver sistemas lineales\n",
    "- Factorizar matrices\n",
    "- Calcular valores y vectores propios\n",
    "\n",
    "> Revisaremos este módulo en gran detalle en la Unidad 2 del curso\n",
    "\n",
    "En este cuadernillo sólo revisaremos operaciones básicas"
   ]
  },
  {
   "cell_type": "code",
   "execution_count": null,
   "metadata": {
    "ExecuteTime": {
     "end_time": "2020-05-16T01:01:19.478300Z",
     "start_time": "2020-05-16T01:01:19.187563Z"
    }
   },
   "outputs": [],
   "source": [
    "A = np.arange(4).reshape(2,2)\n",
    "display(A)\n",
    "# a*d - b*c\n",
    "display(np.linalg.det(A))\n",
    "# sqrt(a^2 + b^2 + c^2 + d^2)\n",
    "display(np.linalg.norm(A))\n",
    "# Inversa\n",
    "display(np.dot(A, np.linalg.inv(A)))"
   ]
  },
  {
   "cell_type": "markdown",
   "metadata": {},
   "source": [
    "# Tópicos extra: \n",
    "\n",
    "## NumPy para usuarios de Matlab\n",
    "\n",
    "En la documentación de NumPy, en la sección [NumPy para usuarios de Matlab](https://numpy.org/devdocs/user/numpy-for-matlab-users.html) se describen las diferencias clave entre NumPy y Matlab y se presenta una tabla de equivalencias entre las funciones de ambos\n",
    "\n",
    "\n",
    "## Extender NumPy\n",
    "\n",
    "NumPy provee una [API en lenguaje C para manipular ndarray a bajo nivel](https://numpy.org/devdocs/user/c-info.html)\n",
    "\n",
    "La API se puede usar para crear nuevas funcioens y módulos que utilicen ndarray\n",
    "\n",
    "## Computación simbólica \n",
    "\n",
    "La computación simbólica es un paradigma donde los cálculos se hacen de forma *análitica* en lugar de *númerica*\n",
    "\n",
    "Se definen variables o simbolos que son operados algebraicamente\n",
    "\n",
    "Este paradigma se usa tipicamente para obtener expresiones simplificadas de derivadas o integrales, series, límites, factorizaciones, expansiones, etc\n",
    "\n",
    "- Paradigma númerico: Nos da el resultado de una expresión\n",
    "- Paradigma simbólico: Nos da la expresión\n",
    "\n",
    "En Python se puede hacer computación simbólica con [SimPy](https://www.sympy.org)\n"
   ]
  },
  {
   "cell_type": "code",
   "execution_count": null,
   "metadata": {},
   "outputs": [],
   "source": []
  }
 ],
 "metadata": {
  "kernelspec": {
   "display_name": "Python 3",
   "language": "python",
   "name": "python3"
  },
  "language_info": {
   "codemirror_mode": {
    "name": "ipython",
    "version": 3
   },
   "file_extension": ".py",
   "mimetype": "text/x-python",
   "name": "python",
   "nbconvert_exporter": "python",
   "pygments_lexer": "ipython3",
   "version": "3.8.2"
  },
  "toc": {
   "base_numbering": 1,
   "nav_menu": {},
   "number_sections": true,
   "sideBar": true,
   "skip_h1_title": false,
   "title_cell": "Table of Contents",
   "title_sidebar": "Contents",
   "toc_cell": false,
   "toc_position": {},
   "toc_section_display": true,
   "toc_window_display": false
  }
 },
 "nbformat": 4,
 "nbformat_minor": 2
}
