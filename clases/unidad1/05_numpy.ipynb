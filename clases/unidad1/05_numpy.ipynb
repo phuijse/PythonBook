{
 "cells": [
  {
   "cell_type": "markdown",
   "metadata": {},
   "source": [
    " # Arreglos y operaciones vectoriales con [NumPy](http://www.numpy.org/)\n",
    "\n",
    "\n",
    "NumPy es un paquete de computación científica con Python que provee:\n",
    "\n",
    "- Un objecto contenedor muy versatil: arreglo N-dimensional `ndarray`\n",
    "- Funciones capaces de hacer *broadcasting*\n",
    "- Módulos para algebra lineal, Transformada de Fourier, generación de número aleatorios, entre otros\n",
    "- Herramientas para integrar código C/C++\n"
   ]
  },
  {
   "cell_type": "markdown",
   "metadata": {},
   "source": [
    "**Instalación**\n",
    "    \n",
    "Con nuestro ambiente conda activado:\n",
    "\n",
    "    conda install numpy\n",
    "    \n",
    "Esto instalará numpy y las librerías de bajo nivel BLAS y MKL\n",
    "\n",
    "Luego importamos usando"
   ]
  },
  {
   "cell_type": "code",
   "execution_count": null,
   "metadata": {
    "ExecuteTime": {
     "end_time": "2020-05-16T00:19:24.853448Z",
     "start_time": "2020-05-16T00:19:24.744862Z"
    }
   },
   "outputs": [],
   "source": [
    "import numpy as np\n",
    "print(\"Version: \", np.__version__)"
   ]
  },
  {
   "cell_type": "markdown",
   "metadata": {},
   "source": [
    "## Objeto ndarray (alias array)\n",
    "\n",
    "Una lista `lista` de Python es un tipo de arreglo donde cada elemento puede ser de tipo diferente\n",
    "\n",
    "En general es muy ineficiente hacer cálculos numéricos usando listas\n",
    "\n",
    "Como reemplazo usaremos el objeto `ndarray` de NumPy, que corresponde a un **arreglo n-dimensional de tipo fijo**\n",
    "\n",
    "A diferencia de una lista, las operaciones matemáticas y reducciones sobre ndarray son eficientes\n",
    "\n",
    "Podemos crear un ndarray a partir de \n",
    "\n",
    "- una lista o tupla usando `np.array`\n",
    "- un fichero, por ejemplo usando `np.genfromtxt`\n",
    "- funciones generadoras de NumPy, por ejemplo `np.linspace`, `np.zeros`, etc\n",
    "\n",
    "### Ndarray a partir de listas y atributos básicos"
   ]
  },
  {
   "cell_type": "code",
   "execution_count": null,
   "metadata": {
    "ExecuteTime": {
     "end_time": "2020-05-16T00:02:22.524424Z",
     "start_time": "2020-05-16T00:02:22.515949Z"
    }
   },
   "outputs": [],
   "source": [
    "# Supongamos que tenemos la siguiente lista de listas\n",
    "L = [[0, 1, 2], [3, 4, 5]]\n",
    "print(\"L es un\", type(L))\n",
    "# Podemos transformarla a ndarray con\n",
    "A = np.array(L)\n",
    "print(\"A es un\", type(A))\n",
    "display(A)"
   ]
  },
  {
   "cell_type": "markdown",
   "metadata": {},
   "source": [
    "Los tipos de dato estándar de NumPy son:\n",
    "\n",
    "- Enteros: int8, int16, int32, int64\n",
    "- Enteros sin signo: uint8, uint16, uint32, uint64\n",
    "- Flotantes (reales): float16, float32, float64, float128\n",
    "- Números complejos: complex64, complex128, complex256\n",
    "- Booleanos: Bool\n",
    "\n",
    "Podemos forzar el tipo usando el argumento `dtype`"
   ]
  },
  {
   "cell_type": "code",
   "execution_count": null,
   "metadata": {
    "ExecuteTime": {
     "end_time": "2020-05-16T00:02:22.795418Z",
     "start_time": "2020-05-16T00:02:22.786892Z"
    }
   },
   "outputs": [],
   "source": [
    "display(np.array(L, dtype=np.int16))\n",
    "display(np.array(L, dtype=np.float32))"
   ]
  },
  {
   "cell_type": "markdown",
   "metadata": {},
   "source": [
    "Además el atributo `dtype` nos permite ver el tipo de un arreglo NumPy"
   ]
  },
  {
   "cell_type": "code",
   "execution_count": null,
   "metadata": {
    "ExecuteTime": {
     "end_time": "2020-05-16T00:02:23.574143Z",
     "start_time": "2020-05-16T00:02:23.565292Z"
    }
   },
   "outputs": [],
   "source": [
    "x = np.array([1. + 2j])\n",
    "print(\"x es de tipo\", x.dtype)"
   ]
  },
  {
   "cell_type": "markdown",
   "metadata": {},
   "source": [
    "\n",
    "- El atributo `ndim` es un entero que nos indica el número de dimensiones o ejes del arreglo\n",
    "- El atributo `shape` es una tupla de entero que nos indica el tamaño del arreglo en cada una de sus dimensiones\n",
    "\n",
    "Por ejemplo:"
   ]
  },
  {
   "cell_type": "code",
   "execution_count": null,
   "metadata": {
    "ExecuteTime": {
     "end_time": "2020-05-16T00:02:26.733889Z",
     "start_time": "2020-05-16T00:02:26.722060Z"
    }
   },
   "outputs": [],
   "source": [
    "display(A)\n",
    "print(\"A tiene \", A.ndim, \"dimensiones/ejes\")\n",
    "display(A.shape)\n",
    "print(\"El eje 0 tiene largo\", A.shape[0])\n",
    "print(\"El eje 1 tiene largo\", A.shape[1])"
   ]
  },
  {
   "cell_type": "markdown",
   "metadata": {},
   "source": [
    "**Ordenamiento en memoria de ndarray**\n",
    "\n",
    "Por defecto un ndarray multidimensional se ordena en memoria siguiente un formato `row-major` similar a la convención usada en `C`. Alternativamente un arreglo se puede guardar en formato `column-major` similar a la convención usada en `Fortran`. La siguiente figura muestra la diferencia\n",
    "\n",
    "<img src=\"img/rowcolmajor.png\" width=\"600\">\n",
    "\n",
    "El atributo `order` nos permite seleccionar el ordenamiento al momento de crear el arreglo\n",
    "\n",
    "También se puede verificar el ordenamiento de un ndarray leyendo su atributo `flags`\n",
    "\n",
    "- Si tiene el flag `C_CONTIGUOUS` verdadero entonces es `row major`\n",
    "- Si tiene el flag `F_CONTIGUOUS` verdadero entonces es `column major`\n"
   ]
  },
  {
   "cell_type": "code",
   "execution_count": null,
   "metadata": {
    "ExecuteTime": {
     "end_time": "2020-05-16T00:02:27.022441Z",
     "start_time": "2020-05-16T00:02:27.013314Z"
    }
   },
   "outputs": [],
   "source": [
    "A = np.array(L)\n",
    "display(A)\n",
    "display(A.flags['C_CONTIGUOUS']) # Por defecto es True\n",
    "\n",
    "A = np.array(L, order='F')\n",
    "display(A)\n",
    "display(A.flags['C_CONTIGUOUS'])"
   ]
  },
  {
   "cell_type": "markdown",
   "metadata": {},
   "source": [
    "El diccionario `flags` contiene los siguientes valores:"
   ]
  },
  {
   "cell_type": "code",
   "execution_count": null,
   "metadata": {},
   "outputs": [],
   "source": [
    "A.flags"
   ]
  },
  {
   "cell_type": "markdown",
   "metadata": {},
   "source": [
    "### Crear un ndarray a partir de ficheros"
   ]
  },
  {
   "cell_type": "markdown",
   "metadata": {},
   "source": [
    "Cuando se trabajo con tablas de datos es muy común que estas se distribuyan como fichero en formato csv\n",
    "\n",
    "Un fichero csv es tipicamente un texto plano con valores separados por comas como el que se muestra a continuación"
   ]
  },
  {
   "cell_type": "code",
   "execution_count": null,
   "metadata": {
    "ExecuteTime": {
     "end_time": "2020-05-16T00:02:28.139050Z",
     "start_time": "2020-05-16T00:02:28.016378Z"
    }
   },
   "outputs": [],
   "source": [
    "# Por ejemplo:\n",
    "!cat example.csv"
   ]
  },
  {
   "cell_type": "markdown",
   "metadata": {},
   "source": [
    "El proceso de transformar este archivo en texto plano a una estructura de datos numérica se llama *parseo*\n",
    "\n",
    "NumPy tiene algunas [operaciones de IO para conectar con ficheros e importar datos](https://numpy.org/devdocs/reference/routines.io.html). Por ejemplo para leer un archivo en formato CSV podemos usar  [genfromtxt](https://numpy.org/devdocs/user/basics.io.genfromtxt.html) especificando adecuadamente el caracter deliminator y opcionalmente el tipo\n"
   ]
  },
  {
   "cell_type": "code",
   "execution_count": null,
   "metadata": {},
   "outputs": [],
   "source": [
    "data = np.genfromtxt('example.csv', delimiter=',')\n",
    "data"
   ]
  },
  {
   "cell_type": "markdown",
   "metadata": {},
   "source": [
    "Por defecto se importo como un arreglo de números flotantes. Podemos evitar lo anterior y forzar el tipo entero con"
   ]
  },
  {
   "cell_type": "code",
   "execution_count": null,
   "metadata": {
    "ExecuteTime": {
     "end_time": "2020-05-16T00:02:28.216907Z",
     "start_time": "2020-05-16T00:02:28.197180Z"
    }
   },
   "outputs": [],
   "source": [
    "data = np.genfromtxt('example.csv', \n",
    "                     delimiter=',', # Separador entre caracteres\n",
    "                     dtype=int\n",
    "                    )\n",
    "data"
   ]
  },
  {
   "cell_type": "markdown",
   "metadata": {},
   "source": [
    "```{note}\n",
    "No se darán más detalles pues más adelante veremos la librería `pandas` que provee funciones mucho más poderosas y flexibles para hacer *parsing* de datos \n",
    "```"
   ]
  },
  {
   "cell_type": "markdown",
   "metadata": {},
   "source": [
    "### Funciones generadoras de arreglos\n",
    "\n",
    "Se pueden crear arreglos directamente desde Numpy\n",
    "\n",
    "Algunos ejemplos útiles"
   ]
  },
  {
   "cell_type": "code",
   "execution_count": null,
   "metadata": {
    "ExecuteTime": {
     "end_time": "2020-05-16T01:57:51.862864Z",
     "start_time": "2020-05-16T01:57:51.836123Z"
    }
   },
   "outputs": [],
   "source": [
    "display(np.zeros(shape=(3, 3), dtype=np.int))  # Lleno de ceros\n",
    "display(np.ones(shape=(3, 3), dtype=np.float32))  # Lleno de unos\n",
    "display(np.full(shape=(3, 3), fill_value=np.pi))  # Lleno de PI\n",
    "display(np.eye(3))  # Matriz identidad\n",
    "display(np.random.randn(3, 3))  # Matriz aleatoria con distribución N(0, 1)"
   ]
  },
  {
   "cell_type": "markdown",
   "metadata": {},
   "source": [
    "También existen versiones de estas funciones que copian el tamaño de otro ndarray"
   ]
  },
  {
   "cell_type": "code",
   "execution_count": null,
   "metadata": {
    "ExecuteTime": {
     "end_time": "2020-05-16T00:02:29.173423Z",
     "start_time": "2020-05-16T00:02:29.166084Z"
    }
   },
   "outputs": [],
   "source": [
    "display(np.zeros_like(A))"
   ]
  },
  {
   "cell_type": "markdown",
   "metadata": {},
   "source": [
    "Las siguientes funciones son muy útiles cuando necesitamos crear un rango lineal o logarítmico usando\n",
    "\n",
    "Especificamos el inicio, el fin y el paso o cantidad de elementos"
   ]
  },
  {
   "cell_type": "code",
   "execution_count": null,
   "metadata": {
    "ExecuteTime": {
     "end_time": "2020-05-16T01:58:46.456791Z",
     "start_time": "2020-05-16T01:58:46.434293Z"
    }
   },
   "outputs": [],
   "source": [
    "display(np.arange(start=0, stop=5, step=0.5))  # paso\n",
    "display(np.linspace(start=0, stop=10, num=11)) # cantidad de elementos\n",
    "display(np.logspace(start=-1, stop=1, num=11))"
   ]
  },
  {
   "cell_type": "markdown",
   "metadata": {},
   "source": [
    "## Manipulación de matrices y vectores\n",
    "\n",
    "Es usual que antes de operar un ndarray necesitemos cambiar su tamaño o número de dimensiones\n",
    "\n",
    "Algunas operaciones típicas para modificar la forma de un arreglo son: `reshape`, `tile`, `repeat`, `ravel` y `transpose`\n",
    "\n",
    "`reshape` reorganice las dimensiones de un arreglo pero debe preservar el tamaño"
   ]
  },
  {
   "cell_type": "code",
   "execution_count": null,
   "metadata": {
    "ExecuteTime": {
     "end_time": "2020-05-16T01:59:38.677307Z",
     "start_time": "2020-05-16T01:59:38.669038Z"
    }
   },
   "outputs": [],
   "source": [
    "A = np.arange(6)\n",
    "display(A)\n",
    "# Convierte 6 a 3x2\n",
    "display(np.reshape(A, (3, 2)))  \n",
    "# Convierte 6 a 2x3\n",
    "display(np.reshape(A, (2, 3)))"
   ]
  },
  {
   "cell_type": "markdown",
   "metadata": {},
   "source": [
    "`tile` repite el arreglo en una dirección dada"
   ]
  },
  {
   "cell_type": "code",
   "execution_count": null,
   "metadata": {
    "ExecuteTime": {
     "end_time": "2020-05-16T00:02:34.065495Z",
     "start_time": "2020-05-16T00:02:34.057141Z"
    }
   },
   "outputs": [],
   "source": [
    "# Repite 4 veces en la dirección de las filas\n",
    "display(np.tile(A, (4, 1)))\n",
    "# Repite 2 veces en la dirección de las columnas\n",
    "display(np.tile(A, (1, 2)))"
   ]
  },
  {
   "cell_type": "markdown",
   "metadata": {},
   "source": [
    "`repeat` repite cada elemento en una dirección o eje dado"
   ]
  },
  {
   "cell_type": "code",
   "execution_count": null,
   "metadata": {
    "ExecuteTime": {
     "end_time": "2020-05-16T00:02:34.241601Z",
     "start_time": "2020-05-16T00:02:34.233567Z"
    }
   },
   "outputs": [],
   "source": [
    "# Cada elemento aparece dos veces (duplicación)\n",
    "display(np.repeat(A, 2))\n",
    "# Cada elemento/fila aparece dos veces en la dirección de las filas\n",
    "display(np.repeat(A.reshape(3, 2), 2, axis=0))\n",
    "# Cada elemento aparece dos veces en la dirección de las columnas\n",
    "display(np.repeat(A.reshape(3, 2), 2, axis=1))"
   ]
  },
  {
   "cell_type": "markdown",
   "metadata": {},
   "source": [
    "`ravel` es una función que aplana el ndarray y retorna un arreglo de una dimensión"
   ]
  },
  {
   "cell_type": "code",
   "execution_count": null,
   "metadata": {
    "ExecuteTime": {
     "end_time": "2020-05-16T00:02:35.331447Z",
     "start_time": "2020-05-16T00:02:35.321801Z"
    }
   },
   "outputs": [],
   "source": [
    "# Convierte una matriz de 5x5 en un arreglo de 25\n",
    "display(np.ravel(np.zeros(shape=(5, 5))))"
   ]
  },
  {
   "cell_type": "markdown",
   "metadata": {},
   "source": [
    "`transpose` puede utilizarse para intercambiar la posición de los ejes/dimensiones de un ndarray\n",
    "\n",
    "Tiene el mismo significado de la trasposición matricial\n",
    "\n",
    "<img src=\"img/transpose.jpg\" width=\"400\">\n",
    "\n",
    "Por ejemplo:"
   ]
  },
  {
   "cell_type": "code",
   "execution_count": null,
   "metadata": {
    "ExecuteTime": {
     "end_time": "2020-05-16T00:02:37.934718Z",
     "start_time": "2020-05-16T00:02:37.923818Z"
    }
   },
   "outputs": [],
   "source": [
    "A = np.arange(9).reshape(3, 3)\n",
    "display(A)\n",
    "display(np.transpose(A)) # Equivalente a A.transpose() o A.T"
   ]
  },
  {
   "cell_type": "markdown",
   "metadata": {},
   "source": [
    "`transpose` puede usarse en ndarrays de cualquier dimensionalidad\n",
    "\n",
    "Podemos usar el argumento `axes` para especificar cuales dimensiones se van a intercambiar\n",
    "\n",
    "(Opcionalmente podemos usar la función `np.swapaxes()` para obtener le mismo efecto)"
   ]
  },
  {
   "cell_type": "code",
   "execution_count": null,
   "metadata": {
    "ExecuteTime": {
     "end_time": "2020-05-16T00:02:38.587442Z",
     "start_time": "2020-05-16T00:02:38.577132Z"
    }
   },
   "outputs": [],
   "source": [
    "A = np.arange(8).reshape(2, 2, 2)\n",
    "display(A)\n",
    "display(np.transpose(A, axes=(0, 2, 1)))  "
   ]
  },
  {
   "cell_type": "markdown",
   "metadata": {},
   "source": [
    "**Agregar dimensiones a un arreglo**\n",
    "\n",
    "En algunas ocasiones nos interesará extender un arreglo, agregándole dimensiones\n",
    "\n",
    "Consideremos el siguiente arreglo unidimensional"
   ]
  },
  {
   "cell_type": "code",
   "execution_count": null,
   "metadata": {},
   "outputs": [],
   "source": [
    "A = np.array([0, 1, 2, 3, 4]) \n",
    "print(\"Dimensión:\", A.ndim, \", Tamaño: \", A.shape)"
   ]
  },
  {
   "cell_type": "markdown",
   "metadata": {},
   "source": [
    "Como vimos antes podemos agregar una dimensión usando `reshape`, pero otra forma más simple es usando `np.newaxis` (un alias de `None`)\n",
    "\n",
    "Si queremos agregarle una dimensión al arreglo anterior podemos hacerlo a la derecha o a la izquierda\n",
    "\n",
    "Por ejemplo agregarle una dimensión a la derecha creará una matriz de $N\\times1$ o vector columna"
   ]
  },
  {
   "cell_type": "code",
   "execution_count": null,
   "metadata": {},
   "outputs": [],
   "source": [
    "Amod = A[:, np.newaxis]\n",
    "display(Amod)\n",
    "print(\"Dimensión:\", Amod.ndim, \", Tamaño: \", Amod.shape)"
   ]
  },
  {
   "cell_type": "markdown",
   "metadata": {},
   "source": [
    "Mientras que agregarle una dimensión a la izquierda creará una matriz de $1\\times N$ o vector fila"
   ]
  },
  {
   "cell_type": "code",
   "execution_count": null,
   "metadata": {},
   "outputs": [],
   "source": [
    "Amod = A[np.newaxis, :]\n",
    "display(Amod)\n",
    "print(\"Dimensión:\", Amod.ndim, \", Tamaño: \", Amod.shape)"
   ]
  },
  {
   "cell_type": "markdown",
   "metadata": {},
   "source": [
    "Algunas operaciones útiles para combinar arreglos son: `concatenate`, `vstack`, `hstack`\n",
    "\n",
    "`concatenate` es más general que las dos últimas"
   ]
  },
  {
   "cell_type": "code",
   "execution_count": null,
   "metadata": {
    "ExecuteTime": {
     "end_time": "2020-05-16T00:02:40.298490Z",
     "start_time": "2020-05-16T00:02:40.279828Z"
    }
   },
   "outputs": [],
   "source": [
    "A = np.arange(6).reshape(1, 6) # 1,2,3,4,5,6\n",
    "B = np.ones(shape=(1,6)) #1,1,1,1,1,1\n",
    "\n",
    "# Combinar en eje filas\n",
    "display(np.concatenate((A, B), axis=0)) \n",
    "# Combinar en eje columnas\n",
    "display(np.concatenate((A, B), axis=1))\n",
    "# Combina siempre en fila\n",
    "display(np.vstack((A, B)))\n",
    "# Combina siempre en columna\n",
    "display(np.hstack((A, B)))"
   ]
  },
  {
   "cell_type": "markdown",
   "metadata": {},
   "source": [
    "Finalmente resaltar que existen funciones para agregar o quitar elementos: `append`, `insert`, `delete`"
   ]
  },
  {
   "cell_type": "code",
   "execution_count": null,
   "metadata": {
    "ExecuteTime": {
     "end_time": "2020-05-16T00:02:43.253396Z",
     "start_time": "2020-05-16T00:02:43.240162Z"
    }
   },
   "outputs": [],
   "source": [
    "A = np.array([1., 2., 3.])\n",
    "display(A)\n",
    "# Agrega un elemento al final\n",
    "display(np.append(A, 4))\n",
    "# Agrega un elemento en la posición indicada\n",
    "display(np.insert(A, 2, values=0.))\n",
    "# Elimina el elemento en la posición indicada (retorna un nuevo arreglo)\n",
    "display(np.delete(A, 2))"
   ]
  },
  {
   "cell_type": "markdown",
   "metadata": {},
   "source": [
    "## Indexación y *slicing*\n",
    "\n",
    "Al igual que otros contenedores de Python los ndarray soportan *slicing*\n",
    "\n",
    "> Slicing es crear una arreglo a partir de una indexación sobre otro arreglo\n",
    "\n",
    "Sea por por ejemplo:"
   ]
  },
  {
   "cell_type": "code",
   "execution_count": null,
   "metadata": {},
   "outputs": [],
   "source": [
    "L = [[0, 1, 2], [3, 4, 5]]\n",
    "A = np.array(L)\n",
    "display(A)"
   ]
  },
  {
   "cell_type": "markdown",
   "metadata": {},
   "source": [
    "Para acceder al elemento en la segunda fila y primera columna usaríamos"
   ]
  },
  {
   "cell_type": "code",
   "execution_count": null,
   "metadata": {},
   "outputs": [],
   "source": [
    "display(L[1][0], # Con la lista\n",
    "        A[1, 0]) # Con el ndarray"
   ]
  },
  {
   "cell_type": "markdown",
   "metadata": {},
   "source": [
    "El ndarray nos da mucha flexibilidad para hacer slicing"
   ]
  },
  {
   "cell_type": "code",
   "execution_count": null,
   "metadata": {
    "ExecuteTime": {
     "end_time": "2020-05-16T02:04:56.026880Z",
     "start_time": "2020-05-16T02:04:56.006785Z"
    }
   },
   "outputs": [],
   "source": [
    "display(A[:, 1])  # Retorna la segunda columna\n",
    "display(A[0, :]) # Retorna la primera fila \n",
    "display(A[1, ::2]) # Retorna los elementos de la primera fila y columnas pares\n",
    "display(A[-1, -2]) # Retorna los elementos de la ultima fila y penultima columna"
   ]
  },
  {
   "cell_type": "markdown",
   "metadata": {},
   "source": [
    "También podemos usar un arreglo de enteros para indexar otro arreglo\n",
    "\n",
    "Esto se llama *fancy indexing*"
   ]
  },
  {
   "cell_type": "code",
   "execution_count": null,
   "metadata": {
    "ExecuteTime": {
     "end_time": "2020-05-16T00:02:43.769002Z",
     "start_time": "2020-05-16T00:02:43.760705Z"
    }
   },
   "outputs": [],
   "source": [
    "ix = np.array([0, 0, 1])\n",
    "iy = np.array([0, 1, 1])\n",
    "display(A[ix, iy]) # Elementos [0,0], [0,1] y [1,1]"
   ]
  },
  {
   "cell_type": "markdown",
   "metadata": {},
   "source": [
    "Con un slice podemos escribir directamente en esos valores y modificarlos:"
   ]
  },
  {
   "cell_type": "code",
   "execution_count": null,
   "metadata": {},
   "outputs": [],
   "source": [
    "A[ix, iy] = 10 \n",
    "display(A)"
   ]
  },
  {
   "cell_type": "markdown",
   "metadata": {},
   "source": [
    "También podemos indexar usando un arreglo de booleanos"
   ]
  },
  {
   "cell_type": "code",
   "execution_count": null,
   "metadata": {
    "ExecuteTime": {
     "end_time": "2020-05-16T00:02:46.633407Z",
     "start_time": "2020-05-16T00:02:46.626376Z"
    }
   },
   "outputs": [],
   "source": [
    "A = np.array([0, 2, 1, 3, 4])\n",
    "B = np.array([True, False, False, True, True])\n",
    "display(A[B])"
   ]
  },
  {
   "attachments": {},
   "cell_type": "markdown",
   "metadata": {},
   "source": [
    "La siguiente figura muestra de forma esquemática varios ejemplos de slices\n",
    "\n",
    "<img src=\"img/slicing.png\" width=\"700\">"
   ]
  },
  {
   "cell_type": "markdown",
   "metadata": {},
   "source": [
    "```{note}\n",
    "Algunas operaciones sobre arreglos no hacen copias (usan referencias)\n",
    "```\n",
    "\n",
    "En particular cuando hacemos un slice, estamos modificando el arreglo original"
   ]
  },
  {
   "cell_type": "code",
   "execution_count": null,
   "metadata": {
    "ExecuteTime": {
     "end_time": "2020-05-16T00:02:47.333289Z",
     "start_time": "2020-05-16T00:02:47.323775Z"
    }
   },
   "outputs": [],
   "source": [
    "A = np.arange(100).reshape(10, 10)\n",
    "B = A\n",
    "B is A"
   ]
  },
  {
   "cell_type": "markdown",
   "metadata": {},
   "source": [
    "Si modifico A se ve reflejado en B"
   ]
  },
  {
   "cell_type": "code",
   "execution_count": null,
   "metadata": {
    "ExecuteTime": {
     "end_time": "2020-05-16T00:02:47.847184Z",
     "start_time": "2020-05-16T00:02:47.842375Z"
    }
   },
   "outputs": [],
   "source": [
    "A[:5, :5] = 100\n",
    "display(B)"
   ]
  },
  {
   "cell_type": "markdown",
   "metadata": {},
   "source": [
    "Modificaciones en subarreglos (vistas) también son referenciadas"
   ]
  },
  {
   "cell_type": "code",
   "execution_count": null,
   "metadata": {
    "ExecuteTime": {
     "end_time": "2020-05-16T00:02:51.610069Z",
     "start_time": "2020-05-16T00:02:51.603385Z"
    },
    "scrolled": true
   },
   "outputs": [],
   "source": [
    "A = np.arange(100).reshape(10, 10)\n",
    "B = A[:5, :5]\n",
    "display(B is A)\n",
    "B[:, :] = 100\n",
    "display(A)"
   ]
  },
  {
   "cell_type": "markdown",
   "metadata": {},
   "source": [
    "Si queremos evitar este comportamiento se puede forzar la creación de una copia con el método `copy()`"
   ]
  },
  {
   "cell_type": "code",
   "execution_count": null,
   "metadata": {
    "ExecuteTime": {
     "end_time": "2020-05-16T00:02:52.563246Z",
     "start_time": "2020-05-16T00:02:52.555364Z"
    }
   },
   "outputs": [],
   "source": [
    "B = A.copy()\n",
    "A[0, 0] = 0\n",
    "display(B[0])"
   ]
  },
  {
   "cell_type": "markdown",
   "metadata": {},
   "source": [
    "## Operaciones sobre ndarray\n",
    "\n",
    "### Operaciones aritméticas y *Broadcasting* \n",
    "\n",
    "Los ndarray soportan las operaciones aritméticas básicas\n",
    "\n",
    "- Suma:  +, +=\n",
    "- Resta: -, -=\n",
    "- Multiplicación:  *,*= \n",
    "- División: /, /=\n",
    "- División entera: //, //=\n",
    "- Exponenciación: ** , **=\n",
    "\n",
    "Estas operaciones tienen un comportamiento element-wise (elemento a elemento), es decir\n",
    "\n",
    "$$\n",
    "\\pmatrix{0 & 1 \\\\2 & 3 } \\cdot \\pmatrix{1 & 5 \\\\2 & 2 } = \\pmatrix{0 & 5 \\\\4 & 6 }\n",
    "$$\n",
    "\n",
    "Note que no corresponde a la multiplicación usual de matrices\n",
    "\n",
    "Veamos algunos ejemplos:"
   ]
  },
  {
   "cell_type": "code",
   "execution_count": null,
   "metadata": {
    "ExecuteTime": {
     "end_time": "2020-05-16T00:21:02.455706Z",
     "start_time": "2020-05-16T00:21:02.443045Z"
    },
    "scrolled": true
   },
   "outputs": [],
   "source": [
    "N = 3\n",
    "A = np.eye(N)\n",
    "B = np.ones(shape=(N, N))\n",
    "display(A)\n",
    "display(B)\n",
    "display(A + B)\n",
    "display(A*B)  "
   ]
  },
  {
   "cell_type": "markdown",
   "metadata": {},
   "source": [
    "Cuando los términos no son del mismo tamaño se hace un *broadcast*\n",
    "\n",
    "Por ejemplo si operamos una constante con un arreglo, la constante se opera con cada elemento del arreglo"
   ]
  },
  {
   "cell_type": "code",
   "execution_count": null,
   "metadata": {
    "ExecuteTime": {
     "end_time": "2020-05-16T00:21:57.573634Z",
     "start_time": "2020-05-16T00:21:57.564219Z"
    }
   },
   "outputs": [],
   "source": [
    "A - 1"
   ]
  },
  {
   "attachments": {},
   "cell_type": "markdown",
   "metadata": {},
   "source": [
    "**Reglas de *broadcasting* en Numpy**\n",
    "\n",
    "1. Si dos arreglos son de dimensiones distintas la dimensión del más pequeño se agranda con \"1\"s **por la izquierda**\n",
    "1. Si dos arreglos tienen tamaños ditintos, el que tiene tamaño \"1\" se estira en dicha dimensión\n",
    "1. Si en cualquier dimensión los tamaños son distintos y ninguno es igual a \"1\" ocurre un error\n",
    "\n",
    "\n",
    "<img src=\"img/broadcast.png\" width=\"550\">\n",
    "\n",
    "Imagen tomada del [Python Data Science Handbook](https://jakevdp.github.io/PythonDataScienceHandbook/06.00-figure-code.html#Broadcasting)"
   ]
  },
  {
   "cell_type": "markdown",
   "metadata": {},
   "source": [
    "Observe los siguientes ejemplos y reflexione sobre las reglas de broadcast que se está aplicando en cada caso"
   ]
  },
  {
   "cell_type": "code",
   "execution_count": null,
   "metadata": {
    "ExecuteTime": {
     "end_time": "2020-05-16T00:22:10.561899Z",
     "start_time": "2020-05-16T00:22:10.540446Z"
    }
   },
   "outputs": [],
   "source": [
    "C = np.arange(N)\n",
    "B = np.ones(shape=(N, N))\n",
    "display(C)\n",
    "display(B)\n",
    "display(B + C)\n",
    "display(B + C.reshape(-1, 1))"
   ]
  },
  {
   "cell_type": "code",
   "execution_count": null,
   "metadata": {
    "ExecuteTime": {
     "end_time": "2020-05-16T00:22:39.646437Z",
     "start_time": "2020-05-16T00:22:39.637991Z"
    }
   },
   "outputs": [],
   "source": [
    "display(C.reshape(1, N))\n",
    "display(C.reshape(N, 1))\n",
    "display(C.reshape(1, N) + C.reshape(N, 1))"
   ]
  },
  {
   "cell_type": "markdown",
   "metadata": {},
   "source": [
    "### Operaciones matriciales\n",
    "\n",
    "Antes dijimos que la multiplicación con `*` se realiza elemento a elemento\n",
    "\n",
    "Para realizar una multiplicación matricial propiamente tal podemos usar `dot` o el operador `@`"
   ]
  },
  {
   "cell_type": "code",
   "execution_count": null,
   "metadata": {
    "ExecuteTime": {
     "end_time": "2020-05-16T00:35:02.211070Z",
     "start_time": "2020-05-16T00:35:02.194021Z"
    }
   },
   "outputs": [],
   "source": [
    "A = np.arange(4).reshape(2, 2)\n",
    "B = np.arange(4)[::-1].reshape(2, 2)\n",
    "display(A, B)  "
   ]
  },
  {
   "cell_type": "markdown",
   "metadata": {},
   "source": [
    "Note la diferencia:"
   ]
  },
  {
   "cell_type": "code",
   "execution_count": null,
   "metadata": {},
   "outputs": [],
   "source": [
    "display(A*B)  \n",
    "display(np.dot(A, B))"
   ]
  },
  {
   "cell_type": "markdown",
   "metadata": {
    "ExecuteTime": {
     "end_time": "2020-05-14T23:52:21.123842Z",
     "start_time": "2020-05-14T23:52:21.119785Z"
    }
   },
   "source": [
    "Otras operaciones matricionales útiles son:\n",
    "\n",
    "- `np.inner` que calcula el producto escalar o producto interno\n",
    "- `np.outer` que calcula el producto externo\n",
    "- `np.cross` que calcula  cruz"
   ]
  },
  {
   "cell_type": "code",
   "execution_count": null,
   "metadata": {
    "ExecuteTime": {
     "end_time": "2020-05-16T00:35:52.958427Z",
     "start_time": "2020-05-16T00:35:52.951551Z"
    }
   },
   "outputs": [],
   "source": [
    "display(np.inner(A, B))\n",
    "display(np.outer(A, B))"
   ]
  },
  {
   "cell_type": "markdown",
   "metadata": {
    "ExecuteTime": {
     "end_time": "2020-05-14T23:53:14.986015Z",
     "start_time": "2020-05-14T23:53:14.980209Z"
    }
   },
   "source": [
    "El módulo  [`linalg`](https://numpy.org/doc/stable/reference/routines.linalg.html) de NumPy contiene muchas más funciones de álgebra lineal que nos permiten \n",
    "\n",
    "- Calcular matriz inversa, determinantes y trazas\n",
    "- Resolver sistemas lineales\n",
    "- Factorizar matrices\n",
    "- Calcular valores y vectores propios\n",
    "\n",
    "entre otros. Este módulo será estudiando en detalle en lecciones más avanzadas"
   ]
  },
  {
   "cell_type": "markdown",
   "metadata": {},
   "source": [
    "### Operaciones de reducción\n",
    "\n",
    "Llamamos **reducción** a una operación que **agrega** los valores de un arreglo entregando un único valor como respuesta\n",
    "\n",
    "La reducción más básica es la **suma agregada**\n",
    "\n",
    "$$\n",
    "[0, 1, 2, 4, 3] \\rightarrow 0 + 1 + 2 + 4 + 3 = 10 \n",
    "$$\n",
    "\n",
    "> Las operaciones de reducción se usan ampliamente para resumir datos y hacer estadística\n",
    "\n",
    "\n",
    "Algunas de las reducciones disponibles en NumPy son:\n",
    "- `sum`, `prod`\n",
    "- `amax`, `amin`, `argmax`, `argmin`\n",
    "- `mean`, `std`, `var`, `percentile`, `median`\n",
    "- `cumsum`, `cumprod`"
   ]
  },
  {
   "cell_type": "markdown",
   "metadata": {},
   "source": [
    "Diferencia entre sumar en el eje de filas, columnas y suma total:"
   ]
  },
  {
   "cell_type": "code",
   "execution_count": null,
   "metadata": {
    "ExecuteTime": {
     "end_time": "2020-05-16T00:38:34.817181Z",
     "start_time": "2020-05-16T00:38:34.805646Z"
    }
   },
   "outputs": [],
   "source": [
    "A = np.tile(np.arange(3), (3, 1))\n",
    "display(A)\n",
    "display(np.sum(A, axis=0))\n",
    "display(np.sum(A, axis=1))\n",
    "display(np.sum(A))"
   ]
  },
  {
   "cell_type": "markdown",
   "metadata": {},
   "source": [
    "Encontrar el valor y posición del máximo en un arreglo es también un tipo de reducción"
   ]
  },
  {
   "cell_type": "code",
   "execution_count": null,
   "metadata": {
    "ExecuteTime": {
     "end_time": "2020-05-16T00:39:45.794940Z",
     "start_time": "2020-05-16T00:39:45.778270Z"
    }
   },
   "outputs": [],
   "source": [
    "A = np.random.randn(3, 3)\n",
    "display(A)\n",
    "display(np.amax(A, axis=0))\n",
    "display(np.argmax(A, axis=0))"
   ]
  },
  {
   "cell_type": "markdown",
   "metadata": {},
   "source": [
    "Las operaciones de reducción de NumPy son altamente eficientes\n",
    "\n",
    "Hagamos una pequeña prueba de desempeño sumando  un vector\n",
    "\n",
    "Usaremos la magia de IPython `@timeit` que nos permite medir tiempo de cómputo"
   ]
  },
  {
   "cell_type": "code",
   "execution_count": null,
   "metadata": {
    "ExecuteTime": {
     "end_time": "2020-05-16T00:41:57.444424Z",
     "start_time": "2020-05-16T00:41:49.763494Z"
    }
   },
   "outputs": [],
   "source": [
    "A = np.arange(100000)\n",
    "\n",
    "def suma_loop(arreglo):\n",
    "    suma = 0.\n",
    "    for elemento in arreglo:\n",
    "        suma += elemento\n",
    "    return suma\n",
    "\n",
    "L = list(A)\n",
    "%timeit -n10 suma_loop(A)\n",
    "%timeit -n10 suma_loop(L)\n",
    "%timeit -n10 sum(A)\n",
    "%timeit -n10 sum(L)\n",
    "%timeit -n10 np.sum(L)\n",
    "%timeit -n10 np.sum(A)\n",
    "\n",
    "display(np.sum(A))\n",
    "display(sum(L))"
   ]
  },
  {
   "cell_type": "markdown",
   "metadata": {},
   "source": [
    "Muchas de estas funciones están implementadas como métodos de la clase arreglo, por ejemplo"
   ]
  },
  {
   "cell_type": "code",
   "execution_count": null,
   "metadata": {
    "ExecuteTime": {
     "end_time": "2020-05-15T00:40:36.139436Z",
     "start_time": "2020-05-15T00:40:36.127316Z"
    }
   },
   "outputs": [],
   "source": [
    "display(A.sum())\n",
    "display(A.max(axis=0))\n",
    "display(A.min())"
   ]
  },
  {
   "cell_type": "markdown",
   "metadata": {},
   "source": [
    "También cuentan con versiones seguras contra NaNs"
   ]
  },
  {
   "cell_type": "code",
   "execution_count": null,
   "metadata": {
    "ExecuteTime": {
     "end_time": "2020-05-16T00:44:00.254762Z",
     "start_time": "2020-05-16T00:44:00.247889Z"
    }
   },
   "outputs": [],
   "source": [
    "A = np.array([1., 10., 2., np.nan])\n",
    "display(np.sum(A))\n",
    "display(np.nansum(A))"
   ]
  },
  {
   "cell_type": "markdown",
   "metadata": {},
   "source": [
    "**Nota:** Si queremos encontrar los NaN en un arreglo podemos usar `isnan` "
   ]
  },
  {
   "cell_type": "code",
   "execution_count": null,
   "metadata": {
    "ExecuteTime": {
     "end_time": "2020-05-16T00:45:03.177050Z",
     "start_time": "2020-05-16T00:45:03.168364Z"
    }
   },
   "outputs": [],
   "source": [
    "np.isnan(A)"
   ]
  },
  {
   "cell_type": "markdown",
   "metadata": {},
   "source": [
    "### Operaciones vectorizadas\n",
    "\n",
    "Son funciones que operan de forma *element-wise* o elemento a elemento\n",
    "\n",
    "Ya vimos las operaciones aritméticas elemento a elemento pero existen muchas más\n",
    "\n",
    "Por ejemplo para calcular el valor absoluto de los elementos de un arreglo"
   ]
  },
  {
   "cell_type": "code",
   "execution_count": null,
   "metadata": {
    "ExecuteTime": {
     "end_time": "2020-05-16T00:45:45.762104Z",
     "start_time": "2020-05-16T00:45:45.748228Z"
    }
   },
   "outputs": [],
   "source": [
    "A = np.random.randn(3, 3)\n",
    "display(A)\n",
    "np.absolute(A) # Equivalente a np.abs(A)"
   ]
  },
  {
   "cell_type": "markdown",
   "metadata": {},
   "source": [
    "Exponenciar un arreglo"
   ]
  },
  {
   "cell_type": "code",
   "execution_count": null,
   "metadata": {
    "ExecuteTime": {
     "end_time": "2020-05-16T00:46:06.639128Z",
     "start_time": "2020-05-16T00:46:06.628539Z"
    }
   },
   "outputs": [],
   "source": [
    "x = np.arange(10)\n",
    "display(np.power(x, 2)) # Equivalente a x**2\n",
    "display(np.sqrt(x))"
   ]
  },
  {
   "cell_type": "markdown",
   "metadata": {},
   "source": [
    "Calcular funciones exponencial, logaritmo y trigonométricas  a partir de una arreglo"
   ]
  },
  {
   "cell_type": "code",
   "execution_count": null,
   "metadata": {
    "ExecuteTime": {
     "end_time": "2020-05-16T00:46:22.277359Z",
     "start_time": "2020-05-16T00:46:22.253545Z"
    }
   },
   "outputs": [],
   "source": [
    "x = np.array([0.1, 1., 10.0])\n",
    "display(np.log(x)) # También está log2, log10\n",
    "display(np.exp(x)) \n",
    "display(np.sin(x)) # También está arcsin, sinh\n",
    "display(np.cos(x)) # También está arccos, cosh\n",
    "display(np.tan(x)) #También está arctan, tanh"
   ]
  },
  {
   "cell_type": "markdown",
   "metadata": {},
   "source": [
    "Otras funciones útiles: \n",
    "\n",
    "- Para obtener el signo de cada elemento de un arreglo: `sign`\n",
    "- Para obtener un arreglo de 1 dividido los elementos del mismo: `reciprocal`\n",
    "- Para redondear hacia abajo o hacia arriba: `round`, `floor` y `ciel`\n",
    "- Para obtener la parte real o imaginaria de un número complejo: `real`, `imag`\n",
    "- O el conjugado de un número complejo: `conj`, "
   ]
  },
  {
   "cell_type": "markdown",
   "metadata": {},
   "source": [
    "### Operaciones booleanas \n",
    "\n",
    "NumPy soporta operaciones booleanas sobre ndarray"
   ]
  },
  {
   "cell_type": "code",
   "execution_count": null,
   "metadata": {
    "ExecuteTime": {
     "end_time": "2020-05-16T00:46:53.987064Z",
     "start_time": "2020-05-16T00:46:53.970217Z"
    }
   },
   "outputs": [],
   "source": [
    "A = np.arange(6).reshape(2, 3)\n",
    "display(A)\n",
    "display(A == 4)\n",
    "display(np.equal(A, 4))"
   ]
  },
  {
   "cell_type": "markdown",
   "metadata": {},
   "source": [
    "Como vimos antes podemos crear una máscara booleana para indexar un arreglo"
   ]
  },
  {
   "cell_type": "code",
   "execution_count": null,
   "metadata": {
    "ExecuteTime": {
     "end_time": "2020-05-16T00:47:56.874179Z",
     "start_time": "2020-05-16T00:47:56.864752Z"
    }
   },
   "outputs": [],
   "source": [
    "mask = ~(A % 2 == 0) & (A > 2)\n",
    "display(mask)\n",
    "display(A[mask])"
   ]
  },
  {
   "cell_type": "markdown",
   "metadata": {},
   "source": [
    "La función `where` sirve para recuperar el índice de los elementos que cumplen una cierta condición"
   ]
  },
  {
   "cell_type": "code",
   "execution_count": null,
   "metadata": {
    "ExecuteTime": {
     "end_time": "2020-05-16T00:48:26.975345Z",
     "start_time": "2020-05-16T00:48:26.961679Z"
    }
   },
   "outputs": [],
   "source": [
    "(ixs, iys) = np.where(~(A % 2 == 0) & (A > 2))\n",
    "\n",
    "for i, j in zip(ixs, iys):\n",
    "    display(\"Fila {0} Columna {1} Valor {2}\".format(i, j, A[i, j]))"
   ]
  },
  {
   "cell_type": "markdown",
   "metadata": {},
   "source": [
    "Funciones `any` y `all`"
   ]
  },
  {
   "cell_type": "code",
   "execution_count": null,
   "metadata": {
    "ExecuteTime": {
     "end_time": "2020-05-16T00:49:26.977938Z",
     "start_time": "2020-05-16T00:49:26.967224Z"
    }
   },
   "outputs": [],
   "source": [
    "x = np.random.randn(3, 3)\n",
    "display(x)\n",
    "b = (x > 0) & (x**2 > 0.5)\n",
    "display(b)\n",
    "\n",
    "display(np.any(b))\n",
    "display(np.all(b))"
   ]
  },
  {
   "cell_type": "markdown",
   "metadata": {},
   "source": [
    "### Operaciónes de conjutos\n",
    "\n",
    "Operaciones de tipo union, intersección y diferencia entre arreglos 1D\n",
    "\n",
    "Si se les entrega un arreglo de mayor dimensión este se aplanará automaticamente"
   ]
  },
  {
   "cell_type": "code",
   "execution_count": null,
   "metadata": {
    "ExecuteTime": {
     "end_time": "2020-05-16T00:50:16.965342Z",
     "start_time": "2020-05-16T00:50:16.956741Z"
    }
   },
   "outputs": [],
   "source": [
    "A = np.arange(6)\n",
    "B = np.array([0, 1, 10, 100])\n",
    "display(A, \n",
    "        B)"
   ]
  },
  {
   "cell_type": "markdown",
   "metadata": {},
   "source": [
    "La unión e intersección, respectivamente:"
   ]
  },
  {
   "cell_type": "code",
   "execution_count": null,
   "metadata": {
    "ExecuteTime": {
     "end_time": "2020-05-16T00:50:41.238406Z",
     "start_time": "2020-05-16T00:50:41.218850Z"
    }
   },
   "outputs": [],
   "source": [
    "display(np.union1d(A, B),\n",
    "        np.intersect1d(A, B))"
   ]
  },
  {
   "cell_type": "markdown",
   "metadata": {},
   "source": [
    "O los elementos que existen a A y no en B (y viceversa)"
   ]
  },
  {
   "cell_type": "code",
   "execution_count": null,
   "metadata": {},
   "outputs": [],
   "source": [
    "display(np.setdiff1d(A, B),\n",
    "        np.setdiff1d(B, A))"
   ]
  },
  {
   "cell_type": "markdown",
   "metadata": {},
   "source": [
    "### Ordenando arreglos\n",
    "\n",
    "NumPy provee la función `np.sort` para ordernar un ndarray\n",
    "\n",
    "Se puede usar el argumento `kind` para escoger distintos algoritmos de ordenamiento (por defecto quicksort)\n",
    "\n",
    "El argumento `axis` especifica que eje se va a ordenar"
   ]
  },
  {
   "cell_type": "code",
   "execution_count": null,
   "metadata": {
    "ExecuteTime": {
     "end_time": "2020-05-16T00:51:53.068684Z",
     "start_time": "2020-05-16T00:51:53.055167Z"
    }
   },
   "outputs": [],
   "source": [
    "A = np.random.randn(2, 2)\n",
    "display(A)\n",
    "display(np.sort(A, axis=1))\n",
    "display(np.sort(A, axis=0))\n",
    "display(np.sort(A, axis=None))"
   ]
  },
  {
   "cell_type": "markdown",
   "metadata": {},
   "source": [
    "La función `np.argsort` entrega un arreglo de índices que ordena el arreglo de menor a mayor"
   ]
  },
  {
   "cell_type": "code",
   "execution_count": null,
   "metadata": {
    "ExecuteTime": {
     "end_time": "2020-05-16T00:53:18.916647Z",
     "start_time": "2020-05-16T00:53:18.908467Z"
    }
   },
   "outputs": [],
   "source": [
    "A = np.array([\"A\", \"B\", \"C\"])\n",
    "B = np.array([2, 4, 1])\n",
    "\n",
    "idx = np.argsort(B)\n",
    "display(idx)\n",
    "display(A[idx])"
   ]
  },
  {
   "cell_type": "markdown",
   "metadata": {},
   "source": [
    "## Tópicos extra: \n",
    "\n",
    "**NumPy para usuarios de Matlab**\n",
    "\n",
    "En la documentación de NumPy, en la sección [NumPy para usuarios de Matlab](https://numpy.org/devdocs/user/numpy-for-matlab-users.html) se describen las diferencias clave entre NumPy y Matlab y se presenta una tabla de equivalencias entre las funciones de ambos\n",
    "\n",
    "\n",
    "**Extender NumPy**\n",
    "\n",
    "NumPy provee una [API en lenguaje C para manipular ndarray a bajo nivel](https://numpy.org/devdocs/user/c-info.html)\n",
    "\n",
    "La API se puede usar para crear nuevas funcioens y módulos que utilicen ndarray\n",
    "\n",
    "**Computación simbólica** \n",
    "\n",
    "La computación simbólica es un paradigma donde los cálculos se hacen de forma *análitica* en lugar de *númerica*\n",
    "\n",
    "Se definen variables o simbolos que son operados algebraicamente\n",
    "\n",
    "Este paradigma se usa tipicamente para obtener expresiones simplificadas de derivadas o integrales, series, límites, factorizaciones, expansiones, etc\n",
    "\n",
    "- Paradigma númerico: Nos da el resultado de una expresión\n",
    "- Paradigma simbólico: Nos da la expresión\n",
    "\n",
    "En Python se puede hacer computación simbólica con [SimPy](https://www.sympy.org)\n"
   ]
  },
  {
   "cell_type": "code",
   "execution_count": null,
   "metadata": {},
   "outputs": [],
   "source": []
  }
 ],
 "metadata": {
  "kernelspec": {
   "display_name": "Python 3",
   "language": "python",
   "name": "python3"
  },
  "language_info": {
   "codemirror_mode": {
    "name": "ipython",
    "version": 3
   },
   "file_extension": ".py",
   "mimetype": "text/x-python",
   "name": "python",
   "nbconvert_exporter": "python",
   "pygments_lexer": "ipython3",
   "version": "3.7.10"
  },
  "toc": {
   "base_numbering": 1,
   "nav_menu": {},
   "number_sections": true,
   "sideBar": true,
   "skip_h1_title": false,
   "title_cell": "Table of Contents",
   "title_sidebar": "Contents",
   "toc_cell": false,
   "toc_position": {},
   "toc_section_display": true,
   "toc_window_display": false
  }
 },
 "nbformat": 4,
 "nbformat_minor": 2
}
