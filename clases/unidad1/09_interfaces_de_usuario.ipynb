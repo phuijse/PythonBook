{
 "cells": [
  {
   "cell_type": "code",
   "execution_count": null,
   "metadata": {
    "ExecuteTime": {
     "end_time": "2020-06-20T17:46:17.247435Z",
     "start_time": "2020-06-20T17:46:17.233027Z"
    }
   },
   "outputs": [],
   "source": [
    "from IPython.display import YouTubeVideo, Markdown, SVG\n",
    "from functools import partial\n",
    "YouTubeVideo_formato = partial(YouTubeVideo, modestbranding=1, disablekb=0,\n",
    "                               width=640, height=360, autoplay=0, rel=0, showinfo=0)\n",
    "\n",
    "display(Markdown(filename='../preamble.md'))"
   ]
  },
  {
   "cell_type": "markdown",
   "metadata": {},
   "source": [
    "# Interfaces de usuario en Jupyter\n",
    "\n",
    "> Jupyter y IPython permiten no solo visualizar datos sino también interactuar con ellos en tiempo real\n",
    "\n",
    "Para lograr esto estudiaremos dos componentes \n",
    "- el módulo `display` con sus opciones de salida enriquecida\n",
    "- la librería `ipywidgets` para generar controles tipo GUI en Jupyter"
   ]
  },
  {
   "cell_type": "code",
   "execution_count": null,
   "metadata": {
    "ExecuteTime": {
     "end_time": "2020-06-20T17:46:17.657498Z",
     "start_time": "2020-06-20T17:46:17.249754Z"
    }
   },
   "outputs": [],
   "source": [
    "%matplotlib notebook\n",
    "import matplotlib.pyplot as plt\n",
    "import numpy as np"
   ]
  },
  {
   "cell_type": "markdown",
   "metadata": {},
   "source": [
    "## Módulo  [`IPython.display`](https://ipython.readthedocs.io/en/stable/api/generated/IPython.display.html)\n",
    "\n",
    "Este módulo está instalado por defecto con el kernel de IPython\n",
    "\n",
    "Hasta ahora sólo hemos usando la función `display`\n",
    "\n",
    "```python\n",
    "display(*objs, # Una tupla de objetos de Python\n",
    "        ...)\n",
    "```\n",
    "Hemos visto que, al igual que `print`, esta función imprime el valor de los objetos de Python\n",
    "\n",
    "> Sin embargo, `display` permite adicionalmente imprimir en la salida objetos multimedia como imágenes, audio, video y HTML: esto es lo que llamamos \"salida enriquecida\""
   ]
  },
  {
   "cell_type": "markdown",
   "metadata": {},
   "source": [
    "### Los atributos `__str__` y `__repr__`\n",
    "\n",
    "La forma en que se imprime un objeto con `print` o `display` está dado por los atributos internos [`__str__`](https://docs.python.org/3/reference/datamodel.html#object.__str__) y [`__repr__`](https://docs.python.org/3/reference/datamodel.html#object.__repr__) de dicho objeto, respectivamente\n",
    "\n",
    "Los objetos básicos de `Python` (por ejemplo las listas) ya tienen estos atributos definidos\n",
    "\n",
    "Adicionalmente display acepta el atributo `_repr_html_` que permite imprimir con formato HTML\n",
    "\n",
    "Observe las diferencias entre `print` y `display` para las siguientes clases"
   ]
  },
  {
   "cell_type": "code",
   "execution_count": null,
   "metadata": {
    "ExecuteTime": {
     "end_time": "2020-06-20T17:46:17.666228Z",
     "start_time": "2020-06-20T17:46:17.659844Z"
    },
    "scrolled": true
   },
   "outputs": [],
   "source": [
    "class Fruta:\n",
    "    def __init__(self, color, nombre):\n",
    "        self.color = color\n",
    "        self.nombre = nombre\n",
    "        \n",
    "a = Fruta('rojo', 'manzana')\n",
    "print(a)\n",
    "display(a)"
   ]
  },
  {
   "cell_type": "code",
   "execution_count": null,
   "metadata": {
    "ExecuteTime": {
     "end_time": "2020-06-20T17:46:17.736644Z",
     "start_time": "2020-06-20T17:46:17.668154Z"
    }
   },
   "outputs": [],
   "source": [
    "class Fruta_str(Fruta): # Esta clase hereda de Fruta        \n",
    "    def __str__(self): # y le agrega este atributo\n",
    "        return f'Soy una {self.nombre} de color {self.color}'\n",
    "    \n",
    "a = Fruta_str('rojo', 'manzana')\n",
    "print(a)\n",
    "display(a) # Display no imprime __str__"
   ]
  },
  {
   "cell_type": "code",
   "execution_count": null,
   "metadata": {
    "ExecuteTime": {
     "end_time": "2020-06-20T17:46:17.812172Z",
     "start_time": "2020-06-20T17:46:17.738684Z"
    }
   },
   "outputs": [],
   "source": [
    "class Fruta_repr(Fruta): # Esta clase hereda de Fruta        \n",
    "    def __repr__(self): # y le agrega este atributo\n",
    "        return f'Soy una {self.nombre} de color {self.color}'\n",
    "    \n",
    "a = Fruta_repr('rojo', 'manzana')\n",
    "print(a) # Print imprime __repr__ si no encuentra __str__\n",
    "display(a) # Display imprime __repr__"
   ]
  },
  {
   "cell_type": "code",
   "execution_count": null,
   "metadata": {
    "ExecuteTime": {
     "end_time": "2020-06-20T17:46:17.923764Z",
     "start_time": "2020-06-20T17:46:17.814758Z"
    }
   },
   "outputs": [],
   "source": [
    "class Fruta_repr_nice(Fruta): # Esta clase hereda de Fruta        \n",
    "    def _repr_html_(self): # y le agrega este atributo\n",
    "        return f'<p style=\"color:blue\">Soy una {self.nombre} de color {self.color}</p>'\n",
    "    \n",
    "a = Fruta_repr_nice('rojo', 'manzana')\n",
    "print(a)  # Print no entiende _repr_html_\n",
    "display(a) # En cambio disply lo interpreta como HTML"
   ]
  },
  {
   "cell_type": "markdown",
   "metadata": {},
   "source": [
    "### Imprimiendo imágenes con el objeto `Image`\n",
    "\n",
    "Usando este objeto podemos mostrar una imagen en formato JPG, PNG o GIF que esté en nuestro disco duro o una URL (dirección web)\n",
    "\n",
    "Para mostrar una imagen llamada `mi_imagen.jpg` en nuestro directorio local \n",
    "\n",
    "```python\n",
    ">>> from IPython.display import Image\n",
    ">>> display(Image(filename=\"mi_imagen.jpg\"))\n",
    "```\n",
    "\n",
    "Se debe especificar al menos uno de los siguientes argumentos\n",
    "\n",
    "```python\n",
    "Image(data, # Tira binaria que representa una imagen, requiere especificar format (abajo)\n",
    "      url, # dirección web a un archivo en una página web\n",
    "      filename, # dirección local a un archivo en nuestro disco duro\n",
    "      ...\n",
    "     )\n",
    "```\n",
    "\n",
    "Los siguientes argumentos son opcionales\n",
    "\n",
    "```python\n",
    "Image(...\n",
    "      format, # String, formato de la imagen, solo necesario para la entrada data\n",
    "      embed, # Bool, indica si el archivo se guardará en la metadata del notebook\n",
    "      width, # Entero, ancho del cuadro a mostrar, por defecto se usa el tamaño real de la imagen\n",
    "      height, # Entero, alto del cuadro a mostrar\n",
    "      ...\n",
    "     )\n",
    "```\n",
    "\n",
    "> Recordemos que también se puede mostrar una imagen con `matplotlib` importándola con `imread` y dibujándola con `imshow`. Si sólo nos interesa mostrar la imagen y no vamos a ocupar su data entonces `Image` es más conveniente\n"
   ]
  },
  {
   "cell_type": "markdown",
   "metadata": {},
   "source": [
    "**Breve nota sobre una imagen digital**\n",
    "\n",
    "Una imagen digital es un arreglo multidimensional de $N\\times M\\times C$, donde $N$ es el alto, $M$ es el ancho y $C$ es la cantidad de canales. Tipicamente tiene 3 canales (RGB o HSV, o YCbCr)\n",
    "\n",
    "En cada posición individual fila, columna existe una tupla de 3 valores denominada pixel\n",
    "\n",
    "Cada elemento de la tupla se representa como un valor entero sin signo de 8 bits $[0, 255]$, es decir un Byte \n",
    "\n",
    "El computador interpreta valores más altos como más brillantes (más cercanos al blanco) y valores más bajos como más oscuros (más cercanos al negro)"
   ]
  },
  {
   "cell_type": "markdown",
   "metadata": {},
   "source": [
    "### Reproducción de sonido con el objeto `Audio`\n",
    "\n",
    "\n",
    "Este objeto crea un reproductor de sonido con controles play/pause a partir de un archivo de audio, una URL o un arreglo de datos, por ejemplo\n",
    "\n",
    "```python\n",
    ">>> from IPython.display import Audio\n",
    ">>> display(Audio(filename=\"mi_audio.ogg\"))\n",
    "```\n",
    "\n",
    "Se debe especificar al menos uno de los siguientes argumentos\n",
    "\n",
    "```python\n",
    "Audio(data, # Lista o ndarray que se interpreterá como audio crudo de uno (mono) o dos canales (stereo)\n",
    "      url, # dirección web a un archivo en una página web\n",
    "      filename, # dirección local a un archivo en nuestro disco duro\n",
    "      ...\n",
    "     )\n",
    "```\n",
    "\n",
    "El tipo de archivo soportado depende del browser (wav y ogg funcionan por defecto)\n",
    "\n",
    "Los siguientes argumentos son opcionales\n",
    "\n",
    "```python\n",
    "Audio(...\n",
    "      embed, # Bool, indica si el archivo se guardará en la metadata del notebook\n",
    "      rate, # Entero, especifica la frecuencia de muestreo si usamos data (nota abajo)\n",
    "      autoplay, # Bool, indica si el sonido debe empezar a reproducirse inmediatamente\n",
    "      normalize, # Bool, indica si se debe reescalar el sonido entre [-1,1]\n",
    "      ...\n",
    "     )\n",
    "```\n"
   ]
  },
  {
   "cell_type": "markdown",
   "metadata": {},
   "source": [
    "**Breve nota sobre sonido**\n",
    "\n",
    "Un sonido es una **vibración** en el espacio en una determinada **frecuencia de oscilación** que puede ser percibida por nuestro oido\n",
    "\n",
    "Podemos sintetizar un sonido como una serie de tiempo usando funciones trigonométricas, por ejemplo\n",
    "\n",
    "$$\n",
    "s(t) = A \\cos (2 \\pi t f_0 + \\phi)\n",
    "$$\n",
    "\n",
    "donde $A$, la amplitud, está asociado al volumen y $f_0$, frecuencia de oscilación, corresponde al tono \n",
    "\n",
    "Por ejemplo si $f_0 = 440 [Hz]$ estaríamos creando una nota A4 (La), que corresponde a la [tecla 49 de un piano](https://en.wikipedia.org/wiki/Piano_key_frequencies)\n"
   ]
  },
  {
   "cell_type": "markdown",
   "metadata": {},
   "source": [
    "**Breve nota sobre audio**\n",
    "\n",
    "El audio es una señal que representa un sonido\n",
    "\n",
    "> Un archivo de audio digital descomprimido (wav/pcm) es una secuencia de valores que corresponden a la amplitud en función del tiempo\n",
    "\n",
    "Los valores pueden ser enteros sin signo o flotantes en el rango [-1, 1]\n",
    "\n",
    "> Para que un arreglo se interprete como audio se debe especificar la frecuencia o tasa de muestreo, es decir la velocidad a la que se reproduce el audio\n",
    "\n",
    "La frecuencia de muestreo típica es de 44100 Hz, es decir que en 1 segundo de reproducción el computador ha leido un arreglo de 44100 valores\n",
    "\n",
    "Podemos crear un tono fundamental con NumPy usando:\n",
    "\n",
    "```python\n",
    ">>> Fs = 44100 # Frecuencia de muestreo\n",
    ">>> tiempo = np.arange(0.0, 1.0, step=1./Fs) # La separación entre dos tiempos es 1/Fs\n",
    ">>> audio = np.cos(2.0*np.pi*tiempo*440.0) # Nota A4\n",
    ">>> display(Audio(data=audio, rate=Fs))\n",
    "```\n"
   ]
  },
  {
   "cell_type": "markdown",
   "metadata": {},
   "source": [
    "### Reproducción de video con el objeto  `Video`\n",
    "\n",
    "Crea un reproductor con los mismos controles del objeto `Audio` para un archivo de video\n",
    "\n",
    "El archivo puede estar en nuestro disco duro en una URL\n",
    "\n",
    "Se usa de forma equivalente a `Image` (mismos argumentos)\n",
    "\n",
    "Adicionalmente existen los objetos `YouTubeVideo` y `VimeoVideo` para embeber videos de estas plataformas"
   ]
  },
  {
   "cell_type": "markdown",
   "metadata": {},
   "source": [
    "###  Código fuente formateado con el objeto `Code`\n",
    "\n",
    "Este objeto imprime código fuente con colores la sintáxis, sus argumentos son\n",
    "\n",
    "```python\n",
    "Code(data=None, # Un string con código fuente\n",
    "     url=None,  # Una URL a un archivo de código fuente en un servidor\n",
    "     filename=None, # Un archivo de código fuente en nuestro disco duro\n",
    "     language=None # Para especificar el lenguaje que se usará para resaltar color\n",
    "    )\n",
    "```\n"
   ]
  },
  {
   "cell_type": "markdown",
   "metadata": {},
   "source": [
    "### Mostrando Objeto `HTML`\n",
    "\n",
    "Muestra una página web o un fragmento de página web escrito en HTML\n",
    "\n",
    "```python\n",
    "HTML(data=None, # String, texto plano en lenguaje HTML\n",
    "     url=None, # Una URL a un archivo HTML\n",
    "     filename=None, # Una ruta a un archivo HTML en nuestro sistema\n",
    "     ...\n",
    "    )\n",
    "```\n",
    "\n"
   ]
  },
  {
   "cell_type": "markdown",
   "metadata": {},
   "source": [
    "**Breve nota sobre HTML**\n",
    "\n",
    "HyperText Markup Language (HTML) es un lenguaje de marcado (markup) para diseñar documentos que serán mostrados por un navegador (browser)\n",
    "\n",
    "HTML en conjunto a Cascading Style Sheets (CSS) y a JavaScript son los ingredientes fundamentals de una página web\n",
    "\n",
    "HTML permite crear documentos estructurados con encabezados, párrafos, enlaces, imágenes, audio y video\n",
    "\n",
    "Cada uno de estos elementos se escribe con uno o dos **tags**, por ejemplo\n",
    "\n",
    "```HTML\n",
    "<h1> Esto es un encabezado</h1>\n",
    "<p style=\"color:red;text-align:center\"> Esto es un parrafo centrado y de color rojo</p>\n",
    "<img src=\"mi_imagen.jpg\">\n",
    "```"
   ]
  },
  {
   "cell_type": "markdown",
   "metadata": {},
   "source": [
    "## Ejercicios: \"Salida enriquecida\"\n",
    "\n",
    "- Muestre la imagen `img/valdivia.png` usando el objeto `Image`\n",
    "- Genere un tono fundamental con frecuencia $220Hz$, amplitud $0.25$ y duración $0.5s$ y reproduzcalo usando el objeto `Audio` con la opción `normalize=False`\n",
    "- Reproduzca el video `magister.mp4` usando el objeto `Video` en un tamaño de 426×240 \n",
    "- Reproduzca su video favorito de Youtube usando el objeto `YoutubeVideo`\n",
    "- Escriba su nombre en tamaño `20pt` y de color azul usando [lenguaje HTML](https://www.w3schools.com/html/html_styles.asp) y muestrelo usando el objeto `HTML`\n",
    "- Muestre el código de `script_interesante.py` usando el objeto `Code`\n"
   ]
  },
  {
   "cell_type": "code",
   "execution_count": null,
   "metadata": {
    "ExecuteTime": {
     "end_time": "2020-06-20T17:46:17.991905Z",
     "start_time": "2020-06-20T17:46:17.927219Z"
    }
   },
   "outputs": [],
   "source": [
    "# Completa aquí\n"
   ]
  },
  {
   "cell_type": "code",
   "execution_count": null,
   "metadata": {
    "ExecuteTime": {
     "end_time": "2020-06-20T17:46:18.206299Z",
     "start_time": "2020-06-20T17:46:17.995128Z"
    }
   },
   "outputs": [],
   "source": [
    "YouTubeVideo_formato('yD-V-4tZlgI')"
   ]
  },
  {
   "cell_type": "markdown",
   "metadata": {},
   "source": [
    "## Interfaz de usuario en Jupyter con [ipywidgets](https://ipywidgets.readthedocs.io/en/stable/)\n",
    "\n",
    "Un widget es un elemento gráfico que permite interactuar con una aplicación\n",
    "\n",
    "Un conjunto de widgets forman una interfaz de usuario gráfica (Graphical user interface o GUI)\n",
    "\n",
    "La siguiente imagen muestra los widgets típicos que se encuentran en las aplicaciones de PC\n",
    "\n",
    "<img src=\"https://upload.wikimedia.org/wikipedia/commons/d/d5/Widgets.png\" width=\"400\">\n",
    "\n",
    "La librería `ipywidgets` provee controles que permiten interactuar con funciones de Python \n",
    "\n",
    "Entre los muchos [widgets disponibles](https://ipywidgets.readthedocs.io/en/stable/examples/Widget%20List.html) se encuentran:\n",
    "- Botones e selectores (*check-box*)\n",
    "- Listas desplegables (*combo-box*)\n",
    "- Campos de ingreso de texto (*text-box*)\n",
    "- Deslizadores (*sliders*)\n",
    "\n",
    "\n",
    "**Instalación**\n",
    "\n",
    "La forma más sencilla de instalar es usando `conda`\n",
    "\n",
    "    conda install  ipywidgets\n",
    "    \n",
    "Si lo instalas de otra manera (pip o python setup.py) es necesario habilitar la extensión\n",
    "\n",
    "    pip install ipywidgets --user\n",
    "    jupyter nbextension enable --py widgetsnbextension\n",
    "   "
   ]
  },
  {
   "cell_type": "markdown",
   "metadata": {},
   "source": [
    "### Widgets semi-automáticos \n",
    "\n",
    "Una manera rápida de implementar widgets es usar el  **decorador `interact`**\n",
    "\n",
    "> Al aplicar el decorador a una función convertiremos sus argumentos de entrada en widgets\n",
    "\n",
    "Cada entrada genera y se enlaza a un widget según su tipo:\n",
    "\n",
    "- Un entero produce un widget `IntSlider`\n",
    "- Un flotante produce un widget `FloatSlider`\n",
    "- Un booleando produce un widget `Checkbox`\n",
    "- Una lista produce un widget `Dropdown`\n",
    "- Un string produce un widget `Text`\n",
    "\n",
    "\n",
    "Los argumentos del decorador permiten entregar algunas opciones a los widgets"
   ]
  },
  {
   "cell_type": "code",
   "execution_count": null,
   "metadata": {
    "ExecuteTime": {
     "end_time": "2020-06-20T17:46:18.332538Z",
     "start_time": "2020-06-20T17:46:18.209592Z"
    }
   },
   "outputs": [],
   "source": [
    "import ipywidgets as widgets\n",
    "\n",
    "# Se crea un widget por cada argumento de la función\n",
    "@widgets.interact(x=(0, 10, 2), # El mínimo, máximo y paso para x\n",
    "                  y=(-1., 1., 0.01) # El mínimo, máximo y paso para y\n",
    "                  )\n",
    "\n",
    "def print_cosas(x=0, \n",
    "                y=0., \n",
    "                z=True, \n",
    "                w=['foo','bar'], \n",
    "                v='foo'): \n",
    "    display(x, y, z, w, v)"
   ]
  },
  {
   "cell_type": "markdown",
   "metadata": {},
   "source": [
    "### Creando widgets manualmente \n",
    "\n",
    "Para mayor control podemos crear los widgets de nuestra preferencia con sus respectivos constructores y luego enlazarlos a una función usando   manualmente con la **función `interact`**\n",
    "\n",
    "A continuación revisaremos algunos de ellos"
   ]
  },
  {
   "cell_type": "markdown",
   "metadata": {},
   "source": [
    "#### [Widgets numéricos](https://ipywidgets.readthedocs.io/en/stable/examples/Widget%20List.html#Numeric-widgets)\n",
    "\n",
    "Un desplazador o *slider* es un widget cuyos argumentos son\n",
    "- min: valor donde inicia\n",
    "- max: valor donde termina\n",
    "- step: el salto entre valores\n",
    "- value: valor inicial\n",
    "\n",
    "El slider generará números entre esos rangos a medida que interactuamos con él\n",
    "\n",
    "Se puede crear un desplazador que produce números enteros con `IntSlider` o flotantes con `FloatSlider`\n",
    "\n",
    "**Ejemplo**\n",
    "\n",
    "```python\n",
    ">>> f = lambda a: display(a)\n",
    ">>> x = widgets.IntSlider(min=-100, max=100, step=5) # Esto crea el widget\n",
    ">>> widgets.interact(f, a=x) # Esto enlaza x con a para la función f\n",
    "```"
   ]
  },
  {
   "cell_type": "markdown",
   "metadata": {},
   "source": [
    "Se pueden generar tuplas de enteros y flotantes usando  `IntRangeSlider` y `FloatRangeSlider`, respectivamente\n",
    "\n",
    "Por otro lado los widgets te tipo text-box `FloatText` y `IntText` pueden usarse para pedir un número al usuario\n",
    "\n",
    "```python\n",
    ">>> f = lambda a: display(a)\n",
    ">>> x = widgets.FloatText(description=\"Por favor ingrese un número\")\n",
    ">>> widgets.interact(f, a=x) # Esto enlaza el widget al primer argumento de f\n",
    "\n",
    "```\n",
    "\n",
    "En ambos casos podemos obtener el valor de los widgets usando \n",
    "```python\n",
    ">>> x.value\n",
    "```\n",
    "\n",
    "Podemos verificar todos los atributos del widget usando\n",
    "```python\n",
    ">>> x.keys\n",
    "```"
   ]
  },
  {
   "cell_type": "markdown",
   "metadata": {},
   "source": [
    "#### [Widgets de texto](https://ipywidgets.readthedocs.io/en/stable/examples/Widget%20List.html#String-widgets)\n",
    "\n",
    "Sirven para capturar y mostrar strings\n",
    "\n",
    "- `Text`: Da una linea en blanco para escribir, al apretar Enter se captura el string\n",
    "- `Textarea`: Da un bloque de texto para escribir, se comporta igual a `Text`\n",
    "- `Label`: Muestra un string\n",
    "\n",
    "```python\n",
    "widgets.Text(value, # Texto por defecto\n",
    "             placeholder, # Texto que aparece cuando está vacío\n",
    "             description # Texto que aparece a la izquierda del cuadrado de texto\n",
    "            )\n",
    "```\n",
    "**Ejemplo**"
   ]
  },
  {
   "cell_type": "code",
   "execution_count": null,
   "metadata": {
    "ExecuteTime": {
     "end_time": "2020-06-20T17:46:18.345772Z",
     "start_time": "2020-06-20T17:46:18.334079Z"
    }
   },
   "outputs": [],
   "source": [
    "widgets.Text(placeholder='Escribe tu nombre acá', description='Nombre:')"
   ]
  },
  {
   "cell_type": "markdown",
   "metadata": {},
   "source": [
    "#### [Objeto Layout y atributo style](https://ipywidgets.readthedocs.io/en/stable/examples/Widget%20Styling.html)\n",
    "\n",
    " El objeto `Layout` sirve para dar estilo a los *widgets*\n",
    " \n",
    "El estilo se explicita usando [CSS](https://www.w3schools.com/css/)\n",
    "\n",
    "Algunos argumentos útiles son \n",
    "- width: ancho del widget en pixeles\n",
    "- height: alto del widget en pixeles\n",
    "- margin: espacio entre el widget y otros componentes\n",
    "\n",
    "Cada widget tiene un atributo llamado `style` para personalizarlo \n",
    "\n",
    "La lista de atributos de estilo se puede acceder con \n",
    "```python\n",
    ">>> x = widgets.Button()\n",
    ">>> x.style.keys\n",
    "```\n",
    "\n",
    "**Ejemplo**"
   ]
  },
  {
   "cell_type": "code",
   "execution_count": null,
   "metadata": {
    "ExecuteTime": {
     "end_time": "2020-06-20T17:46:18.448262Z",
     "start_time": "2020-06-20T17:46:18.347550Z"
    }
   },
   "outputs": [],
   "source": [
    "slider_layout = widgets.Layout(width='600px', height='20px', margin='10px')\n",
    "\n",
    "def mi_funcion(x):\n",
    "    display(x[0], x[1], (x[1] - x[0]))\n",
    "\n",
    "range_slider = widgets.FloatRangeSlider(min=-100., max=100., step=0.01, \n",
    "                                        continuous_update=True, \n",
    "                                        description=r'Un argumento muy interesante:',\n",
    "                                        layout=slider_layout)\n",
    "range_slider.style.description_width = 'initial'\n",
    "range_slider.style.handle_color = 'black'\n",
    "\n",
    "widgets.interact(mi_funcion, x=range_slider);"
   ]
  },
  {
   "cell_type": "markdown",
   "metadata": {},
   "source": [
    "**Ejercicio: \"Funciones e `interact`\"**\n",
    "\n",
    "Considera la función `plot_sinewave` que se presenta a continuación \n",
    "\n",
    "Crea una interfaz que modifique en tiempo real sus cuatro argumentos usando cuatro FloatSliders, respectivamente\n",
    "- Los primeros tres deben tener un rango en $[0.0, 1.0]$ y un paso de 0.01\n",
    "- El último debe tener un rango $[0.0, 2\\pi]$ y un paso de 0.1"
   ]
  },
  {
   "cell_type": "code",
   "execution_count": null,
   "metadata": {
    "ExecuteTime": {
     "end_time": "2020-06-20T17:46:18.573309Z",
     "start_time": "2020-06-20T17:46:18.457358Z"
    }
   },
   "outputs": [],
   "source": [
    "import ipywidgets as widgets\n",
    "\n",
    "time = np.linspace(0, 3, num=500)\n",
    "arg = 2.0*np.pi*time\n",
    "\n",
    "fig, ax = plt.subplots(figsize=(6, 3), tight_layout=True)\n",
    "line = ax.plot(time, 3*np.cos(arg))\n",
    "\n",
    "def plot_sinewave(A1, A2, A3, phi):\n",
    "    data = A1*np.cos(arg + phi) + A2*np.cos(2*arg + phi) + A3*np.cos(3*arg + phi)\n",
    "    line[0].set_ydata(data)\n",
    "    \n",
    "\n",
    "# Completa acá\n",
    "plot_sinewave(0, 0, 0, 0)"
   ]
  },
  {
   "cell_type": "code",
   "execution_count": null,
   "metadata": {
    "ExecuteTime": {
     "end_time": "2020-06-20T17:46:18.777313Z",
     "start_time": "2020-06-20T17:46:18.574956Z"
    }
   },
   "outputs": [],
   "source": [
    "YouTubeVideo_formato('ili-iy1hXs8')"
   ]
  },
  {
   "cell_type": "markdown",
   "metadata": {},
   "source": [
    "#### Widget de tipo contenedor\n",
    "\n",
    "Son widgets que sirven para organizar otros widgets\n",
    "\n",
    "Por ejemplo \n",
    "- `HBox`: Organiza los widgets en forma horizontal\n",
    "- `VBox`: Organiza los widgets en forma vertical\n",
    "- `Tab`: Crea pestañas con los widgets\n",
    "\n",
    "Estos widgets reciben una lista de widgets y pueden anidarse\n",
    "\n",
    "**Ejemplo**"
   ]
  },
  {
   "cell_type": "code",
   "execution_count": null,
   "metadata": {
    "ExecuteTime": {
     "end_time": "2020-06-20T17:46:18.808180Z",
     "start_time": "2020-06-20T17:46:18.779618Z"
    }
   },
   "outputs": [],
   "source": [
    "firstname = widgets.Text(description='Nombre:')\n",
    "lastname = widgets.Text(description='Apellido:')\n",
    "widgets.VBox([firstname, lastname])"
   ]
  },
  {
   "cell_type": "markdown",
   "metadata": {},
   "source": [
    "### Callbacks y eventos"
   ]
  },
  {
   "cell_type": "markdown",
   "metadata": {},
   "source": [
    "#### [Widget Button](https://ipywidgets.readthedocs.io/en/stable/examples/Widget%20List.html#Button) y atributo `on_click`\n",
    "\n",
    "```python\n",
    "widgets.Button(description, # Texto en el botón\n",
    "               button_style='', # Estilo del botón: 'success', 'info', 'warning', 'danger' or ''\n",
    "               icon='check', # Icono del botón\n",
    "               ...\n",
    "              )\n",
    "```\n",
    "\n",
    "El uso principal del botón es enlazarlo con una **acción o evento**\n",
    "\n",
    "Hacemos esto especificando una función en el atributo `on_click` del botón\n",
    "\n",
    "La función debe tener un argumento que corresponde al botón en sí"
   ]
  },
  {
   "cell_type": "code",
   "execution_count": null,
   "metadata": {
    "ExecuteTime": {
     "end_time": "2020-06-20T17:46:18.889846Z",
     "start_time": "2020-06-20T17:46:18.809950Z"
    }
   },
   "outputs": [],
   "source": [
    "insert_name = widgets.Text(description='Escribir tu nombre:')\n",
    "insert_name.style.description_width = 'initial'\n",
    "push_data = widgets.Button(description='Enviar')\n",
    "display(widgets.HBox([insert_name, push_data]))\n",
    "\n",
    "def boton_apretado(b):\n",
    "    display(insert_name.value)\n",
    "    \n",
    "push_data.on_click(boton_apretado)"
   ]
  },
  {
   "cell_type": "markdown",
   "metadata": {},
   "source": [
    "#### Atributo `observe`\n",
    "\n",
    "Podemos agregar acciones a otros widgets especificando el atributo `observe`\n",
    "\n",
    "`observe` recibe una función de un argumento y el nombre del atributo que queremos \"observar\"\n",
    "\n",
    "El argumento es un diccionario que tiene las siguientes llaves\n",
    "- `owner` : El widget que provocó el cambio\n",
    "- `name` : El nombre del atributo que está cambiando\n",
    "- `old` : El valor antiguo del atributo\n",
    "- `new` : El valor nuevo del atributo\n",
    "\n",
    "**Ejemplo**"
   ]
  },
  {
   "cell_type": "code",
   "execution_count": null,
   "metadata": {
    "ExecuteTime": {
     "end_time": "2020-06-20T17:46:18.970168Z",
     "start_time": "2020-06-20T17:46:18.891677Z"
    }
   },
   "outputs": [],
   "source": [
    "def handler(change):\n",
    "    # change es un diccionario para el atributo value\n",
    "    display(f\"Hola {change['new']}, Chao {change['old']}\")\n",
    "\n",
    "sel_slider = widgets.Dropdown(description=\"Nombre:\", \n",
    "                              options=[\"Pablo\", \"Sebastián\", \"Enrique\"])\n",
    "\n",
    "display(sel_slider)\n",
    "sel_slider.observe(handler, names='value')"
   ]
  },
  {
   "cell_type": "markdown",
   "metadata": {},
   "source": [
    "#### widget Output \n",
    "\n",
    "Este es un widget especial que puede usarse para redireccionar las salidas de otros widgets\n",
    "\n",
    "1. Primero creamos y mostrarmos Output \n",
    "1. Luego lo usamos de contexto para la salida de otro widget\n",
    "\n",
    "**Ejemplo**"
   ]
  },
  {
   "cell_type": "code",
   "execution_count": null,
   "metadata": {
    "ExecuteTime": {
     "end_time": "2020-06-20T17:46:19.051946Z",
     "start_time": "2020-06-20T17:46:18.972238Z"
    }
   },
   "outputs": [],
   "source": [
    "out = widgets.Output(layout={'border': '1px solid black'})\n",
    "display(out)"
   ]
  },
  {
   "cell_type": "code",
   "execution_count": null,
   "metadata": {
    "ExecuteTime": {
     "end_time": "2020-06-20T17:46:19.182215Z",
     "start_time": "2020-06-20T17:46:19.053788Z"
    }
   },
   "outputs": [],
   "source": [
    "def on_change(button):\n",
    "    with out: \n",
    "        display(insert_name.value) # Esto se va escribir donde quiera que esté out\n",
    "\n",
    "insert_name = widgets.Text(description='Escribir tu nombre')\n",
    "insert_name.style.description_width = 'initial'\n",
    "push_data = widgets.Button(description='Enviar')\n",
    "display(widgets.HBox([insert_name, push_data]))\n",
    "push_data.on_click(on_change)"
   ]
  },
  {
   "cell_type": "markdown",
   "metadata": {},
   "source": [
    "### Ejercicio: \"Polinomio con `observe`\"\n",
    "\n",
    "Considere un polinomio de grado dos:\n",
    "$$\n",
    "f(x) = a x^2 + b x + c\n",
    "$$\n",
    "\n",
    "1. Dibuje este polinomio usando matplotlib en el rango $x=[-2.0 ,2.0]$\n",
    "1. Use widgets FloatText con el atributo `observe` para modificar los parámetros $a$, $b$ y $c$ del polinomio y actualizar el gráfico"
   ]
  },
  {
   "cell_type": "code",
   "execution_count": null,
   "metadata": {
    "ExecuteTime": {
     "end_time": "2020-06-20T17:46:19.265694Z",
     "start_time": "2020-06-20T17:46:19.183908Z"
    },
    "scrolled": true
   },
   "outputs": [],
   "source": [
    "# Completa aquí"
   ]
  },
  {
   "cell_type": "code",
   "execution_count": null,
   "metadata": {
    "ExecuteTime": {
     "end_time": "2020-06-20T17:46:19.468715Z",
     "start_time": "2020-06-20T17:46:19.268810Z"
    }
   },
   "outputs": [],
   "source": [
    "YouTubeVideo_formato('2ZbnnFNx_wA')"
   ]
  },
  {
   "cell_type": "markdown",
   "metadata": {},
   "source": [
    "### Opcional: \"Un piano en Python\"\n",
    "\n",
    "Este ejemplo combina widgets y salida enriquecida para generar un sintetizar o piano digital en Jupyter\n",
    "\n",
    "A continuación un breve video con el análisis de este código"
   ]
  },
  {
   "cell_type": "code",
   "execution_count": null,
   "metadata": {
    "ExecuteTime": {
     "end_time": "2020-06-20T17:46:19.604157Z",
     "start_time": "2020-06-20T17:46:19.470741Z"
    }
   },
   "outputs": [],
   "source": [
    "YouTubeVideo_formato('ofMtEVaeUiY')"
   ]
  },
  {
   "cell_type": "code",
   "execution_count": null,
   "metadata": {
    "ExecuteTime": {
     "end_time": "2020-06-20T17:46:19.727612Z",
     "start_time": "2020-06-20T17:46:19.608398Z"
    },
    "scrolled": true
   },
   "outputs": [],
   "source": [
    "# Ref: https://ipython-books.github.io/117-creating-a-sound-synthesizer-in-the-notebook/\n",
    "import numpy as np\n",
    "import ipywidgets as widgets\n",
    "from functools import partial\n",
    "from IPython.display import Audio\n",
    "\n",
    "duration, rate = .4, 44000\n",
    "notes = ['C', 'C#', 'D','D#','E','F','F#','G','G#','A','A#','B','C']\n",
    "freqs = 440. * 2**(np.arange(3, 3 + len(notes)) / 12.)\n",
    "time = np.arange(0., duration, step=1./rate)\n",
    "synth = lambda freq: np.cos(2.*np.pi*freq*time)*(0.5+0.5*np.cos(np.pi*time/duration))\n",
    "\n",
    "layout_synth = widgets.Layout(width='20px', height='80px', border='1px solid black')\n",
    "style_synth_white = {'button_color': 'white'}\n",
    "style_synth_black = {'button_color': 'black'}\n",
    "buttons = []\n",
    "out = widgets.Output()\n",
    "\n",
    "for note, freq in zip(notes, freqs):\n",
    "    button = widgets.Button(layout=layout_synth)\n",
    "    if \"#\" in note:\n",
    "        button.style = style_synth_black\n",
    "    else:\n",
    "        button.style = style_synth_white    \n",
    "    def on_button_clicked(b, f):\n",
    "        with out: \n",
    "            out.clear_output()\n",
    "            display(Audio(synth(f), rate=rate, autoplay=True))            \n",
    "    button.on_click(partial(on_button_clicked, f=freq))\n",
    "    buttons.append(button)\n",
    "\n",
    "display(widgets.Box(children=buttons), out)"
   ]
  },
  {
   "cell_type": "code",
   "execution_count": null,
   "metadata": {},
   "outputs": [],
   "source": []
  }
 ],
 "metadata": {
  "kernelspec": {
   "display_name": "Python 3",
   "language": "python",
   "name": "python3"
  },
  "language_info": {
   "codemirror_mode": {
    "name": "ipython",
    "version": 3
   },
   "file_extension": ".py",
   "mimetype": "text/x-python",
   "name": "python",
   "nbconvert_exporter": "python",
   "pygments_lexer": "ipython3",
   "version": "3.7.10"
  },
  "toc": {
   "base_numbering": 1,
   "nav_menu": {},
   "number_sections": true,
   "sideBar": true,
   "skip_h1_title": false,
   "title_cell": "Table of Contents",
   "title_sidebar": "Contents",
   "toc_cell": false,
   "toc_position": {
    "height": "calc(100% - 180px)",
    "left": "10px",
    "top": "150px",
    "width": "294.4px"
   },
   "toc_section_display": true,
   "toc_window_display": true
  }
 },
 "nbformat": 4,
 "nbformat_minor": 2
}
