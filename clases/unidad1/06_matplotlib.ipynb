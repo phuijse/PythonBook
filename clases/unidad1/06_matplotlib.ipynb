{
 "cells": [
  {
   "cell_type": "markdown",
   "metadata": {},
   "source": [
    "# Visualización de datos usando [Matplotlib](https://matplotlib.org/)  <a class=\"tocSkip\">\n",
    "\n",
    "Matplotlib es una librería de Python para hacer gráficos en dos dimensiones de alta calidad y altamente \n",
    "personalizables\n",
    "\n",
    "Matplotlib se integra con NumPy y acepta el formato `ndarray`  en sus funciones\n",
    "\n",
    "Matplotlib se integra con Jupyter mediante la magia `%matplotlib`, que nos permite seleccionar un backend para mostrar los gráficos \n",
    "- `inline` : Gráficos rasterizados en el notebook\n",
    "- `notebook` : Gráficos interactivos en el notebook\n",
    "- `qt`, `wx`, `gtk` : Gráficos en una ventana \n",
    "    \n",
    "### Instalación <a class=\"tocSkip\">\n",
    "    \n",
    "Con nuestro ambiente conda activado:\n",
    "\n",
    "    conda install matplotlib\n",
    " \n",
    "### Importar <a class=\"tocSkip\">"
   ]
  },
  {
   "cell_type": "code",
   "execution_count": null,
   "metadata": {
    "ExecuteTime": {
     "end_time": "2020-05-24T03:32:01.904981Z",
     "start_time": "2020-05-24T03:32:01.508850Z"
    }
   },
   "outputs": [],
   "source": [
    "# Invocamos la magia con una de las opciones\n",
    "%matplotlib notebook"
   ]
  },
  {
   "cell_type": "code",
   "execution_count": null,
   "metadata": {
    "ExecuteTime": {
     "end_time": "2020-05-24T03:32:01.997317Z",
     "start_time": "2020-05-24T03:32:01.991334Z"
    }
   },
   "outputs": [],
   "source": [
    "# Importamos la librería\n",
    "import matplotlib as mpl\n",
    "display(mpl.__version__)\n",
    "import matplotlib.pyplot as plt\n",
    "import numpy as np"
   ]
  },
  {
   "cell_type": "markdown",
   "metadata": {},
   "source": [
    "El modulo pyplot provee \n",
    "- Funciones para crear distintos tipos de gráficos\n",
    "- Una maquina de estados que añade los diversos elementos que queremos incluir en él"
   ]
  },
  {
   "cell_type": "markdown",
   "metadata": {},
   "source": [
    "# Nuestra primera figura en matplotlib\n",
    "\n",
    "Sea los siguientes datos que representan el número de casos covid19 positivos totales desde el 1/22/20"
   ]
  },
  {
   "cell_type": "code",
   "execution_count": null,
   "metadata": {
    "ExecuteTime": {
     "end_time": "2020-05-24T03:32:04.661296Z",
     "start_time": "2020-05-24T03:32:04.642203Z"
    }
   },
   "outputs": [],
   "source": [
    "data_covid = np.genfromtxt('covid19_extract.csv', delimiter=',', names=True,\n",
    "                           dtype= ['U50', 'U50', 'f8', 'f8'] + ['i4']*100)\n",
    "data_argentina = np.array([data_covid[0][i] for i in range(4,len(data_covid[0]))])\n",
    "data_bolivia = np.array([data_covid[1][i] for i in range(4,len(data_covid[1]))])\n",
    "data_brazil = np.array([data_covid[2][i] for i in range(4,len(data_covid[2]))])\n",
    "data_chile = np.array([data_covid[3][i] for i in range(4,len(data_covid[3]))])\n",
    "display(data_chile)"
   ]
  },
  {
   "cell_type": "markdown",
   "metadata": {},
   "source": [
    "Una linea en matplotlib se dibuja con la función `plot`\n",
    "\n",
    "    plt.plot(a)\n",
    "    \n",
    "Dibuja $a$ en el eje vertical y `range(len(a))` en el eje horizontal\n",
    "\n",
    "    plt.plot(x, y)\n",
    "    \n",
    "Dibuja $y$ en el eje vertical y $x$ en el eje horizontal\n",
    "\n",
    "\n",
    "> Un gráfico de linea sirve para estudiar como cambia una variable en función de otra o en función del tiempo (orden)"
   ]
  },
  {
   "cell_type": "code",
   "execution_count": null,
   "metadata": {
    "ExecuteTime": {
     "end_time": "2020-05-24T02:18:39.787429Z",
     "start_time": "2020-05-24T02:18:39.528771Z"
    }
   },
   "outputs": [],
   "source": [
    "plt.plot(data_chile);"
   ]
  },
  {
   "cell_type": "markdown",
   "metadata": {},
   "source": [
    "Podemos especificar el color, ancho, estilo, transparencia, entre otros\n",
    "\n",
    "¿Dónde estamos creando esta linea?"
   ]
  },
  {
   "cell_type": "code",
   "execution_count": null,
   "metadata": {
    "ExecuteTime": {
     "end_time": "2020-05-24T02:21:34.930598Z",
     "start_time": "2020-05-24T02:21:34.924827Z"
    }
   },
   "outputs": [],
   "source": [
    "plt.plot(data_argentina, color='r', linestyle='--',  linewidth=2, alpha=0.5);"
   ]
  },
  {
   "cell_type": "markdown",
   "metadata": {},
   "source": [
    "## Notas técnicas:\n",
    "- En IPython llamar a `plot` genera inmediatamente la figura\n",
    "- Si se usa el intérprete normal de Python la figura se mostrará usando `show()`\n",
    "\n",
    "\n",
    "> El backend notebook añade una barra de herramientas que permite manipular interactivamente el gráfico\n",
    "\n"
   ]
  },
  {
   "cell_type": "markdown",
   "metadata": {},
   "source": [
    "## Creación de figuras y ejes\n",
    "\n",
    "- Figura (Figure): Es el elemento principal, actua como un lienzo que mantiene los demás elementos\n",
    "- Ejes (Axes): \n",
    "    - Sistema de coordenadas\n",
    "    - Puede haber más de uno por figura\n",
    "    - Se puede configurar su posición dentro de la figura.\n",
    "\n",
    "Anteriormente, al llamar `plot` creamos automaticamente un eje y una figura\n",
    "\n",
    "> Para tener mayor control sobre nuestro gráfico podemos crear una figura y un conjunto de ejes usando `figure` o `subplots`\n"
   ]
  },
  {
   "cell_type": "code",
   "execution_count": null,
   "metadata": {
    "ExecuteTime": {
     "end_time": "2020-05-24T02:24:53.510508Z",
     "start_time": "2020-05-24T02:24:53.477156Z"
    }
   },
   "outputs": [],
   "source": [
    "fig, ax = plt.subplots(figsize=(7, 4), tight_layout=True, facecolor='w')\n",
    "ax.plot(data_chile)"
   ]
  },
  {
   "cell_type": "markdown",
   "metadata": {},
   "source": [
    "# Anatomía de un gráfico de Matplotlib\n",
    "\n",
    "Se llama *artista* (artist) a los objetos que podemos dibujar en los ejes\n",
    "\n",
    "Agregamos artistas y modificamos su apariencia usando las funciones de la clases `Axes`\n",
    "\n",
    "> La siguiente figura de la documentación de matplotlib resume los elementos principales que podemos modificar\n",
    "\n",
    "<a href=\"https://matplotlib.org/examples/showcase/anatomy.html\"><img src=\"https://matplotlib.org/_images/anatomy.png\" width=\"600\"></a>\n",
    "\n",
    "\n",
    "A continuación veremos como \n",
    "- Crear lineas de distintos tipos con y sin marcadores\n",
    "- Agregar un título y nombres para los ejes\n",
    "- Cambiar los límites, posición y razón de aspecto de los ejes\n",
    "- Cambiar la frecuencia y tamaño de los ticks de los ejes\n",
    "- Agregar una grilla\n",
    "- Agregar una leyenda"
   ]
  },
  {
   "cell_type": "code",
   "execution_count": null,
   "metadata": {
    "ExecuteTime": {
     "end_time": "2020-05-24T02:36:29.966660Z",
     "start_time": "2020-05-24T02:36:29.908623Z"
    }
   },
   "outputs": [],
   "source": [
    "fig, ax = plt.subplots(figsize=(7, 4), tight_layout=True, facecolor='w')\n",
    "# Tipos de linea: -, --, -., :, none\n",
    "# Tipos de markers: .,o,x,d,s,1,2,3,4\n",
    "\n",
    "ax.plot(data_chile, linewidth=2, alpha=0.75, label='Chile')\n",
    "ax.plot(data_argentina, linestyle='--', linewidth=2, alpha=0.75, label='Argentina')\n",
    "ax.plot(range(0, len(data_chile), 7), data_chile[::7], \n",
    "        linestyle='none', marker='x', markersize=10, label='semanas')\n",
    "\n",
    "# Leyenda\n",
    "#ax.legend(loc=2, ncol=1)\n",
    "ax.legend(loc=1, ncol=3, bbox_to_anchor=(0.75, 1))\n",
    "\n",
    "# Texto para ejes y título\n",
    "ax.set_xlabel('Tiempo [días]', fontsize=14, fontname='serif', color=\"green\")\n",
    "ax.set_ylabel('Número de casos totales COVID-19')\n",
    "ax.set_title('Mis primeros pasos en matplotlib')\n",
    "\n",
    "# Límites de los ejes\n",
    "ax.set_xlim([50, 100])\n",
    "#ax.xaxis.set_ticks_position('top')\n",
    "#ax.yaxis.set_ticks_position('right')\n",
    "\n",
    "# Ticks de los ejes\n",
    "ax.set_yticks([0, 5000, 10000, 20000])\n",
    "#ax.set_xticks([-1, 0, 1])\n",
    "ax.set_yticklabels(['nada', 'pocos', 'muchos', 'demasiados'])\n",
    "ax.xaxis.set_major_locator(mpl.ticker.MultipleLocator(7))\n",
    "ax.xaxis.set_minor_locator(mpl.ticker.MultipleLocator(1))\n",
    "\n",
    "# Grilla\n",
    "ax.grid(color=\"red\", which=\"major\", axis='both', linestyle=':', linewidth=0.5)\n"
   ]
  },
  {
   "cell_type": "markdown",
   "metadata": {},
   "source": [
    "## Posicionamiento de ejes\n",
    "\n",
    "Creando un eje en una posición específica de la figura"
   ]
  },
  {
   "cell_type": "code",
   "execution_count": null,
   "metadata": {
    "ExecuteTime": {
     "end_time": "2020-05-24T02:38:25.980427Z",
     "start_time": "2020-05-24T02:38:25.905558Z"
    }
   },
   "outputs": [],
   "source": [
    "fig = plt.figure(figsize=(7, 4))\n",
    "\n",
    "#left, bottom, width, height = 0.2, 0.1, 0.5, 0.8\n",
    "ax = fig.add_axes([0.1, 0.1, 0.8, 0.8])\n",
    "ax.plot(data_chile)\n",
    "ax2 = fig.add_axes([0.25, 0.68, 0.4, 0.2])\n",
    "ax2.plot(data_argentina)"
   ]
  },
  {
   "cell_type": "markdown",
   "metadata": {},
   "source": [
    "Creando y posicionando múltiples ejes en una misma figura"
   ]
  },
  {
   "cell_type": "code",
   "execution_count": null,
   "metadata": {
    "ExecuteTime": {
     "end_time": "2020-05-24T02:40:30.611509Z",
     "start_time": "2020-05-24T02:40:30.553050Z"
    }
   },
   "outputs": [],
   "source": [
    "fig, ax = plt.subplots(nrows=2, ncols=1, figsize=(7, 4), \n",
    "                       sharex=True, sharey=True, tight_layout=True)\n",
    "ax[0].plot(data_chile, lw=2)\n",
    "ax[0].set_title('Chile')\n",
    "ax[1].plot(data_argentina, lw=2)\n",
    "ax[1].set_title('Argentina')"
   ]
  },
  {
   "cell_type": "markdown",
   "metadata": {},
   "source": [
    "Mayor control creando una grilla de ejes usando `gridspec`"
   ]
  },
  {
   "cell_type": "code",
   "execution_count": null,
   "metadata": {
    "ExecuteTime": {
     "end_time": "2020-05-24T02:40:56.885633Z",
     "start_time": "2020-05-24T02:40:56.743932Z"
    }
   },
   "outputs": [],
   "source": [
    "fig = plt.figure(figsize=(7, 4), facecolor='w', tight_layout=True)\n",
    "\n",
    "gs = mpl.gridspec.GridSpec(4, 4)\n",
    "\n",
    "ax = fig.add_subplot(gs[0, 0])\n",
    "ax.plot(data_chile); ax.set_title('0')\n",
    "ax = fig.add_subplot(gs[1:, 0])\n",
    "ax.plot(data_chile); ax.set_title('1')\n",
    "ax = fig.add_subplot(gs[0:2, 1:])\n",
    "ax.plot(data_chile); ax.set_title('2')\n",
    "ax = fig.add_subplot(gs[2:4, 1:3])\n",
    "ax.plot(data_chile); ax.set_title('3')\n",
    "ax = fig.add_subplot(gs[2:4, 3])\n",
    "ax.plot(data_chile); ax.set_title('4')"
   ]
  },
  {
   "cell_type": "markdown",
   "metadata": {},
   "source": [
    "## Graficando en escala logarítmica"
   ]
  },
  {
   "cell_type": "code",
   "execution_count": null,
   "metadata": {
    "ExecuteTime": {
     "end_time": "2020-05-24T02:43:15.276411Z",
     "start_time": "2020-05-24T02:43:15.236420Z"
    }
   },
   "outputs": [],
   "source": [
    "fig, ax = plt.subplots(figsize=(7, 4), tight_layout=True, facecolor='w')\n",
    "\n",
    "ax.grid()\n",
    "ax.plot(data_chile)\n",
    "#ax.set_yscale('log')\n",
    "# ax.semilogy(data_chile)\n",
    "\n",
    "#ax.loglog(data_chile)"
   ]
  },
  {
   "cell_type": "markdown",
   "metadata": {},
   "source": [
    "## Ejes compartidos\n",
    "\n",
    "Dos ejes de ordenadas independientes compartiendo el mismo eje de abscisas\n",
    "\n",
    "**Ojo:** Este tipo de visualización puede inducir a confusión, evítala a menos de que sea muy bien justificado"
   ]
  },
  {
   "cell_type": "code",
   "execution_count": null,
   "metadata": {
    "ExecuteTime": {
     "end_time": "2020-05-24T02:43:36.250734Z",
     "start_time": "2020-05-24T02:43:36.195522Z"
    }
   },
   "outputs": [],
   "source": [
    "fig, ax = plt.subplots(figsize=(7, 4), tight_layout=True, facecolor='w')\n",
    "ax.grid()\n",
    "ax.plot(data_chile, c='green')\n",
    "ax.set_ylabel(r'Chile', color=\"green\")\n",
    "\n",
    "ax2 = ax.twinx()\n",
    "ax2.plot(data_argentina, c='red')\n",
    "ax2.set_ylabel(r'Argentina', color=\"red\");"
   ]
  },
  {
   "cell_type": "markdown",
   "metadata": {},
   "source": [
    "## Anotaciones en un gráfico"
   ]
  },
  {
   "cell_type": "code",
   "execution_count": null,
   "metadata": {
    "ExecuteTime": {
     "end_time": "2020-05-24T02:45:22.581875Z",
     "start_time": "2020-05-24T02:45:22.525056Z"
    }
   },
   "outputs": [],
   "source": [
    "fig, ax = plt.subplots(figsize=(7, 4), tight_layout=True, facecolor='w')\n",
    "ax.grid()\n",
    "x = np.linspace(-5, 5, num=101)\n",
    "ax.plot(x, np.exp(-x**2), c='blue')\n",
    "\n",
    "ax.text(4, 0.1, \"un texto flotante\", fontsize=14,\n",
    "        color='blue', family=\"serif\", rotation=90)\n",
    "ax.annotate('este es el máximo', xy=(0, 1), xytext=(1, 1), fontsize=13, \n",
    "            arrowprops=dict(arrowstyle=\"<->\"));"
   ]
  },
  {
   "cell_type": "markdown",
   "metadata": {},
   "source": [
    "# Tipos de gráficos \n",
    "\n",
    "Hasta ahora sólo hemos usado la función `plot` para crear lineas. \n",
    "\n",
    "Existen otras opciones para crear gráficas a partir de funciones con variable independiente unidimensional"
   ]
  },
  {
   "cell_type": "markdown",
   "metadata": {},
   "source": [
    "## Nubes de puntos con `scatter`\n",
    "\n",
    "Un gráfico de nube sirve para explorar si existe correlación entre dos conjuntos de datos"
   ]
  },
  {
   "cell_type": "code",
   "execution_count": null,
   "metadata": {
    "ExecuteTime": {
     "end_time": "2020-05-24T02:57:14.464464Z",
     "start_time": "2020-05-24T02:57:14.401201Z"
    }
   },
   "outputs": [],
   "source": [
    "fig, ax = plt.subplots(figsize=(7, 3), tight_layout=True)\n",
    "\n",
    "#ax.scatter(x=data_argentina, y=data_chile,\n",
    "#           marker='x', s=100, c='r', alpha=1.)\n",
    "\n",
    "# El tamañó y el color pueden especificarse \"por punto\"\n",
    "ax.scatter(x=data_argentina, y=data_chile, \n",
    "           s=np.random.randint(100, size=len(data_chile)),\n",
    "           c=np.random.randint(10, size=len(data_chile)), cmap=plt.cm.Set2, alpha=0.8)"
   ]
  },
  {
   "cell_type": "markdown",
   "metadata": {},
   "source": [
    "También es útil si tenemos datos irregulares\n",
    "\n",
    "El siguiente ejemplo corresponde al brillo de una estrella en el tiempo detectado por el telescopio Vista\n",
    "\n",
    "En este caso no es correcto \"conectar los puntos\" con una linea"
   ]
  },
  {
   "cell_type": "code",
   "execution_count": null,
   "metadata": {
    "ExecuteTime": {
     "end_time": "2020-05-24T02:59:29.274167Z",
     "start_time": "2020-05-24T02:59:29.270049Z"
    }
   },
   "outputs": [],
   "source": [
    "tiempo, brillo, error = np.genfromtxt(\"rrl.dat\")[:, :3].T\n",
    "#display(tiempo, brillo)"
   ]
  },
  {
   "cell_type": "code",
   "execution_count": null,
   "metadata": {
    "ExecuteTime": {
     "end_time": "2020-05-24T03:00:43.579117Z",
     "start_time": "2020-05-24T03:00:43.536080Z"
    }
   },
   "outputs": [],
   "source": [
    "fig, ax = plt.subplots(figsize=(7, 4), tight_layout=True)\n",
    "#ax.plot(tiempo, brillo) \n",
    "ax.scatter(tiempo, brillo)\n",
    "#ax.plot(tiempo, brillo, 'o') \n",
    "\n",
    "ax.set_xlabel('Tiempo [día juliano]')\n",
    "ax.set_ylabel('Magnitud aparente')\n",
    "ax.invert_yaxis();"
   ]
  },
  {
   "cell_type": "markdown",
   "metadata": {},
   "source": [
    "## Linea con barras de error con `errorbar`\n",
    "\n",
    "\n",
    "Este gráfico es útil si queremos mostrar la incerteza asociada a nuestras variables"
   ]
  },
  {
   "cell_type": "code",
   "execution_count": null,
   "metadata": {
    "ExecuteTime": {
     "end_time": "2020-05-24T03:03:40.726311Z",
     "start_time": "2020-05-24T03:03:40.649405Z"
    }
   },
   "outputs": [],
   "source": [
    "fig, ax = plt.subplots(figsize=(7, 4), tight_layout=True)\n",
    "\n",
    "ax.errorbar(x=tiempo, y=brillo, xerr=0.0, yerr=error, \n",
    "            fmt='.', elinewidth=None, ecolor=None, capsize=None)\n",
    "ax.invert_yaxis();"
   ]
  },
  {
   "cell_type": "markdown",
   "metadata": {},
   "source": [
    "## Rangos de datos con `fill_between`\n",
    "\n",
    "\n",
    "Este gráfico es útil si queremos\n",
    "- presentar la incerteza asociada a la variable dependiente\n",
    "- resumir el comportamiento de varios line plots\n"
   ]
  },
  {
   "cell_type": "code",
   "execution_count": null,
   "metadata": {
    "ExecuteTime": {
     "end_time": "2020-05-24T03:05:11.656665Z",
     "start_time": "2020-05-24T03:05:11.602988Z"
    }
   },
   "outputs": [],
   "source": [
    "fig, ax = plt.subplots(figsize=(7, 4), tight_layout=True, facecolor='w')\n",
    "ax.grid()\n",
    "data = np.vstack((data_chile, data_argentina, data_bolivia))\n",
    "media = np.mean(data, axis=0)\n",
    "devstd = np.std(data, axis=0)\n",
    "ax.plot(media)\n",
    "ax.fill_between(x=range(len(media)),\n",
    "                y1=media - devstd, \n",
    "                y2=media + devstd, alpha=0.5)"
   ]
  },
  {
   "cell_type": "markdown",
   "metadata": {},
   "source": [
    "## Lineas sobrepuestas con `stackplot`\n",
    "\n",
    "Sirve para estudiar la contribución de varias variables con respecto al valor total (suma)"
   ]
  },
  {
   "cell_type": "code",
   "execution_count": null,
   "metadata": {
    "ExecuteTime": {
     "end_time": "2020-05-24T03:06:15.151476Z",
     "start_time": "2020-05-24T03:06:15.082897Z"
    }
   },
   "outputs": [],
   "source": [
    "fig, ax = plt.subplots(figsize=(7, 4), tight_layout=True, facecolor='w')\n",
    "ax.grid()\n",
    "ax.stackplot(range(len(data_chile)), data_chile, data_argentina, data_bolivia,\n",
    "             alpha=0.5, labels=('Chile', 'Argentina', 'Bolivia'));\n",
    "plt.legend(loc=2)"
   ]
  },
  {
   "cell_type": "markdown",
   "metadata": {},
   "source": [
    "## Barras con  `bar`"
   ]
  },
  {
   "cell_type": "markdown",
   "metadata": {},
   "source": [
    "Un gráfico de barras sirve para comparar una cierta cantidad con respecto a distintos grupos\n",
    "\n",
    "Por ejemplo"
   ]
  },
  {
   "cell_type": "code",
   "execution_count": null,
   "metadata": {
    "ExecuteTime": {
     "end_time": "2020-05-24T03:09:52.954673Z",
     "start_time": "2020-05-24T03:09:52.915995Z"
    }
   },
   "outputs": [],
   "source": [
    "fig, ax = plt.subplots(figsize=(7, 4), tight_layout=True, facecolor='w')\n",
    "\n",
    "ax.bar(x=range(3), height=[data_chile[-1], data_argentina[-1], data_bolivia[-1]], \n",
    "       width=0.8, bottom=0, align='center', \n",
    "       color=None, edgecolor=None, linewidth=None, xerr=None, yerr=None);\n",
    "ax.set_ylabel('Infectados totales a la fecha')\n",
    "ax.set_xticks(range(3))\n",
    "ax.set_xticklabels(['Chile', 'Argentina', 'Bolivia']);"
   ]
  },
  {
   "cell_type": "markdown",
   "metadata": {},
   "source": [
    "## Histogramas con  `hist` \n",
    "\n",
    "\n",
    "Un histograma es una representación de la **distribución de una o más variables**\n",
    "\n",
    "La construcción de un histograma involucra\n",
    "- Medir el rango de la variable\n",
    "- Dividir el rango en $N$ cajones\n",
    "- Contar cuantas muestras corresponden a cada cajón"
   ]
  },
  {
   "cell_type": "code",
   "execution_count": null,
   "metadata": {
    "ExecuteTime": {
     "end_time": "2020-05-24T03:12:33.876334Z",
     "start_time": "2020-05-24T03:12:33.808064Z"
    }
   },
   "outputs": [],
   "source": [
    "fig, ax = plt.subplots(figsize=(7, 4), tight_layout=True, facecolor='w')\n",
    "\n",
    "data = np.random.randn(100, 3)\n",
    "data[:, 1] *= 1.5\n",
    "data[:, 2] += 2\n",
    "\n",
    "ax.hist(data, bins=None, range=None, density=False, weights=None, \n",
    "        histtype='bar', color=None);\n",
    "\n",
    "# histype={'bar', 'barstacked', 'step',  'stepfilled'}"
   ]
  },
  {
   "cell_type": "code",
   "execution_count": null,
   "metadata": {
    "ExecuteTime": {
     "end_time": "2020-05-24T03:14:36.016370Z",
     "start_time": "2020-05-24T03:14:35.920633Z"
    }
   },
   "outputs": [],
   "source": [
    "fig, ax = plt.subplots(1, 2, figsize=(7, 3), tight_layout=True, facecolor='w')\n",
    "\n",
    "ax[0].errorbar(tiempo, brillo, error, fmt='.')\n",
    "ax[0].invert_yaxis()\n",
    "ax[0].set_ylabel('Brillo aparente')\n",
    "\n",
    "ax[1].hist(brillo, bins=10, alpha=0.75, orientation=\"horizontal\");\n",
    "ax[1].invert_yaxis()\n",
    "#ax[1].set_xlabel('Brillo aparente')\n",
    "ax[1].set_title('Histograma');"
   ]
  },
  {
   "cell_type": "markdown",
   "metadata": {},
   "source": [
    "## Diagrama de caja y bigote (boxplot)\n",
    "\n",
    "Gráfico usado para comparar distintas distribuciones de datos\n",
    "\n",
    "- La linea naranja corresponde a la media de los datos\n",
    "- La parte superior e inferior de la caja corresponden al  menor y mayor cuartil, respectivamente\n",
    "- Los bigotes son el rango calculado a partir de los cuartiles\n",
    "- Las pelotas son puntos fuera del rango anterior(outliers)"
   ]
  },
  {
   "cell_type": "code",
   "execution_count": null,
   "metadata": {
    "ExecuteTime": {
     "end_time": "2020-05-24T03:15:33.240249Z",
     "start_time": "2020-05-24T03:15:33.128006Z"
    }
   },
   "outputs": [],
   "source": [
    "fig, ax = plt.subplots(figsize=(7, 4), tight_layout=True)\n",
    "\n",
    "#print(np.percentile(data, q=1, axis=0))\n",
    "ax.boxplot(data, notch=False, sym='o', \n",
    "           showmeans=None, showcaps=None, showbox=None);"
   ]
  },
  {
   "cell_type": "markdown",
   "metadata": {},
   "source": [
    "## Mapas de colores"
   ]
  },
  {
   "cell_type": "markdown",
   "metadata": {},
   "source": [
    "Para visualizar funciones que varían en dos variables independientes (superficie) podemos usar **Mapas de colores**\n",
    "- `contour` y `contourf`\n",
    "- `pcolor`\n",
    "- `matshow` y `imshow`\n",
    "\n",
    "\n",
    "En los mapas de colores la variable dependiente (altura) se codifica como una escala de color\n",
    "\n",
    "[Matplotlib](https://matplotlib.org/examples/color/colormaps_reference.html) ofrece muchas escalas de tipo \n",
    "- gradiente: Para representar variables continuas \n",
    "- divergentes: Para representar variables continuas con un valor cero\n",
    "- categóricas: Para representar clases "
   ]
  },
  {
   "cell_type": "code",
   "execution_count": null,
   "metadata": {
    "ExecuteTime": {
     "end_time": "2020-05-24T03:18:18.665713Z",
     "start_time": "2020-05-24T03:18:18.571674Z"
    }
   },
   "outputs": [],
   "source": [
    "scale = np.tile(np.linspace(0, 1, num=256), (20, 1))\n",
    "fig, ax = plt.subplots(3, figsize=(7, 3), tight_layout=True)\n",
    "for ax_, cmap_ in zip(ax, [plt.cm.Reds, plt.cm.RdBu, plt.cm.Accent]):\n",
    "    ax_.imshow(scale, cmap=cmap_)\n",
    "    ax_.axis('off')"
   ]
  },
  {
   "cell_type": "markdown",
   "metadata": {},
   "source": [
    "### Mapa de contornos"
   ]
  },
  {
   "cell_type": "code",
   "execution_count": null,
   "metadata": {
    "ExecuteTime": {
     "end_time": "2020-05-24T03:20:09.206926Z",
     "start_time": "2020-05-24T03:20:09.118719Z"
    }
   },
   "outputs": [],
   "source": [
    "# Creando una gráfica de \"altura\"\n",
    "x = np.linspace(-3, 3, num=10)\n",
    "X, Y = np.meshgrid(x, x)\n",
    "Z = np.exp(-0.5*(X-1)**2 - 0.5*(Y+1)**2) + np.exp(-0.5*(X+1)**2 -0.5*(Y-1)**2)\n",
    "\n",
    "fig, ax = plt.subplots(figsize=(7, 4))\n",
    "cplot = ax.contourf(X, Y, Z, levels=None,\n",
    "                    cmap=plt.cm.Greens, vmin=None, vmax=None, \n",
    "                    linewidths=None, linestyles='solid')\n",
    "\n",
    "fig.colorbar(mappable=cplot, ax=ax, orientation='vertical', pad=0.05)"
   ]
  },
  {
   "cell_type": "code",
   "execution_count": null,
   "metadata": {
    "ExecuteTime": {
     "end_time": "2020-05-24T03:20:36.932679Z",
     "start_time": "2020-05-24T03:20:36.807633Z"
    }
   },
   "outputs": [],
   "source": [
    "# Creando una gráfica de \"altura\"\n",
    "Z = np.exp(-0.5*(X-1)**2 - 0.5*(Y+1)**2) + np.exp(-0.5*(X+1)**2 -0.5*(Y-1)**2)\n",
    "\n",
    "fig, ax = plt.subplots(figsize=(7, 4))\n",
    "cplot = ax.contourf(X, Y, Z, levels=6, cmap=plt.cm.Reds)\n",
    "fig.colorbar(mappable=cplot, ax=ax, orientation='vertical', pad=0.05)\n",
    "\n",
    "cplot = ax.contour(X, Y, Z, levels=6, colors='k', linewidths=2, linestyles='solid')\n",
    "ax.clabel(cplot, colors='k', fontsize=10)"
   ]
  },
  {
   "cell_type": "code",
   "execution_count": null,
   "metadata": {
    "ExecuteTime": {
     "end_time": "2020-05-24T03:21:21.270003Z",
     "start_time": "2020-05-24T03:21:21.182973Z"
    }
   },
   "outputs": [],
   "source": [
    "Z = np.exp(-0.5*(X-1)**2 - 0.5*(Y+1)**2) + np.exp(-0.5*(X+1)**2 -0.5*(Y-1)**2)\n",
    "\n",
    "fig, ax = plt.subplots(figsize=(7, 4))\n",
    "cplot = ax.pcolor(X, Y, Z, \n",
    "                  cmap=plt.cm.Reds, vmin=None, vmax=None)\n",
    "fig.colorbar(mappable=cplot, ax=ax, orientation='vertical', pad=0.05)"
   ]
  },
  {
   "cell_type": "markdown",
   "metadata": {},
   "source": [
    "### Espectrograma"
   ]
  },
  {
   "cell_type": "code",
   "execution_count": null,
   "metadata": {
    "ExecuteTime": {
     "end_time": "2020-05-24T03:21:53.085075Z",
     "start_time": "2020-05-24T03:21:53.013822Z"
    }
   },
   "outputs": [],
   "source": [
    "x = np.arange(0, 10, step=0.001)\n",
    "y = np.cos(2.*np.pi*x*x)\n",
    "\n",
    "fig, ax = plt.subplots(2, figsize=(7, 5), tight_layout=True, sharex=True)\n",
    "ax[0].plot(x, y)\n",
    "ax[1].specgram(y, Fs=1000);\n",
    "ax[1].set_ylabel('Frecuencia')\n",
    "ax[1].set_xlabel('Tiempo');"
   ]
  },
  {
   "cell_type": "markdown",
   "metadata": {},
   "source": [
    "### Matrices"
   ]
  },
  {
   "cell_type": "code",
   "execution_count": null,
   "metadata": {
    "ExecuteTime": {
     "end_time": "2020-05-24T03:23:50.808925Z",
     "start_time": "2020-05-24T03:23:50.731474Z"
    }
   },
   "outputs": [],
   "source": [
    "Z = np.random.randint(255, size=(20, 20))\n",
    "\n",
    "fig, ax = plt.subplots(figsize=(5, 4), tight_layout=True, facecolor='w')\n",
    "cplot = ax.matshow(Z, cmap=plt.cm.Greys_r, interpolation='none')\n",
    "fig.colorbar(cplot)\n",
    "\n",
    "# interpolation = {'none', 'bilinear', 'bicubic', 'gaussian', 'lanczos'}"
   ]
  },
  {
   "cell_type": "markdown",
   "metadata": {},
   "source": [
    "### Imágenes"
   ]
  },
  {
   "cell_type": "code",
   "execution_count": null,
   "metadata": {
    "ExecuteTime": {
     "end_time": "2020-05-24T03:24:11.617283Z",
     "start_time": "2020-05-24T03:24:11.526096Z"
    }
   },
   "outputs": [],
   "source": [
    "img = plt.imread('img/valdivia.png')\n",
    "fig, ax = plt.subplots(figsize=(7, 5), tight_layout=True)\n",
    "ax.imshow(img);"
   ]
  },
  {
   "cell_type": "markdown",
   "metadata": {},
   "source": [
    "## Gráficas en 3D\n",
    "\n",
    "Otra opción para visualizar este tipo de funciones es usar gráficos 3D\n",
    "\n",
    "- Notemos que es necesario importar el módulo `Axes3D`\n",
    "- Luego podemos usar \n",
    "    - `plot_surface`\n",
    "    - `contour`, `contourf`\n",
    "    - `plot_wireframe`"
   ]
  },
  {
   "cell_type": "code",
   "execution_count": null,
   "metadata": {
    "ExecuteTime": {
     "end_time": "2020-05-24T03:26:04.167732Z",
     "start_time": "2020-05-24T03:26:03.973307Z"
    }
   },
   "outputs": [],
   "source": [
    "from mpl_toolkits.mplot3d.axes3d import Axes3D\n",
    "\n",
    "fig, ax = plt.subplots(figsize=(7, 4), subplot_kw={'projection': '3d'})\n",
    "\n",
    "x = np.linspace(-3, 3, num=10)\n",
    "X, Y = np.meshgrid(x, x)\n",
    "Z = np.exp(-0.5*(X-1)**2 - 0.5*(Y+1)**2) + np.exp(-0.5*(X+1)**2 -0.5*(Y-1)**2)\n",
    "cplot = ax.plot_surface(X, Y, Z, cmap=plt.cm.Reds)\n",
    "fig.colorbar(cplot)"
   ]
  },
  {
   "cell_type": "markdown",
   "metadata": {},
   "source": [
    "El módulo `Axes3D` puede usarse también para hacer líneas y nubes de puntos en 3D a partir de arreglos unidimensionales (vértices)"
   ]
  },
  {
   "cell_type": "code",
   "execution_count": null,
   "metadata": {
    "ExecuteTime": {
     "end_time": "2020-05-24T03:27:03.568569Z",
     "start_time": "2020-05-24T03:27:03.524841Z"
    }
   },
   "outputs": [],
   "source": [
    "fig, ax = plt.subplots(figsize=(7, 4), subplot_kw={'projection': '3d'})\n",
    "\n",
    "N = 100\n",
    "rho = np.linspace(0, 2, num=N)\n",
    "phi = np.linspace(0, 20, num=N)\n",
    "\n",
    "#ax.plot(rho*np.cos(phi), rho*np.sin(phi), np.linspace(0, 2, num=N))\n",
    "ax.scatter(rho*np.cos(phi), rho*np.sin(phi), np.linspace(0, 2, num=N))"
   ]
  },
  {
   "cell_type": "markdown",
   "metadata": {},
   "source": [
    "# Configurando dinamicamente opciones generales de matplotlib\n",
    "\n",
    "Matplotlib mantiene un diccionario llamado rcParams\n",
    "\n",
    "Si hay opciones que siempre vamos a ocupar conviene escribirlas aquí"
   ]
  },
  {
   "cell_type": "code",
   "execution_count": null,
   "metadata": {
    "ExecuteTime": {
     "end_time": "2020-05-24T03:27:50.717572Z",
     "start_time": "2020-05-24T03:27:50.662887Z"
    }
   },
   "outputs": [],
   "source": [
    "display(mpl.rcParams)"
   ]
  },
  {
   "cell_type": "code",
   "execution_count": null,
   "metadata": {
    "ExecuteTime": {
     "end_time": "2020-05-24T03:28:58.519838Z",
     "start_time": "2020-05-24T03:28:58.450240Z"
    },
    "scrolled": false
   },
   "outputs": [],
   "source": [
    "mpl.rcParams['axes.grid'] = True\n",
    "mpl.rcParams['axes.linewidth'] = 2\n",
    "mpl.rcParams['lines.linewidth'] = 4\n",
    "mpl.rcParams['font.size'] = 12\n",
    "mpl.rcParams['lines.marker'] = 'd'\n",
    "mpl.rcParams['lines.markersize'] = 20\n",
    "\n",
    "x = np.arange(10)\n",
    "plt.figure()\n",
    "plt.plot(x, x**2)\n",
    "plt.plot(x, x**3)"
   ]
  },
  {
   "cell_type": "markdown",
   "metadata": {},
   "source": [
    "Podemos escoger el estilo general de nuestras gráficas con"
   ]
  },
  {
   "cell_type": "code",
   "execution_count": null,
   "metadata": {
    "ExecuteTime": {
     "end_time": "2020-05-24T03:30:28.343367Z",
     "start_time": "2020-05-24T03:30:28.338193Z"
    }
   },
   "outputs": [],
   "source": [
    "sorted(mpl.style.available)"
   ]
  },
  {
   "cell_type": "code",
   "execution_count": null,
   "metadata": {
    "ExecuteTime": {
     "end_time": "2020-05-24T03:31:11.838906Z",
     "start_time": "2020-05-24T03:31:11.764381Z"
    }
   },
   "outputs": [],
   "source": [
    "plt.style.use('Solarize_Light2')\n",
    "\n",
    "plt.figure()\n",
    "x = np.arange(10)\n",
    "plt.plot(x, x**2);"
   ]
  },
  {
   "cell_type": "markdown",
   "metadata": {},
   "source": [
    "# [Seaborn](https://seaborn.pydata.org/)\n",
    "\n",
    "Seaborn es una librería de visualización que utiliza matplotlib como backend\n",
    "\n",
    "Provee más opciones de gráficos y tienen una apariencia por defecto más moderna y acabada \n",
    "\n",
    "Además se integra mejor con la librería pandas (más en próximas clases)\n",
    "\n",
    "\n",
    "### Instalación <a class=\"tocSkip\">\n",
    "\n",
    "Con nuestro ambiente conda activado\n",
    "\n",
    "    conda install seaborn"
   ]
  },
  {
   "cell_type": "markdown",
   "metadata": {},
   "source": [
    "> Se sugiere reuniciar el notebook en este punto antes de continuar\n"
   ]
  },
  {
   "cell_type": "code",
   "execution_count": null,
   "metadata": {
    "ExecuteTime": {
     "end_time": "2020-05-24T03:35:15.484269Z",
     "start_time": "2020-05-24T03:35:11.030054Z"
    }
   },
   "outputs": [],
   "source": [
    "%matplotlib notebook\n",
    "import numpy as np\n",
    "import matplotlib.pyplot as plt\n",
    "\n",
    "import seaborn as sns\n",
    "sns.set()"
   ]
  },
  {
   "cell_type": "markdown",
   "metadata": {},
   "source": [
    "Todas las funciones que vimos de matplotlib tendrán ahora la apariencia de seaborn"
   ]
  },
  {
   "cell_type": "code",
   "execution_count": null,
   "metadata": {
    "ExecuteTime": {
     "end_time": "2020-05-24T03:35:26.387098Z",
     "start_time": "2020-05-24T03:35:26.323924Z"
    }
   },
   "outputs": [],
   "source": [
    "x = np.arange(-2, 2, step=0.01)\n",
    "y = np.sin(2.0*np.pi*x) + 0.5*np.random.randn(len(x))\n",
    "\n",
    "plt.figure(figsize=(6, 3), tight_layout=True)\n",
    "plt.plot(x, y);"
   ]
  },
  {
   "cell_type": "markdown",
   "metadata": {},
   "source": [
    "## Algunos gráficos implementados en seaborn  <a class=\"tocSkip\">\n",
    "\n",
    "Todos los gráficos de seaborn pueden hacerse usando matplotlib (y un poco de esfuerzo extra)\n",
    "\n",
    "La ventaja de seaborn es que nos da una abstracción superior\n",
    "\n",
    "Seaborn ofrece `kdeplot` para visualizar distribuciones como alternativa a un histograma "
   ]
  },
  {
   "cell_type": "code",
   "execution_count": null,
   "metadata": {
    "ExecuteTime": {
     "end_time": "2020-05-24T03:37:19.878074Z",
     "start_time": "2020-05-24T03:37:19.801540Z"
    }
   },
   "outputs": [],
   "source": [
    "plt.figure(figsize=(6, 3), tight_layout=True)\n",
    "sns.kdeplot(y, shade=True);"
   ]
  },
  {
   "cell_type": "markdown",
   "metadata": {},
   "source": [
    "`kdeplot` también puede usarse para dibujar distribuciones de mayor dimensión\n",
    "\n",
    "Si queremos dibujar la distribución conjunta con las marginales podemos usar `jointplot`"
   ]
  },
  {
   "cell_type": "code",
   "execution_count": null,
   "metadata": {
    "ExecuteTime": {
     "end_time": "2020-05-24T03:37:56.899056Z",
     "start_time": "2020-05-24T03:37:56.199438Z"
    }
   },
   "outputs": [],
   "source": [
    "# plt.figure(figsize=(6, 3), tight_layout=True)\n",
    "# sns.kdeplot(x, y, shade=True);\n",
    "sns.jointplot(x, y, kind='kde')"
   ]
  },
  {
   "cell_type": "markdown",
   "metadata": {},
   "source": [
    "Otro ejemplo muy util para dibujar correlación entre variables es `pairplot`\n",
    "\n",
    "Esta función recibe como entrada un objeto DataFrame de pandas"
   ]
  },
  {
   "cell_type": "code",
   "execution_count": null,
   "metadata": {
    "ExecuteTime": {
     "end_time": "2020-05-24T03:39:14.023820Z",
     "start_time": "2020-05-24T03:39:12.758033Z"
    }
   },
   "outputs": [],
   "source": [
    "import pandas as pd # Si instalaste seaborn con conda, ya tienes instalado pandas\n",
    "data = pd.DataFrame(np.array([x, y, y**2]).T)\n",
    "sns.pairplot(data);"
   ]
  },
  {
   "cell_type": "markdown",
   "metadata": {},
   "source": [
    "# Más allá de matplotlib\n",
    "\n",
    "- [Bokeh](https://bokeh.pydata.org/en/latest/) y [Dash](https://dash.plot.ly/installation): Visualizaciónes con foco en la interactividad\n",
    "- [Datashader](http://datashader.org/) Visualización con foco en grandes volúmenes de datos\n",
    "- [Vispy](http://vispy.org/): Visualización aceleradas por GPU basadas en OpenGL\n",
    "    "
   ]
  },
  {
   "cell_type": "markdown",
   "metadata": {},
   "source": [
    "# [¿Cómo hacer buenas visualizaciones?](https://vimeo.com/29684853)\n",
    "\n",
    "> El objetivo de una visualización de datos es **comunicar la información de forma clara y simple**\n",
    "\n",
    "> Esto tiene un aspecto funcional y otro estético que deben estar balanceados. \n",
    "\n",
    "En esta clase hemos aprendido a usar matplotlib y seaborn: aspecto funcional\n",
    "\n",
    "El aspecto estético requiere diseño (y sentido común)\n",
    "\n",
    "La mejor forma de aprender este aspecto es estudiando ejemplos\n",
    "\n",
    "- https://informationisbeautiful.net/visualizations/\n",
    "- https://bokeh.pydata.org/en/latest/docs/gallery.html\n",
    "\n",
    "A continuación voy a listar algunos consejos \n",
    "\n",
    "## Las formas más efectivas de comunicar diferencias  cuantitativas\n",
    "\n",
    "<a href=\"https://www.knowablemagazine.org/article/mind/2019/science-data-visualization\"><img src=\"img/G-01-visual-ranking_4.svg\" width=\"500\"></a>\n",
    "\n",
    "Recomiendo tomar el *chart challenge* en el link de la imagen\n",
    "\n",
    "## [Play your charts right](https://www.geckoboard.com/uploads/play-your-charts-right.pdf)\n",
    "\n",
    "- **Menos es más:** Muestra sólo lo fundamental y usa color sólo para comunicar\n",
    "- **Evita el misterio:** Etiqueta tus ejes y gráficos\n",
    "\n",
    "## [Evita paletas de colores de tipo arcoíris](https://www.scientificamerican.com/article/end-of-the-rainbow-new-map-scale-is-more-readable-by-people-who-are-color-blind/)\n",
    "\n",
    "Las paletas de tipo son más difíciles de interpretar y no son amigables con los daltónicos\n",
    "\n",
    "La paleta por defecto de matplotlib es viridis que es [perceptualmente-uniforme](https://bids.github.io/colormap/)\n",
    "\n",
    "## Evita comunicar muchas ideas con un sólo gráfico"
   ]
  },
  {
   "cell_type": "code",
   "execution_count": null,
   "metadata": {},
   "outputs": [],
   "source": []
  }
 ],
 "metadata": {
  "kernelspec": {
   "display_name": "Python 3",
   "language": "python",
   "name": "python3"
  },
  "language_info": {
   "codemirror_mode": {
    "name": "ipython",
    "version": 3
   },
   "file_extension": ".py",
   "mimetype": "text/x-python",
   "name": "python",
   "nbconvert_exporter": "python",
   "pygments_lexer": "ipython3",
   "version": "3.8.3"
  },
  "toc": {
   "base_numbering": 1,
   "nav_menu": {},
   "number_sections": true,
   "sideBar": true,
   "skip_h1_title": false,
   "title_cell": "Table of Contents",
   "title_sidebar": "Contents",
   "toc_cell": false,
   "toc_position": {},
   "toc_section_display": true,
   "toc_window_display": false
  }
 },
 "nbformat": 4,
 "nbformat_minor": 2
}
