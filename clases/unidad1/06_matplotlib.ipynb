{
 "cells": [
  {
   "cell_type": "markdown",
   "metadata": {},
   "source": [
    "# Visualización de datos usando [Matplotlib](https://matplotlib.org/) \n",
    "\n",
    "## Introducción\n",
    "\n",
    "Matplotlib es una librería de Python para hacer gráficos en dos dimensiones de alta calidad y altamente \n",
    "personalizables\n",
    "\n",
    "Matplotlib se integra con NumPy y acepta el formato `ndarray`  en sus funciones\n",
    "\n",
    "Matplotlib se integra con Jupyter mediante la magia `%matplotlib`, que nos permite seleccionar un backend para mostrar los gráficos \n",
    "    \n",
    "- `inline` : Gráficos rasterizados en el notebook/lab\n",
    "- `notebook` : Gráficos interactivos en el notebook\n",
    "- `ipympl`: Gráficos interactivos en jupyter lab \n",
    "- `qt`, `gtk`, `osx` : Gráficos en una ventana emergente usando el *desktop environment* que tengamos instalado\n",
    "\n",
    "Puedes consultar más información sobre esta magia en un terminal de IPython usando:\n",
    "\n",
    "```python\n",
    "%matplotlib?\n",
    "```"
   ]
  },
  {
   "cell_type": "markdown",
   "metadata": {},
   "source": [
    "**Instalación**\n",
    "    \n",
    "Con nuestro ambiente conda activado:\n",
    "\n",
    "    conda install matplotlib\n",
    "    \n",
    "O si usamos jupyterlab/VSCode\n",
    "\n",
    "    conda install matplotlib ipympl"
   ]
  },
  {
   "cell_type": "markdown",
   "metadata": {},
   "source": [
    "**Importar**"
   ]
  },
  {
   "cell_type": "code",
   "execution_count": 2,
   "metadata": {
    "ExecuteTime": {
     "end_time": "2020-05-24T03:32:01.997317Z",
     "start_time": "2020-05-24T03:32:01.991334Z"
    }
   },
   "outputs": [
    {
     "data": {
      "text/plain": [
       "'3.3.4'"
      ]
     },
     "metadata": {},
     "output_type": "display_data"
    }
   ],
   "source": [
    "# Invocamos la magia con una de las opciones\n",
    "%matplotlib inline\n",
    "# Importamos la librería\n",
    "import matplotlib as mpl\n",
    "display(mpl.__version__)\n",
    "import matplotlib.pyplot as plt"
   ]
  },
  {
   "cell_type": "markdown",
   "metadata": {},
   "source": [
    "El modulo `pyplot` provee \n",
    "\n",
    "- Funciones para crear distintos tipos de gráficos\n",
    "- Una maquina de estados que añade los diversos elementos que queremos incluir en él\n",
    "\n",
    "A continuación vamos a revisar ambos"
   ]
  },
  {
   "cell_type": "markdown",
   "metadata": {},
   "source": [
    "## Nuestra primera figura en matplotlib\n",
    "\n",
    "Sea los siguientes datos que representan el número de casos covid19 positivos totales desde el 22 de Enero de 2020 hasta el 13 de Mayo de 2020"
   ]
  },
  {
   "cell_type": "code",
   "execution_count": 3,
   "metadata": {
    "ExecuteTime": {
     "end_time": "2020-05-24T03:32:04.661296Z",
     "start_time": "2020-05-24T03:32:04.642203Z"
    }
   },
   "outputs": [
    {
     "data": {
      "text/plain": [
       "array([    0,     0,     0,     0,     0,     0,     0,     0,     0,\n",
       "           0,     0,     0,     0,     0,     0,     0,     0,     0,\n",
       "           0,     0,     0,     0,     0,     0,     0,     0,     0,\n",
       "           0,     0,     0,     0,     0,     0,     0,     0,     0,\n",
       "           0,     0,     0,     0,     0,     1,     1,     4,     4,\n",
       "           4,     8,     8,    13,    23,    23,    43,    61,    74,\n",
       "         155,   201,   238,   238,   434,   537,   632,   746,   922,\n",
       "        1142,  1306,  1610,  1909,  2139,  2449,  2738,  3031,  3404,\n",
       "        3737,  4161,  4471,  4815,  5116,  5546,  5972,  6501,  6927,\n",
       "        7213,  7525,  7917,  8273,  8807,  9252,  9730, 10088, 10507,\n",
       "       10832, 11296, 11812, 12306, 12858, 13331, 13813, 14365, 14885,\n",
       "       16023], dtype=int32)"
      ]
     },
     "metadata": {},
     "output_type": "display_data"
    }
   ],
   "source": [
    "import numpy as np\n",
    "data_covid = np.genfromtxt('covid19_extract.csv', delimiter=',', names=True,\n",
    "                           dtype= ['U50', 'U50', 'f8', 'f8'] + ['i4']*100)\n",
    "data_argentina = np.array([data_covid[0][i] for i in range(4,len(data_covid[0]))])\n",
    "data_bolivia = np.array([data_covid[1][i] for i in range(4,len(data_covid[1]))])\n",
    "data_brazil = np.array([data_covid[2][i] for i in range(4,len(data_covid[2]))])\n",
    "data_chile = np.array([data_covid[3][i] for i in range(4,len(data_covid[3]))])\n",
    "display(data_chile)"
   ]
  },
  {
   "cell_type": "markdown",
   "metadata": {},
   "source": [
    "Una linea en matplotlib se dibuja con la función `plot`\n",
    "\n",
    "Por ejemplo\n",
    "\n",
    "```python\n",
    ">>> plt.plot(a)\n",
    "```\n",
    "\n",
    "dibujará $a$ en el eje vertical y `range(len(a))` en el eje horizontal\n",
    "\n",
    "Mientras que\n",
    "\n",
    "```python\n",
    ">>> plt.plot(x, y)\n",
    "```\n",
    "    \n",
    "dibujará $y$ en el eje vertical y $x$ en el eje horizontal\n",
    "\n",
    "\n",
    "```{note}\n",
    "Usamos un gráfico de linea para estudiar como cambia una variable en función de otra o en función del tiempo (orden)\n",
    "```"
   ]
  },
  {
   "cell_type": "code",
   "execution_count": null,
   "metadata": {
    "ExecuteTime": {
     "end_time": "2020-05-24T02:18:39.787429Z",
     "start_time": "2020-05-24T02:18:39.528771Z"
    }
   },
   "outputs": [],
   "source": [
    "plt.plot(data_chile);"
   ]
  },
  {
   "cell_type": "markdown",
   "metadata": {},
   "source": [
    "Podemos especificar el color, ancho, estilo, transparencia, entre otros:"
   ]
  },
  {
   "cell_type": "code",
   "execution_count": null,
   "metadata": {
    "ExecuteTime": {
     "end_time": "2020-05-24T02:21:34.930598Z",
     "start_time": "2020-05-24T02:21:34.924827Z"
    }
   },
   "outputs": [],
   "source": [
    "plt.plot(data_argentina, color='r', linestyle='--',  linewidth=2, alpha=0.5);"
   ]
  },
  {
   "cell_type": "markdown",
   "metadata": {},
   "source": [
    "Notar que en IPython llamar a `plot` genera inmediatamente la figura. Si se usa el intérprete normal de Python la figura se mostrará usando `plt.show()`\n",
    "\n",
    "\n",
    "```{note}\n",
    "Se se usa el backend notebook o ipympl se añade una barra de herramientas que permite manipular interactivamente el gráfico \n",
    "```"
   ]
  },
  {
   "cell_type": "markdown",
   "metadata": {},
   "source": [
    "## Creación de figuras y ejes\n",
    "\n",
    "- Figura (Figure): Es el elemento principal, actua como un lienzo que mantiene los demás elementos\n",
    "- Ejes (Axes): \n",
    "    - Representan el sistema de coordenadas\n",
    "    - Puede haber más de uno por figura\n",
    "    - Se puede configurar su posición dentro de la figura.\n",
    "\n",
    "Anteriormente, al llamar `plot` creamos automaticamente un eje y una figura\n",
    "\n",
    "Para tener mayor control sobre nuestro gráfico podemos crear una figura y un conjunto de ejes usando `figure` o `subplots`\n"
   ]
  },
  {
   "cell_type": "code",
   "execution_count": null,
   "metadata": {
    "ExecuteTime": {
     "end_time": "2020-05-24T02:24:53.510508Z",
     "start_time": "2020-05-24T02:24:53.477156Z"
    }
   },
   "outputs": [],
   "source": [
    "# Especificamos el tamaño y el color de fondo\n",
    "fig, ax = plt.subplots(figsize=(7, 4), tight_layout=True, facecolor='#EEF')\n",
    "ax.plot(data_chile);"
   ]
  },
  {
   "cell_type": "markdown",
   "metadata": {},
   "source": [
    "### Anatomía de un gráfico de Matplotlib\n",
    "\n",
    "Se llama \"artista\" a los objetos que podemos dibujar en los ejes\n",
    "\n",
    "Agregamos artistas y modificamos su apariencia usando las funciones de la clases `Axes`\n",
    "\n",
    "La siguiente figura de la documentación de matplotlib resume los elementos principales que podemos modificar\n",
    "\n",
    "<a href=\"https://matplotlib.org/examples/showcase/anatomy.html\"><img src=\"https://matplotlib.org/_images/anatomy.png\" width=\"600\"></a>\n",
    "\n",
    "\n",
    "El siguiente ejemplo muestra como \n",
    "\n",
    "1. Crear lineas de distintos tipos con y sin marcadores\n",
    "1. Agregar un título y nombres para los ejes\n",
    "1. Cambiar los límites, posición y razón de aspecto de los ejes\n",
    "1. Cambiar la frecuencia y tamaño de los ticks de los ejes\n",
    "1. Agregar una grilla\n",
    "1. Agregar una leyenda"
   ]
  },
  {
   "cell_type": "code",
   "execution_count": 9,
   "metadata": {
    "ExecuteTime": {
     "end_time": "2020-05-24T02:36:29.966660Z",
     "start_time": "2020-05-24T02:36:29.908623Z"
    }
   },
   "outputs": [
    {
     "data": {
      "image/png": "[encoded data removed]",
      "text/plain": [
       "<Figure size 576x360 with 1 Axes>"
      ]
     },
     "metadata": {},
     "output_type": "display_data"
    }
   ],
   "source": [
    "fig, ax = plt.subplots(figsize=(8, 5), tight_layout=True, facecolor='w')\n",
    "\n",
    "ax.plot(data_chile, # datos\n",
    "        linewidth=2, # Ancho de la linea\n",
    "        alpha=0.75, # Opacidad\n",
    "        label='Chile') # Etiqueta para la leyenda\n",
    "ax.plot(data_argentina, \n",
    "        linestyle='--', # Estilo de la linea, las opciones son -, --, -., : y none\n",
    "        linewidth=2, alpha=0.75, label='Argentina')\n",
    "ax.plot(data_bolivia, \n",
    "        linestyle='none', # \"Sin linea\"\n",
    "        marker='.', # Forma del marcador\n",
    "        markersize=10, # Tamaño del marcador\n",
    "        label='Bolivia')\n",
    "\n",
    "# Leyenda\n",
    "ax.legend(loc=1, ncol=3, bbox_to_anchor=(0.75, 1))\n",
    "\n",
    "# Texto para ejes y título\n",
    "ax.set_xlabel('Tiempo [días]', fontsize=14, fontname='serif', color=\"green\")\n",
    "ax.set_ylabel('Número de casos totales COVID-19')\n",
    "ax.set_title('Mis primeros pasos en matplotlib')\n",
    "\n",
    "# Límites de los ejes: set_xlim y set_ylim\n",
    "ax.set_xlim([50, 100]) \n",
    "\n",
    "# Ticks de los ejes: set_xticks y set_yticks\n",
    "ax.set_yticks([0, 5000, 10000, 20000])\n",
    "# Etiquetas de los ejes\n",
    "ax.set_yticklabels(['nada', 'pocos', 'muchos', 'demasiados'])\n",
    "ax.xaxis.set_major_locator(mpl.ticker.MultipleLocator(7))\n",
    "ax.xaxis.set_minor_locator(mpl.ticker.MultipleLocator(1))\n",
    "\n",
    "# Grilla\n",
    "ax.grid(color=\"red\", which=\"major\", axis='both', linestyle=':', linewidth=0.5)"
   ]
  },
  {
   "cell_type": "markdown",
   "metadata": {},
   "source": [
    "### Posicionamiento de ejes\n",
    "\n",
    "Creando un eje en una posición específica de la figura\n",
    "\n",
    "La posición se indica con cuatro valores ordenados como sigue:\n",
    "\n",
    "- left (izquierda)\n",
    "- bottom (abajo)\n",
    "- width (ancho)\n",
    "- height (alto)\n",
    "\n",
    "Los valores deben estar entre 0 y 1, son relativos al tamaño de la figura"
   ]
  },
  {
   "cell_type": "code",
   "execution_count": null,
   "metadata": {
    "ExecuteTime": {
     "end_time": "2020-05-24T02:38:25.980427Z",
     "start_time": "2020-05-24T02:38:25.905558Z"
    }
   },
   "outputs": [],
   "source": [
    "fig = plt.figure(figsize=(7, 4))\n",
    "ax1 = fig.add_axes([0.1, 0.1, 0.8, 0.8])\n",
    "ax1.plot(data_chile)\n",
    "ax1.set_title('ax1')\n",
    "ax2 = fig.add_axes([0.25, 0.5, 0.4, 0.2])\n",
    "ax2.plot(data_argentina)\n",
    "ax2.set_title('ax2');"
   ]
  },
  {
   "cell_type": "markdown",
   "metadata": {},
   "source": [
    "Si queremos múltiples ejes organizados como una tabla es más sencillo usar `subplots`\n",
    "\n",
    "Si queremos comparar todas las figuras en la misma escala se pueden usar los argumentos `sharex` y `sharey`"
   ]
  },
  {
   "cell_type": "code",
   "execution_count": null,
   "metadata": {
    "ExecuteTime": {
     "end_time": "2020-05-24T02:40:30.611509Z",
     "start_time": "2020-05-24T02:40:30.553050Z"
    }
   },
   "outputs": [],
   "source": [
    "fig, ax = plt.subplots(nrows=3, ncols=1, figsize=(7, 5), \n",
    "                       sharex=True, sharey=False, tight_layout=True)\n",
    "ax[0].plot(data_chile, lw=2)\n",
    "ax[0].set_title('Chile')\n",
    "ax[1].plot(data_argentina, lw=2)\n",
    "ax[1].set_title('Argentina');\n",
    "ax[2].plot(data_bolivia, lw=2)\n",
    "ax[2].set_title('Bolivia');"
   ]
  },
  {
   "cell_type": "markdown",
   "metadata": {},
   "source": [
    "Si necesitamos que los sub-ejes tengan distintos tamaños dentro de la \"tabla\" podemos utilizar `gridspec`"
   ]
  },
  {
   "cell_type": "code",
   "execution_count": null,
   "metadata": {
    "ExecuteTime": {
     "end_time": "2020-05-24T02:40:56.885633Z",
     "start_time": "2020-05-24T02:40:56.743932Z"
    }
   },
   "outputs": [],
   "source": [
    "fig = plt.figure(figsize=(7, 4), facecolor='w', tight_layout=True)\n",
    "\n",
    "gs = mpl.gridspec.GridSpec(4, 4)\n",
    "\n",
    "ax = fig.add_subplot(gs[0, 0])\n",
    "ax.plot(data_chile); ax.set_title('0')\n",
    "ax = fig.add_subplot(gs[1:, 0])\n",
    "ax.plot(data_chile); ax.set_title('1')\n",
    "ax = fig.add_subplot(gs[0:2, 1:])\n",
    "ax.plot(data_chile); ax.set_title('2')\n",
    "ax = fig.add_subplot(gs[2:4, 1:3])\n",
    "ax.plot(data_chile); ax.set_title('3')\n",
    "ax = fig.add_subplot(gs[2:4, 3])\n",
    "ax.plot(data_chile); ax.set_title('4');"
   ]
  },
  {
   "cell_type": "markdown",
   "metadata": {},
   "source": [
    "### Graficando en escala logarítmica\n",
    "\n",
    "Podemos modificar el escalamiento de los ejes de un gráfico tipo `plot` usando `set_xscale` o `set_yscale`, respectivamente\n",
    "\n",
    "También podemos obtener el mismo efecto usando `semilogx`, `semilogy` y `loglog`, en lugar de `plot`"
   ]
  },
  {
   "cell_type": "code",
   "execution_count": null,
   "metadata": {
    "ExecuteTime": {
     "end_time": "2020-05-24T02:43:15.276411Z",
     "start_time": "2020-05-24T02:43:15.236420Z"
    }
   },
   "outputs": [],
   "source": [
    "fig, ax = plt.subplots(1, 2, figsize=(7, 3), tight_layout=True, facecolor='w')\n",
    "\n",
    "ax[0].plot(data_chile)\n",
    "ax[1].plot(data_chile)\n",
    "ax[1].set_yscale('log')\n",
    "\n",
    "# plot y set_yscale es equivalente a:\n",
    "# ax[1].semilogy(data_chile)"
   ]
  },
  {
   "cell_type": "markdown",
   "metadata": {},
   "source": [
    "### Ejes compartidos\n",
    "\n",
    "Se puede tener dos ejes de ordenadas (vertical) compartiendo un mismo eje de abscisas (horizontal) \n",
    "\n",
    "**Ojo:** Este tipo de visualización puede inducir a confusión, evítala a menos de que sea muy bien justificado"
   ]
  },
  {
   "cell_type": "code",
   "execution_count": null,
   "metadata": {
    "ExecuteTime": {
     "end_time": "2020-05-24T02:43:36.250734Z",
     "start_time": "2020-05-24T02:43:36.195522Z"
    }
   },
   "outputs": [],
   "source": [
    "fig, ax = plt.subplots(figsize=(7, 4), tight_layout=True, facecolor='w')\n",
    "ax.grid()\n",
    "ax.plot(data_chile, c='green', lw=3, alpha=0.8)\n",
    "ax.set_ylabel(r'Chile', color=\"green\")\n",
    "\n",
    "ax2 = ax.twinx()\n",
    "ax2.plot(data_argentina, c='red', lw=3, alpha=0.8)\n",
    "ax2.set_ylabel(r'Argentina', color=\"red\");"
   ]
  },
  {
   "cell_type": "markdown",
   "metadata": {},
   "source": [
    "### Anotaciones en un gráfico\n",
    "\n",
    "Se puede usar `text` y `annotate` para agregar texto en posiciones arbitrarias\n"
   ]
  },
  {
   "cell_type": "code",
   "execution_count": null,
   "metadata": {
    "ExecuteTime": {
     "end_time": "2020-05-24T02:45:22.581875Z",
     "start_time": "2020-05-24T02:45:22.525056Z"
    }
   },
   "outputs": [],
   "source": [
    "fig, ax = plt.subplots(figsize=(7, 4), tight_layout=True, facecolor='w')\n",
    "ax.grid()\n",
    "x = np.linspace(-5, 5, num=101)\n",
    "ax.plot(x, np.exp(-x**2), c='blue')\n",
    "\n",
    "ax.text(x=-4, y=0.1, # Posicion\n",
    "        s=\"un ejemplo de texto flotante\", # Texto\n",
    "        fontsize=14, color='blue', family=\"serif\", # Customización de la fuente\n",
    "        rotation=45)\n",
    "\n",
    "ax.annotate('annotate tiene más opciones', # String\n",
    "            xy=(0, 1), xytext=(1, 1), # Posicionamiento del texto y la flecha\n",
    "            fontsize=13, # Tamaño de letra\n",
    "            arrowprops=dict(arrowstyle=\"<->\")); # Estilo de la flecha"
   ]
  },
  {
   "cell_type": "markdown",
   "metadata": {},
   "source": [
    "## Tipos de gráficos \n",
    "\n",
    "Hasta ahora sólo hemos usado la función `plot` para crear lineas. \n",
    "\n",
    "A continuación revisaremos otras opciones para crear gráficas usuales como nubes de puntos y mapas de contornos\n"
   ]
  },
  {
   "cell_type": "markdown",
   "metadata": {},
   "source": [
    "### Nubes de puntos con `scatter`\n",
    "\n",
    "Un gráfico de nube sirve para explorar si existe correlación entre dos conjuntos de datos"
   ]
  },
  {
   "cell_type": "code",
   "execution_count": null,
   "metadata": {
    "ExecuteTime": {
     "end_time": "2020-05-24T02:57:14.464464Z",
     "start_time": "2020-05-24T02:57:14.401201Z"
    }
   },
   "outputs": [],
   "source": [
    "fig, ax = plt.subplots(figsize=(7, 3), tight_layout=True)\n",
    "\n",
    "ax.scatter(x=data_argentina, # Posición horizontal de los puntos\n",
    "           y=data_chile, # Posición vertical de los puntos\n",
    "           marker='o', # forma de los puntos\n",
    "           s=200, # Tamaño de los puntos\n",
    "           c='r', # Color de los puntos\n",
    "           alpha=1.); # Opacidad de los puntos"
   ]
  },
  {
   "cell_type": "markdown",
   "metadata": {},
   "source": [
    "También es posible especificar el tamaño y el color por punto en lugar de globalmente\n",
    "\n",
    "Esto nos permite agregar más información al gráfico\n",
    "\n",
    "En el siguiente ejemplo se utiliza el tamaño del punto para representar la cantidad total de casos y el color la fecha"
   ]
  },
  {
   "cell_type": "code",
   "execution_count": null,
   "metadata": {},
   "outputs": [],
   "source": [
    "fig, ax = plt.subplots(figsize=(7, 3), tight_layout=True)\n",
    "\n",
    "ax.scatter(x=data_argentina,\n",
    "           y=data_chile,  \n",
    "           s=(data_argentina + data_chile)/50, # Cantidad total de casos (normalizado)\n",
    "           c=np.arange(len(data_argentina)), # Días\n",
    "           alpha=0.8);"
   ]
  },
  {
   "cell_type": "markdown",
   "metadata": {},
   "source": [
    "Una nube de puntos también es útil si tenemos datos que son irregulares\n",
    "\n",
    "El siguiente ejemplo corresponde al brillo de una estrella en función del tiempo, detectado por el telescopio [Vista](https://www.eso.org/public/teles-instr/paranal-observatory/surveytelescopes/vista/). Esta serie de tiempo se conoce como [**curva de luz**](https://es.wikipedia.org/wiki/Curva_de_luz)\n",
    "\n",
    "\n",
    "En este ejemplo no se sabe como varía el brillo entre cada fecha por lo que no es correcto \"conectar los puntos\" con una linea\n",
    "\n",
    "```{note}\n",
    "Conocer la naturaleza de los datos es fundamental para poder graficarlos de la mejor forma\n",
    "```"
   ]
  },
  {
   "cell_type": "code",
   "execution_count": null,
   "metadata": {
    "ExecuteTime": {
     "end_time": "2020-05-24T03:00:43.579117Z",
     "start_time": "2020-05-24T03:00:43.536080Z"
    }
   },
   "outputs": [],
   "source": [
    "tiempo, brillo, error = np.genfromtxt(\"rrl.dat\")[:, :3].T\n",
    "\n",
    "fig, ax = plt.subplots(2, figsize=(7, 4), tight_layout=True, sharex=True)\n",
    "\n",
    "ax[0].plot(tiempo, brillo)\n",
    "ax[0].set_title('Incorrecto, induce a confusión')\n",
    "ax[1].scatter(tiempo, brillo)\n",
    "ax[1].set_title('Correcto');\n",
    "# Se puede obtener un resultado idéntico con:\n",
    "#ax[1].plot(tiempo, brillo, 'o') "
   ]
  },
  {
   "cell_type": "markdown",
   "metadata": {},
   "source": [
    "### Linea con barras de error con `errorbar`\n",
    "\n",
    "El gráfico de linea con barras de error es útil si queremos mostrar la incerteza asociada a nuestras variables. \n",
    "\n",
    "La función `errorbar` permite mostrar la incerteza de la variable dependiente (vertical) o independiente (horizontal)\n",
    "\n",
    "La incerteza puede ser un número o un vector del mismo tamaño de la variable\n",
    "\n",
    "Para la curva de luz anterior teníamos información sobre el error en el brillo (variable dependiente). Podemos agregarlo al gráfico con el argumento `yerr` como sigue"
   ]
  },
  {
   "cell_type": "code",
   "execution_count": null,
   "metadata": {
    "ExecuteTime": {
     "end_time": "2020-05-24T03:03:40.726311Z",
     "start_time": "2020-05-24T03:03:40.649405Z"
    }
   },
   "outputs": [],
   "source": [
    "fig, ax = plt.subplots(figsize=(7, 4), tight_layout=True)\n",
    "\n",
    "ax.errorbar(x=tiempo, # Eje x\n",
    "            y=brillo, # Eje y\n",
    "            xerr=0.0, # Error en el eje x\n",
    "            yerr=error, # Error en el eje y\n",
    "            fmt='.', elinewidth=None, ecolor=None, capsize=None);\n"
   ]
  },
  {
   "cell_type": "markdown",
   "metadata": {},
   "source": [
    "### Rangos de datos con `fill_between`\n",
    "\n",
    "\n",
    "Este gráfico es útil si queremos\n",
    "- presentar la incerteza asociada a la variable dependiente\n",
    "- resumir el comportamiento de varios line plots\n"
   ]
  },
  {
   "cell_type": "code",
   "execution_count": null,
   "metadata": {
    "ExecuteTime": {
     "end_time": "2020-05-24T03:05:11.656665Z",
     "start_time": "2020-05-24T03:05:11.602988Z"
    }
   },
   "outputs": [],
   "source": [
    "fig, ax = plt.subplots(figsize=(7, 4), tight_layout=True, facecolor='w')\n",
    "ax.grid()\n",
    "data = np.vstack((data_chile, data_argentina, data_bolivia))\n",
    "media = np.mean(data, axis=0)\n",
    "devstd = np.std(data, axis=0)\n",
    "ax.plot(media, label='Promedio de casos en Chile, Argentina y Bolivia')\n",
    "ax.fill_between(x=range(len(media)),\n",
    "                y1=media - devstd, \n",
    "                y2=media + devstd, \n",
    "                alpha=0.5, label='Desviación estándar')\n",
    "ax.legend(loc=2);"
   ]
  },
  {
   "cell_type": "markdown",
   "metadata": {},
   "source": [
    "### Lineas sobrepuestas con `stackplot`\n",
    "\n",
    "Este gráfico sirve para estudiar la contribución de varias variables con respecto al valor total (suma)"
   ]
  },
  {
   "cell_type": "code",
   "execution_count": null,
   "metadata": {
    "ExecuteTime": {
     "end_time": "2020-05-24T03:06:15.151476Z",
     "start_time": "2020-05-24T03:06:15.082897Z"
    }
   },
   "outputs": [],
   "source": [
    "fig, ax = plt.subplots(figsize=(7, 4), tight_layout=True, facecolor='w')\n",
    "ax.grid()\n",
    "ax.stackplot(range(len(data_chile)), # Esto corresponde al eje horizontal\n",
    "             data_chile, # Los siguientes datos se graficaran en el eje vertical\n",
    "             data_argentina, \n",
    "             data_bolivia, \n",
    "             alpha=0.5, labels=('Chile', 'Argentina', 'Bolivia'));\n",
    "plt.legend(loc=2);"
   ]
  },
  {
   "cell_type": "markdown",
   "metadata": {},
   "source": [
    "### Barras con  `bar`"
   ]
  },
  {
   "cell_type": "markdown",
   "metadata": {},
   "source": [
    "Un gráfico de barras sirve para comparar una cierta cantidad con respecto a distintos grupos\n",
    "\n",
    "Por ejemplo"
   ]
  },
  {
   "cell_type": "code",
   "execution_count": null,
   "metadata": {
    "ExecuteTime": {
     "end_time": "2020-05-24T03:09:52.954673Z",
     "start_time": "2020-05-24T03:09:52.915995Z"
    }
   },
   "outputs": [],
   "source": [
    "fig, ax = plt.subplots(figsize=(7, 4), tight_layout=True, facecolor='w')\n",
    "\n",
    "ax.bar(x=range(3), # Posición de las barras\n",
    "       height=[data_chile[-1], data_argentina[-1], data_bolivia[-1]], # Tamaño de las barras\n",
    "       width=0.8, bottom=0, align='center', # Ancho y alineación de las barras\n",
    "       color=None, edgecolor=None, linewidth=None); # Color y otros aspectos estéticos\n",
    "\n",
    "ax.set_ylabel('Infectados totales a la fecha')\n",
    "ax.set_xticks(range(3))\n",
    "ax.set_xticklabels(['Chile', 'Argentina', 'Bolivia']);"
   ]
  },
  {
   "cell_type": "markdown",
   "metadata": {},
   "source": [
    "### Histogramas con  `hist` \n",
    "\n",
    "\n",
    "Un histograma es una representación de la **distribución de una o más variables**\n",
    "\n",
    "La construcción de un histograma involucra\n",
    "\n",
    "- Medir el rango de la variable\n",
    "- Dividir el rango en $N$ cajones\n",
    "- Contar cuantas muestras corresponden a cada cajón\n",
    "\n",
    "Por ejemplo"
   ]
  },
  {
   "cell_type": "code",
   "execution_count": null,
   "metadata": {
    "ExecuteTime": {
     "end_time": "2020-05-24T03:12:33.876334Z",
     "start_time": "2020-05-24T03:12:33.808064Z"
    }
   },
   "outputs": [],
   "source": [
    "fig, ax = plt.subplots(figsize=(7, 4), tight_layout=True, facecolor='w')\n",
    "\n",
    "data = np.random.randn(100, 3) # Tres columnas de datos aleatorios\n",
    "data[:, 1] *= 1.5 # La segunda columna tiene mayor dispersión\n",
    "data[:, 2] += 2 # La tercera columna está desplazada en su media\n",
    "\n",
    "ax.hist(data, # Matriz de datos\n",
    "        bins=5, # Cantidad de cajones por columna\n",
    "        range=(-5, 5), # Rango del histograma\n",
    "        density=False, # Normalización \n",
    "        histtype='bar', color=None); # Aspectos visuales\n",
    "\n",
    "# histype={'bar', 'barstacked', 'step',  'stepfilled'}"
   ]
  },
  {
   "cell_type": "markdown",
   "metadata": {},
   "source": [
    "Un segundo ejemplo que muestra el histograma del brillo de la curva de luz"
   ]
  },
  {
   "cell_type": "code",
   "execution_count": null,
   "metadata": {
    "ExecuteTime": {
     "end_time": "2020-05-24T03:14:36.016370Z",
     "start_time": "2020-05-24T03:14:35.920633Z"
    }
   },
   "outputs": [],
   "source": [
    "fig, ax = plt.subplots(1, 2, figsize=(7, 3), \n",
    "                       tight_layout=True, facecolor='w')\n",
    "\n",
    "ax[0].errorbar(tiempo, brillo, error, fmt='.')\n",
    "ax[0].set_ylabel('Brillo aparente')\n",
    "\n",
    "ax[1].hist(brillo, bins=10, alpha=0.75, orientation=\"horizontal\");\n",
    "ax[1].set_title('Histograma');"
   ]
  },
  {
   "cell_type": "markdown",
   "metadata": {},
   "source": [
    "### Diagrama de caja y bigote (boxplot)\n",
    "\n",
    "Este gráfico se usa para visualizar y/o comparar la distribución de varios conjuntos de datos\n",
    "\n",
    "- La linea naranja corresponde a la media de los datos\n",
    "- La parte superior e inferior de la caja corresponden al  menor y mayor cuartil, respectivamente\n",
    "- Los bigotes son el rango calculado a partir de los cuartiles\n",
    "- Las pelotas son puntos fuera del rango anterior(outliers)\n"
   ]
  },
  {
   "cell_type": "code",
   "execution_count": null,
   "metadata": {
    "ExecuteTime": {
     "end_time": "2020-05-24T03:15:33.240249Z",
     "start_time": "2020-05-24T03:15:33.128006Z"
    }
   },
   "outputs": [],
   "source": [
    "fig, ax = plt.subplots(figsize=(7, 4), tight_layout=True)\n",
    "\n",
    "ax.boxplot(data, notch=False, sym='o', \n",
    "           showmeans=None, showcaps=None, showbox=None);"
   ]
  },
  {
   "cell_type": "markdown",
   "metadata": {},
   "source": [
    "### Mapas de colores"
   ]
  },
  {
   "cell_type": "markdown",
   "metadata": {},
   "source": [
    "Para visualizar funciones que varían en dos variables independientes (por ejemplo una superficie) podemos usar **Mapas de colores**\n",
    "\n",
    "Revisaremos las siguientes opciones\n",
    "\n",
    "- `contour` y `contourf`\n",
    "- `pcolor`\n",
    "- `matshow` y `imshow`\n",
    "\n",
    "En los mapas de colores la variable dependiente (áltura) se codifica como una escala o paleta de color\n",
    "\n",
    "[Matplotlib](https://matplotlib.org/examples/color/colormaps_reference.html) ofrece varias paletas de color que se agrupan en tres tipos\n",
    "\n",
    "- gradiente: Para representar variables continuas \n",
    "- divergentes: Para representar variables continuas con un valor cero\n",
    "- categóricas: Para representar clases \n"
   ]
  },
  {
   "cell_type": "code",
   "execution_count": null,
   "metadata": {
    "ExecuteTime": {
     "end_time": "2020-05-24T03:18:18.665713Z",
     "start_time": "2020-05-24T03:18:18.571674Z"
    }
   },
   "outputs": [],
   "source": [
    "scale = np.tile(np.linspace(0, 1, num=256), (20, 1))\n",
    "fig, ax = plt.subplots(3, figsize=(7, 3), tight_layout=True)\n",
    "for ax_, cmap_ in zip(ax, [plt.cm.Reds, # Esta es una escala tipo gradiente\n",
    "                           plt.cm.RdBu, # Esta es de tipo divergente\n",
    "                           plt.cm.Accent] # Esta es de tipo categórica\n",
    "                     ):\n",
    "    ax_.imshow(scale, cmap=cmap_)\n",
    "    ax_.axis('off')"
   ]
  },
  {
   "cell_type": "markdown",
   "metadata": {},
   "source": [
    "**Gráficas de contornos**\n",
    "\n",
    "Creemos datos sintéticos tridimensionales para probar los mapas de colores"
   ]
  },
  {
   "cell_type": "code",
   "execution_count": 15,
   "metadata": {},
   "outputs": [],
   "source": [
    "x = np.linspace(-3, 3, num=10)\n",
    "X, Y = np.meshgrid(x, x)\n",
    "Z = np.exp(-0.5*(X-1)**2 - 0.5*(Y+1)**2) + np.exp(-0.5*(X+1)**2 -0.5*(Y-1)**2)"
   ]
  },
  {
   "cell_type": "markdown",
   "metadata": {},
   "source": [
    "La función `contourf` crea un gráfico de contornos con el \"relleno\" coloreado"
   ]
  },
  {
   "cell_type": "code",
   "execution_count": null,
   "metadata": {
    "ExecuteTime": {
     "end_time": "2020-05-24T03:20:09.206926Z",
     "start_time": "2020-05-24T03:20:09.118719Z"
    }
   },
   "outputs": [],
   "source": [
    "fig, ax = plt.subplots(figsize=(7, 4))\n",
    "cplot = ax.contourf(X, Y, Z, # Los tres deben ser matrices\n",
    "                    levels=6, # Permite ajustar la cantidad de escalones o niveles\n",
    "                    cmap=plt.cm.Greens) # Paleta de colores\n",
    "\n",
    "# Colorbar es útil para mostrar como varía la variable Z\n",
    "fig.colorbar(mappable=cplot, ax=ax, orientation='vertical', pad=0.05); "
   ]
  },
  {
   "cell_type": "markdown",
   "metadata": {},
   "source": [
    "En cambio `contour` crea un mapa de contorno sin relleno\n",
    "\n",
    "Se puede usar `clabel` para anotar el valor de los niveles de Z"
   ]
  },
  {
   "cell_type": "code",
   "execution_count": null,
   "metadata": {
    "ExecuteTime": {
     "end_time": "2020-05-24T03:20:36.932679Z",
     "start_time": "2020-05-24T03:20:36.807633Z"
    }
   },
   "outputs": [],
   "source": [
    "fig, ax = plt.subplots(figsize=(7, 4))\n",
    "cplot = ax.contour(X, Y, Z, levels=6, # Igual que en contourf\n",
    "                   linewidths=2, linestyles='solid', # Aspectos visuales\n",
    "                   cmap=plt.cm.Greens) # Paleta\n",
    "\n",
    "ax.clabel(cplot, # Recibe el mapa de contornos\n",
    "          colors='k', fontsize=10); # Aspectos tipográficos"
   ]
  },
  {
   "cell_type": "markdown",
   "metadata": {},
   "source": [
    "**Visualizando matrices e imágenes**\n",
    "\n",
    "Las funciónes `matshow` e `imshow` pueden usarse para visualizar arreglos. La primera es para matrices, es decir arreglos bidimensionales. La segunda es para imágenes, es decir arreglos tridimensionales donde la tercera dimensión es el canal de color (RGB)\n",
    "\n",
    "Veamos primero `matshow`"
   ]
  },
  {
   "cell_type": "code",
   "execution_count": null,
   "metadata": {
    "ExecuteTime": {
     "end_time": "2020-05-24T03:23:50.808925Z",
     "start_time": "2020-05-24T03:23:50.731474Z"
    }
   },
   "outputs": [],
   "source": [
    "fig, ax = plt.subplots(figsize=(5, 4), tight_layout=True)\n",
    "cplot = ax.matshow(Z, # Matriz\n",
    "                   cmap=plt.cm.Greens, # Paleta\n",
    "                   interpolation='none') \n",
    "fig.colorbar(cplot);"
   ]
  },
  {
   "cell_type": "markdown",
   "metadata": {},
   "source": [
    "El argumento interpolación controla la suavidad entre los \"píxeles\", las opciones son:\n",
    "\n",
    "```python\n",
    "interpolation = {'none', 'bilinear', 'bicubic', 'gaussian', 'lanczos'}\n",
    "```\n",
    "\n",
    "Por ejemplo"
   ]
  },
  {
   "cell_type": "code",
   "execution_count": null,
   "metadata": {},
   "outputs": [],
   "source": [
    "fig, ax = plt.subplots(figsize=(5, 4), tight_layout=True)\n",
    "cplot = ax.matshow(Z, cmap=plt.cm.Greens, interpolation='bicubic') \n",
    "fig.colorbar(cplot);"
   ]
  },
  {
   "cell_type": "markdown",
   "metadata": {},
   "source": [
    "Para graficar imagenes es más conveniente usar `imshow`\n",
    "\n",
    "Matplotlib también tiene la función `imread` para importar una imagen como ndarray"
   ]
  },
  {
   "cell_type": "code",
   "execution_count": null,
   "metadata": {
    "ExecuteTime": {
     "end_time": "2020-05-24T03:24:11.617283Z",
     "start_time": "2020-05-24T03:24:11.526096Z"
    }
   },
   "outputs": [],
   "source": [
    "img = plt.imread('img/valdivia.png')\n",
    "fig, ax = plt.subplots(figsize=(7, 5), tight_layout=True)\n",
    "ax.imshow(img);"
   ]
  },
  {
   "cell_type": "markdown",
   "metadata": {},
   "source": [
    "## Gráficas en 3D\n",
    "\n",
    "Otra opción para visualizar la interacción entre tres variables es usar gráficos 3D\n",
    "\n",
    "- Es necesario importar el módulo `Axes3D`\n",
    "- Luego podemos usar las funciones\n",
    "    - `plot_surface`\n",
    "    - `contour`, `contourf`\n",
    "    - `plot_wireframe`\n",
    "    \n",
    "Por ejemplo:"
   ]
  },
  {
   "cell_type": "code",
   "execution_count": 20,
   "metadata": {},
   "outputs": [],
   "source": [
    "ax.view_init?"
   ]
  },
  {
   "cell_type": "code",
   "execution_count": 23,
   "metadata": {
    "ExecuteTime": {
     "end_time": "2020-05-24T03:26:04.167732Z",
     "start_time": "2020-05-24T03:26:03.973307Z"
    }
   },
   "outputs": [
    {
     "data": {
      "image/png": "[encoded data removed]",
      "text/plain": [
       "<Figure size 576x360 with 2 Axes>"
      ]
     },
     "metadata": {
      "needs_background": "light"
     },
     "output_type": "display_data"
    }
   ],
   "source": [
    "from mpl_toolkits.mplot3d.axes3d import Axes3D\n",
    "\n",
    "# Debemos indicar los ejes que son 3D\n",
    "fig, ax = plt.subplots(figsize=(8, 5), \n",
    "                       subplot_kw={'projection': '3d'}) \n",
    "\n",
    "cplot = ax.plot_surface(X, Y, Z, cmap=plt.cm.Greens)\n",
    "fig.colorbar(cplot)\n",
    "\n",
    "# Podemos especificar el \"ángulo de la cámara\" con \n",
    "ax.view_init(45, # Elevación\n",
    "             45 # Azimut \n",
    "            );"
   ]
  },
  {
   "cell_type": "markdown",
   "metadata": {},
   "source": [
    "El módulo `Axes3D` puede usarse también para hacer líneas y nubes de puntos en 3D a partir de arreglos unidimensionales (vértices)\n",
    "\n",
    "El siguiente ejemplo muestra una espiral en 3D creada usando coordenadas polares"
   ]
  },
  {
   "cell_type": "code",
   "execution_count": 12,
   "metadata": {
    "ExecuteTime": {
     "end_time": "2020-05-24T03:27:03.568569Z",
     "start_time": "2020-05-24T03:27:03.524841Z"
    }
   },
   "outputs": [
    {
     "data": {
      "image/png": "[encoded data removed]",
      "text/plain": [
       "<Figure size 576x360 with 2 Axes>"
      ]
     },
     "metadata": {
      "needs_background": "light"
     },
     "output_type": "display_data"
    }
   ],
   "source": [
    "fig, ax = plt.subplots(1, 2, figsize=(8, 5), \n",
    "                       subplot_kw={'projection': '3d'})\n",
    "\n",
    "N = 100\n",
    "rho = np.linspace(0, 2, num=N)\n",
    "phi = np.linspace(0, 20, num=N)\n",
    "x = rho*np.cos(phi)\n",
    "y = rho*np.sin(phi)\n",
    "z = np.linspace(0, 2, num=N)\n",
    "\n",
    "ax[0].plot(x, y, z)\n",
    "ax[1].scatter(x, y, z);"
   ]
  },
  {
   "cell_type": "markdown",
   "metadata": {},
   "source": [
    "## Configurando matplotlib\n",
    "\n",
    "Matplotlib mantiene un diccionario llamado `rcParams`\n",
    "\n",
    "Puedes ver las opciones disponibles con\n",
    "\n",
    "```python\n",
    "mpl.rcParams\n",
    "```\n",
    "\n",
    "Si hay opciones que siempre vamos a ocupar conviene escribirlas aquí. \n",
    "\n",
    "Por ejemplo:"
   ]
  },
  {
   "cell_type": "code",
   "execution_count": null,
   "metadata": {
    "ExecuteTime": {
     "end_time": "2020-05-24T03:28:58.519838Z",
     "start_time": "2020-05-24T03:28:58.450240Z"
    },
    "scrolled": false
   },
   "outputs": [],
   "source": [
    "mpl.rcParams['axes.grid'] = True\n",
    "mpl.rcParams['axes.linewidth'] = 2\n",
    "mpl.rcParams['lines.linewidth'] = 4\n",
    "mpl.rcParams['font.size'] = 12\n",
    "mpl.rcParams['lines.marker'] = 'd'\n",
    "mpl.rcParams['lines.markersize'] = 20\n",
    "# Ya no es necesario indicar estas opciones en cada gráfica\n",
    "\n",
    "x = np.arange(10)\n",
    "plt.figure()\n",
    "plt.plot(x, x**2) \n",
    "plt.plot(x, x**3);"
   ]
  },
  {
   "cell_type": "markdown",
   "metadata": {},
   "source": [
    "También podemos escoger el estilo general de nuestras gráficas\n",
    "\n",
    "Los estilos disponibles pueden revisarse con\n",
    "\n",
    "```python\n",
    ">>> sorted(mpl.style.available)\n",
    "```\n",
    "\n",
    "Por ejemplo"
   ]
  },
  {
   "cell_type": "code",
   "execution_count": null,
   "metadata": {
    "ExecuteTime": {
     "end_time": "2020-05-24T03:31:11.838906Z",
     "start_time": "2020-05-24T03:31:11.764381Z"
    }
   },
   "outputs": [],
   "source": [
    "plt.style.use('Solarize_Light2')\n",
    "\n",
    "plt.figure()\n",
    "x = np.arange(10)\n",
    "plt.plot(x, x**2);"
   ]
  },
  {
   "cell_type": "markdown",
   "metadata": {},
   "source": [
    "## ¿Cómo hacer buenas visualizaciones?\n",
    "\n",
    "El objetivo de una visualización de datos es **comunicar la información de forma clara y simple**\n",
    "\n",
    "> Esto tiene un aspecto funcional y otro estético que deben estar balanceados\n",
    "\n",
    "En esta clase hemos aprendido a usar matplotlib: Corresponde al aspecto funcional\n",
    "\n",
    "> El aspecto estético requiere diseño (y sentido común)\n",
    "\n",
    "La mejor forma de aprender este aspecto es estudiando ejemplos\n",
    "\n",
    "- https://informationisbeautiful.net/visualizations/\n",
    "- https://bokeh.pydata.org/en/latest/docs/gallery.html\n",
    "\n",
    "A continuación voy a listar algunos consejos de distintas fuentes"
   ]
  },
  {
   "cell_type": "markdown",
   "metadata": {},
   "source": [
    "**Consejo 1:** El siguiente estudio realizó un ranking de las formas más efectivas de comunicar diferencias cuantitativas. Privilega las que están más arriba en la escala de efectividad\n",
    "\n",
    "<a href=\"https://www.knowablemagazine.org/article/mind/2019/science-data-visualization\"><img src=\"img/G-01-visual-ranking_4.svg\" width=\"500\"></a>\n",
    "\n",
    "Les recomiendo tomar el *chart challenge* en el link de la imagen"
   ]
  },
  {
   "cell_type": "markdown",
   "metadata": {},
   "source": [
    "**Consejo 2:** Menos es más. Muestra sólo lo fundamental y usa color sólo para comunicar\n",
    "\n",
    "**Consejo 3**: Evita el misterio. Etiqueta tus ejes, ponle título a tus gráficos y usa leyendas siempre que sea necesario\n",
    "\n",
    "**Consejo 4**: [Evita las paletas de color de tipo arcoíris](https://www.scientificamerican.com/article/end-of-the-rainbow-new-map-scale-is-more-readable-by-people-who-are-color-blind/). Las paletas de tipo arcoiris son más difíciles de interpretar y no son amigables con los daltónicos. Por esta razón la paleta por defecto de matplotlib es viridis que es [perceptualmente-uniforme](https://bids.github.io/colormap/)"
   ]
  },
  {
   "cell_type": "markdown",
   "metadata": {},
   "source": [
    "Puedes ver estos y otros consejos explicados en el siguiente [diagrama](https://www.geckoboard.com/uploads/play-your-charts-right.pdf) de *geckoboard.com*\n",
    "\n",
    "También les recomiendo ver el siguiente video (en inglés) con más ejemplos y buenas prácticas a considerar"
   ]
  },
  {
   "cell_type": "code",
   "execution_count": null,
   "metadata": {},
   "outputs": [],
   "source": [
    "from IPython.display import VimeoVideo\n",
    "VimeoVideo('29684853')"
   ]
  },
  {
   "cell_type": "markdown",
   "metadata": {},
   "source": [
    "## Más allá de matplotlib\n",
    "\n",
    "Existen muchas librerías de Python para hacer visualizaciones y gráficas. \n",
    "\n",
    "Matplotlib es la más utilizada pero dependiendo de las necesidades de tu experimento/aplicación te recomiendo que consideres las siguientes alternativas\n",
    "\n",
    "- [Seaborn](https://seaborn.pydata.org/): Seaborn es una librería de visualización que utiliza matplotlib como backend. Provee más opciones de gráficos y tienen una apariencia por defecto más moderna y acabada. Además se integra mejor con la librería `pandas`\n",
    "- [Bokeh](https://bokeh.pydata.org/en/latest/) y [Dash](https://dash.plot.ly/installation): Permiten crear visualizaciones interactivas en bases de datos grandes. Son mucho más eficientes que matplotlib pero también un poco más complejas de utilizar.\n",
    "- [Datashader](http://datashader.org/) Permite crear visualización sobre bases de datos masivas que no caben en memoria RAM. \n",
    "- [Vispy](http://vispy.org/): Crea visualizaciones aceleradas por GPU basadas en OpenGL\n",
    "    "
   ]
  },
  {
   "cell_type": "code",
   "execution_count": null,
   "metadata": {},
   "outputs": [],
   "source": []
  }
 ],
 "metadata": {
  "kernelspec": {
   "display_name": "Python 3",
   "language": "python",
   "name": "python3"
  },
  "language_info": {
   "codemirror_mode": {
    "name": "ipython",
    "version": 3
   },
   "file_extension": ".py",
   "mimetype": "text/x-python",
   "name": "python",
   "nbconvert_exporter": "python",
   "pygments_lexer": "ipython3",
   "version": "3.7.10"
  },
  "toc": {
   "base_numbering": 1,
   "nav_menu": {},
   "number_sections": true,
   "sideBar": true,
   "skip_h1_title": false,
   "title_cell": "Table of Contents",
   "title_sidebar": "Contents",
   "toc_cell": false,
   "toc_position": {},
   "toc_section_display": true,
   "toc_window_display": false
  }
 },
 "nbformat": 4,
 "nbformat_minor": 2
}
