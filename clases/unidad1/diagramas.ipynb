{
 "cells": [
  {
   "cell_type": "code",
   "execution_count": null,
   "metadata": {
    "ExecuteTime": {
     "end_time": "2020-06-12T20:27:10.836485Z",
     "start_time": "2020-06-12T20:27:10.830818Z"
    }
   },
   "outputs": [],
   "source": [
    "from IPython.display import SVG"
   ]
  },
  {
   "cell_type": "code",
   "execution_count": null,
   "metadata": {},
   "outputs": [],
   "source": [
    "%%file img/intro.diag\n",
    "blockdiag {\n",
    "    #orientation = portrait\n",
    "    default_fontsize = 12; \n",
    "    A [label=\"Jupyter\"]\n",
    "    B [label=\"IPython\"]\n",
    "    C [label=\"NumPy/pandas/Scipy\"]\n",
    "    D [label=\"BLAS/LAPACK/MKL\"]\n",
    "    A -> B \n",
    "    B -> C \n",
    "    C -> D [style = \"dashed\"]\n",
    "\n",
    "}"
   ]
  },
  {
   "cell_type": "code",
   "execution_count": null,
   "metadata": {},
   "outputs": [],
   "source": [
    "!blockdiag -Tsvg img/intro.diag"
   ]
  },
  {
   "cell_type": "code",
   "execution_count": null,
   "metadata": {},
   "outputs": [],
   "source": [
    "SVG(\"img/intro.svg\")"
   ]
  },
  {
   "cell_type": "code",
   "execution_count": null,
   "metadata": {
    "ExecuteTime": {
     "end_time": "2020-06-12T20:32:02.981349Z",
     "start_time": "2020-06-12T20:32:02.972502Z"
    }
   },
   "outputs": [],
   "source": [
    "%%file img/groupby.diag\n",
    "blockdiag {\n",
    "    #orientation = portrait\n",
    "    default_fontsize = 14; \n",
    "    default_shape = roundedbox;\n",
    "    A [label=\"split\"]\n",
    "    B [label=\"apply\"]\n",
    "    C [label=\"combine\"]\n",
    "    A -> B \n",
    "    B -> C \n",
    "    group {\n",
    "          color = \"#FFFF33\";\n",
    "          fontsize = 10;\n",
    "          label = \"groupby\"\n",
    "          A -> B;\n",
    "          B -> C; \n",
    "      }\n",
    "\n",
    "}"
   ]
  },
  {
   "cell_type": "code",
   "execution_count": null,
   "metadata": {
    "ExecuteTime": {
     "end_time": "2020-06-12T20:32:04.271252Z",
     "start_time": "2020-06-12T20:32:03.419447Z"
    }
   },
   "outputs": [],
   "source": [
    "!~/.local/bin/blockdiag -Tsvg img/groupby.diag"
   ]
  },
  {
   "cell_type": "code",
   "execution_count": null,
   "metadata": {
    "ExecuteTime": {
     "end_time": "2020-06-12T20:32:04.289478Z",
     "start_time": "2020-06-12T20:32:04.276498Z"
    }
   },
   "outputs": [],
   "source": [
    "SVG(\"img/groupby.svg\")"
   ]
  },
  {
   "cell_type": "code",
   "execution_count": null,
   "metadata": {},
   "outputs": [],
   "source": []
  }
 ],
 "metadata": {
  "kernelspec": {
   "display_name": "Python 3",
   "language": "python",
   "name": "python3"
  },
  "language_info": {
   "codemirror_mode": {
    "name": "ipython",
    "version": 3
   },
   "file_extension": ".py",
   "mimetype": "text/x-python",
   "name": "python",
   "nbconvert_exporter": "python",
   "pygments_lexer": "ipython3",
   "version": "3.8.2"
  },
  "toc": {
   "base_numbering": 1,
   "nav_menu": {},
   "number_sections": true,
   "sideBar": true,
   "skip_h1_title": false,
   "title_cell": "Table of Contents",
   "title_sidebar": "Contents",
   "toc_cell": false,
   "toc_position": {},
   "toc_section_display": true,
   "toc_window_display": false
  }
 },
 "nbformat": 4,
 "nbformat_minor": 2
}
