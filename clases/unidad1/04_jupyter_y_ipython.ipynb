{
 "cells": [
  {
   "cell_type": "markdown",
   "metadata": {
    "cell_style": "center"
   },
   "source": [
    "# Montando nuestro ambiente de cómputo interactivo\n",
    "\n",
    "Escoge un directorio y clona el repositorio del curso\n",
    "\n",
    "    git clone https://github.com/magister-informatica-uach/INFO147.git\n",
    "\n",
    "Luego, utilizando conda creamos un ambiente \n",
    "\n",
    "    conda create -n info147\n",
    "    \n",
    "Activa el ambiente \n",
    "\n",
    "    conda activate info147\n",
    "    \n",
    "E instala jupyter y sus dependencias\n",
    "\n",
    "    conda install jupyter\n",
    "    \n",
    "Finalmente inicia jupyter escribiendo en la terminal\n",
    "\n",
    "    jupyter notebook\n",
    "    \n",
    "Esto abrirá una pestaña de navegador (browser) apuntada en la dirección\n",
    "\n",
    "    localhost:8888"
   ]
  },
  {
   "cell_type": "markdown",
   "metadata": {
    "cell_style": "center"
   },
   "source": [
    "# Componentes de nuestro ambiente\n",
    "\n",
    "- El **servidor jupyter** es el encargado de administrar los **cuadernillos o notebooks**\n",
    "- Los usuarios interactuan con los cuadernillos a través de un frontend o interfaz web\n",
    "- El proceso encargado de correr los códigos se denomina **kernel**. En este caso usaremos el **kernel de IPython**\n",
    "- El servidor conecta los notebooks con el kernel usando la librería de mensajería ZeroMQ\n",
    "\n",
    "<img src=\"https://jupyter.readthedocs.io/en/latest/_images/notebook_components.png\" width=\"600\">\n",
    "\n",
    "\n",
    "Notas: \n",
    "- Existen otros frontends como por ejemplo [jupyter lab](https://jupyter.org/)\n",
    "- Se puede acceder al kernel de ipython desde la terminal escribiendo el comando *ipython*\n",
    "\n",
    "Las figuras provienen de la documentación de jupyter, donde además encontrarán más detalles: https://jupyter.readthedocs.io/en/latest/architecture/how_jupyter_ipython_work.html"
   ]
  },
  {
   "cell_type": "markdown",
   "metadata": {},
   "source": [
    "# Explorando nuestro ambiente basado en jupyter notebook\n",
    "\n",
    "- Pestañas: Files, Running y Clusters\n",
    "- Encabezado: File, Edit, View, Insert, Cell, Kernel, Widgets, Help\n",
    "- Tipo de celda: Código y Markdown\n",
    "- Modos: Edición (verde) y Comando (azul)\n",
    "- Atajos de texto (shortcuts)\n",
    "    - Ejecución: <kbd>Shift+Enter</kbd> y <kbd>Ctrl+Enter</kbd>\n",
    "    - Creación: <kbd>a</kbd> y <kbd>b</kbd>\n",
    "    - Copiar y pegar celdas: <kbd>c</kbd> y  <kbd>v</kbd>\n",
    "    - Cambio de tipo: <kbd>m</kbd> y <kbd>y</kbd>\n",
    "    - Salvar: <kbd>Ctrl+s</kbd>\n",
    "- Editor de texto y terminales (solo UNIX)"
   ]
  },
  {
   "cell_type": "markdown",
   "metadata": {},
   "source": [
    "## Editando y ejecutando un bloque de código\n",
    "\n",
    "- Las variables y módulos que se crean/importan en un bloque puede ser llamados desde otro bloque\n",
    "- La última línea de ejecución de un bloque se imprime como salida \n",
    "- Para imprimir otras lineas usamos print o display\n",
    "- Se puede suprimir la salida terminando la expresión con ;"
   ]
  },
  {
   "cell_type": "code",
   "execution_count": null,
   "metadata": {},
   "outputs": [],
   "source": [
    "x = 1412043130\n",
    "x"
   ]
  },
  {
   "cell_type": "code",
   "execution_count": null,
   "metadata": {},
   "outputs": [],
   "source": [
    "x"
   ]
  },
  {
   "cell_type": "code",
   "execution_count": null,
   "metadata": {},
   "outputs": [],
   "source": [
    "print(2*x)\n",
    "3*x"
   ]
  },
  {
   "cell_type": "code",
   "execution_count": null,
   "metadata": {},
   "outputs": [],
   "source": [
    "x;"
   ]
  },
  {
   "cell_type": "code",
   "execution_count": null,
   "metadata": {},
   "outputs": [],
   "source": [
    "Out[3]"
   ]
  },
  {
   "cell_type": "code",
   "execution_count": null,
   "metadata": {},
   "outputs": [],
   "source": [
    "from collections import Counter"
   ]
  },
  {
   "cell_type": "code",
   "execution_count": null,
   "metadata": {},
   "outputs": [],
   "source": [
    "a = Counter([0,0,0,1,1])"
   ]
  },
  {
   "cell_type": "code",
   "execution_count": null,
   "metadata": {},
   "outputs": [],
   "source": [
    "a"
   ]
  },
  {
   "cell_type": "markdown",
   "metadata": {},
   "source": [
    "## Pidiendo ayuda"
   ]
  },
  {
   "cell_type": "code",
   "execution_count": null,
   "metadata": {},
   "outputs": [],
   "source": [
    "# Ayuda de ipython\n",
    "?"
   ]
  },
  {
   "cell_type": "code",
   "execution_count": null,
   "metadata": {},
   "outputs": [],
   "source": [
    "# Para un módulo o función en específico\n",
    "Counter?"
   ]
  },
  {
   "cell_type": "code",
   "execution_count": null,
   "metadata": {
    "scrolled": true
   },
   "outputs": [],
   "source": [
    "# Ayuda librería estándar de python\n",
    "help(Counter)"
   ]
  },
  {
   "cell_type": "code",
   "execution_count": null,
   "metadata": {
    "code_folding": []
   },
   "outputs": [],
   "source": [
    "#Accediendo a código fuente\n",
    "\n",
    "def funcion_interesante(x, y):\n",
    "    \"\"\"\n",
    "    Esta es una función interesante que suma sus argumentos\n",
    "    Argumentos: x, y\n",
    "    \"\"\"\n",
    "    return x + y\n",
    "\n",
    "funcion_interesante??"
   ]
  },
  {
   "cell_type": "markdown",
   "metadata": {},
   "source": [
    "### Docstring con <kbd>Shift+TAB</kbd>"
   ]
  },
  {
   "cell_type": "code",
   "execution_count": null,
   "metadata": {},
   "outputs": [],
   "source": [
    "funcion_interesante()"
   ]
  },
  {
   "cell_type": "markdown",
   "metadata": {},
   "source": [
    "## Autocompletación con <kbd>TAB</kbd> (IPython)"
   ]
  },
  {
   "cell_type": "code",
   "execution_count": null,
   "metadata": {},
   "outputs": [],
   "source": [
    "mi_variable_interesante = '13'"
   ]
  },
  {
   "cell_type": "code",
   "execution_count": null,
   "metadata": {},
   "outputs": [],
   "source": [
    "mi_variable_"
   ]
  },
  {
   "cell_type": "code",
   "execution_count": null,
   "metadata": {},
   "outputs": [],
   "source": [
    "path = '/h"
   ]
  },
  {
   "cell_type": "markdown",
   "metadata": {},
   "source": [
    "## \"Magias\" de IPython"
   ]
  },
  {
   "cell_type": "markdown",
   "metadata": {},
   "source": [
    "Las \"magias\" son"
   ]
  },
  {
   "cell_type": "code",
   "execution_count": null,
   "metadata": {
    "scrolled": true
   },
   "outputs": [],
   "source": [
    "%lsmagic"
   ]
  },
  {
   "cell_type": "markdown",
   "metadata": {},
   "source": [
    "Midiendo el tiempo de un bloque (o de una linea)"
   ]
  },
  {
   "cell_type": "code",
   "execution_count": null,
   "metadata": {},
   "outputs": [],
   "source": [
    "%%time \n",
    "a = ''\n",
    "for i in range(10):\n",
    "    a += str(i)\n",
    "print(a)"
   ]
  },
  {
   "cell_type": "markdown",
   "metadata": {},
   "source": [
    "Las variables y librerías que hemos importado a nuestro entorno"
   ]
  },
  {
   "cell_type": "code",
   "execution_count": null,
   "metadata": {
    "scrolled": true
   },
   "outputs": [],
   "source": [
    "%who"
   ]
  },
  {
   "cell_type": "markdown",
   "metadata": {},
   "source": [
    "Los comandos que hemos escrito"
   ]
  },
  {
   "cell_type": "code",
   "execution_count": null,
   "metadata": {},
   "outputs": [],
   "source": [
    "%history"
   ]
  },
  {
   "cell_type": "markdown",
   "metadata": {},
   "source": [
    "Reseteando nuestro entorno "
   ]
  },
  {
   "cell_type": "code",
   "execution_count": null,
   "metadata": {},
   "outputs": [],
   "source": [
    "%reset"
   ]
  },
  {
   "cell_type": "markdown",
   "metadata": {},
   "source": [
    "Seteando una variable de entorno"
   ]
  },
  {
   "cell_type": "code",
   "execution_count": null,
   "metadata": {},
   "outputs": [],
   "source": [
    "%env OMP_NUM_THREADS=4"
   ]
  },
  {
   "cell_type": "markdown",
   "metadata": {},
   "source": [
    "## Accediendo al sistema operativo"
   ]
  },
  {
   "cell_type": "markdown",
   "metadata": {},
   "source": [
    "Usando el operador ! podemos hacer llamados al SO dentro de nuestros bloques de código"
   ]
  },
  {
   "cell_type": "code",
   "execution_count": null,
   "metadata": {
    "scrolled": true
   },
   "outputs": [],
   "source": [
    "!pwd\n",
    "!echo $mi_variable_interesante\n",
    "!cat script_interesante.py"
   ]
  },
  {
   "cell_type": "markdown",
   "metadata": {},
   "source": [
    "O usando la magía %%bash "
   ]
  },
  {
   "cell_type": "code",
   "execution_count": null,
   "metadata": {},
   "outputs": [],
   "source": [
    "%%bash\n",
    "echo \"Estoy usando:\" $SHELL\n",
    "echo \"Mi path es:\" $PATH\n",
    "free -m\n",
    "df -h"
   ]
  },
  {
   "cell_type": "markdown",
   "metadata": {},
   "source": [
    "Podemos capturar el retorno de las funciónes llamadas con !"
   ]
  },
  {
   "cell_type": "code",
   "execution_count": null,
   "metadata": {},
   "outputs": [],
   "source": [
    "lista_archivos = !ls\n",
    "\n",
    "print(lista_archivos)"
   ]
  },
  {
   "cell_type": "markdown",
   "metadata": {},
   "source": [
    "Consola UNIX, funciones básicas:\n",
    "\n",
    "    pwd\n",
    "    ls\n",
    "    rm\n",
    "    cd\n",
    "    cp\n",
    "    echo\n",
    "    touch\n",
    "    mkdir\n",
    "    rmdir\n",
    "    cat\n",
    "    head\n",
    "    tail\n",
    "    more\n",
    "    "
   ]
  },
  {
   "cell_type": "markdown",
   "metadata": {},
   "source": [
    "## Corriendo un script Python externo"
   ]
  },
  {
   "cell_type": "code",
   "execution_count": null,
   "metadata": {},
   "outputs": [],
   "source": [
    "%run script_interesante.py"
   ]
  },
  {
   "cell_type": "code",
   "execution_count": null,
   "metadata": {},
   "outputs": [],
   "source": [
    "1*2*3*4*5*6*7*8*9*10"
   ]
  },
  {
   "cell_type": "code",
   "execution_count": null,
   "metadata": {},
   "outputs": [],
   "source": [
    "from script_interesante import funcion_interesante\n",
    "\n",
    "funcion_interesante(10)"
   ]
  },
  {
   "cell_type": "code",
   "execution_count": null,
   "metadata": {},
   "outputs": [],
   "source": [
    "%run -p script_interesante.py"
   ]
  },
  {
   "cell_type": "markdown",
   "metadata": {},
   "source": [
    "## Importando dinamicamente una libreria"
   ]
  },
  {
   "cell_type": "code",
   "execution_count": null,
   "metadata": {},
   "outputs": [],
   "source": [
    "from script_interesante import funcion_interesante\n",
    "funcion_interesante(10)"
   ]
  },
  {
   "cell_type": "code",
   "execution_count": null,
   "metadata": {},
   "outputs": [],
   "source": [
    "%load_ext autoreload\n",
    "%autoreload 2\n",
    "%autoreload?"
   ]
  },
  {
   "cell_type": "markdown",
   "metadata": {},
   "source": [
    "## Errores y debugging"
   ]
  },
  {
   "cell_type": "code",
   "execution_count": null,
   "metadata": {},
   "outputs": [],
   "source": [
    "pablohuijse"
   ]
  },
  {
   "cell_type": "code",
   "execution_count": null,
   "metadata": {},
   "outputs": [],
   "source": [
    "import sys \n",
    "sys.pablohuijse"
   ]
  },
  {
   "cell_type": "code",
   "execution_count": null,
   "metadata": {},
   "outputs": [],
   "source": [
    "%debug\n",
    "a = [1, 2, 3, 4]\n",
    "a[10] "
   ]
  },
  {
   "cell_type": "code",
   "execution_count": null,
   "metadata": {},
   "outputs": [],
   "source": [
    "def funcion_mala(x):\n",
    "    return x/0\n",
    "\n",
    "funcion_mala(10)"
   ]
  },
  {
   "cell_type": "code",
   "execution_count": null,
   "metadata": {},
   "outputs": [],
   "source": [
    "try:\n",
    "    a = 10/0\n",
    "except ZeroDivisionError:\n",
    "    print(\"Dividiste por cero!\")"
   ]
  },
  {
   "cell_type": "markdown",
   "metadata": {},
   "source": [
    "## Bloques de texto enriquecido (markdown)"
   ]
  },
  {
   "cell_type": "markdown",
   "metadata": {},
   "source": [
    "*itálica*\n",
    "\n",
    "**bold**\n",
    "\n",
    "~~strikethrough~~\n",
    "\n",
    "- una cosa\n",
    "- otra cosa\n",
    "- y una más\n",
    "\n",
    "\n",
    "1. una cosa\n",
    "1. otra cosa\n",
    "1. y una más\n",
    "\n",
    "\n",
    "# Header 1\n",
    "## Header 2\n",
    "### Header 3\n",
    "\n",
    "\n",
    "[link](http://www.duckduckgo.com)\n",
    "\n",
    "***\n",
    "\n",
    "\n",
    "> Un parrafo\n",
    "\n",
    "\n",
    "`un comando`\n",
    "\n",
    "\n",
    "    def funcion_interesante(x):\n",
    "        print(x)\n",
    "        \n",
    "$$\n",
    "\\begin{align}\n",
    "\\mathcal{Q}(t) &= \\frac{\\partial}{\\partial t} \\int_{t \\in \\mathbb{R}} \\sin(2 \\pi t + \\phi) \\,dt \\nonumber \\\\\n",
    "&= \\LaTeX\n",
    "\\end{align}\n",
    "$$\n",
    "\n",
    "\n",
    "\n",
    "<center><font color=\"#FF0000\"><br>Hola<br></font></center>"
   ]
  },
  {
   "cell_type": "markdown",
   "metadata": {},
   "source": [
    "## Extra: Modificando la apariencia del notebook"
   ]
  },
  {
   "cell_type": "code",
   "execution_count": null,
   "metadata": {},
   "outputs": [],
   "source": [
    "%%HTML\n",
    "<style>\n",
    ".container {\n",
    "    width:70% ! important;\n",
    "}\n",
    ".rendered_html { \n",
    "    font-size:1.0em; \n",
    "}\n",
    "</style>"
   ]
  }
 ],
 "metadata": {
  "kernelspec": {
   "display_name": "Python 3",
   "language": "python",
   "name": "python3"
  },
  "language_info": {
   "codemirror_mode": {
    "name": "ipython",
    "version": 3
   },
   "file_extension": ".py",
   "mimetype": "text/x-python",
   "name": "python",
   "nbconvert_exporter": "python",
   "pygments_lexer": "ipython3",
   "version": "3.7.6"
  },
  "toc": {
   "base_numbering": 1,
   "nav_menu": {},
   "number_sections": true,
   "sideBar": true,
   "skip_h1_title": false,
   "title_cell": "Table of Contents",
   "title_sidebar": "Contents",
   "toc_cell": false,
   "toc_position": {},
   "toc_section_display": true,
   "toc_window_display": false
  }
 },
 "nbformat": 4,
 "nbformat_minor": 2
}
