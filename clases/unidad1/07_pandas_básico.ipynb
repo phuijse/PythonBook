{
 "cells": [
  {
   "cell_type": "code",
   "execution_count": null,
   "metadata": {
    "ExecuteTime": {
     "end_time": "2020-06-11T21:06:26.843071Z",
     "start_time": "2020-06-11T21:06:26.695269Z"
    }
   },
   "outputs": [],
   "source": [
    "from IPython.display import YouTubeVideo, Markdown\n",
    "from functools import partial\n",
    "YouTubeVideo_formato = partial(YouTubeVideo, modestbranding=1, disablekb=0,\n",
    "                               width=640, height=360, autoplay=0, rel=0, showinfo=0)\n",
    "\n",
    "display(Markdown(filename='../preamble.md'), \n",
    "        YouTubeVideo_formato('gC1wEsLpUyA'))"
   ]
  },
  {
   "cell_type": "markdown",
   "metadata": {},
   "source": [
    "# Procesamiento de datos con [*pandas*](https://pandas.pydata.org/) <a class=\"tocSkip\">\n",
    "\n",
    "\n",
    "Pandas es una librería de Python para **leer, manipular y analizar datos** que se combina muy bien con NumPy y Matplotlib\n",
    "\n",
    "Pandas nos provee de:    \n",
    "- Dos nuevas estructuras de datos: *DataFrame* y *Series*\n",
    "- Herramientas de análisis de datos que operan sobre *DataFrame* y *Series*"
   ]
  },
  {
   "cell_type": "markdown",
   "metadata": {},
   "source": [
    "\n",
    "### Instalación  <a class=\"tocSkip\">\n",
    "    \n",
    "Activa tu ambiente de conda y luego\n",
    "\n",
    "    conda install pandas\n",
    "    "
   ]
  },
  {
   "cell_type": "code",
   "execution_count": null,
   "metadata": {
    "ExecuteTime": {
     "end_time": "2020-06-11T21:07:52.830197Z",
     "start_time": "2020-06-11T21:07:50.436344Z"
    }
   },
   "outputs": [],
   "source": [
    "%matplotlib notebook\n",
    "import matplotlib.pyplot as plt\n",
    "import numpy as np\n",
    "import pandas as pd\n",
    "\n",
    "display(\"Versión de pandas \"+pd.__version__)"
   ]
  },
  {
   "cell_type": "markdown",
   "metadata": {},
   "source": [
    "## Objeto [`pandas.DataFrame`](https://pandas.pydata.org/pandas-docs/stable/reference/api/pandas.DataFrame.html)\n",
    "\n",
    "Es la estructura de datos principal de pandas\n",
    "\n",
    "- Es un arreglo de dos dimensiones (matriz) que **representa una tabla**\n",
    "- Las filas y columnas de la tabla se identifican con un índice etiquetado (*label*)\n",
    "- Las columnas pueden tener tipos distintos\n",
    "\n",
    "**Ejemplo:** Considere el siguiente DataFrame que representa datos de la bolsa de Santiago:\n",
    "\n",
    "| |  Monto \\[M$\\] | Variación \\[\\%\\] |\n",
    "|---|---|---|\n",
    "| AGUAS-A \t| 1653 |  0.36 |\n",
    "| BSANTANDER |\t 3531 | -0.31 |\n",
    "| CMPC \t|  5998 | -0.6 |\n",
    "| ENTEL |  1408 | 0.0 |\n",
    "\n",
    "- La etiqueta de las filas son los nombres de las empresas\n",
    "- La etiqueta de las columnas son los nombres de los atributos medidas por la bolsa\n",
    "    - El atributo *Monto* es un entero\n",
    "    - El atributo *Variación* es un flotante\n",
    "\n",
    "> Ventaja de trabajar con dataframes: interpretación directa\n",
    "\n",
    "Otra ventaja son las operaciones que podemos hacer sobre ellos, sobre esto más adelante\n",
    "\n",
    "### Construcción  en base a otras estructuras de datos\n",
    "\n",
    "Se usa el constructor\n",
    "```python\n",
    "pandas.DataFrame(data=None, \n",
    "                 index: Optional[Collection] = None, \n",
    "                 columns: Optional[Collection] = None, \n",
    "                 dtype: Union[str, numpy.dtype, ExtensionDtype, None] = None, \n",
    "                 copy: bool = False)\n",
    "```\n",
    "\n",
    "El argumento más importante es `data`, que puede ser un iterable (lista), un diccionario, un ndarray, entre otros\n",
    "\n",
    "Consideremos lo siguiente\n",
    "- Si usamos un diccionario los `keys` se interpretan como etiquetas de columnas\n",
    "- Si usamos un diccionario de diccionarios los `keys` más internos se interpretan como etiquetas de filas\n",
    "- Si usamos un `ndarray` y no especificamos `index` y/o `columns` se crean etiquetas por defecto\n",
    "\n",
    "**Ejercicio:** \n",
    "\n",
    "\n",
    "Construya un dataframe en base a esta información\n"
   ]
  },
  {
   "cell_type": "code",
   "execution_count": null,
   "metadata": {
    "ExecuteTime": {
     "end_time": "2020-06-06T19:55:36.656040Z",
     "start_time": "2020-06-06T19:55:36.646578Z"
    }
   },
   "outputs": [],
   "source": [
    "clientes = ['Pablo', 'Marianna', 'Matthieu', 'Luis', 'Eliana', 'Cristobal']\n",
    "\n",
    "ventas = {\n",
    "    'lechugas [unidades]': [1, 0, 1, 2, 0, 0],\n",
    "    'papas [kilos]': [0.5, 2, 1.5, 1.2, 0, 5]\n",
    "}\n",
    "\n",
    "display(clientes, ventas)"
   ]
  },
  {
   "cell_type": "code",
   "execution_count": null,
   "metadata": {
    "ExecuteTime": {
     "end_time": "2020-06-06T19:55:36.794210Z",
     "start_time": "2020-06-06T19:55:36.657959Z"
    }
   },
   "outputs": [],
   "source": [
    "# Completa aquí\n",
    "pd.DataFrame(data=ventas, index=clientes)"
   ]
  },
  {
   "cell_type": "markdown",
   "metadata": {},
   "source": [
    "**Ejercicio:**\n",
    "\n",
    "Construye un dataframe a partir del `ndarray` aleatorio `data`"
   ]
  },
  {
   "cell_type": "code",
   "execution_count": null,
   "metadata": {
    "ExecuteTime": {
     "end_time": "2020-06-06T19:55:36.886878Z",
     "start_time": "2020-06-06T19:55:36.796424Z"
    }
   },
   "outputs": [],
   "source": [
    "data = np.random.randn(5, 5)\n",
    "display(data)"
   ]
  },
  {
   "cell_type": "code",
   "execution_count": null,
   "metadata": {
    "ExecuteTime": {
     "end_time": "2020-06-06T19:55:36.967795Z",
     "start_time": "2020-06-06T19:55:36.890471Z"
    }
   },
   "outputs": [],
   "source": [
    "# Completa aquí\n"
   ]
  },
  {
   "cell_type": "markdown",
   "metadata": {},
   "source": [
    "**Comentarios y solución**"
   ]
  },
  {
   "cell_type": "code",
   "execution_count": null,
   "metadata": {
    "ExecuteTime": {
     "end_time": "2020-06-06T19:55:37.186143Z",
     "start_time": "2020-06-06T19:55:36.970361Z"
    }
   },
   "outputs": [],
   "source": [
    "YouTubeVideo_formato('5P0wL3dpavI')"
   ]
  },
  {
   "cell_type": "markdown",
   "metadata": {},
   "source": [
    "### Atributos básicos \n",
    "\n",
    "Una vez que haz creado un DataFrame es convieniente revisarlo\n",
    "\n",
    "Si tu DataFrame se llama `df`, puedes usar\n",
    "\n",
    "- `df.head(5)` y `df.tail(5)` para imprimir las 5 primeras  y 5 últimas filas, respectivamente\n",
    "- `df.columns` para recuperar un objeto `pandas.Index` con las etiquetas de columna\n",
    "- `df.index` para recuperar un objeto `pandas.Index` con las etiquetas de fila\n",
    "- `df.shape` para recuperar una tupla con el número de filas y número de columnas\n",
    "- `df.dtypes` para recuperar una lista con los tipos asignados a cada columna\n",
    "- `df.info()` nos da un resumen de lo anterior\n",
    "\n",
    "**Ejercicio**\n",
    "\n",
    "Considera el dataframe anterior y experimenta con estos atributos"
   ]
  },
  {
   "cell_type": "code",
   "execution_count": null,
   "metadata": {
    "ExecuteTime": {
     "end_time": "2020-06-06T19:55:37.197419Z",
     "start_time": "2020-06-06T19:55:37.187976Z"
    }
   },
   "outputs": [],
   "source": [
    "df = pd.DataFrame(data=ventas, index=clientes)\n",
    "display(df)"
   ]
  },
  {
   "cell_type": "code",
   "execution_count": null,
   "metadata": {
    "ExecuteTime": {
     "end_time": "2020-06-06T19:55:37.292335Z",
     "start_time": "2020-06-06T19:55:37.199055Z"
    }
   },
   "outputs": [],
   "source": [
    "# Completa aquí\n"
   ]
  },
  {
   "cell_type": "markdown",
   "metadata": {},
   "source": [
    "**Comentarios y solución**"
   ]
  },
  {
   "cell_type": "code",
   "execution_count": null,
   "metadata": {
    "ExecuteTime": {
     "end_time": "2020-06-06T19:55:37.514913Z",
     "start_time": "2020-06-06T19:55:37.294310Z"
    }
   },
   "outputs": [],
   "source": [
    "YouTubeVideo_formato('BLJzYfY41VA')"
   ]
  },
  {
   "cell_type": "markdown",
   "metadata": {},
   "source": [
    "## Indexado y *slicing*  de un *DataFrame*\n",
    "\n",
    "### En base a etiquetas\n",
    "\n",
    "Podemos usar las etiquetas para indexar un DataFrame ya sea en sus filas o en sus columnas\n",
    "\n",
    "También podemos hacer *slicing*, es decir recuperar un subconjunto de un DataFrame\n",
    "\n",
    "> Se usa la función `loc[]` para **indexar y hacer slicing en base a la etiqueta**\n",
    "\n",
    "Notar que se ocupa paréntesis cuadrado\n",
    "\n",
    "\n",
    "**Ejemplo**\n",
    "\n",
    "Consideremos el siguiente DataFrame  y asumamos que se llama `df`\n",
    "\n",
    "| |  Monto \\[M$\\] | Variación \\[\\%\\] |\n",
    "|---|---|---|\n",
    "| AGUAS-A \t| 1653 |  0.36 |\n",
    "| BSANTANDER |\t 3531 | -0.31 |\n",
    "| CMPC \t|  5998 | -0.6 |\n",
    "| ENTEL |  1408 | 0.0 |\n",
    "\n",
    "1) Recuperamos la fila de la empresa Entel con\n",
    "\n",
    "```python\n",
    ">>> df.loc[\"ENTEL\"]\n",
    "```\n",
    "\n",
    "2) Recuperamos un slice con las filas de Aguas andina, Banco Santander y CMPC usando el operador `:`\n",
    "\n",
    "```python\n",
    ">>> df.loc[\"AGUAS-A\":\"CMPC\"]\n",
    "```\n",
    "\n",
    "> El operador `A:B` indica una secuencia que empieza con A y termina con B\n",
    "\n",
    "3) Recuperamos un slice con las filas Entel y Aguas Andina usando `fancy indexing`\n",
    "\n",
    "```python\n",
    ">>> df.loc[[\"ENTEL\", \"AGUAS-A\"]]\n",
    "```\n",
    "\n",
    "> `fancy indexing` es indexar en base a una lista (o ndarray) que contiene los índices\n",
    "\n",
    "3) Recuperamos un slice con las filas anteriores pero sólo con la columna monto total usando\n",
    "\n",
    "```python\n",
    ">>> df.loc[[\"ENTEL\", \"AGUAS-A\"], \"Monto [M$]\"]\n",
    "```\n",
    "\n",
    "> Si una etiqueta está mal escrita pandas retornará un `KeyError`\n",
    "\n",
    "Si un nombre es complicado de escribir o tiene caracteres especiales podemos usar en su lugar `df.columns`, por ejemplo\n",
    "\n",
    "```python\n",
    ">>> df.loc[[\"ENTEL\", \"AGUAS-A\"], df.columns[0]] # Es equivalente a df.loc[[\"ENTEL\", \"AGUAS-A\"], \"Monto [M$]\"]\n",
    "```\n",
    "\n",
    "4) Recuperamos la columna de monto completa de forma eficiente con\n",
    "\n",
    "```python\n",
    ">>> df[\"Monto [M$]\"] \n",
    "```\n",
    "\n",
    "Te presente la siguiente \"ambigüedad\" de pandas para no confudirte:\n",
    "\n",
    "```python\n",
    ">>> df[\"Monto [M$]\"]  # Esto es equivalente a df.loc[:, \"Monto [M$]\"]  \n",
    ">>> df[\"Monto [M$]\":]  # Esto retorna error\n",
    ">>> df[\"BSANTANDER\"]  # Esto retorna error\n",
    ">>> df[\"BSANTANDER\":]  # Esto es equivalente a df.loc[\"BSANTANDER\":]\n",
    "```\n"
   ]
  },
  {
   "cell_type": "markdown",
   "metadata": {},
   "source": [
    "### En base a posición\n",
    "\n",
    "Internamente, pandas asigna un número entero a cada fila y cada columna que corresponde a su posición\n",
    "\n",
    "\n",
    "| |  0 | 1 |\n",
    "|---|---|---|\n",
    "| 0\t| 1653 |  0.36 |\n",
    "| 1 |\t 3531 | -0.31 |\n",
    "| 2 \t|  5998 | -0.6 |\n",
    "| 3 |  1408 | 0.0 |\n",
    "\n",
    "> Se usa la función `iloc[]` para **indexar y hacer slicing en base a la posición**\n",
    "\n",
    "Por ejemplo\n",
    "\n",
    "```python\n",
    ">>> df.loc[\"ENTEL\"]\n",
    ">>> df.iloc[3]\n",
    "```\n",
    "son equivalentes. `iloc[]` soporta todo lo que vimos anteriormente\n"
   ]
  },
  {
   "cell_type": "markdown",
   "metadata": {},
   "source": [
    "**Ejercicio**\n",
    "\n",
    "Considera el dataframe anterior\n",
    "\n",
    "- Recupera e imprime la fila del cliente Luis\n",
    "- Recupera e imprime la columna de las papas\n",
    "- Recupera e imprime el sub dataframe de los clientes Pablo, Marianna y Matthieu\n",
    "- Recupera e imprime el sub dataframe de los clientes Pablo y Cristobal\n",
    "- Repite lo anterior pero sólo para la columna lechugas\n",
    "\n",
    "Compara el resultado de `loc[\"Matthieu\"]` y `iloc[2]` ¿Son equivalentes? ¿Cuál retorna más rápido?"
   ]
  },
  {
   "cell_type": "code",
   "execution_count": null,
   "metadata": {
    "ExecuteTime": {
     "end_time": "2020-06-06T19:55:37.526992Z",
     "start_time": "2020-06-06T19:55:37.516749Z"
    }
   },
   "outputs": [],
   "source": [
    "df = pd.DataFrame(data=ventas, index=clientes)\n",
    "display(df)"
   ]
  },
  {
   "cell_type": "code",
   "execution_count": null,
   "metadata": {
    "ExecuteTime": {
     "end_time": "2020-06-06T19:55:37.667196Z",
     "start_time": "2020-06-06T19:55:37.528678Z"
    }
   },
   "outputs": [],
   "source": [
    "# Completa aquí\n"
   ]
  },
  {
   "cell_type": "markdown",
   "metadata": {},
   "source": [
    "**Comentarios y solución**"
   ]
  },
  {
   "cell_type": "code",
   "execution_count": null,
   "metadata": {
    "ExecuteTime": {
     "end_time": "2020-06-06T19:55:37.864805Z",
     "start_time": "2020-06-06T19:55:37.668835Z"
    }
   },
   "outputs": [],
   "source": [
    "YouTubeVideo_formato('6M3P7ivflsw')"
   ]
  },
  {
   "cell_type": "markdown",
   "metadata": {},
   "source": [
    "### Indexado rápido de un elemento\n",
    "\n",
    "Si queremos recuperar sólo un elemento del DataFrame se recomienda usar las funciones `at[]` e `iat[]`\n",
    "\n",
    "```python\n",
    ">>> df.at[\"ENTEL\", \"Monto [M$]\"]\n",
    ">>> df.iat[3, 0]\n",
    "```\n",
    "\n",
    "Son mucho más rápidas que `loc[]` e `iloc[]` pero no permiten hacer *slicing* ni *fancy indexing*"
   ]
  },
  {
   "cell_type": "markdown",
   "metadata": {},
   "source": [
    "## Intermedio: Objeto [`pandas.Series`](https://pandas.pydata.org/pandas-docs/stable/reference/api/pandas.Series.html)\n",
    "\n",
    "- Es un arreglo de una dimensión (vector) que **representa una secuencia** `data`\n",
    "- Los elementos de la secuencia se identifican con un índice etiquetado `index`\n",
    "- Todos los elementos son de un mismo tipo `dtype`\n",
    "- La serie se indentifica con un nombre `name`\n",
    "\n",
    "###  Series a partir de un dataframe\n",
    "\n",
    "Cuando pedimos **una columna** de un DataFrame el objeto retornado es de tipo `Series`\n",
    "\n",
    "\n",
    "Tecnicamente, **una fila** de un DataFrame también retorna como `Series` sin embargo los tipos se mezclan\n"
   ]
  },
  {
   "cell_type": "code",
   "execution_count": null,
   "metadata": {
    "ExecuteTime": {
     "end_time": "2020-06-06T19:55:37.882857Z",
     "start_time": "2020-06-06T19:55:37.866647Z"
    }
   },
   "outputs": [],
   "source": [
    "display(type(df[\"lechugas [unidades]\"]),\n",
    "        df[\"lechugas [unidades]\"].dtype,\n",
    "        type(df.loc[\"Matthieu\"]),\n",
    "        df.loc[\"Matthieu\"].dtype) # Las columnas del dataframe eran int64 y float64"
   ]
  },
  {
   "cell_type": "markdown",
   "metadata": {},
   "source": [
    "### Construcción a partir de otras estructuras de datos\n",
    "\n",
    "También se pueden crear usando el constructor\n",
    "\n",
    "```python\n",
    "pandas.Series(data=None, \n",
    "              index=None,\n",
    "              dtype=None, \n",
    "              name=None, \n",
    "              copy=False, \n",
    "              fastpath=False)\n",
    "\n",
    "```\n",
    "\n",
    "donde `data` puede ser un  diccionarios, una lista o un ndarray"
   ]
  },
  {
   "cell_type": "code",
   "execution_count": null,
   "metadata": {
    "ExecuteTime": {
     "end_time": "2020-06-06T19:55:38.028562Z",
     "start_time": "2020-06-06T19:55:37.884568Z"
    }
   },
   "outputs": [],
   "source": [
    "plan_diario= {'dormir': 7, 'comer': 1, 'quehaceres': 1, 'trabajo': 10, 'procastinar': 5}\n",
    "\n",
    "pd.Series(plan_diario, name='mi planificación de hoy')"
   ]
  },
  {
   "cell_type": "markdown",
   "metadata": {},
   "source": [
    "Notas:\n",
    "\n",
    "- Una columna o una fila de un DataFrame es un Series\n",
    "- Varias Series se pueden unir para formar un DataFrame"
   ]
  },
  {
   "cell_type": "markdown",
   "metadata": {},
   "source": [
    "## Combinación y manipulación de DataFrames\n",
    "\n",
    "Existen atributos y funciones que nos permiten combinar DataFrames, por ejemplo\n",
    "\n",
    "- Extender nuestra tabla con filas o columnas nuevas \n",
    "- Unir dos tablas\n",
    "- Intersectar dos tablas\n",
    "- Eliminar filas y columnas de nuestra tabla\n",
    "\n",
    "### Agregando filas y columnas  \n",
    "\n",
    "Podemos anexar un DataFrame al final de otro usando el atributo `append`\n",
    "\n",
    "```python\n",
    ">>> df_nuevo = pd.DataFrame([[100, -30.0]], \n",
    "                            index=['JabonCopito'], \n",
    "                            columns=['Monto [M]', 'variación [%]'])\n",
    ">>> df.append(df_nuevo, \n",
    "              ignore_index=False, # La combinación usa las etiquetas de df y df_nuevo\n",
    "              verify_integrity=False # No verifica si existen índices duplicados\n",
    "             )\n",
    "```\n",
    "\n",
    "Notar que `df1.append(df2)` retorna un nuevo DataFrame\n",
    "\n",
    "También se puede lograr algo similar usando la función `pandas.concat`\n",
    "\n",
    "```python\n",
    ">>> pd.concat([df, df_nuevo], \n",
    "              axis=0, # Eje de concatenación 0:filas, 1: columnas\n",
    "              join='inner', # Especifica que se hace con el eje que no se une\n",
    "              ignore_index: bool = False, # Igual que append\n",
    "              verify_integrity: bool = False, # Igual que append\n",
    "```\n",
    "El argumento principal es una secuencia de DataFrames \n",
    "\n",
    "- Podemos juntar más de dos DataFrames\n",
    "- Podemos juntarlos en filas o en columnas con `axis`\n",
    "- Podemos especificar que ocurre cuando las filas/columnas no calzan con `join`\n",
    "\n",
    "Por defecto, cuando usamos `append` o `concat`\n",
    "\n",
    ">  los valores que no se alinean al juntar dos dataframes se llenarán con NaNs\n",
    "\n",
    "Finalmente podemos agregar una columna nueva usando el atributo `insert`\n",
    "\n",
    "```python\n",
    ">>> df.insert(loc,  # Ubicación de la nueva columna\n",
    "              column, # Nombre de la nueva columna\n",
    "              value,  # Lista o ndarray con valores\n",
    "              allow_duplicates=False # Impide agregar una columna con una etiqueta existente\n",
    "             )\n",
    "                  \n",
    "```\n",
    "\n",
    "La operación `insert` es `inplace` es decir que modifica directamente a `df`"
   ]
  },
  {
   "cell_type": "markdown",
   "metadata": {},
   "source": [
    "**Ejercicio**\n",
    "\n",
    "- Utiliza `append` para  agregar `df2` a `df`\n",
    "- Utiliza `concat` para combinar `df` y `df2`. Prueblas la opción axis 0 y 1\n",
    "- Utiliza `concat` para combinar `df` y `df3`. Prueba la opción `inner` y `outer`\n",
    "- Utiliza `insert` para agregar a `df` una columna llamada \"platanos [kilos]\" con valores [2, 1.5, 3, 4, 0, 1.5]"
   ]
  },
  {
   "cell_type": "code",
   "execution_count": null,
   "metadata": {
    "ExecuteTime": {
     "end_time": "2020-06-06T19:55:38.134943Z",
     "start_time": "2020-06-06T19:55:38.030620Z"
    }
   },
   "outputs": [],
   "source": [
    "df2 = pd.DataFrame([[3, 0.5]], index=['Hector'], columns=df.columns)\n",
    "df3 = pd.DataFrame([[0, 2]], index=['Christian'], columns=['lechugas [unidades]', 'platanos [kilos]'])\n",
    "display(df, df2, df3)"
   ]
  },
  {
   "cell_type": "code",
   "execution_count": null,
   "metadata": {
    "ExecuteTime": {
     "end_time": "2020-06-06T19:55:38.217522Z",
     "start_time": "2020-06-06T19:55:38.136806Z"
    }
   },
   "outputs": [],
   "source": [
    "# Completa aquí\n",
    "#  \"platanos [kilos]\" con valores [2, 1.5, 3, 4, 0, 1.5]\n",
    "df.insert(loc=2, column='platanos [kilos]', value=[2, 1.5, 3, 4, 0, 1.5])"
   ]
  },
  {
   "cell_type": "code",
   "execution_count": null,
   "metadata": {
    "ExecuteTime": {
     "end_time": "2020-06-06T19:55:38.344973Z",
     "start_time": "2020-06-06T19:55:38.219560Z"
    }
   },
   "outputs": [],
   "source": [
    "df.append(df3)"
   ]
  },
  {
   "cell_type": "markdown",
   "metadata": {},
   "source": [
    "**Comentarios y solución**"
   ]
  },
  {
   "cell_type": "code",
   "execution_count": null,
   "metadata": {
    "ExecuteTime": {
     "end_time": "2020-06-06T19:55:38.601108Z",
     "start_time": "2020-06-06T19:55:38.347081Z"
    }
   },
   "outputs": [],
   "source": [
    "YouTubeVideo_formato('TzEuBC5bwUY')"
   ]
  },
  {
   "cell_type": "markdown",
   "metadata": {},
   "source": [
    "### Unión e intersección\n",
    "\n",
    "Podemos combinar DataFrames de acuerdo a sus contenidos con la función `pandas.merge`\n",
    "\n",
    "```python\n",
    "pandas.merge(left, # Primer DataFrame\n",
    "             right, # Segundo DataFrame\n",
    "             how: str = 'inner', # Especifica como se uniran los DataFrames\n",
    "             on=None, # Especifica la columna que se usa para combinar la DataFrames\n",
    "             ...\n",
    "            )\n",
    "```\n",
    "\n",
    "Algunos detalles\n",
    "- La columna que se especifica en `on` debe existir en ambos DataFrames\n",
    "- El argumento `how` tiene las siguientes opciones\n",
    "    - `left`: Se usan las llaves del primer DataFrame\n",
    "    - `right`: Se usan las llaves del segundo DataFrame\n",
    "    - `inner`: Se usa una intersección de las llaves de ambos DataFrames\n",
    "    - `outer`: Se usa una unión de las llaves de ambos DataFrames\n"
   ]
  },
  {
   "cell_type": "markdown",
   "metadata": {},
   "source": [
    "**Ejercicio**\n",
    "\n",
    "Considera los DataFrames `dfa` y `dfb`\n",
    "\n",
    "- Estudia la diferencia de usar `pd.concat` y `pd.merge`\n",
    "- Para `merge` compara la opción `on=Alumno` con `on=Curso`\n",
    "- Para `merge` compara la opción `join=inner`, `join=outer` y `join=left` \n",
    "\n",
    "Considera el DataFrame `dfc`\n",
    "- Fusionalo con `dfa` y `dfb` comparando las opciones vistas antes"
   ]
  },
  {
   "cell_type": "code",
   "execution_count": null,
   "metadata": {
    "ExecuteTime": {
     "end_time": "2020-06-06T19:55:38.635845Z",
     "start_time": "2020-06-06T19:55:38.602926Z"
    }
   },
   "outputs": [],
   "source": [
    "dfa = pd.DataFrame({'Alumno': ['Jeese', 'James', 'Ash', 'Misty'], \n",
    "                    'Curso': ['INFO335', 'INFO147', 'INFO147', 'INFO185'],\n",
    "                    'NotaP1': np.random.randint(1, 7, 4)})\n",
    "\n",
    "dfb = pd.DataFrame({'Alumno': ['Ash', 'James', 'Jeese', 'Brock'], \n",
    "                    'Curso': ['INFO147', 'INFO147', 'INFO335', 'INFO335'],\n",
    "                    'NotaP2': np.random.randint(1, 7, 4)})\n",
    "\n",
    "dfc = pd.DataFrame({'Curso': ['INFO335', 'INFO147', 'INFOXXX'], \n",
    "                    'Profesor': ['Cristobal', 'Pablo', 'ProfesorX']})\n",
    "\n",
    "display(dfa, dfb, dfc)"
   ]
  },
  {
   "cell_type": "code",
   "execution_count": null,
   "metadata": {
    "ExecuteTime": {
     "end_time": "2020-06-06T19:55:38.741679Z",
     "start_time": "2020-06-06T19:55:38.642101Z"
    }
   },
   "outputs": [],
   "source": [
    "# Completa aquí\n"
   ]
  },
  {
   "cell_type": "markdown",
   "metadata": {},
   "source": [
    "**Comentarios y solución**"
   ]
  },
  {
   "cell_type": "code",
   "execution_count": null,
   "metadata": {
    "ExecuteTime": {
     "end_time": "2020-06-06T19:55:38.961508Z",
     "start_time": "2020-06-06T19:55:38.743935Z"
    }
   },
   "outputs": [],
   "source": [
    "YouTubeVideo_formato('65JAu1y9pJo')"
   ]
  },
  {
   "cell_type": "markdown",
   "metadata": {},
   "source": [
    "### Eliminando filas y columnas \n",
    "\n",
    "Podemos eliminar filas o columnas de un DataFrame `df` con el atributo `drop`\n",
    "\n",
    "```python\n",
    "    df.drop(labels=None, # Etiquetas que quiero elimina, un string o una lista\n",
    "            axis=0, # Eliminar la etiqueta de las filas: 0 o de las columnas: 1\n",
    "            inplace=False, # No modifica df, en su lugar retorna un DataFrame nuevo\n",
    "            ...\n",
    "            )\n",
    "```\n",
    "\n",
    "También podemos extraer y eliminar una columna usando el atributo `pop`"
   ]
  },
  {
   "cell_type": "markdown",
   "metadata": {},
   "source": [
    "## Ordenando DataFrames"
   ]
  },
  {
   "cell_type": "markdown",
   "metadata": {},
   "source": [
    "Se puede ordenar un DataFrame según los valores de una columna usando el atributo `sort_values`\n",
    "\n",
    "```python\n",
    "df.sort_values(by, # Columna que guia el ordenamiento \n",
    "               axis=0, # Se ordena según 0: filas o 1:columnas\n",
    "               ascending=True, # Se ordenan los valores de menor a mayor\n",
    "               inplace=False, # No se modifica df, se retorna un nuevo DataFrame\n",
    "```\n",
    "\n",
    "El argumento `by` recibe una etiqueta o una lista de etiquetas\n",
    "\n",
    "En el segundo caso se ordenan jerarquicamente\n",
    "\n",
    "También existe el atributo `sort_index` que permite ordenar filas y columnas según su etiqueta"
   ]
  },
  {
   "cell_type": "markdown",
   "metadata": {},
   "source": [
    "**Ejercicio**\n",
    "\n",
    "- Ordena `dfa` según Alumno, Curso y NotaP1 de forma ascendiente y descendiente\n",
    "- Ordena las columnas de `dfa`"
   ]
  },
  {
   "cell_type": "code",
   "execution_count": null,
   "metadata": {
    "ExecuteTime": {
     "end_time": "2020-06-06T19:55:38.978707Z",
     "start_time": "2020-06-06T19:55:38.964179Z"
    }
   },
   "outputs": [],
   "source": [
    "display(dfa)"
   ]
  },
  {
   "cell_type": "code",
   "execution_count": null,
   "metadata": {
    "ExecuteTime": {
     "end_time": "2020-06-06T19:55:39.090685Z",
     "start_time": "2020-06-06T19:55:38.981578Z"
    }
   },
   "outputs": [],
   "source": [
    "# Completa aquí \n"
   ]
  },
  {
   "cell_type": "markdown",
   "metadata": {},
   "source": [
    "## Operando con DataFrames "
   ]
  },
  {
   "cell_type": "markdown",
   "metadata": {},
   "source": [
    "### Aritmética y lógica\n",
    "\n",
    "Podemos hacer operaciones aritméticas simples sobre DataFrames con los atributos \n",
    "- `add` y `sub`\n",
    "- `mul` y `div`\n",
    "- `pow`\n",
    "- y sus versiones reversas `radd`, `rdiv`, `rpow` etc\n",
    "\n",
    "También podemos hacer operaciones lógicas con los atributos\n",
    "\n",
    "- `eq` y `nq` (igual y no igual)\n",
    "- `lt`, `gt` (menor que y mayor que)\n",
    "- `le`, `ge` (menor o igual y mayor o igual\n",
    "\n",
    "Todas esos atributos tienen argumento `axis` para especificar si la operación es en fila o columna \n",
    "\n",
    "Por ejemplo\n",
    "\n",
    "```python\n",
    ">>> df.add(10) # Le suma 10 a todos los valores de df\n",
    ">>> df.add([0, 2]) # Le suma 0 a la primera columna y 2 a la segunda columna de df\n",
    ">>> df.add(df2) # Suma los valores de df y df2 siguiendo los índices\n",
    "```\n",
    "Si usamos una lista tiene que ser tan larga como columnas tenga el DataFrame\n",
    "\n",
    "\n",
    "También podemos extraer un ndarray usando el atributo `values` y aplicar funciones de NumPy\n",
    "\n",
    "```python\n",
    ">>> df.values\n",
    "```\n",
    "\n",
    "Si nuestro DataFrame tiene *strings* entonces `values` no retornará un arreglo de tipo numérico\n",
    "\n",
    "- Podemos usar el atributo [`select_dtypes`](https://pandas.pydata.org/pandas-docs/stable/reference/api/pandas.DataFrame.select_dtypes.html) para obtener un nuevo DataFrame con columnas de tipo numérico\n",
    "- Podemos  convertir los atributos string a numérico (más adelante detallaremos esto)\n",
    "\n",
    "Las operaciones entre columnas se guian por el índice de fila\n",
    "- Si un índice no es compartido se rellena con un NaN\n",
    "- También podemos especificar `fill_value`\n",
    "\n",
    "Si tenemos NaN en filas o columnas podemos\n",
    "- Eliminarlos con el atributo `dropna(axis='columns', how='any')`\n",
    "- Rellenarlos con el atributo `fillna(valor)`"
   ]
  },
  {
   "cell_type": "markdown",
   "metadata": {},
   "source": [
    "### Reducciones\n",
    "\n",
    "Se pueden aplicar las reducciones que vimos en NumPy directamente sobre las columnas\n",
    "\n",
    "Algunos atributos para hacer reducción son\n",
    "- `count()`\n",
    "- `sum()` y `prod()`\n",
    "- `mean()` y `std()`\n",
    "- `max()` e `idxmax()`\n",
    "- entre otros\n",
    "\n",
    "También podemos usar el atributo `describe()` que nos entrega varios estadísticos de nuestras columnas"
   ]
  },
  {
   "cell_type": "markdown",
   "metadata": {},
   "source": [
    "**Ejercicio**\n",
    "\n",
    "Considera el dataFrame `df`\n",
    "\n",
    "- La pesa de la frutería  mide 0.1 Kg de más, obten un nuevo DataFrame que corrija este error\n",
    "- Encuentra los clientes que compraron más lechugas y más kilos de papas\n",
    "- Calcula el total de lechugas y kilos de papas vendidos\n",
    "- Calcula el promedio de lechugas y kilos de papa vendidos"
   ]
  },
  {
   "cell_type": "code",
   "execution_count": null,
   "metadata": {
    "ExecuteTime": {
     "end_time": "2020-06-06T19:55:39.168792Z",
     "start_time": "2020-06-06T19:55:39.092249Z"
    }
   },
   "outputs": [],
   "source": [
    "df.idxmax().unique()"
   ]
  },
  {
   "cell_type": "code",
   "execution_count": null,
   "metadata": {
    "ExecuteTime": {
     "end_time": "2020-06-06T19:55:39.245322Z",
     "start_time": "2020-06-06T19:55:39.170809Z"
    }
   },
   "outputs": [],
   "source": [
    "# Completa aquí\n",
    "#df.add([0, 0.1, 0.1])\n",
    "#df.loc[df.idxmax().unique()]\n",
    "df.mean().iloc[0:2]"
   ]
  },
  {
   "cell_type": "markdown",
   "metadata": {},
   "source": [
    "**Comentarios y solución**"
   ]
  },
  {
   "cell_type": "code",
   "execution_count": null,
   "metadata": {
    "ExecuteTime": {
     "end_time": "2020-06-06T19:55:39.449719Z",
     "start_time": "2020-06-06T19:55:39.247113Z"
    }
   },
   "outputs": [],
   "source": [
    "YouTubeVideo_formato('wBQNPVPjNHE')"
   ]
  },
  {
   "cell_type": "markdown",
   "metadata": {},
   "source": [
    "## Gráfico a partir de DataFrames\n",
    "\n",
    "Se pueden crear gráficos sencillos directamente de un [DataFrame](https://pandas.pydata.org/pandas-docs/stable/reference/api/pandas.DataFrame.plot.html)\n",
    "\n",
    "Para mayor flexibilidad podemos extraer la data y graficarla con matplotlib o seaborn"
   ]
  },
  {
   "cell_type": "code",
   "execution_count": null,
   "metadata": {
    "ExecuteTime": {
     "end_time": "2020-06-06T19:55:39.644082Z",
     "start_time": "2020-06-06T19:55:39.451559Z"
    }
   },
   "outputs": [],
   "source": [
    "fig, ax = plt.subplots(figsize=(6, 4), tight_layout=True)\n",
    "df.plot(ax=ax, kind='line', subplots=True);"
   ]
  },
  {
   "cell_type": "code",
   "execution_count": null,
   "metadata": {},
   "outputs": [],
   "source": []
  }
 ],
 "metadata": {
  "kernelspec": {
   "display_name": "Python 3",
   "language": "python",
   "name": "python3"
  },
  "language_info": {
   "codemirror_mode": {
    "name": "ipython",
    "version": 3
   },
   "file_extension": ".py",
   "mimetype": "text/x-python",
   "name": "python",
   "nbconvert_exporter": "python",
   "pygments_lexer": "ipython3",
   "version": "3.8.2"
  },
  "toc": {
   "base_numbering": 1,
   "nav_menu": {},
   "number_sections": true,
   "sideBar": true,
   "skip_h1_title": false,
   "title_cell": "Table of Contents",
   "title_sidebar": "Contents",
   "toc_cell": false,
   "toc_position": {
    "height": "calc(100% - 180px)",
    "left": "10px",
    "top": "150px",
    "width": "275.2px"
   },
   "toc_section_display": true,
   "toc_window_display": true
  }
 },
 "nbformat": 4,
 "nbformat_minor": 2
}
