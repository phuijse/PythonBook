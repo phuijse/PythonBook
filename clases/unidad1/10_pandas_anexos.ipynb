{
 "cells": [
  {
   "cell_type": "markdown",
   "id": "latin-asian",
   "metadata": {},
   "source": [
    "# Pandas: Tópicos extra\n",
    "\n",
    "En este anexo se revisan algunos tópicos específicos relacionados a la librería `pandas` que no fueron cubiertos anteriormente, estos son\n",
    "\n",
    "- Objeto `pandas.Series`\n",
    "- Gráficos a partir de objetos de pandas\n",
    "- Comunicación con bases de datos SQL\n",
    "- Guardar y leer datos en formato JSON y HDF5"
   ]
  },
  {
   "cell_type": "code",
   "execution_count": null,
   "id": "irish-scale",
   "metadata": {},
   "outputs": [],
   "source": [
    "%matplotlib inline\n",
    "import numpy as np\n",
    "import matplotlib.pyplot as plt\n",
    "import pandas as pd\n",
    "from IPython.display import YouTubeVideo\n",
    "from functools import partial\n",
    "YouTubeVideo_formato = partial(YouTubeVideo, modestbranding=1, disablekb=0,\n",
    "                               width=640, height=360, autoplay=0, rel=0, showinfo=0)"
   ]
  },
  {
   "cell_type": "markdown",
   "id": "legitimate-robinson",
   "metadata": {},
   "source": [
    "## Objeto `pandas.Series`\n",
    "\n",
    "El objeto [`pandas.Series`](https://pandas.pydata.org/pandas-docs/stable/reference/api/pandas.Series.html) es  un arreglo de una dimensión (vector) que **representa una secuencia** \n",
    "\n",
    "- Los elementos de la secuencia se identifican con un índice etiquetado `index`\n",
    "- Todos los elementos son de un mismo tipo `dtype`\n",
    "- La serie se identifica con un nombre `name`\n",
    "\n",
    "A continuación veremos algunas formas de crear `Series`\n",
    "\n",
    "**Construyendo un objeto `Series` a partir de un dataframe**\n",
    "\n",
    "Cuando pedimos **una columna** de un DataFrame el objeto retornado es de tipo `Series`\n",
    "\n",
    "Tecnicamente, **una fila** de un DataFrame también retorna como `Series` sin embargo los tipos se mezclan"
   ]
  },
  {
   "cell_type": "code",
   "execution_count": null,
   "id": "completed-bride",
   "metadata": {},
   "outputs": [],
   "source": [
    "clientes = ['Pablo', 'Marianna', 'Matthieu', 'Luis', 'Eliana', 'Cristobal']\n",
    "\n",
    "ventas = {\n",
    "    'lechugas [unidades]': [1, 0, 1, 2, 0, 0],\n",
    "    'papas [kilos]': [0.5, 2, 1.5, 1.2, 0, 5]\n",
    "}\n",
    "\n",
    "df = pd.DataFrame(data=ventas, index=clientes)"
   ]
  },
  {
   "cell_type": "code",
   "execution_count": null,
   "id": "sought-workshop",
   "metadata": {},
   "outputs": [],
   "source": [
    "display(f'La columna de lechugas es un objeto {type(df[\"lechugas [unidades]\"])}',\n",
    "        f'cuyo tipo es {df[\"lechugas [unidades]\"].dtype}',\n",
    "        f'La fila Matthieu es un objeto {type(df.loc[\"Matthieu\"])}',\n",
    "        f'cuyo tipo es {df.loc[\"Matthieu\"].dtype}') "
   ]
  },
  {
   "cell_type": "markdown",
   "id": "pharmaceutical-trouble",
   "metadata": {},
   "source": [
    "**Construyendo un objeto `Series` a partir de otras estructuras de datos**\n",
    "\n",
    "Un objeto `Series` se puede crear de forma más general usando el constructor\n",
    "\n",
    "```python\n",
    "pandas.Series(data=None, \n",
    "              index=None,\n",
    "              dtype=None, \n",
    "              name=None, \n",
    "              copy=False, \n",
    "              fastpath=False)\n",
    "\n",
    "```\n",
    "\n",
    "donde `data` puede ser un  diccionarios, una lista o un ndarray\n",
    "\n",
    "Por ejemplo:"
   ]
  },
  {
   "cell_type": "code",
   "execution_count": null,
   "id": "taken-cloud",
   "metadata": {},
   "outputs": [],
   "source": [
    "plan_diario= {'dormir': 7, 'comer': 1, 'quehaceres': 1, 'trabajo': 10, 'procastinar': 5}\n",
    "\n",
    "pd.Series(plan_diario, name='mi planificación de hoy')"
   ]
  },
  {
   "cell_type": "markdown",
   "id": "stopped-shell",
   "metadata": {},
   "source": [
    "Notas:\n",
    "\n",
    "- Una columna o una fila de un `DataFrame` es un `Series`\n",
    "- Varias `Series` se pueden unir para formar un `DataFrame`"
   ]
  },
  {
   "cell_type": "markdown",
   "id": "overall-portugal",
   "metadata": {},
   "source": [
    "## Gráfico a partir de DataFrames\n",
    "\n",
    "Se pueden crear gráficos sencillos directamente de un `DataFrame`\n",
    "\n",
    "Puedes revisar en detalle la API para graficar en este [link](https://pandas.pydata.org/pandas-docs/stable/reference/api/pandas.DataFrame.plot.html)"
   ]
  },
  {
   "cell_type": "code",
   "execution_count": null,
   "id": "italic-beaver",
   "metadata": {},
   "outputs": [],
   "source": [
    "fig, ax = plt.subplots(figsize=(6, 4), tight_layout=True)\n",
    "df.plot(ax=ax, kind='line', subplots=True);"
   ]
  },
  {
   "cell_type": "markdown",
   "id": "internal-valley",
   "metadata": {},
   "source": [
    "La API es útil para hacer gráficos rapidamente. Si necesitamos mayor flexibilidad que la que ofrece la API siempre podemos extraer la data y graficarla con `matplotlib` o `seaborn`"
   ]
  },
  {
   "cell_type": "markdown",
   "id": "sunrise-overall",
   "metadata": {},
   "source": [
    "## Lectura de bases de datos SQL\n",
    "\n",
    "\n",
    "Pandas es capaz de conectar y hacer consultas en lenguaje SQL a una base de datos externa y retornar el resultado como un DataFrame usando la función [`read_sql_query`](https://pandas.pydata.org/pandas-docs/stable/reference/api/pandas.read_sql_query.html) \n",
    "\n",
    "```python\n",
    "pd.read_sql_query(sql, # Consulta SQL en formato string\n",
    "                  con, # dirección a la base de datos o objeto de conexión\n",
    "                  index_col=None, # Selecciona la columna que actuara como índice del DataFrame\n",
    "                  parse_dates=None, # Igual que read_csv y read_excel\n",
    "                  ...\n",
    "                 )\n",
    "```\n",
    "\n",
    "También se puede usar el atributo\n",
    "\n",
    "```python\n",
    "df.to_sql(name, # string: el nombre de la tabla\n",
    "          con, # Engine con conexión\n",
    "          if_exists: str = 'fail', # Que hacer si la tabla ya existe: fail, replace, append\n",
    "          index: bool = True, # Escribir el índice del dataframe como columna\n",
    "          ...\n",
    "         )\n",
    "```\n",
    "\n",
    "**Qué es SQL?**\n",
    "\n",
    "Structured Query Languaje (SQL) es un lenguaje estándar ampliamente usado para consultar, crear, modificar y eliminar bases de datos relacionales. \n",
    "\n",
    "**Qué es una base de datos relacional?**\n",
    "\n",
    "Es un tipo de base de datos organizada como múltiples tablas. Por ejemplo\n",
    "\n",
    "\n",
    "|id_cliente | nombre | apellido |\n",
    "|----|----|----|\n",
    "|1| Pablo | Huijse |\n",
    "|2| Luis | Alvarez |\n",
    "|3| Cristobal | Navarro |\n",
    "|  | CLIENTES |  |\n",
    "\n",
    "|id_orden | platanos | manzanas | id_cliente |\n",
    "|----|----|----| ---- |\n",
    "|1| 0 | 5 | 1 |\n",
    "|2| 2 | 2 | 3 |\n",
    "|3| 3 | 1 | 1 |\n",
    "|  | ORDENES |  | | \n",
    "\n",
    "- Las filas se llaman entidades y las columnas atributos\n",
    "- Cada tabla tiene una lalve primaria: id_orden e id_cliente\n",
    "- La tabla ORDENES **está relacionada** a la tabla CLIENTES con la llave foranea: id_clientes\n",
    "- Las tablas no pueden tener el mismo nombre \n",
    "\n",
    "\n",
    "\n",
    "**Donde corre la base de datos relacional?**\n",
    "\n",
    "La base de datos relacional corre en un sistema de manejo \n",
    "\n",
    "Algunos ejemplos populares son MySQL, PostgreSQL y SQLite3\n",
    "\n",
    "\n",
    "**Ejemplo básico de una consulta SQL**\n",
    "\n",
    "SQL es un lenguaje de alto nivel. Algunos comandos comunes son\n",
    "\n",
    "- `SELECT`: recuperar un subconjunto de la tabla\n",
    "- `INSERT`: insertar datos en una tabla\n",
    "- `UPDATE`: actualizar datos en una tabla\n",
    "- `DELETE`: eliminar datos de la tabla\n",
    "\n",
    "La tabla que se quiere manipular se selecciona con el keyword `FROM`\n",
    "\n",
    "Se agregan condiciones usando el keyword `WHERE`\n",
    "\n",
    "Se puede usar `*` como alias para \"todas las columnas\"\n",
    "\n",
    "Por ejemplo\n",
    "```SQL\n",
    "    SELECT A, B, C FROM mi_tabla WHERE D > 1\n",
    "```\n",
    "\n",
    "Esto recupera las valores de las columnas A, B y C que tegan un valor de la columna D mayor que 1 a partir de la tabla \"mi_tabla\" "
   ]
  },
  {
   "cell_type": "markdown",
   "id": "random-cosmetic",
   "metadata": {},
   "source": [
    "**Ejercicio 1: Crear una tabla SQL a partir de un DataFrame**"
   ]
  },
  {
   "cell_type": "code",
   "execution_count": null,
   "id": "contemporary-realtor",
   "metadata": {},
   "outputs": [],
   "source": [
    "# Descargamos los datos y creamos el dataframe\n",
    "!wget -c http://www.censo2017.cl/wp-content/uploads/2017/12/Cantidad-de-Viviendas-por-Tipo.xlsx\n",
    "df = pd.read_excel(\"Cantidad-de-Viviendas-por-Tipo.xlsx\", \n",
    "                   sheet_name=1, # Importamos la segunda hoja (vivienda)\n",
    "                   usecols=list(range(1, 20)), # Importamos las columnas 1 a 20\n",
    "                   header=1, # El header está en la segunda fila\n",
    "                   skiprows=[2], # Eliminamos la fila 2 ya que es invalida\n",
    "                   index_col='ORDEN' # Usaremos el orden de las comunas como índice\n",
    "                  ).dropna() # Eliminamos las filas con NaN\n",
    "\n",
    "#Creamos una base de datos e insertartamos un DataFrame como tabla\n",
    "\n",
    "import sqlite3  # SQLite3 es parte de la librería estándar de Python\n",
    "\n",
    "# Creamos una base de datos persistente\n",
    "with sqlite3.connect('censo.db') as conn:\n",
    "\n",
    "    df.to_sql(\"censo_viviendas\", # Insertamos una tabla llamada censo_viviendos\n",
    "              conn, # Usamos el objeto conexión que acabos de crear\n",
    "              if_exists='replace', \n",
    "              index=False)"
   ]
  },
  {
   "cell_type": "markdown",
   "id": "coastal-excuse",
   "metadata": {},
   "source": [
    "**Ejercicio 2**\n",
    "\n",
    "Escriba y pruebe una consulta SQL que recupere un `DataFrame` con las columnas \"Viviendas Particulares Ocupadas con Moradores Presentes\" y \"NOMBRE COMUNA\" para la provincia de Valdivia a partir de los datos del censo usados en la lección de \"exploración y manipulación de datos con pandas\"\n",
    "\n",
    "Indicación: Cuando escriba su consulta encierre los nombres de las columnas con paréntesis cuadrados. Esto es necesario cuando los nombres contienen espacios en blanco"
   ]
  },
  {
   "cell_type": "code",
   "execution_count": null,
   "id": "mechanical-advocacy",
   "metadata": {},
   "outputs": [],
   "source": [
    "# Solución: \n",
    "\n",
    "arg1 = \"Viviendas Particulares Ocupadas con Moradores Presentes\"\n",
    "arg2 = \"NOMBRE COMUNA\"\n",
    "arg3 = \"NOMBRE PROVINCIA\"\n",
    "sql_string = f\"SELECT [{arg1}], [{arg2}] FROM censo_viviendas WHERE [{arg3}] = 'VALDIVIA'\"\n",
    "display(sql_string)\n",
    "with sqlite3.connect('censo.db') as conn:    \n",
    "    df = pd.read_sql_query(sql_string, conn)\n",
    "display(df)"
   ]
  },
  {
   "cell_type": "markdown",
   "id": "electronic-disco",
   "metadata": {},
   "source": [
    "**Comentarios y solución paso a paso**"
   ]
  },
  {
   "cell_type": "code",
   "execution_count": null,
   "id": "consecutive-needle",
   "metadata": {},
   "outputs": [],
   "source": [
    "YouTubeVideo_formato('VsoZ1oh8Az8')"
   ]
  },
  {
   "cell_type": "markdown",
   "id": "pursuant-technology",
   "metadata": {},
   "source": [
    "**Notas adicionales sobre SQLite**\n",
    "\n",
    "- sqlite permite conectar a una base de datos local: RAM, disco, o disco externo montado\n",
    "- sqlite no está diseñado para soportar múltiples usuarios conectados a una misma base de datos\n",
    "- Otras alternativas: [SQL Alchemy](https://www.sqlalchemy.org/), [PostgreSQL+Python](http://initd.org/psycopg/), [Peewee](http://docs.peewee-orm.com/en/latest/)"
   ]
  },
  {
   "cell_type": "markdown",
   "id": "coordinated-orbit",
   "metadata": {},
   "source": [
    "## Guardar y leer una tabla en formato JSON\n",
    "\n",
    "Podemos usar el atributo [`to_json`](https://pandas.pydata.org/pandas-docs/stable/reference/api/pandas.DataFrame.to_json.html) para convertir un dataframe a este formato\n",
    "\n",
    "```python\n",
    "df.to_json(\n",
    "    path_or_buf = None, # Ubicación en disco\n",
    "    orient = None, # Indica el formato del string JSON\n",
    "    ...\n",
    "    )\n",
    "```\n",
    "\n",
    "Por ejemplo\n",
    "\n",
    "```python\n",
    ">>> df.to_json(\"pandas.json\", orient='table')\n",
    "```\n",
    "\n",
    "crea un string pandas.json en el directorio actual\n",
    "\n",
    "Luego la función `read_json`\n",
    "\n",
    "```python\n",
    ">>> df = pd.read_json(\"pandas.json\", orient='table')\n",
    "```\n",
    "\n",
    "regenera el DataFrame que teniamos"
   ]
  },
  {
   "cell_type": "markdown",
   "id": "disabled-concert",
   "metadata": {},
   "source": [
    "## Guardar y leer una tabla en formato HDF5\n",
    "\n",
    "Podemos usar el atributo `to_hdf` para convertir nuestra tabla a formato HDF5\n",
    "\n",
    "```python\n",
    "df.to_hdf(path_or_buf, # Path completo con nombre de archivo\n",
    "          key: str, # Llave maestra del archivo\n",
    "          mode: str = 'a', # Agrega lineas a un archivo existente (a) o crea una archivo nuevo (w)\n",
    "          ...\n",
    "         )\n",
    "```\n",
    "\n",
    "Por ejemplo\n",
    "\n",
    "```python\n",
    "df.to_hdf(\"pandas_hdf.h5\", key='excel', mode='w')\n",
    "```\n",
    "\n",
    "crea un archivo pandas_hdf.h5 en el directorio actual\n",
    "\n",
    "Para lectura podemos usar la función `read_hdf`\n",
    "\n",
    "```python\n",
    "mi_tabla_recuperada = pd.read_hdf(\"pandas_hdf.h5\", key='/excel', mode='r')\n",
    "```\n",
    "\n",
    "```{note}\n",
    "Para tener esta funcionalidad se requiere instalar Pytables mayor a 3.5: https://github.com/PyTables/PyTables/issues/719\n",
    "```\n",
    "\n",
    "Si necesita trabajar directamente sobre un archivo HDF5 en Python puede usar las librerías `PyTables` o `h5py`. A continuación se muestra un ejemplo con esta última:\n",
    "\n",
    "```python\n",
    "import h5py\n",
    "with h5py.File(\"pandas_hdf.h5\", mode=\"r\") as f:\n",
    "    print(f[\"excel\"].keys())\n",
    "    print(f[\"excel\"]['block0_items'][()])\n",
    "```"
   ]
  },
  {
   "cell_type": "code",
   "execution_count": null,
   "id": "wireless-bahamas",
   "metadata": {},
   "outputs": [],
   "source": []
  }
 ],
 "metadata": {
  "kernelspec": {
   "display_name": "Python 3.7.10 64-bit",
   "language": "python",
   "name": "python371064bit09184eecf8b743129c3338ccdb3737f2"
  },
  "language_info": {
   "codemirror_mode": {
    "name": "ipython",
    "version": 3
   },
   "file_extension": ".py",
   "mimetype": "text/x-python",
   "name": "python",
   "nbconvert_exporter": "python",
   "pygments_lexer": "ipython3",
   "version": "3.7.10"
  }
 },
 "nbformat": 4,
 "nbformat_minor": 5
}
