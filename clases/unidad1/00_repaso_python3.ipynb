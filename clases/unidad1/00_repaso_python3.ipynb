{
 "cells": [
  {
   "cell_type": "code",
   "execution_count": null,
   "metadata": {
    "ExecuteTime": {
     "end_time": "2020-05-14T14:48:13.965156Z",
     "start_time": "2020-05-14T14:48:13.960923Z"
    }
   },
   "outputs": [],
   "source": [
    "import this"
   ]
  },
  {
   "cell_type": "markdown",
   "metadata": {},
   "source": [
    "# Sacandole el jugo a Python 3\n"
   ]
  },
  {
   "cell_type": "markdown",
   "metadata": {},
   "source": [
    "## Dynamic typing"
   ]
  },
  {
   "cell_type": "code",
   "execution_count": null,
   "metadata": {
    "ExecuteTime": {
     "end_time": "2020-05-14T14:52:35.955610Z",
     "start_time": "2020-05-14T14:52:35.946823Z"
    }
   },
   "outputs": [],
   "source": [
    "x = 1\n",
    "type(x)"
   ]
  },
  {
   "cell_type": "markdown",
   "metadata": {},
   "source": [
    "## Funciones\n",
    "\n",
    "Argumentos posicionales (mandatorios), keywords, lista de argumentos y lista con nombre especificado"
   ]
  },
  {
   "cell_type": "code",
   "execution_count": null,
   "metadata": {
    "ExecuteTime": {
     "end_time": "2020-05-14T14:53:50.455791Z",
     "start_time": "2020-05-14T14:53:50.444949Z"
    },
    "cell_style": "center",
    "code_folding": []
   },
   "outputs": [],
   "source": [
    "def foo(x, y=100, *args, **kwargs):\n",
    "    print(x)\n",
    "    print(y)\n",
    "    print(args)\n",
    "    print(kwargs)\n",
    "    return x\n",
    "\n",
    "\n",
    "foo(10, 20, 'asd', 21, 54, bar=12)"
   ]
  },
  {
   "cell_type": "code",
   "execution_count": null,
   "metadata": {
    "ExecuteTime": {
     "end_time": "2020-05-14T14:54:35.673851Z",
     "start_time": "2020-05-14T14:54:35.668901Z"
    },
    "cell_style": "center"
   },
   "outputs": [],
   "source": [
    "def foo(x, y=None):\n",
    "    y = 1. if y is None else y\n",
    "    return x + y\n",
    "\n",
    "print(foo(1))\n",
    "print(foo(1, 2))"
   ]
  },
  {
   "cell_type": "markdown",
   "metadata": {},
   "source": [
    "## Clases\n",
    "\n",
    "Herencia de clases\n"
   ]
  },
  {
   "cell_type": "code",
   "execution_count": null,
   "metadata": {
    "ExecuteTime": {
     "end_time": "2020-05-14T14:55:12.999309Z",
     "start_time": "2020-05-14T14:55:12.993297Z"
    }
   },
   "outputs": [],
   "source": [
    "class Fruta:\n",
    "    def __init__(self, nombre, color):\n",
    "        self.nombre = nombre # Atributos públicos\n",
    "        self.color = color\n",
    "        self.__sabor =  'asd' # Este es un atributo privado\n",
    "        \n",
    "class Manzana(Fruta):\n",
    "    def __init__(self):\n",
    "        super().__init__(\"Manzana\", \"Rojo\") # Llamamos al constructor de Fruta con super\n",
    "    \n",
    "mi_manzana = Manzana()\n",
    "print(mi_manzana.color)\n",
    "#mi_manzana.__atributo_privado"
   ]
  },
  {
   "cell_type": "markdown",
   "metadata": {},
   "source": [
    "## Imprimiendo\n",
    "\n",
    "En Python 3 `print` es una función, podemos imprimir texto formateado como"
   ]
  },
  {
   "cell_type": "code",
   "execution_count": null,
   "metadata": {
    "ExecuteTime": {
     "end_time": "2020-05-14T14:57:30.661352Z",
     "start_time": "2020-05-14T14:57:30.654587Z"
    }
   },
   "outputs": [],
   "source": [
    "nombre = 'pablo'\n",
    "apellido = 'huijse'\n",
    "edad = 33\n",
    "peso = 80.2\n",
    "\n",
    "print(\"%s %s\\t edad: %d peso: %0.4f\" %(nombre, apellido, edad, peso))\n",
    "print(\"{1} {0}\\t edad: {2} peso: {3:0.4f}\".format(apellido, nombre, edad, peso))\n",
    "print(nombre, apellido, edad, peso, sep=' ')"
   ]
  },
  {
   "cell_type": "markdown",
   "metadata": {},
   "source": [
    "## Manejadores de contexto\n",
    "\n",
    "Usando la palabra clave with no es necesario preocuparse de cerrar el archivo file.txt"
   ]
  },
  {
   "cell_type": "code",
   "execution_count": null,
   "metadata": {
    "ExecuteTime": {
     "end_time": "2020-05-14T14:58:59.283657Z",
     "start_time": "2020-05-14T14:58:59.160835Z"
    }
   },
   "outputs": [],
   "source": [
    "!echo \"asdasdasdasd\" > file.txt\n",
    "\n",
    "with open('file.txt') as f:\n",
    "    contents = f.read()\n",
    "\n",
    "print(contents)"
   ]
  },
  {
   "cell_type": "markdown",
   "metadata": {},
   "source": [
    "## Decoradores\n",
    "\n",
    "Funciones o clases que pueden modificar el funcionamiento de otra función"
   ]
  },
  {
   "cell_type": "code",
   "execution_count": null,
   "metadata": {
    "ExecuteTime": {
     "end_time": "2020-05-14T15:00:08.164278Z",
     "start_time": "2020-05-14T15:00:08.153976Z"
    }
   },
   "outputs": [],
   "source": [
    "def decorator(func):    \n",
    "    def new_func(x):\n",
    "        return func(x) + 10\n",
    "    return new_func\n",
    "\n",
    "@decorator\n",
    "def foo(x):\n",
    "    return x +1\n",
    "\n",
    "foo(10)"
   ]
  },
  {
   "cell_type": "markdown",
   "metadata": {},
   "source": [
    "## Tipos iterables: listas, tuplas y rangos\n",
    "\n",
    "Son tipos de datos secuenciales, es decir pueden ser iterados"
   ]
  },
  {
   "cell_type": "code",
   "execution_count": null,
   "metadata": {
    "ExecuteTime": {
     "end_time": "2020-05-14T15:00:49.885249Z",
     "start_time": "2020-05-14T15:00:49.876150Z"
    }
   },
   "outputs": [],
   "source": [
    "lista_vacia = []\n",
    "print(lista_vacia.append(1))\n",
    "lista_vacia.append('hola')\n",
    "print(lista_vacia)\n",
    "print(lista_vacia.pop())\n",
    "print(lista_vacia)\n",
    "lista_vacia[0] = 'chao'\n",
    "print(lista_vacia)"
   ]
  },
  {
   "cell_type": "code",
   "execution_count": null,
   "metadata": {
    "ExecuteTime": {
     "end_time": "2020-05-14T15:01:06.445770Z",
     "start_time": "2020-05-14T15:01:06.436638Z"
    }
   },
   "outputs": [],
   "source": [
    "una_lista = ['a', 'b', 'c', 1, 2, 3, 2.4, 'asd']\n",
    "\n",
    "for elemento in una_lista:\n",
    "    print(elemento, end=' ')"
   ]
  },
  {
   "cell_type": "markdown",
   "metadata": {},
   "source": [
    "\"Desempacando\" (unpacking) una lista"
   ]
  },
  {
   "cell_type": "code",
   "execution_count": null,
   "metadata": {
    "ExecuteTime": {
     "end_time": "2020-05-14T15:02:01.005832Z",
     "start_time": "2020-05-14T15:02:01.001126Z"
    }
   },
   "outputs": [],
   "source": [
    "primero, *medio, ultimo = una_lista\n",
    "print(primero)\n",
    "print(medio)\n",
    "print(ultimo)"
   ]
  },
  {
   "cell_type": "code",
   "execution_count": null,
   "metadata": {
    "ExecuteTime": {
     "end_time": "2020-05-14T15:02:21.918097Z",
     "start_time": "2020-05-14T15:02:21.909842Z"
    }
   },
   "outputs": [],
   "source": [
    "primero, ultimo = ultimo, primero\n",
    "print(primero, ultimo)"
   ]
  },
  {
   "cell_type": "markdown",
   "metadata": {},
   "source": [
    "Imprimiendo una lista completa"
   ]
  },
  {
   "cell_type": "code",
   "execution_count": null,
   "metadata": {
    "ExecuteTime": {
     "end_time": "2020-05-14T15:02:34.457197Z",
     "start_time": "2020-05-14T15:02:34.450679Z"
    }
   },
   "outputs": [],
   "source": [
    "print(una_lista)\n",
    "print(*una_lista)\n",
    "print(*una_lista, sep='-', end=' fin!')"
   ]
  },
  {
   "cell_type": "markdown",
   "metadata": {},
   "source": [
    "Obteniendo el largo de una lista"
   ]
  },
  {
   "cell_type": "code",
   "execution_count": null,
   "metadata": {
    "ExecuteTime": {
     "end_time": "2020-05-14T15:02:57.419295Z",
     "start_time": "2020-05-14T15:02:57.412540Z"
    }
   },
   "outputs": [],
   "source": [
    "len(una_lista)"
   ]
  },
  {
   "cell_type": "markdown",
   "metadata": {},
   "source": [
    "Tomando slices (trozos) de una lista"
   ]
  },
  {
   "cell_type": "code",
   "execution_count": null,
   "metadata": {
    "ExecuteTime": {
     "end_time": "2020-05-14T15:03:22.611482Z",
     "start_time": "2020-05-14T15:03:22.605620Z"
    }
   },
   "outputs": [],
   "source": [
    "print(una_lista[0])\n",
    "print(una_lista[1:4])\n",
    "print(una_lista[-1])\n",
    "print(una_lista[::2])\n",
    "print(una_lista[::-1])"
   ]
  },
  {
   "cell_type": "markdown",
   "metadata": {},
   "source": [
    "Las tuplas son similares a las listas pero inmutables (no se pueden modificar)"
   ]
  },
  {
   "cell_type": "code",
   "execution_count": null,
   "metadata": {
    "ExecuteTime": {
     "end_time": "2020-05-14T15:03:34.568102Z",
     "start_time": "2020-05-14T15:03:34.419332Z"
    }
   },
   "outputs": [],
   "source": [
    "tupla = (0, 10, 51243, 'asd')\n",
    "print(tupla)\n",
    "print(tupla[0])\n",
    "tupla[0] = 'hola'"
   ]
  },
  {
   "cell_type": "code",
   "execution_count": null,
   "metadata": {
    "ExecuteTime": {
     "end_time": "2020-05-14T15:03:47.201722Z",
     "start_time": "2020-05-14T15:03:47.196624Z"
    }
   },
   "outputs": [],
   "source": [
    "for elemento in tupla:\n",
    "    print(elemento, end=' ')"
   ]
  },
  {
   "cell_type": "markdown",
   "metadata": {},
   "source": [
    "Usando `range` para crear un iterador de números enteros"
   ]
  },
  {
   "cell_type": "code",
   "execution_count": null,
   "metadata": {
    "ExecuteTime": {
     "end_time": "2020-05-14T15:03:58.634421Z",
     "start_time": "2020-05-14T15:03:58.628231Z"
    }
   },
   "outputs": [],
   "source": [
    "for element in range(0, 20, 2):\n",
    "    print(element, end=' ')\n"
   ]
  },
  {
   "cell_type": "markdown",
   "metadata": {},
   "source": [
    "Usando `enumerate` en lugar de un índice creado por `range`"
   ]
  },
  {
   "cell_type": "code",
   "execution_count": null,
   "metadata": {
    "ExecuteTime": {
     "end_time": "2020-05-14T15:05:09.609659Z",
     "start_time": "2020-05-14T15:05:09.602326Z"
    }
   },
   "outputs": [],
   "source": [
    "for i in range(len(una_lista)):\n",
    "    print(\"{0}, {1}\".format(i, una_lista[i]))\n",
    "\n",
    "for i, element in enumerate(una_lista):\n",
    "    print(\"{0}, {1}\".format(i, element))    "
   ]
  },
  {
   "cell_type": "markdown",
   "metadata": {},
   "source": [
    "## Comprensiones de listas (list comprehensions)\n",
    "\n",
    "Son una forma consisa de crear listas"
   ]
  },
  {
   "cell_type": "code",
   "execution_count": null,
   "metadata": {
    "ExecuteTime": {
     "end_time": "2020-05-14T15:05:30.061060Z",
     "start_time": "2020-05-14T15:05:30.055536Z"
    }
   },
   "outputs": [],
   "source": [
    "[x for x in range(20)]"
   ]
  },
  {
   "cell_type": "code",
   "execution_count": null,
   "metadata": {
    "ExecuteTime": {
     "end_time": "2020-05-14T15:06:51.827988Z",
     "start_time": "2020-05-14T15:06:51.821494Z"
    }
   },
   "outputs": [],
   "source": [
    "texto_en_minuscula = ['Un', 'día', 'vi', 'una', 'vaca', 'vestida', 'de', 'uniforme']\n",
    "\n",
    "texto_en_mayuscula = []\n",
    "for palabra in texto_en_minuscula:\n",
    "    texto_en_mayuscula.append(palabra.upper())\n",
    "print(texto_en_mayuscula)\n",
    "\n",
    "print([palabra.upper() for palabra in texto_en_minuscula])"
   ]
  },
  {
   "cell_type": "markdown",
   "metadata": {},
   "source": [
    "Se puede hacer una doble iteración"
   ]
  },
  {
   "cell_type": "code",
   "execution_count": null,
   "metadata": {
    "ExecuteTime": {
     "end_time": "2020-05-14T15:06:59.423405Z",
     "start_time": "2020-05-14T15:06:59.415299Z"
    }
   },
   "outputs": [],
   "source": [
    "print([(x, y) for x in range(5) for y in range(5)])"
   ]
  },
  {
   "cell_type": "markdown",
   "metadata": {},
   "source": [
    "También se pueden aplicar condicionales en el iterador y/o en los valores"
   ]
  },
  {
   "cell_type": "code",
   "execution_count": null,
   "metadata": {
    "ExecuteTime": {
     "end_time": "2020-05-14T15:07:18.154920Z",
     "start_time": "2020-05-14T15:07:18.150987Z"
    }
   },
   "outputs": [],
   "source": [
    "# condicional en el iterador\n",
    "print([x for x in range(10) if x % 2 == 0])"
   ]
  },
  {
   "cell_type": "code",
   "execution_count": null,
   "metadata": {
    "ExecuteTime": {
     "end_time": "2020-05-14T15:07:27.147652Z",
     "start_time": "2020-05-14T15:07:27.143341Z"
    }
   },
   "outputs": [],
   "source": [
    "# conditional en el valor\n",
    "print([x**2 if x < 5 else x for x in range(10)])"
   ]
  },
  {
   "cell_type": "markdown",
   "metadata": {},
   "source": [
    "Puede usarse `zip` parar iterar sobre más de una lista"
   ]
  },
  {
   "cell_type": "code",
   "execution_count": null,
   "metadata": {
    "ExecuteTime": {
     "end_time": "2020-05-14T15:07:50.759825Z",
     "start_time": "2020-05-14T15:07:50.749407Z"
    }
   },
   "outputs": [],
   "source": [
    "lista1 = [x for x in range(20)]\n",
    "lista2 = [10]*20\n",
    "lista3 = texto_en_minuscula\n",
    "\n",
    "for elemento1, elemento2, elemento3 in zip(lista1, lista2, lista3):\n",
    "    print(elemento1, elemento2, elemento3, sep=', ')"
   ]
  },
  {
   "cell_type": "markdown",
   "metadata": {},
   "source": [
    "## Sets\n",
    "\n",
    "Set: colección desordenada de objetos (sin duplicados)\n",
    "\n",
    "Es posible iterar en un set, agregar/remover elementos y aplicar operaciones lógicas entre sets (intersección, union, diferencia)\n",
    "\n",
    "Tiene complejidad O(1) de búsqueda (muy eficientes). Se deben preferir antes que las listas cuando\n",
    "- La colección es de gran tamaño\n",
    "- No hay elementos repetidos\n",
    "- Se realizarán múltiples búsquedas en la colección\n",
    "\n",
    "Para ver si un elemento es parte de una lista, set, diccionario usamos `in`\n",
    "\n"
   ]
  },
  {
   "cell_type": "code",
   "execution_count": null,
   "metadata": {
    "ExecuteTime": {
     "end_time": "2020-05-14T15:08:58.310990Z",
     "start_time": "2020-05-14T15:08:58.294202Z"
    }
   },
   "outputs": [],
   "source": [
    "with open(\"zen.txt\") as archivo:\n",
    "    zen = [palabra.strip(\".,-*!\").lower() for linea in archivo for palabra in linea.split()]\n",
    "\n",
    "print(zen)"
   ]
  },
  {
   "cell_type": "code",
   "execution_count": null,
   "metadata": {
    "ExecuteTime": {
     "end_time": "2020-05-14T15:09:17.126721Z",
     "start_time": "2020-05-14T15:09:17.112539Z"
    }
   },
   "outputs": [],
   "source": [
    "s = set(zen)\n",
    "\n",
    "%timeit -n20 'Although' in s\n",
    "\n",
    "%timeit -n20 'Although' in zen"
   ]
  },
  {
   "cell_type": "code",
   "execution_count": null,
   "metadata": {},
   "outputs": [],
   "source": [
    "print('pablo' in s)\n",
    "s.add('pablo')\n",
    "print('pablo' in s)\n",
    "s.remove('Zen')\n",
    "print('Zen' in s)"
   ]
  },
  {
   "cell_type": "markdown",
   "metadata": {},
   "source": [
    "## [Contenedores especializados](https://docs.python.org/3.7/library/collections.html)"
   ]
  },
  {
   "cell_type": "code",
   "execution_count": null,
   "metadata": {
    "ExecuteTime": {
     "end_time": "2020-05-14T15:10:30.256865Z",
     "start_time": "2020-05-14T15:10:30.248432Z"
    },
    "scrolled": true
   },
   "outputs": [],
   "source": [
    "from collections import Counter\n",
    "\n",
    "Counter(zen)"
   ]
  },
  {
   "cell_type": "markdown",
   "metadata": {},
   "source": [
    "## Diccionario\n",
    "\n",
    "Es una secuencia indexada por llaves (*keys*). \n",
    "\n",
    "- Al igual que el set tienen complejidad de búsqueda O(1)\n",
    "- A diferencia del set se puede buscar un elemento usando su llave"
   ]
  },
  {
   "cell_type": "code",
   "execution_count": null,
   "metadata": {
    "ExecuteTime": {
     "end_time": "2020-05-14T15:11:03.963713Z",
     "start_time": "2020-05-14T15:11:03.950221Z"
    }
   },
   "outputs": [],
   "source": [
    "d = {'nombre': 'pablo', 'apellido': 'huijse', 'edad': 33, 'peso': 80.1}\n",
    "\n",
    "# Leyendo el valor asociado a una llave\n",
    "print(d['apellido'])\n",
    "# Buscando si un elemento existe\n",
    "print('edad' in d)\n",
    "# Retorna las llaves:\n",
    "print(list(d))\n",
    "# Se puede iterar en llaves y valores\n",
    "for llave, valor in d.items():\n",
    "    print(llave, valor, sep=': ')"
   ]
  },
  {
   "cell_type": "markdown",
   "metadata": {},
   "source": [
    "## Iteradores\n",
    "\n",
    "Podemos usar `iter` para crear un iterador a partir de un objeto iterable (lista, tupla, rango, string, diccionario)\n",
    "\n",
    "El iterador se evalua con `next` para escupir el próximo elemento, el cual sale del iterador (lazy, single-use)\n",
    "\n",
    "Son ventajosos en términos de uso de memoría (la lista completa no se mapea en memoria)"
   ]
  },
  {
   "cell_type": "code",
   "execution_count": null,
   "metadata": {
    "ExecuteTime": {
     "end_time": "2020-05-14T15:11:38.280917Z",
     "start_time": "2020-05-14T15:11:38.265859Z"
    }
   },
   "outputs": [],
   "source": [
    "iterador = iter(texto_en_minuscula)\n",
    "\n",
    "print(next(iterador))\n",
    "print(next(iterador))\n",
    "print(list(iterador))\n",
    "# El iterador arroja una excepción StopIteration cuando se termina\n",
    "print(next(iterador))"
   ]
  },
  {
   "cell_type": "code",
   "execution_count": null,
   "metadata": {
    "ExecuteTime": {
     "end_time": "2020-05-14T15:11:38.977579Z",
     "start_time": "2020-05-14T15:11:38.967768Z"
    }
   },
   "outputs": [],
   "source": [
    "iterador = iter(texto_en_minuscula)\n",
    "for elemento in iterador:\n",
    "    print(elemento, end=' ')\n",
    "\n",
    "# El iterador queda vacio luego de usarse    \n",
    "print(list(iterador))"
   ]
  },
  {
   "cell_type": "markdown",
   "metadata": {},
   "source": [
    "Escribiendo un iterador"
   ]
  },
  {
   "cell_type": "code",
   "execution_count": null,
   "metadata": {},
   "outputs": [],
   "source": [
    "class Logrange:\n",
    "    \n",
    "    def __init__(self, start=-6, end=6):\n",
    "        self.num = start\n",
    "        self.end = end\n",
    "    \n",
    "    def __iter__(self):\n",
    "        return self\n",
    "    \n",
    "    def __next__(self):\n",
    "        a = self.num\n",
    "        if a > self.end:\n",
    "            raise StopIteration\n",
    "        self.num += 1\n",
    "        return 10**a\n",
    "        \n",
    "for elemento in Logrange():\n",
    "    print(elemento, end=' ')"
   ]
  },
  {
   "cell_type": "markdown",
   "metadata": {},
   "source": [
    "## Generadores (generator function)\n",
    "\n",
    "Funciones que retornan un iterador\n",
    "\n",
    "Se usa el keyword reservado `yield`"
   ]
  },
  {
   "cell_type": "code",
   "execution_count": null,
   "metadata": {
    "scrolled": true
   },
   "outputs": [],
   "source": [
    "def gen():\n",
    "    for i in range(10):\n",
    "        yield i**2\n",
    "        \n",
    "for x in gen():\n",
    "    print(x, end=' ')\n",
    "#print(*gen())"
   ]
  },
  {
   "cell_type": "markdown",
   "metadata": {},
   "source": [
    "## Expresión generadora (generator expression)\n",
    "- Se construye como una comprensión de lista pero usando () en vez de []\n",
    "- Produce una \"receta\" en lugar de una lista\n",
    "- Se consume una vez y muere"
   ]
  },
  {
   "cell_type": "code",
   "execution_count": null,
   "metadata": {},
   "outputs": [],
   "source": [
    "gen = (palabra for palabra in texto_en_minuscula)\n",
    "print(gen)\n",
    "print(next(gen))\n",
    "print(next(gen))\n",
    "print(next(gen))\n",
    "for palabra in gen:\n",
    "    print(palabra, end=' ')"
   ]
  },
  {
   "cell_type": "markdown",
   "metadata": {},
   "source": [
    "## Manejo de excepciones\n",
    "\n",
    "### try y except"
   ]
  },
  {
   "cell_type": "code",
   "execution_count": null,
   "metadata": {
    "ExecuteTime": {
     "end_time": "2020-05-14T15:13:08.438424Z",
     "start_time": "2020-05-14T15:13:08.429982Z"
    }
   },
   "outputs": [],
   "source": [
    "def foo(x):\n",
    "    try:\n",
    "        return x/10\n",
    "    except TypeError: \n",
    "        print(\"Esta excepcion se captura\")    \n",
    "    else:\n",
    "        print(\"Estas excepciones se propagan\")\n",
    "    finally:\n",
    "        print(\"Esto corre al final de cualquier camino (cleanup)\")\n",
    "        \n",
    "foo('asd')        "
   ]
  },
  {
   "cell_type": "markdown",
   "metadata": {},
   "source": [
    "### raise y assert"
   ]
  },
  {
   "cell_type": "code",
   "execution_count": null,
   "metadata": {
    "ExecuteTime": {
     "end_time": "2020-05-14T15:13:52.319454Z",
     "start_time": "2020-05-14T15:13:52.307034Z"
    }
   },
   "outputs": [],
   "source": [
    "raise TypeError(\"Algo no está bien aquí\")"
   ]
  },
  {
   "cell_type": "code",
   "execution_count": null,
   "metadata": {
    "ExecuteTime": {
     "end_time": "2020-05-14T15:14:43.896104Z",
     "start_time": "2020-05-14T15:14:43.884950Z"
    }
   },
   "outputs": [],
   "source": [
    "def foo(x):\n",
    "    assert type(x) == int, \"El argumento no es un entero\"\n",
    "    return x + 1\n",
    "\n",
    "foo('a')"
   ]
  },
  {
   "cell_type": "markdown",
   "metadata": {},
   "source": [
    "## Expresión lambda\n",
    "\n",
    "Son funciones de una linea con la estructura\n",
    "    \n",
    "    foo = lambda argumentos: expresión\n",
    "    \n",
    "Una lambda puede tener zero o más argumentos y siempre solo **una** expresión \n",
    "\n",
    "En general se usan para definir funciones anónimas, funciones que se ocupan sólo una vez en el código\n",
    "\n",
    "`lambda` + `map` = comprensión de lista"
   ]
  },
  {
   "cell_type": "code",
   "execution_count": null,
   "metadata": {},
   "outputs": [],
   "source": [
    "foo = lambda x, y : x+1/y\n",
    "\n",
    "foo(1, 2)"
   ]
  },
  {
   "cell_type": "code",
   "execution_count": null,
   "metadata": {},
   "outputs": [],
   "source": [
    "list(map(lambda x : x**2, range(10)))"
   ]
  },
  {
   "cell_type": "code",
   "execution_count": null,
   "metadata": {},
   "outputs": [],
   "source": [
    "list(filter(lambda x : x % 2 == 0, range(10)))"
   ]
  },
  {
   "cell_type": "code",
   "execution_count": null,
   "metadata": {},
   "outputs": [],
   "source": [
    "parejas = [(1, 'uno'), (2, 'dos'), (3, 'tres'), (4, 'cuatro')]\n",
    "#pairs.sort(key=lambda pair: pair[1])\n",
    "print(sorted(parejas, key=lambda p: p[0]))\n",
    "print(sorted(parejas, key=lambda p: p[1]))\n",
    "print(sorted(parejas, key=lambda p: len(p[1])))"
   ]
  },
  {
   "cell_type": "markdown",
   "metadata": {},
   "source": [
    "## Debugging con ipdb\n",
    "\n",
    "Dos maneras para encontrar *bugs* con ipython\n",
    "\n",
    "- Post-mortem: Entra a modo debug con ipdb cuando ocurre una excepción"
   ]
  },
  {
   "cell_type": "code",
   "execution_count": null,
   "metadata": {},
   "outputs": [],
   "source": [
    "%pdb"
   ]
  },
  {
   "cell_type": "markdown",
   "metadata": {},
   "source": [
    "Comandos en ipdb\n",
    "- a: Muestra los valores de los argumentos\n",
    "- l: Muestra la linea de código en que estamos posicionados\n",
    "- u/d: Sube y baja en el stack\n",
    "- q: Salir del modo debug"
   ]
  },
  {
   "cell_type": "code",
   "execution_count": null,
   "metadata": {
    "scrolled": true
   },
   "outputs": [],
   "source": [
    "def foo(x, y):\n",
    "    z = x/2.\n",
    "    z += 2/y    \n",
    "    return z\n",
    "\n",
    "foo(1, 0)"
   ]
  },
  {
   "cell_type": "markdown",
   "metadata": {},
   "source": [
    "- Debugeo Paso-a-paso: Insertar breakpoints manualmente "
   ]
  },
  {
   "cell_type": "code",
   "execution_count": null,
   "metadata": {
    "scrolled": true
   },
   "outputs": [],
   "source": [
    "def foo(x, y):\n",
    "    import ipdb; ipdb.set_trace(context=10) \n",
    "    z = x/2.\n",
    "    z += 2/y\n",
    "    return z\n",
    "\n",
    "foo(1, 0)"
   ]
  },
  {
   "cell_type": "code",
   "execution_count": null,
   "metadata": {},
   "outputs": [],
   "source": [
    "def foo(x):\n",
    "    # if x > 0 and x < 2:\n",
    "    if 0 < x < 2:\n",
    "        print(\"Eureka\")\n",
    "foo(0)"
   ]
  },
  {
   "cell_type": "markdown",
   "metadata": {},
   "source": [
    "## [pathlib](https://docs.python.org/3/library/pathlib.html)\n",
    "\n",
    "Modulo regular de Python3 para leer y manipular directorios"
   ]
  },
  {
   "cell_type": "code",
   "execution_count": null,
   "metadata": {
    "ExecuteTime": {
     "end_time": "2020-05-14T15:15:56.315323Z",
     "start_time": "2020-05-14T15:15:56.302726Z"
    }
   },
   "outputs": [],
   "source": [
    "from pathlib import Path\n",
    "p = Path('.')\n",
    "print(sorted(p.glob('*.py')))\n",
    "print([x for x in p.iterdir() if x.is_dir()])\n",
    "print([x for x in p.iterdir() if x.is_file() and x])\n",
    "p = Path('/usr/bin/python3')\n",
    "print(p.parts)"
   ]
  },
  {
   "cell_type": "markdown",
   "metadata": {},
   "source": [
    "# [Lista de módulos de Python 3](https://docs.python.org/3/py-modindex.html)\n",
    "\n",
    "Siempre antes de implementar un módulo hay que revisar el link de arriba\n",
    "\n",
    "Aprovecha la extensa lista de módulos estándar de Python!"
   ]
  },
  {
   "cell_type": "markdown",
   "metadata": {},
   "source": [
    "# Buenas prácticas\n",
    "\n",
    "- Prefiere variables keyword antes que posicionales (auto-documentación)\n",
    "- Siempre comenta con docstring cada función o clase\n",
    "- Prefiere los tipos nativos de Python\n",
    "- Trata de seguir el [PEP8](https://www.python.org/dev/peps/pep-0008/)"
   ]
  },
  {
   "cell_type": "code",
   "execution_count": null,
   "metadata": {
    "ExecuteTime": {
     "end_time": "2020-05-14T15:19:44.881306Z",
     "start_time": "2020-05-14T15:19:44.867627Z"
    },
    "code_folding": []
   },
   "outputs": [],
   "source": [
    "def saludo(nombre: \"Esto debería ser un string\"=None):\n",
    "    \"\"\"Esta es una función que saluda a quien la llama\n",
    "    Args:\n",
    "        nombre: un string\n",
    "    Returns:\n",
    "        None\n",
    "    \"\"\"\n",
    "    if nombre is None:\n",
    "        print(\"Hola, ¿Cómo te llamas?\")\n",
    "    else:\n",
    "        print(\"Hola {0}\".format(nombre))\n",
    "\n",
    "saludo(\"Pablo\")\n",
    "help(saludo)"
   ]
  }
 ],
 "metadata": {
  "kernelspec": {
   "display_name": "Python 3",
   "language": "python",
   "name": "python3"
  },
  "language_info": {
   "codemirror_mode": {
    "name": "ipython",
    "version": 3
   },
   "file_extension": ".py",
   "mimetype": "text/x-python",
   "name": "python",
   "nbconvert_exporter": "python",
   "pygments_lexer": "ipython3",
   "version": "3.8.2"
  },
  "toc": {
   "base_numbering": 1,
   "nav_menu": {},
   "number_sections": true,
   "sideBar": true,
   "skip_h1_title": false,
   "title_cell": "Table of Contents",
   "title_sidebar": "Contents",
   "toc_cell": false,
   "toc_position": {
    "height": "calc(100% - 180px)",
    "left": "10px",
    "top": "150px",
    "width": "384px"
   },
   "toc_section_display": true,
   "toc_window_display": false
  }
 },
 "nbformat": 4,
 "nbformat_minor": 2
}
