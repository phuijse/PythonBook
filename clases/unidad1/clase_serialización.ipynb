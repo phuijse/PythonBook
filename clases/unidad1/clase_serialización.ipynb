{
 "cells": [
  {
   "cell_type": "code",
   "execution_count": null,
   "metadata": {},
   "outputs": [],
   "source": [
    "%%HTML\n",
    "<!-- Mejorar visualización en proyector -->\n",
    "<style>\n",
    ".rendered_html {font-size: 1.2em; line-height: 150%;}\n",
    "div.prompt {min-width: 0ex; padding: 0px;}\n",
    ".container {width:95% !important;}\n",
    "</style>"
   ]
  },
  {
   "cell_type": "code",
   "execution_count": null,
   "metadata": {},
   "outputs": [],
   "source": [
    "from IPython.display import display\n",
    "import numpy as np\n",
    "import pandas as pd"
   ]
  },
  {
   "cell_type": "markdown",
   "metadata": {},
   "source": [
    "# Input-output y serialización\n",
    "\n",
    "Una necesidad común es guardar un resultado de nuestro análisis en disco para uso posterior o para su distribución\n",
    "\n",
    "**Serialización:** Se refiere al proceso de convertir una estructura de datos en un formato que permita su almacenamiento en el disco y su subsecuente recuperación sin pérdida"
   ]
  },
  {
   "cell_type": "markdown",
   "metadata": {},
   "source": [
    "## Texto plano con `repr`\n",
    "\n",
    "La palabra clave [`repr`](https://docs.python.org/3/library/functions.html#repr) nos permite convertir un objeto a string de forma no-ambigua\n",
    "\n",
    "Luego podemos escribir nuestro objeto en un archivo de texto\n",
    "\n",
    "Finalmente usamos [`eval`](https://docs.python.org/3/library/functions.html#eval) para devolverlo a objeto"
   ]
  },
  {
   "cell_type": "code",
   "execution_count": null,
   "metadata": {},
   "outputs": [],
   "source": [
    "amazing_data = {'nombre': 'pablo', 'apellido': 'huijse', 'edad': 33, 'altura': 1.83}\n",
    "\n",
    "with open(\"amazing_data\", \"w\") as f:\n",
    "    f.write(repr(amazing_data))\n",
    "    \n",
    "with open('amazing_data', 'r') as f:\n",
    "    a = eval(f.read())\n",
    "\n",
    "display(amazing_data, a, a['nombre'])"
   ]
  },
  {
   "cell_type": "markdown",
   "metadata": {},
   "source": [
    "Podemos escribir la función `repr` para nuestras clases"
   ]
  },
  {
   "cell_type": "code",
   "execution_count": null,
   "metadata": {},
   "outputs": [],
   "source": [
    "class Fruta:\n",
    "    def __init__(self, nombre, color):\n",
    "        self.nombre = nombre\n",
    "        self.color = color\n",
    "        \n",
    "    def __repr__(self):\n",
    "        return(\"{0}('{1}', '{2}')\".format(self.__class__.__name__, self.nombre, self.color))\n",
    "        \n",
    "amazing_fruta = Fruta(\"Mango\", \"Amarillo\")\n",
    "\n",
    "with open(\"amazing_data\", \"w\") as f:\n",
    "    f.write(repr(amazing_fruta))\n",
    "    \n",
    "with open('amazing_data', 'r') as f:\n",
    "    b = eval(f.read())\n",
    "    \n",
    "display(b, b.nombre, b.color)"
   ]
  },
  {
   "cell_type": "markdown",
   "metadata": {},
   "source": [
    "## Texto plano: Comma-separated value (CSV)\n",
    "\n",
    "Python provee un modelo csv que nos permite leer y escribir CSVs"
   ]
  },
  {
   "cell_type": "code",
   "execution_count": null,
   "metadata": {},
   "outputs": [],
   "source": [
    "import csv\n",
    "\n",
    "amazing_data = [[\"#\",\"Apellido\",\"Nombre\",\"Nota\"],[1,\"Huijse\",\"Pablo\",4.0],[2,\"Fulano\",\"Detal\",7.0]]\n",
    "\n",
    "with open('amazing_data', 'w', newline='') as f:\n",
    "    writer = csv.writer(f)\n",
    "    writer.writerows(amazing_data)\n",
    "\n",
    "!cat amazing_data.csv\n",
    "\n",
    "with open('amazing_data', newline='') as f:\n",
    "    reader = csv.reader(f)\n",
    "    rows = [fields for fields in reader]\n",
    "    \n",
    "display(rows)"
   ]
  },
  {
   "cell_type": "markdown",
   "metadata": {},
   "source": [
    "Podemos manipular CSVs con NumPy usando las funciones [`loadtxt`](https://docs.scipy.org/doc/numpy/reference/generated/numpy.loadtxt.html#numpy.loadtxt), [`genfromtxt`](https://docs.scipy.org/doc/numpy/reference/generated/numpy.genfromtxt.html) y [`savetxt`](https://docs.scipy.org/doc/numpy/reference/generated/numpy.savetxt.html)\n",
    "\n",
    "Ojo: Sólo para datos númericos"
   ]
  },
  {
   "cell_type": "code",
   "execution_count": null,
   "metadata": {},
   "outputs": [],
   "source": [
    "data = np.genfromtxt(\"amazing_data\", delimiter=\",\")\n",
    "display(data)\n",
    "np.savetxt(\"amazing_data\", data, delimiter=',')\n",
    "!cat amazing_data"
   ]
  },
  {
   "cell_type": "markdown",
   "metadata": {},
   "source": [
    "Y por supuesto también con pandas usando el atributo `to_csv` y la función `read_csv`"
   ]
  },
  {
   "cell_type": "code",
   "execution_count": null,
   "metadata": {},
   "outputs": [],
   "source": [
    "df = pd.DataFrame(amazing_data[1:], columns=amazing_data[0])\n",
    "display(df)\n",
    "df.to_csv(\"amazing_data\")\n",
    "!cat amazing_data"
   ]
  },
  {
   "cell_type": "markdown",
   "metadata": {},
   "source": [
    "## Texto plano: [JSON](https://en.wikipedia.org/wiki/JSON) (JavaScript Object Notation)\n",
    "\n",
    "Originalmente para javascript hoy en día es un formato independiente\n",
    "\n",
    "Principalmente usado para guardar tablas de tipo atributo-valor\n",
    "\n",
    "Python provee el módulo [`json`](https://docs.python.org/3.7/library/json.html) que simplifica guardar estructuras anidadas\n",
    "\n",
    "Clases, ndarrays y otros objetos curiosos no son automaticamente jsonificables.\n",
    "\n",
    "- El ndarray se puede convertir a lista con el atributo `tolist()`\n",
    "- [JSON-tricks](https://json-tricks.readthedocs.io/en/latest/)\n"
   ]
  },
  {
   "cell_type": "code",
   "execution_count": null,
   "metadata": {},
   "outputs": [],
   "source": [
    "import json\n",
    "\n",
    "amazing_numpy = np.random.randn(40,40)\n",
    "display(amazing_numpy[:4, :4])\n",
    "#amazing_numpy_jsonificado = amazing_numpy.ravel().tolist()\n",
    "amazing_numpy_jsonificado =  pd.DataFrame(amazing_numpy).to_json()\n",
    "amazing_data = {'d1':{'nombre': 'pablo', 'apellido': 'huijse', 'edad': 33, 'altura': 1.83}, 'd2': (1, 'gong'), 'd3': amazing_numpy_jsonificado}\n",
    "\n",
    "with open('amazing_data', 'w', encoding='utf-8') as f:\n",
    "    json.dump(amazing_data, f, sort_keys=True)\n",
    "    \n",
    "#!head  amazing_data\n",
    "\n",
    "with open('amazing_data', 'r', encoding='utf-8') as f:\n",
    "    a = json.load(f)\n",
    "b = pd.read_json(a['d3']).values    \n",
    "display(b[:4, :4])"
   ]
  },
  {
   "cell_type": "markdown",
   "metadata": {},
   "source": [
    "## Tipos binarios: NumPy\n",
    "\n",
    "Podemos guardar un ndarray con las funciones [`save`](https://docs.scipy.org/doc/numpy/reference/generated/numpy.save.html#numpy.save) y [`load`](https://docs.scipy.org/doc/numpy/reference/generated/numpy.load.html#numpy.load). Estas funciones son plataforma-independientes\n",
    "\n",
    "También podemos binarizar un arreglo con el atributo `tobytes()` y luego leerlo con la función `frombuffer`. Estos no son plataforma-independientes"
   ]
  },
  {
   "cell_type": "code",
   "execution_count": null,
   "metadata": {},
   "outputs": [],
   "source": [
    "fine_data = np.random.rand(40, 40)\n",
    "display(fine_data[:2, :2])\n",
    "display(fine_data.tobytes()[:10])\n",
    "with open(\"mybinario\", \"wb\") as f:\n",
    "    np.save(f, fine_data)\n",
    "with open(\"mybinario\", \"rb\") as f:\n",
    "    a = np.load(f)\n",
    "display(a[:2, :2])"
   ]
  },
  {
   "cell_type": "markdown",
   "metadata": {},
   "source": [
    "## Tipos binarios: [Pickle](https://docs.python.org/3/library/pickle.html)\n",
    "\n",
    "Puede serializar casi cualquier objeto Python arbitrario \n",
    "\n",
    "Protocolo específico para Python\n",
    "\n",
    "**Ojo:** Nunca cargues un pickle de procedencia desconocida, podría ser malicioso\n",
    "\n",
    "Para archivos grandes `pickle` puede resultar un poco lento. En esos casos usa `_pickle` (ex `cPickle`)\n",
    "\n",
    "[dill](https://pypi.org/project/dill/): Extensión que incrementa la cantidad de tipos que se pueden conservar"
   ]
  },
  {
   "cell_type": "code",
   "execution_count": null,
   "metadata": {},
   "outputs": [],
   "source": [
    "import pickle\n",
    "#import _pickle as pickle # Antiguo cPickle\n",
    "\n",
    "amazing_data = {'d1':{'nombre': 'pablo', 'apellido': 'huijse', 'edad': 33, 'altura': 1.83}, 'd2': (1, 'gong'), 'd3': np.random.randn(50, 50)}\n",
    "\n",
    "pickle.dump(amazing_data, open(\"mybinario\", \"wb\"), protocol=2) # procolo 2 lo hace compatible con Python 2\n",
    "\n",
    "a = pickle.load(open(\"mybinario\", \"rb\"))\n",
    "display(a)"
   ]
  },
  {
   "cell_type": "markdown",
   "metadata": {},
   "source": [
    "### Mayor compresión: Pickle (u otro formato) + gzip/bz2"
   ]
  },
  {
   "cell_type": "code",
   "execution_count": null,
   "metadata": {},
   "outputs": [],
   "source": [
    "import gzip, bz2\n",
    "\n",
    "with gzip.open('mybinario.pgz','wb') as f:\n",
    "    pickle.dump(amazing_data, f, protocol=2)\n",
    "    \n",
    "with bz2.open('mybinario.pbz2','wb') as f:\n",
    "    pickle.dump(amazing_data, f, protocol=2)"
   ]
  },
  {
   "cell_type": "markdown",
   "metadata": {},
   "source": [
    "## Grandes volumenes de datos numéricos: Hierarchical Data Format v5 (HDF5)\n",
    "\n",
    "Formato diseñado para soportar grandes datasets y con alto rendimiento de I/O (paralelo)\n",
    "\n",
    "Se guarda una estructura jerarquica (tipo filesystem) dentro de una archivo\n",
    "\n",
    "Existen dos librerias principales en Python para leer HDF5: [h5py](https://www.h5py.org/) y [PyTables](https://www.pytables.org/) \n",
    "\n",
    "PyTables es usado por pandas y tiene un nivel de abstracción un poco más alto (modelo tipo base de datos)\n",
    "\n",
    "Pandas tiene clases \n",
    "\n",
    "### Ejemplo de uso de h5py\n",
    "\n",
    "Creamos grupos jerarquizados y guardamos nuestros datos \n",
    "\n",
    "Podemos guardar metadata usando atributos de grupo o de dato: `attrs`\n",
    "\n",
    "Si queremos recuperar los objetos numpy usamos `[()]` sobre la referencia \n"
   ]
  },
  {
   "cell_type": "code",
   "execution_count": null,
   "metadata": {},
   "outputs": [],
   "source": [
    "import h5py\n",
    "\n",
    "with h5py.File(\"amazing.h5\", mode=\"w\") as f: # modos disponibles r, r+, w, w-, a\n",
    "    grp1 = f.create_group(\"amazing_data\")\n",
    "    grp11 = f.create_group(\"amazing_data/amazing_matrix\")\n",
    "    f[\"amazing_data/amazing_matrix/matrix1\"] = np.arange(25).reshape(5, 5)\n",
    "    f[\"amazing_data/amazing_matrix/matrix1\"].attrs[\"descripción\"] = \"Estos datos son de perros y gatos\"\n",
    "    f[\"amazing_data/amazing_matrix/matrix1\"].attrs[\"fecha\"]  = \"01/01/99\"\n",
    "    f[\"amazing_data/amazing_matrix/matrix2\"] = np.random.rand(5, 5)\n",
    "    f.create_dataset(\"amazing_data/amazing_matrix/matrix3\", shape=(5, 5), fillvalue=33)\n",
    "    f[\"amazing_data/amazing_string\"] = \"hola mundo\"\n",
    "    \n",
    "    \n",
    "with h5py.File(\"amazing.h5\", mode=\"r\") as f:\n",
    "    display(f[\"amazing_data/amazing_matrix/matrix1\"].attrs.keys(),\n",
    "            f[\"amazing_data/amazing_matrix/matrix1\"].attrs[\"descripción\"])\n",
    "    matrix1 = f[\"amazing_data/amazing_matrix/matrix1\"][()] # Esto recupera los datos\n",
    "    matrix2 = f[\"amazing_data/amazing_matrix/matrix2\"] # Esto recupera una referencia\n",
    "    matrix3 = f[\"amazing_data/amazing_matrix/matrix3\"][()]\n",
    "    display(f[\"amazing_data/amazing_string\"], matrix2)\n",
    "\n",
    "# Una vez que cerré el archivo la referencia queda invalida\n",
    "display(np.allclose(np.arange(25).reshape(5, 5), matrix1), matrix2, matrix3)"
   ]
  },
  {
   "cell_type": "markdown",
   "metadata": {},
   "source": [
    "## Extras\n",
    "\n",
    "- [marshmellow](https://marshmallow.readthedocs.io/en/3.0/)\n",
    "- JSON + binario = [msgpack](https://msgpack.org/)\n",
    "- JSON + pickle = [jsonpickle](https://github.com/jsonpickle/jsonpickle)\n",
    "- Google [protobuf](https://developers.google.com/protocol-buffers/)"
   ]
  }
 ],
 "metadata": {
  "kernelspec": {
   "display_name": "Python 3",
   "language": "python",
   "name": "python3"
  },
  "language_info": {
   "codemirror_mode": {
    "name": "ipython",
    "version": 3
   },
   "file_extension": ".py",
   "mimetype": "text/x-python",
   "name": "python",
   "nbconvert_exporter": "python",
   "pygments_lexer": "ipython3",
   "version": "3.7.3"
  }
 },
 "nbformat": 4,
 "nbformat_minor": 2
}
