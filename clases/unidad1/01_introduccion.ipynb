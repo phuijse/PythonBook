{
 "cells": [
  {
   "cell_type": "markdown",
   "metadata": {},
   "source": [
    "*Ciencia: Scientia: Conocimiento*\n"
   ]
  },
  {
   "cell_type": "markdown",
   "metadata": {},
   "source": [
    "## Los paradigmas de la ciencia:\n",
    "\n",
    "<img src=\"https://www.researchgate.net/profile/Marcio_Costa13/publication/331216708/figure/fig4/AS:728393284870152@1550673900958/The-four-science-paradigms-empirical-theoretical-computational-and-data-driven-Each.png\" width=\"600\">\n",
    "\n",
    "- El primer paradigma es basado en observación y experimentación\n",
    "- El segundo paradigma agregó es el teórico, se basa en probar modelos y refutar hipótesis\n",
    "- El tercer paradigma es basado en simulaciones: Probamos modelos y análisamos fenómenos utilizando simulaciones computacionales\n",
    "- El [cuarto paradigma](https://en.wikipedia.org/wiki/The_Fourth_Paradigm) es basado en los datos: Entender fenómenos en base a datos masivos generados por sensores o simulaciones"
   ]
  },
  {
   "cell_type": "markdown",
   "metadata": {},
   "source": [
    "## Tercer paradigma: Computación Científica\n",
    "\n",
    "Hoy en día muchos trabajos científicos e ingenieriles incluyen al menos uno de los siguientes aspectos\n",
    "- cálculos numéricos\n",
    "- simulaciones\n",
    "- modelamiento computacional\n",
    "- análisis de datos\n",
    "\n",
    "En resumen\n",
    "\n",
    "> El computador se ha vuelto esencial para hacer ciencia\n",
    "\n",
    "y por ende\n",
    "\n",
    "> El software se ha vuelto esencial para hacer ciencia\n",
    "\n",
    "En este escenario surge\n",
    "\n",
    "> La **computación científica** es la disciplina que se encarga de desarrollar la teoría y las técnicas necesarias para resolver problemas matemáticos complejos de ciencias e ingeniería de forma eficiente\n",
    "\n",
    "**Ejemplo:** Simulación de la unión de dos agujeros negros utilizando datos de LIGO\n",
    "\n",
    "<img src=\"https://2.bp.blogspot.com/-h3SA26JUbB4/Vt86wugg1rI/AAAAAAAAzWE/DYuiVN4B8QA/s400/Two-Black-Holes-Merge-into-One.gif\" width=\"500\">\n"
   ]
  },
  {
   "attachments": {},
   "cell_type": "markdown",
   "metadata": {},
   "source": [
    "## Cuarto paradigma: Ciencia de los Datos\n",
    "\n",
    "Los avances tecnológicos han permitido la generación y captura de una enorme cantidad de datos\n",
    "\n",
    "Considere por ejemplo las Redes sociales, el internet de las cosas o los proyectos smart-city\n",
    "\n",
    "Esto también ocurre en las ciencias\n",
    "- Simulaciones con cada vez mayor nivel de resolución\n",
    "- Telescopios que cubren mayores áreas del cielo y con mayor profunidad\n",
    "- Digitalización de exámenes médicos\n",
    "\n",
    "El término [*Big Data*](https://www.ibmbigdatahub.com/infographic/four-vs-big-data) se ocupa para describir el escenario tecnológico actual respecto a la abundancia, altas tazas de generación y variedad de datos \n",
    "\n",
    "En este escenario surge:\n",
    "\n",
    "> La **ciencia de datos** es la disciplina que busca extraer conocimiento (información) a partir de datos (masivos)\n",
    "\n",
    "**Ejemplo:** [Super-resolución en imágenes astronómicas usando modelo adversario generativo entrenado en datos de SDSS](https://academic.oup.com/mnrasl/article/467/1/L110/2931732)\n",
    "\n",
    "\n",
    "<img src=\"https://scx1.b-cdn.net/csz/news/800/2017/1-neuralnetwor.png\" width=\"500\">"
   ]
  },
  {
   "cell_type": "markdown",
   "metadata": {},
   "source": [
    "#### Competencias\n",
    "\n",
    "La computación científica y la ciencia de los datos combinan competencias de \n",
    "- Ciencias de la computación: Diseñar algoritmos eficientes y escalables para procesar grandes bases de datos \n",
    "- Matemáticas aplicadas y estadística: Diseñar modelos que caractericen y resuman los datos\n",
    "\n",
    "#### Interdiscipina\n",
    "\n",
    "La computación científica y la ciencia de los datos son paradigmas naturalmente **interdisciplinares**\n",
    "\n",
    "> Se debe colaborar con expertos del dominio para formular preguntas científicas e intepretar los resultados de nuestros rutinas computacionales\n",
    "\n",
    "#### Reproducibilidad\n",
    "\n",
    "> Un buen software científico debe permitir la replicación y reproducibilidad de los resultados de los experimentos\n"
   ]
  },
  {
   "cell_type": "markdown",
   "metadata": {},
   "source": [
    "## ¿Qué podemos esperar de este curso?\n",
    "\n",
    "En este curso aprenderemos a manejar librerías de computación científica basadas en el lenguaje de programación **Python** "
   ]
  },
  {
   "cell_type": "markdown",
   "metadata": {},
   "source": [
    "## ¿Qué es Python?\n",
    "\n",
    "Python es un lenguaje de programación interpretado y multi-paradigma liberado en 1991 y ampliamente usado en ciencia de los datos \n",
    "\n",
    "¿Por qué?\n",
    "- Enfoque en la simpleza, lo cual resulta en código más fácil de mantener y desarrollo más rápido\n",
    "- Menor curva de aprendizaje\n",
    "- Rico ecosistema de librerías abiertas para computo científico: [*Numpy*](http://www.numpy.org/), [*Scipy*](https://www.scipy.org/), [*Pandas*](https://pandas.pydata.org/), entre otras que serán estudiadas en este curso\n",
    "\n",
    "¿Y que hay del desempeño de mis algoritmos versus lenguajes de programación de más bajo nivel? \n",
    "1. Trade-off entre tiempo de cómputo y horas hombre de programación\n",
    "1. Librerías de cómputo científico de Python: Están compiladas con librerías optimizadas de bajo nivel (*e.g.* BLAS, LAPACK)\n",
    "1. Si la función que necesito no está en las librerias: Integrar Python con lenguajes de bajo nivel (*e.g.* C++, Fortran)"
   ]
  },
  {
   "cell_type": "markdown",
   "metadata": {},
   "source": [
    "## ¿Python2 o Python3?"
   ]
  },
  {
   "cell_type": "markdown",
   "metadata": {},
   "source": [
    "- Python 2.7 sigue existiendo (y \"compitiendo\" con Python 3)\n",
    "- [Un 95% de las librerias han sido portadas Python 3](https://wiki.python.org/moin/Python2orPython3)\n",
    "- Python 2 ya no se sigue desarrollando\n",
    "- En este curso usaremos **Python 3** como lenguaje oficial\n"
   ]
  },
  {
   "cell_type": "markdown",
   "metadata": {},
   "source": [
    "## ¿Qué es PEP 8?\n",
    "\n",
    "[Python Enhancement Proposal (PEP)](https://www.python.org/dev/peps/pep-0008/) es una especificación técnica que busca mejorar el lenguaje Python\n",
    "\n",
    "PEP 0 es el índice de todos los PEP existentes. \n",
    "\n",
    "> El PEP 8 es una guia de buenas prácticas para dar formato a nuestros códigos en Python\n",
    "\n",
    "El objetivo de PEP 8 es mantener un estándar que facilite la lectura de código escrito en Python\n"
   ]
  },
  {
   "cell_type": "markdown",
   "metadata": {},
   "source": [
    "## ¿Qué es IPython?\n",
    "\n",
    "Interactive Python (IPython) es un interprete de Python que ofrece varias mejoras tales como\n",
    "- autocompletación de path y modulos\n",
    "- acceso desde terminal a documentación y código fuente\n",
    "- búsqueda histórica de comandos\n",
    "- y las *magics* que serán vistas más adelante. \n",
    "\n",
    "IPython puede usarse desde un terminal como remplazo del intérprete convencioanl de Python\n",
    "\n",
    "También puede usarse a través de un **jupyter notebook**"
   ]
  },
  {
   "cell_type": "markdown",
   "metadata": {},
   "source": [
    "## ¿Qué es Jupyter?\n",
    "\n",
    "[*Jupyter*](https://jupyter.org/) es un ambiente interactivo de cómputo basado en web \n",
    "\n",
    "El motor de jupyter (kernel) corre en un servidor (local o remoto) al cual el usuario accede a través de un navegador (browser)\n",
    "\n",
    "En nuestro caso el motor (kernel) está basado en **IPython** pero también existe jupyter para otros lenguajes\n",
    "\n",
    "El servidor de jupyter nos permite crear documentos en formato JSON llamados *notebooks*\n",
    "\n",
    "El *jupyter notebook* puede contener \n",
    "- código\n",
    "- gráficas interactivas\n",
    "- texto con formato markdown\n",
    "- ecuaciones \n",
    "- GUIs\n",
    "- elementos HTML (tablas, imágenes, audio, video)\n",
    "\n",
    "es decir que podemos mantener un experimento científico completo en un notebook\n",
    "\n",
    "Para desarrollar módulos o librerías de Python se puede complementar con otras IDEs tales como [*pycharm*](https://www.jetbrains.com/pycharm/) o [*Spyder*](https://www.spyder-ide.org/) o editores de texto como [*vim*](https://www.vim.org/) o [*emacs*](https://www.gnu.org/software/emacs/), todas estas disponibles en los repositorios de su distribución de Linux preferida"
   ]
  },
  {
   "cell_type": "markdown",
   "metadata": {},
   "source": [
    "## Modelo de capas de nuestro ambiente de trabajo:\n",
    "\n",
    "<img src=\"img/intro.svg\">"
   ]
  }
 ],
 "metadata": {
  "kernelspec": {
   "display_name": "Python 3",
   "language": "python",
   "name": "python3"
  },
  "language_info": {
   "codemirror_mode": {
    "name": "ipython",
    "version": 3
   },
   "file_extension": ".py",
   "mimetype": "text/x-python",
   "name": "python",
   "nbconvert_exporter": "python",
   "pygments_lexer": "ipython3",
   "version": "3.8.1"
  }
 },
 "nbformat": 4,
 "nbformat_minor": 2
}
