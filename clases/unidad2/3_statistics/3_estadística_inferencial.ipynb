{
 "cells": [
  {
   "cell_type": "code",
   "execution_count": null,
   "metadata": {
    "ExecuteTime": {
     "end_time": "2020-07-23T18:29:10.984406Z",
     "start_time": "2020-07-23T18:29:10.970867Z"
    }
   },
   "outputs": [],
   "source": [
    "from IPython.display import YouTubeVideo, Markdown, SVG\n",
    "from functools import partial\n",
    "YouTubeVideo_formato = partial(YouTubeVideo, modestbranding=1, disablekb=0,\n",
    "                               width=640, height=360, autoplay=0, rel=0, showinfo=0)\n",
    "\n",
    "display(Markdown(filename='../../preamble.md'))"
   ]
  },
  {
   "cell_type": "code",
   "execution_count": null,
   "metadata": {
    "ExecuteTime": {
     "end_time": "2020-07-23T18:29:11.834669Z",
     "start_time": "2020-07-23T18:29:10.986816Z"
    }
   },
   "outputs": [],
   "source": [
    "#%autosave 0\n",
    "%matplotlib notebook\n",
    "import matplotlib.pyplot as plt\n",
    "import numpy as np\n",
    "import scipy.stats\n",
    "import pandas as pd"
   ]
  },
  {
   "cell_type": "markdown",
   "metadata": {},
   "source": [
    "Luego de aplicar las herramientas de estadísticas descriptiva para entender mejor nuestros datos podemos enfocarnos en\n",
    "\n",
    "# Inferencia estadística\n",
    "\n",
    "La inferencia busca\n",
    "\n",
    "> Extraer **conclusiones** a partir de **hechos** a través de un **método o premisa**\n",
    "\n",
    "En el caso particular de la **inferencia estadística** tenemos que\n",
    "\n",
    "- Hechos: Datos\n",
    "- Premisa: Modelo probabilístico\n",
    "- Conclusión: Una cantidad no observada que es interesante\n",
    "\n",
    "Y lo que buscamos es\n",
    "\n",
    "> Cuantificar la incerteza de la conclusión dado los datos y el modelo \n",
    "\n",
    "La inferencia estadística puede dividirse en los siguientes tres niveles\n",
    "1. Ajustar un modelo a nuestros datos\n",
    "1. Verificar que el modelo sea confiable\n",
    "1. Responder una pregunta usando el modelo\n",
    "\n",
    "A continuación estudiaremos herramientas asociadas a cada nivel\n",
    "1. **Estimador de máxima verosimilitud**\n",
    "1. **Bondad de ajuste** e **Intervalos de confianza**\n",
    "1. **Test de hipótesis**"
   ]
  },
  {
   "cell_type": "markdown",
   "metadata": {},
   "source": [
    "## Ajuste de modelos \n",
    "\n",
    "En este nivel de inferencia se busca ajustar un modelo teórico sobre nuestros datos\n",
    "\n",
    "Nosotros nos enfocaremos en **modelos de tipo parámetrico**\n",
    "\n",
    "Un modelo parámetrico es aquel donde **se explicita una distribución de probabilidad**\n",
    "\n",
    "Por ejemplo ajustar una distribución Gaussiana a mis datos\n",
    "\n",
    "Recordemos que **una distribución tiene parámetros**\n",
    "\n",
    "Por ejemplo la distribución Gaussiana univariada se describe por su media $\\mu$ y su varianza $\\sigma^2$\n",
    "\n",
    "Entonces ajustar una distribución Gaussiano corresponde a\n",
    "\n",
    "> encontrar el mejor valor de $\\mu$ y $\\sigma$ dado los datos"
   ]
  },
  {
   "attachments": {
    "index.png": {
     "image/png": "[encoded data removed]"
    }
   },
   "cell_type": "markdown",
   "metadata": {},
   "source": [
    "### ¿Qué distribución ajustar?\n",
    "\n",
    "Antes de ajustar debemos suponer una distribución para nuestro modelo\n",
    "\n",
    "En general podemos ajustar cualquier distribución pero \n",
    "\n",
    "> Un mal supuesto podría invalidar nuestra inferencia\n",
    "\n",
    "Podemos usar las herramientas de estadística descriptiva para estudiar nuestros datos y tomar esta decisión de manera informada\n",
    "\n",
    "En el siguiente ejemplo, un histograma revela que una modelo gaussiano no es una buena decisión \n",
    "\n",
    "![index.png](attachment:index.png)\n",
    "\n",
    "Considerando las características de la Gaussiana ¿Por qué no es apropiada en este caso?\n",
    "\n"
   ]
  },
  {
   "cell_type": "markdown",
   "metadata": {},
   "source": [
    "### ¿Cómo ajustar mi modelo? Estimación de máxima verosimilitud\n",
    "\n",
    "A continuación describiremos un procedimiento para ajustar modelos paramétricos llamado *maximum likelihood estimation* (MLE)\n",
    "\n",
    "Sea un conjunto de datos $\\{x_1, x_2, \\ldots, x_N\\}$\n",
    "\n",
    "**Supuesto 1** Los datos siguen el modelo $f(x;\\theta)$ donde $f(\\cdot)$ es una distribución y $\\theta$ son sus parámetros\n",
    "\n",
    "$$\n",
    "f(x_1, x_2, \\ldots, x_N |\\theta)\n",
    "$$\n",
    "\n",
    "**Supuesto 2** Las observaciones son independientes e idénticamente distribuidas (iid)\n",
    "\n",
    "- Si dos variables son independientes se cumple que $P(x, y) = P(x)P(y)$\n",
    "- Si son además idénticamente distribuidas entonces tienen **la misma distribución y parámetros**\n",
    "\n",
    "Usando esto\n",
    "\n",
    "$$\n",
    "\\begin{align}\n",
    "f(x_1, x_2, \\ldots, x_N |\\theta) &= f(x_1|\\theta) f(x_2|\\theta) \\ldots f(x_N|\\theta) \\nonumber \\\\\n",
    "& = \\prod_{i=1}^N f(x_i|\\theta) \\nonumber \\\\\n",
    "& = \\mathcal{L}(\\theta)\n",
    "\\end{align}\n",
    "$$\n",
    "\n",
    "donde $L(\\theta)$ se conoce como la verosimilitud o probabilidad inversa de $\\theta$ \n",
    "\n",
    "Si consideramos que los datos son fijos podemos buscar el valor de $\\theta$ de máxima verosimilitud\n",
    "\n",
    "$$\n",
    "\\begin{align}\n",
    "\\hat \\theta &= \\text{arg} \\max_\\theta \\mathcal{L}(\\theta) \\nonumber \\\\\n",
    "&= \\text{arg} \\max_\\theta \\log \\mathcal{L}(\\theta) \\nonumber \\\\\n",
    "&= \\text{arg} \\max_\\theta \\sum_{i=1}^N \\log f(x_i|\\theta) \n",
    "\\end{align}\n",
    "$$\n",
    "\n",
    "El segundo paso es valido por que el máximo de $g(x)$ y $\\log(g(x))$ es el mismo. El logaritmo es monoticamente creciente. Además es muy conveniente ya que convierte la multiplicatoria en sumatoria. \n",
    "\n",
    "\n",
    "Ahora sólo falta encontrar el máximo. Podemos hacerlo\n",
    "- Analiticamente derivando con respecto a $\\theta$ e igualando a cero\n",
    "- Usando técnicas de optimización iterativas (próxima clase)"
   ]
  },
  {
   "cell_type": "markdown",
   "metadata": {},
   "source": [
    "### Ejemplo: La pesa defectuosa\n",
    "\n",
    "1. Mi pesa está defectuosa\n",
    "1. Luego de comer mido $M$ veces mi peso obteniendo un conjunto de observaciones $\\{x_i\\}$\n",
    "1. El objetivo es encontrar mi peso real $\\hat x$. \n",
    "\n",
    "Puedo modelar mis observaciones como\n",
    "$$\n",
    "x_i = \\hat x + \\varepsilon_i\n",
    "$$\n",
    "donde $\\varepsilon_i$ corresponde al ruido o error del instrumento\n",
    "\n",
    "Asumamos que $\\varepsilon_i \\sim \\mathcal{N}(0, \\sigma_\\varepsilon^2)$\n",
    "\n",
    "es decir que el ruido es **independiente** y **Gaussiano** con media cero y **varianza** $\\sigma_\\varepsilon^2$ **conocida**\n",
    "\n",
    "Entonces \n",
    "\n",
    "$$\n",
    "f(x_i|\\hat x) = \\mathcal{N}(\\hat x, \\sigma_\\varepsilon^2)\n",
    "$$\n",
    "\n",
    "> El objetivo es encontrar $\\hat x$\n",
    "\n",
    "Primero escribimos el logaritmo de la **verosimilitud**\n",
    "\n",
    "$$\n",
    "\\begin{align}\n",
    "\\log \\mathcal{L}(\\hat x) &= \\log \\prod_{i=1}^M f(x_i|\\hat x) \\nonumber \\\\\n",
    "&= \\sum_{i=1}^M  \\log \\frac{1}{\\sqrt{2\\pi\\sigma_\\varepsilon^2}}  \\exp \\left ( - \\frac{1}{2\\sigma_\\varepsilon^2} (x_i - \\hat x)^2 \\right)  \\nonumber \\\\\n",
    "&= -\\frac{M}{2}\\log(2\\pi\\sigma_\\varepsilon^2)  - \\frac{1}{2\\sigma_\\varepsilon^2}  \\sum_{i=1}^M  (x_i - \\hat x)^2  \\nonumber\n",
    "\\end{align}\n",
    "$$\n",
    "\n",
    "Queremos resolver\n",
    "\n",
    "$$\n",
    "\\begin{align}\n",
    "\\hat \\theta &= \\text{arg} \\max_\\theta \\log \\mathcal{L}(\\theta) \\nonumber \\\\\n",
    "&= \\text{arg} \\max_\\theta - \\frac{1}{2\\sigma_\\varepsilon^2}  \\sum_{i=1}^M  (x_i - \\hat x)^2\n",
    "\\end{align}\n",
    "$$\n",
    "\n",
    "donde podemos ignorar el primer término ya que no depende de $\\theta$\n",
    "\n",
    "Para encontrar el máximo derivamos, igualamos a cero y despejamos\n",
    "\n",
    "$$\n",
    "\\begin{align}\n",
    "-\\frac{1}{2\\sigma_\\varepsilon^2} \\sum_{i=1}^M 2(x_i - \\hat x ) &= 0 \\nonumber \\\\\n",
    "\\hat x &= \\frac{1}{M} \\sum_{i=1}^M x_i \\nonumber \n",
    "\\end{align}\n",
    "$$\n",
    "\n",
    "> Esto se conoce como el estimador de máxima verosimilitud **para la media de una Gaussiana**\n",
    "\n",
    "(podemos comprobar que es un máximo con la segunda derivada)"
   ]
  },
  {
   "cell_type": "markdown",
   "metadata": {},
   "source": [
    "### Distribuciones y ajuste MLE con SciPy\n",
    "\n",
    "En [`scipy.stats`](https://docs.scipy.org/doc/scipy/reference/stats.html) podemos encontrar distribuciones clasificadas como\n",
    "- continuas de una variable\n",
    "- discretas de una variable\n",
    "- multivariadas\n",
    "\n",
    "Las distribuciones comparten muchos de sus métodos \n",
    "\n",
    "Consideremos la distribución Gaussiana (Normal)\n",
    "\n",
    "```python\n",
    ">>> from scipy.stats import norm\n",
    ">>> dist = norm() # Esto crea una Gaussiana con media 0 y desviación estándar (std) 1\n",
    ">>> dist = norm(loc=2, scale=2) # Esto crea una Gaussiana con media 2 y std 2\n",
    "```\n",
    "\n",
    "Revisemos algunos de sus métodos\n",
    "\n",
    "#### Crear números aleatorios con distribución normal\n",
    "\n",
    "Usamos el atributo `rvs` \n",
    "\n",
    "```python\n",
    ">>> dist = norm(loc=2, scale=2)\n",
    ">>> dist.rvs(size=10, # Cantidad de números aleatorios generados\n",
    "             random_state=None #Semilla aleatoria\n",
    "            )\n",
    "```\n",
    "#### Evaluar la función de densidad de probabilidad \n",
    "\n",
    "Por ejemplo podemos evaluar la función de densidad de probabilidad (fdp) de la Gaussiana\n",
    "$$\n",
    "f(x; \\mu, \\sigma^2) = \\frac{1}{\\sqrt{2\\pi \\sigma^2}} \\exp \\left( -\\frac{1}{2\\sigma^2} (x-\\mu)^2 \\right) \n",
    "$$\n",
    "\n",
    "usando el atributo `pdf`\n",
    "\n",
    "```python\n",
    ">>> dist = norm(loc=2, scale=2)\n",
    ">>> p = dist.pdf(x # Un ndrray que representa x en la ecuación superior\n",
    "                )\n",
    ">>> plt.plot(x, p) # Luego podemos graficar la fdp\n",
    "```\n",
    "\n",
    "El atributo `cdf` retorna la función de distribución acumulada\n",
    "\n",
    "Si la variable es discreta entonces se usa el atributo `pmf` en lugar de `pdf`\n",
    "\n",
    "#### Ajustar los parámetros con MLE\n",
    "\n",
    "Para hacer el ajuste se usa el atributo `fit`\n",
    "\n",
    "```python \n",
    ">>> params = norm.fit(data # Un ndarray con los datos\n",
    "                     ) \n",
    "```\n",
    "\n",
    "En el caso de la Gaussiana el vector params tienes dos componentes `loc` y `scale`\n",
    "\n",
    "Notar que para ajustar se usa `norm` y no `norm()`\n",
    "\n",
    "Una vez que tenemos los parámetros podemos usarlos\n",
    "\n",
    "```python\n",
    ">>> dist = norm(loc=params[0], scale=params[1])\n",
    "```\n",
    "Si la distribución tiene más de dos parámetros podemos crearla sin ambiguedad con\n",
    "\n",
    "```python\n",
    ">>> dist = norm(*params[:-2], loc=params[-2], scale=params[-1])\n",
    "```"
   ]
  },
  {
   "cell_type": "markdown",
   "metadata": {},
   "source": [
    "### Ejercicio\n",
    "\n",
    "Observemos la siguiente distribución\n",
    "- ¿Qué características resaltan?\n",
    "- ¿Qué distribución sería apropiado ajustar?"
   ]
  },
  {
   "cell_type": "code",
   "execution_count": null,
   "metadata": {
    "ExecuteTime": {
     "end_time": "2020-07-23T18:29:11.936106Z",
     "start_time": "2020-07-23T18:29:11.836900Z"
    }
   },
   "outputs": [],
   "source": [
    "df = pd.read_csv('../data/cancer.csv', index_col=0)\n",
    "df = df[[\"diagnosis\", \"radius1\", \"texture1\"]]\n",
    "x = df[\"radius1\"].values\n",
    "fig, ax = plt.subplots(figsize=(5, 3), tight_layout=True)\n",
    "ax.hist(x, bins=20, density=True)\n",
    "ax.set_xlabel('Radio del nucleo');"
   ]
  },
  {
   "cell_type": "markdown",
   "metadata": {},
   "source": [
    "- Seleccione una distribución de `scipy.stats`  ajustela a los datos\n",
    "- Grafique la pdf teórica sobre el histograma"
   ]
  },
  {
   "cell_type": "code",
   "execution_count": null,
   "metadata": {
    "ExecuteTime": {
     "end_time": "2020-07-23T18:29:11.941145Z",
     "start_time": "2020-07-23T18:29:11.938187Z"
    }
   },
   "outputs": [],
   "source": [
    "# Complete aquí\n"
   ]
  },
  {
   "cell_type": "markdown",
   "metadata": {},
   "source": [
    "## Bondad de ajuste con SciPy\n",
    "\n",
    "Podemos usar \n",
    "- el [test de Akaike](https://en.wikipedia.org/wiki/Akaike_information_criterion)\n",
    "- gráficos QQ \n",
    "- el test no-paramétrico de Kolmogorov-Smirnov (KS)\n",
    "\n",
    "\n",
    "entre otros, para medir que tan bien se ajusta nuestra distribución teórica a los datos\n",
    "\n",
    "En este caso usaremos el test de KS\n",
    "\n",
    "### Test de Kolmogorov-Smirnov\n",
    "\n",
    "Es un test no-paramétrico que compara una muestra de datos estandarizados (distribución empírica) con una CDF teórica\n",
    "\n",
    "> Hipótesis nula: La prueba trabaja bajo el supuesto de que las distribuciones son idénticas\n",
    "\n",
    "Si el p-value de la prueba es menor que $\\alpha$ entonces rechazamos lo hipótesis nula con confianza $1-\\alpha$\n",
    "\n",
    "Tipicamente $\\alpha=0.05$. Más adelante veremos test de hipótesis en detalle\n",
    "\n",
    "### Estandarización\n",
    "\n",
    "Estandarizar se refiere a la transformación\n",
    "\n",
    "$$\n",
    "z = \\frac{x - \\mu_x}{\\sigma_x}\n",
    "$$\n",
    "\n",
    "es decir los datos estándarizados tienen media cero y desviación estándar uno\n",
    "\n",
    "Esot puede hacerse facilmente con NumPy\n",
    "\n",
    "```python\n",
    ">>> z = (x - np.mean(x))/np.std(x)\n",
    "```\n",
    "\n",
    "### KS test con scipy\n",
    "\n",
    "Podemos hacer el test de KS con [`scipy.stats.kstest`](https://docs.scipy.org/doc/scipy/reference/generated/scipy.stats.kstest.html) donde\n",
    "\n",
    "```python\n",
    "scipy.stats.kstest(rvs, # Una muestra de observaciones estandarizadas\n",
    "                   cdf, # Una distribución acumulada teórica, por ejemplo scipy.stats.norm.cdf\n",
    "                   ...\n",
    "                  )\n",
    "```\n",
    "\n",
    "Esta función retorna el estadístico de KS y el *p-value*\n",
    "\n",
    "> Mientras más cerca de cero este el estadístico, mejor es el ajuste\n",
    "\n"
   ]
  },
  {
   "cell_type": "markdown",
   "metadata": {},
   "source": [
    "### Ejercicio \n",
    "\n",
    "Considere la muestra de datos anterior\n",
    "- Seleccione un conjunto de distribuciones teóricas \n",
    "- Encuentra la que tiene mejor ajuste usando `kstest`"
   ]
  },
  {
   "cell_type": "code",
   "execution_count": null,
   "metadata": {
    "ExecuteTime": {
     "end_time": "2020-07-23T18:29:12.019596Z",
     "start_time": "2020-07-23T18:29:11.943159Z"
    }
   },
   "outputs": [],
   "source": [
    "# Complete aquí\n"
   ]
  },
  {
   "cell_type": "markdown",
   "metadata": {},
   "source": [
    "## Regresión lineal con máxima verosimilitud\n",
    "\n",
    "\n",
    "Sea el siguiente dataset de consumo de helados en USA"
   ]
  },
  {
   "cell_type": "code",
   "execution_count": null,
   "metadata": {
    "ExecuteTime": {
     "end_time": "2020-07-23T18:29:12.104916Z",
     "start_time": "2020-07-23T18:29:12.021606Z"
    }
   },
   "outputs": [],
   "source": [
    "df = pd.read_csv('../data/helados.csv', header=0, index_col=0)\n",
    "df.columns = ['consumo', 'ingreso', 'precio', 'temperatura']\n",
    "display(df.head())"
   ]
  },
  {
   "cell_type": "code",
   "execution_count": null,
   "metadata": {
    "ExecuteTime": {
     "end_time": "2020-07-23T18:29:12.253260Z",
     "start_time": "2020-07-23T18:29:12.108074Z"
    }
   },
   "outputs": [],
   "source": [
    "fig, ax = plt.subplots(1, 3, figsize=(8, 3), tight_layout=True, sharey=True)\n",
    "for i, col in enumerate(df.columns[1:]):\n",
    "    ax[i].scatter(df[col], df[\"consumo\"])\n",
    "    ax[i].set_xlabel(col)\n",
    "ax[0].set_ylabel(df.columns[0]);"
   ]
  },
  {
   "cell_type": "markdown",
   "metadata": {},
   "source": [
    "### Interpretación probabilistica y MLE\n",
    "\n",
    "Sea $y$ el consumo y $x$ la temperatura.\n",
    "\n",
    "Asumiremos \n",
    "- errores gaussianos\n",
    "$$\n",
    "y_i = \\hat y_i + \\epsilon_i, \\epsilon_i \\sim \\mathcal{N}(0, \\sigma^2),\n",
    "$$\n",
    "- modelo lineal de **dos parámetros**\n",
    "$$\n",
    "\\hat y_i = \\theta_0 + \\theta_1 x_i\n",
    "$$\n",
    "- observaciones iid\n",
    "\n",
    "El estimador de máxima verosimilitud es \n",
    "\n",
    "$$\n",
    "\\begin{align}\n",
    "\\hat \\theta &= \\text{arg}\\max_\\theta \\log \\mathcal{L}(\\theta) \\nonumber \\\\\n",
    "&=\\text{arg}\\max_\\theta  - \\frac{1}{2\\sigma^2} \\sum_{i=1}^M (y_i - \\theta_0 - \\theta_1 x_i)^2 \\nonumber\n",
    "\\end{align}\n",
    "$$\n",
    "\n",
    "En este caso el estimador de máxima verosimilitud es equivalente al de mínimos cuadrados $\\hat \\theta= (X^T X)^{-1} X^T y$\n",
    "\n",
    "> Cuando usamos la solución de mínimos cuadrados estamos **asumiendo observaciones iid y verosimilitud Gaussiana con igual varianza**\n",
    "\n",
    "### Solución analítica\n",
    "\n",
    "Por completitud, estudiemos también la solución analítica\n",
    "\n",
    "Derivando con respecto a los parámetros e igualado a cero tenemos que\n",
    "\n",
    "$$\n",
    "\\sum_i y_i  - M\\theta_0 - \\theta_1  \\sum_i x_i = 0 \\rightarrow\n",
    "$$\n",
    "y\n",
    "$$\n",
    "\\sum_i y_i x_i - \\theta_0 \\sum_i x_i - \\theta_1 \\sum_i x_i^2 = 0\n",
    "$$\n",
    "\n",
    "de donde despejamos \n",
    "$$\n",
    "\\theta_0 = \\bar y - \\theta_1 \\bar x\n",
    "$$\n",
    "y\n",
    "$$\n",
    "\\theta_1 = \\frac{\\sum_i x_i y_i - M \\bar x \\bar y}{\\sum_i x_i^2 - M \\bar x^2} = \\frac{ \\sum_i (y_i - \\bar y)(x_i - \\bar x)}{\\sum_i (x_i - \\bar x)^2} = \\frac{\\text{COV}(x, y)}{\\text{Var}(x)}\n",
    "$$\n",
    "\n",
    "### Coeficiente de correlación de Pearson\n",
    "\n",
    "La fuerza de la correlación se suele medir usando\n",
    "\n",
    "$$\n",
    "r^2 = 1 - \\frac{\\sum_i ( y_i - \\hat y_i)^2}{\\sum_i ( y_i - \\bar y)^2} = 1 - \\frac{\\frac{1}{M} \\sum_i (y_i - \\hat y_i)^2}{\\text{Var}(y)} = \\frac{\\text{COV}^2(x, y)}{\\text{Var}(x) \\text{Var}(y)}\n",
    "$$\n",
    "\n",
    "donde $r = \\frac{\\text{COV}(x, y)}{\\sqrt{\\text{Var}(x) \\text{Var}(y)}} \\in [-1, 1]$ se conoce como [coeficiente de correlación de Pearson](https://en.wikipedia.org/wiki/Pearson_correlation_coefficient)\n",
    "\n",
    "donde\n",
    "- si $r=1$ existe una correlación lineal perfecta\n",
    "- si $r=-1$ existe una anticorrelación lineal perfecta\n",
    "- si $r=0$ no hay correlación lineal entre las variables\n",
    "\n",
    "En general un $r> 0.5$ se considera una correlación significativa"
   ]
  },
  {
   "cell_type": "markdown",
   "metadata": {},
   "source": [
    "### Calculando $r$ con Python\n",
    "\n",
    "Podemos usar el atributo de dataframe\n",
    "\n",
    "```python\n",
    ">>> df.corr()\n",
    "```\n",
    "\n",
    "Para obtener la matriz de correlaciones lineales\n",
    "\n",
    "También podemos usar la función de scipy \n",
    "\n",
    "```python\n",
    "scipy.stats.linregress(x, # Variable independiente unidimensional\n",
    "                       y # Variable dependiente unidimensional\n",
    "                      )\n",
    "```\n",
    "\n",
    "Esta función retorna una tupla con\n",
    "- Pendiente: $\\theta_1$\n",
    "- Intercepta: $\\theta_0$\n",
    "- Coeficiente de correlación $r$\n",
    "- p-value: Se explica en la siguiente sección\n",
    "- Error estándar del ajuste\n",
    "\n",
    "### Ejemplo\n",
    "\n",
    "Usando `linregress` sobre la base de datos de helados tenemos que"
   ]
  },
  {
   "cell_type": "code",
   "execution_count": null,
   "metadata": {
    "ExecuteTime": {
     "end_time": "2020-07-23T18:29:12.415952Z",
     "start_time": "2020-07-23T18:29:12.255458Z"
    }
   },
   "outputs": [],
   "source": [
    "fig, ax = plt.subplots(1, 3, figsize=(8, 3), tight_layout=True, sharey=True)\n",
    "ax[0].set_ylabel(df.columns[0]);\n",
    "display(df.corr())\n",
    "\n",
    "for i, col in enumerate(df.columns[1:]):\n",
    "    res = scipy.stats.linregress(df[col], df[\"consumo\"])\n",
    "    x_plot = np.linspace(np.amin(df[col]), np. amax(df[col]), num=100)\n",
    "    ax[i].scatter(df[col], df[\"consumo\"], label='datos')    \n",
    "    ax[i].plot(x_plot, res.slope*x_plot + res.intercept, lw=2, c='r', label='modelo');\n",
    "    ax[i].set_xlabel(col)\n",
    "    ax[i].set_title(f\"$r$: {res.rvalue:0.5f}\")\n",
    "    ax[i].legend()"
   ]
  },
  {
   "cell_type": "markdown",
   "metadata": {},
   "source": [
    "Es decir que existe \n",
    "- una correlación positiva alta entre consumo y temperatura\n",
    "- una correlación negativa moderada entre consumo y precio\n",
    "- una correlación cercana a cero entre consumo e ingreso"
   ]
  },
  {
   "cell_type": "markdown",
   "metadata": {},
   "source": [
    "### Reflexión\n",
    "\n",
    "1. ¿Qué tan confiables son los valores de $\\theta_0$, $\\theta_1$ y $r$?\n",
    "1. ¿Son las correlaciones encontradas significativas?\n",
    "\n",
    "\n",
    "Dos caminos para responder\n",
    "- Pruebas paramétricas: Test de hipótesis (A continuación)\n",
    "- Método no paramétrico: Bootstrap (Más abajo)"
   ]
  },
  {
   "cell_type": "markdown",
   "metadata": {},
   "source": [
    "## Test de hipótesis\n",
    "\n",
    "Se aplica un tratamiento nuevo a una muestra de la población \n",
    "- ¿Es el tratamiento efectivo?\n",
    "- ¿Existe una diferencia entre los que tomaron el tratamiento y los que no?\n",
    "\n",
    "El test de hipótesis es un procedimiento estadístico para comprobar si el resultado de un experimento es significativo en la población\n",
    "\n",
    "Para esto formulamos dos escenarios cada uno con una hipótesis asociada\n",
    "- Hipótesis nula ($H_0$): Por ejemplo\n",
    "    - \"El experimento no produjo diferencia\"\n",
    "    - \"El experimento no tuvo efecto\"\n",
    "    - \"Las observaciones son producto del azar\"\n",
    "- Hipótesis alternativa ($H_A$): Usualmente el complemento de $H_0$\n",
    "\n",
    "> El test de hipótesis se diseña para medir que tan fuerte es la evidencia **en contra** de la hipótesis nula"
   ]
  },
  {
   "cell_type": "markdown",
   "metadata": {},
   "source": [
    "### El algoritmo general de un test de hipótesis\n",
    "\n",
    "\n",
    "1. Definimos $H_0$ y $H_A$\n",
    "1. Definimos un estadístico $T$\n",
    "1. Asumimos una distribución para $T$ dado que $H_0$ es cierto\n",
    "1. Seleccionamos un nivel de significancia $\\alpha$ \n",
    "1. Calculamos el $T$ para nuestros datos $T_{data}$\n",
    "1. Calculamos el **p-value**\n",
    "    - Si nuestro test es de una cola:\n",
    "        - Superior: $p = P(T>T_{data})$\n",
    "        - Inferior: $p = P(T<T_{data})$\n",
    "    - Si nuestro test es dos colas: $p = P(T>T_{data}) + P(T<T_{data})$\n",
    "\n",
    "El p-value es la\n",
    "\n",
    "> Probabilidad de observar un valor de $T$ más extremo que el observado \n",
    "\n",
    "\n",
    "Finalmente:\n",
    "\n",
    "`Si`  $p < \\alpha$\n",
    "    \n",
    "> Rechazamos la hipótesis nula con confianza (1-$\\alpha$)\n",
    "\n",
    "`De lo contrario`\n",
    "    \n",
    "> No hay suficiente evidencia para rechazar la hipótesis nula\n",
    "\n",
    "El valor de $\\alpha$ nos permite controlar el **Error tipo I**\n",
    "\n",
    "> Rechazar $H_0$ cuando en realidad era cierta (falso positivo)\n",
    "\n",
    "Tipicamente se usa $\\alpha=0.05$ o $\\alpha=0.01$\n",
    "    \n"
   ]
  },
  {
   "cell_type": "markdown",
   "metadata": {},
   "source": [
    "###  Errores de interpretación comunes\n",
    "\n",
    "> El p-value **no es** la probabilidad de que $H_0$ sea cierta\n",
    "\n",
    "$$\n",
    "p = P(T> T_{data} | H_0) \\neq P(H_0 | T> T_{data})\n",
    "$$\n",
    "    \n",
    "Además\n",
    "- No rechazar $H_0$ no es lo mismo que aceptarla\n",
    "- Rechazar $H_0$ no es lo mismo que aceptar $H_A$"
   ]
  },
  {
   "cell_type": "markdown",
   "metadata": {},
   "source": [
    "### t-test de una muestra \n",
    "\n",
    "Para un conjunto de $M$ observaciones iid $X = {x_1, x_2, \\ldots, x_M}$ con media muestral $\\bar x = \\sum_{i=1}^M x_i$ \n",
    "\n",
    "El t-test de una muestra es un test de hipótesis que busca probar si $\\bar x$ es significativamente distinta de la **media poblacional** $\\mu$, en el caso de que **no conocemos la varianza poblacional** $\\sigma^2$\n",
    "\n",
    "Las hipótesis son\n",
    "\n",
    "- $H_0:$ $\\bar x = \\mu$\n",
    "- $H_A:$ $\\bar x \\neq \\mu$ (dos colas)\n",
    "\n",
    "El estadístico de prueba es \n",
    "\n",
    "$$\n",
    "t = \\frac{\\bar x - \\mu}{\\hat \\sigma /\\sqrt{M-1}}\n",
    "$$\n",
    "\n",
    "donde $\\hat \\sigma = \\sqrt{ \\frac{1}{M} \\sum_{i=1}^M (x_i - \\bar x)^2}$ es la desviación estándar muestral (sesgada)\n",
    "\n",
    "Si asumimos que $\\bar x$ se distribuye $\\mathcal{N}(\\mu, \\frac{\\sigma^2}{M})$ entonces\n",
    "$t$ que se distribuye [t-student](https://en.wikipedia.org/wiki/Student%27s_t-distribution) con $M-1$ grados de libertad\n",
    "\n",
    "- Para muestras iid y $M$ grande el supuesto se cumple por teorema central del límite\n",
    "- Si $M$ es pequeño debemos verificar la normalidad de los datos"
   ]
  },
  {
   "cell_type": "markdown",
   "metadata": {},
   "source": [
    "### t-test para probar que la regresión es significativa\n",
    "\n",
    "En este caso queremos hacer el siguiente test\n",
    "- $H_0:$ La pendiente es nula $\\theta_1= 0$ \n",
    "- $H_A:$ La pendiente no es nula: $\\theta_1\\neq 0$ (dos colas)\n",
    "\n",
    "Asumimos que $\\theta_1$ es normal pero que desconocemos su varianza \n",
    "\n",
    "Entonces se puede formular el siguiente estadístico de prueba \n",
    "\n",
    "$$\n",
    "t = \\frac{(\\theta_1-\\theta^*) }{\\text{SE}_{\\theta_1}/\\sqrt{M-2}} = \\frac{ r\\sqrt{M-2}}{\\sqrt{1-r^2}},\n",
    "$$\n",
    "\n",
    "donde en este caso particular se usa $\\theta^*=0$ y $\\text{SE}_{\\theta_1} = \\sqrt{ \\frac{\\frac{1}{M} \\sum_i (y_i - \\hat y_i)^2}{\\text{Var}(x)}}$\n",
    "\n",
    "$t$ se [t-student](https://en.wikipedia.org/wiki/Student%27s_t-distribution) con dos grados de libertad (modelo de dos parámetros) \n"
   ]
  },
  {
   "cell_type": "markdown",
   "metadata": {},
   "source": [
    "### Ejemplo\n",
    "\n",
    "La función `scipy.stats.linregress` implementa el t-test de dos colas y retorna los p-values\n",
    "\n",
    "La siguiente figura muestra\n",
    "- Linea roja: El valor de estadístico en la muestra\n",
    "- Linea azul: La distribución supuesta del estadístico (t)\n",
    "- Lineas punteadas negras: Los percentiles 2.5 y 97.5 de la distribución"
   ]
  },
  {
   "cell_type": "code",
   "execution_count": null,
   "metadata": {
    "ExecuteTime": {
     "end_time": "2020-07-23T18:29:12.537649Z",
     "start_time": "2020-07-23T18:29:12.417765Z"
    }
   },
   "outputs": [],
   "source": [
    "fig, ax = plt.subplots(1, 3, figsize=(8, 2), tight_layout=True, sharey=True)\n",
    "M = df.shape[0]\n",
    "ax[0].set_ylabel(df.columns[0]);\n",
    "\n",
    "t = np.linspace(-7, 7, num=1000)\n",
    "dist = scipy.stats.t(loc=0, scale=1, df=M-2)\n",
    "p = dist.pdf(t)\n",
    "\n",
    "for i, col in enumerate(df.columns[1:]):\n",
    "    res = scipy.stats.linregress(df[col], df[\"consumo\"])\n",
    "    print(col, res.slope, res.pvalue, res.pvalue < 0.05)    \n",
    "    t_data = res.rvalue*np.sqrt(M-2)/np.sqrt(1.-res.rvalue**2)\n",
    "    ax[i].set_title(\"t_data: {0:0.5f}\".format(t_data))\n",
    "    ax[i].plot(t, p)\n",
    "    ax[i].plot([dist.ppf(0.025)]*2, [0, np.amax(p)], 'k--')\n",
    "    ax[i].plot([dist.ppf(0.975)]*2, [0, np.amax(p)], 'k--')\n",
    "    ax[i].plot([t_data]*2, [0, np.amax(p)], 'r-')\n",
    "    ax[i].set_xlabel(col)    "
   ]
  },
  {
   "cell_type": "markdown",
   "metadata": {},
   "source": [
    "**Conclusiones**\n",
    "\n",
    "> ¿Qué podemos decir de las correlaciones con el consumo de helados?\n",
    "\n",
    "Considerando $\\alpha = 0.05$\n",
    "\n",
    "> Rechazamos $H_0: \\theta_1=0$ (no hay correlación) para temperatura vs consumo con un 95% de confianza\n",
    "\n",
    "En cambio para ingreso y precio no podemos rechazar $H_0$"
   ]
  },
  {
   "cell_type": "markdown",
   "metadata": {},
   "source": [
    "### Reflexión\n",
    "- ¿Cómo se escogen el estadístico y la distribución de prueba? \n",
    "> Depende del problema \n",
    "- ¿Qué prueba puedo usar si quiero hacer regresión lineal multivariada? \n",
    "> Se puede usar [ANOVA](https://pythonfordatascience.org/anova-python/)\n",
    "- ¿Qué pasa si mis datos tienen una relación que no es lineal? \n",
    "- ¿Qué pasa si $\\theta_1$ no es normal? \n",
    "- ¿Qué pasa si el ruido no es Gaussiano? \n",
    "- ¿Qué pasa si el ruido es Gaussiano pero su varianza cambia en el tiempo? \n",
    "> En estos casos no se cumplen los supuestos de la prueba o del modelo, por ende el resultado no es confiable"
   ]
  },
  {
   "attachments": {
    "Screenshot_2020-07-23%20info147.png": {
     "image/png": "[encoded data removed]"
    }
   },
   "cell_type": "markdown",
   "metadata": {},
   "source": [
    "## Prueba no-paramétrica: *Bootstrap*\n",
    "\n",
    "Podemos estimar la incerteza de un estimador de forma no-paramétrica usando **muestreo tipo *bootstrap***\n",
    "\n",
    "Tomamos nuestros conjunto de datos de tamaño $M$ y creamos $T$ nuevos conjuntos que \"se le parezcan\" \n",
    "\n",
    "Luego se calcula el valor del estimador que estamos buscando en los $T$ conjuntos\n",
    "\n",
    "> Con esto obtenemos una distribución para el estimador\n",
    "\n",
    "\n",
    "<img src=\"https://www.statisticshowto.datasciencecentral.com/wp-content/uploads/2016/10/bootstrap-sample.png\">\n",
    "\n",
    "\n",
    "En este caso supondremos independencia y usaremos **Muestreo con reemplazo de tamaño $M$**\n",
    "\n",
    "![Screenshot_2020-07-23%20info147.png](attachment:Screenshot_2020-07-23%20info147.png)\n",
    "\n",
    "También existe bootstrap basado en los residuos y bootstrap dependiente"
   ]
  },
  {
   "cell_type": "markdown",
   "metadata": {},
   "source": [
    "### Implementación con Numpy y Scipy\n",
    "\n",
    "Podemos usar `numpy.random.choice` para remuestrear los datos\n",
    "\n",
    "En este caso debemos remuestrar las parejas $(x_i, y_i)$\n",
    "\n",
    "Luego calculamos y guardamos los parámetros para cada remuestreo"
   ]
  },
  {
   "cell_type": "code",
   "execution_count": null,
   "metadata": {
    "ExecuteTime": {
     "end_time": "2020-07-23T18:29:13.021567Z",
     "start_time": "2020-07-23T18:29:12.539446Z"
    }
   },
   "outputs": [],
   "source": [
    "df = pd.read_csv('../data/helados.csv', header=0, index_col=0)\n",
    "df.columns = ['consumo', 'ingreso', 'precio', 'temperatura']\n",
    "\n",
    "x, y = df[\"temperatura\"].values, df[\"consumo\"].values\n",
    "params = scipy.stats.linregress(x, y)\n",
    "\n",
    "def muestreo_reemplazo(x, y):\n",
    "    M = len(x)\n",
    "    idx = np.random.choice(M, size=M, replace=True)\n",
    "    return x[idx], y[idx]\n",
    "\n",
    "def boostrap_linregress(x, y, T=100):\n",
    "    # Parámetros: t0, t1 y r\n",
    "    params = np.zeros(shape=(T, 3)) \n",
    "    for t in range(T):\n",
    "        res = scipy.stats.linregress(*muestreo_reemplazo(x, y))\n",
    "        params[t, :] = [res.intercept, res.slope, res.rvalue]\n",
    "    return params\n",
    "\n",
    "boostrap_params = boostrap_linregress(x, y, T=1000)"
   ]
  },
  {
   "cell_type": "markdown",
   "metadata": {},
   "source": [
    "### Resultado en la base de datos de consumo de helados\n",
    "\n",
    "Veamos la distribución empírica de $r$\n",
    "\n",
    "En la figura de abajo tenemos\n",
    "- Histograma azul: Distribución bootstrap de $r$\n",
    "- Linea roja: $r$ de los datos\n",
    "- Lineas punteadas negras: Intervalo de confianza empírico al 95%\n"
   ]
  },
  {
   "cell_type": "code",
   "execution_count": null,
   "metadata": {
    "ExecuteTime": {
     "end_time": "2020-07-23T18:29:13.079035Z",
     "start_time": "2020-07-23T18:29:13.023395Z"
    }
   },
   "outputs": [],
   "source": [
    "r_bootstrap = boostrap_params[:, 2]\n",
    "\n",
    "fig, ax = plt.subplots(figsize=(4, 3), tight_layout=True)\n",
    "hist_val, hist_lim, _ = ax.hist(r_bootstrap, bins=20, density=True)\n",
    "\n",
    "ax.plot([params.rvalue]*2, [0, np.max(hist_val)], 'r-', lw=2)\n",
    "IC = np.percentile(r_bootstrap, [2.5, 97.5])\n",
    "ax.plot([IC[0]]*2, [0, np.max(hist_val)], 'k--', lw=2)\n",
    "ax.plot([IC[1]]*2, [0, np.max(hist_val)], 'k--', lw=2)\n",
    "\n",
    "display(f\"Intervalo de confianza al 95% de r {IC}\")"
   ]
  },
  {
   "cell_type": "markdown",
   "metadata": {},
   "source": [
    "> La distribución y el intervalo de confianza empírico nos hablan de la incerteza de $r$\n",
    "\n",
    "En este caso notamos que el IC está muy por sobre a 0. Podemos decir con confianza que que la correlación lineal es válida\n",
    "\n",
    "También podemos decir que es una correlación fuerte ya que es mayor a 0.5 en todo el IC\n",
    "\n",
    "Reflexione sobre lo siguiente:\n",
    "- ¿Es la distribución asintotica de $r$ normal? \n",
    "- ¿Se podría haber usado un t-test para $r$?"
   ]
  },
  {
   "cell_type": "markdown",
   "metadata": {},
   "source": [
    "### Visualizando la incerteza del modelo\n",
    "\n",
    "Usando la distribución empírica de los parámetros $\\theta_0$ y $\\theta_1$ podemos visualizar la incerteza de nuestro modelo de regresión lineal\n",
    "\n",
    "En la figura de abajo tenemos\n",
    "- Puntos azules: Datos\n",
    "- Linea roja: Modelo de regresión lineal en los datos\n",
    "- Sombra rojo claro: $\\pm 2$ desviaciones estándar del modelo en base a la distribución empírica"
   ]
  },
  {
   "cell_type": "code",
   "execution_count": null,
   "metadata": {
    "ExecuteTime": {
     "end_time": "2020-07-23T18:29:13.157915Z",
     "start_time": "2020-07-23T18:29:13.080675Z"
    }
   },
   "outputs": [],
   "source": [
    "fig, ax = plt.subplots(figsize=(4, 3), tight_layout=True)\n",
    "ax.scatter(x, y, zorder=100, s=10, label='datos')\n",
    "\n",
    "def model(theta0, theta1, x):\n",
    "    return x*theta1 + theta0\n",
    "\n",
    "ax.plot(x_plot, model(params.intercept, params.slope, x_plot),\n",
    "        c='r', lw=2, label='mejor ajuste')\n",
    "\n",
    "dist_lines = model(boostrap_params[:, 0], boostrap_params[:, 1], x_plot.reshape(-1, 1)).T\n",
    "mean_lines, std_lines = np.mean(dist_lines, axis=0), np.std(dist_lines, axis=0)\n",
    "ax.fill_between(x_plot, \n",
    "                mean_lines - 2*std_lines,\n",
    "                mean_lines + 2*std_lines, \n",
    "                color='r', alpha=0.25, label='incerteza')\n",
    "plt.legend()\n"
   ]
  },
  {
   "cell_type": "markdown",
   "metadata": {},
   "source": [
    "### Recursos adicionales\n",
    "\n",
    "Más sobre [*bootstrap* y regresión lineal](https://www.stat.cmu.edu/~cshalizi/402/lectures/08-bootstrap/lecture-08.pdf) [aquí](http://homepage.divms.uiowa.edu/~rdecook/stat3200/notes/bootstrap_4pp.pdf) y [acá](https://www.sagepub.com/sites/default/files/upm-binaries/21122_Chapter_21.pdf)"
   ]
  },
  {
   "cell_type": "code",
   "execution_count": null,
   "metadata": {},
   "outputs": [],
   "source": []
  }
 ],
 "metadata": {
  "kernelspec": {
   "display_name": "Python 3",
   "language": "python",
   "name": "python3"
  },
  "language_info": {
   "codemirror_mode": {
    "name": "ipython",
    "version": 3
   },
   "file_extension": ".py",
   "mimetype": "text/x-python",
   "name": "python",
   "nbconvert_exporter": "python",
   "pygments_lexer": "ipython3",
   "version": "3.8.2"
  },
  "toc": {
   "base_numbering": 1,
   "nav_menu": {},
   "number_sections": true,
   "sideBar": true,
   "skip_h1_title": false,
   "title_cell": "Table of Contents",
   "title_sidebar": "Contents",
   "toc_cell": false,
   "toc_position": {
    "height": "calc(100% - 180px)",
    "left": "10px",
    "top": "150px",
    "width": "384px"
   },
   "toc_section_display": true,
   "toc_window_display": true
  }
 },
 "nbformat": 4,
 "nbformat_minor": 2
}
