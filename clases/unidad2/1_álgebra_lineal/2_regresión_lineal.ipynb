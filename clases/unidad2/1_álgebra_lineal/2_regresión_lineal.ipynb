{
 "cells": [
  {
   "cell_type": "code",
   "execution_count": null,
   "metadata": {
    "ExecuteTime": {
     "end_time": "2020-06-29T20:51:20.958768Z",
     "start_time": "2020-06-29T20:51:20.944940Z"
    }
   },
   "outputs": [],
   "source": [
    "%matplotlib inline\n",
    "import matplotlib.pyplot as plt\n",
    "import numpy as np\n",
    "import pandas as pd\n",
    "from IPython.display import YouTubeVideo\n",
    "from functools import partial\n",
    "YouTubeVideo_formato = partial(YouTubeVideo, modestbranding=1, disablekb=0,\n",
    "                               width=640, height=360, autoplay=0, rel=0, showinfo=0)"
   ]
  },
  {
   "cell_type": "markdown",
   "metadata": {},
   "source": [
    "# Regresión lineal, Sobreajuste y Validación"
   ]
  },
  {
   "cell_type": "markdown",
   "metadata": {},
   "source": [
    "## Introducción\n",
    "\n",
    "Una **regresión** consiste en **ajustar** un modelo paramétrico del tipo\n",
    "\n",
    "$$\n",
    "f_\\theta: x \\rightarrow y\n",
    "$$\n",
    "\n",
    "El ajuste de este modelo nos permite\n",
    "\n",
    "- Entender como dos o más variables se relacionan\n",
    "- Predecir una variable en función de otras\n",
    "\n",
    "Estos son los objetivos del **análisis de regresión**\n",
    "\n",
    "Hablamos particularmente de **regresión lineal** cuando el modelo $f_\\theta$ es **lineal en sus parámetros**. Es decir que lo podemos escribir como\n",
    "\n",
    "$$\n",
    "\\begin{align}\n",
    "f_\\theta(x) &= \\langle x, \\theta \\rangle \\nonumber \\\\\n",
    "&= \\begin{pmatrix} x_1 & x_2 & \\ldots & x_M \\end{pmatrix} \\begin{pmatrix} \\theta_1 \\\\ \\theta_2 \\\\ \\vdots \\\\ \\theta_M \\end{pmatrix} \n",
    "\\end{align}\n",
    "$$\n",
    "\n",
    "donde $x$ representa los atributos (variables independientes) y $\\theta$ los parámetros a ajustar. Ajustar el modelo se refiere a encontrar el valor óptimo de $\\theta$. Como vimos la clase pasada\n",
    "\n",
    "- Si nuestro sistema es cuadrado podemos usar inversión\n",
    "- Si nuestro sistema es rectangular podemos usar **mínimos cuadrados**"
   ]
  },
  {
   "cell_type": "markdown",
   "metadata": {},
   "source": [
    "El ajuste del modelo se realiza en base a **datos**, que podemos visualizar como un conjunto de $N$ tuplas $(\\vec x_i, y_i)$ con $i=1,2,\\ldots,N$. Por otro lado la cantidad parámetros del modelo es $M$, es decir el largo del vector $\\theta$. \n",
    "\n",
    "Luego\n",
    "\n",
    "- Cada tupla o ejemplo aporta una ecuación al sistema\n",
    "- Cada parámetro aporta una incognita al sistema\n",
    "\n",
    "A continuación generalizaremos algunos conceptos vistos en {doc}`../1_sistemas_lineales`"
   ]
  },
  {
   "cell_type": "markdown",
   "metadata": {},
   "source": [
    "## Regresión lineal multivariada\n",
    "\n",
    "En la lección anterior ajustamos el modelo\n",
    "\n",
    "$$\n",
    "f_\\theta(x) = \\theta_0 + \\theta_1 x,\n",
    "$$\n",
    "\n",
    "con dos parámetros y una variable independiente. El modelo anterior corresponde al modelo lineal más básico: una recta. \n",
    "\n",
    "En un caso más general podríamos querer ajustar un modelo con un $x$ multidimensional\n",
    "\n",
    "Si tenemos $d$ atributos podemos construir un vector $\\vec x = (x_1, x_2, \\ldots, x_d)$ y considerar el siguiente modelo lineal\n",
    "\n",
    "$$\n",
    "\\begin{align}\n",
    "f_\\theta(\\vec x) &= \\theta_0  + \\theta_1 x_1 + \\theta_2 x_2 + \\ldots \\theta_d x_d  \\nonumber \\\\\n",
    "&= \\theta_0  + \\sum_{k=1}^d \\theta_k x_k \\nonumber \\\\\n",
    "\\end{align}\n",
    "$$\n",
    "\n",
    "Esto corresponde a ajustar un **hiperplano**"
   ]
  },
  {
   "cell_type": "markdown",
   "metadata": {
    "ExecuteTime": {
     "end_time": "2020-06-29T02:08:25.996166Z",
     "start_time": "2020-06-29T02:08:25.821375Z"
    }
   },
   "source": [
    "### Ejercicio práctico\n",
    "\n",
    "Para los datos de consumo de helados, encuentre los parámetros del **hiperplano** que ajuste mejor los datos \n",
    "\n",
    "$$\n",
    "\\text{consumo} = \\theta_0 + \\theta_1 \\cdot \\text{temperatura} + \\theta_2 \\cdot \\text{precio}\n",
    "$$\n",
    "\n",
    "- Identifique y construya el vector $b$ y la matriz $A$ ¿Cuánto vale $N$ y $M$?\n",
    "- ¿Es este un sistema cuadrado o rectangular? ¿ Es sobre o infra-determinado?\n",
    "- Encuentre $\\theta$ que minimiza la suma de errores cuadráticos\n",
    "- Grafique el plano encontrado"
   ]
  },
  {
   "cell_type": "markdown",
   "metadata": {
    "ExecuteTime": {
     "end_time": "2020-06-29T20:51:21.711238Z",
     "start_time": "2020-06-29T20:51:21.708412Z"
    }
   },
   "source": [
    "**Solución paso a paso con comentarios**"
   ]
  },
  {
   "cell_type": "code",
   "execution_count": null,
   "metadata": {
    "ExecuteTime": {
     "end_time": "2020-06-29T20:51:21.947158Z",
     "start_time": "2020-06-29T20:51:21.713122Z"
    }
   },
   "outputs": [],
   "source": [
    "YouTubeVideo_formato('h6KrwiQv5qU')"
   ]
  },
  {
   "cell_type": "markdown",
   "metadata": {},
   "source": [
    "## Modelos lineales en sus parámetros pero no en sus entradas\n",
    "\n",
    "Una regresión lineal puede considerar transformaciones \"no lineales\" sobre la entrada $x$\n",
    "\n",
    "Llamaremos función base $\\phi_j(\\cdot)$ a estas transformaciones. Luego el modelo más general de regresión lineal en sus parámetros es\n",
    "\n",
    "$$\n",
    "y = f_\\theta (x) = \\sum_{j=0}^N \\theta_j \\phi_j (x)\n",
    "$$\n",
    "\n",
    "**Ejemplo 1: Regresión polinomial**\n",
    "\n",
    "Si usamos $\\phi_j(x) = x^j$ \n",
    "\n",
    "$$\n",
    "y = f_\\theta (x) = \\theta_0 + \\theta_1 x + \\theta_2 x^2 + \\ldots\n",
    "$$\n",
    "\n",
    "obtenemos una regresión polinomial\n",
    "\n",
    "**Ejemplo 2: Regresión trigonométrica**\n",
    "\n",
    "Si usamos $\\phi_j(x) = \\cos(2\\pi j x)$\n",
    "\n",
    "$$\n",
    "y = f_\\theta (x) = \\theta_0 + \\theta_1 \\cos(2\\pi x) + \\theta_2 \\cos(4 \\pi x) + \\ldots\n",
    "$$\n",
    "\n",
    "obtenemos una regresión trigonométrica"
   ]
  },
  {
   "cell_type": "markdown",
   "metadata": {},
   "source": [
    "### Ejercicio práctico\n",
    "\n",
    "Considere los siguientes datos:"
   ]
  },
  {
   "cell_type": "code",
   "execution_count": null,
   "metadata": {
    "ExecuteTime": {
     "end_time": "2020-06-29T20:51:21.959393Z",
     "start_time": "2020-06-29T20:51:21.950059Z"
    }
   },
   "outputs": [],
   "source": [
    "np.random.seed(1234)\n",
    "x = np.linspace(0, 2, num=10)\n",
    "y = 2*np.cos(2.0*np.pi*x) + np.sin(4.0*np.pi*x) + 0.4*np.random.randn(len(x))\n",
    "x_plot = np.linspace(np.amin(x), np.amax(x), num=100)"
   ]
  },
  {
   "cell_type": "markdown",
   "metadata": {},
   "source": [
    "- Realice una regresión polinomial sobre $(x, y)$ \n",
    "- Muestre graficamente los datos y el resultado de $f_\\theta(x_{plot})$ \n",
    "- Use Jupyter widgets para modificar dinamicamente el grado del polinomio entre $M\\in[1, 15]$"
   ]
  },
  {
   "cell_type": "markdown",
   "metadata": {
    "ExecuteTime": {
     "end_time": "2020-06-29T20:51:22.054334Z",
     "start_time": "2020-06-29T20:51:21.961835Z"
    }
   },
   "source": [
    "**Solución paso a paso con comentarios**\n"
   ]
  },
  {
   "cell_type": "code",
   "execution_count": null,
   "metadata": {
    "ExecuteTime": {
     "end_time": "2020-06-29T20:51:22.272747Z",
     "start_time": "2020-06-29T20:51:22.056262Z"
    }
   },
   "outputs": [],
   "source": [
    "YouTubeVideo_formato('KvIyri8lVq4')"
   ]
  },
  {
   "cell_type": "markdown",
   "metadata": {},
   "source": [
    "¿Qué ocurre cuando $N\\geq M$?\n",
    "\n",
    "> Nuestro modelo se sobre ajusta a los datos\n",
    "\n",
    "Estudiaremos esto en detalle más adelante"
   ]
  },
  {
   "cell_type": "markdown",
   "metadata": {},
   "source": [
    "## Sistema infradeterminado (caso $N>M$)\n",
    "\n",
    "El caso del sistema infradeterminado es aquel que tiene más incognitas (parámetros) que ecuaciones. Este tipo de sistema tiene infinitas soluciones\n",
    "\n",
    "\n",
    "Considere por ejemplo las soluciones posibles de ajustar un sistema polinomial de segundo orden (tres parámetros)  con sólo dos ejemplos"
   ]
  },
  {
   "cell_type": "code",
   "execution_count": null,
   "metadata": {
    "ExecuteTime": {
     "end_time": "2020-06-29T20:51:22.840316Z",
     "start_time": "2020-06-29T20:51:22.274820Z"
    }
   },
   "outputs": [],
   "source": [
    "x = np.array([-2, 2])\n",
    "y = np.array([4, 4])\n",
    "fig, ax = plt.subplots(figsize=(6, 4), tight_layout=True)\n",
    "x_plot = np.linspace(-3, 3, num=100)\n",
    "thetas = np.zeros(shape=(200, 3))\n",
    "for i, a in enumerate(np.linspace(-10, 10, num=thetas.shape[0])):\n",
    "    ax.plot(x_plot, a  + (1 - a/4)*x_plot**2)\n",
    "    thetas[i:] = [a, 0, (1-a/4)]\n",
    "ax.scatter(x, y, s=100, c='k', zorder=10);"
   ]
  },
  {
   "cell_type": "markdown",
   "metadata": {},
   "source": [
    "Más en la práctica, la consecuencia de que el sistema sea infradeterminado es que $A^T A$ no es invertible. \n",
    "\n",
    "Para resolver el problema infradeterminado se debe una restricción adicional. La más típica es que el vector solución tenga norma mínima, por ejemplo\n",
    "\n",
    "$$\n",
    "\\min_\\theta \\| x \\|_2^2 ~\\text{s.a.}~ Ax =b\n",
    "$$\n",
    "\n",
    "que se resuelve usando $M$ [multiplicadores de Lagrange](https://es.wikipedia.org/wiki/Multiplicadores_de_Lagrange) $\\lambda$ como sigue\n",
    "\n",
    "$$\n",
    "\\begin{align}\n",
    "\\frac{d}{dx} \\| x\\|_2^2 + \\lambda^T (b - Ax) &= 2x - \\lambda^T A  \\nonumber \\\\\n",
    "&= 2Ax - A A^T \\lambda \\nonumber \\\\\n",
    "&= 2b - A A^T \\lambda = 0 \n",
    "\\end{align}\n",
    "$$\n",
    "\n",
    "De donde obtenemos que $\\lambda = 2(AA^T)^{-1}b$ y por lo tanto $x = \\frac{1}{2} A^T \\lambda = A^T (A A^T)^{-1} b$,  donde $A^T (A A^T)^{-1}$ se conoce como la pseudo-inversa \"por la derecha\"\n",
    "\n",
    "La función `np.linalg.lstsq` usa la pseudo inversa izquierda automáticamente si $N<M$ o la pseudo inversa derecha si $N>M$\n",
    "\n",
    "Es decir que NumPy asume que la mejor solución del sistema infradeterminado es la de **mínima norma euclidiana**"
   ]
  },
  {
   "cell_type": "markdown",
   "metadata": {},
   "source": [
    "## Complejidad, sobreajuste y generalización"
   ]
  },
  {
   "cell_type": "markdown",
   "metadata": {},
   "source": [
    "Un modelo con más parámetros es más flexible pero también más complejo\n",
    "\n",
    "**Complejidad:** grados de libertad de un modelo\n",
    "\n",
    "Como vimos en el ejercicio práctico anterior un exceso de flexibilidad puede producir un \"ajuste perfecto\". Un ajuste perfecto es generalmente una mala idea pues nuestros datos casi siempre tendrán ruido\n",
    "\n",
    "**Sobreajuste:** Ocurre cuando el modelo se ajusta al ruido de los datos\n",
    "\n",
    "Considere los siguientes datos ajustados con tres modelos de distinta complejidad"
   ]
  },
  {
   "cell_type": "code",
   "execution_count": null,
   "metadata": {
    "ExecuteTime": {
     "end_time": "2020-06-29T20:51:22.960070Z",
     "start_time": "2020-06-29T20:51:22.842314Z"
    }
   },
   "outputs": [],
   "source": [
    "x = np.linspace(-3, 3, num=10)\n",
    "x_plot = np.linspace(np.amin(x), np.amax(x), num=100)\n",
    "y_clean = np.poly1d([2, -4, 20]) # 2*x**2 -4*x +20\n",
    "np.random.seed(1234)\n",
    "y = y_clean(x) + 3*np.random.randn(len(x))\n",
    "poly_basis = lambda x, M : np.vstack([x**k for k in range(M)]).T\n",
    "fig, ax = plt.subplots(1, 3, figsize=(8, 3), \n",
    "                       tight_layout=True, sharex=True, sharey=True)\n",
    "\n",
    "for i, (M, title) in enumerate(zip([2, 3, 10], [\"muy simple\", \"adecuado\", \"muy complejo\"])):\n",
    "    ax[i].plot(x_plot, y_clean(x_plot), lw=2, alpha=.5, label='Modelo real')\n",
    "    ax[i].scatter(x, y, label='observaciones'); \n",
    "    theta = np.linalg.lstsq(poly_basis(x, M), y, rcond=None)[0]\n",
    "    ax[i].plot(x_plot, np.dot(poly_basis(x_plot, M), theta), 'k-', label='Modelo apredido')\n",
    "    ax[0].legend()\n",
    "    ax[i].set_title(title)"
   ]
  },
  {
   "cell_type": "markdown",
   "metadata": {},
   "source": [
    "Del ejemplo podemos ver que cuando el modelo se sobreajusta pierde capacidad de generalización\n",
    "\n",
    "**Generalización:** Capacidad de predecir adecuadamente los datos que no se usan en el ajuste\n",
    "\n",
    "Los siguientes mecanísmos se pueden usar para evitar el sobreajuste y mejorar la capacidad de generalización\n",
    "\n",
    "- Validación: Escoger la complejidad mediante pruebas de validación \n",
    "- Regularización: Penalizar la complejidad de forma adicional\n",
    "\n",
    "Se revisará en detalle la primera opción"
   ]
  },
  {
   "cell_type": "markdown",
   "metadata": {},
   "source": [
    "### Validación"
   ]
  },
  {
   "cell_type": "markdown",
   "metadata": {},
   "source": [
    "Consiste en dividir el conjunto de datos en tres subconjuntos\n",
    "\n",
    "1. Entrenamiento: Datos que se ocupan para **ajustar el modelo**\n",
    "1. Validación: Datos que se ocupan para **calibrar el modelo**\n",
    "1. Prueba: Datos que se ocupan para **comparar distintos modelos**\n",
    "\n",
    "La forma más simple de crear estos subconjuntos es **particionar aleatoriamente** la base de datos original. El objetivo de este particionamiento es que cada subconjunto sea **representativo** de la base de datos original.\n",
    "\n",
    "Para evaluar la calidad de nuestro modelo medimos el error en cada uno de estos conjuntos\n",
    "\n",
    "1. El ajuste de los parámetros se realiza minimizando el **error de entrenamiento**\n",
    "1. Calibrar el modelo, es decir seleccionar los mejores hiperparámetros del modelo, se realiza minimizando el **error de validación**. En el caso particular de la regresión polinomial el hiperparámetro que debemos calibrar es el grado del polinomio. \n",
    "1. La capacidad de generalización del modelo final se mide usando el **error de prueba**\n",
    "\n",
    "Usando este esquema podemos detectar facilmente un modelo sobreajustado ya que presentará un buen desempeño en entrenamiento pero un desempeño deficiente en validación"
   ]
  },
  {
   "cell_type": "markdown",
   "metadata": {},
   "source": [
    "### Ejercicio práctico\n",
    "\n",
    "Considere los siguientes datos"
   ]
  },
  {
   "cell_type": "code",
   "execution_count": null,
   "metadata": {
    "ExecuteTime": {
     "end_time": "2020-06-29T20:51:22.972696Z",
     "start_time": "2020-06-29T20:51:22.961916Z"
    }
   },
   "outputs": [],
   "source": [
    "x = np.linspace(-5, 5, num=30)\n",
    "x_plot = np.linspace(np.amin(x), np.amax(x), num=100)\n",
    "y_clean = np.poly1d([0.1, -0.3, -2, 10]) \n",
    "np.random.seed(1234)\n",
    "y = y_clean(x) + 1.5*np.random.randn(len(x))\n",
    "poly_basis = lambda x, M : np.vstack([x**k for k in range(M)]).T"
   ]
  },
  {
   "cell_type": "markdown",
   "metadata": {
    "ExecuteTime": {
     "end_time": "2020-06-29T03:28:30.659500Z",
     "start_time": "2020-06-29T03:28:30.653422Z"
    }
   },
   "source": [
    "Considere el modelo de regresión polinomial\n",
    "\n",
    "- Separé los datos (x,y) aleatoriamente para crear conjuntos de entrenamiento y validación\n",
    "    - Puede usar `np.random.permutation` \n",
    "- Entrene con el conjunto de entrenamiento\n",
    "- Encuentre el grado de polinomio que mejor ajusta los datos en validación según el error cuadrático medio:\n",
    "$$\n",
    "\\text{MSE} = \\frac{1}{N} \\sum_{i=1}^N e_i^2\n",
    "$$\n",
    "\n",
    "donde $e_i = y_i - f_\\theta(x_i)$"
   ]
  },
  {
   "cell_type": "markdown",
   "metadata": {
    "ExecuteTime": {
     "end_time": "2020-06-29T20:51:23.087764Z",
     "start_time": "2020-06-29T20:51:22.975044Z"
    }
   },
   "source": [
    "**Solución paso a paso con comentarios**"
   ]
  },
  {
   "cell_type": "code",
   "execution_count": null,
   "metadata": {
    "ExecuteTime": {
     "end_time": "2020-06-29T20:51:23.186615Z",
     "start_time": "2020-06-29T20:51:23.089737Z"
    }
   },
   "outputs": [],
   "source": [
    "YouTubeVideo_formato('Ydl2g6w3Wog')"
   ]
  },
  {
   "cell_type": "markdown",
   "metadata": {},
   "source": [
    "### (Extra) Regularización"
   ]
  },
  {
   "cell_type": "markdown",
   "metadata": {},
   "source": [
    "Consiste en agregar una penalización adicional al problema \n",
    "\n",
    "El ejemplo clásico es agregar que la solución tenga norma mínima\n",
    "\n",
    "$$\n",
    "\\min_x \\|Ax-b\\|_2^2 + \\lambda \\|x\\|_2^2\n",
    "$$\n",
    "\n",
    "En este caso la solución es\n",
    "\n",
    "$$\n",
    "\\hat x = (A^T A + \\lambda I)^{-1} A^T b\n",
    "$$\n",
    "\n",
    "que se conoce como **ridge regression** o **regularización de Tikhonov**\n",
    "\n",
    "$\\lambda$ es un hiper-parámetro del modelo y debe ser escogido por el usuario (usando validación)"
   ]
  },
  {
   "cell_type": "code",
   "execution_count": null,
   "metadata": {},
   "outputs": [],
   "source": []
  }
 ],
 "metadata": {
  "kernelspec": {
   "display_name": "Python 3",
   "language": "python",
   "name": "python3"
  },
  "language_info": {
   "codemirror_mode": {
    "name": "ipython",
    "version": 3
   },
   "file_extension": ".py",
   "mimetype": "text/x-python",
   "name": "python",
   "nbconvert_exporter": "python",
   "pygments_lexer": "ipython3",
   "version": "3.7.10"
  },
  "toc": {
   "base_numbering": 1,
   "nav_menu": {},
   "number_sections": true,
   "sideBar": true,
   "skip_h1_title": false,
   "title_cell": "Table of Contents",
   "title_sidebar": "Contents",
   "toc_cell": false,
   "toc_position": {},
   "toc_section_display": true,
   "toc_window_display": true
  }
 },
 "nbformat": 4,
 "nbformat_minor": 2
}
