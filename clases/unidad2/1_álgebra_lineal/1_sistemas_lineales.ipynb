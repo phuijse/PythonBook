{
 "cells": [
  {
   "cell_type": "code",
   "execution_count": null,
   "metadata": {
    "ExecuteTime": {
     "end_time": "2020-06-29T16:03:38.156554Z",
     "start_time": "2020-06-29T16:03:37.609138Z"
    }
   },
   "outputs": [],
   "source": [
    "%matplotlib inline\n",
    "import matplotlib.pyplot as plt\n",
    "import numpy as np\n",
    "import pandas as pd\n",
    "from IPython.display import YouTubeVideo\n",
    "from functools import partial\n",
    "YouTubeVideo_formato = partial(YouTubeVideo, modestbranding=1, disablekb=0,\n",
    "                               width=640, height=360, autoplay=0, rel=0, showinfo=0)"
   ]
  },
  {
   "cell_type": "markdown",
   "metadata": {},
   "source": [
    "# Algebra lineal con NumPy"
   ]
  },
  {
   "cell_type": "markdown",
   "metadata": {},
   "source": [
    "## Introducción: Bases de datos como Matrices\n",
    "\n",
    "Una base de datos es una tabla donde cada fila corresponde a una medición/sujeto/evento y cada columna a un atributo\n",
    "\n",
    "> Si nuestros atributos son numéricos entonces podemos interpretar la tabla como una matriz y cada ejemplo como un vector \n",
    "\n",
    "Considere el siguiente ejemplo de una base de datos que describe el consumo de helados promedio para un día en particular (*cons*) en función del ingreso familiar promedio (*income*), la temperatura promedio (*temp*) y el precio promedio de los helados (*price*)\n"
   ]
  },
  {
   "cell_type": "code",
   "execution_count": null,
   "metadata": {
    "ExecuteTime": {
     "end_time": "2020-06-29T16:13:20.374976Z",
     "start_time": "2020-06-29T16:13:20.346521Z"
    },
    "scrolled": false
   },
   "outputs": [],
   "source": [
    "df = pd.read_csv('../data/helados.csv', index_col=0)\n",
    "display(df.head())"
   ]
  },
  {
   "cell_type": "markdown",
   "metadata": {},
   "source": [
    "- Cada medición es un vector de cuatro componentes\n",
    "- Podemos representar la base de datos como una matriz $A \\in \\mathbb{R}^{30 \\times 4}$\n",
    "- Con esta interpretación de matriz podemos usar las **herramientas de algebra lineal** para analizar estos datos"
   ]
  },
  {
   "cell_type": "markdown",
   "metadata": {},
   "source": [
    "## ¿Qué es álgebra lineal?\n",
    "\n",
    "Es la rama de las matemáticas que analiza los sistemas de ecuaciones lineales de tipo\n",
    "\n",
    "$$\n",
    "Ax = b\n",
    "$$\n",
    "\n",
    "Es decir donde las incognitas $x$ se relacionan entre si usando sólo **adición** y **escalamiento (multiplicación por constante)**\n",
    "\n",
    "Usando herramientas de álgebra lineal podemos\n",
    "\n",
    "- Medir que tan similares o distintos son dos ejemplos: **Distancia vectorial**\n",
    "$$\n",
    "d = \\|\\vec z - \\vec y \\|\n",
    "$$\n",
    "- Comprimir nuestra base de datos: **Factorización de matrices**\n",
    "$$\n",
    "A = L D L^T\n",
    "$$\n",
    "- Predecir un atributo en función de otros: **Regresión lineal**\n",
    "$$\n",
    "y = m x + b = \\begin{pmatrix} 1 & x \\end{pmatrix} \\begin{pmatrix} b \\\\ m \\end{pmatrix}\n",
    "$$"
   ]
  },
  {
   "cell_type": "markdown",
   "metadata": {},
   "source": [
    "## Sistemas de ecuaciones lineales\n"
   ]
  },
  {
   "cell_type": "markdown",
   "metadata": {},
   "source": [
    "Respecto al ejemplo anterior, la siguiente es una pregunta interesante\n",
    "\n",
    "> ¿Es posible predecir el consumo de helados en función del ingreso, la temperatura y el precio?\n",
    "\n",
    "Para responder esta pregunta debemos primero proponer un **modelo matemático** de la forma\n",
    "\n",
    "$$\n",
    "f(\\text{ingreso}, \\text{temperatura}, \\text{precio}) \\rightarrow \\text{consumo}\n",
    "$$\n",
    "\n",
    "Existen muchas opciones de modelos, sin embargo es conveniente partir con un **modelo simple**\n",
    "\n",
    "\n",
    "En general el modelo más simple es aquel que es **lineal en sus parámetros**, es decir \n",
    "\n",
    "$$\n",
    "\\begin{align}\n",
    "\\text{consumo} &= \\text{ingreso} \\cdot x + \\text{temperatura} \\cdot  y + \\text{precio} \\cdot  z + w\\nonumber \\\\\n",
    "& = \\begin{pmatrix} \\text{ingreso} & \\text{temperatura} & \\text{precio} & 1\\end{pmatrix} \\begin{pmatrix} x \\\\ y \\\\ z \\\\ w\\end{pmatrix}\n",
    "\\end{align}\n",
    "$$\n",
    "\n",
    "En este caso **ajustar** el modelo se reduce a encontrar los valores de los **parámetros o incógnitas** $x$, $y$, $z$ y $w$. Cada ejemplo de nuestra base de datos corresponde a una ecuación como la mostrada anteriormente. Es decir que en este caso particular tenemos un sistema lineal con 30 ecuaciones y 4 incógnitas\n",
    "\n",
    "En el caso más general un **sistema lineal en sus parámetros** con $N$ ecuaciones y $M$ incógnitas se ve así:\n",
    "\n",
    "$$\n",
    "\\begin{align}\n",
    "a_{11} x_{1} + a_{12} x_{2} + \\ldots + a_{1M} x_M &= b_1 \\nonumber \\\\\n",
    "a_{21} x_{1} + a_{22} x_{2} + \\ldots + a_{2M} x_M &= b_2  \\nonumber \\\\\n",
    "\\vdots  \\nonumber \\\\\n",
    "a_{N1} x_{1} + a_{N2} x_{2} + \\ldots + a_{NM} x_M &= b_N  \\nonumber \\\\\n",
    "\\end{align}\n",
    "$$\n",
    "\n",
    "que en representación matricial es\n",
    "\n",
    "$$\n",
    "A x = b\n",
    "$$\n",
    "\n",
    "El álgebra lineal nos da herramientas para resolver este sistema. Las soluciones dependen de las características del sistema en particular. Veremos tres casos, de los cuales son revisados en detalle en esta página y un tercero se revisará en la página siguiente."
   ]
  },
  {
   "cell_type": "markdown",
   "metadata": {},
   "source": [
    "### Sistema de ecuaciones cuadrado (Caso $N=M$)\n"
   ]
  },
  {
   "cell_type": "markdown",
   "metadata": {},
   "source": [
    "Este es un caso particular donde la matriz $A$ tiene igual número de filas y columnas\n",
    "\n",
    "Estos sistemas pueden resolverse usando inversión de matrices como se muestra a continuación\n",
    "\n",
    "$$\n",
    "\\begin{align}\n",
    "A x &=  b \\nonumber \\\\\n",
    "A^{-1} A x &= A^{-1} b \\nonumber \\\\\n",
    "x &= A^{-1} b \\nonumber \n",
    "\\end{align}\n",
    "$$\n",
    "\n",
    "donde $A A^{-1} = I$, es decir debemos encontrar la inversa de la matriz $A$\n",
    "\n",
    "Podemos invertir matrices usando la función `inv` del módulo [`linalg`](https://docs.scipy.org/doc/numpy/reference/routines.linalg.html) de NumPy\n",
    "\n",
    "```python\n",
    "np.linalg.inv(A # Una matriz cuadrada\n",
    "             )\n",
    "```\n"
   ]
  },
  {
   "cell_type": "markdown",
   "metadata": {},
   "source": [
    "**Verificar invertibilidad de una matriz**\n",
    "\n",
    "El sistema tendrá solución siempre y cuando la matriz $A$ sea **no-singular**\n",
    "\n",
    "Podemos verificar si $A$ es singular comprobando si su determinante es igual a cero con la función `det`\n",
    "\n",
    "```python\n",
    "np.linalg.det(A # Una matriz cuadrada\n",
    "             )\n",
    "```\n",
    "\n",
    "Otra forma de verificar si una matriz es invertible es comprobar que todas sus columnas sean linealmente independientes (LI). Esto es equivalente a que su rango sea igual al número de columnas, lo cual se puede verificar con la función `matrix_rank`\n",
    "\n",
    "```python\n",
    "np.linalg.matrix_rank(A # Un arreglo multidimensional\n",
    "                     )\n",
    "```"
   ]
  },
  {
   "cell_type": "markdown",
   "metadata": {},
   "source": [
    "**Análisis de errores y *condition number***\n",
    "\n",
    "Incluso con determinante distinto de cero podríamos no ser capaces de resolver un sistema numéricamente sin errores\n",
    "\n",
    "Imaginemos una pequeña variación en $b$ denominada $\\delta b$. Esta variación provoca a su vez una pequeña variación en $x$ denominada $\\delta x$. Se puede encontrar una cota que compara el error relativo de $b$ y $x$ como\n",
    "\n",
    "$$\n",
    "\\frac{\\| \\delta x \\|}{\\|x\\|} \\leq \\frac{\\| A^{-1} \\|  \\|\\delta b\\|}{\\|x\\|}  = \\|A^{-1}\\| \\|A\\| \\frac{\\| \\delta b \\|}{\\|b\\|} \n",
    "$$\n",
    "\n",
    "donde se usó que $A \\delta x = \\delta b$ (propiedad de linealidad)\n",
    "\n",
    "> Esto significa que un pequeño error relativo en $b$ puede causar un gran error en $x$ \n",
    "\n",
    "El estimador de $\\|A^{-1}\\| \\|A\\|$ se llama *condition number*. Un sistema se dice \"bien condicionado\" si este valor es cercano a $1$ y \"mal condicionado\" si es mucho mayor que $1$.\n",
    "\n",
    "Podemos calcular el *condition number* con la función de NumPy `cond` como se muestra a continuación\n",
    "\n",
    "```python\n",
    "np.linalg.cond(x, # Arreglo multidimensional\n",
    "               p # El orden de la norma: 1, 2, 'fro',...\n",
    "              )\n",
    "```\n",
    "\n",
    "La norma de $A$ denominada $\\| A\\|$ es \n",
    "\n",
    "> una medida del \"tamaño\" o \"magnitud\" de $A$ en el espacio\n",
    "\n",
    "Podemos calcular la norma o tamaño de un vector o matriz usando\n",
    "\n",
    "```python\n",
    "np.linalg.norm(x, # Arreglo multidimensional\n",
    "               ord, # El orden de la norma: 1, 2, 'fro', ...\n",
    "               axis, # Sobre cual/cualeses eje/s se calcula\n",
    "               ...\n",
    "              )\n",
    "```\n",
    "\n",
    "Las normas más utilizadas son la\n",
    "\n",
    "- norma euclidana (`ord=2`) para vectores \n",
    "- norma de [Frobenius](https://www.sciencedirect.com/topics/engineering/frobenius-norm) (`ord='fro'`) para matrices\n"
   ]
  },
  {
   "cell_type": "markdown",
   "metadata": {},
   "source": [
    "### Resolviendo sistemas cuadrados eficientemente\n",
    "\n",
    "En general nos interesa sólo $x$ y no $A^{-1}$. Si un sistema de ecuaciones es grande es preferible no calcular la inversa de $A$ por su alto costo computacional. \n",
    "\n",
    "Podemos encontrar $x$ directamente en un sistema cuadrado usando la función `solve` \n",
    "\n",
    "```python\n",
    ">>> np.linalg.solve(A, b)\n",
    "```\n",
    "\n",
    "Comparemos el resultado obtenido con respecto a calcular la inversa. Para esto podemos usar la función `allclose`"
   ]
  },
  {
   "cell_type": "code",
   "execution_count": null,
   "metadata": {
    "ExecuteTime": {
     "end_time": "2020-06-29T01:58:10.183782Z",
     "start_time": "2020-06-29T01:58:09.392696Z"
    }
   },
   "outputs": [],
   "source": [
    "N = 2000\n",
    "A = np.random.rand(N, N) # Matriz cuadrada\n",
    "b = np.random.rand(N, 1) # Vector\n",
    "np.allclose(np.linalg.solve(A, b), \n",
    "            np.dot(np.linalg.inv(A), b))"
   ]
  },
  {
   "cell_type": "markdown",
   "metadata": {},
   "source": [
    "Es decir que no hay diferencia entre los resultados. Comparemos ahora el tiempo de ejecución "
   ]
  },
  {
   "cell_type": "code",
   "execution_count": null,
   "metadata": {
    "ExecuteTime": {
     "end_time": "2020-06-29T01:58:26.551889Z",
     "start_time": "2020-06-29T01:58:10.188884Z"
    }
   },
   "outputs": [],
   "source": [
    "%timeit -r5 -n5 np.dot(np.linalg.inv(A), b)\n",
    "%timeit -r5 -n5 np.linalg.solve(A, b)"
   ]
  },
  {
   "cell_type": "markdown",
   "metadata": {},
   "source": [
    "Usar `solve` es un poco más de tres veces más veloz que utilizar `inv`+`dot`\n",
    "\n",
    "¿Cómo puede ser posible esto? \n",
    "\n",
    "La respuesta es que `solve` realiza internamente una factorización del tipo\n",
    "\n",
    "$$\n",
    "\\begin{align}\n",
    "A x &= b \\nonumber \\\\\n",
    "LU x &= b \\nonumber \\\\\n",
    "L z &= b \\nonumber\n",
    "\\end{align}\n",
    "$$\n",
    "\n",
    "Donde $L$ es una matriz triangular inferior (lower) y $U$ es una matriz triangular superior (upper)\n",
    "\n",
    "$$\n",
    "L = \\begin{pmatrix} \n",
    "l_{11} & 0 & 0 & \\ldots & 0 & 0 \\\\ \n",
    "l_{21} & l_{22} & 0 &\\ldots & 0 & 0 \\\\ \n",
    "\\vdots & \\vdots & \\vdots & \\ddots & \\vdots & \\vdots \\\\\n",
    "l_{N1} & l_{N2} & l_{N3} & \\ldots & l_{N(N-1)} & l_{NN} \\\\ \n",
    "\\end{pmatrix} \\quad\n",
    "U = \\begin{pmatrix} \n",
    "u_{11} & u_{11} & u_{13} & \\ldots & u_{1(N-1)} & u_{1N} \\\\ \n",
    "u_{21} & u_{22} & u_{32} &\\ldots & u_{2(N-1)} & 0 \\\\ \n",
    "\\vdots & \\vdots & \\vdots &\\ldots & \\ddots & \\vdots \\\\\n",
    "u_{N1} & 0 & 0 & \\ldots & 0 & 0\\\\ \n",
    "\\end{pmatrix}\n",
    "$$\n",
    "\n",
    "Luego $z$ se puede obtener recursivamente\n",
    "\n",
    "$$\n",
    "z_1 = \\frac{b_1}{l_{11}}\n",
    "$$\n",
    "$$\n",
    "z_2 = \\frac{b_2 - l_{21} z_1}{l_{22}}\n",
    "$$\n",
    "$$\n",
    "z_i = \\frac{b_i - \\sum_{j=1}^{i-1} l_{ij} z_j}{l_{ii}}\n",
    "$$\n",
    "\n",
    "y $x$ se puede obtener recursivamente de $z$\n",
    "\n",
    "La librería `scipy` nos ofrece en su modulo `linalg` la función `lu` para factorizar"
   ]
  },
  {
   "cell_type": "markdown",
   "metadata": {},
   "source": [
    "### Ejercicio práctico\n",
    "\n",
    "Sea el sistema de ecuaciones\n",
    "\n",
    "$$\n",
    "\\begin{align}\n",
    "-x_{1} + 5 x_{2} &= 2 \\nonumber \\\\\n",
    "2 x_{1} + 3 x_{2} &= 1  \\nonumber \n",
    "\\end{align}\n",
    "$$\n",
    "\n",
    "1. ¿Cuántas ecuaciones e incognitas tiene este sistema? ¿Es este un sistema cuadrado?\n",
    "1. Escriba $A$, $b$  y compruebe si $A$ es invertible (determinante y rango)\n",
    "1. Encuentre la inversa de $A$ y usela para calcular $x$\n",
    "1. (Extra) Represente geometricamente el sistema y encuentra la solución de forma gráfica"
   ]
  },
  {
   "cell_type": "markdown",
   "metadata": {},
   "source": [
    "Repita para los sistemas\n",
    "\n",
    "$$\n",
    "\\begin{align}\n",
    "x_{1} + 5 x_{2} &= 2 \\nonumber \\\\\n",
    "2 x_{1} + 10 x_{2} &= 6  \\nonumber \n",
    "\\end{align}\n",
    "$$\n",
    "\n",
    "y\n",
    "\n",
    "$$\n",
    "\\begin{align}\n",
    "x_{1} + 5 x_{2} &= 2 \\nonumber \\\\\n",
    "2 x_{1} + 10 x_{2} &= 4  \\nonumber \n",
    "\\end{align}\n",
    "$$\n",
    "\n",
    "¿Qué puede decir de estos sistemas?"
   ]
  },
  {
   "cell_type": "markdown",
   "metadata": {},
   "source": [
    "**Solución paso a paso con comentarios**"
   ]
  },
  {
   "cell_type": "code",
   "execution_count": null,
   "metadata": {
    "ExecuteTime": {
     "end_time": "2020-06-29T18:49:46.532076Z",
     "start_time": "2020-06-29T18:49:46.370248Z"
    }
   },
   "outputs": [],
   "source": [
    "YouTubeVideo_formato('Z47FrSIdIAg')"
   ]
  },
  {
   "cell_type": "markdown",
   "metadata": {},
   "source": [
    "### Sistema rectangular (caso $N\\neq M$)\n"
   ]
  },
  {
   "cell_type": "markdown",
   "metadata": {},
   "source": [
    "Consideremos que\n",
    "\n",
    "- Las incognitas de un sistema representan sus grados de libertad\n",
    "- Las ecuaciones de un sistema representan sus restricciones\n",
    "\n",
    "Si tenemos un sistema \n",
    "\n",
    "- con más ecuaciones que incognitas: el sistema está sobredeterminado \n",
    "- con más incognitas que ecuaciones: el sistema está infradeterminado\n",
    "\n",
    "y en ambos casos la matriz $A$ ya no es cuadrada, es decir ya no podemos calcular la inversa. Debemos utilizar otros métodos dependiendo del caso"
   ]
  },
  {
   "cell_type": "markdown",
   "metadata": {},
   "source": [
    "### Sistema sobre-determinado (caso $N>M$)\n",
    "\n",
    "Definamos el vector de error $e = Ax - b$\n",
    "\n",
    "Podemos encontrar una solución aproximada minimizando la norma euclidiana del error\n",
    "\n",
    "$$\n",
    "\\begin{align}\n",
    "\\hat x &= \\min_x \\|e\\|_2^2 \\nonumber \\\\\n",
    "& = \\min_x e^T e \\nonumber \\\\\n",
    "& = \\min_x (Ax -b)^T (Ax -b) \\nonumber \\\\\n",
    "\\end{align}\n",
    "$$\n",
    "\n",
    "Lo cual se conoce como el **Problema de mínimos cuadrados**\n",
    "\n",
    "Para continuar tomamos la última expresión y derivamos con respecto a $x$\n",
    "\n",
    "$$\n",
    "\\begin{align}\n",
    "\\frac{d}{dx}  (A x - b)^T (A x -b) &= 2 A^T (A x -b) \\nonumber \\\\\n",
    "&= 2A^T A x - 2A^T b = 0 \\nonumber \\\\\n",
    "\\rightarrow \\hat x &= (A^T A)^{-1} A^T b \\nonumber \\\\\n",
    "&= A^{\\dagger} b \\nonumber \\\\\n",
    "\\end{align}\n",
    "$$\n",
    "\n",
    "donde $A^{\\dagger} = (A^T A)^{-1} A^T$ se conoce como la pseudo-inversa de [Moore-Penrose](https://en.wikipedia.org/wiki/Moore%E2%80%93Penrose_inverse)"
   ]
  },
  {
   "cell_type": "markdown",
   "metadata": {},
   "source": [
    "Podemos calcular la pseudo inversa con NumPy usando la función `pinv` como se muestra a continuación\n",
    "\n",
    "```python\n",
    "np.linalg.pinv(a, # Arreglo multidimensional\n",
    "               rcond=1e-15, # Los valores singulares más pequeños que rcond se anulan\n",
    "               hermitian=False # Booleano para indicar si a tiene simetría hermítica\n",
    "              )\n",
    "```\n",
    "\n",
    "Si sólo queremos obtener la solución $\\hat x$ podemos usar \n",
    "\n",
    "```python\n",
    "np.linalg.lstsq(A, # Matriz rectangular de NxM\n",
    "                b, # vector de largo N\n",
    "                rcond # idem np.linalg.pinv\n",
    "               )\n",
    "                \n",
    "```\n",
    "\n",
    "que retorna una tupla con cuatro elementos\n",
    "\n",
    "- `x`: El resultado buscado\n",
    "- `residuals`: La norma del error al cuadrado\n",
    "- `rank`: El rango de $A$\n",
    "- `s`: Los valores singulares de $A$\n",
    "\n",
    "Podemos ver la función `lstsq` como una alternativa a `solve` para el caso rectangular sobredeterminado"
   ]
  },
  {
   "cell_type": "markdown",
   "metadata": {},
   "source": [
    "### Ejercicio práctico\n",
    "\n",
    "Encuentre los parámetros de la **ecuación de la recta** que ajuste mejor los datos \n",
    "\n",
    "$$\n",
    "\\text{consumo} = \\theta_1 \\cdot \\text{temperatura} + \\theta_0\n",
    "$$\n",
    "\n",
    "- Identifique y construya el vector $b$ y la matriz $A$ ¿Cuánto vale $N$ y $M$?\n",
    "- ¿Es este un sistema cuadrado o rectangular? ¿ Es sobre o infra-determinado?\n",
    "- Encuentre $\\theta_0$ y $\\theta_1$ que minimiza la suma de errores cuadráticos\n",
    "- Grafique la recta encontrada usando `matplotlib`"
   ]
  },
  {
   "cell_type": "markdown",
   "metadata": {
    "ExecuteTime": {
     "end_time": "2020-06-29T17:53:25.909211Z",
     "start_time": "2020-06-29T17:53:25.852145Z"
    }
   },
   "source": [
    "**Solución paso a paso con comentarios**"
   ]
  },
  {
   "cell_type": "code",
   "execution_count": null,
   "metadata": {
    "ExecuteTime": {
     "end_time": "2020-06-29T18:50:10.551885Z",
     "start_time": "2020-06-29T18:50:10.412141Z"
    }
   },
   "outputs": [],
   "source": [
    "YouTubeVideo_formato('FNwIqEZtX2A')"
   ]
  },
  {
   "cell_type": "markdown",
   "metadata": {},
   "source": [
    "## Resumen de la lección\n",
    "\n",
    "En esta lección hemos aprendido a:\n",
    "\n",
    "- Reconocer sistemas de ecuaciones lineales cuadrados y rectangulares\n",
    "- Utilizar herramientas de álgebra lineal implementadas en `NumPy` para resolver los sistemas de ecuaciones"
   ]
  },
  {
   "cell_type": "code",
   "execution_count": null,
   "metadata": {},
   "outputs": [],
   "source": []
  }
 ],
 "metadata": {
  "kernelspec": {
   "display_name": "Python 3",
   "language": "python",
   "name": "python3"
  },
  "language_info": {
   "codemirror_mode": {
    "name": "ipython",
    "version": 3
   },
   "file_extension": ".py",
   "mimetype": "text/x-python",
   "name": "python",
   "nbconvert_exporter": "python",
   "pygments_lexer": "ipython3",
   "version": "3.7.10"
  },
  "toc": {
   "base_numbering": 1,
   "nav_menu": {},
   "number_sections": true,
   "sideBar": true,
   "skip_h1_title": false,
   "title_cell": "Table of Contents",
   "title_sidebar": "Contents",
   "toc_cell": false,
   "toc_position": {
    "height": "calc(100% - 180px)",
    "left": "10px",
    "top": "150px",
    "width": "294.4px"
   },
   "toc_section_display": true,
   "toc_window_display": true
  }
 },
 "nbformat": 4,
 "nbformat_minor": 2
}
