{
 "cells": [
  {
   "cell_type": "code",
   "execution_count": null,
   "metadata": {
    "ExecuteTime": {
     "end_time": "2020-06-29T18:49:37.298255Z",
     "start_time": "2020-06-29T18:49:37.280327Z"
    }
   },
   "outputs": [],
   "source": [
    "from IPython.display import YouTubeVideo, Markdown, SVG\n",
    "from functools import partial\n",
    "YouTubeVideo_formato = partial(YouTubeVideo, modestbranding=1, disablekb=0,\n",
    "                               width=640, height=360, autoplay=0, rel=0, showinfo=0)\n",
    "\n",
    "display(Markdown(filename='../../preamble.md'))"
   ]
  },
  {
   "cell_type": "code",
   "execution_count": null,
   "metadata": {
    "ExecuteTime": {
     "end_time": "2020-06-29T16:03:38.156554Z",
     "start_time": "2020-06-29T16:03:37.609138Z"
    }
   },
   "outputs": [],
   "source": [
    "%matplotlib notebook\n",
    "import numpy as np\n",
    "import pandas as pd\n",
    "import matplotlib.pyplot as plt"
   ]
  },
  {
   "cell_type": "markdown",
   "metadata": {},
   "source": [
    "# Bases de datos como Matrices\n",
    "\n",
    "Una base de datos es una tabla donde cada fila corresponde a una medición/sujeto/evento y cada columna a un atributo\n",
    "\n",
    "> Si nuestros atributos son numéricos entonces podemos interpretar la tabla como una matriz y cada ejemplo como un vector \n",
    "\n",
    "Considere el siguiente ejemplo de una base de datos que describe el consumo de helados promedio para un día en particular en función del ingreso familiar promedio, la temperatura promedio y el precio promedio de los helados\n"
   ]
  },
  {
   "cell_type": "code",
   "execution_count": null,
   "metadata": {
    "ExecuteTime": {
     "end_time": "2020-06-29T16:13:20.374976Z",
     "start_time": "2020-06-29T16:13:20.346521Z"
    },
    "scrolled": false
   },
   "outputs": [],
   "source": [
    "df = pd.read_csv('../data/helados.csv', index_col=0)\n",
    "display(df.head(), df.shape)"
   ]
  },
  {
   "cell_type": "markdown",
   "metadata": {},
   "source": [
    "Cada medición es un vector de cuatro componentes\n",
    "\n",
    "Podemos representar la base de datos como una matriz $A \\in \\mathbb{R}^{30 \\times 4}$\n",
    "\n",
    "Al darle interpretación de matriz significa que podemos usar las **herramientas de algebra lineal** para analizar estos datos"
   ]
  },
  {
   "cell_type": "markdown",
   "metadata": {},
   "source": [
    "# Algebra lineal\n",
    "\n",
    "Es la rama de las matemáticas que analiza los sistemas de ecuaciones lineales de tipo\n",
    "\n",
    "$$\n",
    "Ax = b\n",
    "$$\n",
    "\n",
    "Es decir donde las incognitas $x$ se relacionan entre si usando sólo **adición** y **escalamiento (multiplicación por constante)**\n",
    "\n",
    "$$\n",
    "a_1 x_1 + a_2 x_2 = b\n",
    "$$\n",
    "\n",
    "Usando algebra lineal podemos\n",
    "\n",
    "- Medir que tan similares o distintos son dos ejemplos: Distancia vectorial\n",
    "$$\n",
    "d = \\|\\vec z - \\vec y \\|\n",
    "$$\n",
    "- Comprimir nuestra base de datos: Factorización de matrices\n",
    "$$\n",
    "A = L D L^T\n",
    "$$\n",
    "- Predecir un atributo en función de otros: Regresión lineal \n",
    "$$\n",
    "y = m x + b = \\begin{pmatrix} 1 & x \\end{pmatrix} \\begin{pmatrix} b \\\\ m \\end{pmatrix}\n",
    "$$"
   ]
  },
  {
   "cell_type": "markdown",
   "metadata": {},
   "source": [
    "# Sistemas de ecuaciones lineales\n"
   ]
  },
  {
   "cell_type": "markdown",
   "metadata": {},
   "source": [
    "Respecto al ejemplo anterior, la siguiente es una pregunta interesante\n",
    "\n",
    "> ¿Es posible predecir el consumo de helados en función del ingreso, la temperatura y el precio?\n",
    "\n",
    "Para responder esta pregunta debemos primero proponer un **modelo**\n",
    "\n",
    "$$\n",
    "f(\\text{ingreso}, \\text{temperatura}, \\text{precio}) \\rightarrow \\text{consumo}\n",
    "$$\n",
    "\n",
    "Existen muchas opciones de modelos, sin embargo es conveniente partir con un **modelo simple**\n",
    "\n",
    "\n",
    "Tal vez el modelo más simple es aquel que es **lineal en sus parámetros**, es decir \n",
    "\n",
    "$$\n",
    "\\begin{align}\n",
    "\\text{consumo} &= \\text{ingreso} \\cdot x + \\text{temperatura} \\cdot  y + \\text{precio} \\cdot  z + w\\nonumber \\\\\n",
    "& = \\begin{pmatrix} \\text{ingreso} & \\text{temperatura} & \\text{precio} & 1\\end{pmatrix} \\begin{pmatrix} x \\\\ y \\\\ z \\\\ w\\end{pmatrix}\n",
    "\\end{align}\n",
    "$$\n",
    "\n",
    "En este caso **ajustar** el modelo se reduce a\n",
    "> encontrar los valores de los **parámetros o incognitas** $x$, $y$, $z$ y $w$\n",
    "\n",
    "Cada ejemplo de nuestra base de datos corresponde a una ecuación como la mostrada anteriormente\n",
    "\n",
    "Es decir que tenemos\n",
    "\n",
    "> Un sistema lineal con 30 ecuaciones y 3 incognitas\n",
    "\n",
    "En el caso más general un **sistema lineal en sus parámetros** con $N$ ecuaciones y $M$ incognitas se ve así:\n",
    "\n",
    "$$\n",
    "\\begin{align}\n",
    "a_{11} x_{1} + a_{12} x_{2} + \\ldots + a_{1M} x_M &= b_1 \\nonumber \\\\\n",
    "a_{21} x_{1} + a_{22} x_{2} + \\ldots + a_{2M} x_M &= b_2  \\nonumber \\\\\n",
    "\\vdots  \\nonumber \\\\\n",
    "a_{N1} x_{1} + a_{N2} x_{2} + \\ldots + a_{NM} x_M &= b_N  \\nonumber \\\\\n",
    "\\end{align}\n",
    "$$\n",
    "\n",
    "que en representación matricial es\n",
    "\n",
    "$$\n",
    "A x = b\n",
    "$$\n",
    "\n",
    "El álgebra lineal nos da herramientas para resolver este sistema\n",
    "\n",
    "> Las soluciones dependen de las características del sistema"
   ]
  },
  {
   "cell_type": "markdown",
   "metadata": {},
   "source": [
    "## Caso $N=M$: Sistema cuadrado\n"
   ]
  },
  {
   "cell_type": "markdown",
   "metadata": {},
   "source": [
    "Este es un caso particular conocido como **sistema cuadrado**\n",
    "\n",
    "> La matriz $A$ tiene igual número de filas y columnas\n",
    "\n",
    "Estos sistemas pueden resolverse con\n",
    "\n",
    "$$\n",
    "\\begin{align}\n",
    "A x &=  b \\nonumber \\\\\n",
    "A^{-1} A x &= A^{-1} b \\nonumber \\\\\n",
    "x &= A^{-1} b \\nonumber \n",
    "\\end{align}\n",
    "$$\n",
    "\n",
    "donde $A A^{-1} = I$, es decir\n",
    "\n",
    "> Debemos encontrar la inversa de la matriz $A$\n",
    "\n",
    "Podemos invertir matrices usando el módulo [`linalg`](https://docs.scipy.org/doc/numpy/reference/routines.linalg.html) de NumPy\n",
    "\n",
    "```python\n",
    "np.linalg.inv(A # Una matriz cuadrada\n",
    "             )\n",
    "```\n"
   ]
  },
  {
   "cell_type": "markdown",
   "metadata": {},
   "source": [
    "### Verificar invertibilidad \n",
    "\n",
    "El sistema tendrá solución siempre y cuando la matriz $A$ sea **no-singular**\n",
    "\n",
    "Podemos verificar si $A$ es singular comprobando si su determinante es igual a cero\n",
    "\n",
    "```python\n",
    "np.linalg.det(A # Una matriz cuadrada\n",
    "             )\n",
    "```\n",
    "\n",
    "Otra forma de verificar si una matriz es invertible es comprobar que todas sus columnas sean linealmente independientes (LI) \n",
    "\n",
    "Esto es equivalente a que su rango sea igual al número de columnas\n",
    "\n",
    "```python\n",
    "np.linalg.matrix_rank(A # Un arreglo multidimensional\n",
    "                     )\n",
    "```"
   ]
  },
  {
   "cell_type": "markdown",
   "metadata": {},
   "source": [
    "**Ejercicio**\n",
    "\n",
    "Sea el sistema de ecuaciones\n",
    "\n",
    "$$\n",
    "\\begin{align}\n",
    "-x_{1} + 5 x_{2} &= 2 \\nonumber \\\\\n",
    "2 x_{1} + 3 x_{2} &= 1  \\nonumber \n",
    "\\end{align}\n",
    "$$\n",
    "\n",
    "1. ¿Cuántas ecuaciones e incognitas tiene este sistema? ¿Es este un sistema cuadrado?\n",
    "1. Escriba $A$, $b$  y compruebe si $A$ es invertible (determinante y rango)\n",
    "1. Encuentre la inversa de $A$ y usela para calcular $x$\n",
    "1. (Extra) Represente geometricamente el sistema y encuentra la solución de forma gráfica"
   ]
  },
  {
   "cell_type": "markdown",
   "metadata": {},
   "source": [
    "Repita para los sistemas\n",
    "\n",
    "$$\n",
    "\\begin{align}\n",
    "x_{1} + 5 x_{2} &= 2 \\nonumber \\\\\n",
    "2 x_{1} + 10 x_{2} &= 6  \\nonumber \n",
    "\\end{align}\n",
    "$$\n",
    "\n",
    "y\n",
    "\n",
    "$$\n",
    "\\begin{align}\n",
    "x_{1} + 5 x_{2} &= 2 \\nonumber \\\\\n",
    "2 x_{1} + 10 x_{2} &= 4  \\nonumber \n",
    "\\end{align}\n",
    "$$\n",
    "\n",
    "¿Qué puede decir de estos sistemas?"
   ]
  },
  {
   "cell_type": "code",
   "execution_count": null,
   "metadata": {
    "ExecuteTime": {
     "end_time": "2020-06-29T16:28:54.789688Z",
     "start_time": "2020-06-29T16:28:54.774546Z"
    }
   },
   "outputs": [],
   "source": [
    "# Completa aquí\n"
   ]
  },
  {
   "cell_type": "code",
   "execution_count": null,
   "metadata": {
    "ExecuteTime": {
     "end_time": "2020-06-29T18:49:46.532076Z",
     "start_time": "2020-06-29T18:49:46.370248Z"
    }
   },
   "outputs": [],
   "source": [
    "YouTubeVideo_formato('Z47FrSIdIAg')"
   ]
  },
  {
   "cell_type": "markdown",
   "metadata": {},
   "source": [
    "### Análisis de errores y *condition number*\n",
    "\n",
    "> Incluso con determinante distinto de cero podríamos no ser capaces de resolver un sistema numéricamente sin errores\n",
    "\n",
    "Imaginemos una pequeña variación en $b$ denominada $\\delta b$ \n",
    "\n",
    "Esta variación provoca a su vez una pequeña variación en $x$ denominada $\\delta x$\n",
    "\n",
    "Se puede encontrar una cota que comparar  el error relativo de $b$ y $x$ como\n",
    "\n",
    "$$\n",
    "\\frac{\\| \\delta x \\|}{\\|x\\|} \\leq \\frac{\\| A^{-1} \\|  \\|\\delta b\\|}{\\|x\\|}  = \\|A^{-1}\\| \\|A\\| \\frac{\\| \\delta b \\|}{\\|b\\|} \n",
    "$$\n",
    "\n",
    "donde se uso que $A \\delta x = \\delta b$ (linealidad)\n",
    "\n",
    "> Esto significa que un pequeño error relativo en $b$ puede causar un gran error en $x$ \n",
    "\n",
    "El estimador de $\\|A^{-1}\\| \\|A\\|$ se llama *condition number*\n",
    "\n",
    "\n",
    "- Un sistema se dice \"bien condicionado\" si este valor es cercano a $1$\n",
    "- Si es mucho mayor a $1$ el sistema es \"mal condicionado\"\n",
    "\n",
    "```python\n",
    "np.linalg.cond(x, # Arreglo multidimensional\n",
    "               p # El orden de la norma: 1, 2, 'fro',...\n",
    "              )\n",
    "```\n",
    "\n",
    "La norma de $A$ denominada $\\| A\\|$ es \n",
    "\n",
    "> una medida del \"tamaño\" o \"magnitud\" de $A$ en el espacio\n",
    "\n",
    "Podemos calcular la norma de un vector o matriz usando\n",
    "\n",
    "```python\n",
    "np.linalg.norm(x, # Arreglo multidimensional\n",
    "               ord, # El orden de la norma: 1, 2, 'fro', ...\n",
    "               axis, # Sobre cuales ejes se calcula\n",
    "               ...\n",
    "              )\n",
    "```\n",
    "\n",
    "La norma de orden $p$ de un vector de large $N$ se define como\n",
    "\n",
    "$$\n",
    "\\|A \\|_p = \\sqrt[p]{\\sum_{i=1}^N a_{i}^p}\n",
    "$$\n",
    "\n",
    "Las normas más usada es la euclidana ($p=2$) y la de [Frobenius](https://www.sciencedirect.com/topics/engineering/frobenius-norm) (orden 2 para matrices)"
   ]
  },
  {
   "cell_type": "markdown",
   "metadata": {},
   "source": [
    "### Resolviendo sistemas cuadrados eficientemente\n",
    "\n",
    "En general nos interesa $x$ más que $A^{-1}$\n",
    "\n",
    "Si un sistema de ecuaciones es grande es preferible no calcular la inversa por su alto costo\n",
    "\n",
    "Podemos encontrar $x$ en un sistema cuadrado usando la función\n",
    "\n",
    "```python\n",
    ">>> np.linalg.solve(A, b)\n",
    "```\n",
    "\n",
    "Comparemos el resultado y el tiempo de ejecución"
   ]
  },
  {
   "cell_type": "code",
   "execution_count": null,
   "metadata": {
    "ExecuteTime": {
     "end_time": "2020-06-29T01:58:10.183782Z",
     "start_time": "2020-06-29T01:58:09.392696Z"
    }
   },
   "outputs": [],
   "source": [
    "N = 2000\n",
    "A = np.random.rand(N, N)\n",
    "b = np.random.rand(N, 1)\n",
    "np.allclose(np.linalg.solve(A, b), np.dot(np.linalg.inv(A), b))"
   ]
  },
  {
   "cell_type": "code",
   "execution_count": null,
   "metadata": {
    "ExecuteTime": {
     "end_time": "2020-06-29T01:58:26.551889Z",
     "start_time": "2020-06-29T01:58:10.188884Z"
    }
   },
   "outputs": [],
   "source": [
    "%timeit -r5 -n5 np.linalg.inv(A)\n",
    "%timeit -r5 -n5 np.linalg.solve(A, b)"
   ]
  },
  {
   "cell_type": "markdown",
   "metadata": {},
   "source": [
    "¿Por qué `solve` es más rápido que `inv`+`dot`?\n",
    "\n",
    "`solve` realiza internamente una factorización\n",
    "\n",
    "$$\n",
    "\\begin{align}\n",
    "A x &= b \\nonumber \\\\\n",
    "LU x &= b \\nonumber \\\\\n",
    "L z &= b \\nonumber\n",
    "\\end{align}\n",
    "$$\n",
    "\n",
    "Donde $L$ es una matriz triangular inferior (lower) y $U$ es una matriz triangular superior (upper)\n",
    "\n",
    "$$\n",
    "L = \\begin{pmatrix} \n",
    "l_{11} & 0 & 0 & \\ldots & 0 & 0 \\\\ \n",
    "l_{21} & l_{22} & 0 &\\ldots & 0 & 0 \\\\ \n",
    "\\vdots & \\vdots & \\vdots & \\ddots & \\vdots & \\vdots \\\\\n",
    "l_{N1} & l_{N2} & l_{N3} & \\ldots & l_{N(N-1)} & l_{NN} \\\\ \n",
    "\\end{pmatrix} \\quad\n",
    "U = \\begin{pmatrix} \n",
    "u_{11} & u_{11} & u_{13} & \\ldots & u_{1(N-1)} & u_{1N} \\\\ \n",
    "u_{21} & u_{22} & u_{32} &\\ldots & u_{2(N-1)} & 0 \\\\ \n",
    "\\vdots & \\vdots & \\vdots &\\ldots & \\ddots & \\vdots \\\\\n",
    "u_{N1} & 0 & 0 & \\ldots & 0 & 0\\\\ \n",
    "\\end{pmatrix}\n",
    "$$\n",
    "\n",
    "Luego $z$ se puede obtener recursivamente\n",
    "\n",
    "$$\n",
    "z_1 = \\frac{b_1}{l_{11}}\n",
    "$$\n",
    "$$\n",
    "z_2 = \\frac{b_2 - l_{21} z_1}{l_{22}}\n",
    "$$\n",
    "$$\n",
    "z_i = \\frac{b_i - \\sum_{j=1}^{i-1} l_{ij} z_j}{l_{ii}}\n",
    "$$\n",
    "\n",
    "y $x$ se puede obtener recursivamente de $z$\n",
    "\n",
    "La librería `scipy` nos ofrece en su modulo `linalg` la función `lu` para factorizar"
   ]
  },
  {
   "cell_type": "markdown",
   "metadata": {},
   "source": [
    "## Caso $N\\neq M$: Sistema rectangular\n"
   ]
  },
  {
   "cell_type": "markdown",
   "metadata": {},
   "source": [
    "Las incognitas de un sistema representan sus grados de libertad\n",
    "\n",
    "Las ecuaciones de un sistema representan sus restricciones\n",
    "\n",
    "Si tenemos un sistema \n",
    "\n",
    "- con más ecuaciones que incognitas: sobredeterminado \n",
    "- con más incognitas que ecuaciones: infradeterminado\n",
    "\n",
    "> la matriz $A$ ya no es cuadrada, es decir ya no podemos calcular la inversa\n",
    "\n",
    "Debemos utilizar otros métodos dependiendo del caso"
   ]
  },
  {
   "cell_type": "markdown",
   "metadata": {},
   "source": [
    "### Caso $N>M$: Sistema sobre-determinado\n",
    "\n",
    "Definamos el vector de error $e = Ax - b$\n",
    "\n",
    "Podemos encontrar una solución aproximada minizando la norma euclidiana (magnitud) del error\n",
    "\n",
    "$$\n",
    "\\begin{align}\n",
    "\\hat x &= \\min_x \\|e\\|_2^2 \\nonumber \\\\\n",
    "& = \\min_x e^T e \\nonumber \\\\\n",
    "& = \\min_x (Ax -b)^T (Ax -b) \\nonumber \\\\\n",
    "\\end{align}\n",
    "$$\n",
    "\n",
    "> Esto se conoce como el **Problema de mínimos cuadrados**\n",
    "\n",
    "Para continuar tomamos la última expresión y derivamos con respecto a $x$\n",
    "\n",
    "$$\n",
    "\\begin{align}\n",
    "\\frac{d}{dx}  (A x - b)^T (A x -b) &= 2 A^T (A x -b) \\nonumber \\\\\n",
    "&= 2A^T A x - 2A^T b = 0 \\nonumber \\\\\n",
    "\\rightarrow \\hat x &= (A^T A)^{-1} A^T b \\nonumber \\\\\n",
    "&= A^{\\dagger} b \\nonumber \\\\\n",
    "\\end{align}\n",
    "$$\n",
    "\n",
    "donde $A^{\\dagger} = (A^T A)^{-1} A^T$ se conoce como la pseudo-inversa de [Moore-Penrose](https://en.wikipedia.org/wiki/Moore%E2%80%93Penrose_inverse)\n",
    "\n",
    "Podemos calcular la pseudo inversa usando\n",
    "\n",
    "```python\n",
    "np.linalg.pinv(a, # Arreglo multidimensional\n",
    "               rcond=1e-15, # Los valores singulares más pequeños que rcond se anulan\n",
    "               hermitian=False # Booleano para indicar si a tiene simetría hermítica\n",
    "              )\n",
    "```\n",
    "\n",
    "Si sólo queremos obtener la solución $\\hat x$ podemos usar\n",
    "\n",
    "```python\n",
    "np.linalg.lstsq(A, # Matriz rectangular de NxM\n",
    "                b, # vector de largo N\n",
    "                rcond # idem np.linalg.pinv\n",
    "               )\n",
    "                \n",
    "```\n",
    "\n",
    "```python\n",
    ">>> r = np.linalg.lstsq(A, b, rcond=None)\n",
    ">>> r[0] # x\n",
    ">>> r[1] # norma del error al cuadrado\n",
    ">>> r[2] # rango de A\n",
    ">>> r[3] # valores singulares de A\n",
    "```"
   ]
  },
  {
   "cell_type": "markdown",
   "metadata": {},
   "source": [
    "**Ejercicio**\n",
    "\n",
    "Encuentre los parámetros de la **ecuación de la recta** que ajuste mejor los datos \n",
    "\n",
    "$$\n",
    "\\text{consumo} = \\theta_1 \\cdot \\text{temperatura} + \\theta_0\n",
    "$$\n",
    "\n",
    "- Identifique y construya el vector $b$ y la matriz $A$ ¿Cuánto vale $N$ y $M$?\n",
    "- ¿Es este un sistema cuadrado o rectangular? ¿ Es sobre o infra-determinado?\n",
    "- Encuentre $\\theta_0$ y $\\theta_1$ que minimiza la suma de errores cuadráticos\n",
    "- Grafique la recta encontrada"
   ]
  },
  {
   "cell_type": "code",
   "execution_count": null,
   "metadata": {
    "ExecuteTime": {
     "end_time": "2020-06-29T17:53:25.909211Z",
     "start_time": "2020-06-29T17:53:25.852145Z"
    }
   },
   "outputs": [],
   "source": [
    "# Completa tu solución aquí\n",
    "b = df[\"cons\"].values\n",
    "A = np.ones(shape=(len(b), 2))\n",
    "A[:, 1] = df[\"temp\"].values\n",
    "\n",
    "theta = np.linalg.lstsq(A, b, rcond=None)[0]\n",
    "display(theta)\n",
    "\n",
    "fig, ax = plt.subplots(figsize=(5, 4), tight_layout=True)\n",
    "ax.scatter(df[\"temp\"], df[\"cons\"], label='datos')\n",
    "\n",
    "t_plot = np.linspace(np.amin(A[:, 1]), np.amax(A[:, 1]), num=100)\n",
    "ax.plot(t_plot, theta[0] + theta[1]*t_plot, 'k-', lw=2, label='modelo')\n",
    "\n",
    "plt.legend();"
   ]
  },
  {
   "cell_type": "code",
   "execution_count": null,
   "metadata": {
    "ExecuteTime": {
     "end_time": "2020-06-29T18:50:10.551885Z",
     "start_time": "2020-06-29T18:50:10.412141Z"
    }
   },
   "outputs": [],
   "source": [
    "YouTubeVideo_formato('FNwIqEZtX2A')"
   ]
  },
  {
   "cell_type": "markdown",
   "metadata": {},
   "source": [
    "### Caso $N<M$: Sistema infra-determinado\n",
    "\n",
    "Caso con más incognitas que ecuaciones\n",
    "\n",
    "> Lo revisaremos en la lección siguiente\n"
   ]
  },
  {
   "cell_type": "code",
   "execution_count": null,
   "metadata": {},
   "outputs": [],
   "source": []
  }
 ],
 "metadata": {
  "kernelspec": {
   "display_name": "Python 3",
   "language": "python",
   "name": "python3"
  },
  "language_info": {
   "codemirror_mode": {
    "name": "ipython",
    "version": 3
   },
   "file_extension": ".py",
   "mimetype": "text/x-python",
   "name": "python",
   "nbconvert_exporter": "python",
   "pygments_lexer": "ipython3",
   "version": "3.8.2"
  },
  "toc": {
   "base_numbering": 1,
   "nav_menu": {},
   "number_sections": true,
   "sideBar": true,
   "skip_h1_title": false,
   "title_cell": "Table of Contents",
   "title_sidebar": "Contents",
   "toc_cell": false,
   "toc_position": {
    "height": "calc(100% - 180px)",
    "left": "10px",
    "top": "150px",
    "width": "294.4px"
   },
   "toc_section_display": true,
   "toc_window_display": true
  }
 },
 "nbformat": 4,
 "nbformat_minor": 2
}
