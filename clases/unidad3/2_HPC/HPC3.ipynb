{
 "cells": [
  {
   "cell_type": "code",
   "execution_count": null,
   "metadata": {
    "ExecuteTime": {
     "end_time": "2020-08-20T14:08:26.482274Z",
     "start_time": "2020-08-20T14:08:26.458897Z"
    },
    "scrolled": false
   },
   "outputs": [],
   "source": [
    "from IPython.display import YouTubeVideo, Markdown, SVG, Code\n",
    "from functools import partial\n",
    "YouTubeVideo_formato = partial(YouTubeVideo, modestbranding=1, disablekb=0,\n",
    "                               width=640, height=360, autoplay=0, rel=0, showinfo=0)"
   ]
  },
  {
   "cell_type": "code",
   "execution_count": null,
   "metadata": {
    "ExecuteTime": {
     "end_time": "2020-08-20T14:08:30.718062Z",
     "start_time": "2020-08-20T14:08:27.652890Z"
    }
   },
   "outputs": [],
   "source": [
    "%matplotlib inline\n",
    "import numpy as np\n",
    "import matplotlib.pyplot as plt\n",
    "from functools import partial"
   ]
  },
  {
   "cell_type": "markdown",
   "metadata": {},
   "source": [
    "\n",
    "# Optimizando código Python\n",
    "\n",
    "Como ya hemos mencionado **Python** es un lenguaje versátil pero poco eficiente en comparación a lenguajes de bajo nivel (C o Fortran)\n",
    "\n",
    "Recordemos que **Python** es un lenguaje **interpretado**. Consideremos la operación\n",
    "\n",
    "    z = x + y\n",
    "    \n",
    "Esta operación sencilla requiere de <font color=\"red\">inferir el tipo</font> de $x$ e $y$ antes de sumarlos, luego debe <font color=\"red\">escoger la función \"suma\" apropiada</font> y finalmente <font color=\"red\">retornar el tipo correcto</font> de z\n",
    "\n",
    "El costo de las operaciones en rojo se llama **overhead**, y es el **costo extra** de Python versus los lenguajes compilados\n",
    "\n",
    "> Python nos da simpleza al costo de la eficiencia\n",
    "\n",
    "Sin embargo, existen varias maneras de mejorar la eficiencia de un código escrito en Python. En esta clase veremos tres:\n",
    "\n",
    "La primera y más fundamental es \n",
    "\n",
    "> **Conocer el lenguaje**: Usar la sintaxis y estructuras de Python adecuadamente \n",
    "\n",
    "Si tenemos un problema basado en arreglos podemos mejorar la eficiencia en varios órdenes de magnitud usando\n",
    "\n",
    "> **Vectorización:** Cómputo basado en arreglos con `NumPy`\n",
    "\n",
    "Finalmente, si las estructuras disponibles no son suficientes o si nuestros cálculos no son vectorizables se puede\n",
    "\n",
    "> **Conectar con lenguajes de bajo nivel:** Uniendo Python y C con `Cython`\n",
    "\n",
    "En la clase siguiente veremos como aprovechar las arquitecturas de CPU multi-nucleo con `Multiprocessing`"
   ]
  },
  {
   "cell_type": "markdown",
   "metadata": {},
   "source": [
    "## Conocer el lenguaje para ganar eficiencia\n",
    "\n",
    "**Python** tiene una curva de aprendizaje suave en comparación a lenguajes de más bajo nivel, es decir que sabiendo muy poco de **Python** ya somos capaces de escribir toda clase de rutinas\n",
    "\n",
    "Esto tiene un efecto secundario negativo en algunas personas y especialmente en aquellos que ya saben otros lenguajes \n",
    "\n",
    "> **Grave error:** Usar Python como si fuera C (o otro lenguaje)\n",
    "\n",
    "Python ofrece una gran cantidad de [funciones](https://docs.python.org/3/library/functions.html) y [módulos en su librería estándar](https://docs.python.org/3/library/index.html) que son sumamente eficientes. Usar la sintáxis y las [estructuras de datos](https://docs.python.org/3/tutorial/datastructures.html) de Python adecuadamente es el primer paso para escribir código eficiente \n",
    "\n",
    "> Tenga siempre presente lo aprendido en su curso de algoritmos y busque en la documentación de Python las estructuras de datos más apropiadas para cada problema\n",
    "\n",
    "Si necesita repasar sobre algoritmos se recomienda el siguiente material\n",
    "\n",
    "- Bibliografía complementaria del curso: [Effective Python](https://effectivepython.com/)\n",
    "- [Tratado de algoritmos y estructuras de datos en Python](https://runestone.academy/runestone/books/published/pythonds/index.html)\n",
    "- [Consejos de velocidad en la Python wiki](https://wiki.python.org/moin/PythonSpeed)\n",
    "- [Complejidad temporal de distintas estructuras de Python](https://wiki.python.org/moin/TimeComplexity)\n",
    "\n",
    "A continuación les dejo algunos consejos generales enfocados a Python"
   ]
  },
  {
   "cell_type": "markdown",
   "metadata": {},
   "source": [
    "###  Evita usar `for` siempre que se pueda en favor de las funciones nativas\n",
    "\n",
    "Muchas veces podemos evitar usar `for` con la estructura de datos o función adecuada\n",
    "\n",
    "Para ejemplificar digamos que queremos sumar los valores absolutos de los elementos de una lista"
   ]
  },
  {
   "cell_type": "code",
   "execution_count": null,
   "metadata": {
    "ExecuteTime": {
     "end_time": "2020-08-19T02:20:47.807885Z",
     "start_time": "2020-08-19T02:20:47.168600Z"
    }
   },
   "outputs": [],
   "source": [
    "x = [x for x in range(100000)]\n",
    "\n",
    "# Suma estilo C \n",
    "def suma_abs(data):\n",
    "    resultado = 0\n",
    "    for i in range(len(data)):\n",
    "        if data[i] > 0:\n",
    "            resultado += data[i]\n",
    "        else:\n",
    "            resultado -= data[i]\n",
    "    return resultado\n",
    "\n",
    "%timeit -r5 -n3 suma_abs(x)\n",
    "suma_abs(x)"
   ]
  },
  {
   "cell_type": "code",
   "execution_count": null,
   "metadata": {},
   "outputs": [],
   "source": [
    "# Mejora 1: No es necesario usar un índice, podemos iterar directamente en los elementos\n",
    "def suma_abs(data):\n",
    "    resultado = 0\n",
    "    for element in data:\n",
    "        if element > 0:\n",
    "            resultado += element\n",
    "        else:\n",
    "            resultado -= element\n",
    "    return resultado\n",
    "\n",
    "%timeit -r5 -n3 suma_abs(x)\n",
    "suma_abs(x)"
   ]
  },
  {
   "cell_type": "code",
   "execution_count": null,
   "metadata": {},
   "outputs": [],
   "source": [
    "# Mejora 2: Operar como una comprensión de lista y luego usar la función sum de Python\n",
    "%timeit -r5 -n3 sum([x if x> 0 else -x for x in x])\n",
    "sum([x if x> 0 else -x for x in x])"
   ]
  },
  {
   "cell_type": "code",
   "execution_count": null,
   "metadata": {},
   "outputs": [],
   "source": [
    "# Mejora 3: Usar las funciones sum, map y abs de Python\n",
    "%timeit -r5 -n3 sum(list(map(abs, x)))\n",
    "sum(list(map(abs, x)))"
   ]
  },
  {
   "cell_type": "markdown",
   "metadata": {},
   "source": [
    "### No reinventes la rueda con las estructuras de datos\n",
    "\n",
    "Verifica si la estructura que necesitas está implementada en Python antes de programarla tu\n",
    "\n",
    "Como ejemplo digamos que queremos contar la cantidad de elementos de cada tipo en una lista. Podríamos escribir un contador como"
   ]
  },
  {
   "cell_type": "code",
   "execution_count": null,
   "metadata": {
    "ExecuteTime": {
     "end_time": "2020-08-19T02:20:47.936604Z",
     "start_time": "2020-08-19T02:20:47.812910Z"
    }
   },
   "outputs": [],
   "source": [
    "x2 = list(np.random.randint(10, size=10000))\n",
    "\n",
    "# Un contador de elementos\n",
    "def miCounter(data):\n",
    "    count = {}\n",
    "    for element in data:\n",
    "        if element not in count:\n",
    "            count[element] = 1\n",
    "        else:\n",
    "            count[element] +=1\n",
    "    return count\n",
    "\n",
    "%timeit -r7 -n1 miCounter(x2)\n",
    "miCounter(x2)"
   ]
  },
  {
   "cell_type": "markdown",
   "metadata": {},
   "source": [
    "Sin embargo, la clase contador ya existe en `collections`, y es mucho más eficiente que la implementación \"a mano\""
   ]
  },
  {
   "cell_type": "code",
   "execution_count": null,
   "metadata": {},
   "outputs": [],
   "source": [
    "from collections import Counter\n",
    "%timeit -r7 -n1 Counter(x2)\n",
    "Counter(x2)"
   ]
  },
  {
   "cell_type": "markdown",
   "metadata": {},
   "source": [
    "### Ten atención con el overhead en funciones\n",
    "\n",
    "Python tiene un overhead considerable cada vez que se llama una función\n",
    "\n",
    "Se puede ganar desempeño haciendo *inlining* de funciones"
   ]
  },
  {
   "cell_type": "code",
   "execution_count": null,
   "metadata": {
    "ExecuteTime": {
     "end_time": "2020-08-19T02:20:48.717190Z",
     "start_time": "2020-08-19T02:20:47.938838Z"
    }
   },
   "outputs": [],
   "source": [
    "def cuadradomasuno(element):\n",
    "    return element*element + 1\n",
    "\n",
    "%timeit -r7 -n3 [cuadradomasuno(xi) for xi in x]\n",
    "#Inlining: escribo la función textualmente en lugar de evaluarla\n",
    "%timeit -r7 -n3 [xi*xi + 1 for xi in x] \n",
    "np.allclose([cuadradomasuno(xi) for xi in x], [xi*xi + 1 for xi in x] )"
   ]
  },
  {
   "cell_type": "markdown",
   "metadata": {},
   "source": [
    "### Usa variables locales dentro de los loops\n",
    "\n",
    "Si estamos obligados a usar `for` podemos ganar algo de rendimiento haciendo copias locales de atributos y funciones\n",
    "\n",
    "Por ejemplo, digamos que queremos crear una lista con todos los elementos de otra lista que cumplen la condición\n",
    "\n",
    "$$\n",
    "\\sin(x[i]) > 0 \n",
    "$$\n"
   ]
  },
  {
   "cell_type": "code",
   "execution_count": null,
   "metadata": {
    "ExecuteTime": {
     "end_time": "2020-08-19T02:20:49.385219Z",
     "start_time": "2020-08-19T02:20:48.719642Z"
    }
   },
   "outputs": [],
   "source": [
    "import math\n",
    "\n",
    "# iterando sobre la lista\n",
    "def sin_pos(data):\n",
    "    resultado = []\n",
    "    for element in data:\n",
    "        if math.sin(element) > 0:\n",
    "            resultado.append(element)\n",
    "    return resultado\n",
    "\n",
    "%timeit -r5 -n3 sin_pos(x)\n",
    "resultado1 = sin_pos(x)"
   ]
  },
  {
   "cell_type": "markdown",
   "metadata": {},
   "source": [
    "Así se vería el código si hacemos variables locales para el método `append` y la función `sin`"
   ]
  },
  {
   "cell_type": "code",
   "execution_count": null,
   "metadata": {},
   "outputs": [],
   "source": [
    "# Mejora: variables locales\n",
    "def sin_pos(data):\n",
    "    resultado = []\n",
    "    append = resultado.append\n",
    "    sin = math.sin\n",
    "    for element in data:\n",
    "        if sin(element) > 0:\n",
    "            append(element)\n",
    "    return resultado\n",
    "\n",
    "%timeit -r5 -n3 sin_pos(x)\n",
    "resultado2 = sin_pos(x)\n",
    "display(np.allclose(resultado1, resultado2))"
   ]
  },
  {
   "cell_type": "markdown",
   "metadata": {},
   "source": [
    "## Vectorización: Cómputo basado en arreglos con NumPy\n",
    "\n",
    "Consideremos el escenario en que tenemos un arreglo de datos de gran tamaño y queremos hacer una operación sobre cada elemento\n",
    "\n",
    "**Ejemplo:** Dado $\\{x\\}_i$ queremos encontrar\n",
    "\n",
    "$$\n",
    "y_i = \\frac{1}{1 + e^{-x_i}}, \\quad i = 1,2,\\ldots, N\n",
    "$$\n",
    "\n",
    "Los cómputos de este tipo se catalogan como *SIMD*: Single Instruction Multiple Data, es decir que estamos haciendo una misma operación para todos los datos\n",
    "\n",
    "Este problema se puede resolver usando un ciclo `for` \n",
    "\n",
    "```python    \n",
    "    y = []\n",
    "    for xi in x:\n",
    "        y.append(1/(1+math.exp(-xi))\n",
    "```\n",
    "\n",
    "Sin embargo, ya sabemos que esto es ineficiente en \"Python puro\"\n",
    "\n",
    "No olvidemos que las librerías de cómputo científico vistas en este curso nos ofrecen una mejor alternativa. En particular, **NumPy** nos provee de una estructura de arreglo multidimensional (ndarray) y funciones para operarla que están escritas en C y Fortran. Otras librerías como **Scipy** y **Pandas** se basan en **NumPy**\n",
    "\n",
    "> Cuando utilizamos estas librerías estamos usando código compilado en lugar de interpretado \n",
    "\n",
    "Usando **NumPy** podemos reemplazar un ciclo `for` en problemas *SIMD* por operaciones que trabajan sobre todo el arreglo, estas sa llaman **operaciones vectoriales**\n",
    "\n",
    "Por ejemplo el código que vimos anteriormente quedaría como (asumiendo que x es una lista)\n",
    "\n",
    "```python\n",
    "    x = np.array(x)\n",
    "    y = 1/(1+np.exp(-x))\n",
    "```\n",
    "    \n",
    "NumPy aplica la función exponencial a todo el arreglo x, luego aplica la aritmética (suma y división) a cada elemento del arreglo (broadcasting) y finalmente retorna un nuevo arreglo con el resultado. En general siempre que exista una operación de tipo *SIMD* podemos mejorar su rendimiento usando \n",
    "\n",
    "> **Vectorización:** Reemplazar un bucle/ciclo por operaciones vectoriales de **NumPy**\n",
    "\n",
    "A continuación revisaremos mediante ejemplos como implementar este y otros conceptos para mejorar el rendimiento"
   ]
  },
  {
   "cell_type": "markdown",
   "metadata": {},
   "source": [
    "### Reemplazar ciclo `for` por operaciones vectoriales\n",
    "\n",
    "Las operaciones vectoriales son <font color=\"red\"> funciones de NumPy</font> de tipo *element-wise* <font color=\"red\">aplicadas sobre un ndarray</font>\n",
    "\n",
    "Las funciones *element-wise* son aquellas que actuan sobre todos los elementos del arreglo de forma independiente\n",
    "\n",
    "- En la clase de NumPy (unidad 1) revisamos algunos ejemplos: exponenciación, raíces, trigonometrícas, etc\n",
    "- Las operaciones aritméticas entre ndarrays son por defecto *element-wise*\n",
    "\n",
    "Luego si tenemos un problema SIMD escrito con un `for` sobre un conjunto de datos podemos \n",
    "\n",
    "1. Convertir los datos a ndarray\n",
    "1. Escribir la operación con funciones de NumPy *element-wise*\n",
    "\n",
    "y ganar considerablemente en eficiencia de forma directa. Tenga presente que cuando las operaciones de NumPy se ejecutan sobre un ndarray se está usando código compilado"
   ]
  },
  {
   "cell_type": "markdown",
   "metadata": {},
   "source": [
    "Por ejemplo notemos la diferencia en tiempo de cómputo al hacer aritmética simple"
   ]
  },
  {
   "cell_type": "code",
   "execution_count": null,
   "metadata": {
    "ExecuteTime": {
     "end_time": "2020-08-19T02:20:50.131710Z",
     "start_time": "2020-08-19T02:20:49.387815Z"
    }
   },
   "outputs": [],
   "source": [
    "x_ndarray = np.random.randn(100000)\n",
    "x_list = list(x_ndarray)\n",
    "\n",
    "def operacion_simple(data):\n",
    "    resultado = []\n",
    "    append = resultado.append\n",
    "    for elemento in data:\n",
    "        append(elemento*elemento + elemento)\n",
    "    return resultado\n",
    "\n",
    "# Operación usando \"for con mejoras\"\n",
    "%timeit -n3 -r7 operacion_simple(x_list)\n",
    "# Operación usando numpy sobre un ndarray\n",
    "%timeit -n3 -r7 x_ndarray*x_ndarray + x_ndarray\n",
    "# Comparación entre los resultados\n",
    "np.allclose(operacion_simple(x_list), x_ndarray*x_ndarray + x_ndarray)"
   ]
  },
  {
   "cell_type": "markdown",
   "metadata": {},
   "source": [
    "Notemos que las funciones de NumPy son lentas cuando operan sobre tipos que no son ndarray\n",
    "\n",
    "Para el ejemplo de $y_i = (1 + e^{-x_i})^{-1}, \\quad i = 1,2,\\ldots, N$"
   ]
  },
  {
   "cell_type": "code",
   "execution_count": null,
   "metadata": {
    "ExecuteTime": {
     "end_time": "2020-08-19T02:20:50.770427Z",
     "start_time": "2020-08-19T02:20:50.133953Z"
    }
   },
   "outputs": [],
   "source": [
    "from math import exp\n",
    "# usando list comprehension (similar a un \"for mejorado\")\n",
    "%timeit -n3 -r7 [1./(1.+exp(xi)) for xi in x_list]\n",
    "# usando numpy sobre una lista\n",
    "%timeit -n3 -r7 1./(1+np.exp(x_list))\n",
    "# usando numpy sobre un ndarray\n",
    "%timeit -n3 -r7 1./(1+np.exp(x_ndarray))\n",
    "# Comparación entre los resultados\n",
    "np.allclose(1./(1+np.exp(x_ndarray)), [1./(1.+exp(xi)) for xi in x_list])"
   ]
  },
  {
   "cell_type": "markdown",
   "metadata": {},
   "source": [
    "Las operación sobre ndarray es casi un orden de magnitud más rápida\n",
    "\n",
    "**¿Cómo se explica esto?**\n",
    "\n",
    "Recuerde que una lista puede tener distintos tipos y estar guardada en distintos sectores de memoria. En cambio, el ndarray\n",
    "\n",
    "- Tiene un tipo definido \n",
    "- Está guardado en bloques de memoria contiguos\n",
    "\n",
    "Por ende el ndarray tiene un overhead de interpretador mucho menor\n",
    "\n",
    "Además NumPy está escrito en C/Fortran, hacer un loop en memoría contigua en C es muy eficiente\n",
    "\n",
    "Finalmente notar que NumPy puede compilarse con librerías de alto desempeño (openblas, MKL) aprovechando mejor las capacidades del hardware (Cache de CPU e instrucciones vectoriales de CPU)\n"
   ]
  },
  {
   "cell_type": "markdown",
   "metadata": {},
   "source": [
    "### Convertir operaciones lógicas sobre arreglos en máscaras\n",
    "\n",
    "Las operaciones lógicas en NumPy también son *element-wise* (Operaciones booleanas, clase NumPy, unidad 1)\n",
    "\n",
    "Si queremos recuperar los elementos de un arreglo que cumplan una cierta condición podemos\n",
    "\n",
    "1. Convertir los datos a ndarray\n",
    "1. Escribir la operación como una máscara booleana de índices\n",
    "\n",
    "Para el ejemplo anterior de recuperamos los elementos tal que $\\sin(x_i)>0$"
   ]
  },
  {
   "cell_type": "code",
   "execution_count": null,
   "metadata": {
    "ExecuteTime": {
     "end_time": "2020-08-19T02:20:51.083640Z",
     "start_time": "2020-08-19T02:20:50.773167Z"
    }
   },
   "outputs": [],
   "source": [
    "import math\n",
    "\n",
    "def sin_pos(data):\n",
    "    resultado = []\n",
    "    append = resultado.append\n",
    "    sin = math.sin\n",
    "    for element in data:\n",
    "        if sin(element) > 0:\n",
    "            append(element)\n",
    "    return resultado\n",
    "\n",
    "%timeit -r5 -n3 sin_pos(x_list)\n",
    "\n",
    "%timeit -r5 -n3 x_ndarray[np.sin(x_ndarray) > 0.]\n",
    "\n",
    "display(np.allclose(sin_pos(x_list), x_ndarray[np.sin(x_ndarray) > 0]))"
   ]
  },
  {
   "cell_type": "markdown",
   "metadata": {},
   "source": [
    "### Usa operaciónes *in-place* y vistas de arreglos para evitar copia extra de datos\n",
    "\n",
    "Cuando en NumPy hacemos\n",
    "\n",
    "```python\n",
    "    x = x*x\n",
    "```\n",
    "\n",
    "Se crea una copia interna de x*x, y luego x es direccionado a esa nueva copia. La zona de memoria con el valor original es luego eliminada por el *garbage-collector* de Python\n",
    "\n",
    "Siempre que no necesitemos el valor original podemos usar operaciones *in-place* y ganar rendimiento, ya que evitamos la copia y eliminación adicional"
   ]
  },
  {
   "cell_type": "code",
   "execution_count": null,
   "metadata": {
    "ExecuteTime": {
     "end_time": "2020-08-19T02:20:51.699699Z",
     "start_time": "2020-08-19T02:20:51.085550Z"
    }
   },
   "outputs": [],
   "source": [
    "# Copia interna y cambio de referencia de x_ndarray \n",
    "%timeit -r10 -n10 x_ndarray = np.zeros(shape=(1000000)); y = x_ndarray*x_ndarray\n",
    "# Sin copia interna\n",
    "%timeit -r10 -n10 x_ndarray = np.zeros(shape=(1000000)); x_ndarray *= x_ndarray\n",
    "# El resultado es idéntico\n",
    "x_ndarray = np.zeros(shape=(1000000))\n",
    "y = x_ndarray*x_ndarray\n",
    "x_ndarray *= x_ndarray\n",
    "np.allclose(x_ndarray, y)"
   ]
  },
  {
   "cell_type": "markdown",
   "metadata": {},
   "source": [
    "Sea $x$ un ndarray, la operación\n",
    "\n",
    "```python\n",
    "    x[2:10] \n",
    "```\n",
    "\n",
    "es una \"vista de x\". Recordar que las \"vista de arreglo\" no hacen copias en memoria ya que apuntan directamente al arreglo original. Es decir que si modificamos una vista modificamos el original"
   ]
  },
  {
   "cell_type": "markdown",
   "metadata": {},
   "source": [
    "### Aprovecha el *broadcasting* automático de NumPy\n",
    "\n",
    "Se pueden hacer operaciones vectorizadas con NumPy entre arreglos con tamaños distintos. En ese caso se aplican las reglas de *broadcasting* que vimos en la unidad 1 (clase NumPy). El *broadcasting* automático no hace copias en memoria\n",
    "\n",
    "Ejemplo 1: Si le sumas una constante a un arreglo 1D, la constante se expande y se suma a cada elemento"
   ]
  },
  {
   "cell_type": "code",
   "execution_count": null,
   "metadata": {
    "ExecuteTime": {
     "end_time": "2020-08-19T02:20:52.810029Z",
     "start_time": "2020-08-19T02:20:51.702112Z"
    }
   },
   "outputs": [],
   "source": [
    "N = 1000000\n",
    "x = np.zeros(shape=(N, ))\n",
    "# broadcasting automático\n",
    "%timeit -n10 -r10 x + 1.\n",
    "# Agrandando y luego sumando\n",
    "%timeit -n10 -r10 x + np.tile([1], len(x))\n",
    "# mismo resultado\n",
    "np.allclose(x + 1, x + np.tile([1], len(x)))"
   ]
  },
  {
   "cell_type": "markdown",
   "metadata": {},
   "source": [
    "Ejemplo 2: Si le sumas un arreglo 1D a un arreglo 2D, el arreglo 1D se expande en la dimensión que le falta"
   ]
  },
  {
   "cell_type": "code",
   "execution_count": null,
   "metadata": {
    "ExecuteTime": {
     "end_time": "2020-08-19T02:21:02.293965Z",
     "start_time": "2020-08-19T02:20:52.812659Z"
    }
   },
   "outputs": [],
   "source": [
    "N, M = 10000, 1000\n",
    "x = np.zeros(shape=(N, M)) # arreglo de NxM\n",
    "y = np.zeros(shape=(N, )) # arreglo sin dimensión\n",
    "y_ = y[:, np.newaxis] # arreglo de Nx1\n",
    "# broadcasting automático\n",
    "%timeit -n10 -r10 x + y_\n",
    "display((x + y_).shape)\n",
    "# Agrandando y luego sumando\n",
    "%timeit -n10 -r10 x + np.tile(y_, (1, x.shape[-1]))\n",
    "# mismo resultado\n",
    "np.allclose(x + y_, x + np.tile(y_, (1, x.shape[-1])))"
   ]
  },
  {
   "cell_type": "markdown",
   "metadata": {},
   "source": [
    "Ejemplo 3: Si sumas un arreglo 1D fila y un arreglo 1D columna se crea un arreglo 2D"
   ]
  },
  {
   "cell_type": "code",
   "execution_count": null,
   "metadata": {
    "ExecuteTime": {
     "end_time": "2020-08-19T02:21:15.025080Z",
     "start_time": "2020-08-19T02:21:02.295774Z"
    }
   },
   "outputs": [],
   "source": [
    "N, M = 10000, 1000\n",
    "x = np.zeros(shape=(N, 1)) # arreglo columna de Nx1\n",
    "y = np.zeros(shape=(1, M)) # arreglo fila de 1xM\n",
    "# broadcasting automático\n",
    "%timeit -n10 -r10 x + y\n",
    "display((x+y).shape)\n",
    "# Agrandando y luego sumando\n",
    "%timeit -n10 -r10 np.tile(y, (x.shape[0], 1)) + np.tile(x, (1, y.shape[-1]))\n",
    "np.allclose(x + y, np.tile(y, (x.shape[0], 1)) + np.tile(x, (1, y.shape[-1])))"
   ]
  },
  {
   "cell_type": "markdown",
   "metadata": {},
   "source": [
    "Regla de oro\n",
    "\n",
    "> Las dimensiones de dos arreglos son compatibles con *broadcast* automático si **son del mismo tamaño** o **una de ellas es igual a uno**"
   ]
  },
  {
   "cell_type": "markdown",
   "metadata": {},
   "source": [
    "### Utiliza el ordenamiento en memoría más adecuado en cada caso\n",
    "\n",
    "Como vimos en la unidad 1 (clase NumPy), los ndarray multidimensionales pueden guardarse en memoria como *row-major* (filas contiguas) o *column-major* (columnas contiguas)\n",
    "\n",
    "Por defecto las matrices en NumPy son *row-major* pero podemos forzar la contigüidad usando el atributo `order` o trasponiendo (ojo que trasponer crea una copia)\n",
    "\n",
    "Se puede verificar esto con el atributo `flag` de los ndarray"
   ]
  },
  {
   "cell_type": "code",
   "execution_count": null,
   "metadata": {
    "ExecuteTime": {
     "end_time": "2020-08-19T02:21:15.051641Z",
     "start_time": "2020-08-19T02:21:15.027132Z"
    }
   },
   "outputs": [],
   "source": [
    "data = np.arange(6).reshape(2, 3)\n",
    "display(data)\n",
    "# Verificamos los flags\n",
    "display(data.flags)\n",
    "# Así se ve row-major en memoria \n",
    "display(data.ravel())\n",
    "# Verificamos los flags\n",
    "dataT = data.T\n",
    "display(dataT.flags)\n",
    "# Así se ve column-major en memoria\n",
    "display(dataT.ravel())"
   ]
  },
  {
   "cell_type": "markdown",
   "metadata": {},
   "source": [
    "La mayoría de las funciones de NumPy funcionan más rápido en formato *row-major* (formato C). Pero algunas funciones de scipy (heredadas de Fortran) funcionan más rápido en formato *col-major* (formato Fortran)\n",
    "\n",
    "Es recomendable verificar el orden en memoria que espera la función que vas a utilizar"
   ]
  },
  {
   "cell_type": "code",
   "execution_count": null,
   "metadata": {
    "ExecuteTime": {
     "end_time": "2020-08-19T02:21:36.434997Z",
     "start_time": "2020-08-19T02:21:15.054192Z"
    }
   },
   "outputs": [],
   "source": [
    "data = np.random.randn(10000, 10000) # (row-major)\n",
    "# Sumando una fila\n",
    "%timeit -n100 -r10 np.sum(data[0, :])\n",
    "# Sumando todas las filas\n",
    "%timeit -n10 -r10 np.sum(data, axis=1)"
   ]
  },
  {
   "cell_type": "code",
   "execution_count": null,
   "metadata": {},
   "outputs": [],
   "source": [
    "# Sumando una columna\n",
    "%timeit -n100 -r10 np.sum(data[:, 0])\n",
    "# Sumando todas las columnas\n",
    "%timeit -n10 -r10 np.sum(data, axis=0)"
   ]
  },
  {
   "cell_type": "code",
   "execution_count": null,
   "metadata": {},
   "outputs": [],
   "source": [
    "# Sumando todas las columnas de la matriz traspuesta (column major)\n",
    "%timeit -n10 -r10 np.sum(data.T, axis=0)"
   ]
  },
  {
   "cell_type": "markdown",
   "metadata": {},
   "source": [
    "## Ejemplo formativo: Vectorizando el cálculo del \"Set de Julia\"\n",
    "\n",
    "Consideremos el código en \"Python puro\" que vimos en la clase de *profiling*"
   ]
  },
  {
   "cell_type": "code",
   "execution_count": null,
   "metadata": {
    "ExecuteTime": {
     "end_time": "2020-08-20T15:12:13.801529Z",
     "start_time": "2020-08-20T15:12:11.646103Z"
    }
   },
   "outputs": [],
   "source": [
    "def evaluate(zi, zr, maxiters=50, cr=-0.835, ci=-0.2321):\n",
    "    nit = 0\n",
    "    zi2 = zi*zi\n",
    "    zr2 = zr*zr\n",
    "    while zi2 + zr2 <= 4. and nit < maxiters:\n",
    "        zi = 2*zr*zi + ci\n",
    "        zr = zr2 - zi2 + cr\n",
    "        zr2 = zr*zr\n",
    "        zi2 = zi*zi\n",
    "        nit +=1\n",
    "    return nit\n",
    "    \n",
    "def make_fractal(N, maxiters=50):\n",
    "    image = []\n",
    "    for i in range(N):\n",
    "        row = []\n",
    "        for j in range(2*N):\n",
    "            zi = -1.0 + i*2/N\n",
    "            zr = -2.0 + j*2/N\n",
    "            row.append(evaluate(zi, zr, maxiters))\n",
    "        image.append(row)\n",
    "    return image\n",
    "\n",
    "plt.figure(figsize=(8, 4), tight_layout=True)\n",
    "plt.gca().axis('off')\n",
    "plt.imshow(make_fractal(500));"
   ]
  },
  {
   "cell_type": "markdown",
   "metadata": {},
   "source": [
    "Estudiando el código nos damos cuenta que la función `evaluate` se ejecuta de forma secuencial para cada uno de los 500x1000 píxeles\n",
    "\n",
    "Si guardamos la imagen y los valores de $z$ como un `ndarray` podemos actualizar todos los pixeles \"al mismo tiempo\""
   ]
  },
  {
   "cell_type": "code",
   "execution_count": null,
   "metadata": {
    "ExecuteTime": {
     "end_time": "2020-08-20T15:12:33.748914Z",
     "start_time": "2020-08-20T15:12:31.408530Z"
    }
   },
   "outputs": [],
   "source": [
    "def make_fractal_vectorized(N, maxiters=50):\n",
    "    image = np.zeros(shape=(N, 2*N), dtype=np.int64)\n",
    "    zi = np.linspace(-1, 1, num=N, endpoint=False).reshape(-1, 1)\n",
    "    zr = np.linspace(-2, 2, num=2*N, endpoint=False).reshape(1, -1)\n",
    "    # Creamos arreglos de 2NxN para zi y zr \n",
    "    zi = np.repeat(zi, repeats=2*N, axis=1)\n",
    "    zr = np.repeat(zr, repeats=N, axis=0)\n",
    "    cr, ci = -0.835, -0.2321\n",
    "    nit = 0\n",
    "    while nit < maxiters:\n",
    "        zr2 = zr*zr # operaciones vectoriales\n",
    "        zi2 = zi*zi\n",
    "        mask = zr2 + zi2 <= 4. #mascara booleana\n",
    "        image[mask] += 1\n",
    "        zi[mask] = 2*zr[mask]*zi[mask] + ci\n",
    "        zr[mask] = zr2[mask] - zi2[mask] +  cr\n",
    "        nit += 1\n",
    "    return image\n",
    "\n",
    "# Los resultados comparados:\n",
    "np.allclose(make_fractal(500), make_fractal_vectorized(500))"
   ]
  },
  {
   "cell_type": "markdown",
   "metadata": {},
   "source": [
    "El resultado es idéntico al código secuencial en \"Python puro\". El tiempo total para calcular el fractal usando el código vectorizado es:"
   ]
  },
  {
   "cell_type": "code",
   "execution_count": null,
   "metadata": {
    "ExecuteTime": {
     "end_time": "2020-08-20T15:12:38.916887Z",
     "start_time": "2020-08-20T15:12:37.483711Z"
    }
   },
   "outputs": [],
   "source": [
    "%timeit -r3 -n1 make_fractal_vectorized(500)"
   ]
  },
  {
   "cell_type": "markdown",
   "metadata": {},
   "source": [
    "Por otro lado el tiempo total para la rutina original es"
   ]
  },
  {
   "cell_type": "code",
   "execution_count": null,
   "metadata": {
    "ExecuteTime": {
     "end_time": "2020-08-20T15:12:24.737034Z",
     "start_time": "2020-08-20T15:12:19.307565Z"
    }
   },
   "outputs": [],
   "source": [
    "%timeit -r3 -n1 make_fractal(500)"
   ]
  },
  {
   "cell_type": "markdown",
   "metadata": {},
   "source": [
    "El ***speed-up*** es el tiempo de la nueva rutina dividido el tiempo de referencia (rutina secuencial)\n",
    "\n",
    "¿Cuánto es el *speed-up* en este caso?"
   ]
  },
  {
   "cell_type": "markdown",
   "metadata": {},
   "source": [
    "**Mejoras propuestas para la rutina vectorizada**\n",
    "\n",
    "- Usar operaciones *inplace* para aumentar el rendimiento\n",
    "- Además:\n",
    "    - En cada iteración del `while` se calcula el cuadrado de todos los $z$ \n",
    "    - Sin embargo, lo más correcto sería calcular los cuadrados solo para los $z$ que cumplieron con la condición $|z| < 4$ la iteración anterior\n",
    "    - ¿Cuánto *speed-up* se obtiene si se implementa esta observación?"
   ]
  },
  {
   "cell_type": "code",
   "execution_count": null,
   "metadata": {},
   "outputs": [],
   "source": []
  }
 ],
 "metadata": {
  "kernelspec": {
   "display_name": "Python 3",
   "language": "python",
   "name": "python3"
  },
  "language_info": {
   "codemirror_mode": {
    "name": "ipython",
    "version": 3
   },
   "file_extension": ".py",
   "mimetype": "text/x-python",
   "name": "python",
   "nbconvert_exporter": "python",
   "pygments_lexer": "ipython3",
   "version": "3.7.10"
  },
  "toc": {
   "base_numbering": 1,
   "nav_menu": {},
   "number_sections": true,
   "sideBar": true,
   "skip_h1_title": false,
   "title_cell": "Table of Contents",
   "title_sidebar": "Contents",
   "toc_cell": false,
   "toc_position": {
    "height": "calc(100% - 180px)",
    "left": "10px",
    "top": "150px",
    "width": "254px"
   },
   "toc_section_display": true,
   "toc_window_display": true
  }
 },
 "nbformat": 4,
 "nbformat_minor": 2
}
