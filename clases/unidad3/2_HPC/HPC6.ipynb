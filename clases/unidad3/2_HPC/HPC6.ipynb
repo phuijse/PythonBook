{
 "cells": [
  {
   "cell_type": "markdown",
   "metadata": {},
   "source": [
    "# Anexos HPC\n",
    "\n",
    "## Usando Cython fuera de Jupyter\n",
    "\n",
    "El código cython se guarda tipicamente con extensión `pyx`\n",
    "\n",
    "cuando hacemos `cython -3 codigo.pyx` se genera un código C usando la opción `-3` para indicar que se usará Python 3"
   ]
  },
  {
   "cell_type": "code",
   "execution_count": null,
   "metadata": {
    "ExecuteTime": {
     "end_time": "2020-08-20T15:18:53.983125Z",
     "start_time": "2020-08-20T15:18:51.625370Z"
    }
   },
   "outputs": [],
   "source": [
    "!cython -3 fractal_cython.pyx"
   ]
  },
  {
   "cell_type": "markdown",
   "metadata": {},
   "source": [
    "Luego usamos nuestro compilador de C preferido apuntando adecuadamente a las cabeceras y librerías de Python 3 (y en este caso de NumPy también)\n",
    "\n",
    "Debemos generar una libreria compartida (shared)"
   ]
  },
  {
   "cell_type": "code",
   "execution_count": null,
   "metadata": {
    "ExecuteTime": {
     "end_time": "2020-08-20T15:19:26.384043Z",
     "start_time": "2020-08-20T15:19:26.241901Z"
    }
   },
   "outputs": [],
   "source": [
    "!gcc -I/usr/include/python3.8m/ -I/usr/lib/python3.8/site-packages/numpy/core/include/ -L/usr/lib -lm -lpython3 -fPIC -shared fractal_cython.c -o fractal_cython.so"
   ]
  },
  {
   "cell_type": "markdown",
   "metadata": {},
   "source": [
    "Luego podemos importar la librería como un módulo de Python cualquiera"
   ]
  },
  {
   "cell_type": "code",
   "execution_count": null,
   "metadata": {
    "ExecuteTime": {
     "end_time": "2020-08-19T02:23:48.161565Z",
     "start_time": "2020-08-19T02:20:47.171Z"
    }
   },
   "outputs": [],
   "source": [
    "from fractal_cython import make_fractal_cython as make_fractal_imported\n",
    "image_cython_imported = np.empty(shape=(N, 2*N), dtype=np.int64)\n",
    "make_fractal_imported(N, image_cython_imported)\n",
    "np.allclose(image_cython, image_cython_imported)"
   ]
  },
  {
   "cell_type": "markdown",
   "metadata": {},
   "source": [
    "Limpiamos nuestros compilados si ya no son necesarios:"
   ]
  },
  {
   "cell_type": "code",
   "execution_count": null,
   "metadata": {
    "ExecuteTime": {
     "end_time": "2020-08-19T02:23:48.163662Z",
     "start_time": "2020-08-19T02:20:47.180Z"
    }
   },
   "outputs": [],
   "source": [
    "!rm fractal_cython.c fractal_cython.so"
   ]
  },
  {
   "cell_type": "markdown",
   "metadata": {},
   "source": [
    "## Compilación Just-in-time (JIT) con [Numba](http://numba.pydata.org/)\n",
    "\n",
    "Podemos acelerar cálculos científicos de forma simple y semi-automática usando el compilador **Numba**. Este compilador no requiere cambiar el interprete de Python y tampoco es necesario aprender otro lenguaje\n",
    "\n",
    "A través de decoradores podemos pedirle a Numba que compile una función \"al vuelo\" (just-in-time). Internamente Numba traduce las funciones de Python a lenguaje de máquina usando el compilador [LLVM](https://llvm.org/)\n",
    "\n",
    "Para \"ciertas funciones\" el resultado será una versión compilada notoriamente más rápida en su ejecución que la original. Numba está diseñado para hacer más eficiente rutinas *compute-bound* que hagan **cálculos numéricos**. Tiene soporte para compilar funciones de Numpy y para paralelizar automaticamente ciclos `for`"
   ]
  },
  {
   "cell_type": "markdown",
   "metadata": {},
   "source": [
    "Instala Numba en tu ambiente de conda con\n",
    "\n",
    "    conda install numba\n",
    "\n",
    "A continuación veremos los decoradores fundamentales de *Numba* y algunos ejemplos\n",
    "\n",
    "Volvamos al código vectorizado para calcular la distancia euclidiana \"todos con todos\""
   ]
  },
  {
   "cell_type": "code",
   "execution_count": null,
   "metadata": {
    "ExecuteTime": {
     "end_time": "2020-08-19T02:26:39.807853Z",
     "start_time": "2020-08-19T02:26:39.679742Z"
    }
   },
   "outputs": [],
   "source": [
    "import numpy as np\n",
    "\n",
    "data = np.random.randn(1000, 2)\n",
    "\n",
    "def distancia_pares_numpy(data):\n",
    "    return np.sqrt(np.sum((data.reshape(-1, 1, 2) - data.reshape(1, -1, 2))**2, axis=-1))\n",
    "\n",
    "%timeit -r3 -n1 distancia_pares_numpy(data)"
   ]
  },
  {
   "cell_type": "markdown",
   "metadata": {},
   "source": [
    "Para usar Numba\n",
    "\n",
    "- Importamos el decorador `jit` y lo aplicamos a la función anterior\n",
    "- Usaremos el modo `nopython` o \"modo rápido\", esto indica al compilador que la función no usará el interprete de Python\n",
    "- La primera llamada a la función es lenta, pues acciona el compilador\n",
    "- La siguientes llamadas son más rápidas que la función de NumPy"
   ]
  },
  {
   "cell_type": "code",
   "execution_count": null,
   "metadata": {
    "ExecuteTime": {
     "end_time": "2020-08-19T02:26:43.976239Z",
     "start_time": "2020-08-19T02:26:41.712506Z"
    }
   },
   "outputs": [],
   "source": [
    "from numba import jit\n",
    "\n",
    "@jit(nopython=True)\n",
    "def distancia_pares_numba(data):\n",
    "    return np.sqrt(np.sum((data.reshape(-1, 1, 2) - data.reshape(1, -1, 2))**2, axis=-1))\n",
    "\n",
    "distancia_pares_numba(data) # Aquí se ejecuta la compilación\n",
    "\n",
    "%timeit -r3 -n1 distancia_pares_numba(data)\n",
    "\n",
    "np.allclose(distancia_pares_numpy(data), \n",
    "            distancia_pares_numba(data))"
   ]
  },
  {
   "cell_type": "markdown",
   "metadata": {},
   "source": [
    "- Existe un alias para `jit(nopython=True)` llamado `njit`\n",
    "- Otros argumentos interesantes para decorar son: `parallel=True` y `fastmath=True` "
   ]
  },
  {
   "cell_type": "markdown",
   "metadata": {},
   "source": [
    "**Una nota sobre NumPy**\n",
    "\n",
    "No todas las [funcionalidades y funciones de NumPy están soportadas](https://numba.pydata.org/numba-doc/latest/reference/numpysupported.html)\n",
    "\n",
    "Por ejemplo en la función `make_fractal_vectorized` al intentar numbificar existen varios errores\n",
    "\n",
    "- `linspace` sólo soporta la versión con tres argumentos\n",
    "- `repeat` no acepta el argumento `axis`\n",
    "- *fancy-indexing* en arreglos 2D no está soportado por lo que `image[mask] +=1` no funciona\n",
    "\n",
    "En este caso podriamos intentar \"numbificar\" la versión no vectorizada"
   ]
  },
  {
   "cell_type": "code",
   "execution_count": null,
   "metadata": {
    "ExecuteTime": {
     "end_time": "2020-08-19T02:34:17.168427Z",
     "start_time": "2020-08-19T02:33:57.616679Z"
    }
   },
   "outputs": [],
   "source": [
    "from numba import njit\n",
    "\n",
    "@njit\n",
    "def evaluate_numba(zi, zr, maxiters=50, cr=-0.835, ci=-0.2321):\n",
    "    nit = 0\n",
    "    zi2 = zi*zi\n",
    "    zr2 = zr*zr\n",
    "    while zi2 + zr2 <= 4. and nit < maxiters:\n",
    "        zi = 2*zr*zi + ci\n",
    "        zr = zr2 - zi2 + cr\n",
    "        zr2 = zr*zr\n",
    "        zi2 = zi*zi\n",
    "        nit +=1\n",
    "    return nit\n",
    "\n",
    "@njit\n",
    "def make_fractal_numba(N, maxiters=50):\n",
    "    image = []\n",
    "    for i in range(N):\n",
    "        row = []\n",
    "        for j in range(2*N):\n",
    "            zi = -1.0 + i*2/N\n",
    "            zr = -2.0 + j*2/N\n",
    "            row.append(evaluate_numba(zi, zr, maxiters))\n",
    "        image.append(row)\n",
    "    return image\n",
    "\n",
    "\n",
    "N = 2000\n",
    "make_fractal_numba(N)\n",
    "#%timeit -r3 -n1 make_fractal(N)\n",
    "%timeit -r3 -n1 make_fractal_vectorized(N)\n",
    "%timeit -r3 -n1 make_fractal_numba(N)\n",
    "%timeit -r3 -n1 make_fractal_cython(N)"
   ]
  },
  {
   "cell_type": "code",
   "execution_count": null,
   "metadata": {},
   "outputs": [],
   "source": []
  }
 ],
 "metadata": {
  "kernelspec": {
   "display_name": "Python 3",
   "language": "python",
   "name": "python3"
  },
  "language_info": {
   "codemirror_mode": {
    "name": "ipython",
    "version": 3
   },
   "file_extension": ".py",
   "mimetype": "text/x-python",
   "name": "python",
   "nbconvert_exporter": "python",
   "pygments_lexer": "ipython3",
   "version": "3.7.10"
  },
  "toc": {
   "base_numbering": 1,
   "nav_menu": {},
   "number_sections": true,
   "sideBar": true,
   "skip_h1_title": false,
   "title_cell": "Table of Contents",
   "title_sidebar": "Contents",
   "toc_cell": false,
   "toc_position": {
    "height": "calc(100% - 180px)",
    "left": "10px",
    "top": "150px",
    "width": "254px"
   },
   "toc_section_display": true,
   "toc_window_display": true
  }
 },
 "nbformat": 4,
 "nbformat_minor": 2
}
