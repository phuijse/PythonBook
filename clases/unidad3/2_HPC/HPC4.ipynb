{
 "cells": [
  {
   "cell_type": "code",
   "execution_count": null,
   "metadata": {
    "ExecuteTime": {
     "end_time": "2020-08-20T14:08:26.482274Z",
     "start_time": "2020-08-20T14:08:26.458897Z"
    },
    "scrolled": false
   },
   "outputs": [],
   "source": [
    "from IPython.display import YouTubeVideo, Markdown, SVG, Code\n",
    "from functools import partial\n",
    "YouTubeVideo_formato = partial(YouTubeVideo, modestbranding=1, disablekb=0,\n",
    "                               width=640, height=360, autoplay=0, rel=0, showinfo=0)"
   ]
  },
  {
   "cell_type": "code",
   "execution_count": null,
   "metadata": {
    "ExecuteTime": {
     "end_time": "2020-08-20T14:08:30.718062Z",
     "start_time": "2020-08-20T14:08:27.652890Z"
    }
   },
   "outputs": [],
   "source": [
    "%matplotlib inline\n",
    "import numpy as np\n",
    "import matplotlib.pyplot as plt"
   ]
  },
  {
   "cell_type": "markdown",
   "metadata": {},
   "source": [
    "# Acelerando Python con Cython"
   ]
  },
  {
   "cell_type": "markdown",
   "metadata": {},
   "source": [
    "La [implementación](https://wiki.python.org/moin/PythonImplementations) más utilizada del interprete/compilador de Python está escrita en C y se llama [CPython](https://github.com/python/cpython). Recordemos que la implementación es aquello que interpreta y corre el código escrito en Python. Existen otras implementaciones de Python menos usadas como [PyPy](https://www.pypy.org/), [Jython](https://www.jython.org/) o IronPython. \n",
    "\n",
    "CPython compila el código escrito en Python en un código de máquina (binario) de forma transparente al usuario. Luego CPython interpreta el binario. Si nos interesa, podemos estudiar dicho código binario usando el módulo [dis](https://docs.python.org/3.7/library/dis.html) de Python"
   ]
  },
  {
   "cell_type": "markdown",
   "metadata": {},
   "source": [
    "Luego, si sabemos C podemos usar la [API de Python/C](https://docs.python.org/3/c-api/index.html) para \n",
    "\n",
    "1. Escribir módulos de C que puedan llamarse desde Python\n",
    "1. Hacer interfaces entre código C y Python\n",
    "\n",
    "Sin embargo la API es un poco complicada y existen alternativas menos tediosas para lograr estos objetivos, como por ejemplo\n",
    "\n",
    "- [ctypes](https://docs.python.org/2/library/ctypes.html) \n",
    "- [CFFI](https://cffi.readthedocs.io/en/latest/)\n",
    "- [SWIG](http://swig.org/)\n",
    "- Cython\n",
    "\n",
    "En esta lección veremos en detalle esta última"
   ]
  },
  {
   "cell_type": "markdown",
   "metadata": {},
   "source": [
    "## [Cython](https://cython.org/): C Extensions for Python\n",
    "\n",
    "Recordemos que **Python** es un lenguaje interpretado con tipos dinámicos. Esto hace que cada operación tenga un overhead. Por ejemplo\n",
    "\n",
    "```python\n",
    "    z = x + y\n",
    "    # overhead: Inferir el tipo de x\n",
    "    # overhead: Inferir el tipo de y\n",
    "    # Hacer la operación suma\n",
    "    # overhead: Darle el tipo adecuado a z\n",
    "```\n",
    "\n",
    "en cambio, **Cython** es un lenguaje de programación que le agrega a Python algunas propiedades de C y C++, una de ellas son los **tipos estáticos**\n",
    "\n",
    "```python\n",
    "    int x = 1\n",
    "    int y = 2\n",
    "    int z = x + y\n",
    "    # No hay que inferir el tipo de x, y, z\n",
    "```\n",
    "\n",
    "Esto hace que Cython sea menos flexible pero decenas de veces más rápido que Python. Además en términos de sintaxis Cython es casi tan simple como Python. Sin embargo a diferencia de Python, el lenguaje Cython debe compilarse\n",
    "\n",
    "- El compilador de Cython convierte el código fuente en código C \n",
    "- Luego el código C se compila como un módulo de Python con la implementación **CPython**\n",
    "\n",
    "En pocas palabras, una vez compilado el código escrito en Cython este puede llamarse desde Python!\n",
    "\n",
    "¿Por qué considerar Cython?\n",
    "\n",
    "- Cython es casi tan simple como Python y casi tan rápido como C\n",
    "- Con Cython se pueden llamar funciones y librerías de C\n",
    "- Cython se integra de buena manera con NumPy\n",
    "\n",
    "Por ende Cython es muy atractivo para proyectos que usen Python y tengan requisitos de alto rendimiento. Estudiemos la sintaxis de Cython mediante algunos ejemplos"
   ]
  },
  {
   "cell_type": "markdown",
   "metadata": {},
   "source": [
    "A lo largo de esta lección usaremos como ejemplo el cálculo de la **Distancia euclidiana todos-con-todos**. Sea un conjunto de $N=1000$ datos bidimensionales ($D=2$) donde queremos calcular la distancia euclidiana de cada dato con todos los demás, es decir una matriz donde el elemento $ij$ es \n",
    "\n",
    "$$\n",
    "\\text{dist}_{ij} = \\sqrt {\\sum_{k=1}^D (x_{ik} - x_{jk})^2}\n",
    "$$\n",
    "\n",
    "A continuación se muestran dos códigos que cumplen este proposito y obtienen un resultado equivalente\n",
    "\n",
    "- El primero usa \"Python puro\" y calcula las distancias de forma secuencial\n",
    "- El segundo usa operaciones vectoriales de NumPy y calcula las distancias \"al mismo tiempo\"\n",
    "\n",
    "Estudie ambos códigos hasta comprenderlos"
   ]
  },
  {
   "cell_type": "code",
   "execution_count": null,
   "metadata": {
    "ExecuteTime": {
     "end_time": "2020-08-20T14:29:17.302235Z",
     "start_time": "2020-08-20T14:28:57.858694Z"
    }
   },
   "outputs": [],
   "source": [
    "data = np.random.randn(1000, 2)\n",
    "\n",
    "def distancia_pares(data):    \n",
    "    N, D = data.shape\n",
    "    dist = np.empty(shape=(N, N))\n",
    "    for i in range(N):\n",
    "        for j in range(i, N):\n",
    "            dist[i, j] = 0\n",
    "            for k in range(D):\n",
    "                dist[i, j] += (data[i, k] - data[j, k])**2\n",
    "            dist[i, j] = np.sqrt(dist[i, j])\n",
    "            dist[j, i] = dist[i, j]\n",
    "    return dist\n",
    "            \n",
    "def distancia_pares_numpy(data):\n",
    "    return np.sqrt(np.sum((data.reshape(-1, 1, 2) - data.reshape(1, -1, 2))**2, axis=-1))\n",
    "\n",
    "np.allclose(distancia_pares(data), distancia_pares_numpy(data))"
   ]
  },
  {
   "cell_type": "code",
   "execution_count": null,
   "metadata": {},
   "outputs": [],
   "source": [
    "%timeit -r3 -n1 distancia_pares(data)"
   ]
  },
  {
   "cell_type": "code",
   "execution_count": null,
   "metadata": {},
   "outputs": [],
   "source": [
    "%timeit -r3 -n1 distancia_pares_numpy(data)"
   ]
  },
  {
   "cell_type": "markdown",
   "metadata": {},
   "source": [
    "## Cython desde IPython\n",
    "\n",
    "Primero debemos instalar cython en nuestro ambiente de conda\n",
    "\n",
    "    conda install cython\n",
    "\n",
    "Luego en IPython podemos cargar la extensión `cython` como se muestra a continuación"
   ]
  },
  {
   "cell_type": "code",
   "execution_count": null,
   "metadata": {
    "ExecuteTime": {
     "end_time": "2020-08-20T14:33:06.142969Z",
     "start_time": "2020-08-20T14:33:04.999843Z"
    }
   },
   "outputs": [],
   "source": [
    "%load_ext cython"
   ]
  },
  {
   "cell_type": "markdown",
   "metadata": {},
   "source": [
    "con esto tendremos disponible la magia de bloque `%%cython`\n",
    "\n",
    "Un bloque donde se use esta magia acepta lenguaje cython y se compila al ejecutarlo. Luego podremos llamar las funciones de ese bloque desde bloques regulares de Python\n",
    "\n",
    "Si surgen errores de compulación estos aparecen como la salida del bloque. Notar que este bloque está \"desconectado\" del resto del notebook, por lo que debe tener sus propios `import`\n",
    "\n",
    "La magia tiene las siguientes opciones\n",
    "\n",
    "- `-a` (annotate) retorna un profile linea a linea indicando con amarillo las llamadas a CPython (mientras más llamadas más lento es nuestro código)\n",
    "- `-+` Usar C++ en lugar de C\n",
    "- `-c` Argumentos de compilación\n",
    "- `-l` librerías para linkear a nuestro código\n",
    "- `-L` directorio con librerías\n",
    "- `-I` directorio con cabeceras (include)   \n",
    "\n",
    "\n",
    "Veamos que ocurre al agregarle la magia al ejemplo anterior"
   ]
  },
  {
   "cell_type": "code",
   "execution_count": null,
   "metadata": {
    "ExecuteTime": {
     "end_time": "2020-08-20T14:37:44.270684Z",
     "start_time": "2020-08-20T14:37:42.204484Z"
    }
   },
   "outputs": [],
   "source": [
    "%%cython\n",
    "\n",
    "import numpy as np\n",
    "\n",
    "def distancia_pares_cython_inocente(data):    \n",
    "    N, D = data.shape\n",
    "    dist = np.empty(shape=(N, N))\n",
    "    for i in range(N):\n",
    "        for j in range(i, N):\n",
    "            dist[i, j] = 0.0\n",
    "            for k in range(D):\n",
    "                dist[i, j] += (data[i, k] - data[j, k])**2\n",
    "            dist[i, j] = np.sqrt(dist[i, j])\n",
    "            dist[j, i] = dist[i, j]\n",
    "    return dist"
   ]
  },
  {
   "cell_type": "code",
   "execution_count": null,
   "metadata": {
    "ExecuteTime": {
     "end_time": "2020-08-20T14:39:01.194921Z",
     "start_time": "2020-08-20T14:38:26.111860Z"
    }
   },
   "outputs": [],
   "source": [
    "np.allclose(distancia_pares(data), distancia_pares_cython_inocente(data))"
   ]
  },
  {
   "cell_type": "code",
   "execution_count": null,
   "metadata": {},
   "outputs": [],
   "source": [
    "%timeit -r3 -n1 distancia_pares(data)"
   ]
  },
  {
   "cell_type": "code",
   "execution_count": null,
   "metadata": {},
   "outputs": [],
   "source": [
    "%timeit -r3 -n1 distancia_pares_numpy(data)"
   ]
  },
  {
   "cell_type": "code",
   "execution_count": null,
   "metadata": {},
   "outputs": [],
   "source": [
    "%timeit -r3 -n1 distancia_pares_cython_inocente(data)"
   ]
  },
  {
   "cell_type": "markdown",
   "metadata": {},
   "source": [
    "El resultado es idéntico pero como no hemos hecho ningún cambio el tiempo de ejecución es sólo levemente mejor que la versión en Python puro\n",
    "\n",
    "A continuación veremos como \"cythonizar\" nuestro código para ganar rendimiento"
   ]
  },
  {
   "cell_type": "markdown",
   "metadata": {},
   "source": [
    "## Mejora 1: Definiendo tipos en Cython\n",
    "\n",
    "En Cython se definen tipos estáticos con el keyword `cdef` seguido del tipo y luego el nombre. Por ejemplo una variable de tipo `double` llamada `mi_variable`:\n",
    "\n",
    "```cython\n",
    "cdef double mi_variable \n",
    "```\n",
    "    \n",
    "Para los arreglos (ndarray) se usan [\"memory-views\"](https://cython.readthedocs.io/en/latest/src/userguide/memoryviews.html#memoryviews). Por ejemplo un *memory-view* para una arreglo de tres dimensiones:\n",
    "\n",
    "```cython\n",
    "cdef double [:, :, :] mi_arreglo\n",
    "```    \n",
    "\n",
    "Y se puede ganar un poco más de rendimiento usando el operador `::1` para especificar si el arreglo es *row-major* (estilo C)\n",
    "\n",
    "```cython\n",
    "cdef double [:, :, ::1] mi_arreglo\n",
    "```    \n",
    "\n",
    "o *column-major* (estilo Fortran)\n",
    "\n",
    "```cython\n",
    "cdef double [::1, :, :] mi_arreglo\n",
    "```\n",
    "\n",
    "Veamos como queda el ejemplo introduciendo tipos estáticos"
   ]
  },
  {
   "cell_type": "code",
   "execution_count": null,
   "metadata": {
    "ExecuteTime": {
     "end_time": "2020-08-20T14:47:49.447492Z",
     "start_time": "2020-08-20T14:47:49.439048Z"
    }
   },
   "outputs": [],
   "source": [
    "%%cython \n",
    "\n",
    "import numpy as np\n",
    "\n",
    "def distancia_pares_cython_estatico(double [:, ::1] data):\n",
    "    # Definimos el tipo de N, D, dist y data\n",
    "    cdef int N = data.shape[0]\n",
    "    cdef int D = data.shape[1]\n",
    "    dist = np.empty(shape=(N, N), dtype=np.double)\n",
    "    cdef double [:, ::1] dist_view = dist\n",
    "    # También definimos los índices, se puede usar int o Py_ssize_t \n",
    "    cdef int i, j, k\n",
    "    for i in range(N):\n",
    "        for j in range(i, N):\n",
    "            dist_view[i, j] = 0.0\n",
    "            for k in range(D):\n",
    "                dist_view[i, j] += (data[i, k] - data[j, k])**2\n",
    "            dist_view[i, j] = np.sqrt(dist_view[i, j])\n",
    "            dist_view[j, i] = dist_view[i, j]\n",
    "    return dist"
   ]
  },
  {
   "cell_type": "code",
   "execution_count": null,
   "metadata": {
    "ExecuteTime": {
     "end_time": "2020-08-20T14:49:27.865299Z",
     "start_time": "2020-08-20T14:49:19.787762Z"
    }
   },
   "outputs": [],
   "source": [
    "np.allclose(distancia_pares(data), distancia_pares_cython_estatico(data))"
   ]
  },
  {
   "cell_type": "code",
   "execution_count": null,
   "metadata": {},
   "outputs": [],
   "source": [
    "%timeit -r3 -n1 distancia_pares_numpy(data) "
   ]
  },
  {
   "cell_type": "code",
   "execution_count": null,
   "metadata": {},
   "outputs": [],
   "source": [
    "%timeit -r3 -n1 distancia_pares_cython_estatico(data)"
   ]
  },
  {
   "cell_type": "markdown",
   "metadata": {},
   "source": [
    "Con solo definir el tipo de data, dist, $N$, $D$ y los índices hemos obtenido un *speed-up* importante con respecto a \"Python puro\" aunque sigue siendo más lento que NumPy\n",
    "\n",
    "Si observaramos el código anotado por cython y revisemos la cantidad de llamadas a CPython de cada linea notaríamos que la linea 17 es particularmente conflictiva \n",
    "\n",
    "- involucra una gran cantidad de instrucciones\n",
    "- se llama NxN veces\n",
    "\n",
    "esto se debe a que estamos usando la función de NumPy `np.sqrt`. Podemos obtener un rendimiento mucho mejor si usamos la implementación de raíz cuadrada de C"
   ]
  },
  {
   "cell_type": "markdown",
   "metadata": {},
   "source": [
    "## Mejora 2: Llamando funciones de C desde Cython\n",
    "\n",
    "Es posible llamar funciones de C desde Cython de forma sencilla. Consideremos como ejemplo la función `sqrt` de la [librería matemática estándar de C](http://pubs.opengroup.org/onlinepubs/9699919799/basedefs/math.h.html). \n",
    "\n",
    "Necesitamos dos para usar `sqrt` desde cython:\n",
    "\n",
    "- Importar la función `sqrt` desde la cabecera `math.h`: Esto se hace con el keyword `cdef extern from`\n",
    "- Compilar contra `libm`\n",
    "\n",
    "Veamos como queda nuestro ejemplo con esta modificación"
   ]
  },
  {
   "cell_type": "code",
   "execution_count": null,
   "metadata": {
    "ExecuteTime": {
     "end_time": "2020-08-20T14:52:44.445565Z",
     "start_time": "2020-08-20T14:52:36.238105Z"
    }
   },
   "outputs": [],
   "source": [
    "%%cython -l m\n",
    "\n",
    "import numpy as np\n",
    "\n",
    "cdef extern from \"math.h\":\n",
    "    double sqrt(double)\n",
    "\n",
    "def distancia_pares_cython_sqrtC(double [:, ::1] data):\n",
    "    # Definimos el tipo de N, D, dist y data\n",
    "    cdef int N = data.shape[0]\n",
    "    cdef int D = data.shape[1]\n",
    "    dist = np.empty(shape=(N, N), dtype=np.double)\n",
    "    cdef double [:, ::1] dist_view = dist\n",
    "    # También definimos los índices, se puede usar int o Py_ssize_t \n",
    "    cdef Py_ssize_t i, j, k\n",
    "    for i in range(N):\n",
    "        for j in range(i, N):\n",
    "            dist_view[i, j] = 0.0\n",
    "            for k in range(D):\n",
    "                dist_view[i, j] += (data[i, k] - data[j, k])**2\n",
    "            dist_view[i, j] = sqrt(dist_view[i, j])\n",
    "            dist_view[j, i] = dist_view[i, j]\n",
    "    return dist"
   ]
  },
  {
   "cell_type": "code",
   "execution_count": null,
   "metadata": {
    "ExecuteTime": {
     "end_time": "2020-08-20T14:53:29.281760Z",
     "start_time": "2020-08-20T14:53:22.273881Z"
    }
   },
   "outputs": [],
   "source": [
    "np.allclose(distancia_pares(data), distancia_pares_cython_sqrtC(data))"
   ]
  },
  {
   "cell_type": "code",
   "execution_count": null,
   "metadata": {},
   "outputs": [],
   "source": [
    "%timeit -r3 -n1 distancia_pares_numpy(data) "
   ]
  },
  {
   "cell_type": "code",
   "execution_count": null,
   "metadata": {},
   "outputs": [],
   "source": [
    "%timeit -r3 -n1 distancia_pares_cython_estatico(data)"
   ]
  },
  {
   "cell_type": "code",
   "execution_count": null,
   "metadata": {},
   "outputs": [],
   "source": [
    "%timeit -r3 -n1 distancia_pares_cython_sqrtC(data)"
   ]
  },
  {
   "cell_type": "markdown",
   "metadata": {},
   "source": [
    "Con esta simple modificación hemos obtenido un tiempo de ejecución incluso menor que la implementación en NumPy, excelente!\n",
    "\n",
    "Es **sumamente importante** notar que usando `extern` podemos hacer interfaces [entre Python y casi cualquier código escrito en C](https://cython.readthedocs.io/en/latest/src/tutorial/clibraries.html)"
   ]
  },
  {
   "cell_type": "markdown",
   "metadata": {},
   "source": [
    "## Mejora 3: Deshabilitando comprobaciones para ir aun más rápido\n",
    "\n",
    "Podemos hacer nuestro código más rápido (y más inseguro) deshabilitando las verificaciones que Python realiza por defecto\n",
    "\n",
    "En Cython esto se logra usando decoradores que funcionan como directivas de compilación. Las opciones disponibles se encuentrán [aquí](https://cython.readthedocs.io/en/latest/src/userguide/source_files_and_compilation.html#compiler-directives). En este caso particular deshabilitaremos dos verificaciones: *boundscheck* y *wraparound*\n",
    "\n",
    "Al deshabilitarlas el código no comprobará si escribimos fuera del arreglo y tampoco traducirá índices negativos\n",
    "\n",
    "También aprovecharemos de hacer un cambio menor que nos será de utilidad más adelante:\n",
    "\n",
    "- Definiremos el tipo de data y dist de forma más conveniente usando `ctypedef`\n",
    "- Para esto incluiremos un modulo de Cython llamado numpy usando `cimport` que contiene definiciones tipo C  \n"
   ]
  },
  {
   "cell_type": "code",
   "execution_count": null,
   "metadata": {
    "ExecuteTime": {
     "end_time": "2020-08-20T15:23:25.980142Z",
     "start_time": "2020-08-20T15:23:24.583713Z"
    }
   },
   "outputs": [],
   "source": [
    "%%cython -l m\n",
    "import cython\n",
    "cimport numpy as npc\n",
    "import numpy as np\n",
    "\n",
    "# Por conveniencia podemos definir el tipo de data y dist con \n",
    "ctypedef npc.float64_t TIPO_t\n",
    "TIPO = np.float64\n",
    "\n",
    "cdef extern from \"math.h\":\n",
    "    TIPO_t sqrt(TIPO_t)\n",
    "\n",
    "# Deshabilitamos las comprobaciones de Python:\n",
    "@cython.boundscheck(False)\n",
    "@cython.wraparound(False)\n",
    "def distancia_pares_cython(TIPO_t [:, ::1] data):\n",
    "    cdef int N = data.shape[0]\n",
    "    cdef int M = data.shape[1]\n",
    "    dist = np.empty(shape=(N, N), dtype=TIPO)\n",
    "    cdef TIPO_t [:, ::1] dist_view = dist\n",
    "    cdef Py_ssize_t i, j, k\n",
    "    for i in range(N):\n",
    "        for j in range(i, N):\n",
    "            dist_view[i, j] = 0.0\n",
    "            for k in range(M):\n",
    "                dist_view[i, j] += (data[i, k] - data[j, k])**2\n",
    "            dist_view[i, j] = sqrt(dist_view[i, j])\n",
    "            dist_view[j, i] = dist_view[i, j]\n",
    "    return dist"
   ]
  },
  {
   "cell_type": "code",
   "execution_count": null,
   "metadata": {
    "ExecuteTime": {
     "end_time": "2020-08-20T15:06:42.204358Z",
     "start_time": "2020-08-20T15:06:35.127974Z"
    }
   },
   "outputs": [],
   "source": [
    "np.allclose(distancia_pares(data), distancia_pares_cython(data))"
   ]
  },
  {
   "cell_type": "code",
   "execution_count": null,
   "metadata": {},
   "outputs": [],
   "source": [
    "%timeit -r3 -n1 distancia_pares_cython_sqrtC(data)"
   ]
  },
  {
   "cell_type": "code",
   "execution_count": null,
   "metadata": {},
   "outputs": [],
   "source": [
    "%timeit -r3 -n1 distancia_pares_cython(data)"
   ]
  },
  {
   "cell_type": "markdown",
   "metadata": {},
   "source": [
    "Un leve speed-up \"casi gratis\""
   ]
  },
  {
   "cell_type": "markdown",
   "metadata": {},
   "source": [
    "##  Mejora 4: Mayor flexibilidad con tipos de Cython fusionados \n",
    "\n",
    "En este momento es importante recordar lo que hemos perdido al usar Cython con respecto a Python: **Flexibilidad**\n",
    "\n",
    "Si usamos un argumento que no sea `double` nuestra función en Cython retornará un error. Es nuestra responsabilidad evitar que esto ocurra"
   ]
  },
  {
   "cell_type": "code",
   "execution_count": null,
   "metadata": {
    "ExecuteTime": {
     "end_time": "2020-08-20T15:08:07.030762Z",
     "start_time": "2020-08-20T15:08:06.954235Z"
    }
   },
   "outputs": [],
   "source": [
    "data_float32 = data.astype(np.float32)\n",
    "distancia_pares_cython(data_float32)"
   ]
  },
  {
   "cell_type": "markdown",
   "metadata": {},
   "source": [
    "Podemos resolver este problema usando los tipos fusionados de Cython. Si queremos fusionar dos tipos de datos \"tipo1\" y \"tipo2\" bajo el nombre \"tipo3\", lo escribimos usando\n",
    "\n",
    "```cython\n",
    "ctypedef fused tipo3:\n",
    "    tipo1\n",
    "    tipo2\n",
    "```\n",
    "\n",
    "De forma transparente Cython creará dos funciones en lugar de una. \n",
    "\n",
    "Modifiquemos la función `distancia_pares_cython` para que acepte los tipos double e float como un tipo fusionado. En este caso no debemos olvidar importar la definición de `sqrtf` de `math.h`"
   ]
  },
  {
   "cell_type": "code",
   "execution_count": null,
   "metadata": {
    "ExecuteTime": {
     "end_time": "2020-08-20T15:10:53.494805Z",
     "start_time": "2020-08-20T15:10:42.946628Z"
    }
   },
   "outputs": [],
   "source": [
    "%%cython -l m\n",
    "import cython\n",
    "cimport numpy as npc\n",
    "import numpy as np\n",
    "\n",
    "# Tipo fusionado\n",
    "ctypedef fused TIPO_t:\n",
    "    npc.float32_t\n",
    "    npc.float64_t # double\n",
    "    \n",
    "cdef extern from \"math.h\":\n",
    "    npc.float32_t sqrtf(npc.float32_t) #Definición para float32\n",
    "    npc.float64_t sqrt(npc.float64_t) # Definición para float64\n",
    "\n",
    "@cython.boundscheck(False)\n",
    "@cython.wraparound(False)\n",
    "def distancia_pares_cython_multitipo(TIPO_t [:, ::1] data):\n",
    "    cdef int N = data.shape[0]\n",
    "    cdef int M = data.shape[1]\n",
    "    # Comprobamos el tipo antes de crear el arreglo de numpy\n",
    "    if TIPO_t is npc.float32_t:\n",
    "        TIPO = np.float32\n",
    "    else:\n",
    "        TIPO = np.float64\n",
    "    dist = np.empty(shape=(N, N), dtype=TIPO)\n",
    "    cdef TIPO_t [:, ::1] dist_view = dist\n",
    "    cdef Py_ssize_t i, j, k\n",
    "    for i in range(N):\n",
    "        for j in range(N):\n",
    "            dist_view[i, j] = 0.0\n",
    "            for k in range(M):\n",
    "                dist_view[i, j] += (data[i, k] - data[j, k])**2\n",
    "            if TIPO_t is npc.float32_t:\n",
    "                dist_view[i, j] = sqrtf(dist_view[i, j])\n",
    "            else:\n",
    "                dist_view[i, j] = sqrt(dist_view[i, j])\n",
    "    return dist"
   ]
  },
  {
   "cell_type": "code",
   "execution_count": null,
   "metadata": {},
   "outputs": [],
   "source": [
    "np.allclose(distancia_pares_numpy(data),\n",
    "            distancia_pares_cython_multitipo(data))"
   ]
  },
  {
   "cell_type": "code",
   "execution_count": null,
   "metadata": {},
   "outputs": [],
   "source": [
    "np.allclose(distancia_pares_numpy(data_float32),\n",
    "            distancia_pares_cython_multitipo(data_float32))"
   ]
  },
  {
   "cell_type": "code",
   "execution_count": null,
   "metadata": {},
   "outputs": [],
   "source": [
    "%timeit -r3 -n1 distancia_pares_numpy(data_float32)"
   ]
  },
  {
   "cell_type": "code",
   "execution_count": null,
   "metadata": {},
   "outputs": [],
   "source": [
    "%timeit -r3 -n1 distancia_pares_cython_multitipo(data_float32)"
   ]
  },
  {
   "cell_type": "markdown",
   "metadata": {},
   "source": [
    "El resultado usando `float` es equivalente al de NumPy y la velocidad es similar a la de `distancia_pares_cython`, es decir que la pérdida de rendimiento no es notoria\n"
   ]
  },
  {
   "cell_type": "markdown",
   "metadata": {},
   "source": [
    "## Ejemplo formativo: \"Cythonizando\" el fractal de Julia\n",
    "\n",
    "Partiendo del código de Python puro del fractal de Julia, escribimos una versión en Cython\n",
    "\n",
    "Recordemos:\n",
    "\n",
    "- Usamos `cdef` para definir las variables con tipo estático\n",
    "    - También podemos usar `cdef` para definir funciones con tipo\n",
    "    - Las funciones con tipo solo pueden ser llamadas por otras funciones de Cython\n",
    "- Usamos `ctypedef` para definir tipos \n",
    "- Usamos `cimport` para importar otros módulos de Cython\n",
    "- Usamos memory-views con el tipo adecuado para conectar con NumPy en la salida\n",
    "- Deshabilitamos las comprobaciones de Python para ganar más velocidad\n"
   ]
  },
  {
   "cell_type": "code",
   "execution_count": null,
   "metadata": {
    "ExecuteTime": {
     "end_time": "2020-08-20T15:14:19.900426Z",
     "start_time": "2020-08-20T15:14:11.261863Z"
    }
   },
   "outputs": [],
   "source": [
    "%%cython \n",
    "import cython\n",
    "cimport numpy as npc\n",
    "import numpy as np\n",
    "\n",
    "ctypedef npc.float64_t TIPOF_t\n",
    "ctypedef npc.int64_t TIPOI_t\n",
    "\n",
    "# Las funciones con cdef solo pueden ser llamadas desde Cython\n",
    "cdef TIPOI_t evaluate_z(TIPOF_t zi, TIPOF_t zr, int maxiters=50, TIPOF_t cr=-0.835, TIPOF_t ci=-0.2321):\n",
    "    cdef:\n",
    "        TIPOI_t nit = 0\n",
    "        TIPOF_t zi2 = zi**2\n",
    "        TIPOF_t zr2 = zr**2\n",
    "        \n",
    "    while zi2 + zr2 <= 4. and nit < maxiters:\n",
    "        zi = 2.*zr*zi + ci\n",
    "        zr = zr2 - zi2 + cr\n",
    "        zr2 = zr**2\n",
    "        zi2 = zi**2 \n",
    "        nit +=1\n",
    "    return nit\n",
    "\n",
    "# Las funciones con def pueden ser llamadas desde Python\n",
    "@cython.boundscheck(False)\n",
    "@cython.wraparound(False)\n",
    "@cython.cdivision(True)\n",
    "def make_fractal_cython(int N, int maxiters=50):\n",
    "    image = np.empty(shape=(N, 2*N), dtype=np.int64)\n",
    "    cdef TIPOI_t [:, ::1] image_view = image\n",
    "    cdef:\n",
    "        Py_ssize_t i, j\n",
    "    # Los ndarray no se copian, los podemos modificar inplace desde Cython\n",
    "    for i in range(N):\n",
    "        for j in range(2*N):\n",
    "            image_view[i, j] = evaluate_z(-1.+i*2./N, -2.+j*2./N, maxiters)\n",
    "    return image"
   ]
  },
  {
   "cell_type": "code",
   "execution_count": null,
   "metadata": {
    "ExecuteTime": {
     "end_time": "2020-08-20T15:15:18.631291Z",
     "start_time": "2020-08-20T15:15:09.449158Z"
    }
   },
   "outputs": [],
   "source": [
    "from fractal import make_fractal\n",
    "N = 500\n",
    "np.allclose(make_fractal(N), make_fractal_cython(N))"
   ]
  },
  {
   "cell_type": "code",
   "execution_count": null,
   "metadata": {},
   "outputs": [],
   "source": [
    "%timeit -r3 -n1 make_fractal(N)"
   ]
  },
  {
   "cell_type": "code",
   "execution_count": null,
   "metadata": {},
   "outputs": [],
   "source": [
    "%timeit -r3 -n1 make_fractal_cython(N)"
   ]
  },
  {
   "cell_type": "markdown",
   "metadata": {},
   "source": [
    "El resultado es idéntico al código secuencial en \"Python puro\" y el tiempo es considerablemente menor"
   ]
  },
  {
   "cell_type": "markdown",
   "metadata": {},
   "source": [
    "Con esto podemos dibujar el fractal en mayor resolución en un tiempo razonable :)"
   ]
  },
  {
   "cell_type": "code",
   "execution_count": null,
   "metadata": {
    "ExecuteTime": {
     "end_time": "2020-08-20T15:16:09.594908Z",
     "start_time": "2020-08-20T15:16:07.893146Z"
    }
   },
   "outputs": [],
   "source": [
    "N = 4000\n",
    "plt.figure(figsize=(8, 4), tight_layout=True)\n",
    "plt.gca().axis('off')\n",
    "plt.imshow(make_fractal_cython(N));"
   ]
  },
  {
   "cell_type": "markdown",
   "metadata": {},
   "source": [
    "**Propuesto:** \n",
    "\n",
    "Dibuje curvas de *speed-up* para el código en cython vs \"Python puro\" considerando $N=10, 50, 100, 500, 1000, 5000$"
   ]
  },
  {
   "cell_type": "markdown",
   "metadata": {},
   "source": [
    "## Tópicos adicionales\n",
    "\n",
    "Lecturas sobre temas específicos de Cython:\n",
    "\n",
    "- [Incluyendo código Cython en un módulo de Python](https://cython.readthedocs.io/en/latest/src/quickstart/build.html#building-a-cython-module-using-distutils)\n",
    "- [Haciendo profiling de código Cython](https://cython.readthedocs.io/en/latest/src/tutorial/profiling_tutorial.html)\n",
    "- [Malloc/Free en Cython](https://cython.readthedocs.io/en/latest/src/tutorial/memory_allocation.html)\n",
    "- Libro [Cython: A Guide for Python Programmers](https://pythonbooks.org/cython-a-guide-for-python-programmers/)"
   ]
  },
  {
   "cell_type": "code",
   "execution_count": null,
   "metadata": {},
   "outputs": [],
   "source": []
  }
 ],
 "metadata": {
  "kernelspec": {
   "display_name": "Python 3",
   "language": "python",
   "name": "python3"
  },
  "language_info": {
   "codemirror_mode": {
    "name": "ipython",
    "version": 3
   },
   "file_extension": ".py",
   "mimetype": "text/x-python",
   "name": "python",
   "nbconvert_exporter": "python",
   "pygments_lexer": "ipython3",
   "version": "3.7.10"
  },
  "toc": {
   "base_numbering": 1,
   "nav_menu": {},
   "number_sections": true,
   "sideBar": true,
   "skip_h1_title": false,
   "title_cell": "Table of Contents",
   "title_sidebar": "Contents",
   "toc_cell": false,
   "toc_position": {
    "height": "calc(100% - 180px)",
    "left": "10px",
    "top": "150px",
    "width": "254px"
   },
   "toc_section_display": true,
   "toc_window_display": true
  }
 },
 "nbformat": 4,
 "nbformat_minor": 2
}
