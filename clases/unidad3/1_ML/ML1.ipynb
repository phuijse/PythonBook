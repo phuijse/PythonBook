{
 "cells": [
  {
   "cell_type": "markdown",
   "metadata": {},
   "source": [
    "# Machine Learning: Conceptos clave"
   ]
  },
  {
   "cell_type": "markdown",
   "metadata": {},
   "source": [
    "## ¿Qué es Machine Learning?"
   ]
  },
  {
   "cell_type": "markdown",
   "metadata": {},
   "source": [
    "Podemos definir *Machine Learning* o Aprendizaje de Máquinas como\n",
    "\n",
    "> El estudio de **sistemas** que aprenden reglas o patrones en base a **ejemplos** para resolver una tarea\n",
    "\n",
    "En este contexto con \"ejemplos\" nos referimos a\n",
    "\n",
    "> Datos asociados a la tarea que se quiere resolver\n",
    "\n",
    "Mientras que sistema (o máquina) correspondería a \n",
    "\n",
    "> Algoritmo o modelo matemático que mejora su desempeño entrenándose con los ejemplos\n",
    "\n",
    "El esquema conceptual general de ML se muestra en la siguiente figura\n",
    "\n",
    "<img src=\"../img/intro-ml2.png\" width=\"700\">"
   ]
  },
  {
   "cell_type": "markdown",
   "metadata": {},
   "source": [
    "donde\n",
    "\n",
    "1. Conceptualización: Se refiere a identificar el problema\n",
    "1. Datos: Se refiere a la recolección, importación, pre-precesamiento y etiquetado de datos\n",
    "1. Modelamiento: Se referiere a la selección, entrenamiento y validación del o los modelos\n",
    "1. Inferencia: Se refiere a utilizar el modelo para tomar decisiones sobre ejemplos nuevos\n",
    "\n",
    "En este último punto yace el objetivo principal de Machine Learning (ML)\n",
    "\n",
    "> Entrenamos modelos para clasificar/predecir/agrupar ejemplos que el modelo no ha visto aun\n",
    "\n",
    "Un modelo que realiza inferencias correctas en ejemplos nuevos es un modelo que ha logrado **generalizar lo aprendido**. Para que el modelo sea capaz de aprender y generalizar ML combina técnicas de estadísticas y optimización computacional"
   ]
  },
  {
   "cell_type": "markdown",
   "metadata": {},
   "source": [
    "## Taxonomía de algoritmos de Machine Learning\n",
    "\n",
    "Podemos hacer una clasificación gruesa de los algoritmos y modelos de ML en base a las tareas que buscan resolver. La siguiente figura esquematiza las cuatro tareas más típicas que se resuelven usando ML\n",
    "\n",
    "<img src=\"../img/intro-ml4.png\" width=\"800\">\n",
    "\n",
    "En la figura podemos distinguir cuatro tipos de tareas agrupadas bajo dos paradigmas: Aprendizaje supervisado y Aprendizaje no supervisado.\n",
    "\n",
    "- Los modelos de aprendizaje supervisado buscan aprender una función que prediga un objetivo (categórico, discreto o continuo) en base a los datos. En la jerga de ML este objetivo usualmente se denomina **etiqueta** y debe entregarse al modelo durante su entrenamiento. \n",
    "- Los modelos de aprendizaje no supervisado buscan revelar estructura en los datos sin utilizar **etiquetas**. Por ejemplo estos métodos pueden usarse para encontrar grupos de similitud, jerarquías entre las variables o nuevas representaciones y visualizaciones de los datos. \n",
    "\n",
    "Durante la unidad anterior vimos algunos ejemplos de regresión. En este unidad nos enfocaremos en las tareas de clasificación y agrupamiento (clustering)\n"
   ]
  },
  {
   "cell_type": "markdown",
   "metadata": {},
   "source": [
    "## Complejidad y Sobreajuste\n",
    "\n",
    "La complejidad de un modelo tiene relación con la cantidad de parámetros que tiene. En general mientras más parámetros tenga un modelo más **flexibilidad** tendrá para modelar los datos\n",
    "\n",
    "En ML es muy importante ser cuidadoso en lo que refiere a calibrar la complejidad de un modelo\n",
    "\n",
    "- Un modelo con muchos parámetros pueden aproximar funciones arbitrariamente complicadas\n",
    "- Un modelo con muchos parámetros podría aprender los ejemplos de memoria y perder su capacidad de generalizar\n",
    "\n",
    "Cuando un modelo no es capaz de generalizar se dice que el modelo se ha **sobreajustado** a los datos utilizados para entrenarlo\n",
    "\n",
    "En la siguiente figura las lineas naranja y azul representan dos modelos de clasificación que buscan separar los círculos verdes de los diamantes rojos\n",
    "\n",
    "<img src=\"../img/intro-ml3.png\" width=\"400\">\n",
    "\n",
    "El modelo naranjo ha aproximado los datos con error cero. Sin embargo, siempre debemos considerar que los datos no son perfectos y que pueden tener ruido. Por ende aproximarlos con una flexibilidad arbitrariamente grande nos puede llevar a \"aprender el ruido\" lo cual es perjudicial al momento de evaluar datos nuevos. \n",
    "\n",
    "Para evitar el problema del sobreajuste y calibrar adecuadamente la complejidad del modelo se realizan procedimientos de **validación**"
   ]
  },
  {
   "cell_type": "markdown",
   "metadata": {},
   "source": [
    "## Validación\n",
    "\n",
    "Para combatir el sobreajuste podemos usar estrategias de validación. Estas consisten en separar el conjunto de datos en dos o más subconjuntos\n",
    "\n",
    "1. Validación tipo *Holdout*: Separamos el conjunto en tres: Entrenamiento, Validación y Prueba\n",
    "1. Validación cruzada: De tipo K-fold o *Leave one-out* (N-fold)\n",
    "\n",
    "Las estrategias de tipo *holdout* fueron descritas en la unidad anterior cuando estudiamos la regresión lineal. Las estrategias de validación cruzada se verán en detalle en esta unidad.\n",
    "\n",
    "Para que nuestros conjuntos de entrenamiento y validación sigan siendo representativos del total los debemos seleccionar aleatoriamente. Si los datos están etiquetados lo ideal es preservar el balance de las clases, esto se llama hacer \"particiones estratíficadas\"\n",
    "\n",
    "Una vez que hemos separado el conjunto de datos podemos medir el \"error\" en cada uno\n",
    "\n",
    "- Optimizamos nuestro modelo minimizando el error en el conjunto de entrenamiento\n",
    "- Seleccionamos los parámetros e hiper-parámetros que dan mínimo error de validación\n",
    "- Comparamos distintas familias de modelos con el error de prueba\n",
    "\n",
    "En general si un modelo\n",
    "\n",
    "- Tiene bajo error de entrenamiento y de validación: Vamos por el buen camino\n",
    "- Tiene bajo error de entrenamiento pero alto de validación: El modelo está sobreajustado\n",
    "- Tiene alto error de entrenamiento y de validación: El modelo no es adecuado para el problema o hay un *bug*"
   ]
  },
  {
   "cell_type": "code",
   "execution_count": null,
   "metadata": {},
   "outputs": [],
   "source": []
  }
 ],
 "metadata": {
  "kernelspec": {
   "display_name": "Python 3",
   "language": "python",
   "name": "python3"
  },
  "language_info": {
   "codemirror_mode": {
    "name": "ipython",
    "version": 3
   },
   "file_extension": ".py",
   "mimetype": "text/x-python",
   "name": "python",
   "nbconvert_exporter": "python",
   "pygments_lexer": "ipython3",
   "version": "3.7.10"
  },
  "toc": {
   "base_numbering": 1,
   "nav_menu": {},
   "number_sections": true,
   "sideBar": true,
   "skip_h1_title": false,
   "title_cell": "Table of Contents",
   "title_sidebar": "Contents",
   "toc_cell": false,
   "toc_position": {},
   "toc_section_display": true,
   "toc_window_display": true
  }
 },
 "nbformat": 4,
 "nbformat_minor": 4
}
