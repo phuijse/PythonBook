{
 "cells": [
  {
   "cell_type": "code",
   "execution_count": null,
   "metadata": {
    "ExecuteTime": {
     "end_time": "2020-08-04T02:06:54.864645Z",
     "start_time": "2020-08-04T02:06:54.848637Z"
    }
   },
   "outputs": [],
   "source": [
    "from IPython.display import YouTubeVideo, Markdown, SVG, Code\n",
    "from functools import partial\n",
    "YouTubeVideo_formato = partial(YouTubeVideo, modestbranding=1, disablekb=0,\n",
    "                               width=640, height=360, autoplay=0, rel=0, showinfo=0)\n",
    "\n",
    "display(Markdown(filename='../../preamble.md'))"
   ]
  },
  {
   "cell_type": "code",
   "execution_count": null,
   "metadata": {
    "ExecuteTime": {
     "end_time": "2020-08-04T01:24:25.830612Z",
     "start_time": "2020-08-04T01:24:25.487662Z"
    }
   },
   "outputs": [],
   "source": [
    "%matplotlib notebook\n",
    "import numpy as np\n",
    "import matplotlib.pyplot as plt\n",
    "from functools import partial"
   ]
  },
  {
   "cell_type": "markdown",
   "metadata": {},
   "source": [
    "# Python y  Rendimiento | Parte 1\n",
    "\n",
    "Python es un lenguaje interpretado de alto nivel que es muy conveniente para prototipar y hacer análisis \n",
    "exploratorio\n",
    "\n",
    "Esto tiene un costo: Menor **rendimiento** a igual **complejidad** en comparación a lenguajes compilados de bajo nivel\n",
    "\n",
    "Podemos ser más específicos y hablar de **eficiencia**:\n",
    "\n",
    "> Eficiencia temporal: Tiempo para completar una tarea (tiempo en la CPU)\n",
    "\n",
    "> Eficiencia espacial: Utilización de espacio (memoria RAM, disco)\n",
    "\n",
    "Ambos son factores críticos en algunas aplicaciones, por ejemplo aplicaciones con muchos datos o mucho cómputo\n",
    "\n",
    "Existe entonces una necesidad por mejorar el rendimiento de nuestro código\n",
    "\n",
    "> A esto lo llamamos **Optimización** de código\n",
    "\n",
    "En el siguiente cuadernillo veremos distintas formas de **optimizar** código escrito en Python\n",
    "\n",
    "Sin embargo antes de optimizar es necesario diagnosticar e identificar los sectores críticos (cuellos de botella) de nuestro programa\n",
    "\n",
    "> Esto lo llamamos *Profiling* de código"
   ]
  },
  {
   "cell_type": "markdown",
   "metadata": {},
   "source": [
    "\n",
    "# *Profiling*\n",
    "\n",
    "Se refiere a medir los \n",
    "\n",
    "1. Tiempos de ejecución (total, por función, por linea)\n",
    "1. Uso de recursos (memoria, cpu, disco)\n",
    "\n",
    "de una rutina con el fin de encontrar aquellas secciones más lentas e ineficientes (sectores críticos)\n",
    "\n",
    "Luego de identificarlas podemos reescribirlas u optimizarlas\n",
    "\n",
    "En esta clase veremos como hacer un *profiling* de nuestro código en Python usando el ambiente *Jupyter* y las magias de *IPython*"
   ]
  },
  {
   "cell_type": "markdown",
   "metadata": {},
   "source": [
    "## Ejemplo de caso: Set de Julia\n",
    "\n",
    "A modo de ejemplo haremos *profiling* de un script de Python que calcula el famoso fractal conocido como el Set de Julia\n",
    "\n",
    "El [set de Julia](https://en.wikipedia.org/wiki/Julia_set) es un fractal asociado a la función\n",
    "\n",
    "$$\n",
    "f(z) = z^2 + c,\n",
    "$$\n",
    "donde $c \\in \\mathbb{C}$\n",
    "\n",
    "El script [fractal.py](./fractal.py) tiene una implementación del set de Julia usando Python puro, es decir sin usar librerias"
   ]
  },
  {
   "cell_type": "code",
   "execution_count": null,
   "metadata": {
    "ExecuteTime": {
     "end_time": "2020-08-04T01:24:31.028879Z",
     "start_time": "2020-08-04T01:24:30.607751Z"
    }
   },
   "outputs": [],
   "source": [
    "Code(filename=\"fractal.py\")"
   ]
  },
  {
   "cell_type": "markdown",
   "metadata": {},
   "source": [
    "Si ejecutamos la función `make_fractal` con una resolución de 500 pixeles y 50 iteraciones el resultado es"
   ]
  },
  {
   "cell_type": "code",
   "execution_count": null,
   "metadata": {
    "ExecuteTime": {
     "end_time": "2020-08-04T01:24:36.676362Z",
     "start_time": "2020-08-04T01:24:34.075026Z"
    }
   },
   "outputs": [],
   "source": [
    "from fractal import make_fractal, evaluate_z\n",
    "\n",
    "fractal_image = make_fractal(N=500, maxiters=50)\n",
    "\n",
    "fig, ax = plt.subplots(figsize=(8, 4), tight_layout=True)\n",
    "ax.imshow(fractal_image, aspect='equal', cmap=plt.cm.viridis, origin='lower')\n",
    "ax.axis('off');"
   ]
  },
  {
   "cell_type": "markdown",
   "metadata": {},
   "source": [
    "# Medir tiempo de ejecución"
   ]
  },
  {
   "cell_type": "markdown",
   "metadata": {},
   "source": [
    "## Tiempo total usando magias de IPython\n",
    "\n"
   ]
  },
  {
   "cell_type": "markdown",
   "metadata": {},
   "source": [
    "A continuación revisaremos algunas magias de IPython que nos permiten medir el tiempo de ejecución de un script, función o expresión de Python de forma simple y conveniente\n",
    "\n",
    "La primera es `%time` que se usa anteponiendose a una función\n",
    "\n",
    "```python\n",
    ">>> %time mi_resultado = mi_funcion(mis_argumentos)\n",
    "```\n",
    "\n",
    "Esto retorna algo similar a \n",
    "\n",
    "```\n",
    "CPU times: user 2.44 s, sys: 2.41 ms, total: 2.45 s\n",
    "Wall time: 2.57 s\n",
    "```\n",
    "\n",
    "donde\n",
    "\n",
    "- *Wall time*: Es el tiempo total de un proceso/función/expresión desde su principio (lanzamiento) hasta su fin (retorno)\n",
    "- *CPU time (total)*: Es el tiempo en que el CPU está dedicado procesando la tarea solicitada, siempre será menor que el *Wall-time*\n",
    "\n",
    "La magia `%time` mide el tiempo de una linea de código\n",
    "\n",
    "Si queremos medir el tiempo de todas las lineas de código de un bloque de ejecución se usa `%%time`"
   ]
  },
  {
   "cell_type": "markdown",
   "metadata": {},
   "source": [
    "### Ejemplo\n",
    "\n",
    "Midamos el tiempo que demora en calcularse el fractal de Julia\n",
    "\n",
    "Usaremos la magia `%time`\n",
    "\n",
    "¿Cuánto demora en calcularse la función `slow_function`?"
   ]
  },
  {
   "cell_type": "code",
   "execution_count": null,
   "metadata": {
    "ExecuteTime": {
     "end_time": "2020-08-04T00:24:52.258222Z",
     "start_time": "2020-08-04T00:24:49.781400Z"
    }
   },
   "outputs": [],
   "source": [
    "%time result1 = make_fractal(N=500, maxiters=50)"
   ]
  },
  {
   "cell_type": "markdown",
   "metadata": {},
   "source": [
    "¿Qué ocurre si medimos una segunda vez?"
   ]
  },
  {
   "cell_type": "code",
   "execution_count": null,
   "metadata": {
    "ExecuteTime": {
     "end_time": "2020-08-04T00:24:54.755703Z",
     "start_time": "2020-08-04T00:24:52.260589Z"
    }
   },
   "outputs": [],
   "source": [
    "%time result2 = make_fractal(N=500, maxiters=50)"
   ]
  },
  {
   "cell_type": "code",
   "execution_count": null,
   "metadata": {
    "ExecuteTime": {
     "end_time": "2020-08-04T00:24:54.865546Z",
     "start_time": "2020-08-04T00:24:54.758874Z"
    }
   },
   "outputs": [],
   "source": [
    "np.allclose(result1, result2)"
   ]
  },
  {
   "cell_type": "markdown",
   "metadata": {},
   "source": [
    "Notemos que que el resultado en ambos casos es idéntico\n",
    "\n",
    "> Pero el tiempo de ejecución es ligeramente distinto\n",
    "\n",
    "¿Por qué?\n",
    "\n",
    "> Cada vez que ejecutamos un código alteramos el estado de nuestro sistema (cache, memoria)\n",
    "\n",
    "Por ende lo más correcto para medir el tiempo de nuestra rutina sería ejecutarla varias veces y calcular un promedio"
   ]
  },
  {
   "cell_type": "markdown",
   "metadata": {},
   "source": [
    "### La magía `%timeit`"
   ]
  },
  {
   "cell_type": "markdown",
   "metadata": {},
   "source": [
    "Podemos medir el tiempo promedio de un script, función o expresión de Python de forma conveniente usando la magia `timeit`. Esta magia se basa en el módulo estándar de Python [timeit](https://docs.python.org/3/library/timeit.html)\n",
    "\n",
    "Esta magia tiene varios argumentos, a continuación revisaremos un subconjunto de ellos\n",
    "\n",
    "- `-r<R>`: Define que el algoritmo se repetira `<R>` veces y se retorna el tiempo promedio de dichas repeticiones\n",
    "- `-n<N>`: Define que el algoritmo se ejecutará `<N>` veces seguidas (loop) en cada repetición\n",
    "- `-p<P>`: Se usa una precisión de `<P>` dígitos en los resultados\n",
    "- `-q`: No imprimir los resultados\n",
    "- `-o`: Retorna un objeto `TimeitResult`, con esto podemos manipular, analizar y graficar los tiempos de ejecución\n",
    "   \n",
    "se pueden revisar los demás argumentos en [la documentación](https://ipython.readthedocs.io/en/stable/interactive/magics.html#magic-time)\n",
    "\n",
    "Esta magia se utiliza como \n",
    "\n",
    "```python\n",
    ">>> %timeit -r10 -n5 mi_funcion(mis_argumentos)\n",
    "```\n",
    "\n",
    "Que en pseudo código sería como\n",
    "\n",
    "```python\n",
    "tiempos = []\n",
    "for _ in range(10): # Repeticiones\n",
    "    t_inicio = time.now() \n",
    "    for _ in range(5): # Loop\n",
    "        mi_funcion(mis_argumentos)\n",
    "    t_fin = time.now()\n",
    "    tiempos.append(t_fin - t_inicio)\n",
    "    \n",
    "return sum(tiempos)/(N*R) \n",
    "```\n",
    "\n",
    "> `timeit` retorna un promedio de promedios\n",
    "\n",
    "En general\n",
    "- `<R>` debe ser lo suficientemente grande para que los estadísticos que calculemos sean confiables\n",
    "- `<N>` debe ser lo suficientemente grande para que el tiempo medido sea representativo de `mi_funcion`\n",
    "\n",
    "> Si `mi_funcion` toma menos de 10 microsegundos es recomendable subir el $N$ de lo contrario el tiempo podría estar dominado por otros procesos como el `garbage collector` de Python\n",
    "\n",
    "Si no se especifica `<N>` la magia buscará de forma automática un valor adecuado\n",
    "\n"
   ]
  },
  {
   "cell_type": "markdown",
   "metadata": {},
   "source": [
    "### Ejercicio\n",
    "\n",
    "1. Cree cinco fractales usando `maxiters=50`y los valores `N` [5, 10, 50, 100, 500] y gráfique cada uno para apreciar sus diferencias\n",
    "1. Use `%timeit` para calcular el tiempo promedio y la desviación estándar de la función `make_fractal` con `N=500` y `maxiters=50`. Utilice `<R>=10`\n",
    "1. Repita lo anterior para cada uno de los valores de `N` usados anteriormente, guarde los tiempos asociados (Hint: estudie el atributo `-o`) ¿Cúal es el tiempo mínimo, máximo y promedio para cada `N`?\n",
    "1. Muestre una gráfica de $N$ vs tiempo total con barras de error. Considere escalamiento logarítmico para los ejes"
   ]
  },
  {
   "cell_type": "code",
   "execution_count": null,
   "metadata": {
    "ExecuteTime": {
     "end_time": "2020-08-04T01:44:31.343429Z",
     "start_time": "2020-08-04T01:44:31.340870Z"
    }
   },
   "outputs": [],
   "source": [
    "# Completa aquí\n"
   ]
  },
  {
   "cell_type": "code",
   "execution_count": null,
   "metadata": {
    "ExecuteTime": {
     "end_time": "2020-08-04T02:38:51.622809Z",
     "start_time": "2020-08-04T02:38:48.781155Z"
    }
   },
   "outputs": [],
   "source": [
    "YouTubeVideo_formato('8ttEskG28DQ')"
   ]
  },
  {
   "cell_type": "markdown",
   "metadata": {},
   "source": [
    "## Tiempo función por función\n",
    "\n",
    "Midiendo el tiempo de cada función con cProfile\n",
    "\n",
    "El módulo de Python [cProfile](https://docs.python.org/3/library/profile.html) mide la cantidad de llamadas y el tiempo de cada función ejecutada por nuestra rutina\n",
    "\n",
    "La magia de IPython `%prun` nos da una forma conveniente para usar este módulo\n",
    "\n",
    "```python\n",
    ">>> %prun mi_funcion()\n",
    "```\n",
    "\n",
    "Esto devuelve  una tabla con las siguientes filas\n",
    "\n",
    "- ncalls: Número de veces que se llama la función\n",
    "- tottime: Tiempo total en dicha función (sin contar subfunciones)\n",
    "- percall: ttime/ncalls\n",
    "- cumtime: Tiempo total en dicha función y sus subfunciones (tiempo de función recursiva)\n",
    "- percall: cumtime/ncalls\n",
    "\n",
    "Opciones importantes de `%prun`\n",
    "- `-s` para que el resultado quede ordenado según una fila en particular \n",
    "- `-l` si queremos especificar la cantidad de líneas a mostrar en la tabla"
   ]
  },
  {
   "cell_type": "markdown",
   "metadata": {},
   "source": [
    "### Ejemplo\n",
    "\n",
    "Usemos `prun` en la función `make_fractal` ordenando según el tiempo acumulado"
   ]
  },
  {
   "cell_type": "code",
   "execution_count": null,
   "metadata": {
    "ExecuteTime": {
     "end_time": "2020-08-04T00:24:57.729626Z",
     "start_time": "2020-08-04T00:24:54.930108Z"
    }
   },
   "outputs": [],
   "source": [
    "%prun -s cumtime make_fractal(N=500, maxiters=50)"
   ]
  },
  {
   "cell_type": "markdown",
   "metadata": {},
   "source": [
    "De la tabla vemos que \n",
    "- La función con mayor tiempo total es `evaluate_z` que está en la linea 1 de fractal.py\n",
    "- `evaluate_z()` se llama 500.000 veces\n",
    "\n",
    "En general el tiempo total es mayor que el que medimos con `time` y `timeit`. Esto se debe al overhead de `prun`"
   ]
  },
  {
   "cell_type": "markdown",
   "metadata": {},
   "source": [
    "### Visualizando el resultado de `prun`\n",
    "\n",
    "Podemos generar una visualización de los resultados de `cProfile` en nuestro navegador usando [`SnakeViz`](https://jiffyclub.github.io/snakeviz/)\n",
    "\n",
    "Primero lo instalamos con\n",
    "\n",
    "    conda install snakeviz\n",
    "    \n",
    "Esto creará un ejecutable `snakeviz` \n",
    "\n",
    "Luego cargamos la extensión para jupyter. Esto habilitará la magia del mismo nombre que podemos usar como\n",
    "\n",
    "```python\n",
    "\n",
    "    >>> %load_ext snakeviz\n",
    "    >>> %snakeviz -t make_fractal(N=500, maxiters=50)\n",
    "```\n",
    "\n",
    "La opción `-t` carga el gráfico en una pestaña de navegador nueva\n",
    "\n",
    "Esta herramienta puede mejorar considerablemente el estudio de nuestro código cuando se tiene una gran cantidad de funciones en distintas jerarquías\n",
    "\n",
    "<img src=\"../img/snakeviz.png\" width=\"900\">"
   ]
  },
  {
   "cell_type": "markdown",
   "metadata": {},
   "source": [
    "### `cProfile` sin IPython\n",
    "\n",
    "Si no contamos con el ambiente IPython podemos usar cProfile directamente sobre un script de Python con\n",
    "\n",
    "        python -m cProfile -o tabla.prof script.py\n",
    "        \n",
    "Donde el resultado queda grabado en el archivo tabla.prof"
   ]
  },
  {
   "cell_type": "markdown",
   "metadata": {},
   "source": [
    "## Tiempo linea a linea\n",
    "\n",
    "Hemos visto como medir el tiempo total de un código en Python y el tiempo desglosado por cada llamado a función de dicho código\n",
    "\n",
    "Pero en ocasiones puede resultar más informativo estudiar el tiempo de ejecución de cada linea de nuestro código por separado\n",
    "\n",
    "> Esto corresponde a un tipo de *profiling* llamado *line by line*\n",
    "\n",
    "Podemos hacer este tipo de profiling usando la extensión externa [`line_profiler`](https://github.com/rkern/line_profiler)\n",
    "\n",
    "Para instalar puedes usar conda\n",
    "\n",
    "    conda install line_profiler\n",
    "\n",
    "Una vez instalada debes cargar la extensión, lo cual habilitará una nueva magia llamada `%lprun`\n",
    "\n",
    "> La magia `%lprun` que funciona de forma similar a `prun`\n",
    "\n",
    "```python\n",
    ">>> %load_ext line_profiler\n",
    ">>> %lprun -f mi_método mi_rutina\n",
    "```\n",
    "\n",
    "Esta magia requiere que se especifique un método o función dentro de la rutina con el argumento `-f`\n",
    "\n",
    "Ejecutar la magia levantará una pestaña con una tabla\n",
    "\n",
    "La tabla tiene una fila por linea de código y las siguientes columnas\n",
    "- Line: Número de la linea dentro del código fuente\n",
    "- Hits: La cantidad de veces que se llama a esa linea\n",
    "- Time: Tiempo total de dicha linea\n",
    "- Per hit: Tiempo total dividido la cantidad de llamadas\n",
    "- % Time: Porcentaje del tiempo de dicha linea con respecto al tiempo total del método"
   ]
  },
  {
   "cell_type": "markdown",
   "metadata": {},
   "source": [
    "### Ejercicio\n",
    "\n",
    "- Realice un *line by line profiling* de `make_fractal(500, 50)`. ¿Cuál es la linea más costosa? ¿Qué porcentaje representa del total de tiempo de la función?\n",
    "- Realice un profiling de la función correspondiente a la linea más costosa"
   ]
  },
  {
   "cell_type": "code",
   "execution_count": null,
   "metadata": {
    "ExecuteTime": {
     "end_time": "2020-08-04T01:55:21.708859Z",
     "start_time": "2020-08-04T01:55:21.705862Z"
    }
   },
   "outputs": [],
   "source": [
    "# Completa aquí\n",
    "\n"
   ]
  },
  {
   "cell_type": "code",
   "execution_count": null,
   "metadata": {
    "ExecuteTime": {
     "end_time": "2020-08-04T02:18:52.338583Z",
     "start_time": "2020-08-04T02:18:50.212428Z"
    }
   },
   "outputs": [],
   "source": [
    "YouTubeVideo_formato('n6asVV2LfHM')"
   ]
  },
  {
   "cell_type": "markdown",
   "metadata": {},
   "source": [
    "# Medir uso de memoria"
   ]
  },
  {
   "cell_type": "markdown",
   "metadata": {},
   "source": [
    "## Memoría total y linea a linea con magias de IPython\n",
    "\n",
    "De forma muy similar a `timeit` para medir el tiempo de una rutina existe la magia `memit` para medir la cantidad de memoría usada por una rutina\n",
    "\n",
    "La magia es externa a IPython y debemos instalarla con\n",
    "\n",
    "    conda install memory_profiler\n",
    "    \n",
    "Luego se habilita y usa con\n",
    "\n",
    "```python\n",
    ">>> %load_ext memory_profiler\n",
    ">>> %memit funcion()\n",
    "```\n",
    "\n",
    "Que retorna la cantidad de memoria RAM usada por `funcion`\n",
    "\n",
    "Con esto también se habilita la magia `%mprun` para medir el uso de memoria linea a linea\n"
   ]
  },
  {
   "cell_type": "markdown",
   "metadata": {},
   "source": [
    "## Extra: Uso de memoria con módulo `tracemalloc`\n",
    "\n",
    "Python tiene un módulo estándar llamado [`tracemalloc`](https://docs.python.org/3/library/tracemalloc.html) que permite calcular estadísticas sobre la memoria alocada por un proceso o script de Python\n",
    "\n",
    "```python\n",
    "import tracemalloc\n",
    "\n",
    "tracemalloc.start()\n",
    "\n",
    "# Acá se corre el código que quieres estudiar\n",
    "\n",
    "snapshot = tracemalloc.take_snapshot()\n",
    "top_stats = snapshot.statistics('lineno')\n",
    "\n",
    "```\n"
   ]
  },
  {
   "cell_type": "code",
   "execution_count": null,
   "metadata": {},
   "outputs": [],
   "source": []
  }
 ],
 "metadata": {
  "kernelspec": {
   "display_name": "Python 3",
   "language": "python",
   "name": "python3"
  },
  "language_info": {
   "codemirror_mode": {
    "name": "ipython",
    "version": 3
   },
   "file_extension": ".py",
   "mimetype": "text/x-python",
   "name": "python",
   "nbconvert_exporter": "python",
   "pygments_lexer": "ipython3",
   "version": "3.8.2"
  },
  "toc": {
   "base_numbering": 1,
   "nav_menu": {},
   "number_sections": true,
   "sideBar": true,
   "skip_h1_title": false,
   "title_cell": "Table of Contents",
   "title_sidebar": "Contents",
   "toc_cell": false,
   "toc_position": {
    "height": "calc(100% - 180px)",
    "left": "10px",
    "top": "150px",
    "width": "294.4px"
   },
   "toc_section_display": true,
   "toc_window_display": true
  }
 },
 "nbformat": 4,
 "nbformat_minor": 2
}
