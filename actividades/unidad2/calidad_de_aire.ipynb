{
 "cells": [
  {
   "cell_type": "markdown",
   "metadata": {},
   "source": [
    "# Actividad práctica: Predicción de calidad de aire\n",
    "\n",
    "Descargue e importe el siguiente dataset \n",
    "\n",
    "    https://archive.ics.uci.edu/ml/datasets/Air+Quality\n",
    "\n",
    "Puede utilizar el siguiente código:"
   ]
  },
  {
   "cell_type": "code",
   "execution_count": null,
   "metadata": {},
   "outputs": [],
   "source": [
    "%matplotlib notebook\n",
    "import matplotlib.pyplot as plt\n",
    "import pandas as pd\n",
    "import numpy as np\n",
    "\n",
    "!wget -cq https://archive.ics.uci.edu/ml/machine-learning-databases/00360/AirQualityUCI.zip\n",
    "!unzip AirQualityUCI.zip\n",
    "\n",
    "df = pd.read_csv(\"AirQualityUCI.csv\", sep=';', decimal=',', na_values=[-200])\n",
    "df = df[df.columns[:-2]] \n",
    "df[\"Date_time\"] = pd.to_datetime(df['Date'] + ' ' + df['Time'], format=\"%d/%m/%Y %H.%M.%S\")\n",
    "df.drop([\"Date\", \"Time\"], axis=1, inplace=True)\n",
    "df.head(n=5)\n",
    "df.set_index(\"Date_time\", inplace=True)\n",
    "df.dropna(inplace=True)\n",
    "\n",
    "!rm AirQualityUCI*\n",
    "\n",
    "df.head(5)"
   ]
  },
  {
   "cell_type": "markdown",
   "metadata": {},
   "source": [
    "El objetivo de esta actividad es entrenar un modelo de regresión para predecir \n",
    "\n",
    "- la concentración de Monóxido de Carbono (CO)\n",
    "- la concentración de Benzeno (C6H6)\n",
    "\n",
    "En base al tiempo, la temperatura, la humedad y valores pasados de las concentraciones\n",
    "\n",
    "A continuación se visualizan 3 meses de datos "
   ]
  },
  {
   "cell_type": "code",
   "execution_count": null,
   "metadata": {},
   "outputs": [],
   "source": [
    "sub_df = df.loc[:pd.to_datetime(\"06/10/2004 18:00:00\")][[\"CO(GT)\", \"C6H6(GT)\", \"T\", \"RH\", \"AH\"]]\n",
    "time, data = sub_df.index, sub_df.values\n",
    "\n",
    "fig, ax = plt.subplots(figsize=(6, 4), tight_layout=True)\n",
    "ax.plot(time, data[:, 0], label='CO')\n",
    "ax.plot(time, data[:, 1], label='C6H6')\n",
    "ax.legend()\n",
    "fig.autofmt_xdate()"
   ]
  },
  {
   "cell_type": "markdown",
   "metadata": {},
   "source": [
    "Para entrenar su predictor considere\n",
    "\n",
    "- los primeros dos meses de datos para ajustar su predictor\n",
    "- el tercer mes de datos para validar sus parámetros \n",
    "\n",
    "Proponga un modelo lineal en sus parámetros y entrénelo usando `np.linalg.lstsq` y ese el error cuadrático medio para medir la calidad de su modelo. Entrene un modelo para predecir CO y otro para predecir C6H6"
   ]
  },
  {
   "cell_type": "code",
   "execution_count": null,
   "metadata": {},
   "outputs": [],
   "source": [
    "MSE = lambda real, estimation : np.mean(np.power(real - estimation, 2))"
   ]
  }
 ],
 "metadata": {
  "kernelspec": {
   "display_name": "Python 3",
   "language": "python",
   "name": "python3"
  },
  "language_info": {
   "codemirror_mode": {
    "name": "ipython",
    "version": 3
   },
   "file_extension": ".py",
   "mimetype": "text/x-python",
   "name": "python",
   "nbconvert_exporter": "python",
   "pygments_lexer": "ipython3",
   "version": "3.7.10"
  },
  "toc": {
   "base_numbering": 1,
   "nav_menu": {},
   "number_sections": true,
   "sideBar": true,
   "skip_h1_title": false,
   "title_cell": "Table of Contents",
   "title_sidebar": "Contents",
   "toc_cell": false,
   "toc_position": {},
   "toc_section_display": true,
   "toc_window_display": false
  }
 },
 "nbformat": 4,
 "nbformat_minor": 4
}
