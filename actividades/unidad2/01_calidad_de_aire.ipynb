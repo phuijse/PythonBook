{
 "cells": [
  {
   "cell_type": "markdown",
   "metadata": {},
   "source": [
    "## Actividad práctica: Predicción de calidad de aire\n",
    "\n",
    "Descargue e importe el siguiente dataset usando pandas\n",
    "\n",
    "    https://archive.ics.uci.edu/ml/datasets/Air+Quality\n",
    "\n",
    "El objetivo de esta actividad es entrenar un modelo para predecir \n",
    "- la concentración de Monóxido de Carbono (CO)\n",
    "- la concentración de Benzeno (C6H6)\n",
    "\n",
    "> Observe como se comportan los datos, en base a esto proponga un modelo lineal en sus parámetros\n",
    "\n",
    "Para entrenar su predictor use\n",
    "- los primeros dos meses de datos para ajustar su predictor\n",
    "- el tercer mes de datos para validar sus parámetros \n",
    "\n",
    "\n",
    "Nota: Un valor de \"-200\" corresponde a un *missing value*"
   ]
  },
  {
   "cell_type": "code",
   "execution_count": null,
   "metadata": {},
   "outputs": [],
   "source": []
  }
 ],
 "metadata": {
  "kernelspec": {
   "display_name": "Python 3",
   "language": "python",
   "name": "python3"
  },
  "language_info": {
   "codemirror_mode": {
    "name": "ipython",
    "version": 3
   },
   "file_extension": ".py",
   "mimetype": "text/x-python",
   "name": "python",
   "nbconvert_exporter": "python",
   "pygments_lexer": "ipython3",
   "version": "3.8.2"
  },
  "toc": {
   "base_numbering": 1,
   "nav_menu": {},
   "number_sections": true,
   "sideBar": true,
   "skip_h1_title": false,
   "title_cell": "Table of Contents",
   "title_sidebar": "Contents",
   "toc_cell": false,
   "toc_position": {},
   "toc_section_display": true,
   "toc_window_display": false
  }
 },
 "nbformat": 4,
 "nbformat_minor": 4
}
