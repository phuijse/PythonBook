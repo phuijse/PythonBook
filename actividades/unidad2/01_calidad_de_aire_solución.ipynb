{
 "cells": [
  {
   "cell_type": "markdown",
   "metadata": {},
   "source": [
    "# Actividad práctica: Predicción de calidad de aire\n",
    "\n",
    "Descargue e importe el siguiente dataset usando pandas\n",
    "\n",
    "    https://archive.ics.uci.edu/ml/datasets/Air+Quality\n",
    "\n",
    "El objetivo de esta actividad es entrenar un modelo para predecir \n",
    "- la concentración de Monóxido de Carbono (CO)\n",
    "- la concentración de Benzeno (C6H6)\n",
    "\n",
    "> Observe como se comportan los datos, en base a esto proponga un modelo lineal en sus parámetros\n",
    "\n",
    "Para entrenar su predictor use\n",
    "- los primeros dos meses de datos para ajustar su predictor\n",
    "- el tercer mes de datos para validar sus parámetros \n",
    "\n",
    "\n",
    "Nota: Un valor de \"-200\" corresponde a un *missing value*"
   ]
  },
  {
   "cell_type": "code",
   "execution_count": null,
   "metadata": {
    "ExecuteTime": {
     "end_time": "2020-07-09T03:39:13.136704Z",
     "start_time": "2020-07-09T03:39:12.565508Z"
    }
   },
   "outputs": [],
   "source": [
    "%matplotlib notebook\n",
    "import matplotlib.pyplot as plt\n",
    "import pandas as pd\n",
    "import numpy as np"
   ]
  },
  {
   "cell_type": "markdown",
   "metadata": {},
   "source": [
    "Importar datos"
   ]
  },
  {
   "cell_type": "code",
   "execution_count": null,
   "metadata": {
    "ExecuteTime": {
     "end_time": "2020-07-09T03:39:17.128854Z",
     "start_time": "2020-07-09T03:39:14.483130Z"
    }
   },
   "outputs": [],
   "source": [
    "!wget -c https://archive.ics.uci.edu/ml/machine-learning-databases/00360/AirQualityUCI.zip\n",
    "!unzip AirQualityUCI.zip\n",
    "\n",
    "df = pd.read_csv(\"AirQualityUCI.csv\", sep=';', decimal=',', na_values=[-200])\n",
    "df = df[df.columns[:-2]] \n",
    "df[\"Date_time\"] = pd.to_datetime(df['Date'] + ' ' + df['Time'], format=\"%d/%m/%Y %H.%M.%S\")\n",
    "df.drop([\"Date\", \"Time\"], axis=1, inplace=True)\n",
    "df.head(n=5)\n",
    "df.set_index(\"Date_time\", inplace=True)\n",
    "\n",
    "!rm AirQualityUCI*"
   ]
  },
  {
   "cell_type": "markdown",
   "metadata": {},
   "source": [
    "Visualizar primeros dos meses para la variable CO\n",
    "\n",
    "Existe un comportamiento periódico diario y semanal\n",
    "\n",
    "Un modelo sinusoidal podría ser apropiado"
   ]
  },
  {
   "cell_type": "code",
   "execution_count": null,
   "metadata": {
    "ExecuteTime": {
     "end_time": "2020-07-09T03:43:34.302022Z",
     "start_time": "2020-07-09T03:43:34.233354Z"
    }
   },
   "outputs": [],
   "source": [
    "sub_df = df.loc[:pd.to_datetime(\"06/10/2004 18:00:00\")][[\"CO(GT)\", \"T\", \"RH\", \"AH\"]]\n",
    "sub_df.dropna(inplace=True)\n",
    "time, data = sub_df.index, sub_df.values\n",
    "\n",
    "fig, ax = plt.subplots(figsize=(6, 4), tight_layout=True)\n",
    "ax.plot(time, data[:, 0])\n",
    "fig.autofmt_xdate()"
   ]
  },
  {
   "cell_type": "markdown",
   "metadata": {},
   "source": [
    "# Entrenamiento en primeros dos meses\n",
    "\n",
    "Entrenemos nuestro regresor lineal en sus parámetros\n",
    "\n",
    "- Usaremos tiempo en \"días\" y valores normalizados para todas las variables\n",
    "- Usaremos el valor anterior y el ante-anterior de CO\n",
    "- Usaremos una regresión trigonométrica\n",
    "- Utilizaremos una media flotante (sesgo)\n",
    "- Usaremos la presión y la temperatura"
   ]
  },
  {
   "cell_type": "code",
   "execution_count": null,
   "metadata": {
    "ExecuteTime": {
     "end_time": "2020-07-09T03:46:40.023688Z",
     "start_time": "2020-07-09T03:46:39.849690Z"
    }
   },
   "outputs": [],
   "source": [
    "data_float = data.astype('float32')\n",
    "data_float = (data_float - np.mean(data_float, axis=0, keepdims=True))/np.std(data_float, axis=0, keepdims=True)\n",
    "time_float = np.array([t.timestamp()/(24*3600) - time[0].timestamp()/(24*3600) for t in time])\n",
    "\n",
    "freqs = [*range(1, 10), 1/7, 1/14, 1/28]\n",
    "lags = [*range(1, 10)]\n",
    "X = np.hstack([np.ones(shape=(len(data_float), 1)), # sesgo\n",
    "               data_float[:, 1].reshape(-1, 1), # Temperatura\n",
    "               data_float[:, 2].reshape(-1, 1), # Presión relativa                      \n",
    "               #np.stack([np.roll(time_float, lag) for lag in lags]).T, # Valores pasados\n",
    "               np.stack([np.roll(data_float[:, 0], lag) for lag in lags]).T, # Valores pasados\n",
    "               np.stack([np.cos(2*np.pi*time_float*f) for f in freqs]).T,  # Diccionario coseno\n",
    "               np.stack([np.sin(2*np.pi*time_float*f) for f in freqs]).T, # Diccionario seno\n",
    "               ])\n",
    "Y = data_float[:, 0]\n",
    "\n",
    "MSE = lambda real, estimation : np.mean(np.power(real - estimation, 2))\n",
    "\n",
    "mask = (time_float <= 60) & (time_float > 2) # Primer mes\n",
    "theta, _, _, _ = np.linalg.lstsq(X[mask, :], Y[mask], rcond=None)\n",
    "display(theta)\n",
    "display(f\"Error cuadrático medio {MSE(Y[mask], np.dot(X[mask, :], theta))}\")\n",
    "\n",
    "fig, ax = plt.subplots(2, 1, figsize=(6, 4), tight_layout=True)\n",
    "ax[0].plot(time_float[mask], data_float[mask, 0], label='data')\n",
    "ax[0].plot(time_float[mask], np.dot(X[mask, :], theta), label='modelo')\n",
    "ax[0].legend()\n",
    "ax[1].plot(time_float[mask], np.abs(Y[mask] - np.dot(X[mask, :], theta)))\n",
    "ax[1].set_ylabel('Error absoluto');"
   ]
  },
  {
   "cell_type": "markdown",
   "metadata": {
    "ExecuteTime": {
     "end_time": "2020-07-09T03:37:51.788285Z",
     "start_time": "2020-07-09T03:37:51.778700Z"
    }
   },
   "source": [
    "# Evaluación en mes final"
   ]
  },
  {
   "cell_type": "code",
   "execution_count": null,
   "metadata": {
    "ExecuteTime": {
     "end_time": "2020-07-09T03:42:06.723214Z",
     "start_time": "2020-07-09T03:42:06.628464Z"
    }
   },
   "outputs": [],
   "source": [
    "mask = time_float > 60\n",
    "display(f\"Error cuadrático medio {MSE(Y[mask], np.dot(X[mask, :], theta))}\")\n",
    "\n",
    "fig, ax = plt.subplots(1, figsize=(6, 3), tight_layout=True)\n",
    "ax.plot(time_float[mask], data_float[mask, 0])\n",
    "ax.plot(time_float[mask], np.dot(X[mask, :], theta));"
   ]
  },
  {
   "cell_type": "markdown",
   "metadata": {},
   "source": [
    "Tiene nuestra solución menor MSE que simplemente predecir con el valor anterior?"
   ]
  },
  {
   "cell_type": "code",
   "execution_count": null,
   "metadata": {
    "ExecuteTime": {
     "end_time": "2020-07-09T03:42:09.830372Z",
     "start_time": "2020-07-09T03:42:09.820469Z"
    }
   },
   "outputs": [],
   "source": [
    "MSE(Y[mask], Y[np.where(mask)[0]-1])"
   ]
  },
  {
   "cell_type": "markdown",
   "metadata": {},
   "source": [
    "Tiene nuestra solución menor MSE que simplemente predecir con el valor medio?"
   ]
  },
  {
   "cell_type": "code",
   "execution_count": null,
   "metadata": {
    "ExecuteTime": {
     "end_time": "2020-07-09T03:42:40.351257Z",
     "start_time": "2020-07-09T03:42:40.343619Z"
    }
   },
   "outputs": [],
   "source": [
    "MSE(Y[mask], np.mean(Y))"
   ]
  },
  {
   "cell_type": "code",
   "execution_count": null,
   "metadata": {},
   "outputs": [],
   "source": []
  }
 ],
 "metadata": {
  "kernelspec": {
   "display_name": "Python 3",
   "language": "python",
   "name": "python3"
  },
  "language_info": {
   "codemirror_mode": {
    "name": "ipython",
    "version": 3
   },
   "file_extension": ".py",
   "mimetype": "text/x-python",
   "name": "python",
   "nbconvert_exporter": "python",
   "pygments_lexer": "ipython3",
   "version": "3.8.2"
  },
  "toc": {
   "base_numbering": 1,
   "nav_menu": {},
   "number_sections": true,
   "sideBar": true,
   "skip_h1_title": false,
   "title_cell": "Table of Contents",
   "title_sidebar": "Contents",
   "toc_cell": false,
   "toc_position": {},
   "toc_section_display": true,
   "toc_window_display": false
  }
 },
 "nbformat": 4,
 "nbformat_minor": 4
}
