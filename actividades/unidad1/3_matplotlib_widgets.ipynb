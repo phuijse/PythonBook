{
 "cells": [
  {
   "cell_type": "markdown",
   "id": "extra-deficit",
   "metadata": {},
   "source": [
    "**Modelo armónico**\n",
    "\n",
    "La serie de Fourier \n",
    "\n",
    "$$\n",
    "s(t) = \\frac{a_0}{2} + \\sum_{k=1}^{N_h} a_k \\cos \\left( \\frac{2\\pi k}{P}  t  \\right) + b_k \\sin \\left( \\frac{2\\pi k}{P}  t  \\right)\n",
    "$$\n",
    "\n",
    "puede usarse para sintetizar cualquier función con período $P$ a un grado arbitrario de precisión según la cantidad de componentes $N_h$ que se utilicen\n",
    "\n",
    "Los parámetros de la serie de Fourier son $(a_k, b_k) ~ \\forall k$. En primera instancia considere el caso particular $a_k=0$ $b_k = 1/k$\n",
    "\n",
    "Para hoy:\n",
    "\n",
    "- Implementemos y visualicemos la serie de Fourier usando `matplotlib`\n",
    "- Modifiquemos dinamicamente la serie usando `ipywidgets` sobre el período y la cantidad de componentes\n",
    "- \"Escuchemos\" el resultado usando `IPython.Audio` (Use una frecuencia de muestre de 44100 muestras por segundo)\n"
   ]
  },
  {
   "cell_type": "code",
   "execution_count": 1,
   "id": "offensive-representation",
   "metadata": {},
   "outputs": [],
   "source": [
    "# Descomente la magia `ipympl` si usa jupyter lab o VSCode\n",
    "#%matplotlib notebook\n",
    "%matplotlib ipympl\n",
    "import matplotlib.pyplot as plt\n",
    "import numpy as np\n",
    "import ipywidgets as widgets"
   ]
  },
  {
   "cell_type": "code",
   "execution_count": null,
   "metadata": {},
   "outputs": [],
   "source": []
  }
 ],
 "metadata": {
  "kernelspec": {
   "name": "python371064bit09184eecf8b743129c3338ccdb3737f2",
   "display_name": "Python 3.7.10 64-bit ('jupyter-book': conda)"
  },
  "language_info": {
   "codemirror_mode": {
    "name": "ipython",
    "version": 3
   },
   "file_extension": ".py",
   "mimetype": "text/x-python",
   "name": "python",
   "nbconvert_exporter": "python",
   "pygments_lexer": "ipython3",
   "version": "3.7.10"
  },
  "metadata": {
   "interpreter": {
    "hash": "585449d90d7fe16e24bca466a217460e9ffee0a4e290a88979fc60395a8596b8"
   }
  }
 },
 "nbformat": 4,
 "nbformat_minor": 5
}