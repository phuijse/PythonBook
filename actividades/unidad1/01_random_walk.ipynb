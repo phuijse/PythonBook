{
 "cells": [
  {
   "cell_type": "markdown",
   "metadata": {},
   "source": [
    "# Visualizando un proceso random walk en dos dimensiones <a class=\"tocSkip\">\n",
    "\n",
    "Considere un mundo en dos dimensiones cuyo espacio está dividido en segmentos disjuntos y de igual tamaño\n",
    "\n",
    "> Como una cuadricula o un tablero de ajedrez\n",
    "\n",
    "Imaginemos ahora una entidad \"borracha\" que puede desplazarse en este mundo \n",
    "\n",
    "> En cada instante de tiempo la entidad puede quedarse donde está (0) o moverse en una de las cuatro direcciones: arriba (1), derecha (2), abajo (3), izquierda (4)\n",
    "    \n",
    "El movimiento es aleatorio con probabilidades `[0.4, 0.15, 0.15, 0.15, 0.15]`\n",
    "\n",
    "Programa una clase que represente a la entidad y muestra graficamente como se mueve \n",
    "    \n",
    "Para esto use `NumPy` y una [animación](https://matplotlib.org/3.2.1/api/animation_api.html) de `Matplotlib`"
   ]
  },
  {
   "cell_type": "code",
   "execution_count": null,
   "metadata": {
    "ExecuteTime": {
     "end_time": "2020-06-05T22:45:01.810407Z",
     "start_time": "2020-06-05T22:45:01.447179Z"
    }
   },
   "outputs": [],
   "source": [
    "%matplotlib notebook\n",
    "import matplotlib.pyplot as plt\n",
    "import numpy as np"
   ]
  },
  {
   "cell_type": "code",
   "execution_count": null,
   "metadata": {},
   "outputs": [],
   "source": []
  }
 ],
 "metadata": {
  "kernelspec": {
   "display_name": "Python 3",
   "language": "python",
   "name": "python3"
  },
  "language_info": {
   "codemirror_mode": {
    "name": "ipython",
    "version": 3
   },
   "file_extension": ".py",
   "mimetype": "text/x-python",
   "name": "python",
   "nbconvert_exporter": "python",
   "pygments_lexer": "ipython3",
   "version": "3.8.2"
  },
  "toc": {
   "base_numbering": 1,
   "nav_menu": {},
   "number_sections": true,
   "sideBar": true,
   "skip_h1_title": false,
   "title_cell": "Table of Contents",
   "title_sidebar": "Contents",
   "toc_cell": false,
   "toc_position": {},
   "toc_section_display": true,
   "toc_window_display": false
  }
 },
 "nbformat": 4,
 "nbformat_minor": 4
}
