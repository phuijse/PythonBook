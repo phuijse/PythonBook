{
 "cells": [
  {
   "cell_type": "markdown",
   "id": "material-grammar",
   "metadata": {},
   "source": [
    "# Agenda para hoy\n",
    "\n",
    "- Trabajando con módulos en jupyter\n",
    "- Un vistazo a jupyterlab\n",
    "- Un vistazo a VSCODE\n",
    "- \"The missing semester\": https://missing.csail.mit.edu/"
   ]
  },
  {
   "cell_type": "markdown",
   "id": "synthetic-overview",
   "metadata": {},
   "source": [
    "Módulos externos:"
   ]
  },
  {
   "cell_type": "code",
   "execution_count": null,
   "id": "painful-collection",
   "metadata": {},
   "outputs": [],
   "source": [
    "from script_interesante import saludar"
   ]
  },
  {
   "cell_type": "markdown",
   "id": "lesser-boxing",
   "metadata": {},
   "source": [
    "Ayuda y autocompletación:"
   ]
  },
  {
   "cell_type": "code",
   "execution_count": null,
   "id": "labeled-initial",
   "metadata": {},
   "outputs": [],
   "source": [
    "saludar?"
   ]
  },
  {
   "cell_type": "code",
   "execution_count": null,
   "id": "hawaiian-length",
   "metadata": {},
   "outputs": [],
   "source": [
    "saludar(\"Pablo\")\n",
    "saludar(\"Andrés\")"
   ]
  },
  {
   "cell_type": "markdown",
   "id": "entitled-germany",
   "metadata": {},
   "source": [
    "Demostración de magia `load_ext` y `autoreload`\n",
    "\n",
    "Esta magia nos permite editar el módulo \"en vivo\" sin tener que reiniciar el cuadernillo"
   ]
  },
  {
   "cell_type": "markdown",
   "id": "running-intranet",
   "metadata": {},
   "source": [
    "### Jupyterlab y VSCODE\n",
    "\n",
    "Comparación entre jupyter notebook y jupyterlab: https://www.analyticsvidhya.com/blog/2020/06/10-powerful-reasons-jupyterlab-data-science/\n",
    "\n",
    "- Crear un ambiente de conda e instalar jupyterlab e ipympl, este último para tener gráficos interactivos\n",
    "\n",
    "Instrucciones para VSCODE interactue con Jupyter\n",
    "\n",
    "- Python y Jupyter extensions\n",
    "- F1: Select interpreter and default shell\n",
    "- Referencia: https://code.visualstudio.com/docs/python/python-tutorial"
   ]
  },
  {
   "cell_type": "code",
   "execution_count": null,
   "id": "communist-holder",
   "metadata": {},
   "outputs": [],
   "source": [
    "%matplotlib widget\n",
    "import matplotlib.pyplot as plt\n",
    "from ipywidgets import interact, IntSlider\n",
    "import numpy as np\n",
    "x = np.arange(-2, 2.1, step=0.1)\n",
    "fig, ax = plt.subplots(figsize=(6, 3), tight_layout=True)\n",
    "\n",
    "def update_plot(k):\n",
    "    ax.cla()\n",
    "    ax.plot(x, x**k)\n",
    "    \n",
    "\n",
    "interact(update_plot, k=IntSlider(min=0, max=4));"
   ]
  },
  {
   "cell_type": "code",
   "execution_count": null,
   "id": "union-printing",
   "metadata": {},
   "outputs": [],
   "source": []
  }
 ],
 "metadata": {
  "kernelspec": {
   "display_name": "Python 3",
   "language": "python",
   "name": "python3"
  },
  "language_info": {
   "codemirror_mode": {
    "name": "ipython",
    "version": 3
   },
   "file_extension": ".py",
   "mimetype": "text/x-python",
   "name": "python",
   "nbconvert_exporter": "python",
   "pygments_lexer": "ipython3",
   "version": "3.7.10"
  }
 },
 "nbformat": 4,
 "nbformat_minor": 5
}
