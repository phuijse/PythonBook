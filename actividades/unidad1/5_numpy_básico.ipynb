{
 "cells": [
  {
   "cell_type": "code",
   "execution_count": null,
   "id": "moderate-outline",
   "metadata": {},
   "outputs": [],
   "source": [
    "import numpy as np"
   ]
  },
  {
   "cell_type": "markdown",
   "id": "contrary-monroe",
   "metadata": {},
   "source": [
    "Sea el siguiente arreglo de valores numéricos"
   ]
  },
  {
   "cell_type": "code",
   "execution_count": null,
   "id": "attached-spring",
   "metadata": {},
   "outputs": [],
   "source": [
    "np.random.seed(12345)\n",
    "data = np.random.randn(20, 10)"
   ]
  },
  {
   "cell_type": "markdown",
   "id": "english-timing",
   "metadata": {},
   "source": [
    "**Slicing**"
   ]
  },
  {
   "cell_type": "markdown",
   "id": "alive-invalid",
   "metadata": {},
   "source": [
    "Retorne los elementos pares de la tercera fila"
   ]
  },
  {
   "cell_type": "code",
   "execution_count": null,
   "id": "empty-waste",
   "metadata": {},
   "outputs": [],
   "source": []
  },
  {
   "cell_type": "markdown",
   "id": "realistic-december",
   "metadata": {},
   "source": [
    "R: [-5.39741446e-01,  3.24894392e+00, -5.77087303e-01,  3.02613562e-01, 9.40277775e-04]"
   ]
  },
  {
   "cell_type": "markdown",
   "id": "derived-alexandria",
   "metadata": {},
   "source": [
    "**Reducciones**"
   ]
  },
  {
   "cell_type": "markdown",
   "id": "burning-weather",
   "metadata": {},
   "source": [
    "Encuentre el valor del máximo"
   ]
  },
  {
   "cell_type": "code",
   "execution_count": null,
   "id": "controversial-testing",
   "metadata": {},
   "outputs": [],
   "source": []
  },
  {
   "cell_type": "markdown",
   "id": "drawn-content",
   "metadata": {},
   "source": [
    "R: 3.248943919430755"
   ]
  },
  {
   "cell_type": "markdown",
   "id": "pressed-grace",
   "metadata": {},
   "source": [
    "Encuentre el valor de la suma total"
   ]
  },
  {
   "cell_type": "code",
   "execution_count": null,
   "id": "simplified-stockholm",
   "metadata": {},
   "outputs": [],
   "source": []
  },
  {
   "cell_type": "markdown",
   "id": "amber-regulation",
   "metadata": {},
   "source": [
    "R: -0.1968596195727046"
   ]
  },
  {
   "cell_type": "markdown",
   "id": "chief-dakota",
   "metadata": {},
   "source": [
    "**Creación y manipulación de arreglos**\n",
    "\n",
    "Cree el siguiente arreglo usando funciones de NumPy\n",
    "\n",
    "```\n",
    "[[1,  6, 11],\n",
    " [2,  7, 12],\n",
    " [3,  8, 13],\n",
    " [4,  9, 14],\n",
    " [5, 10, 15]]\n",
    "```"
   ]
  },
  {
   "cell_type": "markdown",
   "id": "sapphire-nowhere",
   "metadata": {},
   "source": [
    "**Fractal de Mandelbrot**\n",
    "\n",
    "Sea una grilla  de dos dimensiones en el rango $[-2, 1] \\times [-1.5, 1.5]$\n",
    "\n",
    "Cada elemento $(x,y)$ de la grilla pertenece al set de Mandelbrot si se cumple que\n",
    "\n",
    "$$\n",
    "z_{N} < T\n",
    "$$\n",
    "\n",
    "donde\n",
    "\n",
    "$$\n",
    "z_{i+1} = z_i^2 + c \n",
    "$$\n",
    "\n",
    "y\n",
    "\n",
    "$$\n",
    "c = x + y \\sqrt{-1}\n",
    "$$\n",
    "\n",
    "es un número complejo\n",
    "\n",
    "Dibuje el fractal de Mandelbrot para la grilla considerada con $N=50$"
   ]
  },
  {
   "cell_type": "code",
   "execution_count": null,
   "id": "handed-fifteen",
   "metadata": {},
   "outputs": [],
   "source": [
    "x = np.linspace(-2, 1, num=1000)\n",
    "y = np.linspace(-1.5, 1.5, num=1000)\n",
    "X, Y = np.meshgrid(x, y)\n",
    "C = X + 1j*Y\n",
    "Z = np.zeros_like(C)\n",
    "\n",
    "for i in range(50):\n",
    "    mask = np.abs(Z)<2\n",
    "    Z[mask] = Z[mask]*Z[mask] + C[mask]"
   ]
  },
  {
   "cell_type": "code",
   "execution_count": null,
   "id": "behavioral-smoke",
   "metadata": {},
   "outputs": [],
   "source": [
    "%matplotlib inline\n",
    "import matplotlib.pyplot as plt\n",
    "fig, ax = plt.subplots()\n",
    "ax.matshow(np.abs(Z)<2, cmap=plt.cm.Greys_r)"
   ]
  },
  {
   "cell_type": "code",
   "execution_count": null,
   "id": "digital-variable",
   "metadata": {},
   "outputs": [],
   "source": []
  }
 ],
 "metadata": {
  "kernelspec": {
   "display_name": "Python 3",
   "language": "python",
   "name": "python3"
  },
  "language_info": {
   "codemirror_mode": {
    "name": "ipython",
    "version": 3
   },
   "file_extension": ".py",
   "mimetype": "text/x-python",
   "name": "python",
   "nbconvert_exporter": "python",
   "pygments_lexer": "ipython3",
   "version": "3.7.10"
  }
 },
 "nbformat": 4,
 "nbformat_minor": 5
}
