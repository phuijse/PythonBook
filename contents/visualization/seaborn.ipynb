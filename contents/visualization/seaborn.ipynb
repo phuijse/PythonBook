{
 "cells": [
  {
   "cell_type": "code",
   "execution_count": 1,
   "metadata": {},
   "outputs": [],
   "source": [
    "%matplotlib inline\n",
    "import matplotlib.pyplot as plt\n",
    "import numpy as np"
   ]
  },
  {
   "cell_type": "markdown",
   "metadata": {},
   "source": [
    "## [Seaborn](https://seaborn.pydata.org/)\n",
    "\n",
    "Seaborn es una librería de visualización que utiliza matplotlib como backend\n",
    "\n",
    "Provee más opciones de gráficos y tienen una apariencia por defecto más moderna y acabada \n",
    "\n",
    "Además se integra mejor con la librería pandas (más en próximas clases)\n",
    "\n",
    "\n",
    "**Instalación**\n",
    "\n",
    "Con nuestro ambiente conda activado\n",
    "\n",
    "    conda install seaborn"
   ]
  },
  {
   "cell_type": "code",
   "execution_count": 2,
   "metadata": {
    "ExecuteTime": {
     "end_time": "2020-05-24T03:35:15.484269Z",
     "start_time": "2020-05-24T03:35:11.030054Z"
    }
   },
   "outputs": [
    {
     "ename": "ModuleNotFoundError",
     "evalue": "No module named 'seaborn'",
     "output_type": "error",
     "traceback": [
      "\u001b[0;31m---------------------------------------------------------------------------\u001b[0m",
      "\u001b[0;31mModuleNotFoundError\u001b[0m                       Traceback (most recent call last)",
      "Input \u001b[0;32mIn [2]\u001b[0m, in \u001b[0;36m<cell line: 1>\u001b[0;34m()\u001b[0m\n\u001b[0;32m----> 1\u001b[0m \u001b[38;5;28;01mimport\u001b[39;00m \u001b[38;5;21;01mseaborn\u001b[39;00m \u001b[38;5;28;01mas\u001b[39;00m \u001b[38;5;21;01msns\u001b[39;00m\n\u001b[1;32m      2\u001b[0m sns\u001b[38;5;241m.\u001b[39mset()\n",
      "\u001b[0;31mModuleNotFoundError\u001b[0m: No module named 'seaborn'"
     ]
    }
   ],
   "source": [
    "import seaborn as sns\n",
    "sns.set()"
   ]
  },
  {
   "cell_type": "markdown",
   "metadata": {},
   "source": [
    "Todas las funciones que vimos en la lección de matplotlib tendrán ahora la apariencia de seaborn"
   ]
  },
  {
   "cell_type": "code",
   "execution_count": null,
   "metadata": {
    "ExecuteTime": {
     "end_time": "2020-05-24T03:35:26.387098Z",
     "start_time": "2020-05-24T03:35:26.323924Z"
    }
   },
   "outputs": [],
   "source": [
    "x = np.arange(-2, 2, step=0.01)\n",
    "y = np.sin(2.0*np.pi*x) + 0.5*np.random.randn(len(x))\n",
    "\n",
    "plt.figure(figsize=(6, 3), tight_layout=True)\n",
    "plt.plot(x, y);"
   ]
  },
  {
   "cell_type": "markdown",
   "metadata": {},
   "source": [
    "### Algunos gráficos implementados en seaborn \n",
    "\n",
    "Todos los gráficos de seaborn pueden hacerse usando matplotlib (y un poco de esfuerzo extra)\n",
    "\n",
    "La ventaja de seaborn es que nos da una abstracción superior\n",
    "\n",
    "Seaborn ofrece `kdeplot` para visualizar distribuciones como alternativa a un histograma "
   ]
  },
  {
   "cell_type": "code",
   "execution_count": null,
   "metadata": {
    "ExecuteTime": {
     "end_time": "2020-05-24T03:37:19.878074Z",
     "start_time": "2020-05-24T03:37:19.801540Z"
    }
   },
   "outputs": [],
   "source": [
    "plt.figure(figsize=(6, 3), tight_layout=True)\n",
    "sns.kdeplot(y, shade=True);"
   ]
  },
  {
   "cell_type": "markdown",
   "metadata": {},
   "source": [
    "`kdeplot` también puede usarse para dibujar distribuciones de mayor dimensión\n",
    "\n",
    "Si queremos dibujar la distribución conjunta con las marginales podemos usar `jointplot`"
   ]
  },
  {
   "cell_type": "code",
   "execution_count": null,
   "metadata": {
    "ExecuteTime": {
     "end_time": "2020-05-24T03:37:56.899056Z",
     "start_time": "2020-05-24T03:37:56.199438Z"
    }
   },
   "outputs": [],
   "source": [
    "# plt.figure(figsize=(6, 3), tight_layout=True)\n",
    "# sns.kdeplot(x, y, shade=True);\n",
    "sns.jointplot(x=x, y=y, kind='kde')"
   ]
  },
  {
   "cell_type": "markdown",
   "metadata": {},
   "source": [
    "Otro ejemplo muy util para dibujar correlación entre variables es `pairplot`\n",
    "\n",
    "Esta función recibe como entrada un objeto DataFrame de pandas"
   ]
  },
  {
   "cell_type": "code",
   "execution_count": null,
   "metadata": {
    "ExecuteTime": {
     "end_time": "2020-05-24T03:39:14.023820Z",
     "start_time": "2020-05-24T03:39:12.758033Z"
    }
   },
   "outputs": [],
   "source": [
    "import pandas as pd # Si instalaste seaborn con conda, ya tienes instalado pandas\n",
    "data = pd.DataFrame(np.array([x, y, y**2]).T)\n",
    "sns.pairplot(data);"
   ]
  }
 ],
 "metadata": {
  "kernelspec": {
   "display_name": "Python 3 (ipykernel)",
   "language": "python",
   "name": "python3"
  },
  "language_info": {
   "codemirror_mode": {
    "name": "ipython",
    "version": 3
   },
   "file_extension": ".py",
   "mimetype": "text/x-python",
   "name": "python",
   "nbconvert_exporter": "python",
   "pygments_lexer": "ipython3",
   "version": "3.8.12"
  },
  "toc": {
   "base_numbering": 1,
   "nav_menu": {},
   "number_sections": true,
   "sideBar": true,
   "skip_h1_title": false,
   "title_cell": "Table of Contents",
   "title_sidebar": "Contents",
   "toc_cell": false,
   "toc_position": {},
   "toc_section_display": true,
   "toc_window_display": false
  }
 },
 "nbformat": 4,
 "nbformat_minor": 2
}
