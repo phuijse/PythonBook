{
 "cells": [
  {
   "cell_type": "markdown",
   "metadata": {},
   "source": [
    "# ¿Cómo hacer buenas visualizaciones?\n",
    "\n",
    "El objetivo de una visualización de datos es **comunicar la información de forma clara y simple**\n",
    "\n",
    "> Esto tiene un aspecto funcional y otro estético que deben estar balanceados\n",
    "\n",
    "En las lecciones previas aprendido a usar matplotlib: Corresponde al aspecto funcional\n",
    "\n",
    "> El aspecto estético requiere diseño (y sentido común)\n",
    "\n",
    "La mejor forma de aprender este aspecto es estudiando ejemplos\n",
    "\n",
    "- https://informationisbeautiful.net/visualizations/\n",
    "- https://bokeh.pydata.org/en/latest/docs/gallery.html\n",
    "\n",
    "A continuación voy a listar algunos consejos de distintas fuentes"
   ]
  },
  {
   "cell_type": "markdown",
   "metadata": {},
   "source": [
    "**Consejo 1:** El siguiente estudio realizó un ranking de las formas más efectivas de comunicar diferencias cuantitativas. Privilega las que están más arriba en la escala de efectividad\n",
    "\n",
    "<a href=\"https://www.knowablemagazine.org/article/mind/2019/science-data-visualization\"><img src=\"img/vranking.svg\" width=\"500\"></a>\n",
    "\n",
    "Les recomiendo tomar el *chart challenge* en el link de la imagen"
   ]
  },
  {
   "cell_type": "markdown",
   "metadata": {},
   "source": [
    "**Consejo 2:** Menos es más. Muestra sólo lo fundamental y usa color sólo para comunicar\n",
    "\n",
    "**Consejo 3**: Evita el misterio. Etiqueta tus ejes, ponle título a tus gráficos y usa leyendas siempre que sea necesario\n",
    "\n",
    "**Consejo 4**: [Evita las paletas de color de tipo arcoíris](https://www.scientificamerican.com/article/end-of-the-rainbow-new-map-scale-is-more-readable-by-people-who-are-color-blind/). Las paletas de tipo arcoiris son más difíciles de interpretar y no son amigables con los daltónicos. Por esta razón la paleta por defecto de matplotlib es viridis que es [perceptualmente-uniforme](https://bids.github.io/colormap/)"
   ]
  },
  {
   "cell_type": "markdown",
   "metadata": {},
   "source": [
    "Puedes ver estos y otros consejos explicados en el siguiente [diagrama](https://www.geckoboard.com/uploads/play-your-charts-right.pdf) de *geckoboard.com*\n",
    "\n",
    "También les recomiendo ver el siguiente video (en inglés) con más ejemplos y buenas prácticas a considerar"
   ]
  },
  {
   "cell_type": "code",
   "execution_count": 1,
   "metadata": {},
   "outputs": [
    {
     "data": {
      "text/html": [
       "\n",
       "        <iframe\n",
       "            width=\"400\"\n",
       "            height=\"300\"\n",
       "            src=\"https://player.vimeo.com/video/29684853\"\n",
       "            frameborder=\"0\"\n",
       "            allowfullscreen\n",
       "            \n",
       "        ></iframe>\n",
       "        "
      ],
      "text/plain": [
       "<IPython.lib.display.VimeoVideo at 0x7f5e00dccd90>"
      ]
     },
     "execution_count": 1,
     "metadata": {},
     "output_type": "execute_result"
    }
   ],
   "source": [
    "from IPython.display import VimeoVideo\n",
    "VimeoVideo('29684853')"
   ]
  },
  {
   "cell_type": "code",
   "execution_count": null,
   "metadata": {},
   "outputs": [],
   "source": []
  }
 ],
 "metadata": {
  "kernelspec": {
   "display_name": "Python 3 (ipykernel)",
   "language": "python",
   "name": "python3"
  },
  "language_info": {
   "codemirror_mode": {
    "name": "ipython",
    "version": 3
   },
   "file_extension": ".py",
   "mimetype": "text/x-python",
   "name": "python",
   "nbconvert_exporter": "python",
   "pygments_lexer": "ipython3",
   "version": "3.8.12"
  },
  "toc": {
   "base_numbering": 1,
   "nav_menu": {},
   "number_sections": true,
   "sideBar": true,
   "skip_h1_title": false,
   "title_cell": "Table of Contents",
   "title_sidebar": "Contents",
   "toc_cell": false,
   "toc_position": {},
   "toc_section_display": true,
   "toc_window_display": false
  }
 },
 "nbformat": 4,
 "nbformat_minor": 2
}
