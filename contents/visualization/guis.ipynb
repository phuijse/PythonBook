{
 "cells": [
  {
   "cell_type": "markdown",
   "metadata": {},
   "source": [
    "# Interfaces de usuario en Jupyter con `ipywidgets`\n",
    "\n",
    "Jupyter y IPython permiten no sólo visualizar datos sino también interactuar con ellos en tiempo real\n",
    "\n",
    "Para lograr esto estudiaremos los componentes de la librería [`ipywidgets`](https://ipywidgets.readthedocs.io/en/stable/)\n",
    "\n",
    ":::{note}\n",
    "\n",
    "Los callbacks de los widgets requieren conexión con un intérprete de IPython. Si estás viendo este cuadernillo desde phuijse.github.io/PythonBook entonces los widgets no tendrán funcionalidad\n",
    "\n",
    ":::"
   ]
  },
  {
   "cell_type": "markdown",
   "metadata": {},
   "source": [
    "## ¿Qué es un widget?\n",
    "\n",
    "Un widget es un elemento gráfico que permite interactuar con una aplicación\n",
    "\n",
    "Un conjunto de widgets forman una interfaz de usuario gráfica (Graphical user interface o GUI)\n",
    "\n",
    "La siguiente imagen muestra los widgets típicos que se encuentran en las aplicaciones de PC\n",
    "\n",
    "<img src=\"https://upload.wikimedia.org/wikipedia/commons/d/d5/Widgets.png\" width=\"400\">\n",
    "\n",
    "La librería `ipywidgets` provee controles que permiten interactuar con funciones de Python \n",
    "\n",
    "Entre los muchos [widgets disponibles](https://ipywidgets.readthedocs.io/en/stable/examples/Widget%20List.html) se encuentran:\n",
    "- Botones e selectores (*check-box*)\n",
    "- Listas desplegables (*combo-box*)\n",
    "- Campos de ingreso de texto (*text-box*)\n",
    "- Deslizadores (*sliders*)\n",
    "\n",
    "\n",
    "**Instalación**\n",
    "\n",
    "La forma más sencilla de instalar es usando `conda`\n",
    "\n",
    "    conda install ipywidgets\n",
    "    \n",
    "Si lo instalas de otra manera (pip o python setup.py) es necesario habilitar la extensión\n",
    "\n",
    "    pip install ipywidgets --user\n",
    "    jupyter nbextension enable --py widgetsnbextension\n",
    "   "
   ]
  },
  {
   "cell_type": "markdown",
   "metadata": {},
   "source": [
    "## Creación semi-automática de widgets\n",
    "\n",
    "Una manera rápida de implementar widgets es usar el  **decorador `interact`**\n",
    "\n",
    "> Al aplicar el decorador a una función convertiremos sus argumentos de entrada en widgets\n",
    "\n",
    "Cada entrada genera y se enlaza a un widget según su tipo:\n",
    "\n",
    "- Un entero produce un widget `IntSlider`\n",
    "- Un flotante produce un widget `FloatSlider`\n",
    "- Un booleando produce un widget `Checkbox`\n",
    "- Una lista produce un widget `Dropdown`\n",
    "- Un string produce un widget `Text`\n",
    "\n",
    "\n",
    "Los argumentos del decorador permiten entregar algunas opciones a los widgets"
   ]
  },
  {
   "cell_type": "code",
   "execution_count": 1,
   "metadata": {},
   "outputs": [],
   "source": [
    "%matplotlib inline\n",
    "import matplotlib.pyplot as plt\n",
    "import numpy as np"
   ]
  },
  {
   "cell_type": "code",
   "execution_count": 2,
   "metadata": {
    "ExecuteTime": {
     "end_time": "2020-06-20T17:46:18.332538Z",
     "start_time": "2020-06-20T17:46:18.209592Z"
    }
   },
   "outputs": [
    {
     "data": {
      "application/vnd.jupyter.widget-view+json": {
       "model_id": "2db97750296d4fa0a2070c8b5eb8d038",
       "version_major": 2,
       "version_minor": 0
      },
      "text/plain": [
       "interactive(children=(IntSlider(value=0, description='x', max=10, step=2), FloatSlider(value=0.0, description=…"
      ]
     },
     "metadata": {},
     "output_type": "display_data"
    }
   ],
   "source": [
    "import ipywidgets as widgets\n",
    "\n",
    "# Se crea un widget por cada argumento de la función\n",
    "@widgets.interact(x=(0, 10, 2), # El mínimo, máximo y paso para x\n",
    "                  y=(-1., 1., 0.01) # El mínimo, máximo y paso para y\n",
    "                  )\n",
    "\n",
    "def print_cosas(x=0, \n",
    "                y=0., \n",
    "                z=True, \n",
    "                w=['foo','bar'], \n",
    "                v='foo'): \n",
    "    display(x, y, z, w, v)"
   ]
  },
  {
   "cell_type": "markdown",
   "metadata": {},
   "source": [
    "## Creación manual de widgets\n",
    "\n",
    "Para mayor control podemos crear los widgets de nuestra preferencia con sus respectivos constructores y luego enlazarlos a una función usando   manualmente con la **función `interact`**\n",
    "\n",
    "A continuación revisaremos algunos de ellos"
   ]
  },
  {
   "cell_type": "markdown",
   "metadata": {},
   "source": [
    "### [Widgets numéricos](https://ipywidgets.readthedocs.io/en/stable/examples/Widget%20List.html#Numeric-widgets)\n",
    "\n",
    "Un desplazador o *slider* es un widget cuyos argumentos son\n",
    "\n",
    "- min: valor donde inicia\n",
    "- max: valor donde termina\n",
    "- step: el salto entre valores\n",
    "- value: valor inicial\n",
    "\n",
    "El slider generará números entre esos rangos a medida que interactuamos con él\n",
    "\n",
    "Se puede crear un desplazador que produce números enteros con `IntSlider` o flotantes con `FloatSlider`\n",
    "\n",
    "\n",
    "**Ejemplo**\n",
    "\n",
    "```python\n",
    "f = lambda a: display(a)\n",
    "x = widgets.IntSlider(min=-100, max=100, step=5) # Esto crea el widget\n",
    "widgets.interact(f, a=x) # Esto enlaza x con a para la función f\n",
    "```"
   ]
  },
  {
   "cell_type": "markdown",
   "metadata": {},
   "source": [
    "También se pueden generar tuplas de enteros y flotantes usando  `IntRangeSlider` y `FloatRangeSlider`, respectivamente\n",
    "\n",
    "Por otro lado los widgets te tipo text-box `FloatText` y `IntText` pueden usarse para pedir un número al usuario\n",
    "\n",
    "```python\n",
    "f = lambda a: display(a)\n",
    "x = widgets.FloatText(description=\"Por favor ingrese un número\")\n",
    "widgets.interact(f, a=x) # Esto enlaza el widget al primer argumento de f\n",
    "```\n",
    "\n",
    "En ambos casos podemos obtener el valor de los widgets usando \n",
    "\n",
    "```python\n",
    "x.value\n",
    "```\n",
    "\n",
    "Podemos verificar todos los atributos del widget usando\n",
    "\n",
    "```python\n",
    "x.keys\n",
    "```"
   ]
  },
  {
   "cell_type": "markdown",
   "metadata": {},
   "source": [
    "### [Widgets de texto](https://ipywidgets.readthedocs.io/en/stable/examples/Widget%20List.html#String-widgets)\n",
    "\n",
    "Sirven para capturar y mostrar strings\n",
    "\n",
    "- `Text`: Da una linea en blanco para escribir, al apretar Enter se captura el string\n",
    "- `Textarea`: Da un bloque de texto para escribir, se comporta igual a `Text`\n",
    "- `Label`: Muestra un string\n",
    "\n",
    "```python\n",
    "widgets.Text(value, # Texto por defecto\n",
    "             placeholder, # Texto que aparece cuando está vacío\n",
    "             description # Texto que aparece a la izquierda del cuadrado de texto\n",
    "            )\n",
    "```\n",
    "**Ejemplo**"
   ]
  },
  {
   "cell_type": "code",
   "execution_count": 3,
   "metadata": {
    "ExecuteTime": {
     "end_time": "2020-06-20T17:46:18.345772Z",
     "start_time": "2020-06-20T17:46:18.334079Z"
    }
   },
   "outputs": [
    {
     "data": {
      "application/vnd.jupyter.widget-view+json": {
       "model_id": "a07e4a318023426d9848afcd111c4d28",
       "version_major": 2,
       "version_minor": 0
      },
      "text/plain": [
       "Text(value='', description='Nombre:', placeholder='Escribe tu nombre acá')"
      ]
     },
     "metadata": {},
     "output_type": "display_data"
    }
   ],
   "source": [
    "widgets.Text(placeholder='Escribe tu nombre acá', description='Nombre:')"
   ]
  },
  {
   "cell_type": "markdown",
   "metadata": {},
   "source": [
    "### [Objeto Layout y atributo style](https://ipywidgets.readthedocs.io/en/stable/examples/Widget%20Styling.html)\n",
    "\n",
    " El objeto `Layout` sirve para dar estilo a los *widgets*\n",
    " \n",
    "El estilo se explicita usando [CSS](https://www.w3schools.com/css/)\n",
    "\n",
    "Algunos argumentos útiles son \n",
    "- width: ancho del widget en pixeles\n",
    "- height: alto del widget en pixeles\n",
    "- margin: espacio entre el widget y otros componentes\n",
    "\n",
    "Cada widget tiene un atributo llamado `style` para personalizarlo \n",
    "\n",
    "La lista de atributos de estilo se puede acceder con \n",
    "\n",
    "```python\n",
    "x = widgets.Button()\n",
    "x.style.keys\n",
    "```\n",
    "\n",
    "**Ejemplo**"
   ]
  },
  {
   "cell_type": "code",
   "execution_count": 4,
   "metadata": {
    "ExecuteTime": {
     "end_time": "2020-06-20T17:46:18.448262Z",
     "start_time": "2020-06-20T17:46:18.347550Z"
    }
   },
   "outputs": [
    {
     "data": {
      "application/vnd.jupyter.widget-view+json": {
       "model_id": "552ef977817a4c3ba8d74f1ec7b4ab2b",
       "version_major": 2,
       "version_minor": 0
      },
      "text/plain": [
       "interactive(children=(FloatRangeSlider(value=(-50.0, 50.0), description='Un argumento muy interesante:', layou…"
      ]
     },
     "metadata": {},
     "output_type": "display_data"
    }
   ],
   "source": [
    "slider_layout = widgets.Layout(width='600px', height='20px', margin='10px')\n",
    "\n",
    "def mi_funcion(x):\n",
    "    display(x[0], x[1], (x[1] - x[0]))\n",
    "\n",
    "range_slider = widgets.FloatRangeSlider(min=-100., max=100., step=0.01, \n",
    "                                        continuous_update=True, \n",
    "                                        description=r'Un argumento muy interesante:',\n",
    "                                        layout=slider_layout)\n",
    "range_slider.style.description_width = 'initial'\n",
    "range_slider.style.handle_color = 'black'\n",
    "\n",
    "widgets.interact(mi_funcion, x=range_slider);"
   ]
  },
  {
   "cell_type": "markdown",
   "metadata": {},
   "source": [
    "### Widget de tipo contenedor\n",
    "\n",
    "Son widgets que sirven para organizar otros widgets\n",
    "\n",
    "Por ejemplo \n",
    "- `HBox`: Organiza los widgets en forma horizontal\n",
    "- `VBox`: Organiza los widgets en forma vertical\n",
    "- `Tab`: Crea pestañas con los widgets\n",
    "\n",
    "Estos widgets reciben una lista de widgets y pueden anidarse\n",
    "\n",
    "**Ejemplo**"
   ]
  },
  {
   "cell_type": "code",
   "execution_count": 5,
   "metadata": {
    "ExecuteTime": {
     "end_time": "2020-06-20T17:46:18.808180Z",
     "start_time": "2020-06-20T17:46:18.779618Z"
    }
   },
   "outputs": [
    {
     "data": {
      "application/vnd.jupyter.widget-view+json": {
       "model_id": "86e6f810407741b9878ec8304e99f4a4",
       "version_major": 2,
       "version_minor": 0
      },
      "text/plain": [
       "VBox(children=(Text(value='', description='Nombre:'), Text(value='', description='Apellido:')))"
      ]
     },
     "metadata": {},
     "output_type": "display_data"
    }
   ],
   "source": [
    "firstname = widgets.Text(description='Nombre:')\n",
    "lastname = widgets.Text(description='Apellido:')\n",
    "widgets.VBox([firstname, lastname])"
   ]
  },
  {
   "cell_type": "markdown",
   "metadata": {},
   "source": [
    "## Callbacks y eventos"
   ]
  },
  {
   "cell_type": "markdown",
   "metadata": {},
   "source": [
    "### [Widget Button](https://ipywidgets.readthedocs.io/en/stable/examples/Widget%20List.html#Button) y atributo `on_click`\n",
    "\n",
    "```python\n",
    "widgets.Button(description, # Texto en el botón\n",
    "               button_style='', # Estilo del botón: 'success', 'info', 'warning', 'danger' or ''\n",
    "               icon='check', # Icono del botón\n",
    "               ...\n",
    "              )\n",
    "```\n",
    "\n",
    "Podemos darle funcionalidad al botón enlanzándolo con una función o *callback*. \n",
    "\n",
    ":::{important}\n",
    "\n",
    "La función debe tener un argumento. Este argumento corresponde al botón en sí\n",
    "\n",
    ":::\n",
    "\n",
    "Especificamos la función utilizando el método  `on_click` del botón\n",
    "\n",
    "**Ejemplo**"
   ]
  },
  {
   "cell_type": "code",
   "execution_count": 6,
   "metadata": {
    "ExecuteTime": {
     "end_time": "2020-06-20T17:46:18.889846Z",
     "start_time": "2020-06-20T17:46:18.809950Z"
    }
   },
   "outputs": [
    {
     "data": {
      "application/vnd.jupyter.widget-view+json": {
       "model_id": "65953ebfda0c458583a0a9f60b2970bb",
       "version_major": 2,
       "version_minor": 0
      },
      "text/plain": [
       "HBox(children=(Text(value='', description='Escribir tu nombre:', style=DescriptionStyle(description_width='ini…"
      ]
     },
     "metadata": {},
     "output_type": "display_data"
    },
    {
     "data": {
      "text/plain": [
       "'Pablo'"
      ]
     },
     "metadata": {},
     "output_type": "display_data"
    }
   ],
   "source": [
    "insert_name = widgets.Text(description='Escribir tu nombre:')\n",
    "insert_name.style.description_width = 'initial'\n",
    "push_data = widgets.Button(description='Enviar')\n",
    "display(widgets.HBox([insert_name, push_data]))\n",
    "\n",
    "def boton_apretado(b):\n",
    "    display(insert_name.value)\n",
    "    \n",
    "push_data.on_click(boton_apretado)"
   ]
  },
  {
   "cell_type": "markdown",
   "metadata": {},
   "source": [
    "### Atributo `observe`\n",
    "\n",
    "Podemos agregar acciones a otros widgets con el método `observe`\n",
    "\n",
    ":::{important}\n",
    "\n",
    "`observe` recibe una función de un argumento y el nombre del atributo que queremos \"observar\"\n",
    "\n",
    ":::\n",
    "\n",
    "Cada vez que haya un cambio en el atributo se llamará la función que especificamos\n",
    "\n",
    "El argumento de la función es un diccionario que tiene las siguientes llaves\n",
    "\n",
    "- `owner` : El widget que provocó el cambio\n",
    "- `name` : El nombre del atributo que está cambiando\n",
    "- `old` : El valor antiguo del atributo\n",
    "- `new` : El valor nuevo del atributo\n",
    "\n",
    "**Ejemplo**"
   ]
  },
  {
   "cell_type": "code",
   "execution_count": 7,
   "metadata": {
    "ExecuteTime": {
     "end_time": "2020-06-20T17:46:18.970168Z",
     "start_time": "2020-06-20T17:46:18.891677Z"
    }
   },
   "outputs": [
    {
     "data": {
      "application/vnd.jupyter.widget-view+json": {
       "model_id": "0785e70ac694437a8c0c8f08c2991007",
       "version_major": 2,
       "version_minor": 0
      },
      "text/plain": [
       "Dropdown(description='Nombre:', options=('Pablo', 'Sebastián', 'Enrique'), value='Pablo')"
      ]
     },
     "metadata": {},
     "output_type": "display_data"
    }
   ],
   "source": [
    "def handler(change):\n",
    "    # change es un diccionario para el atributo value\n",
    "    display(f\"Hola {change['new']}, Chao {change['old']}\")\n",
    "\n",
    "sel_slider = widgets.Dropdown(description=\"Nombre:\", \n",
    "                              options=[\"Pablo\", \"Eliana\", \"Hector\"])\n",
    "\n",
    "display(sel_slider)\n",
    "sel_slider.observe(handler, names='value')"
   ]
  },
  {
   "cell_type": "markdown",
   "metadata": {},
   "source": [
    "### widget Output \n",
    "\n",
    "Este es un widget especial que puede usarse para redireccionar las salidas de otros widgets\n",
    "\n",
    "1. Primero creamos y mostrarmos Output \n",
    "1. Luego lo usamos de contexto para la salida de otro widget\n",
    "\n",
    "**Ejemplo**"
   ]
  },
  {
   "cell_type": "code",
   "execution_count": 8,
   "metadata": {
    "ExecuteTime": {
     "end_time": "2020-06-20T17:46:19.051946Z",
     "start_time": "2020-06-20T17:46:18.972238Z"
    }
   },
   "outputs": [
    {
     "data": {
      "application/vnd.jupyter.widget-view+json": {
       "model_id": "048a27fbf8504bb7848b2a37dd0dda33",
       "version_major": 2,
       "version_minor": 0
      },
      "text/plain": [
       "Output(layout=Layout(border='1px solid black'))"
      ]
     },
     "metadata": {},
     "output_type": "display_data"
    }
   ],
   "source": [
    "out = widgets.Output(layout={'border': '1px solid black'})\n",
    "display(out)"
   ]
  },
  {
   "cell_type": "code",
   "execution_count": 9,
   "metadata": {
    "ExecuteTime": {
     "end_time": "2020-06-20T17:46:19.182215Z",
     "start_time": "2020-06-20T17:46:19.053788Z"
    }
   },
   "outputs": [
    {
     "data": {
      "application/vnd.jupyter.widget-view+json": {
       "model_id": "1c42aa48490f4f56b6d36e3580be421c",
       "version_major": 2,
       "version_minor": 0
      },
      "text/plain": [
       "HBox(children=(Text(value='', description='Escribir tu nombre', style=DescriptionStyle(description_width='init…"
      ]
     },
     "metadata": {},
     "output_type": "display_data"
    }
   ],
   "source": [
    "def on_change(button):\n",
    "    with out: \n",
    "        display(insert_name.value) # Esto se va escribir donde quiera que esté out\n",
    "\n",
    "insert_name = widgets.Text(description='Escribir tu nombre')\n",
    "insert_name.style.description_width = 'initial'\n",
    "push_data = widgets.Button(description='Enviar')\n",
    "display(widgets.HBox([insert_name, push_data]))\n",
    "push_data.on_click(on_change)"
   ]
  },
  {
   "cell_type": "code",
   "execution_count": null,
   "metadata": {},
   "outputs": [],
   "source": []
  }
 ],
 "metadata": {
  "kernelspec": {
   "display_name": "Python 3 (ipykernel)",
   "language": "python",
   "name": "python3"
  },
  "language_info": {
   "codemirror_mode": {
    "name": "ipython",
    "version": 3
   },
   "file_extension": ".py",
   "mimetype": "text/x-python",
   "name": "python",
   "nbconvert_exporter": "python",
   "pygments_lexer": "ipython3",
   "version": "3.8.12"
  },
  "toc": {
   "base_numbering": 1,
   "nav_menu": {},
   "number_sections": true,
   "sideBar": true,
   "skip_h1_title": false,
   "title_cell": "Table of Contents",
   "title_sidebar": "Contents",
   "toc_cell": false,
   "toc_position": {
    "height": "calc(100% - 180px)",
    "left": "10px",
    "top": "150px",
    "width": "294.4px"
   },
   "toc_section_display": true,
   "toc_window_display": true
  }
 },
 "nbformat": 4,
 "nbformat_minor": 2
}
