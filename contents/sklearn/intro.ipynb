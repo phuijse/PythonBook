{
 "cells": [
  {
   "cell_type": "markdown",
   "metadata": {},
   "source": [
    "# Machine Learning: Conceptos clave"
   ]
  },
  {
   "cell_type": "markdown",
   "metadata": {},
   "source": [
    "## ¿Qué es Machine Learning?"
   ]
  },
  {
   "cell_type": "markdown",
   "metadata": {},
   "source": [
    "Podemos definir *Machine Learning* o Aprendizaje de Máquinas como:\n",
    "\n",
    "> El estudio de **sistemas** que aprenden reglas o patrones en base a **ejemplos** para resolver una tarea\n",
    "\n",
    "En este contexto con \"ejemplos\" nos referimos a:\n",
    "\n",
    "> Datos asociados a la tarea que se quiere resolver\n",
    "\n",
    "Mientras que sistema (o máquina) correspondería a:\n",
    "\n",
    "> Algoritmo o modelo matemático que mejora su desempeño entrenándose con los ejemplos\n",
    "\n",
    "El esquema conceptual general de ML se muestra en la siguiente figura\n",
    "\n",
    "<img src=\"img/intro-ml2.png\" width=\"700\">"
   ]
  },
  {
   "cell_type": "markdown",
   "metadata": {},
   "source": [
    "donde:\n",
    "\n",
    "1. Conceptualización: Se refiere a identificar el problema\n",
    "1. Datos: Se refiere a la recolección, importación, pre-precesamiento y etiquetado de datos\n",
    "1. Modelamiento: Se referiere a la selección, entrenamiento y validación del o los modelos\n",
    "1. Inferencia: Se refiere a utilizar el modelo para tomar decisiones sobre ejemplos nuevos\n",
    "\n",
    "En este último punto yace el objetivo principal de Machine Learning (ML).\n",
    "\n",
    ":::{important}\n",
    "\n",
    "Entrenamos modelos para clasificar/predecir/agrupar ejemplos que el modelo no ha visto aun. Un modelo que realiza inferencias correctas en ejemplos nuevos es un modelo que ha logrado **generalizar lo aprendido**.\n",
    "\n",
    ":::\n",
    "\n",
    "Para que el modelo sea capaz de aprender y generalizar ML combina técnicas de estadísticas y optimización computacional."
   ]
  },
  {
   "cell_type": "markdown",
   "metadata": {},
   "source": [
    "## Taxonomía de algoritmos de Machine Learning\n",
    "\n",
    "Podemos hacer una clasificación gruesa de los algoritmos y modelos de ML en base a las tareas que buscan resolver. \n",
    "\n",
    "La siguiente figura esquematiza las cuatro tareas más típicas que se resuelven usando ML\n",
    "\n",
    "<img src=\"img/intro-ml4.png\" width=\"800\">\n",
    "\n",
    "En la figura podemos distinguir cuatro tipos de tareas agrupadas bajo dos paradigmas: Aprendizaje supervisado y Aprendizaje no supervisado.\n",
    "\n",
    "- Los modelos de aprendizaje no supervisado buscan revelar estructura en los datos sin utilizar **etiquetas**. Por ejemplo estos métodos pueden usarse para encontrar grupos de similitud, jerarquías entre las variables o nuevas representaciones y visualizaciones de los datos. \n",
    "- Los modelos de aprendizaje supervisado buscan aprender una función que prediga un objetivo (categórico, discreto o continuo) en base a los datos. En la jerga de ML este objetivo usualmente se denomina **etiqueta** y debe entregarse al modelo durante su entrenamiento. \n"
   ]
  },
  {
   "cell_type": "markdown",
   "metadata": {},
   "source": [
    "## Librería scikit-learn\n",
    "\n",
    "En este capítulo se utilizan métodos de machine learning implementados en la librería de Python [scikit-learn](https://scikit-learn.org). En particular se revisarán:\n",
    "\n",
    "- Modelos para hacer proyección y reducción de dimensionalidad: [`sklearn.decomposition`](https://scikit-learn.org/stable/modules/classes.html#module-sklearn.decomposition)\n",
    "- Modelos para hacer agrupamiento: [`sklearn.cluster`](https://scikit-learn.org/stable/modules/classes.html#module-sklearn.cluster)\n",
    "- Modelos para clasificación: [`sklearn.naive`](https://scikit-learn.org/stable/modules/classes.html#module-sklearn.naive_bayes) \n",
    "- Funciones para evaluar el desempeño de clasificadores: [`sklearn.metrics`](https://scikit-learn.org/stable/modules/classes.html#module-sklearn.metrics)\n",
    "- Funciones para hacer selección de modelos: [`sklearn.model_selection`](https://scikit-learn.org/stable/modules/classes.html#module-sklearn.model_selection)\n",
    "\n",
    "    \n",
    ":::{seealso}\n",
    "\n",
    "Para un tratamiento más profundo sobre métodos de aprendizaje supervisado sugiero revisar [el siguiente material](https://phuijse.github.io/MachineLearningBook/README.html).\n",
    "\n",
    ":::"
   ]
  },
  {
   "cell_type": "code",
   "execution_count": null,
   "metadata": {},
   "outputs": [],
   "source": []
  }
 ],
 "metadata": {
  "kernelspec": {
   "display_name": "Python 3 (ipykernel)",
   "language": "python",
   "name": "python3"
  },
  "language_info": {
   "codemirror_mode": {
    "name": "ipython",
    "version": 3
   },
   "file_extension": ".py",
   "mimetype": "text/x-python",
   "name": "python",
   "nbconvert_exporter": "python",
   "pygments_lexer": "ipython3",
   "version": "3.9.16"
  },
  "toc": {
   "base_numbering": 1,
   "nav_menu": {},
   "number_sections": true,
   "sideBar": true,
   "skip_h1_title": false,
   "title_cell": "Table of Contents",
   "title_sidebar": "Contents",
   "toc_cell": false,
   "toc_position": {},
   "toc_section_display": true,
   "toc_window_display": true
  }
 },
 "nbformat": 4,
 "nbformat_minor": 4
}
