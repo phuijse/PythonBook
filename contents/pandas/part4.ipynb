{
 "cells": [
  {
   "cell_type": "markdown",
   "id": "latin-asian",
   "metadata": {},
   "source": [
    "# Tópicos extra\n",
    "\n",
    "En este anexo se revisan algunos tópicos específicos relacionados a la librería `pandas` que no fueron cubiertos anteriormente, estos son\n",
    "\n",
    "- Objeto `pandas.Series`\n",
    "- Gráficos a partir de objetos de pandas\n",
    "- Guardar y leer datos en formato HDF5"
   ]
  },
  {
   "cell_type": "code",
   "execution_count": 1,
   "id": "irish-scale",
   "metadata": {},
   "outputs": [],
   "source": [
    "%matplotlib inline\n",
    "import matplotlib.pyplot as plt\n",
    "import pandas as pd"
   ]
  },
  {
   "cell_type": "markdown",
   "id": "legitimate-robinson",
   "metadata": {},
   "source": [
    "## Objeto `pandas.Series`\n",
    "\n",
    "El objeto [`pandas.Series`](https://pandas.pydata.org/pandas-docs/stable/reference/api/pandas.Series.html) es  un arreglo de una dimensión (vector) que **representa una secuencia** \n",
    "\n",
    "- Los elementos de la secuencia se identifican con un índice etiquetado `index`\n",
    "- Todos los elementos son de un mismo tipo `dtype`\n",
    "- La serie se identifica con un nombre `name`\n",
    "\n",
    "A continuación veremos algunas formas de crear `Series`\n",
    "\n",
    "**Construyendo un objeto `Series` a partir de un dataframe**\n",
    "\n",
    "Cuando pedimos **una columna** de un DataFrame el objeto retornado es de tipo `Series`\n",
    "\n",
    "Tecnicamente, **una fila** de un DataFrame también retorna como `Series` sin embargo los tipos se mezclan"
   ]
  },
  {
   "cell_type": "code",
   "execution_count": 2,
   "id": "completed-bride",
   "metadata": {},
   "outputs": [],
   "source": [
    "clientes = ['Pablo', 'Marianna', 'Matthieu', 'Luis', 'Eliana', 'Cristobal']\n",
    "\n",
    "ventas = {\n",
    "    'lechugas [unidades]': [1, 0, 1, 2, 0, 0],\n",
    "    'papas [kilos]': [0.5, 2, 1.5, 1.2, 0, 5]\n",
    "}\n",
    "\n",
    "df = pd.DataFrame(data=ventas, index=clientes)"
   ]
  },
  {
   "cell_type": "code",
   "execution_count": 3,
   "id": "sought-workshop",
   "metadata": {},
   "outputs": [
    {
     "data": {
      "text/plain": [
       "\"La columna de lechugas es un objeto <class 'pandas.core.series.Series'>\""
      ]
     },
     "metadata": {},
     "output_type": "display_data"
    },
    {
     "data": {
      "text/plain": [
       "'cuyo tipo es int64'"
      ]
     },
     "metadata": {},
     "output_type": "display_data"
    },
    {
     "data": {
      "text/plain": [
       "\"La fila Matthieu es un objeto <class 'pandas.core.series.Series'>\""
      ]
     },
     "metadata": {},
     "output_type": "display_data"
    },
    {
     "data": {
      "text/plain": [
       "'cuyo tipo es float64'"
      ]
     },
     "metadata": {},
     "output_type": "display_data"
    }
   ],
   "source": [
    "display(f'La columna de lechugas es un objeto {type(df[\"lechugas [unidades]\"])}',\n",
    "        f'cuyo tipo es {df[\"lechugas [unidades]\"].dtype}',\n",
    "        f'La fila Matthieu es un objeto {type(df.loc[\"Matthieu\"])}',\n",
    "        f'cuyo tipo es {df.loc[\"Matthieu\"].dtype}') "
   ]
  },
  {
   "cell_type": "markdown",
   "id": "pharmaceutical-trouble",
   "metadata": {},
   "source": [
    "**Construyendo un objeto `Series` a partir de otras estructuras de datos**\n",
    "\n",
    "Un objeto `Series` se puede crear de forma más general usando el constructor\n",
    "\n",
    "```python\n",
    "pandas.Series(data=None, \n",
    "              index=None,\n",
    "              dtype=None, \n",
    "              name=None, \n",
    "              copy=False, \n",
    "              fastpath=False)\n",
    "\n",
    "```\n",
    "\n",
    "donde `data` puede ser un  diccionarios, una lista o un ndarray\n",
    "\n",
    "Por ejemplo:"
   ]
  },
  {
   "cell_type": "code",
   "execution_count": 4,
   "id": "taken-cloud",
   "metadata": {},
   "outputs": [
    {
     "data": {
      "text/plain": [
       "dormir          7\n",
       "comer           1\n",
       "quehaceres      1\n",
       "trabajo        10\n",
       "procastinar     5\n",
       "Name: mi planificación de hoy, dtype: int64"
      ]
     },
     "execution_count": 4,
     "metadata": {},
     "output_type": "execute_result"
    }
   ],
   "source": [
    "plan_diario= {'dormir': 7, 'comer': 1, 'quehaceres': 1, 'trabajo': 10, 'procastinar': 5}\n",
    "\n",
    "pd.Series(plan_diario, name='mi planificación de hoy')"
   ]
  },
  {
   "cell_type": "markdown",
   "id": "stopped-shell",
   "metadata": {},
   "source": [
    "Notas:\n",
    "\n",
    "- Una columna o una fila de un `DataFrame` es un `Series`\n",
    "- Varias `Series` se pueden unir para formar un `DataFrame`"
   ]
  },
  {
   "cell_type": "markdown",
   "id": "overall-portugal",
   "metadata": {},
   "source": [
    "## Gráfico a partir de DataFrames\n",
    "\n",
    "Se pueden crear gráficos sencillos directamente de un `DataFrame`\n",
    "\n",
    "Puedes revisar en detalle la API para graficar en este [link](https://pandas.pydata.org/pandas-docs/stable/reference/api/pandas.DataFrame.plot.html)"
   ]
  },
  {
   "cell_type": "code",
   "execution_count": 5,
   "id": "italic-beaver",
   "metadata": {},
   "outputs": [
    {
     "name": "stderr",
     "output_type": "stream",
     "text": [
      "/tmp/ipykernel_23473/1562864067.py:2: UserWarning: To output multiple subplots, the figure containing the passed axes is being cleared.\n",
      "  df.plot(ax=ax, kind='line', subplots=True);\n"
     ]
    },
    {
     "data": {
      "image/png": "[encoded data removed]",
      "text/plain": [
       "<Figure size 432x288 with 2 Axes>"
      ]
     },
     "metadata": {
      "needs_background": "light"
     },
     "output_type": "display_data"
    }
   ],
   "source": [
    "fig, ax = plt.subplots(figsize=(6, 4), tight_layout=True)\n",
    "df.plot(ax=ax, kind='line', subplots=True);"
   ]
  },
  {
   "cell_type": "markdown",
   "id": "internal-valley",
   "metadata": {},
   "source": [
    "La API es útil para hacer gráficos rapidamente. Si necesitamos mayor flexibilidad que la que ofrece la API siempre podemos extraer la data y graficarla con `matplotlib` o `seaborn`"
   ]
  },
  {
   "cell_type": "markdown",
   "id": "disabled-concert",
   "metadata": {},
   "source": [
    "## Guardar y leer una tabla en formato HDF5\n",
    "\n",
    "Podemos usar el atributo `to_hdf` para convertir nuestra tabla a formato HDF5\n",
    "\n",
    "```python\n",
    "df.to_hdf(path_or_buf, # Path completo con nombre de archivo\n",
    "          key: str, # Llave maestra del archivo\n",
    "          mode: str = 'a', # Agrega lineas a un archivo existente (a) o crea una archivo nuevo (w)\n",
    "          ...\n",
    "         )\n",
    "```\n",
    "\n",
    "Por ejemplo\n",
    "\n",
    "```python\n",
    "df.to_hdf(\"pandas_hdf.h5\", key='excel', mode='w')\n",
    "```\n",
    "\n",
    "crea un archivo pandas_hdf.h5 en el directorio actual\n",
    "\n",
    "Para lectura podemos usar la función `read_hdf`\n",
    "\n",
    "```python\n",
    "mi_tabla_recuperada = pd.read_hdf(\"pandas_hdf.h5\", key='/excel', mode='r')\n",
    "```\n",
    "\n",
    "```{note}\n",
    "Para tener esta funcionalidad se requiere instalar Pytables mayor a 3.5: https://github.com/PyTables/PyTables/issues/719\n",
    "```\n",
    "\n",
    "Si necesita trabajar directamente sobre un archivo HDF5 en Python puede usar las librerías `PyTables` o `h5py`. A continuación se muestra un ejemplo con esta última:\n",
    "\n",
    "```python\n",
    "import h5py\n",
    "with h5py.File(\"pandas_hdf.h5\", mode=\"r\") as f:\n",
    "    print(f[\"excel\"].keys())\n",
    "    print(f[\"excel\"]['block0_items'][()])\n",
    "```"
   ]
  },
  {
   "cell_type": "code",
   "execution_count": null,
   "id": "wireless-bahamas",
   "metadata": {},
   "outputs": [],
   "source": []
  }
 ],
 "metadata": {
  "kernelspec": {
   "display_name": "Python 3 (ipykernel)",
   "language": "python",
   "name": "python3"
  },
  "language_info": {
   "codemirror_mode": {
    "name": "ipython",
    "version": 3
   },
   "file_extension": ".py",
   "mimetype": "text/x-python",
   "name": "python",
   "nbconvert_exporter": "python",
   "pygments_lexer": "ipython3",
   "version": "3.8.12"
  }
 },
 "nbformat": 4,
 "nbformat_minor": 5
}
