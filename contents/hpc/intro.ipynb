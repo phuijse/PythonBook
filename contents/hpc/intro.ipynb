{
 "cells": [
  {
   "cell_type": "markdown",
   "metadata": {},
   "source": [
    "# Python y  Rendimiento \n",
    "\n",
    "Python es un lenguaje interpretado de alto nivel que es muy conveniente para prototipar y hacer análisis \n",
    "exploratorio. Sin embargo, esta conveniencia tiene un costo: \n",
    "\n",
    "> Python tiene un menor **rendimiento** a igual **complejidad** en comparación a lenguajes compilados de bajo nivel\n",
    "\n",
    "Podemos ser más específicos y hablar de **eficiencia** de diversas índoles:\n",
    "\n",
    "- Eficiencia temporal: Tiempo para completar una tarea (tiempo en la CPU)\n",
    "- Eficiencia espacial: Utilización de espacio (memoria RAM, disco)\n",
    "\n",
    "Ambos son factores críticos en algunas aplicaciones, por ejemplo aplicaciones con muchos datos o mucho cómputo.\n",
    "\n",
    "Existe entonces una necesidad por **mejorar el rendimiento de nuestro código**. En esta serie de lecciones veremos distintas formas de **optimizar** código escrito en Python."
   ]
  },
  {
   "cell_type": "markdown",
   "metadata": {},
   "source": [
    "## ¿Qué es la optimización de códigos/software?\n",
    "\n",
    "**Optimización** se refiere a modificar una rutina computacional para mejorar su eficiencia, es decir reducir sus tiempos de ejecución y/o consumo de recursos. El aspecto que se intenta modificar es aquel que limita nuestro programa. Un programa puede estar:\n",
    "\n",
    "- limitado en CPU: *compute-bound*\n",
    "- limitado en memoria: *memory-bound*\n",
    "- limitado en ancho de banda: *bandwidth-bound*\n",
    "- limitado en entrada/salida: *I/O bound*\n",
    "\n",
    "En el ámbito de la computación científica lo más común es enfrentar programas que están **límitados en CPU**, es decir:\n",
    "\n",
    "- programas que utilizan la mayor parte de su tiempo haciendo cálculos\n",
    "- programas que mejoran su rendimiento con la velocidad del CPU\n",
    "\n",
    ":::{note}\n",
    "\n",
    "En ciertos casos podemos disminuir el tiempo de ejecución de una rutina incrementando el uso de memoria. Esto podría convertir un programa que es limitado en CPU a uno que es limitado en memoria. \n",
    "\n",
    "::: "
   ]
  },
  {
   "cell_type": "markdown",
   "metadata": {},
   "source": [
    "## Antes de optimizar\n",
    "\n",
    "Considera las siguientes preguntas antes de comenzar el (a veces arduo) proceso de optimizar tus códigos.\n",
    "\n",
    "**¿Cuándo optimizar?**\n",
    "\n",
    "`Si:` \n",
    "\n",
    "    tu rutina está incompleta o no entrega el resultado esperado\n",
    "    \n",
    "`Entonces:`\n",
    "\n",
    "    No es momento de optimizar \n",
    "\n",
    "Para casi cualquier rutina que escribamos, deberíamos considerar la secuencia:\n",
    "\n",
    "1. que (la rutina) corra\n",
    "1. que (la rutina) retorne el resultado correcto\n",
    "1. (opcionalmente) que (la rutina) tenga un buen rendimiento\n",
    "\n",
    ":::{important}\n",
    "\n",
    "La optimización está asociada al último punto y se lleva a cabo luego de cumplir los dos primeros\n",
    "\n",
    ":::\n",
    "\n",
    "En la práctica hay que considerar que optimizar podría:\n",
    "\n",
    "- Hacer el código más complicado y menos legible \n",
    "- Introducir bugs\n",
    "- Tomar tiempo y bastante dedicación\n",
    "\n",
    "Por lo tanto debemos evitar optimizar de forma prematura\n",
    "\n",
    "```{epigraph}\n",
    "La optimización prematura es la raíz de todos los males \n",
    "\n",
    "-- [Donald Knuth](http://wiki.c2.com/?PrematureOptimization)\n",
    "```\n",
    "\n",
    "**¿Por qué optimizar?**\n",
    "\n",
    "En la secuencia mostrada anteriormente, podemos notar que el último punto no es esencial como lo son los dos primeros. Optimizar solo es necesario si nuestro código:\n",
    "\n",
    "-  no entrega el resultado correcto en el tiempo requerido\n",
    "-  requiere más memoria que la disponible en el hardware donde va a correr\n",
    "\n",
    "**¿Dónde optimizar?**\n",
    "\n",
    "Se debe evitar gastar tiempo optimizando rutinas que influyan poco en el rendimiento total del programa. La optimización debería concentrarse en las secciones más lentas y/o costosas: **cuellos de botella**\n",
    "\n",
    "Previo a optimizar debemos hacer un **perfilado** (***profiling***) de nuestro código para encontrar las secciones críticas. Veremos como hacer perfilado con ipython a continuación."
   ]
  },
  {
   "cell_type": "code",
   "execution_count": null,
   "metadata": {},
   "outputs": [],
   "source": []
  }
 ],
 "metadata": {
  "kernelspec": {
   "display_name": "Python 3 (ipykernel)",
   "language": "python",
   "name": "python3"
  },
  "language_info": {
   "codemirror_mode": {
    "name": "ipython",
    "version": 3
   },
   "file_extension": ".py",
   "mimetype": "text/x-python",
   "name": "python",
   "nbconvert_exporter": "python",
   "pygments_lexer": "ipython3",
   "version": "3.9.16"
  },
  "toc": {
   "base_numbering": 1,
   "nav_menu": {},
   "number_sections": true,
   "sideBar": true,
   "skip_h1_title": false,
   "title_cell": "Table of Contents",
   "title_sidebar": "Contents",
   "toc_cell": false,
   "toc_position": {
    "height": "calc(100% - 180px)",
    "left": "10px",
    "top": "150px",
    "width": "294.4px"
   },
   "toc_section_display": true,
   "toc_window_display": true
  }
 },
 "nbformat": 4,
 "nbformat_minor": 2
}
