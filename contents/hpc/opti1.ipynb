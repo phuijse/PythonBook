{
 "cells": [
  {
   "cell_type": "markdown",
   "metadata": {},
   "source": [
    "\n",
    "# Optimizando código Python\n",
    "\n",
    "Como ya hemos mencionado **Python** es un lenguaje versátil pero poco eficiente en comparación a lenguajes de bajo nivel (C o Fortran)\n",
    "\n",
    "Recordemos que **Python** es un lenguaje **interpretado**. Consideremos la operación\n",
    "\n",
    "    z = x + y\n",
    "    \n",
    "Esta operación sencilla requiere de \n",
    "\n",
    "- **inferir el tipo** de $x$ e $y$ antes de sumarlos\n",
    "- **escoger la función \"suma\" apropiada** \n",
    "- **retornar el tipo correcto** de z\n",
    "\n",
    "El costo de las operaciones **destacadas** se llama **overhead**. El *overhead* es el **costo extra** de Python versus los lenguajes compilados\n",
    "\n",
    "Existen varias maneras de reducir *overhead* y mejorar la eficiencia de un código escrito en Python, algunas de ellas son:\n",
    "\n",
    "- **Conocer el lenguaje**: Usar la sintaxis y estructuras de Python adecuadamente \n",
    "- **Vectorización:** Cómputo basado en arreglos con `NumPy` siempre en problemas que lo permitan\n",
    "- **Conectar con lenguajes de bajo nivel:** Utilizar `Cython` para crear interfaces de código C eficiente para Python\n"
   ]
  },
  {
   "cell_type": "code",
   "execution_count": 1,
   "metadata": {
    "ExecuteTime": {
     "end_time": "2020-08-20T14:08:30.718062Z",
     "start_time": "2020-08-20T14:08:27.652890Z"
    }
   },
   "outputs": [],
   "source": [
    "%matplotlib inline\n",
    "import numpy as np\n",
    "import matplotlib.pyplot as plt\n",
    "from functools import partial"
   ]
  },
  {
   "cell_type": "markdown",
   "metadata": {},
   "source": [
    "## Conocer el lenguaje para ganar eficiencia\n",
    "\n",
    "**Python** tiene una curva de aprendizaje suave en comparación a lenguajes de más bajo nivel, es decir que sabiendo muy poco de **Python** ya somos capaces de escribir toda clase de rutinas\n",
    "\n",
    "Esto tiene un efecto secundario negativo en algunas personas y especialmente en aquellos que ya saben otros lenguajes \n",
    "\n",
    ":::{error}\n",
    "\n",
    "Usar Python como si fuera C (u otro lenguaje)\n",
    "\n",
    ":::\n",
    "\n",
    "Python ofrece una gran cantidad de [funciones](https://docs.python.org/3/library/functions.html) y [módulos en su librería estándar](https://docs.python.org/3/library/index.html) que son sumamente eficientes\n",
    "\n",
    ":::{hint}\n",
    "\n",
    "Usar la sintáxis y las [estructuras de datos](https://docs.python.org/3/tutorial/datastructures.html) de Python adecuadamente es el primer paso para escribir código eficiente. Busque en la documentación de Python las estructuras de datos más apropiadas para cada problema\n",
    "\n",
    ":::\n",
    "\n",
    "Si necesita repasar sobre algoritmos se recomienda el siguiente material\n",
    "\n",
    "- Bibliografía complementaria del curso: [Effective Python](https://effectivepython.com/)\n",
    "- [Tratado de algoritmos y estructuras de datos en Python](https://runestone.academy/runestone/books/published/pythonds/index.html)\n",
    "- [Consejos de velocidad en la Python wiki](https://wiki.python.org/moin/PythonSpeed)\n",
    "- [Complejidad temporal de distintas estructuras de Python](https://wiki.python.org/moin/TimeComplexity)\n",
    "\n",
    "A continuación veremos algunos consejos generales enfocados a Python"
   ]
  },
  {
   "cell_type": "markdown",
   "metadata": {},
   "source": [
    "###  Evita usar `for` siempre que se pueda en favor de las funciones nativas\n",
    "\n",
    "Muchas veces podemos evitar usar `for` con la estructura de datos o función adecuada\n",
    "\n",
    "Para ejemplificar digamos que queremos sumar los valores absolutos de los elementos de una lista"
   ]
  },
  {
   "cell_type": "code",
   "execution_count": 2,
   "metadata": {
    "ExecuteTime": {
     "end_time": "2020-08-19T02:20:47.807885Z",
     "start_time": "2020-08-19T02:20:47.168600Z"
    }
   },
   "outputs": [
    {
     "name": "stdout",
     "output_type": "stream",
     "text": [
      "15.8 ms ± 214 µs per loop (mean ± std. dev. of 5 runs, 3 loops each)\n"
     ]
    },
    {
     "data": {
      "text/plain": [
       "4999950000"
      ]
     },
     "execution_count": 2,
     "metadata": {},
     "output_type": "execute_result"
    }
   ],
   "source": [
    "x = [x for x in range(100000)]\n",
    "\n",
    "# Suma estilo C \n",
    "def suma_abs(data):\n",
    "    resultado = 0\n",
    "    for i in range(len(data)):\n",
    "        if data[i] > 0:\n",
    "            resultado += data[i]\n",
    "        else:\n",
    "            resultado -= data[i]\n",
    "    return resultado\n",
    "\n",
    "%timeit -r5 -n3 suma_abs(x)\n",
    "suma_abs(x)"
   ]
  },
  {
   "cell_type": "code",
   "execution_count": 3,
   "metadata": {},
   "outputs": [
    {
     "name": "stdout",
     "output_type": "stream",
     "text": [
      "9.72 ms ± 661 µs per loop (mean ± std. dev. of 5 runs, 3 loops each)\n"
     ]
    },
    {
     "data": {
      "text/plain": [
       "4999950000"
      ]
     },
     "execution_count": 3,
     "metadata": {},
     "output_type": "execute_result"
    }
   ],
   "source": [
    "# Mejora 1: No es necesario usar un índice, podemos iterar directamente en los elementos\n",
    "def suma_abs(data):\n",
    "    resultado = 0\n",
    "    for element in data:\n",
    "        if element > 0:\n",
    "            resultado += element\n",
    "        else:\n",
    "            resultado -= element\n",
    "    return resultado\n",
    "\n",
    "%timeit -r5 -n3 suma_abs(x)\n",
    "suma_abs(x)"
   ]
  },
  {
   "cell_type": "code",
   "execution_count": 4,
   "metadata": {},
   "outputs": [
    {
     "name": "stdout",
     "output_type": "stream",
     "text": [
      "6.44 ms ± 857 µs per loop (mean ± std. dev. of 5 runs, 3 loops each)\n"
     ]
    },
    {
     "data": {
      "text/plain": [
       "4999950000"
      ]
     },
     "execution_count": 4,
     "metadata": {},
     "output_type": "execute_result"
    }
   ],
   "source": [
    "# Mejora 2: Operar como una comprensión de lista y luego usar la función sum de Python\n",
    "%timeit -r5 -n3 sum([x if x> 0 else -x for x in x])\n",
    "sum([x if x> 0 else -x for x in x])"
   ]
  },
  {
   "cell_type": "code",
   "execution_count": 5,
   "metadata": {},
   "outputs": [
    {
     "name": "stdout",
     "output_type": "stream",
     "text": [
      "3.39 ms ± 122 µs per loop (mean ± std. dev. of 5 runs, 3 loops each)\n"
     ]
    },
    {
     "data": {
      "text/plain": [
       "4999950000"
      ]
     },
     "execution_count": 5,
     "metadata": {},
     "output_type": "execute_result"
    }
   ],
   "source": [
    "# Mejora 3: Usar las funciones sum, map y abs de Python\n",
    "%timeit -r5 -n3 sum(list(map(abs, x)))\n",
    "sum(list(map(abs, x)))"
   ]
  },
  {
   "cell_type": "markdown",
   "metadata": {},
   "source": [
    "### No reinventes la rueda con las estructuras de datos\n",
    "\n",
    "Verifica si la estructura que necesitas está implementada en Python antes de programarla tu\n",
    "\n",
    "Como ejemplo digamos que queremos contar la cantidad de elementos de cada tipo en una lista. Podríamos escribir un contador como"
   ]
  },
  {
   "cell_type": "code",
   "execution_count": 6,
   "metadata": {
    "ExecuteTime": {
     "end_time": "2020-08-19T02:20:47.936604Z",
     "start_time": "2020-08-19T02:20:47.812910Z"
    }
   },
   "outputs": [
    {
     "name": "stdout",
     "output_type": "stream",
     "text": [
      "3.28 ms ± 169 µs per loop (mean ± std. dev. of 7 runs, 1 loop each)\n"
     ]
    },
    {
     "data": {
      "text/plain": [
       "{8: 1031,\n",
       " 4: 980,\n",
       " 9: 978,\n",
       " 1: 985,\n",
       " 2: 1011,\n",
       " 3: 1009,\n",
       " 6: 972,\n",
       " 7: 1030,\n",
       " 5: 987,\n",
       " 0: 1017}"
      ]
     },
     "execution_count": 6,
     "metadata": {},
     "output_type": "execute_result"
    }
   ],
   "source": [
    "x2 = list(np.random.randint(10, size=10000))\n",
    "\n",
    "# Un contador de elementos\n",
    "def miCounter(data):\n",
    "    count = {}\n",
    "    for element in data:\n",
    "        if element not in count:\n",
    "            count[element] = 1\n",
    "        else:\n",
    "            count[element] +=1\n",
    "    return count\n",
    "\n",
    "%timeit -r7 -n1 miCounter(x2)\n",
    "miCounter(x2)"
   ]
  },
  {
   "cell_type": "markdown",
   "metadata": {},
   "source": [
    "Sin embargo, la clase contador ya existe en `collections`, y es mucho más eficiente que la implementación \"a mano\""
   ]
  },
  {
   "cell_type": "code",
   "execution_count": 7,
   "metadata": {},
   "outputs": [
    {
     "name": "stdout",
     "output_type": "stream",
     "text": [
      "1.82 ms ± 210 µs per loop (mean ± std. dev. of 7 runs, 1 loop each)\n"
     ]
    },
    {
     "data": {
      "text/plain": [
       "Counter({8: 1031,\n",
       "         4: 980,\n",
       "         9: 978,\n",
       "         1: 985,\n",
       "         2: 1011,\n",
       "         3: 1009,\n",
       "         6: 972,\n",
       "         7: 1030,\n",
       "         5: 987,\n",
       "         0: 1017})"
      ]
     },
     "execution_count": 7,
     "metadata": {},
     "output_type": "execute_result"
    }
   ],
   "source": [
    "from collections import Counter\n",
    "%timeit -r7 -n1 Counter(x2)\n",
    "Counter(x2)"
   ]
  },
  {
   "cell_type": "markdown",
   "metadata": {},
   "source": [
    "### Ten atención con el overhead en funciones\n",
    "\n",
    "Python tiene un overhead considerable cada vez que se llama una función\n",
    "\n",
    "Se puede ganar desempeño haciendo *inlining* de funciones"
   ]
  },
  {
   "cell_type": "code",
   "execution_count": 8,
   "metadata": {
    "ExecuteTime": {
     "end_time": "2020-08-19T02:20:48.717190Z",
     "start_time": "2020-08-19T02:20:47.938838Z"
    }
   },
   "outputs": [
    {
     "name": "stdout",
     "output_type": "stream",
     "text": [
      "23.4 ms ± 1.14 ms per loop (mean ± std. dev. of 7 runs, 3 loops each)\n",
      "15.6 ms ± 440 µs per loop (mean ± std. dev. of 7 runs, 3 loops each)\n"
     ]
    },
    {
     "data": {
      "text/plain": [
       "True"
      ]
     },
     "execution_count": 8,
     "metadata": {},
     "output_type": "execute_result"
    }
   ],
   "source": [
    "def cuadradomasuno(element):\n",
    "    return element*element + 1\n",
    "\n",
    "%timeit -r7 -n3 [cuadradomasuno(xi) for xi in x]\n",
    "#Inlining: escribo la función textualmente en lugar de evaluarla\n",
    "%timeit -r7 -n3 [xi*xi + 1 for xi in x] \n",
    "np.allclose([cuadradomasuno(xi) for xi in x], [xi*xi + 1 for xi in x] )"
   ]
  },
  {
   "cell_type": "markdown",
   "metadata": {},
   "source": [
    "### Usa variables locales dentro de los *loops*\n",
    "\n",
    "Si estamos obligados a usar `for` podemos ganar algo de rendimiento haciendo copias locales de atributos y funciones\n",
    "\n",
    "Por ejemplo, digamos que queremos crear una lista con todos los elementos de otra lista que cumplen la condición\n",
    "\n",
    "$$\n",
    "\\sin(x[i]) > 0 \n",
    "$$\n"
   ]
  },
  {
   "cell_type": "code",
   "execution_count": 9,
   "metadata": {
    "ExecuteTime": {
     "end_time": "2020-08-19T02:20:49.385219Z",
     "start_time": "2020-08-19T02:20:48.719642Z"
    }
   },
   "outputs": [
    {
     "name": "stdout",
     "output_type": "stream",
     "text": [
      "26.4 ms ± 1.73 ms per loop (mean ± std. dev. of 5 runs, 3 loops each)\n"
     ]
    }
   ],
   "source": [
    "import math\n",
    "\n",
    "# iterando sobre la lista\n",
    "def sin_pos(data):\n",
    "    resultado = []\n",
    "    for element in data:\n",
    "        if math.sin(element) > 0:\n",
    "            resultado.append(element)\n",
    "    return resultado\n",
    "\n",
    "%timeit -r5 -n3 sin_pos(x)\n",
    "resultado1 = sin_pos(x)"
   ]
  },
  {
   "cell_type": "markdown",
   "metadata": {},
   "source": [
    "Así se vería el código si hacemos variables locales para el método `append` y la función `sin`"
   ]
  },
  {
   "cell_type": "code",
   "execution_count": 10,
   "metadata": {},
   "outputs": [
    {
     "name": "stdout",
     "output_type": "stream",
     "text": [
      "15.6 ms ± 540 µs per loop (mean ± std. dev. of 5 runs, 3 loops each)\n"
     ]
    },
    {
     "data": {
      "text/plain": [
       "True"
      ]
     },
     "metadata": {},
     "output_type": "display_data"
    }
   ],
   "source": [
    "# Mejora: variables locales\n",
    "def sin_pos(data):\n",
    "    resultado = []\n",
    "    append = resultado.append\n",
    "    sin = math.sin\n",
    "    for element in data:\n",
    "        if sin(element) > 0:\n",
    "            append(element)\n",
    "    return resultado\n",
    "\n",
    "%timeit -r5 -n3 sin_pos(x)\n",
    "resultado2 = sin_pos(x)\n",
    "display(np.allclose(resultado1, resultado2))"
   ]
  },
  {
   "cell_type": "markdown",
   "metadata": {},
   "source": [
    "## Vectorización: Cómputo basado en arreglos con NumPy\n",
    "\n",
    "Consideremos el escenario en que tenemos un arreglo de datos de gran tamaño y queremos hacer una operación sobre cada elemento\n",
    "\n",
    "**Ejemplo:** Dado $\\{x\\}_i$ queremos encontrar\n",
    "\n",
    "$$\n",
    "y_i = \\frac{1}{1 + e^{-x_i}}, \\quad i = 1,2,\\ldots, N\n",
    "$$\n",
    "\n",
    "Los cómputos de este tipo se catalogan como *SIMD*: Single Instruction Multiple Data, es decir que estamos haciendo una misma operación para todos los datos\n",
    "\n",
    "Este problema se puede resolver usando un ciclo `for` \n",
    "\n",
    "```python    \n",
    "    y = []\n",
    "    for xi in x:\n",
    "        y.append(1/(1+math.exp(-xi))\n",
    "```\n",
    "\n",
    "Sin embargo, ya sabemos que esto es ineficiente en \"Python puro\"\n",
    "\n",
    "No olvidemos que las librerías de cómputo científico vistas en este curso nos ofrecen una mejor alternativa. En particular, **NumPy** nos provee de una estructura de arreglo multidimensional (ndarray) y funciones para operarla que están escritas en C y Fortran. Otras librerías como **Scipy** y **Pandas** se basan en **NumPy**\n",
    "\n",
    "> Cuando utilizamos estas librerías estamos usando código compilado en lugar de interpretado \n",
    "\n",
    "Usando **NumPy** podemos reemplazar un ciclo `for` en problemas *SIMD* por operaciones que trabajan sobre todo el arreglo, estas sa llaman **operaciones vectoriales**\n",
    "\n",
    "Por ejemplo el código que vimos anteriormente quedaría como (asumiendo que x es una lista)\n",
    "\n",
    "```python\n",
    "    x = np.array(x)\n",
    "    y = 1/(1+np.exp(-x))\n",
    "```\n",
    "    \n",
    "NumPy aplica la función exponencial a todo el arreglo x, luego aplica la aritmética (suma y división) a cada elemento del arreglo (broadcasting) y finalmente retorna un nuevo arreglo con el resultado. En general siempre que exista una operación de tipo *SIMD* podemos mejorar su rendimiento usando \n",
    "\n",
    "> **Vectorización:** Reemplazar un bucle/ciclo por operaciones vectoriales de **NumPy**\n",
    "\n",
    "A continuación revisaremos mediante ejemplos como implementar este y otros conceptos para mejorar el rendimiento"
   ]
  },
  {
   "cell_type": "markdown",
   "metadata": {},
   "source": [
    "### Reemplazar ciclo `for` por operaciones vectoriales\n",
    "\n",
    "Las operaciones vectoriales son **funciones de NumPy** de tipo *element-wise* aplicadas sobre un ndarray\n",
    "\n",
    "Las funciones *element-wise* son aquellas que actuan sobre todos los elementos del arreglo de forma independiente\n",
    "\n",
    "- En la clase de NumPy revisamos algunos ejemplos: exponenciación, raíces, trigonometrícas, etc\n",
    "- Las operaciones aritméticas entre ndarrays son por defecto *element-wise*\n",
    "\n",
    "Luego si tenemos un problema [SIMD](https://en.wikipedia.org/wiki/Single_instruction,_multiple_data) escrito con un `for` sobre un conjunto de datos podemos \n",
    "\n",
    "1. Convertir los datos a ndarray\n",
    "1. Escribir la operación con funciones de NumPy *element-wise*\n",
    "\n",
    "y ganar considerablemente en eficiencia de forma directa. Tenga presente que cuando las operaciones de NumPy se ejecutan sobre un ndarray se está usando código compilado"
   ]
  },
  {
   "cell_type": "markdown",
   "metadata": {},
   "source": [
    "Por ejemplo notemos la diferencia en tiempo de cómputo al hacer aritmética simple"
   ]
  },
  {
   "cell_type": "code",
   "execution_count": 11,
   "metadata": {
    "ExecuteTime": {
     "end_time": "2020-08-19T02:20:50.131710Z",
     "start_time": "2020-08-19T02:20:49.387815Z"
    }
   },
   "outputs": [
    {
     "name": "stdout",
     "output_type": "stream",
     "text": [
      "23.6 ms ± 1.92 ms per loop (mean ± std. dev. of 7 runs, 3 loops each)\n",
      "197 µs ± 43.4 µs per loop (mean ± std. dev. of 7 runs, 3 loops each)\n"
     ]
    },
    {
     "data": {
      "text/plain": [
       "True"
      ]
     },
     "execution_count": 11,
     "metadata": {},
     "output_type": "execute_result"
    }
   ],
   "source": [
    "x_ndarray = np.random.randn(100000)\n",
    "x_list = list(x_ndarray)\n",
    "\n",
    "def operacion_simple(data):\n",
    "    resultado = []\n",
    "    append = resultado.append\n",
    "    for elemento in data:\n",
    "        append(elemento*elemento + elemento)\n",
    "    return resultado\n",
    "\n",
    "# Operación usando \"for con mejoras\"\n",
    "%timeit -n3 -r7 operacion_simple(x_list)\n",
    "# Operación usando numpy sobre un ndarray\n",
    "%timeit -n3 -r7 x_ndarray*x_ndarray + x_ndarray\n",
    "# Comparación entre los resultados\n",
    "np.allclose(operacion_simple(x_list), x_ndarray*x_ndarray + x_ndarray)"
   ]
  },
  {
   "cell_type": "markdown",
   "metadata": {},
   "source": [
    ":::{note}\n",
    "\n",
    "Las funciones de NumPy son lentas cuando operan sobre tipos que no son ndarray\n",
    "\n",
    ":::\n",
    "\n",
    "Para el ejemplo de $y_i = (1 + e^{-x_i})^{-1}, \\quad i = 1,2,\\ldots, N$"
   ]
  },
  {
   "cell_type": "code",
   "execution_count": 12,
   "metadata": {
    "ExecuteTime": {
     "end_time": "2020-08-19T02:20:50.770427Z",
     "start_time": "2020-08-19T02:20:50.133953Z"
    }
   },
   "outputs": [
    {
     "name": "stdout",
     "output_type": "stream",
     "text": [
      "18.2 ms ± 1.38 ms per loop (mean ± std. dev. of 7 runs, 3 loops each)\n",
      "7.3 ms ± 66 µs per loop (mean ± std. dev. of 7 runs, 3 loops each)\n",
      "560 µs ± 37.6 µs per loop (mean ± std. dev. of 7 runs, 3 loops each)\n"
     ]
    },
    {
     "data": {
      "text/plain": [
       "True"
      ]
     },
     "execution_count": 12,
     "metadata": {},
     "output_type": "execute_result"
    }
   ],
   "source": [
    "from math import exp\n",
    "# usando list comprehension (similar a un \"for mejorado\")\n",
    "%timeit -n3 -r7 [1./(1.+exp(xi)) for xi in x_list]\n",
    "# usando numpy sobre una lista\n",
    "%timeit -n3 -r7 1./(1+np.exp(x_list))\n",
    "# usando numpy sobre un ndarray\n",
    "%timeit -n3 -r7 1./(1+np.exp(x_ndarray))\n",
    "# Comparación entre los resultados\n",
    "np.allclose(1./(1+np.exp(x_ndarray)), [1./(1.+exp(xi)) for xi in x_list])"
   ]
  },
  {
   "cell_type": "markdown",
   "metadata": {},
   "source": [
    "Las operación sobre ndarray es casi un orden de magnitud más rápida\n",
    "\n",
    "**¿Cómo se explica esto?**\n",
    "\n",
    "Recuerde que una lista puede tener distintos tipos y estar guardada en distintos sectores de memoria. En cambio, el ndarray\n",
    "\n",
    "- Tiene un tipo definido \n",
    "- Está guardado en bloques de memoria contiguos\n",
    "\n",
    "Por ende el ndarray tiene un overhead de interpretador mucho menor\n",
    "\n",
    "Además NumPy está escrito en C/Fortran, hacer un loop en memoría contigua en C es muy eficiente\n",
    "\n",
    ":::{note}\n",
    "\n",
    "NumPy puede compilarse con librerías de alto desempeño (openblas, MKL) aprovechando mejor las capacidades del hardware (Cache de CPU e instrucciones vectoriales de CPU)\n",
    "\n",
    ":::\n"
   ]
  },
  {
   "cell_type": "markdown",
   "metadata": {},
   "source": [
    "### Convertir operaciones lógicas sobre arreglos en máscaras\n",
    "\n",
    "Las operaciones lógicas en NumPy también son *element-wise* (Operaciones booleanas, clase NumPy, unidad 1)\n",
    "\n",
    "Si queremos recuperar los elementos de un arreglo que cumplan una cierta condición podemos\n",
    "\n",
    "1. Convertir los datos a ndarray\n",
    "1. Escribir la operación como una máscara booleana de índices\n",
    "\n",
    "Para el ejemplo anterior de recuperamos los elementos tal que $\\sin(x_i)>0$"
   ]
  },
  {
   "cell_type": "code",
   "execution_count": 13,
   "metadata": {
    "ExecuteTime": {
     "end_time": "2020-08-19T02:20:51.083640Z",
     "start_time": "2020-08-19T02:20:50.773167Z"
    }
   },
   "outputs": [
    {
     "name": "stdout",
     "output_type": "stream",
     "text": [
      "15.4 ms ± 1.09 ms per loop (mean ± std. dev. of 5 runs, 3 loops each)\n",
      "3.79 ms ± 30.9 µs per loop (mean ± std. dev. of 5 runs, 3 loops each)\n"
     ]
    },
    {
     "data": {
      "text/plain": [
       "True"
      ]
     },
     "metadata": {},
     "output_type": "display_data"
    }
   ],
   "source": [
    "import math\n",
    "\n",
    "def sin_pos(data):\n",
    "    resultado = []\n",
    "    append = resultado.append\n",
    "    sin = math.sin\n",
    "    for element in data:\n",
    "        if sin(element) > 0:\n",
    "            append(element)\n",
    "    return resultado\n",
    "\n",
    "%timeit -r5 -n3 sin_pos(x_list)\n",
    "\n",
    "%timeit -r5 -n3 x_ndarray[np.sin(x_ndarray) > 0.]\n",
    "\n",
    "display(np.allclose(sin_pos(x_list), x_ndarray[np.sin(x_ndarray) > 0]))"
   ]
  },
  {
   "cell_type": "markdown",
   "metadata": {},
   "source": [
    "### Usa operaciónes *in-place* y vistas de arreglos para evitar copia extra de datos\n",
    "\n",
    "Cuando en NumPy hacemos\n",
    "\n",
    "```python\n",
    "    x = x*x\n",
    "```\n",
    "\n",
    "1. Se crea una copia interna de x*x\n",
    "1. x es direccionado a esa nueva copia\n",
    "1. La zona de memoria con el valor original es luego eliminada por el *garbage-collector* de Python\n",
    "\n",
    "Siempre que no necesitemos el valor original podemos usar operaciones *in-place* y ganar rendimiento, ya que evitamos la copia y eliminación adicional"
   ]
  },
  {
   "cell_type": "code",
   "execution_count": 14,
   "metadata": {
    "ExecuteTime": {
     "end_time": "2020-08-19T02:20:51.699699Z",
     "start_time": "2020-08-19T02:20:51.085550Z"
    }
   },
   "outputs": [
    {
     "name": "stdout",
     "output_type": "stream",
     "text": [
      "3.54 ms ± 44.2 µs per loop (mean ± std. dev. of 10 runs, 10 loops each)\n",
      "2.69 ms ± 79.3 µs per loop (mean ± std. dev. of 10 runs, 10 loops each)\n"
     ]
    },
    {
     "data": {
      "text/plain": [
       "True"
      ]
     },
     "execution_count": 14,
     "metadata": {},
     "output_type": "execute_result"
    }
   ],
   "source": [
    "# Copia interna y cambio de referencia de x_ndarray \n",
    "%timeit -r10 -n10 x_ndarray = np.zeros(shape=(1000000)); y = x_ndarray*x_ndarray\n",
    "# Sin copia interna\n",
    "%timeit -r10 -n10 x_ndarray = np.zeros(shape=(1000000)); x_ndarray *= x_ndarray\n",
    "# El resultado es idéntico\n",
    "x_ndarray = np.zeros(shape=(1000000))\n",
    "y = x_ndarray*x_ndarray\n",
    "x_ndarray *= x_ndarray\n",
    "np.allclose(x_ndarray, y)"
   ]
  },
  {
   "cell_type": "markdown",
   "metadata": {},
   "source": [
    "Sea $x$ un ndarray, la operación\n",
    "\n",
    "```python\n",
    "    x[2:10] \n",
    "```\n",
    "\n",
    "es una \"vista de x\". \n",
    "\n",
    ":::{hint}\n",
    "\n",
    "Recordar que las \"vista de arreglo\" no hacen copias en memoria ya que apuntan directamente al arreglo original. Es decir que si modificamos una vista modificamos el original\n",
    "\n",
    ":::"
   ]
  },
  {
   "cell_type": "markdown",
   "metadata": {},
   "source": [
    "### Aprovecha el *broadcasting* automático de NumPy\n",
    "\n",
    "Se pueden hacer operaciones vectorizadas con NumPy entre arreglos con tamaños distintos. En ese caso se aplican las reglas de *broadcasting* que vimos en la clase de NumPy\n",
    "\n",
    ":::{note}\n",
    "\n",
    "El *broadcasting* automático no hace copias en memoria\n",
    "\n",
    ":::\n",
    "\n",
    "**Ejemplo 1:** Si le sumas una constante a un arreglo 1D, la constante se expande y se suma a cada elemento"
   ]
  },
  {
   "cell_type": "code",
   "execution_count": 15,
   "metadata": {
    "ExecuteTime": {
     "end_time": "2020-08-19T02:20:52.810029Z",
     "start_time": "2020-08-19T02:20:51.702112Z"
    }
   },
   "outputs": [
    {
     "name": "stdout",
     "output_type": "stream",
     "text": [
      "638 µs ± 220 µs per loop (mean ± std. dev. of 10 runs, 10 loops each)\n",
      "10.4 ms ± 375 µs per loop (mean ± std. dev. of 10 runs, 10 loops each)\n"
     ]
    },
    {
     "data": {
      "text/plain": [
       "True"
      ]
     },
     "execution_count": 15,
     "metadata": {},
     "output_type": "execute_result"
    }
   ],
   "source": [
    "N = 1000000\n",
    "x = np.zeros(shape=(N, ))\n",
    "# broadcasting automático\n",
    "%timeit -n10 -r10 x + 1.\n",
    "# Agrandando y luego sumando\n",
    "%timeit -n10 -r10 x + np.tile([1], len(x))\n",
    "# mismo resultado\n",
    "np.allclose(x + 1, x + np.tile([1], len(x)))"
   ]
  },
  {
   "cell_type": "markdown",
   "metadata": {},
   "source": [
    "**Ejemplo 2:** Si le sumas un arreglo 1D a un arreglo 2D, el arreglo 1D se expande en la dimensión que le falta"
   ]
  },
  {
   "cell_type": "code",
   "execution_count": 16,
   "metadata": {
    "ExecuteTime": {
     "end_time": "2020-08-19T02:21:02.293965Z",
     "start_time": "2020-08-19T02:20:52.812659Z"
    }
   },
   "outputs": [
    {
     "name": "stdout",
     "output_type": "stream",
     "text": [
      "30.3 ms ± 959 µs per loop (mean ± std. dev. of 10 runs, 10 loops each)\n"
     ]
    },
    {
     "data": {
      "text/plain": [
       "(10000, 1000)"
      ]
     },
     "metadata": {},
     "output_type": "display_data"
    },
    {
     "name": "stdout",
     "output_type": "stream",
     "text": [
      "86.5 ms ± 1.87 ms per loop (mean ± std. dev. of 10 runs, 10 loops each)\n"
     ]
    },
    {
     "data": {
      "text/plain": [
       "True"
      ]
     },
     "execution_count": 16,
     "metadata": {},
     "output_type": "execute_result"
    }
   ],
   "source": [
    "N, M = 10000, 1000\n",
    "x = np.zeros(shape=(N, M)) # arreglo de NxM\n",
    "y = np.zeros(shape=(N, )) # arreglo sin dimensión\n",
    "y_ = y[:, np.newaxis] # arreglo de Nx1\n",
    "# broadcasting automático\n",
    "%timeit -n10 -r10 x + y_\n",
    "display((x + y_).shape)\n",
    "# Agrandando y luego sumando\n",
    "%timeit -n10 -r10 x + np.tile(y_, (1, x.shape[-1]))\n",
    "# mismo resultado\n",
    "np.allclose(x + y_, x + np.tile(y_, (1, x.shape[-1])))"
   ]
  },
  {
   "cell_type": "markdown",
   "metadata": {},
   "source": [
    "**Ejemplo 3:** Si sumas un arreglo 1D fila y un arreglo 1D columna se crea un arreglo 2D"
   ]
  },
  {
   "cell_type": "code",
   "execution_count": 17,
   "metadata": {
    "ExecuteTime": {
     "end_time": "2020-08-19T02:21:15.025080Z",
     "start_time": "2020-08-19T02:21:02.295774Z"
    }
   },
   "outputs": [
    {
     "name": "stdout",
     "output_type": "stream",
     "text": [
      "35.2 ms ± 859 µs per loop (mean ± std. dev. of 10 runs, 10 loops each)\n"
     ]
    },
    {
     "data": {
      "text/plain": [
       "(10000, 1000)"
      ]
     },
     "metadata": {},
     "output_type": "display_data"
    },
    {
     "name": "stdout",
     "output_type": "stream",
     "text": [
      "114 ms ± 1.76 ms per loop (mean ± std. dev. of 10 runs, 10 loops each)\n"
     ]
    },
    {
     "data": {
      "text/plain": [
       "True"
      ]
     },
     "execution_count": 17,
     "metadata": {},
     "output_type": "execute_result"
    }
   ],
   "source": [
    "N, M = 10000, 1000\n",
    "x = np.zeros(shape=(N, 1)) # arreglo columna de Nx1\n",
    "y = np.zeros(shape=(1, M)) # arreglo fila de 1xM\n",
    "# broadcasting automático\n",
    "%timeit -n10 -r10 x + y\n",
    "display((x+y).shape)\n",
    "# Agrandando y luego sumando\n",
    "%timeit -n10 -r10 np.tile(y, (x.shape[0], 1)) + np.tile(x, (1, y.shape[-1]))\n",
    "np.allclose(x + y, np.tile(y, (x.shape[0], 1)) + np.tile(x, (1, y.shape[-1])))"
   ]
  },
  {
   "cell_type": "markdown",
   "metadata": {},
   "source": [
    ":::{note}\n",
    "\n",
    "Las dimensiones de dos arreglos son compatibles con *broadcast* automático si **son del mismo tamaño** o **una de ellas es igual a uno**\n",
    "\n",
    ":::"
   ]
  },
  {
   "cell_type": "markdown",
   "metadata": {},
   "source": [
    "### Utiliza el ordenamiento en memoría más adecuado en cada caso\n",
    "\n",
    "Los ndarray multidimensionales pueden guardarse en memoria como *row-major* (filas contiguas) o *column-major* (columnas contiguas)\n",
    "\n",
    "Por defecto las matrices en NumPy son *row-major* pero podemos forzar la contigüidad usando el atributo `order` o trasponiendo (ojo que trasponer crea una copia)\n",
    "\n",
    "Se puede verificar esto con el atributo `flag` de los ndarray"
   ]
  },
  {
   "cell_type": "code",
   "execution_count": 18,
   "metadata": {
    "ExecuteTime": {
     "end_time": "2020-08-19T02:21:15.051641Z",
     "start_time": "2020-08-19T02:21:15.027132Z"
    }
   },
   "outputs": [
    {
     "data": {
      "text/plain": [
       "array([[0, 1, 2],\n",
       "       [3, 4, 5]])"
      ]
     },
     "metadata": {},
     "output_type": "display_data"
    },
    {
     "data": {
      "text/plain": [
       "  C_CONTIGUOUS : True\n",
       "  F_CONTIGUOUS : False\n",
       "  OWNDATA : False\n",
       "  WRITEABLE : True\n",
       "  ALIGNED : True\n",
       "  WRITEBACKIFCOPY : False\n",
       "  UPDATEIFCOPY : False"
      ]
     },
     "metadata": {},
     "output_type": "display_data"
    },
    {
     "data": {
      "text/plain": [
       "array([0, 1, 2, 3, 4, 5])"
      ]
     },
     "metadata": {},
     "output_type": "display_data"
    },
    {
     "data": {
      "text/plain": [
       "  C_CONTIGUOUS : False\n",
       "  F_CONTIGUOUS : True\n",
       "  OWNDATA : False\n",
       "  WRITEABLE : True\n",
       "  ALIGNED : True\n",
       "  WRITEBACKIFCOPY : False\n",
       "  UPDATEIFCOPY : False"
      ]
     },
     "metadata": {},
     "output_type": "display_data"
    },
    {
     "data": {
      "text/plain": [
       "array([0, 3, 1, 4, 2, 5])"
      ]
     },
     "metadata": {},
     "output_type": "display_data"
    }
   ],
   "source": [
    "data = np.arange(6).reshape(2, 3)\n",
    "display(data)\n",
    "# Verificamos los flags\n",
    "display(data.flags)\n",
    "# Así se ve row-major en memoria \n",
    "display(data.ravel())\n",
    "# Verificamos los flags\n",
    "dataT = data.T\n",
    "display(dataT.flags)\n",
    "# Así se ve column-major en memoria\n",
    "display(dataT.ravel())"
   ]
  },
  {
   "cell_type": "markdown",
   "metadata": {},
   "source": [
    "La mayoría de las funciones de NumPy funcionan más rápido en formato *row-major* (formato C). Pero algunas funciones de scipy (heredadas de Fortran) funcionan más rápido en formato *col-major* (formato Fortran)\n",
    "\n",
    "Es recomendable verificar el orden en memoria que espera la función que vas a utilizar"
   ]
  },
  {
   "cell_type": "code",
   "execution_count": 19,
   "metadata": {
    "ExecuteTime": {
     "end_time": "2020-08-19T02:21:36.434997Z",
     "start_time": "2020-08-19T02:21:15.054192Z"
    }
   },
   "outputs": [
    {
     "name": "stdout",
     "output_type": "stream",
     "text": [
      "12.9 µs ± 405 ns per loop (mean ± std. dev. of 10 runs, 100 loops each)\n",
      "73.5 ms ± 959 µs per loop (mean ± std. dev. of 10 runs, 10 loops each)\n"
     ]
    }
   ],
   "source": [
    "data = np.random.randn(10000, 10000) # (row-major)\n",
    "# Sumando una fila\n",
    "%timeit -n100 -r10 np.sum(data[0, :])\n",
    "# Sumando todas las filas\n",
    "%timeit -n10 -r10 np.sum(data, axis=1)"
   ]
  },
  {
   "cell_type": "code",
   "execution_count": 20,
   "metadata": {},
   "outputs": [
    {
     "name": "stdout",
     "output_type": "stream",
     "text": [
      "31 µs ± 6.24 µs per loop (mean ± std. dev. of 10 runs, 100 loops each)\n",
      "100 ms ± 1 ms per loop (mean ± std. dev. of 10 runs, 10 loops each)\n"
     ]
    }
   ],
   "source": [
    "# Sumando una columna\n",
    "%timeit -n100 -r10 np.sum(data[:, 0])\n",
    "# Sumando todas las columnas\n",
    "%timeit -n10 -r10 np.sum(data, axis=0)"
   ]
  },
  {
   "cell_type": "code",
   "execution_count": 21,
   "metadata": {},
   "outputs": [
    {
     "name": "stdout",
     "output_type": "stream",
     "text": [
      "72.3 ms ± 552 µs per loop (mean ± std. dev. of 10 runs, 10 loops each)\n"
     ]
    }
   ],
   "source": [
    "# Sumando todas las columnas de la matriz traspuesta (column major)\n",
    "%timeit -n10 -r10 np.sum(data.T, axis=0)"
   ]
  },
  {
   "cell_type": "markdown",
   "metadata": {},
   "source": [
    "## Speed-up\n",
    "\n"
   ]
  },
  {
   "cell_type": "markdown",
   "metadata": {},
   "source": [
    "El ***[speedup](https://en.wikipedia.org/wiki/Speedup)*** es un número que mide el desempeño relativo de dos algoritmos, sistemas o rutinas.\n",
    "\n",
    "Para este caso podemos escribir\n",
    "$$\n",
    "S_{tiempo} = \\frac{T_{referencia}}{T_{propuesto}}\n",
    "$$\n",
    "donde $T_{propuesto}$ y $T_{referencia}$ son los tiempos de cómputo de nuestra rutina propuesta y de la rutina de referencia, respectivamente\n",
    "\n",
    "Este speedup temporal indica cuantas veces más rápido es nuestra rutina propuesta con respecto a la referencia"
   ]
  },
  {
   "cell_type": "code",
   "execution_count": null,
   "metadata": {},
   "outputs": [],
   "source": []
  }
 ],
 "metadata": {
  "kernelspec": {
   "display_name": "Python 3 (ipykernel)",
   "language": "python",
   "name": "python3"
  },
  "language_info": {
   "codemirror_mode": {
    "name": "ipython",
    "version": 3
   },
   "file_extension": ".py",
   "mimetype": "text/x-python",
   "name": "python",
   "nbconvert_exporter": "python",
   "pygments_lexer": "ipython3",
   "version": "3.8.12"
  },
  "toc": {
   "base_numbering": 1,
   "nav_menu": {},
   "number_sections": true,
   "sideBar": true,
   "skip_h1_title": false,
   "title_cell": "Table of Contents",
   "title_sidebar": "Contents",
   "toc_cell": false,
   "toc_position": {
    "height": "calc(100% - 180px)",
    "left": "10px",
    "top": "150px",
    "width": "254px"
   },
   "toc_section_display": true,
   "toc_window_display": true
  }
 },
 "nbformat": 4,
 "nbformat_minor": 2
}
