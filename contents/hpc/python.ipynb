{
 "cells": [
  {
   "cell_type": "markdown",
   "metadata": {},
   "source": [
    "# Optimizando código Python\n",
    "\n",
    "Como ya hemos mencionado **Python** es un lenguaje versátil pero poco eficiente en comparación a lenguajes de bajo nivel (C o Fortran)\n",
    "\n",
    "Recordemos que **Python** es un lenguaje **interpretado**. Consideremos la operación\n",
    "\n",
    "```python\n",
    "    z = x + y\n",
    "```\n",
    "\n",
    "Esta operación sencilla requiere de \n",
    "\n",
    "- **inferir el tipo** de $x$ e $y$ antes de sumarlos\n",
    "- **escoger la función \"suma\" apropiada para el tipo de los argumentos** \n",
    "- **retornar el tipo correcto** de z\n",
    "\n",
    "El costo de las operaciones **destacadas** se llama **overhead**. El *overhead* es el **costo extra** de Python versus los lenguajes compilados\n",
    "\n",
    "Existen varias maneras de reducir *overhead* y mejorar la eficiencia de un código escrito en Python. En lo que sige revisaremos las siguientes:\n",
    "\n",
    "- **Conocer el lenguaje**: Usar la sintaxis y estructuras de Python adecuadamente \n",
    "- **Vectorización:** Cómputo basado en arreglos con `NumPy` siempre en problemas que lo permitan\n",
    "- **Conectar con lenguajes de bajo nivel:** Utilizar `Cython` para crear interfaces de código C eficiente para Python\n",
    "\n",
    "Antes de empezar revisarlas en detalle se presenta una métrica muy utilizada para comparar algoritmos de acuerdo a su tiempo de ejecución. El ***[speedup](https://en.wikipedia.org/wiki/Speedup)*** es un número que mide el desempeño relativo de dos algoritmos, sistemas o rutinas, definido como\n",
    "\n",
    "$$\n",
    "S_{tiempo} = \\frac{T_{referencia}}{T_{propuesto}}\n",
    "$$\n",
    "\n",
    "donde $T_{propuesto}$ y $T_{referencia}$ son los tiempos de cómputo de nuestra rutina propuesta (optimizada) y de la rutina de referencia (original), respectivamente\n",
    "\n",
    ":::{note}\n",
    "\n",
    "Este speedup temporal indica cuantas veces más rápido es nuestra rutina propuesta con respecto a la referencia\n",
    "\n",
    ":::"
   ]
  },
  {
   "cell_type": "markdown",
   "metadata": {},
   "source": [
    "## Conocer el lenguaje para ganar eficiencia\n",
    "\n",
    "**Python** tiene una curva de aprendizaje suave en comparación a lenguajes de más bajo nivel, es decir que sabiendo muy poco de **Python** ya somos capaces de escribir toda clase de rutinas\n",
    "\n",
    "Esto tiene un efecto secundario negativo en algunas personas y especialmente en aquellos que ya saben otros lenguajes \n",
    "\n",
    ":::{error}\n",
    "\n",
    "Usar Python como si fuera C (u otro lenguaje)\n",
    "\n",
    ":::\n",
    "\n",
    "Python ofrece una gran cantidad de [funciones](https://docs.python.org/3/library/functions.html) y [módulos en su librería estándar](https://docs.python.org/3/library/index.html) que son sumamente eficientes\n",
    "\n",
    ":::{hint}\n",
    "\n",
    "Usar la sintáxis y las [estructuras de datos](https://docs.python.org/3/tutorial/datastructures.html) de Python adecuadamente es el primer paso para escribir código eficiente. Busque en la documentación de Python las estructuras de datos más apropiadas para cada problema\n",
    "\n",
    ":::\n",
    "\n",
    "Si necesita repasar sobre algoritmos se recomienda el siguiente material\n",
    "\n",
    "- Bibliografía complementaria del curso: [Effective Python](https://effectivepython.com/)\n",
    "- [Tratado de algoritmos y estructuras de datos en Python](https://runestone.academy/runestone/books/published/pythonds/index.html)\n",
    "- [Consejos de velocidad en la Python wiki](https://wiki.python.org/moin/PythonSpeed)\n",
    "- [Complejidad temporal de distintas estructuras de Python](https://wiki.python.org/moin/TimeComplexity)\n",
    "\n",
    "A continuación veremos algunos consejos generales enfocados a Python"
   ]
  },
  {
   "cell_type": "markdown",
   "metadata": {},
   "source": [
    "##  Evita usar `for` siempre que se pueda en favor de las funciones nativas\n",
    "\n",
    "Muchas veces podemos evitar usar `for` con la estructura de datos o función adecuada.\n",
    "\n",
    "Para ejemplificar digamos que queremos sumar los valores absolutos de los elementos de una lista:"
   ]
  },
  {
   "cell_type": "code",
   "execution_count": 1,
   "metadata": {
    "ExecuteTime": {
     "end_time": "2020-08-19T02:20:47.807885Z",
     "start_time": "2020-08-19T02:20:47.168600Z"
    }
   },
   "outputs": [
    {
     "name": "stdout",
     "output_type": "stream",
     "text": [
      "14.5 ms ± 943 µs per loop (mean ± std. dev. of 5 runs, 3 loops each)\n"
     ]
    },
    {
     "data": {
      "text/plain": [
       "4999950000"
      ]
     },
     "execution_count": 1,
     "metadata": {},
     "output_type": "execute_result"
    }
   ],
   "source": [
    "x = [x for x in range(100000)]\n",
    "\n",
    "# Suma estilo C \n",
    "def suma_abs(data):\n",
    "    resultado = 0\n",
    "    for i in range(len(data)):\n",
    "        if data[i] > 0:\n",
    "            resultado += data[i]\n",
    "        else:\n",
    "            resultado -= data[i]\n",
    "    return resultado\n",
    "\n",
    "reference = %timeit -r5 -n3 -o suma_abs(x)\n",
    "suma_abs(x)"
   ]
  },
  {
   "cell_type": "markdown",
   "metadata": {},
   "source": [
    "**Mejora 1:** No es necesario usar un índice, podemos iterar directamente en los elementos"
   ]
  },
  {
   "cell_type": "code",
   "execution_count": 2,
   "metadata": {},
   "outputs": [
    {
     "name": "stdout",
     "output_type": "stream",
     "text": [
      "8.54 ms ± 749 µs per loop (mean ± std. dev. of 5 runs, 3 loops each)\n"
     ]
    },
    {
     "data": {
      "text/plain": [
       "4999950000"
      ]
     },
     "execution_count": 2,
     "metadata": {},
     "output_type": "execute_result"
    }
   ],
   "source": [
    "def suma_abs(data):\n",
    "    resultado = 0\n",
    "    for element in data:\n",
    "        if element > 0:\n",
    "            resultado += element\n",
    "        else:\n",
    "            resultado -= element\n",
    "    return resultado\n",
    "\n",
    "proposal = %timeit -r5 -n3 -o suma_abs(x)\n",
    "suma_abs(x)"
   ]
  },
  {
   "cell_type": "markdown",
   "metadata": {},
   "source": [
    "El speed up en este caso es:"
   ]
  },
  {
   "cell_type": "code",
   "execution_count": 3,
   "metadata": {},
   "outputs": [
    {
     "data": {
      "text/plain": [
       "1.697372481705621"
      ]
     },
     "execution_count": 3,
     "metadata": {},
     "output_type": "execute_result"
    }
   ],
   "source": [
    "reference.average/proposal.average"
   ]
  },
  {
   "cell_type": "markdown",
   "metadata": {},
   "source": [
    "**Mejora 2:** Operar como una comprensión de lista y luego usar la función sum de Python"
   ]
  },
  {
   "cell_type": "code",
   "execution_count": 4,
   "metadata": {},
   "outputs": [
    {
     "name": "stdout",
     "output_type": "stream",
     "text": [
      "7.09 ms ± 629 µs per loop (mean ± std. dev. of 5 runs, 3 loops each)\n"
     ]
    },
    {
     "data": {
      "text/plain": [
       "(4999950000, 2.0450631952204765)"
      ]
     },
     "execution_count": 4,
     "metadata": {},
     "output_type": "execute_result"
    }
   ],
   "source": [
    "proposal = %timeit -r5 -n3 -o sum([x if x> 0 else -x for x in x])\n",
    "sum([x if x> 0 else -x for x in x]), reference.average/proposal.average"
   ]
  },
  {
   "cell_type": "markdown",
   "metadata": {},
   "source": [
    "**Mejora 3:** Usar las funciones `sum`, `map` y `abs` nativas de Python"
   ]
  },
  {
   "cell_type": "code",
   "execution_count": 5,
   "metadata": {},
   "outputs": [
    {
     "name": "stdout",
     "output_type": "stream",
     "text": [
      "4.16 ms ± 198 µs per loop (mean ± std. dev. of 5 runs, 3 loops each)\n"
     ]
    },
    {
     "data": {
      "text/plain": [
       "(4999950000, 3.4893538463698914)"
      ]
     },
     "execution_count": 5,
     "metadata": {},
     "output_type": "execute_result"
    }
   ],
   "source": [
    "proposal = %timeit -r5 -n3 -o sum(list(map(abs, x)))\n",
    "sum(list(map(abs, x))), reference.average/proposal.average"
   ]
  },
  {
   "cell_type": "markdown",
   "metadata": {},
   "source": [
    "## No reinventar la rueda con las estructuras de datos\n",
    "\n",
    "Verifica si la estructura que necesitas está implementada en Python antes de programarla uno mismo. Como ejemplo digamos que queremos contar la cantidad de elementos de cada tipo en una lista. Podríamos escribir un contador como:"
   ]
  },
  {
   "cell_type": "code",
   "execution_count": 6,
   "metadata": {
    "ExecuteTime": {
     "end_time": "2020-08-19T02:20:47.936604Z",
     "start_time": "2020-08-19T02:20:47.812910Z"
    }
   },
   "outputs": [
    {
     "name": "stdout",
     "output_type": "stream",
     "text": [
      "1.92 ms ± 215 µs per loop (mean ± std. dev. of 7 runs, 1 loop each)\n"
     ]
    },
    {
     "data": {
      "text/plain": [
       "{8: 877,\n",
       " 5: 921,\n",
       " 0: 928,\n",
       " 3: 889,\n",
       " 6: 919,\n",
       " 7: 935,\n",
       " 10: 879,\n",
       " 9: 962,\n",
       " 2: 948,\n",
       " 4: 869,\n",
       " 1: 873}"
      ]
     },
     "execution_count": 6,
     "metadata": {},
     "output_type": "execute_result"
    }
   ],
   "source": [
    "import random\n",
    "x2 = [random.randint(0, 10) for k in range(10000)]\n",
    "\n",
    "# Un contador de elementos\n",
    "def miCounter(data):\n",
    "    count = {}\n",
    "    for element in data:\n",
    "        if element not in count:\n",
    "            count[element] = 1\n",
    "        else:\n",
    "            count[element] +=1\n",
    "    return count\n",
    "\n",
    "reference = %timeit -r7 -n1 -o miCounter(x2)\n",
    "miCounter(x2)"
   ]
  },
  {
   "cell_type": "markdown",
   "metadata": {},
   "source": [
    "Sin embargo, la clase contador ya existe en `collections`, y es mucho más eficiente que la implementación manual anterior:"
   ]
  },
  {
   "cell_type": "code",
   "execution_count": 7,
   "metadata": {},
   "outputs": [
    {
     "name": "stdout",
     "output_type": "stream",
     "text": [
      "734 µs ± 110 µs per loop (mean ± std. dev. of 7 runs, 1 loop each)\n"
     ]
    },
    {
     "data": {
      "text/plain": [
       "(Counter({9: 962,\n",
       "          2: 948,\n",
       "          7: 935,\n",
       "          0: 928,\n",
       "          5: 921,\n",
       "          6: 919,\n",
       "          3: 889,\n",
       "          10: 879,\n",
       "          8: 877,\n",
       "          1: 873,\n",
       "          4: 869}),\n",
       " 2.6154451754086665)"
      ]
     },
     "execution_count": 7,
     "metadata": {},
     "output_type": "execute_result"
    }
   ],
   "source": [
    "from collections import Counter\n",
    "proposal = %timeit -r7 -n1 -o Counter(x2)\n",
    "Counter(x2), reference.average/proposal.average"
   ]
  },
  {
   "cell_type": "markdown",
   "metadata": {},
   "source": [
    "## Tener presente el *overhead* de las funciones\n",
    "\n",
    "Python tiene un *overhead* considerable cada vez que se llama una función. Se puede ganar desempeño haciendo *inlining* de funciones:"
   ]
  },
  {
   "cell_type": "code",
   "execution_count": 8,
   "metadata": {
    "ExecuteTime": {
     "end_time": "2020-08-19T02:20:48.717190Z",
     "start_time": "2020-08-19T02:20:47.938838Z"
    }
   },
   "outputs": [
    {
     "name": "stdout",
     "output_type": "stream",
     "text": [
      "22.9 ms ± 1.02 ms per loop (mean ± std. dev. of 7 runs, 3 loops each)\n",
      "14.2 ms ± 1.35 ms per loop (mean ± std. dev. of 7 runs, 3 loops each)\n"
     ]
    },
    {
     "data": {
      "text/plain": [
       "(True, 1.6171941472628382)"
      ]
     },
     "execution_count": 8,
     "metadata": {},
     "output_type": "execute_result"
    }
   ],
   "source": [
    "import numpy as np\n",
    "\n",
    "def cuadradomasuno(element):\n",
    "    return element*element + 1\n",
    "\n",
    "reference = %timeit -r7 -n3 -o [cuadradomasuno(xi) for xi in x]\n",
    "#Inlining: escribo la función textualmente en lugar de evaluarla\n",
    "proposal = %timeit -r7 -n3 -o [xi*xi + 1 for xi in x] \n",
    "\n",
    "same_result = np.allclose([cuadradomasuno(xi) for xi in x], [xi*xi + 1 for xi in x])\n",
    "speed_up = reference.average/proposal.average\n",
    "same_result, speed_up"
   ]
  },
  {
   "cell_type": "markdown",
   "metadata": {},
   "source": [
    "## Usar variables locales dentro de los *loops*\n",
    "\n",
    "Si estamos obligados a usar `for` podemos ganar algo de rendimiento haciendo copias locales de atributos y funciones. Por ejemplo, digamos que queremos crear una lista con todos los elementos de otra lista que cumplen la condición\n",
    "\n",
    "$$\n",
    "\\sin(x[i]) > 0 \n",
    "$$\n",
    "\n",
    "que se implementa como sigue:"
   ]
  },
  {
   "cell_type": "code",
   "execution_count": 9,
   "metadata": {
    "ExecuteTime": {
     "end_time": "2020-08-19T02:20:49.385219Z",
     "start_time": "2020-08-19T02:20:48.719642Z"
    }
   },
   "outputs": [
    {
     "name": "stdout",
     "output_type": "stream",
     "text": [
      "22.9 ms ± 739 µs per loop (mean ± std. dev. of 5 runs, 3 loops each)\n"
     ]
    }
   ],
   "source": [
    "import math\n",
    "\n",
    "# iterando sobre la lista\n",
    "def sin_pos(data):\n",
    "    resultado = []\n",
    "    for element in data:\n",
    "        if math.sin(element) > 0:\n",
    "            resultado.append(element)\n",
    "    return resultado\n",
    "\n",
    "reference = %timeit -r5 -n3 -o sin_pos(x)\n",
    "resultado1 = sin_pos(x)"
   ]
  },
  {
   "cell_type": "markdown",
   "metadata": {},
   "source": [
    "Si hacemos variables locales para el método `append` y la función `sin`:"
   ]
  },
  {
   "cell_type": "code",
   "execution_count": 10,
   "metadata": {},
   "outputs": [
    {
     "name": "stdout",
     "output_type": "stream",
     "text": [
      "14.4 ms ± 1 ms per loop (mean ± std. dev. of 5 runs, 3 loops each)\n"
     ]
    },
    {
     "data": {
      "text/plain": [
       "(True, 1.5929659944837002)"
      ]
     },
     "execution_count": 10,
     "metadata": {},
     "output_type": "execute_result"
    }
   ],
   "source": [
    "# Mejora: variables locales\n",
    "def sin_pos(data):\n",
    "    resultado = []\n",
    "    append = resultado.append\n",
    "    sin = math.sin\n",
    "    for element in data:\n",
    "        if sin(element) > 0:\n",
    "            append(element)\n",
    "    return resultado\n",
    "\n",
    "proposal = %timeit -r5 -n3 -o sin_pos(x)\n",
    "resultado2 = sin_pos(x)\n",
    "\n",
    "same_result = np.allclose(resultado1, resultado2)\n",
    "speed_up = reference.average/proposal.average\n",
    "same_result, speed_up"
   ]
  }
 ],
 "metadata": {
  "kernelspec": {
   "display_name": "Python 3 (ipykernel)",
   "language": "python",
   "name": "python3"
  },
  "language_info": {
   "codemirror_mode": {
    "name": "ipython",
    "version": 3
   },
   "file_extension": ".py",
   "mimetype": "text/x-python",
   "name": "python",
   "nbconvert_exporter": "python",
   "pygments_lexer": "ipython3",
   "version": "3.9.16"
  },
  "toc": {
   "base_numbering": 1,
   "nav_menu": {},
   "number_sections": true,
   "sideBar": true,
   "skip_h1_title": false,
   "title_cell": "Table of Contents",
   "title_sidebar": "Contents",
   "toc_cell": false,
   "toc_position": {
    "height": "calc(100% - 180px)",
    "left": "10px",
    "top": "150px",
    "width": "254px"
   },
   "toc_section_display": true,
   "toc_window_display": true
  }
 },
 "nbformat": 4,
 "nbformat_minor": 2
}
