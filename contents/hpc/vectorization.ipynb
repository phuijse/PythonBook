{
 "cells": [
  {
   "cell_type": "markdown",
   "metadata": {},
   "source": [
    "# Vectorización: Cómputo basado en arreglos con NumPy\n",
    "\n",
    "Consideremos el escenario en que tenemos un arreglo de datos de gran tamaño y queremos hacer una operación sobre cada elemento.\n",
    "\n",
    "**Ejemplo:** Dado $\\{x\\}_i$ queremos encontrar\n",
    "\n",
    "$$\n",
    "y_i = \\frac{1}{1 + e^{-x_i}}, \\quad i = 1,2,\\ldots, N\n",
    "$$\n",
    "\n",
    "Los cómputos como el anterior son de tipo *[Single Instruction Multiple Data](https://en.wikipedia.org/wiki/Single_instruction,_multiple_data)* (SIMD), ya que estamos haciendo una misma operación para todos los datos.\n",
    "\n",
    "Este problema se puede resolver ingenuamente usando un ciclo `for`:\n",
    "\n",
    "```python    \n",
    "    y = []\n",
    "    for xi in x:\n",
    "        y.append(1/(1+math.exp(-xi))\n",
    "```\n",
    "\n",
    "Sin embargo, ya sabemos que esto es ineficiente en \"Python puro\". Las librerías de cómputo científico vistas en este curso nos ofrecen una mejor alternativa. \n",
    "\n",
    ":::{important}\n",
    "\n",
    "**NumPy** nos provee de una estructura de arreglo multidimensional (ndarray) y funciones para operarla que están escritas en C y Fortran. \n",
    "\n",
    ":::\n",
    "\n",
    "Utilizando **NumPy** podemos reemplazar un ciclo `for` en problemas *SIMD* por operaciones que trabajan sobre todo el arreglo, estas sa llaman **operaciones vectoriales**.\n",
    "\n",
    "Por ejemplo, asumiendo que `x` es una lista, podemos vectorizar el código del ejemplo anterior como:\n",
    "\n",
    "```python\n",
    "    x = np.array(x)\n",
    "    y = 1/(1+np.exp(-x))\n",
    "```\n",
    "\n",
    ":::{note}\n",
    "\n",
    "NumPy aplica la función exponencial a todo el arreglo x, luego aplica la aritmética (suma y división) a cada elemento del arreglo (broadcasting) y finalmente retorna un nuevo arreglo con el resultado.\n",
    "\n",
    ":::\n",
    "\n",
    "El proceso de reemplazar un ciclo `for` por una operación vectorial se conoce como **vectorización**. A continuación revisaremos mediante ejemplos como implementar este y otros conceptos para mejorar el rendimiento."
   ]
  },
  {
   "cell_type": "markdown",
   "metadata": {},
   "source": [
    "## Reemplazar ciclo `for` por operaciones vectoriales\n",
    "\n",
    "Las operaciones vectoriales son **funciones de NumPy** de tipo *element-wise* aplicadas sobre un ndarray. Las funciones *element-wise* son aquellas que actuan sobre todos los elementos del arreglo de forma independiente:\n",
    "\n",
    "- En capítulos anteriores revisamos algunos ejemplos: exponenciación, raíces, trigonometrícas, etc\n",
    "- Las operaciones aritméticas entre ndarrays son por defecto *element-wise*\n",
    "\n",
    "Luego si tenemos un problema SIMD escrito con un `for` sobre un conjunto de datos podemos:\n",
    "\n",
    "1. Convertir los datos a ndarray\n",
    "1. Escribir la operación con funciones de NumPy *element-wise*\n",
    "\n",
    "y obtener una ganancia considerable en eficiencia de forma simple y directa."
   ]
  },
  {
   "cell_type": "markdown",
   "metadata": {},
   "source": [
    "Por ejemplo, notemos la diferencia en tiempo de cómputo al hacer aritmética simple"
   ]
  },
  {
   "cell_type": "code",
   "execution_count": 1,
   "metadata": {
    "ExecuteTime": {
     "end_time": "2020-08-19T02:20:50.131710Z",
     "start_time": "2020-08-19T02:20:49.387815Z"
    }
   },
   "outputs": [
    {
     "name": "stdout",
     "output_type": "stream",
     "text": [
      "22.1 ms ± 402 µs per loop (mean ± std. dev. of 7 runs, 3 loops each)\n",
      "205 µs ± 76.2 µs per loop (mean ± std. dev. of 7 runs, 3 loops each)\n"
     ]
    },
    {
     "data": {
      "text/plain": [
       "(True, 108.00234301051614)"
      ]
     },
     "execution_count": 1,
     "metadata": {},
     "output_type": "execute_result"
    }
   ],
   "source": [
    "import numpy as np\n",
    "\n",
    "x_ndarray = np.random.randn(100000)\n",
    "x_list = list(x_ndarray)\n",
    "\n",
    "def operacion_simple(data):\n",
    "    resultado = []\n",
    "    append = resultado.append\n",
    "    for elemento in data:\n",
    "        append(elemento*elemento + elemento)\n",
    "    return resultado\n",
    "\n",
    "# Operación usando \"for con mejoras\"\n",
    "reference = %timeit -n3 -r7 -o operacion_simple(x_list)\n",
    "# Operación usando numpy sobre un ndarray\n",
    "proposal = %timeit -n3 -r7 -o x_ndarray*x_ndarray + x_ndarray\n",
    "# Comparación entre los resultados\n",
    "same_result = np.allclose(operacion_simple(x_list), x_ndarray*x_ndarray + x_ndarray)\n",
    "speed_up = reference.average/proposal.average\n",
    "same_result, speed_up"
   ]
  },
  {
   "cell_type": "markdown",
   "metadata": {},
   "source": [
    ":::{warning}\n",
    "\n",
    "Las funciones de NumPy son lentas cuando operan sobre tipos que no son ndarray\n",
    "\n",
    ":::\n",
    "\n",
    "Para el ejemplo de $y_i = (1 + e^{-x_i})^{-1}, \\quad i = 1,2,\\ldots, N$"
   ]
  },
  {
   "cell_type": "code",
   "execution_count": 2,
   "metadata": {
    "ExecuteTime": {
     "end_time": "2020-08-19T02:20:50.770427Z",
     "start_time": "2020-08-19T02:20:50.133953Z"
    }
   },
   "outputs": [
    {
     "name": "stdout",
     "output_type": "stream",
     "text": [
      "17.5 ms ± 1.28 ms per loop (mean ± std. dev. of 7 runs, 3 loops each)\n",
      "8.3 ms ± 254 µs per loop (mean ± std. dev. of 7 runs, 3 loops each)\n",
      "364 µs ± 11.3 µs per loop (mean ± std. dev. of 7 runs, 3 loops each)\n"
     ]
    },
    {
     "data": {
      "text/plain": [
       "True"
      ]
     },
     "execution_count": 2,
     "metadata": {},
     "output_type": "execute_result"
    }
   ],
   "source": [
    "from math import exp\n",
    "# usando list comprehension (similar a un \"for mejorado\")\n",
    "%timeit -n3 -r7 [1./(1.+exp(xi)) for xi in x_list]\n",
    "# usando numpy sobre una lista\n",
    "%timeit -n3 -r7 1./(1+np.exp(x_list))\n",
    "# usando numpy sobre un ndarray\n",
    "%timeit -n3 -r7 1./(1+np.exp(x_ndarray))\n",
    "# Comparación entre los resultados\n",
    "np.allclose(1./(1+np.exp(x_ndarray)), [1./(1.+exp(xi)) for xi in x_list])"
   ]
  },
  {
   "cell_type": "markdown",
   "metadata": {},
   "source": [
    "> Las operación sobre ndarray es casi un orden de magnitud más rápida\n",
    "\n",
    "**¿Por qué ocurre esto?**\n",
    "\n",
    "Recuerde que una lista puede tener distintos tipos y además puede estar guardada en distintos sectores de memoria. En cambio, el ndarray:\n",
    "\n",
    "- Tiene un tipo definido \n",
    "- Está guardado en bloques de memoria contiguos\n",
    "\n",
    "Por ende el ndarray tiene un *overhead* de interpretador mucho menor que la lista. Además NumPy está escrito en C/Fortran, y hacer un loop en memoría contigua en C es muy eficiente.\n",
    "\n",
    ":::{seealso}\n",
    "\n",
    "NumPy puede [compilarse con librerías de alto desempeño como openblas o MKL](https://numpy.org/devdocs/user/building.html#accelerated-blas-lapack-libraries). De esta forma se aprovechan mejor las capacidades del hardware (Cache de CPU e instrucciones vectoriales de CPU).\n",
    "\n",
    ":::\n"
   ]
  },
  {
   "cell_type": "markdown",
   "metadata": {},
   "source": [
    "## Convertir operaciones lógicas sobre arreglos en máscaras\n",
    "\n",
    "Las operaciones lógicas en NumPy también son *element-wise* (Operaciones booleanas, clase NumPy, unidad 1). Si queremos recuperar los elementos de un arreglo que cumplan una cierta condición podemos:\n",
    "\n",
    "1. Convertir los datos a ndarray\n",
    "1. Escribir la operación como una máscara booleana de índices\n",
    "\n",
    "Consideremos el ejemplo de la lección anterior donde se deseaban recuperar los elementos de una lista tal que  $\\sin(x_i)>0$"
   ]
  },
  {
   "cell_type": "code",
   "execution_count": 3,
   "metadata": {
    "ExecuteTime": {
     "end_time": "2020-08-19T02:20:51.083640Z",
     "start_time": "2020-08-19T02:20:50.773167Z"
    }
   },
   "outputs": [
    {
     "name": "stdout",
     "output_type": "stream",
     "text": [
      "15.2 ms ± 473 µs per loop (mean ± std. dev. of 5 runs, 3 loops each)\n",
      "1.54 ms ± 32.7 µs per loop (mean ± std. dev. of 5 runs, 3 loops each)\n"
     ]
    },
    {
     "data": {
      "text/plain": [
       "(True, 9.88342694541913)"
      ]
     },
     "execution_count": 3,
     "metadata": {},
     "output_type": "execute_result"
    }
   ],
   "source": [
    "import math\n",
    "\n",
    "def sin_pos(data):\n",
    "    resultado = []\n",
    "    append = resultado.append\n",
    "    sin = math.sin\n",
    "    for element in data:\n",
    "        if sin(element) > 0:\n",
    "            append(element)\n",
    "    return resultado\n",
    "\n",
    "reference = %timeit -r5 -n3 -o sin_pos(x_list)\n",
    "proposal = %timeit -r5 -n3 -o x_ndarray[np.sin(x_ndarray) > 0.]\n",
    "\n",
    "same_result = np.allclose(sin_pos(x_list), x_ndarray[np.sin(x_ndarray) > 0])\n",
    "speed_up = reference.average/proposal.average \n",
    "same_result, speed_up"
   ]
  },
  {
   "cell_type": "markdown",
   "metadata": {},
   "source": [
    "## Evitar copia adicional de datos\n",
    "\n",
    "Cuando en NumPy ejecutamos\n",
    "\n",
    "```python\n",
    "    x = x*x\n",
    "```\n",
    "\n",
    "Ocurre lo siguiente:\n",
    "\n",
    "1. Se crea una copia interna de x*x\n",
    "1. x es direccionado a esa nueva copia\n",
    "1. La zona de memoria con el valor original es luego eliminada por el *garbage-collector* de Python\n",
    "\n",
    "Siempre que no necesitemos el valor original podemos usar operaciones ***in-place*** y ganar rendimiento, ya que evitamos la copia y eliminación adicional"
   ]
  },
  {
   "cell_type": "code",
   "execution_count": 4,
   "metadata": {
    "ExecuteTime": {
     "end_time": "2020-08-19T02:20:51.699699Z",
     "start_time": "2020-08-19T02:20:51.085550Z"
    }
   },
   "outputs": [
    {
     "name": "stdout",
     "output_type": "stream",
     "text": [
      "3.32 ms ± 71.8 µs per loop (mean ± std. dev. of 10 runs, 10 loops each)\n",
      "2.25 ms ± 76.9 µs per loop (mean ± std. dev. of 10 runs, 10 loops each)\n"
     ]
    },
    {
     "data": {
      "text/plain": [
       "(True, 1.4759441251674865)"
      ]
     },
     "execution_count": 4,
     "metadata": {},
     "output_type": "execute_result"
    }
   ],
   "source": [
    "# Copia interna y cambio de referencia de x_ndarray \n",
    "reference = %timeit -r10 -n10 -o x_ndarray = np.zeros(shape=(1000000)); y = x_ndarray*x_ndarray\n",
    "# Sin copia interna\n",
    "proposal = %timeit -r10 -n10 -o x_ndarray = np.zeros(shape=(1000000)); x_ndarray *= x_ndarray\n",
    "\n",
    "x_ndarray = np.zeros(shape=(1000000))\n",
    "y = x_ndarray*x_ndarray\n",
    "x_ndarray *= x_ndarray\n",
    "\n",
    "same_result = np.allclose(x_ndarray, y)\n",
    "speed_up = reference.average/proposal.average\n",
    "same_result, speed_up"
   ]
  },
  {
   "cell_type": "markdown",
   "metadata": {},
   "source": [
    "Sea $x$ un ndarray, la operación\n",
    "\n",
    "```python\n",
    "    x[2:10] \n",
    "```\n",
    "\n",
    "es una \"vista de x\". \n",
    "\n",
    ":::{hint}\n",
    "\n",
    "Recordar que las \"vista de arreglo\" no hacen copias en memoria ya que apuntan directamente al arreglo original. Es decir que si modificamos una vista modificamos el original.\n",
    "\n",
    ":::"
   ]
  },
  {
   "cell_type": "markdown",
   "metadata": {},
   "source": [
    "## Aprovechar el *broadcasting* automático de NumPy\n",
    "\n",
    "Se pueden hacer operaciones vectorizadas con NumPy entre arreglos con tamaños distintos. En ese caso se aplican las reglas de *broadcasting* que se vieron en la lección de NumPy.\n",
    "\n",
    ":::{note}\n",
    "\n",
    "El *broadcasting* automático no hace copias en memoria.\n",
    "\n",
    ":::\n",
    "\n",
    "**Ejemplo 1:** Si le sumas una constante a un arreglo 1D, la constante se expande y se suma a cada elemento:"
   ]
  },
  {
   "cell_type": "code",
   "execution_count": 5,
   "metadata": {
    "ExecuteTime": {
     "end_time": "2020-08-19T02:20:52.810029Z",
     "start_time": "2020-08-19T02:20:51.702112Z"
    }
   },
   "outputs": [
    {
     "name": "stdout",
     "output_type": "stream",
     "text": [
      "942 µs ± 160 µs per loop (mean ± std. dev. of 10 runs, 10 loops each)\n",
      "11.1 ms ± 967 µs per loop (mean ± std. dev. of 10 runs, 10 loops each)\n"
     ]
    },
    {
     "data": {
      "text/plain": [
       "True"
      ]
     },
     "execution_count": 5,
     "metadata": {},
     "output_type": "execute_result"
    }
   ],
   "source": [
    "N = 1000000\n",
    "x = np.zeros(shape=(N, ))\n",
    "# broadcasting automático\n",
    "%timeit -n10 -r10 x + 1.\n",
    "# Agrandando y luego sumando\n",
    "%timeit -n10 -r10 x + np.tile([1], len(x))\n",
    "# mismo resultado\n",
    "np.allclose(x + 1, x + np.tile([1], len(x)))"
   ]
  },
  {
   "cell_type": "markdown",
   "metadata": {},
   "source": [
    "**Ejemplo 2:** Si le sumas un arreglo 1D a un arreglo 2D, el arreglo 1D se expande en la dimensión que le falta:"
   ]
  },
  {
   "cell_type": "code",
   "execution_count": 6,
   "metadata": {
    "ExecuteTime": {
     "end_time": "2020-08-19T02:21:02.293965Z",
     "start_time": "2020-08-19T02:20:52.812659Z"
    }
   },
   "outputs": [
    {
     "name": "stdout",
     "output_type": "stream",
     "text": [
      "30.9 ms ± 909 µs per loop (mean ± std. dev. of 10 runs, 10 loops each)\n"
     ]
    },
    {
     "data": {
      "text/plain": [
       "(10000, 1000)"
      ]
     },
     "metadata": {},
     "output_type": "display_data"
    },
    {
     "name": "stdout",
     "output_type": "stream",
     "text": [
      "98.4 ms ± 1.41 ms per loop (mean ± std. dev. of 10 runs, 10 loops each)\n"
     ]
    },
    {
     "data": {
      "text/plain": [
       "True"
      ]
     },
     "execution_count": 6,
     "metadata": {},
     "output_type": "execute_result"
    }
   ],
   "source": [
    "N, M = 10000, 1000\n",
    "x = np.zeros(shape=(N, M)) # arreglo de NxM\n",
    "y = np.zeros(shape=(N, )) # arreglo sin dimensión\n",
    "y_ = y[:, np.newaxis] # arreglo de Nx1\n",
    "# broadcasting automático\n",
    "%timeit -n10 -r10 x + y_\n",
    "display((x + y_).shape)\n",
    "# Agrandando y luego sumando\n",
    "%timeit -n10 -r10 x + np.tile(y_, (1, x.shape[-1]))\n",
    "# mismo resultado\n",
    "np.allclose(x + y_, x + np.tile(y_, (1, x.shape[-1])))"
   ]
  },
  {
   "cell_type": "markdown",
   "metadata": {},
   "source": [
    "**Ejemplo 3:** Si sumas un arreglo 1D fila y un arreglo 1D columna se crea un arreglo 2D:"
   ]
  },
  {
   "cell_type": "code",
   "execution_count": 7,
   "metadata": {
    "ExecuteTime": {
     "end_time": "2020-08-19T02:21:15.025080Z",
     "start_time": "2020-08-19T02:21:02.295774Z"
    }
   },
   "outputs": [
    {
     "name": "stdout",
     "output_type": "stream",
     "text": [
      "32.6 ms ± 1.56 ms per loop (mean ± std. dev. of 10 runs, 10 loops each)\n"
     ]
    },
    {
     "data": {
      "text/plain": [
       "(10000, 1000)"
      ]
     },
     "metadata": {},
     "output_type": "display_data"
    },
    {
     "name": "stdout",
     "output_type": "stream",
     "text": [
      "118 ms ± 2.1 ms per loop (mean ± std. dev. of 10 runs, 10 loops each)\n"
     ]
    },
    {
     "data": {
      "text/plain": [
       "True"
      ]
     },
     "execution_count": 7,
     "metadata": {},
     "output_type": "execute_result"
    }
   ],
   "source": [
    "N, M = 10000, 1000\n",
    "x = np.zeros(shape=(N, 1)) # arreglo columna de Nx1\n",
    "y = np.zeros(shape=(1, M)) # arreglo fila de 1xM\n",
    "# broadcasting automático\n",
    "%timeit -n10 -r10 x + y\n",
    "display((x+y).shape)\n",
    "# Agrandando y luego sumando\n",
    "%timeit -n10 -r10 np.tile(y, (x.shape[0], 1)) + np.tile(x, (1, y.shape[-1]))\n",
    "np.allclose(x + y, np.tile(y, (x.shape[0], 1)) + np.tile(x, (1, y.shape[-1])))"
   ]
  },
  {
   "cell_type": "markdown",
   "metadata": {},
   "source": [
    ":::{note}\n",
    "\n",
    "Las dimensiones de dos arreglos son compatibles con *broadcast* automático si **son del mismo tamaño** o **una de ellas es igual a uno**.\n",
    "\n",
    ":::"
   ]
  },
  {
   "cell_type": "markdown",
   "metadata": {},
   "source": [
    "## Utilizar el ordenamiento en memoría más adecuado en cada caso\n",
    "\n",
    "Los ndarray multidimensionales pueden guardarse en memoria como *row-major* (filas contiguas) o *column-major* (columnas contiguas). Por defecto las matrices en NumPy son *row-major* pero podemos forzar la contigüidad usando el atributo `order` o trasponiendo (ojo que trasponer crea una copia).\n",
    "\n",
    "Se puede verificar esto con el atributo `flag` de los ndarray:"
   ]
  },
  {
   "cell_type": "code",
   "execution_count": 8,
   "metadata": {
    "ExecuteTime": {
     "end_time": "2020-08-19T02:21:15.051641Z",
     "start_time": "2020-08-19T02:21:15.027132Z"
    }
   },
   "outputs": [
    {
     "data": {
      "text/plain": [
       "array([[0, 1, 2],\n",
       "       [3, 4, 5]])"
      ]
     },
     "metadata": {},
     "output_type": "display_data"
    },
    {
     "data": {
      "text/plain": [
       "  C_CONTIGUOUS : True\n",
       "  F_CONTIGUOUS : False\n",
       "  OWNDATA : False\n",
       "  WRITEABLE : True\n",
       "  ALIGNED : True\n",
       "  WRITEBACKIFCOPY : False"
      ]
     },
     "metadata": {},
     "output_type": "display_data"
    },
    {
     "data": {
      "text/plain": [
       "array([0, 1, 2, 3, 4, 5])"
      ]
     },
     "metadata": {},
     "output_type": "display_data"
    },
    {
     "data": {
      "text/plain": [
       "  C_CONTIGUOUS : False\n",
       "  F_CONTIGUOUS : True\n",
       "  OWNDATA : False\n",
       "  WRITEABLE : True\n",
       "  ALIGNED : True\n",
       "  WRITEBACKIFCOPY : False"
      ]
     },
     "metadata": {},
     "output_type": "display_data"
    },
    {
     "data": {
      "text/plain": [
       "array([0, 3, 1, 4, 2, 5])"
      ]
     },
     "metadata": {},
     "output_type": "display_data"
    }
   ],
   "source": [
    "data = np.arange(6).reshape(2, 3)\n",
    "display(data)\n",
    "# Verificamos los flags\n",
    "display(data.flags)\n",
    "# Así se ve row-major en memoria \n",
    "display(data.ravel())\n",
    "# Verificamos los flags\n",
    "dataT = data.T\n",
    "display(dataT.flags)\n",
    "# Así se ve column-major en memoria\n",
    "display(dataT.ravel())"
   ]
  },
  {
   "cell_type": "markdown",
   "metadata": {},
   "source": [
    ":::{note}\n",
    "\n",
    "La mayoría de las funciones de NumPy funcionan más rápido en formato *row-major* (formato C). Pero algunas funciones de scipy (heredadas de Fortran) funcionan más rápido en formato *col-major* (formato Fortran).\n",
    "\n",
    ":::\n",
    "\n",
    "Es recomendable verificar el orden en memoria que espera la función que vas a utilizar."
   ]
  },
  {
   "cell_type": "code",
   "execution_count": 9,
   "metadata": {
    "ExecuteTime": {
     "end_time": "2020-08-19T02:21:36.434997Z",
     "start_time": "2020-08-19T02:21:15.054192Z"
    }
   },
   "outputs": [
    {
     "name": "stdout",
     "output_type": "stream",
     "text": [
      "11.6 µs ± 189 ns per loop (mean ± std. dev. of 10 runs, 100 loops each)\n",
      "74.1 ms ± 659 µs per loop (mean ± std. dev. of 10 runs, 10 loops each)\n"
     ]
    }
   ],
   "source": [
    "data = np.random.randn(10000, 10000) # (row-major)\n",
    "# Sumando una fila\n",
    "%timeit -n100 -r10 np.sum(data[0, :])\n",
    "# Sumando todas las filas\n",
    "%timeit -n10 -r10 np.sum(data, axis=1)"
   ]
  },
  {
   "cell_type": "code",
   "execution_count": 10,
   "metadata": {},
   "outputs": [
    {
     "name": "stdout",
     "output_type": "stream",
     "text": [
      "32.3 µs ± 8.63 µs per loop (mean ± std. dev. of 10 runs, 100 loops each)\n",
      "121 ms ± 2.46 ms per loop (mean ± std. dev. of 10 runs, 10 loops each)\n"
     ]
    }
   ],
   "source": [
    "# Sumando una columna\n",
    "%timeit -n100 -r10 np.sum(data[:, 0])\n",
    "# Sumando todas las columnas\n",
    "%timeit -n10 -r10 np.sum(data, axis=0)"
   ]
  },
  {
   "cell_type": "code",
   "execution_count": 11,
   "metadata": {},
   "outputs": [
    {
     "name": "stdout",
     "output_type": "stream",
     "text": [
      "74.5 ms ± 412 µs per loop (mean ± std. dev. of 10 runs, 10 loops each)\n"
     ]
    }
   ],
   "source": [
    "# Sumando todas las columnas de la matriz traspuesta (column major)\n",
    "%timeit -n10 -r10 np.sum(data.T, axis=0)"
   ]
  },
  {
   "cell_type": "code",
   "execution_count": null,
   "metadata": {},
   "outputs": [],
   "source": []
  }
 ],
 "metadata": {
  "kernelspec": {
   "display_name": "Python 3 (ipykernel)",
   "language": "python",
   "name": "python3"
  },
  "language_info": {
   "codemirror_mode": {
    "name": "ipython",
    "version": 3
   },
   "file_extension": ".py",
   "mimetype": "text/x-python",
   "name": "python",
   "nbconvert_exporter": "python",
   "pygments_lexer": "ipython3",
   "version": "3.9.16"
  },
  "toc": {
   "base_numbering": 1,
   "nav_menu": {},
   "number_sections": true,
   "sideBar": true,
   "skip_h1_title": false,
   "title_cell": "Table of Contents",
   "title_sidebar": "Contents",
   "toc_cell": false,
   "toc_position": {
    "height": "calc(100% - 180px)",
    "left": "10px",
    "top": "150px",
    "width": "254px"
   },
   "toc_section_display": true,
   "toc_window_display": true
  }
 },
 "nbformat": 4,
 "nbformat_minor": 2
}
