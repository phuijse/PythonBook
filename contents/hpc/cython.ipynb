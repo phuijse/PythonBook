{
 "cells": [
  {
   "cell_type": "markdown",
   "metadata": {},
   "source": [
    "# Acelerando Python con Cython"
   ]
  },
  {
   "cell_type": "markdown",
   "metadata": {},
   "source": [
    "La [implementación](https://wiki.python.org/moin/PythonImplementations) más utilizada del interprete/compilador de Python está escrita en C y se llama [CPython](https://github.com/python/cpython). Recordemos que la implementación es aquello que interpreta y corre el código escrito en Python. \n",
    "\n",
    ":::{note}\n",
    "\n",
    "También existen otras implementaciones de Python menos usadas como [PyPy](https://www.pypy.org/), [Jython](https://www.jython.org/) o IronPython. \n",
    "\n",
    ":::\n",
    "\n",
    "CPython compila el código escrito en Python en un código de máquina (binario) de forma transparente al usuario. Luego CPython interpreta el binario. \n",
    "\n",
    ":::{note}\n",
    "\n",
    "Si es de nuestro interés, podemos estudiar dicho código binario usando el módulo [dis](https://docs.python.org/3.7/library/dis.html) de Python\n",
    "\n",
    ":::"
   ]
  },
  {
   "cell_type": "markdown",
   "metadata": {},
   "source": [
    "Por lo tanto, si sabemos C, podemos usar la [API de Python/C](https://docs.python.org/3/c-api/index.html) para \n",
    "\n",
    "1. Escribir módulos de C que puedan llamarse desde Python\n",
    "1. Hacer interfaces entre código C y Python\n",
    "\n",
    "Sin embargo la API es un poco complicada, por lo que han surgido alternativas menos tediosas para lograr estos objetivos, como por ejemplo [ctypes](https://docs.python.org/2/library/ctypes.html), [CFFI](https://cffi.readthedocs.io/en/latest/), [SWIG](http://swig.org/) y [Cython](https://cython.org/)\n",
    "\n",
    "En este capítulo veremos en detalle esta última"
   ]
  },
  {
   "cell_type": "code",
   "execution_count": 1,
   "metadata": {
    "ExecuteTime": {
     "end_time": "2020-08-20T14:08:30.718062Z",
     "start_time": "2020-08-20T14:08:27.652890Z"
    }
   },
   "outputs": [],
   "source": [
    "%matplotlib inline\n",
    "import numpy as np\n",
    "import matplotlib.pyplot as plt"
   ]
  },
  {
   "cell_type": "markdown",
   "metadata": {},
   "source": [
    "## Cython: C Extensions for Python\n",
    "\n",
    "Recordemos que **Python** es un lenguaje interpretado con tipos dinámicos. Esto hace que cada operación tenga un overhead. Por ejemplo\n",
    "\n",
    "```python\n",
    "    z = x + y\n",
    "    # overhead: Inferir el tipo de x\n",
    "    # overhead: Inferir el tipo de y\n",
    "    # Hacer la operación suma\n",
    "    # overhead: Darle el tipo adecuado a z\n",
    "```\n",
    "\n",
    "en cambio, **Cython** es un lenguaje de programación que le agrega a Python algunas propiedades de C y C++, una de ellas son los **tipos estáticos**\n",
    "\n",
    "```python\n",
    "    int x = 1\n",
    "    int y = 2\n",
    "    int z = x + y\n",
    "    # No hay que inferir el tipo de x, y, z\n",
    "```\n",
    "\n",
    "Esto hace que Cython sea menos flexible pero decenas de veces más rápido que Python. En términos de sintaxis Cython es casi tan simple como Python. Sin embargo a diferencia de Python, el lenguaje Cython debe compilarse\n",
    "\n",
    "- El compilador de Cython convierte el código fuente en código C \n",
    "- Luego el código C se compila como un módulo de Python con la implementación **CPython**\n",
    "\n",
    ":::{important}\n",
    "\n",
    "Una vez compilado el código escrito en Cython este puede llamarse desde Python.\n",
    "\n",
    ":::\n",
    "\n",
    "¿Por qué considerar Cython?\n",
    "\n",
    "- Cython es casi tan simple como Python y casi tan rápido como C\n",
    "- Con Cython se pueden llamar funciones y librerías de C\n",
    "- Cython se integra de buena manera con NumPy\n",
    "\n",
    "Por ende Cython es muy atractivo para proyectos que usen Python y tengan requisitos de alto rendimiento. Estudiemos la sintaxis de Cython mediante algunos ejemplos"
   ]
  },
  {
   "cell_type": "markdown",
   "metadata": {},
   "source": [
    "**Ejemplo** A lo largo de esta lección utilizaremos como ejemplo el cálculo de la **Distancia euclidiana todos-con-todos**\n",
    "\n",
    "Sea un conjunto de con $N$ datos bidimensionales ($D=2$) donde queremos calcular la distancia euclidiana de cada dato con todos los demás, es decir una matriz donde el elemento $ij$ es \n",
    "\n",
    "$$\n",
    "\\text{dist}_{ij} = \\sqrt {\\sum_{k=1}^D (x_{ik} - x_{jk})^2}\n",
    "$$\n",
    "\n",
    "A continuación se muestran dos códigos que cumplen este proposito y obtienen un resultado equivalente\n",
    "\n",
    "- El primero usa \"Python puro\" y calcula las distancias de forma secuencial\n",
    "- El segundo usa operaciones vectoriales de NumPy y calcula las distancias \"al mismo tiempo\"\n",
    "\n",
    "Estudie ambos códigos y asegúrese de comprenderlos antes de continuar"
   ]
  },
  {
   "cell_type": "code",
   "execution_count": 2,
   "metadata": {
    "ExecuteTime": {
     "end_time": "2020-08-20T14:29:17.302235Z",
     "start_time": "2020-08-20T14:28:57.858694Z"
    }
   },
   "outputs": [
    {
     "data": {
      "text/plain": [
       "True"
      ]
     },
     "execution_count": 2,
     "metadata": {},
     "output_type": "execute_result"
    }
   ],
   "source": [
    "data = np.random.randn(1000, 2)\n",
    "\n",
    "def distancia_pares(data):    \n",
    "    N, D = data.shape\n",
    "    dist = np.zeros(shape=(N, N))\n",
    "    for i in range(N):\n",
    "        for j in range(i+1, N):\n",
    "            for k in range(D):\n",
    "                dist[i, j] += (data[i, k] - data[j, k])**2\n",
    "            dist[i, j] = np.sqrt(dist[i, j])\n",
    "            dist[j, i] = dist[i, j]\n",
    "    return dist\n",
    "            \n",
    "def distancia_pares_numpy(data):\n",
    "    return np.sqrt(np.sum((data.reshape(-1, 1, 2) - data.reshape(1, -1, 2))**2, axis=-1))\n",
    "\n",
    "np.allclose(distancia_pares(data), distancia_pares_numpy(data))"
   ]
  },
  {
   "cell_type": "code",
   "execution_count": 3,
   "metadata": {},
   "outputs": [
    {
     "data": {
      "text/plain": [
       "3.1247437930020774"
      ]
     },
     "execution_count": 3,
     "metadata": {},
     "output_type": "execute_result"
    }
   ],
   "source": [
    "time_pure = %timeit -r3 -n1 -q -o distancia_pares(data)\n",
    "time_pure.average"
   ]
  },
  {
   "cell_type": "code",
   "execution_count": 4,
   "metadata": {},
   "outputs": [
    {
     "data": {
      "text/plain": [
       "0.07117312733316794"
      ]
     },
     "execution_count": 4,
     "metadata": {},
     "output_type": "execute_result"
    }
   ],
   "source": [
    "time_numpy = %timeit -r3 -n1 -q -o distancia_pares_numpy(data)\n",
    "time_numpy.average"
   ]
  },
  {
   "cell_type": "markdown",
   "metadata": {},
   "source": [
    "NumPy es "
   ]
  },
  {
   "cell_type": "code",
   "execution_count": 5,
   "metadata": {},
   "outputs": [
    {
     "data": {
      "text/plain": [
       "43.90342127829883"
      ]
     },
     "execution_count": 5,
     "metadata": {},
     "output_type": "execute_result"
    }
   ],
   "source": [
    "time_pure.average/time_numpy.average"
   ]
  },
  {
   "cell_type": "markdown",
   "metadata": {},
   "source": [
    "veces más rápido que Python puro"
   ]
  },
  {
   "cell_type": "markdown",
   "metadata": {},
   "source": [
    "## Cython desde IPython/Jupyter\n",
    "\n",
    "Instale cython en su ambiente de conda utilizando\n",
    "\n",
    "    conda install cython\n",
    "\n",
    "Luego en IPython podemos cargar la extensión `cython` como se muestra a continuación"
   ]
  },
  {
   "cell_type": "code",
   "execution_count": 6,
   "metadata": {
    "ExecuteTime": {
     "end_time": "2020-08-20T14:33:06.142969Z",
     "start_time": "2020-08-20T14:33:04.999843Z"
    }
   },
   "outputs": [],
   "source": [
    "%load_ext cython"
   ]
  },
  {
   "cell_type": "markdown",
   "metadata": {},
   "source": [
    "con lo que tendremos disponible la magia de bloque `%%cython`\n",
    "\n",
    ":::{important}\n",
    "\n",
    "Un bloque donde se use esta magia acepta lenguaje cython y se compila al ejecutarlo. Luego podremos llamar las funciones de ese bloque desde otros bloques regulares de Python\n",
    "\n",
    ":::\n",
    "\n",
    "Si surgen errores de compulación estos aparecen en la salida del bloque. \n",
    "\n",
    ":::{note}\n",
    "\n",
    "El bloque que empieza con `%%cython` está \"desconectado\" del resto del cuadernillo, por lo que debe tener sus propios `import`\n",
    "\n",
    ":::\n",
    "\n",
    "La magia tiene las siguientes opciones\n",
    "\n",
    "- `-a` (annotate) retorna un profile linea a linea indicando con amarillo las llamadas a CPython (mientras más llamadas más lento es nuestro código)\n",
    "- `-+` Usar C++ en lugar de C\n",
    "- `-c` Argumentos de compilación\n",
    "- `-l` librerías para linkear a nuestro código\n",
    "- `-L` directorio con librerías\n",
    "- `-I` directorio con cabeceras (include)   \n",
    "\n",
    "\n",
    "Veamos que ocurre al agregarle la magia al ejemplo anterior"
   ]
  },
  {
   "cell_type": "code",
   "execution_count": 7,
   "metadata": {
    "ExecuteTime": {
     "end_time": "2020-08-20T14:37:44.270684Z",
     "start_time": "2020-08-20T14:37:42.204484Z"
    }
   },
   "outputs": [],
   "source": [
    "%%cython\n",
    "\n",
    "import numpy as np\n",
    "\n",
    "def distancia_pares_cython_inocente(data):    \n",
    "    N, D = data.shape\n",
    "    dist = np.zeros(shape=(N, N))\n",
    "    for i in range(N):\n",
    "        for j in range(i+1, N):\n",
    "            for k in range(D):\n",
    "                dist[i, j] += (data[i, k] - data[j, k])**2\n",
    "            dist[i, j] = np.sqrt(dist[i, j])\n",
    "            dist[j, i] = dist[i, j]\n",
    "    return dist"
   ]
  },
  {
   "cell_type": "code",
   "execution_count": 8,
   "metadata": {
    "ExecuteTime": {
     "end_time": "2020-08-20T14:39:01.194921Z",
     "start_time": "2020-08-20T14:38:26.111860Z"
    }
   },
   "outputs": [
    {
     "data": {
      "text/plain": [
       "True"
      ]
     },
     "execution_count": 8,
     "metadata": {},
     "output_type": "execute_result"
    }
   ],
   "source": [
    "np.allclose(distancia_pares_numpy(data), distancia_pares_cython_inocente(data))"
   ]
  },
  {
   "cell_type": "code",
   "execution_count": 9,
   "metadata": {},
   "outputs": [
    {
     "data": {
      "text/plain": [
       "2.907104112334006"
      ]
     },
     "execution_count": 9,
     "metadata": {},
     "output_type": "execute_result"
    }
   ],
   "source": [
    "time_cython_naive = %timeit -r3 -n1 -q -o distancia_pares_cython_inocente(data)\n",
    "time_cython_naive.average"
   ]
  },
  {
   "cell_type": "code",
   "execution_count": 10,
   "metadata": {},
   "outputs": [
    {
     "data": {
      "text/plain": [
       "1.0748647699766545"
      ]
     },
     "execution_count": 10,
     "metadata": {},
     "output_type": "execute_result"
    }
   ],
   "source": [
    "time_pure.average/time_cython_naive.average"
   ]
  },
  {
   "cell_type": "code",
   "execution_count": 11,
   "metadata": {},
   "outputs": [
    {
     "data": {
      "text/plain": [
       "0.02448248311135499"
      ]
     },
     "execution_count": 11,
     "metadata": {},
     "output_type": "execute_result"
    }
   ],
   "source": [
    "time_numpy.average/time_cython_naive.average"
   ]
  },
  {
   "cell_type": "markdown",
   "metadata": {},
   "source": [
    "El resultado es idéntico pero como no hemos hecho ningún cambio el tiempo de ejecución es sólo levemente mejor que la versión en Python puro\n",
    "\n",
    "A continuación veremos como \"cythonizar\" nuestro código para ganar rendimiento"
   ]
  },
  {
   "cell_type": "markdown",
   "metadata": {},
   "source": [
    "## Mejora 1: Definiendo tipos en Cython\n",
    "\n",
    "En Cython se definen tipos estáticos con el keyword `cdef` seguido del tipo y luego el nombre. Por ejemplo una variable de tipo `double` llamada `mi_variable`:\n",
    "\n",
    "```cython\n",
    "cdef double mi_variable \n",
    "```\n",
    "    \n",
    "Para los arreglos (ndarray) se usan [\"memory-views\"](https://cython.readthedocs.io/en/latest/src/userguide/memoryviews.html#memoryviews). Por ejemplo un *memory-view* para una arreglo de tres dimensiones:\n",
    "\n",
    "```cython\n",
    "cdef double [:, :, :] mi_arreglo\n",
    "```    \n",
    "\n",
    "Y se puede ganar un poco más de rendimiento usando el operador `::1` para especificar si el arreglo es *row-major* (estilo C)\n",
    "\n",
    "```cython\n",
    "cdef double [:, :, ::1] mi_arreglo\n",
    "```    \n",
    "\n",
    "o *column-major* (estilo Fortran)\n",
    "\n",
    "```cython\n",
    "cdef double [::1, :, :] mi_arreglo\n",
    "```\n",
    "\n",
    "Veamos como queda el ejemplo introduciendo tipos estáticos"
   ]
  },
  {
   "cell_type": "code",
   "execution_count": 12,
   "metadata": {
    "ExecuteTime": {
     "end_time": "2020-08-20T14:47:49.447492Z",
     "start_time": "2020-08-20T14:47:49.439048Z"
    }
   },
   "outputs": [],
   "source": [
    "%%cython \n",
    "\n",
    "import numpy as np\n",
    "\n",
    "def distancia_pares_cython_estatico(double [:, ::1] data):\n",
    "    # Definimos el tipo de N, D, dist y data\n",
    "    cdef int N = data.shape[0]\n",
    "    cdef int D = data.shape[1]\n",
    "    dist = np.zeros(shape=(N, N), dtype=np.double)\n",
    "    cdef double [:, ::1] dist_view = dist\n",
    "    # También definimos los índices, se puede usar int o Py_ssize_t \n",
    "    cdef int i, j, k\n",
    "    for i in range(N):\n",
    "        for j in range(i+1, N):\n",
    "            for k in range(D):\n",
    "                dist_view[i, j] += (data[i, k] - data[j, k])**2\n",
    "            dist_view[i, j] = np.sqrt(dist_view[i, j])\n",
    "            dist_view[j, i] = dist_view[i, j]\n",
    "    return dist"
   ]
  },
  {
   "cell_type": "code",
   "execution_count": 13,
   "metadata": {
    "ExecuteTime": {
     "end_time": "2020-08-20T14:49:27.865299Z",
     "start_time": "2020-08-20T14:49:19.787762Z"
    }
   },
   "outputs": [
    {
     "data": {
      "text/plain": [
       "True"
      ]
     },
     "execution_count": 13,
     "metadata": {},
     "output_type": "execute_result"
    }
   ],
   "source": [
    "np.allclose(distancia_pares_numpy(data), distancia_pares_cython_estatico(data))"
   ]
  },
  {
   "cell_type": "code",
   "execution_count": 14,
   "metadata": {},
   "outputs": [
    {
     "data": {
      "text/plain": [
       "0.6682243580022865"
      ]
     },
     "execution_count": 14,
     "metadata": {},
     "output_type": "execute_result"
    }
   ],
   "source": [
    "time_cython_static = %timeit -r3 -n1 -o -q distancia_pares_cython_estatico(data)\n",
    "time_cython_static.average"
   ]
  },
  {
   "cell_type": "markdown",
   "metadata": {},
   "source": [
    "Speed-up con respecto a Python puro:"
   ]
  },
  {
   "cell_type": "code",
   "execution_count": 15,
   "metadata": {},
   "outputs": [
    {
     "data": {
      "text/plain": [
       "4.676189599468904"
      ]
     },
     "execution_count": 15,
     "metadata": {},
     "output_type": "execute_result"
    }
   ],
   "source": [
    "time_pure.average/time_cython_static.average"
   ]
  },
  {
   "cell_type": "markdown",
   "metadata": {},
   "source": [
    "Speed-up con respecto a NumPy:"
   ]
  },
  {
   "cell_type": "code",
   "execution_count": 16,
   "metadata": {
    "scrolled": true
   },
   "outputs": [
    {
     "data": {
      "text/plain": [
       "0.10651082451700213"
      ]
     },
     "execution_count": 16,
     "metadata": {},
     "output_type": "execute_result"
    }
   ],
   "source": [
    "time_numpy.average/time_cython_static.average"
   ]
  },
  {
   "cell_type": "markdown",
   "metadata": {},
   "source": [
    "Con solo definir el tipo de data, dist, $N$, $D$ y los índices hemos obtenido un *speed-up* importante con respecto a \"Python puro\" aunque sigue siendo más lento que NumPy\n",
    "\n",
    "Si observaramos el código anotado por cython y revisemos la cantidad de llamadas a CPython de cada linea notaríamos que la linea 17 es particularmente conflictiva \n",
    "\n",
    "- involucra una gran cantidad de instrucciones\n",
    "- se llama NxN veces\n",
    "\n",
    "esto se debe a que estamos usando la función de NumPy `np.sqrt`. Podemos obtener un rendimiento mucho mejor si usamos la implementación de raíz cuadrada de C"
   ]
  },
  {
   "cell_type": "markdown",
   "metadata": {},
   "source": [
    "## Mejora 2: Llamando funciones de C desde Cython\n",
    "\n",
    "Es posible llamar funciones de C desde Cython de forma sencilla. Consideremos como ejemplo la función `sqrt` de la [librería matemática estándar de C](http://pubs.opengroup.org/onlinepubs/9699919799/basedefs/math.h.html). \n",
    "\n",
    "Necesitamos dos para usar `sqrt` desde cython:\n",
    "\n",
    "- Importar la función `sqrt` desde la cabecera `math.h`: Esto se hace con el keyword `cdef extern from`\n",
    "- Compilar contra `libm`\n",
    "\n",
    "Veamos como queda nuestro ejemplo con esta modificación"
   ]
  },
  {
   "cell_type": "code",
   "execution_count": 17,
   "metadata": {
    "ExecuteTime": {
     "end_time": "2020-08-20T14:52:44.445565Z",
     "start_time": "2020-08-20T14:52:36.238105Z"
    }
   },
   "outputs": [],
   "source": [
    "%%cython -l m\n",
    "\n",
    "import numpy as np\n",
    "\n",
    "cdef extern from \"math.h\":\n",
    "    double sqrt(double)\n",
    "\n",
    "def distancia_pares_cython_sqrtC(double [:, ::1] data):\n",
    "    # Definimos el tipo de N, D, dist y data\n",
    "    cdef int N = data.shape[0]\n",
    "    cdef int D = data.shape[1]\n",
    "    dist = np.zeros(shape=(N, N), dtype=np.double)\n",
    "    cdef double [:, ::1] dist_view = dist\n",
    "    # También definimos los índices, se puede usar int o Py_ssize_t \n",
    "    cdef Py_ssize_t i, j, k\n",
    "    for i in range(N):\n",
    "        for j in range(i+1, N):\n",
    "            for k in range(D):\n",
    "                dist_view[i, j] += (data[i, k] - data[j, k])**2\n",
    "            dist_view[i, j] = sqrt(dist_view[i, j])\n",
    "            dist_view[j, i] = dist_view[i, j]\n",
    "    return dist"
   ]
  },
  {
   "cell_type": "code",
   "execution_count": 18,
   "metadata": {
    "ExecuteTime": {
     "end_time": "2020-08-20T14:53:29.281760Z",
     "start_time": "2020-08-20T14:53:22.273881Z"
    }
   },
   "outputs": [
    {
     "data": {
      "text/plain": [
       "True"
      ]
     },
     "execution_count": 18,
     "metadata": {},
     "output_type": "execute_result"
    }
   ],
   "source": [
    "np.allclose(distancia_pares_numpy(data), distancia_pares_cython_sqrtC(data))"
   ]
  },
  {
   "cell_type": "code",
   "execution_count": 19,
   "metadata": {},
   "outputs": [
    {
     "data": {
      "text/plain": [
       "0.010658876000282666"
      ]
     },
     "execution_count": 19,
     "metadata": {},
     "output_type": "execute_result"
    }
   ],
   "source": [
    "time_static_cfun = %timeit -r3 -n1 -q -o distancia_pares_cython_sqrtC(data)\n",
    "time_static_cfun.average"
   ]
  },
  {
   "cell_type": "code",
   "execution_count": 20,
   "metadata": {},
   "outputs": [
    {
     "data": {
      "text/plain": [
       "6.677357662410228"
      ]
     },
     "execution_count": 20,
     "metadata": {},
     "output_type": "execute_result"
    }
   ],
   "source": [
    "time_numpy.average/time_static_cfun.average"
   ]
  },
  {
   "cell_type": "markdown",
   "metadata": {},
   "source": [
    "Con esta simple modificación hemos obtenido un tiempo de ejecución incluso menor que la implementación en NumPy, excelente!\n",
    "\n",
    "Es **sumamente importante** notar que usando `extern` podemos hacer interfaces [entre Python y casi cualquier código escrito en C](https://cython.readthedocs.io/en/latest/src/tutorial/clibraries.html)"
   ]
  },
  {
   "cell_type": "markdown",
   "metadata": {},
   "source": [
    "## Mejora 3: Deshabilitando comprobaciones para ir aun más rápido\n",
    "\n",
    "Podemos hacer nuestro código más rápido (y más inseguro) deshabilitando las verificaciones que Python realiza por defecto\n",
    "\n",
    "En Cython esto se logra usando decoradores que funcionan como directivas de compilación. Las opciones disponibles se encuentrán [aquí](https://cython.readthedocs.io/en/latest/src/userguide/source_files_and_compilation.html#compiler-directives). En este caso particular deshabilitaremos dos verificaciones: *boundscheck* y *wraparound*\n",
    "\n",
    "Al deshabilitarlas el código no comprobará si escribimos fuera del arreglo y tampoco traducirá índices negativos\n",
    "\n",
    "También aprovecharemos de hacer un cambio menor que nos será de utilidad más adelante:\n",
    "\n",
    "- Definiremos el tipo de data y dist de forma más conveniente usando `ctypedef`\n",
    "- Para esto incluiremos un modulo de Cython llamado numpy usando `cimport` que contiene definiciones tipo C  \n"
   ]
  },
  {
   "cell_type": "code",
   "execution_count": 21,
   "metadata": {
    "ExecuteTime": {
     "end_time": "2020-08-20T15:23:25.980142Z",
     "start_time": "2020-08-20T15:23:24.583713Z"
    }
   },
   "outputs": [],
   "source": [
    "%%cython -l m\n",
    "import cython\n",
    "cimport numpy as npc\n",
    "import numpy as np\n",
    "\n",
    "# Por conveniencia podemos definir el tipo de data y dist con \n",
    "ctypedef npc.float64_t TIPO_t\n",
    "TIPO = np.float64\n",
    "\n",
    "cdef extern from \"math.h\":\n",
    "    TIPO_t sqrt(TIPO_t)\n",
    "\n",
    "# Deshabilitamos las comprobaciones de Python:\n",
    "@cython.boundscheck(False)\n",
    "@cython.wraparound(False)\n",
    "def distancia_pares_cython(TIPO_t [:, ::1] data):\n",
    "    cdef int N = data.shape[0]\n",
    "    cdef int M = data.shape[1]\n",
    "    dist = np.zeros(shape=(N, N), dtype=TIPO)\n",
    "    cdef TIPO_t [:, ::1] dist_view = dist\n",
    "    cdef Py_ssize_t i, j, k\n",
    "    for i in range(N):\n",
    "        for j in range(i+1, N):\n",
    "            for k in range(M):\n",
    "                dist_view[i, j] += (data[i, k] - data[j, k])**2\n",
    "            dist_view[i, j] = sqrt(dist_view[i, j])\n",
    "            dist_view[j, i] = dist_view[i, j]\n",
    "    return dist"
   ]
  },
  {
   "cell_type": "code",
   "execution_count": 22,
   "metadata": {
    "ExecuteTime": {
     "end_time": "2020-08-20T15:06:42.204358Z",
     "start_time": "2020-08-20T15:06:35.127974Z"
    }
   },
   "outputs": [
    {
     "data": {
      "text/plain": [
       "True"
      ]
     },
     "execution_count": 22,
     "metadata": {},
     "output_type": "execute_result"
    }
   ],
   "source": [
    "np.allclose(distancia_pares_numpy(data), distancia_pares_cython(data))"
   ]
  },
  {
   "cell_type": "code",
   "execution_count": 23,
   "metadata": {},
   "outputs": [
    {
     "data": {
      "text/plain": [
       "0.008668749332476485"
      ]
     },
     "execution_count": 23,
     "metadata": {},
     "output_type": "execute_result"
    }
   ],
   "source": [
    "time_cython_static_cfun_nochecks = %timeit -r3 -n1 -q -o distancia_pares_cython_sqrtC(data)\n",
    "time_cython_static_cfun_nochecks.average"
   ]
  },
  {
   "cell_type": "code",
   "execution_count": 24,
   "metadata": {},
   "outputs": [
    {
     "data": {
      "text/plain": [
       "8.210310922998534"
      ]
     },
     "execution_count": 24,
     "metadata": {},
     "output_type": "execute_result"
    }
   ],
   "source": [
    "time_numpy.average/time_cython_static_cfun_nochecks.average"
   ]
  },
  {
   "cell_type": "markdown",
   "metadata": {},
   "source": [
    "Una modificación marginal en el código que nos da un leve speed-up con respecto al caso anterior "
   ]
  },
  {
   "cell_type": "markdown",
   "metadata": {},
   "source": [
    "##  Mejora 4: Mayor flexibilidad con tipos de Cython fusionados \n",
    "\n",
    "Lo que hemos perdido al usar Cython con respecto a Python: **Flexibilidad**\n",
    "\n",
    "Si utilizamos un argumento que no sea `double` nuestra función en Cython retornará un error. Es nuestra responsabilidad evitar que esto ocurra "
   ]
  },
  {
   "cell_type": "code",
   "execution_count": 25,
   "metadata": {
    "ExecuteTime": {
     "end_time": "2020-08-20T15:08:07.030762Z",
     "start_time": "2020-08-20T15:08:06.954235Z"
    }
   },
   "outputs": [],
   "source": [
    "data_float32 = data.astype(np.float32)"
   ]
  },
  {
   "cell_type": "markdown",
   "metadata": {},
   "source": [
    "Si ejecutaramos la siguiente instrucción: \n",
    "\n",
    "```python\n",
    "distancia_pares_cython(data_float32)\n",
    "```\n",
    "\n",
    "Se nos retornaría una excepción \n",
    "\n",
    "```python\n",
    "ValueError: Buffer dtype mismatch, expected 'TIPO_t' but got 'float'\n",
    "```"
   ]
  },
  {
   "cell_type": "markdown",
   "metadata": {},
   "source": [
    "Podemos resolver este tipo de problemas con los \"tipos fusionados\" de Cython. Si queremos fusionar dos tipos de datos \"tipo1\" y \"tipo2\" bajo el nombre \"tipo3\", lo escribimos usando\n",
    "\n",
    "```cython\n",
    "ctypedef fused tipo3:\n",
    "    tipo1\n",
    "    tipo2\n",
    "```\n",
    "\n",
    "Con esto Cython creará, de forma transparente, dos funciones en lugar de una\n",
    "\n",
    "Modifiquemos la función `distancia_pares_cython` para que acepte los tipos double e float como un tipo fusionado. En este caso no debemos olvidar importar la definición de `sqrtf` de `math.h`"
   ]
  },
  {
   "cell_type": "code",
   "execution_count": 26,
   "metadata": {
    "ExecuteTime": {
     "end_time": "2020-08-20T15:10:53.494805Z",
     "start_time": "2020-08-20T15:10:42.946628Z"
    }
   },
   "outputs": [],
   "source": [
    "%%cython -l m\n",
    "import cython\n",
    "cimport numpy as npc\n",
    "import numpy as np\n",
    "\n",
    "# Tipo fusionado\n",
    "ctypedef fused TIPO_t:\n",
    "    npc.float32_t\n",
    "    npc.float64_t # double\n",
    "    \n",
    "cdef extern from \"math.h\":\n",
    "    npc.float32_t sqrtf(npc.float32_t) #Definición para float32\n",
    "    npc.float64_t sqrt(npc.float64_t) # Definición para float64\n",
    "\n",
    "@cython.boundscheck(False)\n",
    "@cython.wraparound(False)\n",
    "def distancia_pares_cython_multitipo(TIPO_t [:, ::1] data):\n",
    "    cdef int N = data.shape[0]\n",
    "    cdef int M = data.shape[1]\n",
    "    # Comprobamos el tipo antes de crear el arreglo de numpy\n",
    "    if TIPO_t is npc.float32_t:\n",
    "        TIPO = np.float32\n",
    "    else:\n",
    "        TIPO = np.float64\n",
    "    dist = np.zeros(shape=(N, N), dtype=TIPO)\n",
    "    cdef TIPO_t [:, ::1] dist_view = dist\n",
    "    cdef Py_ssize_t i, j, k\n",
    "    for i in range(N):\n",
    "        for j in range(i+1, N):\n",
    "            for k in range(M):\n",
    "                dist_view[i, j] += (data[i, k] - data[j, k])**2\n",
    "            if TIPO_t is npc.float32_t:\n",
    "                dist_view[i, j] = sqrtf(dist_view[i, j])\n",
    "            else:\n",
    "                dist_view[i, j] = sqrt(dist_view[i, j])\n",
    "            dist_view[j, i] = dist_view[i, j]\n",
    "    return dist"
   ]
  },
  {
   "cell_type": "code",
   "execution_count": 27,
   "metadata": {},
   "outputs": [
    {
     "data": {
      "text/plain": [
       "True"
      ]
     },
     "execution_count": 27,
     "metadata": {},
     "output_type": "execute_result"
    }
   ],
   "source": [
    "np.allclose(distancia_pares_numpy(data),\n",
    "            distancia_pares_cython_multitipo(data))"
   ]
  },
  {
   "cell_type": "code",
   "execution_count": 28,
   "metadata": {},
   "outputs": [
    {
     "data": {
      "text/plain": [
       "True"
      ]
     },
     "execution_count": 28,
     "metadata": {},
     "output_type": "execute_result"
    }
   ],
   "source": [
    "np.allclose(distancia_pares_numpy(data_float32),\n",
    "            distancia_pares_cython_multitipo(data_float32))"
   ]
  },
  {
   "cell_type": "code",
   "execution_count": 29,
   "metadata": {},
   "outputs": [
    {
     "data": {
      "text/plain": [
       "0.0597245760000078"
      ]
     },
     "execution_count": 29,
     "metadata": {},
     "output_type": "execute_result"
    }
   ],
   "source": [
    "time_numpy_f32 = %timeit -r3 -n1 -q -o distancia_pares_numpy(data_float32)\n",
    "time_numpy_f32.average"
   ]
  },
  {
   "cell_type": "code",
   "execution_count": 30,
   "metadata": {},
   "outputs": [
    {
     "data": {
      "text/plain": [
       "0.010663292667838201"
      ]
     },
     "execution_count": 30,
     "metadata": {},
     "output_type": "execute_result"
    }
   ],
   "source": [
    "time_cython_f32 = %timeit -r3 -n1 -q -o distancia_pares_cython_multitipo(data_float32)\n",
    "time_cython_f32.average"
   ]
  },
  {
   "cell_type": "code",
   "execution_count": 31,
   "metadata": {},
   "outputs": [
    {
     "data": {
      "text/plain": [
       "5.600950650088078"
      ]
     },
     "execution_count": 31,
     "metadata": {},
     "output_type": "execute_result"
    }
   ],
   "source": [
    "time_numpy_f32.average/time_cython_f32.average"
   ]
  },
  {
   "cell_type": "markdown",
   "metadata": {},
   "source": [
    "El resultado usando `float` es equivalente al de NumPy. Aunque se pierde un poco de rendimiento en comparación a la versión sin tipos fusionados\n"
   ]
  },
  {
   "cell_type": "markdown",
   "metadata": {},
   "source": [
    "## Usando Cython fuera de jupyter"
   ]
  },
  {
   "cell_type": "markdown",
   "metadata": {},
   "source": [
    "El código en cython se guarda tipicamente con extensión `pyx`. En primer lugar debemos procesar este código utilizando el ejecutable cython como se muestra a continuación:\n",
    "\n",
    "    cython -3 codigo.pyx\n",
    "    \n",
    "Lo anterior genera un código en lenguaje C. La opción `-3` indica compatibilidad con Python 3. A modo de ejemplo utilizaremos [distancia_pares.pyx](src/distancia_pares.pyx)"
   ]
  },
  {
   "cell_type": "code",
   "execution_count": 32,
   "metadata": {},
   "outputs": [],
   "source": [
    "%%bash\n",
    "\n",
    "cython -3 src/distancia_pares.pyx"
   ]
  },
  {
   "cell_type": "markdown",
   "metadata": {},
   "source": [
    "Luego usamos nuestro compilador de C preferido apuntando adecuadamente a las cabeceras y librerías de Python 3. Para el script anterior necesitamos también apuntar a las cabeceras de las librerías que estamos importando (numpy).\n",
    "\n",
    "A continución se utiliza gcc para generar una libreria compartida (shared)\n",
    "\n",
    ":::{note}\n",
    "\n",
    "Las rutas utilizadas se deben ajustar a su ambiente de conda y versión de Python. Lo más recomendable es escribir un `Makefile` que se haga cargo de la compilación\n",
    "\n",
    ":::"
   ]
  },
  {
   "cell_type": "code",
   "execution_count": 33,
   "metadata": {},
   "outputs": [
    {
     "name": "stderr",
     "output_type": "stream",
     "text": [
      "In file included from /home/phuijse/.conda/envs/info147/lib/python3.8/site-packages/numpy/core/include/numpy/ndarraytypes.h:1969,\n",
      "                 from /home/phuijse/.conda/envs/info147/lib/python3.8/site-packages/numpy/core/include/numpy/ndarrayobject.h:12,\n",
      "                 from /home/phuijse/.conda/envs/info147/lib/python3.8/site-packages/numpy/core/include/numpy/arrayobject.h:4,\n",
      "                 from src/distancia_pares.c:681:\n",
      "/home/phuijse/.conda/envs/info147/lib/python3.8/site-packages/numpy/core/include/numpy/npy_1_7_deprecated_api.h:17:2: warning: #warning \"Using deprecated NumPy API, disable it with \" \"#define NPY_NO_DEPRECATED_API NPY_1_7_API_VERSION\" [-Wcpp]\n",
      "   17 | #warning \"Using deprecated NumPy API, disable it with \" \\\n",
      "      |  ^~~~~~~\n"
     ]
    }
   ],
   "source": [
    "%%bash\n",
    "\n",
    "export my_conda_env=\"/home/phuijse/.conda/envs/info147\"\n",
    "export python_path=${my_conda_env}\"/include/python3.8\"\n",
    "export numpy_path=${my_conda_env}\"/lib/python3.8/site-packages/numpy/core/include\"\n",
    "gcc -shared -pthread -fPIC -fwrapv -O2 -Wall -fno-strict-aliasing -I${python_path} -I${numpy_path} -L/usr/lib -lm -lpython3  src/distancia_pares.c -o distancia_pares.so"
   ]
  },
  {
   "cell_type": "markdown",
   "metadata": {},
   "source": [
    "Luego podemos importar este librería desde Python y comenzar a utilizalar:"
   ]
  },
  {
   "cell_type": "code",
   "execution_count": 34,
   "metadata": {},
   "outputs": [
    {
     "data": {
      "text/plain": [
       "True"
      ]
     },
     "execution_count": 34,
     "metadata": {},
     "output_type": "execute_result"
    }
   ],
   "source": [
    "%load_ext autoreload \n",
    "%autoreload 2\n",
    "from distancia_pares import distancia_pares_cython_multitipo as distancia_pares_externo\n",
    "\n",
    "np.allclose(distancia_pares_externo(data),\n",
    "            distancia_pares_cython_multitipo(data))"
   ]
  },
  {
   "cell_type": "markdown",
   "metadata": {},
   "source": [
    ":::{seealso}\n",
    "\n",
    "Lecturas sobre temas específicos de Cython:\n",
    "\n",
    "- [Incluyendo código Cython en un módulo de Python](https://cython.readthedocs.io/en/latest/src/quickstart/build.html#building-a-cython-module-using-distutils)\n",
    "- [Haciendo profiling de código Cython](https://cython.readthedocs.io/en/latest/src/tutorial/profiling_tutorial.html)\n",
    "- [Malloc/Free en Cython](https://cython.readthedocs.io/en/latest/src/tutorial/memory_allocation.html)\n",
    "- Libro [Cython: A Guide for Python Programmers](https://pythonbooks.org/cython-a-guide-for-python-programmers/)\n",
    "\n",
    ":::"
   ]
  },
  {
   "cell_type": "code",
   "execution_count": null,
   "metadata": {},
   "outputs": [],
   "source": []
  }
 ],
 "metadata": {
  "kernelspec": {
   "display_name": "Python 3 (ipykernel)",
   "language": "python",
   "name": "python3"
  },
  "language_info": {
   "codemirror_mode": {
    "name": "ipython",
    "version": 3
   },
   "file_extension": ".py",
   "mimetype": "text/x-python",
   "name": "python",
   "nbconvert_exporter": "python",
   "pygments_lexer": "ipython3",
   "version": "3.8.12"
  },
  "toc": {
   "base_numbering": 1,
   "nav_menu": {},
   "number_sections": true,
   "sideBar": true,
   "skip_h1_title": false,
   "title_cell": "Table of Contents",
   "title_sidebar": "Contents",
   "toc_cell": false,
   "toc_position": {
    "height": "calc(100% - 180px)",
    "left": "10px",
    "top": "150px",
    "width": "254px"
   },
   "toc_section_display": true,
   "toc_window_display": true
  }
 },
 "nbformat": 4,
 "nbformat_minor": 2
}
