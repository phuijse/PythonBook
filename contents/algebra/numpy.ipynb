{
 "cells": [
  {
   "cell_type": "markdown",
   "metadata": {},
   "source": [
    " # Arreglos y operaciones vectoriales con [NumPy](http://www.numpy.org/)\n",
    "\n",
    "\n",
    "NumPy es un paquete de computación científica con Python que provee:\n",
    "\n",
    "- Un objecto contenedor muy versatil: arreglo N-dimensional `ndarray`\n",
    "- Funciones capaces de hacer *broadcasting*\n",
    "- Módulos para algebra lineal, Transformada de Fourier, generación de número aleatorios, entre otros\n",
    "- Herramientas para integrar código C/C++\n"
   ]
  },
  {
   "cell_type": "markdown",
   "metadata": {},
   "source": [
    "**Instalación**\n",
    "    \n",
    "Con nuestro ambiente conda activado:\n",
    "\n",
    "    conda install numpy\n",
    "    \n",
    "Esto instalará numpy y las librerías de bajo nivel BLAS y MKL\n",
    "\n",
    "Luego importamos usando"
   ]
  },
  {
   "cell_type": "code",
   "execution_count": 1,
   "metadata": {
    "ExecuteTime": {
     "end_time": "2020-05-16T00:19:24.853448Z",
     "start_time": "2020-05-16T00:19:24.744862Z"
    }
   },
   "outputs": [
    {
     "name": "stdout",
     "output_type": "stream",
     "text": [
      "Version:  1.21.2\n"
     ]
    }
   ],
   "source": [
    "import numpy as np\n",
    "print(\"Version: \", np.__version__)"
   ]
  },
  {
   "cell_type": "markdown",
   "metadata": {},
   "source": [
    "## Objeto ndarray (alias array)\n",
    "\n",
    "Una lista `lista` de Python es un tipo de arreglo donde cada elemento puede ser de tipo diferente\n",
    "\n",
    ":::{warning}\n",
    "\n",
    "En general es muy ineficiente hacer cálculos numéricos usando listas\n",
    "\n",
    ":::\n",
    "\n",
    "Para cálculos numéricos eficientes utilizaremos el objeto `ndarray` de NumPy, que corresponde a un **arreglo n-dimensional de tipo fijo**\n",
    "\n",
    "La siguiente figura muestra arreglos de Numpy de una, dos y tres dimensiones, respectivamente\n",
    "\n",
    "<img src=\"img/ndarray.png\" width=\"500\">\n",
    "\n",
    "\n",
    "Podemos crear un ndarray a partir de \n",
    "\n",
    "- una lista o tupla usando `np.array`\n",
    "- funciones generadoras de NumPy, por ejemplo `np.linspace`, `np.zeros`, etc\n",
    "- un fichero, por ejemplo usando [`np.genfromtxt`](https://numpy.org/devdocs/user/basics.io.genfromtxt.html) (aunque es preferible utilizar `pandas` en estos casos\n"
   ]
  },
  {
   "cell_type": "code",
   "execution_count": 2,
   "metadata": {},
   "outputs": [
    {
     "name": "stdout",
     "output_type": "stream",
     "text": [
      "L es un <class 'list'>\n"
     ]
    }
   ],
   "source": [
    "# Supongamos que tenemos la siguiente lista de listas\n",
    "L = [[0, 1, 2], [3, 4, 5]]\n",
    "print(\"L es un\", type(L))"
   ]
  },
  {
   "cell_type": "code",
   "execution_count": 3,
   "metadata": {},
   "outputs": [
    {
     "name": "stdout",
     "output_type": "stream",
     "text": [
      "A es un <class 'numpy.ndarray'>\n"
     ]
    },
    {
     "data": {
      "text/plain": [
       "array([[0, 1, 2],\n",
       "       [3, 4, 5]])"
      ]
     },
     "metadata": {},
     "output_type": "display_data"
    }
   ],
   "source": [
    "# Podemos transformarla a ndarray con\n",
    "A = np.array(L)\n",
    "print(\"A es un\", type(A))\n",
    "display(A)"
   ]
  },
  {
   "cell_type": "markdown",
   "metadata": {},
   "source": [
    "**Atributos básicos de un ndarray**\n",
    "\n",
    "- El atributo `ndim` es un entero que nos indica el número de dimensiones o ejes del arreglo\n",
    "- El atributo `shape` es una tupla de entero que nos indica el tamaño del arreglo en cada una de sus dimensiones\n",
    "- El atributo `dtype` nos indica el tipo del arreglo\n",
    "\n",
    "En este caso"
   ]
  },
  {
   "cell_type": "code",
   "execution_count": 9,
   "metadata": {},
   "outputs": [
    {
     "data": {
      "text/plain": [
       "'A tiene 2 dimensiones'"
      ]
     },
     "execution_count": 9,
     "metadata": {},
     "output_type": "execute_result"
    }
   ],
   "source": [
    "f\"A tiene {A.ndim} dimensiones\""
   ]
  },
  {
   "cell_type": "code",
   "execution_count": 10,
   "metadata": {},
   "outputs": [
    {
     "data": {
      "text/plain": [
       "True"
      ]
     },
     "execution_count": 10,
     "metadata": {},
     "output_type": "execute_result"
    }
   ],
   "source": [
    "len(A.shape) == A.ndim"
   ]
  },
  {
   "cell_type": "code",
   "execution_count": 17,
   "metadata": {},
   "outputs": [
    {
     "name": "stdout",
     "output_type": "stream",
     "text": [
      "La dimensión 0 tiene largo 2\n",
      "La dimensión 1 tiene largo 3\n"
     ]
    }
   ],
   "source": [
    "for d in range(A.ndim):\n",
    "    print(f\"La dimensión {d} tiene largo {A.shape[d]}\")"
   ]
  },
  {
   "cell_type": "code",
   "execution_count": 19,
   "metadata": {},
   "outputs": [
    {
     "data": {
      "text/plain": [
       "'El arreglo es de tipo int64'"
      ]
     },
     "execution_count": 19,
     "metadata": {},
     "output_type": "execute_result"
    }
   ],
   "source": [
    "f\"El arreglo es de tipo {A.dtype}\""
   ]
  },
  {
   "cell_type": "markdown",
   "metadata": {},
   "source": [
    "Los tipos de dato estándar de NumPy son:\n",
    "\n",
    "- Enteros: int8, int16, int32, int64\n",
    "- Enteros sin signo: uint8, uint16, uint32, uint64\n",
    "- Flotantes (reales): float16, float32, float64, float128\n",
    "- Números complejos: complex64, complex128, complex256\n",
    "- Booleanos: Bool\n",
    "\n",
    "Podemos forzar el tipo al momento de crear usando el argumento `dtype`"
   ]
  },
  {
   "cell_type": "code",
   "execution_count": 4,
   "metadata": {
    "ExecuteTime": {
     "end_time": "2020-05-16T00:02:22.795418Z",
     "start_time": "2020-05-16T00:02:22.786892Z"
    }
   },
   "outputs": [
    {
     "data": {
      "text/plain": [
       "array([[0, 1, 2],\n",
       "       [3, 4, 5]], dtype=int16)"
      ]
     },
     "metadata": {},
     "output_type": "display_data"
    },
    {
     "data": {
      "text/plain": [
       "array([[0., 1., 2.],\n",
       "       [3., 4., 5.]], dtype=float32)"
      ]
     },
     "metadata": {},
     "output_type": "display_data"
    }
   ],
   "source": [
    "display(np.array(L, dtype=np.int16))\n",
    "display(np.array(L, dtype=np.float32))"
   ]
  },
  {
   "cell_type": "markdown",
   "metadata": {},
   "source": [
    "**Funciones generadoras de ndarray**\n",
    "\n",
    "Existen algunas funciones de NumPy que permiten crear directamente arreglos con ciertas propiedades\n",
    "\n",
    "Algunos ejemplos útiles son:"
   ]
  },
  {
   "cell_type": "code",
   "execution_count": 25,
   "metadata": {},
   "outputs": [
    {
     "data": {
      "text/plain": [
       "array([[0, 0, 0],\n",
       "       [0, 0, 0]])"
      ]
     },
     "execution_count": 25,
     "metadata": {},
     "output_type": "execute_result"
    }
   ],
   "source": [
    "np.zeros(shape=(2, 3), dtype=np.int64) # Arreglo lleno de ceros"
   ]
  },
  {
   "cell_type": "code",
   "execution_count": 26,
   "metadata": {},
   "outputs": [
    {
     "data": {
      "text/plain": [
       "array([[1., 1., 1.],\n",
       "       [1., 1., 1.]], dtype=float32)"
      ]
     },
     "execution_count": 26,
     "metadata": {},
     "output_type": "execute_result"
    }
   ],
   "source": [
    "np.ones(shape=(2, 3), dtype=np.float32) # Arreglo lleno con unos"
   ]
  },
  {
   "cell_type": "code",
   "execution_count": 27,
   "metadata": {},
   "outputs": [
    {
     "data": {
      "text/plain": [
       "array([[3.14159265, 3.14159265, 3.14159265],\n",
       "       [3.14159265, 3.14159265, 3.14159265]])"
      ]
     },
     "execution_count": 27,
     "metadata": {},
     "output_type": "execute_result"
    }
   ],
   "source": [
    "np.full(shape=(2, 3), fill_value=np.pi) # Arreglo lleno con un valor arbitrario"
   ]
  },
  {
   "cell_type": "markdown",
   "metadata": {},
   "source": [
    "También existen versiones de estas funciones que copian el tamaño y tipo de otro ndarray"
   ]
  },
  {
   "cell_type": "code",
   "execution_count": 29,
   "metadata": {
    "ExecuteTime": {
     "end_time": "2020-05-16T00:02:29.173423Z",
     "start_time": "2020-05-16T00:02:29.166084Z"
    }
   },
   "outputs": [
    {
     "data": {
      "text/plain": [
       "array([[0, 0, 0],\n",
       "       [0, 0, 0]])"
      ]
     },
     "execution_count": 29,
     "metadata": {},
     "output_type": "execute_result"
    }
   ],
   "source": [
    "np.zeros_like(A)"
   ]
  },
  {
   "cell_type": "markdown",
   "metadata": {},
   "source": [
    "Las siguientes funciones son muy útiles cuando necesitamos crear un rango lineal o logarítmico usando\n",
    "\n",
    "Se especifica el inicio, el fin y el paso o cantidad de elementos:"
   ]
  },
  {
   "cell_type": "code",
   "execution_count": 30,
   "metadata": {},
   "outputs": [
    {
     "data": {
      "text/plain": [
       "array([0. , 0.5, 1. , 1.5, 2. , 2.5, 3. , 3.5, 4. , 4.5])"
      ]
     },
     "execution_count": 30,
     "metadata": {},
     "output_type": "execute_result"
    }
   ],
   "source": [
    "np.arange(start=0, stop=5, step=0.5)"
   ]
  },
  {
   "cell_type": "code",
   "execution_count": 31,
   "metadata": {},
   "outputs": [
    {
     "data": {
      "text/plain": [
       "array([ 0.,  1.,  2.,  3.,  4.,  5.,  6.,  7.,  8.,  9., 10.])"
      ]
     },
     "execution_count": 31,
     "metadata": {},
     "output_type": "execute_result"
    }
   ],
   "source": [
    "np.linspace(start=0, stop=10, num=11)"
   ]
  },
  {
   "cell_type": "code",
   "execution_count": 33,
   "metadata": {},
   "outputs": [
    {
     "data": {
      "text/plain": [
       "array([ 0.1       ,  0.31622777,  1.        ,  3.16227766, 10.        ])"
      ]
     },
     "execution_count": 33,
     "metadata": {},
     "output_type": "execute_result"
    }
   ],
   "source": [
    "np.logspace(start=-1, stop=1, num=5)"
   ]
  },
  {
   "cell_type": "markdown",
   "metadata": {},
   "source": [
    "## Manipulación de matrices y vectores\n",
    "\n",
    "Es usual que antes de operar un ndarray necesitemos cambiar su tamaño o número de dimensiones\n",
    "\n",
    "Algunas operaciones típicas para modificar la forma de un arreglo son: `reshape`, `tile`, `repeat`, `ravel` y `transpose`\n",
    "\n",
    "`reshape` reorganice las dimensiones de un arreglo pero debe preservar el tamaño"
   ]
  },
  {
   "cell_type": "code",
   "execution_count": 34,
   "metadata": {},
   "outputs": [
    {
     "data": {
      "text/plain": [
       "array([0, 1, 2, 3, 4, 5])"
      ]
     },
     "execution_count": 34,
     "metadata": {},
     "output_type": "execute_result"
    }
   ],
   "source": [
    "A = np.arange(6)\n",
    "A"
   ]
  },
  {
   "cell_type": "code",
   "execution_count": 35,
   "metadata": {},
   "outputs": [
    {
     "data": {
      "text/plain": [
       "array([[0, 1],\n",
       "       [2, 3],\n",
       "       [4, 5]])"
      ]
     },
     "execution_count": 35,
     "metadata": {},
     "output_type": "execute_result"
    }
   ],
   "source": [
    "np.reshape(A, (3, 2)) # Convierte 6 a 3x2"
   ]
  },
  {
   "cell_type": "code",
   "execution_count": 36,
   "metadata": {},
   "outputs": [
    {
     "data": {
      "text/plain": [
       "array([[0, 1, 2],\n",
       "       [3, 4, 5]])"
      ]
     },
     "execution_count": 36,
     "metadata": {},
     "output_type": "execute_result"
    }
   ],
   "source": [
    "np.reshape(A, (2, 3)) # Convierte 6 a 2x3"
   ]
  },
  {
   "cell_type": "markdown",
   "metadata": {},
   "source": [
    "`tile` repite el arreglo en una dirección dada"
   ]
  },
  {
   "cell_type": "code",
   "execution_count": 37,
   "metadata": {},
   "outputs": [
    {
     "data": {
      "text/plain": [
       "array([[0, 1, 2, 3, 4, 5],\n",
       "       [0, 1, 2, 3, 4, 5],\n",
       "       [0, 1, 2, 3, 4, 5],\n",
       "       [0, 1, 2, 3, 4, 5]])"
      ]
     },
     "execution_count": 37,
     "metadata": {},
     "output_type": "execute_result"
    }
   ],
   "source": [
    "np.tile(A, (4, 1)) # Repite 4 veces en la dirección de las filas"
   ]
  },
  {
   "cell_type": "code",
   "execution_count": 38,
   "metadata": {},
   "outputs": [
    {
     "data": {
      "text/plain": [
       "array([[0, 1, 2, 3, 4, 5, 0, 1, 2, 3, 4, 5]])"
      ]
     },
     "execution_count": 38,
     "metadata": {},
     "output_type": "execute_result"
    }
   ],
   "source": [
    "np.tile(A, (1, 2)) # Repite 2 veces en la dirección de las columnas"
   ]
  },
  {
   "cell_type": "markdown",
   "metadata": {},
   "source": [
    "`repeat` repite cada elemento en una dirección o eje dado"
   ]
  },
  {
   "cell_type": "code",
   "execution_count": 39,
   "metadata": {},
   "outputs": [
    {
     "data": {
      "text/plain": [
       "array([0, 0, 1, 1, 2, 2, 3, 3, 4, 4, 5, 5])"
      ]
     },
     "execution_count": 39,
     "metadata": {},
     "output_type": "execute_result"
    }
   ],
   "source": [
    "np.repeat(A, 2) # Cada elemento aparece dos veces "
   ]
  },
  {
   "cell_type": "code",
   "execution_count": 41,
   "metadata": {},
   "outputs": [
    {
     "data": {
      "text/plain": [
       "array([[0, 0, 1, 1],\n",
       "       [2, 2, 3, 3],\n",
       "       [4, 4, 5, 5]])"
      ]
     },
     "execution_count": 41,
     "metadata": {},
     "output_type": "execute_result"
    }
   ],
   "source": [
    "# Cada elemento/fila aparece dos veces en la dirección de las columnas\n",
    "np.repeat(A.reshape(3, 2), 2, axis=1)"
   ]
  },
  {
   "cell_type": "markdown",
   "metadata": {},
   "source": [
    "`ravel` es una función que aplana el ndarray y retorna un arreglo de una dimensión"
   ]
  },
  {
   "cell_type": "code",
   "execution_count": 44,
   "metadata": {
    "ExecuteTime": {
     "end_time": "2020-05-16T00:02:35.331447Z",
     "start_time": "2020-05-16T00:02:35.321801Z"
    }
   },
   "outputs": [
    {
     "data": {
      "text/plain": [
       "array([0., 0., 0., 0., 0., 0., 0., 0., 0.])"
      ]
     },
     "execution_count": 44,
     "metadata": {},
     "output_type": "execute_result"
    }
   ],
   "source": [
    "# Convierte una matriz de 3x3 en un arreglo de 9\n",
    "np.ravel(np.zeros(shape=(3, 3)))"
   ]
  },
  {
   "cell_type": "markdown",
   "metadata": {},
   "source": [
    "`transpose` puede utilizarse para intercambiar la posición de los ejes/dimensiones de un ndarray\n",
    "\n",
    "Tiene el mismo significado de la trasposición matricial\n",
    "\n",
    "<img src=\"img/transpose.jpg\" width=\"300\">\n",
    "\n",
    "Por ejemplo:"
   ]
  },
  {
   "cell_type": "code",
   "execution_count": 45,
   "metadata": {},
   "outputs": [
    {
     "data": {
      "text/plain": [
       "array([[0, 1, 2],\n",
       "       [3, 4, 5],\n",
       "       [6, 7, 8]])"
      ]
     },
     "execution_count": 45,
     "metadata": {},
     "output_type": "execute_result"
    }
   ],
   "source": [
    "A = np.arange(9).reshape(3, 3)\n",
    "A"
   ]
  },
  {
   "cell_type": "code",
   "execution_count": 46,
   "metadata": {
    "ExecuteTime": {
     "end_time": "2020-05-16T00:02:37.934718Z",
     "start_time": "2020-05-16T00:02:37.923818Z"
    }
   },
   "outputs": [
    {
     "data": {
      "text/plain": [
       "array([[0, 3, 6],\n",
       "       [1, 4, 7],\n",
       "       [2, 5, 8]])"
      ]
     },
     "execution_count": 46,
     "metadata": {},
     "output_type": "execute_result"
    }
   ],
   "source": [
    "np.transpose(A) # Equivalente a A.transpose() o A.T"
   ]
  },
  {
   "cell_type": "markdown",
   "metadata": {},
   "source": [
    "`transpose` puede usarse en ndarrays de cualquier dimensionalidad\n",
    "\n",
    "Podemos usar el argumento `axes` para especificar cuales dimensiones se van a intercambiar\n",
    "\n",
    "(Opcionalmente podemos usar la función `np.swapaxes()` para obtener le mismo efecto)"
   ]
  },
  {
   "cell_type": "code",
   "execution_count": 47,
   "metadata": {
    "ExecuteTime": {
     "end_time": "2020-05-16T00:02:38.587442Z",
     "start_time": "2020-05-16T00:02:38.577132Z"
    }
   },
   "outputs": [
    {
     "data": {
      "text/plain": [
       "array([[[0, 1],\n",
       "        [2, 3]],\n",
       "\n",
       "       [[4, 5],\n",
       "        [6, 7]]])"
      ]
     },
     "execution_count": 47,
     "metadata": {},
     "output_type": "execute_result"
    }
   ],
   "source": [
    "A = np.arange(8).reshape(2, 2, 2)\n",
    "A"
   ]
  },
  {
   "cell_type": "code",
   "execution_count": 48,
   "metadata": {},
   "outputs": [
    {
     "data": {
      "text/plain": [
       "array([[[0, 2],\n",
       "        [1, 3]],\n",
       "\n",
       "       [[4, 6],\n",
       "        [5, 7]]])"
      ]
     },
     "execution_count": 48,
     "metadata": {},
     "output_type": "execute_result"
    }
   ],
   "source": [
    "np.transpose(A, axes=(0, 2, 1))"
   ]
  },
  {
   "cell_type": "markdown",
   "metadata": {},
   "source": [
    "**Agregar dimensiones a un arreglo**\n",
    "\n",
    "En algunas ocasiones nos interesará extender un arreglo, agregándole dimensiones\n",
    "\n",
    "Consideremos el siguiente arreglo unidimensional"
   ]
  },
  {
   "cell_type": "code",
   "execution_count": 49,
   "metadata": {},
   "outputs": [
    {
     "name": "stdout",
     "output_type": "stream",
     "text": [
      "Dimensión: 1 , Tamaño:  (5,)\n"
     ]
    }
   ],
   "source": [
    "A = np.array([0, 1, 2, 3, 4]) \n",
    "print(\"Dimensión:\", A.ndim, \", Tamaño: \", A.shape)"
   ]
  },
  {
   "cell_type": "markdown",
   "metadata": {},
   "source": [
    "Como vimos antes podemos agregar una dimensión usando `reshape`, pero otra forma más simple es usando `np.newaxis` (un alias de `None`)\n",
    "\n",
    "Si queremos agregarle una dimensión al arreglo anterior podemos hacerlo a la derecha o a la izquierda\n",
    "\n",
    "Por ejemplo agregarle una dimensión a la derecha creará una matriz de $N\\times1$ o vector columna"
   ]
  },
  {
   "cell_type": "code",
   "execution_count": 50,
   "metadata": {},
   "outputs": [
    {
     "data": {
      "text/plain": [
       "array([[0],\n",
       "       [1],\n",
       "       [2],\n",
       "       [3],\n",
       "       [4]])"
      ]
     },
     "metadata": {},
     "output_type": "display_data"
    },
    {
     "name": "stdout",
     "output_type": "stream",
     "text": [
      "Dimensión: 2 , Tamaño:  (5, 1)\n"
     ]
    }
   ],
   "source": [
    "Amod = A[:, np.newaxis]\n",
    "display(Amod)\n",
    "print(\"Dimensión:\", Amod.ndim, \", Tamaño: \", Amod.shape)"
   ]
  },
  {
   "cell_type": "markdown",
   "metadata": {},
   "source": [
    "Mientras que agregarle una dimensión a la izquierda creará una matriz de $1\\times N$ o vector fila"
   ]
  },
  {
   "cell_type": "code",
   "execution_count": 51,
   "metadata": {},
   "outputs": [
    {
     "data": {
      "text/plain": [
       "array([[0, 1, 2, 3, 4]])"
      ]
     },
     "metadata": {},
     "output_type": "display_data"
    },
    {
     "name": "stdout",
     "output_type": "stream",
     "text": [
      "Dimensión: 2 , Tamaño:  (1, 5)\n"
     ]
    }
   ],
   "source": [
    "Amod = A[np.newaxis, :]\n",
    "display(Amod)\n",
    "print(\"Dimensión:\", Amod.ndim, \", Tamaño: \", Amod.shape)"
   ]
  },
  {
   "cell_type": "markdown",
   "metadata": {},
   "source": [
    "Algunas operaciones útiles para combinar arreglos son: `concatenate`, `vstack`, `hstack`\n",
    "\n",
    "`concatenate` es más general que las dos últimas"
   ]
  },
  {
   "cell_type": "code",
   "execution_count": 58,
   "metadata": {},
   "outputs": [
    {
     "data": {
      "text/plain": [
       "(array([[0, 1, 2, 3, 4]]), array([[1., 1., 1., 1., 1.]]))"
      ]
     },
     "execution_count": 58,
     "metadata": {},
     "output_type": "execute_result"
    }
   ],
   "source": [
    "A = np.arange(5).reshape(1, 5) \n",
    "B = np.ones(shape=(1, 5)) \n",
    "A, B"
   ]
  },
  {
   "cell_type": "code",
   "execution_count": 59,
   "metadata": {},
   "outputs": [
    {
     "data": {
      "text/plain": [
       "array([[0., 1., 2., 3., 4.],\n",
       "       [1., 1., 1., 1., 1.]])"
      ]
     },
     "execution_count": 59,
     "metadata": {},
     "output_type": "execute_result"
    }
   ],
   "source": [
    "np.concatenate((A, B), axis=0) # Combinar en eje filas"
   ]
  },
  {
   "cell_type": "code",
   "execution_count": 60,
   "metadata": {},
   "outputs": [
    {
     "data": {
      "text/plain": [
       "array([[0., 1., 2., 3., 4., 1., 1., 1., 1., 1.]])"
      ]
     },
     "execution_count": 60,
     "metadata": {},
     "output_type": "execute_result"
    }
   ],
   "source": [
    "np.concatenate((A, B), axis=1) # Combinar en eje columnas"
   ]
  },
  {
   "cell_type": "code",
   "execution_count": 61,
   "metadata": {},
   "outputs": [
    {
     "data": {
      "text/plain": [
       "array([[0., 1., 2., 3., 4.],\n",
       "       [1., 1., 1., 1., 1.]])"
      ]
     },
     "execution_count": 61,
     "metadata": {},
     "output_type": "execute_result"
    }
   ],
   "source": [
    "np.vstack((A, B)) # Combina siempre en fila"
   ]
  },
  {
   "cell_type": "code",
   "execution_count": 62,
   "metadata": {},
   "outputs": [
    {
     "data": {
      "text/plain": [
       "array([[0., 1., 2., 3., 4., 1., 1., 1., 1., 1.]])"
      ]
     },
     "execution_count": 62,
     "metadata": {},
     "output_type": "execute_result"
    }
   ],
   "source": [
    "np.hstack((A, B)) # Combina siempre en columna"
   ]
  },
  {
   "cell_type": "markdown",
   "metadata": {},
   "source": [
    "## Indexación y *slicing*\n",
    "\n",
    "Al igual que otros contenedores de Python los ndarray soportan *slicing*\n",
    "\n",
    ":::{note}\n",
    "\n",
    "Slicing es crear una arreglo a partir de una indexación sobre otro arreglo\n",
    "\n",
    ":::\n",
    "\n",
    "Sea por por ejemplo:"
   ]
  },
  {
   "cell_type": "code",
   "execution_count": 63,
   "metadata": {},
   "outputs": [
    {
     "data": {
      "text/plain": [
       "array([[0, 1, 2],\n",
       "       [3, 4, 5]])"
      ]
     },
     "execution_count": 63,
     "metadata": {},
     "output_type": "execute_result"
    }
   ],
   "source": [
    "L = [[0, 1, 2], [3, 4, 5]]\n",
    "A = np.array(L)\n",
    "A"
   ]
  },
  {
   "cell_type": "markdown",
   "metadata": {},
   "source": [
    "Para acceder al elemento en la segunda fila y primera columna usaríamos"
   ]
  },
  {
   "cell_type": "code",
   "execution_count": 64,
   "metadata": {},
   "outputs": [
    {
     "data": {
      "text/plain": [
       "3"
      ]
     },
     "execution_count": 64,
     "metadata": {},
     "output_type": "execute_result"
    }
   ],
   "source": [
    "L[1][0]"
   ]
  },
  {
   "cell_type": "markdown",
   "metadata": {},
   "source": [
    "En cambio en Numpy utilizamos"
   ]
  },
  {
   "cell_type": "code",
   "execution_count": 65,
   "metadata": {},
   "outputs": [
    {
     "data": {
      "text/plain": [
       "3"
      ]
     },
     "execution_count": 65,
     "metadata": {},
     "output_type": "execute_result"
    }
   ],
   "source": [
    "A[1, 0]"
   ]
  },
  {
   "cell_type": "markdown",
   "metadata": {},
   "source": [
    "El ndarray nos da mucha flexibilidad para hacer slicing"
   ]
  },
  {
   "cell_type": "code",
   "execution_count": 66,
   "metadata": {},
   "outputs": [
    {
     "data": {
      "text/plain": [
       "array([1, 4])"
      ]
     },
     "execution_count": 66,
     "metadata": {},
     "output_type": "execute_result"
    }
   ],
   "source": [
    "A[:, 1] # Retorna la segunda columna"
   ]
  },
  {
   "cell_type": "code",
   "execution_count": 67,
   "metadata": {},
   "outputs": [
    {
     "data": {
      "text/plain": [
       "array([0, 1, 2])"
      ]
     },
     "execution_count": 67,
     "metadata": {},
     "output_type": "execute_result"
    }
   ],
   "source": [
    "A[0, :] # Retorna la primera fila "
   ]
  },
  {
   "cell_type": "code",
   "execution_count": 68,
   "metadata": {},
   "outputs": [
    {
     "data": {
      "text/plain": [
       "array([3, 5])"
      ]
     },
     "execution_count": 68,
     "metadata": {},
     "output_type": "execute_result"
    }
   ],
   "source": [
    "A[1, ::2] # Retorna los elementos de la primera fila y columnas pares"
   ]
  },
  {
   "cell_type": "code",
   "execution_count": 69,
   "metadata": {},
   "outputs": [
    {
     "data": {
      "text/plain": [
       "4"
      ]
     },
     "execution_count": 69,
     "metadata": {},
     "output_type": "execute_result"
    }
   ],
   "source": [
    "A[-1, -2] # Retorna los elementos de la ultima fila y penultima columna"
   ]
  },
  {
   "cell_type": "markdown",
   "metadata": {},
   "source": [
    "También podemos usar arreglos de enteros para indexar otro arreglo (*fancy indexing*)"
   ]
  },
  {
   "cell_type": "code",
   "execution_count": 70,
   "metadata": {
    "ExecuteTime": {
     "end_time": "2020-05-16T00:02:43.769002Z",
     "start_time": "2020-05-16T00:02:43.760705Z"
    }
   },
   "outputs": [
    {
     "data": {
      "text/plain": [
       "array([0, 1, 4])"
      ]
     },
     "execution_count": 70,
     "metadata": {},
     "output_type": "execute_result"
    }
   ],
   "source": [
    "ix = np.array([0, 0, 1])\n",
    "iy = np.array([0, 1, 1])\n",
    "A[ix, iy] # Elementos [0,0], [0,1] y [1,1]"
   ]
  },
  {
   "cell_type": "markdown",
   "metadata": {},
   "source": [
    "También podemos indexar usando un arreglo de booleanos"
   ]
  },
  {
   "cell_type": "code",
   "execution_count": 71,
   "metadata": {
    "ExecuteTime": {
     "end_time": "2020-05-16T00:02:46.633407Z",
     "start_time": "2020-05-16T00:02:46.626376Z"
    }
   },
   "outputs": [
    {
     "data": {
      "text/plain": [
       "array([0, 3, 4])"
      ]
     },
     "metadata": {},
     "output_type": "display_data"
    }
   ],
   "source": [
    "A = np.array([0, 2, 1, 3, 4])\n",
    "B = np.array([True, False, False, True, True])\n",
    "display(A[B])"
   ]
  },
  {
   "cell_type": "markdown",
   "metadata": {},
   "source": [
    "La siguiente figura muestra de forma esquemática varios ejemplos de slices\n",
    "\n",
    "<img src=\"img/slicing.png\" width=\"700\">"
   ]
  },
  {
   "cell_type": "markdown",
   "metadata": {},
   "source": [
    ":::{warning}\n",
    "\n",
    "Algunas operaciones sobre arreglos no hacen copias (usan referencias)\n",
    "\n",
    ":::\n",
    "\n",
    "En particular cuando hacemos un slice, estamos modificando el arreglo original"
   ]
  },
  {
   "cell_type": "code",
   "execution_count": 72,
   "metadata": {
    "ExecuteTime": {
     "end_time": "2020-05-16T00:02:47.333289Z",
     "start_time": "2020-05-16T00:02:47.323775Z"
    }
   },
   "outputs": [
    {
     "data": {
      "text/plain": [
       "True"
      ]
     },
     "execution_count": 72,
     "metadata": {},
     "output_type": "execute_result"
    }
   ],
   "source": [
    "A = np.arange(100).reshape(10, 10)\n",
    "B = A\n",
    "B is A"
   ]
  },
  {
   "cell_type": "markdown",
   "metadata": {},
   "source": [
    "Si modifico A se ve reflejado en B"
   ]
  },
  {
   "cell_type": "code",
   "execution_count": 73,
   "metadata": {
    "ExecuteTime": {
     "end_time": "2020-05-16T00:02:47.847184Z",
     "start_time": "2020-05-16T00:02:47.842375Z"
    }
   },
   "outputs": [
    {
     "data": {
      "text/plain": [
       "array([[100, 100, 100, 100, 100,   5,   6,   7,   8,   9],\n",
       "       [100, 100, 100, 100, 100,  15,  16,  17,  18,  19],\n",
       "       [100, 100, 100, 100, 100,  25,  26,  27,  28,  29],\n",
       "       [100, 100, 100, 100, 100,  35,  36,  37,  38,  39],\n",
       "       [100, 100, 100, 100, 100,  45,  46,  47,  48,  49],\n",
       "       [ 50,  51,  52,  53,  54,  55,  56,  57,  58,  59],\n",
       "       [ 60,  61,  62,  63,  64,  65,  66,  67,  68,  69],\n",
       "       [ 70,  71,  72,  73,  74,  75,  76,  77,  78,  79],\n",
       "       [ 80,  81,  82,  83,  84,  85,  86,  87,  88,  89],\n",
       "       [ 90,  91,  92,  93,  94,  95,  96,  97,  98,  99]])"
      ]
     },
     "metadata": {},
     "output_type": "display_data"
    }
   ],
   "source": [
    "A[:5, :5] = 100\n",
    "display(B)"
   ]
  },
  {
   "cell_type": "markdown",
   "metadata": {},
   "source": [
    "Modificaciones en subarreglos (vistas) también son referenciadas"
   ]
  },
  {
   "cell_type": "code",
   "execution_count": 74,
   "metadata": {
    "ExecuteTime": {
     "end_time": "2020-05-16T00:02:51.610069Z",
     "start_time": "2020-05-16T00:02:51.603385Z"
    },
    "scrolled": true
   },
   "outputs": [
    {
     "data": {
      "text/plain": [
       "False"
      ]
     },
     "metadata": {},
     "output_type": "display_data"
    },
    {
     "data": {
      "text/plain": [
       "array([[100, 100, 100, 100, 100,   5,   6,   7,   8,   9],\n",
       "       [100, 100, 100, 100, 100,  15,  16,  17,  18,  19],\n",
       "       [100, 100, 100, 100, 100,  25,  26,  27,  28,  29],\n",
       "       [100, 100, 100, 100, 100,  35,  36,  37,  38,  39],\n",
       "       [100, 100, 100, 100, 100,  45,  46,  47,  48,  49],\n",
       "       [ 50,  51,  52,  53,  54,  55,  56,  57,  58,  59],\n",
       "       [ 60,  61,  62,  63,  64,  65,  66,  67,  68,  69],\n",
       "       [ 70,  71,  72,  73,  74,  75,  76,  77,  78,  79],\n",
       "       [ 80,  81,  82,  83,  84,  85,  86,  87,  88,  89],\n",
       "       [ 90,  91,  92,  93,  94,  95,  96,  97,  98,  99]])"
      ]
     },
     "metadata": {},
     "output_type": "display_data"
    }
   ],
   "source": [
    "A = np.arange(100).reshape(10, 10)\n",
    "B = A[:5, :5]\n",
    "display(B is A)\n",
    "B[:, :] = 100\n",
    "display(A)"
   ]
  },
  {
   "cell_type": "markdown",
   "metadata": {},
   "source": [
    "Si queremos evitar este comportamiento se puede forzar la creación de una copia con el método `copy()`"
   ]
  },
  {
   "cell_type": "code",
   "execution_count": 75,
   "metadata": {
    "ExecuteTime": {
     "end_time": "2020-05-16T00:02:52.563246Z",
     "start_time": "2020-05-16T00:02:52.555364Z"
    }
   },
   "outputs": [
    {
     "data": {
      "text/plain": [
       "array([100, 100, 100, 100, 100,   5,   6,   7,   8,   9])"
      ]
     },
     "metadata": {},
     "output_type": "display_data"
    }
   ],
   "source": [
    "B = A.copy()\n",
    "A[0, 0] = 0\n",
    "display(B[0])"
   ]
  },
  {
   "cell_type": "markdown",
   "metadata": {},
   "source": [
    "## Operaciones sobre ndarray\n",
    "\n",
    "### Operaciones aritméticas y *Broadcasting* \n",
    "\n",
    "Los ndarray soportan las operaciones aritméticas básicas\n",
    "\n",
    "- Suma:  +, +=\n",
    "- Resta: -, -=\n",
    "- Multiplicación:  *,*= \n",
    "- División: /, /=\n",
    "- División entera: //, //=\n",
    "- Exponenciación: ** , **=\n",
    "\n",
    "Estas operaciones tienen un comportamiento element-wise (elemento a elemento), es decir\n",
    "\n",
    "$$\n",
    "\\pmatrix{0 & 1 \\\\2 & 3 } \\cdot \\pmatrix{1 & 5 \\\\2 & 2 } = \\pmatrix{0 & 5 \\\\4 & 6 }\n",
    "$$\n",
    "\n",
    "Veamos algunos ejemplos:"
   ]
  },
  {
   "cell_type": "code",
   "execution_count": 76,
   "metadata": {},
   "outputs": [
    {
     "data": {
      "text/plain": [
       "(array([[1., 0., 0.],\n",
       "        [0., 1., 0.],\n",
       "        [0., 0., 1.]]),\n",
       " array([[1., 1., 1.],\n",
       "        [1., 1., 1.],\n",
       "        [1., 1., 1.]]))"
      ]
     },
     "execution_count": 76,
     "metadata": {},
     "output_type": "execute_result"
    }
   ],
   "source": [
    "N = 3\n",
    "A = np.eye(N)\n",
    "B = np.ones(shape=(N, N))\n",
    "A, B"
   ]
  },
  {
   "cell_type": "code",
   "execution_count": 77,
   "metadata": {
    "ExecuteTime": {
     "end_time": "2020-05-16T00:21:02.455706Z",
     "start_time": "2020-05-16T00:21:02.443045Z"
    },
    "scrolled": true
   },
   "outputs": [
    {
     "data": {
      "text/plain": [
       "array([[2., 1., 1.],\n",
       "       [1., 2., 1.],\n",
       "       [1., 1., 2.]])"
      ]
     },
     "execution_count": 77,
     "metadata": {},
     "output_type": "execute_result"
    }
   ],
   "source": [
    "A + B "
   ]
  },
  {
   "cell_type": "code",
   "execution_count": 78,
   "metadata": {},
   "outputs": [
    {
     "data": {
      "text/plain": [
       "array([[1., 0., 0.],\n",
       "       [0., 1., 0.],\n",
       "       [0., 0., 1.]])"
      ]
     },
     "execution_count": 78,
     "metadata": {},
     "output_type": "execute_result"
    }
   ],
   "source": [
    "A*B"
   ]
  },
  {
   "cell_type": "markdown",
   "metadata": {},
   "source": [
    ":::{note}\n",
    "\n",
    "El operador * no corresponde a la multiplicación de matrices sino a la multiplicación elemento por elemento\n",
    "\n",
    ":::"
   ]
  },
  {
   "cell_type": "markdown",
   "metadata": {},
   "source": [
    "**Broadcasting**\n",
    "\n",
    "Cuando los ndarray que estamos operando no son del mismo tamaño se hace un *broadcast*\n",
    "\n",
    "Por ejemplo si operamos una constante con un arreglo, la constante se opera con cada elemento del arreglo"
   ]
  },
  {
   "cell_type": "code",
   "execution_count": 79,
   "metadata": {
    "ExecuteTime": {
     "end_time": "2020-05-16T00:21:57.573634Z",
     "start_time": "2020-05-16T00:21:57.564219Z"
    }
   },
   "outputs": [
    {
     "data": {
      "text/plain": [
       "array([[ 0., -1., -1.],\n",
       "       [-1.,  0., -1.],\n",
       "       [-1., -1.,  0.]])"
      ]
     },
     "execution_count": 79,
     "metadata": {},
     "output_type": "execute_result"
    }
   ],
   "source": [
    "A - 1"
   ]
  },
  {
   "cell_type": "markdown",
   "metadata": {},
   "source": [
    "Las siguientes son las reglas automáticas de broadcasting\n",
    "\n",
    "1. Si dos arreglos son de dimensiones distintas la dimensión del más pequeño se agranda con \"1\"s **por la izquierda**\n",
    "1. Si dos arreglos tienen tamaños ditintos, el que tiene tamaño \"1\" se estira en dicha dimensión\n",
    "1. Si en cualquier dimensión los tamaños son distintos y ninguno es igual a \"1\" ocurre un error\n",
    "\n",
    "\n",
    "<img src=\"img/broadcast.png\" width=\"550\">\n",
    "\n",
    "Imagen tomada del [Python Data Science Handbook](https://jakevdp.github.io/PythonDataScienceHandbook/06.00-figure-code.html#Broadcasting)"
   ]
  },
  {
   "cell_type": "markdown",
   "metadata": {},
   "source": [
    "Observe los siguientes ejemplos y reflexione sobre las reglas de broadcast que se está aplicando en cada caso"
   ]
  },
  {
   "cell_type": "code",
   "execution_count": 80,
   "metadata": {},
   "outputs": [
    {
     "data": {
      "text/plain": [
       "(array([0, 1, 2]),\n",
       " array([[1., 1., 1.],\n",
       "        [1., 1., 1.],\n",
       "        [1., 1., 1.]]))"
      ]
     },
     "execution_count": 80,
     "metadata": {},
     "output_type": "execute_result"
    }
   ],
   "source": [
    "C = np.arange(N)\n",
    "B = np.ones(shape=(N, N))\n",
    "C, B"
   ]
  },
  {
   "cell_type": "code",
   "execution_count": 81,
   "metadata": {},
   "outputs": [
    {
     "data": {
      "text/plain": [
       "array([[1., 2., 3.],\n",
       "       [1., 2., 3.],\n",
       "       [1., 2., 3.]])"
      ]
     },
     "execution_count": 81,
     "metadata": {},
     "output_type": "execute_result"
    }
   ],
   "source": [
    "B+C"
   ]
  },
  {
   "cell_type": "code",
   "execution_count": 82,
   "metadata": {},
   "outputs": [
    {
     "data": {
      "text/plain": [
       "array([[1., 1., 1.],\n",
       "       [2., 2., 2.],\n",
       "       [3., 3., 3.]])"
      ]
     },
     "execution_count": 82,
     "metadata": {},
     "output_type": "execute_result"
    }
   ],
   "source": [
    "B + C.reshape(-1, 1)"
   ]
  },
  {
   "cell_type": "code",
   "execution_count": 83,
   "metadata": {
    "ExecuteTime": {
     "end_time": "2020-05-16T00:22:39.646437Z",
     "start_time": "2020-05-16T00:22:39.637991Z"
    }
   },
   "outputs": [
    {
     "data": {
      "text/plain": [
       "array([[0, 1, 2],\n",
       "       [1, 2, 3],\n",
       "       [2, 3, 4]])"
      ]
     },
     "execution_count": 83,
     "metadata": {},
     "output_type": "execute_result"
    }
   ],
   "source": [
    "C.reshape(1, N) + C.reshape(N, 1)"
   ]
  },
  {
   "cell_type": "markdown",
   "metadata": {},
   "source": [
    "**Operaciones matriciales**\n",
    "\n",
    "Antes dijimos que la multiplicación con `*` se realiza elemento a elemento\n",
    "\n",
    "Para realizar una multiplicación matricial propiamente tal podemos usar `dot` o el operador `@`"
   ]
  },
  {
   "cell_type": "code",
   "execution_count": 84,
   "metadata": {
    "ExecuteTime": {
     "end_time": "2020-05-16T00:35:02.211070Z",
     "start_time": "2020-05-16T00:35:02.194021Z"
    }
   },
   "outputs": [
    {
     "data": {
      "text/plain": [
       "(array([[0, 1],\n",
       "        [2, 3]]),\n",
       " array([[3, 2],\n",
       "        [1, 0]]))"
      ]
     },
     "execution_count": 84,
     "metadata": {},
     "output_type": "execute_result"
    }
   ],
   "source": [
    "A = np.arange(4).reshape(2, 2)\n",
    "B = np.arange(4)[::-1].reshape(2, 2)\n",
    "A, B "
   ]
  },
  {
   "cell_type": "markdown",
   "metadata": {},
   "source": [
    "Note la diferencia:"
   ]
  },
  {
   "cell_type": "code",
   "execution_count": 85,
   "metadata": {},
   "outputs": [
    {
     "data": {
      "text/plain": [
       "array([[0, 2],\n",
       "       [2, 0]])"
      ]
     },
     "execution_count": 85,
     "metadata": {},
     "output_type": "execute_result"
    }
   ],
   "source": [
    "A*B"
   ]
  },
  {
   "cell_type": "code",
   "execution_count": 86,
   "metadata": {},
   "outputs": [
    {
     "data": {
      "text/plain": [
       "array([[1, 0],\n",
       "       [9, 4]])"
      ]
     },
     "execution_count": 86,
     "metadata": {},
     "output_type": "execute_result"
    }
   ],
   "source": [
    "np.dot(A, B)"
   ]
  },
  {
   "cell_type": "markdown",
   "metadata": {
    "ExecuteTime": {
     "end_time": "2020-05-14T23:52:21.123842Z",
     "start_time": "2020-05-14T23:52:21.119785Z"
    }
   },
   "source": [
    "Otras operaciones matricionales útiles son:\n",
    "\n",
    "- `np.inner` que calcula el producto escalar o producto interno\n",
    "- `np.outer` que calcula el producto externo\n",
    "- `np.cross` que calcula  cruz"
   ]
  },
  {
   "cell_type": "markdown",
   "metadata": {
    "ExecuteTime": {
     "end_time": "2020-05-14T23:53:14.986015Z",
     "start_time": "2020-05-14T23:53:14.980209Z"
    }
   },
   "source": [
    "El módulo  [`linalg`](https://numpy.org/doc/stable/reference/routines.linalg.html) de NumPy contiene muchas más funciones de álgebra lineal que nos permiten \n",
    "\n",
    "- Calcular matriz inversa, determinantes y trazas\n",
    "- Resolver sistemas lineales\n",
    "- Factorizar matrices\n",
    "- Calcular valores y vectores propios\n",
    "\n",
    "entre otros. Este módulo será estudiando en una lección siguiente"
   ]
  },
  {
   "cell_type": "markdown",
   "metadata": {},
   "source": [
    "### Operaciones de reducción\n",
    "\n",
    "Una **reducción** es una operación que **agrega** los valores de un arreglo entregando un único valor como respuesta\n",
    "\n",
    "La reducción más básica es la **suma agregada**\n",
    "\n",
    "$$\n",
    "[0, 1, 2, 4, 3] \\rightarrow 0 + 1 + 2 + 4 + 3 = 10 \n",
    "$$\n",
    "\n",
    "\n",
    "Algunas de las reducciones disponibles en NumPy son:\n",
    "\n",
    "- `sum`, `prod`\n",
    "- `amax`, `amin`, `argmax`, `argmin`\n",
    "- `mean`, `std`, `var`, `percentile`, `median`\n",
    "- `cumsum`, `cumprod`\n",
    "\n",
    ":::{note}\n",
    "\n",
    "Las reducciones pueden realizar al ndarray completo o a un subconjunto de sus ejes\n",
    "\n",
    ":::"
   ]
  },
  {
   "cell_type": "markdown",
   "metadata": {},
   "source": [
    "Diferencia entre sumar en el eje de filas, columnas y suma total:"
   ]
  },
  {
   "cell_type": "code",
   "execution_count": 94,
   "metadata": {},
   "outputs": [
    {
     "data": {
      "text/plain": [
       "array([[0, 1, 2],\n",
       "       [0, 1, 2]])"
      ]
     },
     "execution_count": 94,
     "metadata": {},
     "output_type": "execute_result"
    }
   ],
   "source": [
    "A = np.tile(np.arange(3), (2, 1))\n",
    "A"
   ]
  },
  {
   "cell_type": "code",
   "execution_count": 95,
   "metadata": {},
   "outputs": [
    {
     "data": {
      "text/plain": [
       "array([0, 2, 4])"
      ]
     },
     "execution_count": 95,
     "metadata": {},
     "output_type": "execute_result"
    }
   ],
   "source": [
    "np.sum(A, axis=0)"
   ]
  },
  {
   "cell_type": "code",
   "execution_count": 96,
   "metadata": {},
   "outputs": [
    {
     "data": {
      "text/plain": [
       "array([3, 3])"
      ]
     },
     "execution_count": 96,
     "metadata": {},
     "output_type": "execute_result"
    }
   ],
   "source": [
    "np.sum(A, axis=1)"
   ]
  },
  {
   "cell_type": "code",
   "execution_count": 97,
   "metadata": {},
   "outputs": [
    {
     "data": {
      "text/plain": [
       "6"
      ]
     },
     "execution_count": 97,
     "metadata": {},
     "output_type": "execute_result"
    }
   ],
   "source": [
    "np.sum(A)"
   ]
  },
  {
   "cell_type": "markdown",
   "metadata": {},
   "source": [
    "Encontrar el valor y posición del máximo en un arreglo es también un tipo de reducción"
   ]
  },
  {
   "cell_type": "code",
   "execution_count": 98,
   "metadata": {},
   "outputs": [
    {
     "data": {
      "text/plain": [
       "array([[-0.70573115, -1.82654396,  0.18613106],\n",
       "       [-0.32164857, -0.14467746, -1.8050291 ]])"
      ]
     },
     "execution_count": 98,
     "metadata": {},
     "output_type": "execute_result"
    }
   ],
   "source": [
    "A = np.random.randn(2, 3)\n",
    "A"
   ]
  },
  {
   "cell_type": "code",
   "execution_count": 99,
   "metadata": {
    "ExecuteTime": {
     "end_time": "2020-05-16T00:39:45.794940Z",
     "start_time": "2020-05-16T00:39:45.778270Z"
    }
   },
   "outputs": [
    {
     "data": {
      "text/plain": [
       "array([-0.32164857, -0.14467746,  0.18613106])"
      ]
     },
     "execution_count": 99,
     "metadata": {},
     "output_type": "execute_result"
    }
   ],
   "source": [
    "np.amax(A, axis=0) # El valor del máximo en el eje 0 para cada \n"
   ]
  },
  {
   "cell_type": "markdown",
   "metadata": {},
   "source": [
    "Las operaciones de reducción de NumPy son altamente eficientes\n",
    "\n",
    "Hagamos una pequeña prueba de desempeño sumando  un vector\n",
    "\n",
    "Usaremos la magia de IPython `@timeit` que nos permite medir tiempo de cómputo"
   ]
  },
  {
   "cell_type": "code",
   "execution_count": null,
   "metadata": {
    "ExecuteTime": {
     "end_time": "2020-05-16T00:41:57.444424Z",
     "start_time": "2020-05-16T00:41:49.763494Z"
    }
   },
   "outputs": [],
   "source": [
    "A = np.arange(100000)\n",
    "\n",
    "def suma_loop(arreglo):\n",
    "    suma = 0.\n",
    "    for elemento in arreglo:\n",
    "        suma += elemento\n",
    "    return suma\n",
    "\n",
    "L = list(A)\n",
    "%timeit -n10 suma_loop(A)\n",
    "%timeit -n10 suma_loop(L)\n",
    "%timeit -n10 sum(A)\n",
    "%timeit -n10 sum(L)\n",
    "%timeit -n10 np.sum(L)\n",
    "%timeit -n10 np.sum(A)\n",
    "\n",
    "display(np.sum(A))\n",
    "display(sum(L))"
   ]
  },
  {
   "cell_type": "markdown",
   "metadata": {},
   "source": [
    "Muchas de estas funciones están implementadas como métodos de la clase arreglo, por ejemplo"
   ]
  },
  {
   "cell_type": "code",
   "execution_count": null,
   "metadata": {
    "ExecuteTime": {
     "end_time": "2020-05-15T00:40:36.139436Z",
     "start_time": "2020-05-15T00:40:36.127316Z"
    }
   },
   "outputs": [],
   "source": [
    "display(A.sum())\n",
    "display(A.max(axis=0))\n",
    "display(A.min())"
   ]
  },
  {
   "cell_type": "markdown",
   "metadata": {},
   "source": [
    "También cuentan con versiones seguras contra NaNs"
   ]
  },
  {
   "cell_type": "code",
   "execution_count": null,
   "metadata": {
    "ExecuteTime": {
     "end_time": "2020-05-16T00:44:00.254762Z",
     "start_time": "2020-05-16T00:44:00.247889Z"
    }
   },
   "outputs": [],
   "source": [
    "A = np.array([1., 10., 2., np.nan])\n",
    "display(np.sum(A))\n",
    "display(np.nansum(A))"
   ]
  },
  {
   "cell_type": "markdown",
   "metadata": {},
   "source": [
    "**Nota:** Si queremos encontrar los NaN en un arreglo podemos usar `isnan` "
   ]
  },
  {
   "cell_type": "code",
   "execution_count": null,
   "metadata": {
    "ExecuteTime": {
     "end_time": "2020-05-16T00:45:03.177050Z",
     "start_time": "2020-05-16T00:45:03.168364Z"
    }
   },
   "outputs": [],
   "source": [
    "np.isnan(A)"
   ]
  },
  {
   "cell_type": "markdown",
   "metadata": {},
   "source": [
    "### Operaciones vectorizadas\n",
    "\n",
    "Son funciones que operan de forma *element-wise* o elemento a elemento\n",
    "\n",
    "Ya vimos las operaciones aritméticas elemento a elemento pero existen muchas más\n",
    "\n",
    "Por ejemplo para calcular el valor absoluto de los elementos de un arreglo"
   ]
  },
  {
   "cell_type": "code",
   "execution_count": null,
   "metadata": {
    "ExecuteTime": {
     "end_time": "2020-05-16T00:45:45.762104Z",
     "start_time": "2020-05-16T00:45:45.748228Z"
    }
   },
   "outputs": [],
   "source": [
    "A = np.random.randn(3, 3)\n",
    "display(A)\n",
    "np.absolute(A) # Equivalente a np.abs(A)"
   ]
  },
  {
   "cell_type": "markdown",
   "metadata": {},
   "source": [
    "Exponenciar un arreglo"
   ]
  },
  {
   "cell_type": "code",
   "execution_count": null,
   "metadata": {
    "ExecuteTime": {
     "end_time": "2020-05-16T00:46:06.639128Z",
     "start_time": "2020-05-16T00:46:06.628539Z"
    }
   },
   "outputs": [],
   "source": [
    "x = np.arange(10)\n",
    "display(np.power(x, 2)) # Equivalente a x**2\n",
    "display(np.sqrt(x))"
   ]
  },
  {
   "cell_type": "markdown",
   "metadata": {},
   "source": [
    "Calcular funciones exponencial, logaritmo y trigonométricas  a partir de una arreglo"
   ]
  },
  {
   "cell_type": "code",
   "execution_count": null,
   "metadata": {
    "ExecuteTime": {
     "end_time": "2020-05-16T00:46:22.277359Z",
     "start_time": "2020-05-16T00:46:22.253545Z"
    }
   },
   "outputs": [],
   "source": [
    "x = np.array([0.1, 1., 10.0])\n",
    "display(np.log(x)) # También está log2, log10\n",
    "display(np.exp(x)) \n",
    "display(np.sin(x)) # También está arcsin, sinh\n",
    "display(np.cos(x)) # También está arccos, cosh\n",
    "display(np.tan(x)) #También está arctan, tanh"
   ]
  },
  {
   "cell_type": "markdown",
   "metadata": {},
   "source": [
    "Otras funciones útiles: \n",
    "\n",
    "- Para obtener el signo de cada elemento de un arreglo: `sign`\n",
    "- Para obtener un arreglo de 1 dividido los elementos del mismo: `reciprocal`\n",
    "- Para redondear hacia abajo o hacia arriba: `round`, `floor` y `ciel`\n",
    "- Para obtener la parte real o imaginaria de un número complejo: `real`, `imag`\n",
    "- O el conjugado de un número complejo: `conj`, "
   ]
  },
  {
   "cell_type": "markdown",
   "metadata": {},
   "source": [
    "### Operaciones booleanas \n",
    "\n",
    "NumPy soporta operaciones booleanas sobre ndarray"
   ]
  },
  {
   "cell_type": "code",
   "execution_count": null,
   "metadata": {
    "ExecuteTime": {
     "end_time": "2020-05-16T00:46:53.987064Z",
     "start_time": "2020-05-16T00:46:53.970217Z"
    }
   },
   "outputs": [],
   "source": [
    "A = np.arange(6).reshape(2, 3)\n",
    "display(A)\n",
    "display(A == 4)\n",
    "display(np.equal(A, 4))"
   ]
  },
  {
   "cell_type": "markdown",
   "metadata": {},
   "source": [
    "Como vimos antes podemos crear una máscara booleana para indexar un arreglo"
   ]
  },
  {
   "cell_type": "code",
   "execution_count": null,
   "metadata": {
    "ExecuteTime": {
     "end_time": "2020-05-16T00:47:56.874179Z",
     "start_time": "2020-05-16T00:47:56.864752Z"
    }
   },
   "outputs": [],
   "source": [
    "mask = ~(A % 2 == 0) & (A > 2)\n",
    "display(mask)\n",
    "display(A[mask])"
   ]
  },
  {
   "cell_type": "markdown",
   "metadata": {},
   "source": [
    "La función `where` sirve para recuperar el índice de los elementos que cumplen una cierta condición"
   ]
  },
  {
   "cell_type": "code",
   "execution_count": null,
   "metadata": {
    "ExecuteTime": {
     "end_time": "2020-05-16T00:48:26.975345Z",
     "start_time": "2020-05-16T00:48:26.961679Z"
    }
   },
   "outputs": [],
   "source": [
    "(ixs, iys) = np.where(~(A % 2 == 0) & (A > 2))\n",
    "\n",
    "for i, j in zip(ixs, iys):\n",
    "    display(\"Fila {0} Columna {1} Valor {2}\".format(i, j, A[i, j]))"
   ]
  },
  {
   "cell_type": "markdown",
   "metadata": {},
   "source": [
    "Funciones `any` y `all`"
   ]
  },
  {
   "cell_type": "code",
   "execution_count": null,
   "metadata": {
    "ExecuteTime": {
     "end_time": "2020-05-16T00:49:26.977938Z",
     "start_time": "2020-05-16T00:49:26.967224Z"
    }
   },
   "outputs": [],
   "source": [
    "x = np.random.randn(3, 3)\n",
    "display(x)\n",
    "b = (x > 0) & (x**2 > 0.5)\n",
    "display(b)\n",
    "\n",
    "display(np.any(b))\n",
    "display(np.all(b))"
   ]
  },
  {
   "cell_type": "markdown",
   "metadata": {},
   "source": [
    "### Operaciónes de conjutos\n",
    "\n",
    "Operaciones de tipo union, intersección y diferencia entre arreglos 1D\n",
    "\n",
    "Si se les entrega un arreglo de mayor dimensión este se aplanará automaticamente"
   ]
  },
  {
   "cell_type": "code",
   "execution_count": null,
   "metadata": {
    "ExecuteTime": {
     "end_time": "2020-05-16T00:50:16.965342Z",
     "start_time": "2020-05-16T00:50:16.956741Z"
    }
   },
   "outputs": [],
   "source": [
    "A = np.arange(6)\n",
    "B = np.array([0, 1, 10, 100])\n",
    "display(A, \n",
    "        B)"
   ]
  },
  {
   "cell_type": "markdown",
   "metadata": {},
   "source": [
    "La unión e intersección, respectivamente:"
   ]
  },
  {
   "cell_type": "code",
   "execution_count": null,
   "metadata": {
    "ExecuteTime": {
     "end_time": "2020-05-16T00:50:41.238406Z",
     "start_time": "2020-05-16T00:50:41.218850Z"
    }
   },
   "outputs": [],
   "source": [
    "display(np.union1d(A, B),\n",
    "        np.intersect1d(A, B))"
   ]
  },
  {
   "cell_type": "markdown",
   "metadata": {},
   "source": [
    "O los elementos que existen a A y no en B (y viceversa)"
   ]
  },
  {
   "cell_type": "code",
   "execution_count": null,
   "metadata": {},
   "outputs": [],
   "source": [
    "display(np.setdiff1d(A, B),\n",
    "        np.setdiff1d(B, A))"
   ]
  },
  {
   "cell_type": "markdown",
   "metadata": {},
   "source": [
    "### Ordenando arreglos\n",
    "\n",
    "NumPy provee la función `np.sort` para ordernar un ndarray\n",
    "\n",
    "Se puede usar el argumento `kind` para escoger distintos algoritmos de ordenamiento (por defecto quicksort)\n",
    "\n",
    "El argumento `axis` especifica que eje se va a ordenar"
   ]
  },
  {
   "cell_type": "code",
   "execution_count": null,
   "metadata": {
    "ExecuteTime": {
     "end_time": "2020-05-16T00:51:53.068684Z",
     "start_time": "2020-05-16T00:51:53.055167Z"
    }
   },
   "outputs": [],
   "source": [
    "A = np.random.randn(2, 2)\n",
    "display(A)\n",
    "display(np.sort(A, axis=1))\n",
    "display(np.sort(A, axis=0))\n",
    "display(np.sort(A, axis=None))"
   ]
  },
  {
   "cell_type": "markdown",
   "metadata": {},
   "source": [
    "La función `np.argsort` entrega un arreglo de índices que ordena el arreglo de menor a mayor"
   ]
  },
  {
   "cell_type": "code",
   "execution_count": null,
   "metadata": {
    "ExecuteTime": {
     "end_time": "2020-05-16T00:53:18.916647Z",
     "start_time": "2020-05-16T00:53:18.908467Z"
    }
   },
   "outputs": [],
   "source": [
    "A = np.array([\"A\", \"B\", \"C\"])\n",
    "B = np.array([2, 4, 1])\n",
    "\n",
    "idx = np.argsort(B)\n",
    "display(idx)\n",
    "display(A[idx])"
   ]
  },
  {
   "cell_type": "markdown",
   "metadata": {},
   "source": [
    "**Ordenamiento en memoria de ndarray**\n",
    "\n",
    "Por defecto un ndarray multidimensional se ordena en memoria siguiente un formato `row-major` similar a la convención usada en `C`. Alternativamente un arreglo se puede guardar en formato `column-major` similar a la convención usada en `Fortran`. La siguiente figura muestra la diferencia\n",
    "\n",
    "<img src=\"img/rowcolmajor.png\" width=\"600\">\n",
    "\n",
    "El atributo `order` nos permite seleccionar el ordenamiento al momento de crear el arreglo\n",
    "\n",
    "También se puede verificar el ordenamiento de un ndarray leyendo su atributo `flags`\n",
    "\n",
    "- Si tiene el flag `C_CONTIGUOUS` verdadero entonces es `row major`\n",
    "- Si tiene el flag `F_CONTIGUOUS` verdadero entonces es `column major`\n"
   ]
  },
  {
   "cell_type": "code",
   "execution_count": null,
   "metadata": {
    "ExecuteTime": {
     "end_time": "2020-05-16T00:02:27.022441Z",
     "start_time": "2020-05-16T00:02:27.013314Z"
    }
   },
   "outputs": [],
   "source": [
    "A = np.array(L)\n",
    "display(A)\n",
    "display(A.flags['C_CONTIGUOUS']) # Por defecto es True\n",
    "\n",
    "A = np.array(L, order='F')\n",
    "display(A)\n",
    "display(A.flags['C_CONTIGUOUS'])"
   ]
  },
  {
   "cell_type": "markdown",
   "metadata": {},
   "source": [
    "El diccionario `flags` contiene los siguientes valores:"
   ]
  },
  {
   "cell_type": "code",
   "execution_count": null,
   "metadata": {},
   "outputs": [],
   "source": [
    "A.flags"
   ]
  }
 ],
 "metadata": {
  "kernelspec": {
   "display_name": "Python 3 (ipykernel)",
   "language": "python",
   "name": "python3"
  },
  "language_info": {
   "codemirror_mode": {
    "name": "ipython",
    "version": 3
   },
   "file_extension": ".py",
   "mimetype": "text/x-python",
   "name": "python",
   "nbconvert_exporter": "python",
   "pygments_lexer": "ipython3",
   "version": "3.8.12"
  },
  "toc": {
   "base_numbering": 1,
   "nav_menu": {},
   "number_sections": true,
   "sideBar": true,
   "skip_h1_title": false,
   "title_cell": "Table of Contents",
   "title_sidebar": "Contents",
   "toc_cell": false,
   "toc_position": {},
   "toc_section_display": true,
   "toc_window_display": false
  }
 },
 "nbformat": 4,
 "nbformat_minor": 2
}
