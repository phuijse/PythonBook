{
 "cells": [
  {
   "cell_type": "markdown",
   "metadata": {},
   "source": [
    "# Otros lenguajes en Jupyter  \n",
    "\n",
    "A lo largo de este libro se trabaja principalmente con Python y con el kernel de IPython para jupyter \n",
    "\n",
    "Sin embargo existe una lista de kernels desarrollados por la [comunidad](https://github.com/jupyter/jupyter/wiki/Jupyter-kernels) para otros lenguajes \n",
    "\n",
    "- [IRkernel](https://github.com/IRkernel/IRkernel) o [r2py](https://rpy2.bitbucket.io/) (con extensión `r2py.ipython`)\n",
    "- [IJulia](https://github.com/JuliaLang/IJulia.jl)\n",
    "- [Ijavascript](https://github.com/n-riesco/ijavascript)\n",
    "- [IHaskell](https://github.com/gibiansky/IHaskell)\n",
    "- [IRuby](https://github.com/sciruby/iruby)\n",
    "- [IElixir](https://github.com/pprzetacznik/IElixir)\n",
    "- [Xeus Cling](https://github.com/QuantStack/xeus-cling) (C++)\n",
    "\n",
    ":::{note]\n",
    "\n",
    "Algunos de estos se pueden probar en [jupyter.org/try](https://jupyter.org/try)\n",
    "\n",
    ":::\n",
    "\n",
    "También hay lenguajes que tienen magias oficiales para usarse dentro del kernel de Python. Estos requieren que sus ejecutables respectivos estén disponibles\n",
    "\n",
    "Por ejemplo"
   ]
  },
  {
   "cell_type": "code",
   "execution_count": 1,
   "metadata": {},
   "outputs": [
    {
     "name": "stdout",
     "output_type": "stream",
     "text": [
      "Hello, world!\n"
     ]
    }
   ],
   "source": [
    "%%bash\n",
    "\n",
    "echo \"Hello, world!\" "
   ]
  },
  {
   "cell_type": "code",
   "execution_count": 2,
   "metadata": {},
   "outputs": [
    {
     "name": "stdout",
     "output_type": "stream",
     "text": [
      "Hello, World!\n"
     ]
    }
   ],
   "source": [
    "%%perl\n",
    "print \"Hello, World!\\n\";"
   ]
  },
  {
   "cell_type": "code",
   "execution_count": 3,
   "metadata": {},
   "outputs": [
    {
     "name": "stdout",
     "output_type": "stream",
     "text": [
      "Hello, world!\n"
     ]
    }
   ],
   "source": [
    "%%ruby\n",
    "\n",
    "puts 'Hello, world!'"
   ]
  },
  {
   "cell_type": "code",
   "execution_count": null,
   "metadata": {},
   "outputs": [],
   "source": []
  }
 ],
 "metadata": {
  "kernelspec": {
   "display_name": "Python 3 (ipykernel)",
   "language": "python",
   "name": "python3"
  },
  "language_info": {
   "codemirror_mode": {
    "name": "ipython",
    "version": 3
   },
   "file_extension": ".py",
   "mimetype": "text/x-python",
   "name": "python",
   "nbconvert_exporter": "python",
   "pygments_lexer": "ipython3",
   "version": "3.8.12"
  },
  "toc": {
   "base_numbering": 1,
   "nav_menu": {},
   "number_sections": true,
   "sideBar": true,
   "skip_h1_title": false,
   "title_cell": "Table of Contents",
   "title_sidebar": "Contents",
   "toc_cell": false,
   "toc_position": {},
   "toc_section_display": true,
   "toc_window_display": false
  }
 },
 "nbformat": 4,
 "nbformat_minor": 2
}
