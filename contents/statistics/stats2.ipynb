{
 "cells": [
  {
   "cell_type": "code",
   "execution_count": null,
   "metadata": {
    "ExecuteTime": {
     "end_time": "2020-07-21T01:59:00.678608Z",
     "start_time": "2020-07-21T01:58:59.791124Z"
    }
   },
   "outputs": [],
   "source": [
    "%matplotlib inline\n",
    "import numpy as np\n",
    "import pandas as pd\n",
    "import scipy.stats\n",
    "import matplotlib.pyplot as plt\n",
    "\n",
    "from matplotlib import animation\n",
    "from matplotlib import rcParams\n",
    "rcParams['figure.dpi'] = 120\n",
    "from IPython.display import HTML\n",
    "from IPython.display import YouTubeVideo\n",
    "from functools import partial\n",
    "YouTubeVideo_formato = partial(YouTubeVideo, modestbranding=1, disablekb=0,\n",
    "                               width=640, height=360, autoplay=0, rel=0, showinfo=0)"
   ]
  },
  {
   "cell_type": "markdown",
   "metadata": {},
   "source": [
    "# Estadística descriptiva\n",
    "\n",
    "Sea una muestra de datos. Antes de responder preguntas con los datos debemos entenderlos\n",
    "\n",
    "> Para entender la muestra podemos intentar describirla\n",
    "\n",
    "Por ejemplo\n",
    "\n",
    "- ¿Son mis datos discretos o continuos? ¿Cuál es su rango?\n",
    "- ¿Cuál es el valor medio de mis datos? ¿Cuál es su disperción?\n",
    "- ¿Tiene una moda o múltiples modas?\n",
    "- ¿Existen datos extremos (*outliers*)?\n",
    "\n",
    "Todas estas preguntas están relacionadas a la **distribución** de los datos. Repasemos este concepto"
   ]
  },
  {
   "cell_type": "markdown",
   "metadata": {},
   "source": [
    "## Repaso de fundamentos\n",
    "\n",
    "**Distribución de probabilidades**\n",
    "\n",
    "Una distribución de probabilidad es una función que relaciona los valores posibles de una VA con sus respectivas probabilidades de ocurrir\n",
    "\n",
    "La definición es un poco distinta dependiendo si la variable aleatoria es discreta o continua\n",
    "\n",
    "- Variable continua: Toma valores de un conjunto no numerable. Ejemplos: Los números reales\n",
    "- Variable discreta o categórica: Toma valores de un conjunto numerable. Puede ser ordinal, por ejemplo los números enteros. Puede ser nominal, por ejemplo el género o la étnia de las personas\n",
    "\n",
    "Ambas pueden estar definidas en un cierto rango\n",
    "\n",
    "**Función de masa de probabilidad**\n",
    "\n",
    "Si nuestra variable $x\\sim X$ es discreta entonces podemos calcular la probabilidad de un evento como\n",
    "\n",
    "$$\n",
    "P(X = x) = p_X(x)\n",
    "$$\n",
    "\n",
    "donde $p_X(x)$ se conoce como función de masa de probabilidad (fmp)\n",
    "\n",
    "Para que una fmp sea valida se debe cumplir\n",
    "\n",
    "- Estar en el rango de una probabilidad: $p_X(x) \\in [0, 1]$\n",
    "- Sumar a 1 en el dominio completo: $\\sum_{x\\in\\mathcal{X}} p_X(x) = 1$    \n",
    "\n",
    "**Función de densidad de probabilidad**\n",
    "\n",
    "Si nuestra variable $x\\sim X$ es continua entonces debemos definir un rango si queremos estimar su probabilidad\n",
    "\n",
    "$$\n",
    "P(a < X < b) = \\int_{a}^{b} f_X(x) \\,dx = F_X(b) - F_X(a)\n",
    "$$\n",
    "\n",
    "donde $f_X(\\cdot)$ es la función de densidad de probabilidad (fdp) y $F_X(\\cdot)$ es la función de densidad acumulada\n",
    "\n",
    "Para que una fdp sea valida se debe cumplir\n",
    "\n",
    "- No-negatividad: $f_X(x) \\geq 0$\n",
    "- Integrar a 1 en el dominio completo: $\\int_{x\\in\\mathcal{X}} f_X(x) \\,dx = 1$ \n",
    "  \n",
    "  \n",
    "**Probabilidad conjunta, marginal y condicional**\n",
    "\n",
    "Las definiciones anteriores son para fdp/fmp de una variable\n",
    "\n",
    "Si queremos calcular la probabilidad de que $X=x$ y $Y=y$ entonces necesitamos la distribución conjunta $P(X, Y)$ \n",
    "\n",
    "A partir de la conjunta se pueden obtener la probabilidad marginal de $X$ (o de $Y$)\n",
    "\n",
    "$$\n",
    "P(X=x) = \\sum_{y \\in \\mathcal{Y}} P(X=x, Y=y) \n",
    "$$\n",
    "\n",
    "que corresponde a sumar (marginalizar) la variable que no nos interesa\n",
    "\n",
    "Usando la conjunta y las marginales podemos obtener las probabilidades condicionales\n",
    "\n",
    "$$\n",
    "P(Y=y|X=x) = \\frac{P(X=x, Y=y)}{P(X=x)}\n",
    "$$\n",
    "\n",
    "ssi $P(X=x) \\neq 0$\n",
    "\n",
    "De esta forma podemos relacionar variables estilo causa y efecto\n",
    "\n",
    "**Distribución acumulada empírica**\n",
    "\n",
    "En general no sabemos a priori la fdp/fmp de los datos \n",
    "\n",
    "Podemos calcular probabilidades usando la distribución empírica\n",
    "\n",
    "Si tengo $n$ datos $X_1, X_2, \\ldots, X_n$, su distribución acumulada empírica es\n",
    "\n",
    "$$\n",
    "F_n(x) = \\frac{1}{n} \\sum_{i=1}^n \\mathbb{1}(X_i < x)\n",
    "$$\n",
    "\n",
    "Donde la función indicadora $\\mathbb{1}(X_i<x)$ es igual a $1$ si la $X_i<x$ o $0$ en el caso contrario\n",
    "\n",
    "Si los datos están ordenados entonces sólo tenemos que buscar en que posición se encuentra $x$ y dividir por $n$\n",
    "\n",
    "Podemos implementarla en NumPy como\n",
    "\n",
    "```python\n",
    "def ECDF(data):\n",
    "    data = np.sort(data)\n",
    "    n = len(data)\n",
    "    def result(x):\n",
    "        return np.searchsorted(data, x, side='right')/n\n",
    "    return result\n",
    "```\n",
    "\n",
    "Luego si tengo una arreglo de datos $a$ y quiero saber la probabilidad de $b$ \n",
    "\n",
    "```python\n",
    "ECDF(a)(b)\n",
    "```"
   ]
  },
  {
   "cell_type": "markdown",
   "metadata": {},
   "source": [
    "### Ejercicio \n",
    "\n",
    "En esta lección usaremos la base de datos [**Diagnóstico de cancer de mama** de la Universidad de Wisconsin](https://archive.ics.uci.edu/ml/datasets/Breast+Cancer+Wisconsin+(Diagnostic))\n",
    "\n",
    "- La base de datos incluye un identificador de paciente y un diagnóstico hecho por un médico \n",
    "- El diagnóstico puede ser M: tumor maligno o B: tumor benigno\n",
    "- Cada paciente tiene asociado tres muestras de nucleos celulares y cada muestra está descrita por 10 atributos\n",
    "\n",
    "Trabajaremos con el **radio** y la **textura** de la primera muestra"
   ]
  },
  {
   "cell_type": "code",
   "execution_count": null,
   "metadata": {
    "ExecuteTime": {
     "end_time": "2020-07-21T01:59:00.703111Z",
     "start_time": "2020-07-21T01:59:00.680358Z"
    }
   },
   "outputs": [],
   "source": [
    "df = pd.read_csv('../data/cancer.csv', index_col=0)\n",
    "df = df[[\"diagnosis\", \"radius1\", \"texture1\"]]\n",
    "display(df.head())"
   ]
  },
  {
   "cell_type": "markdown",
   "metadata": {},
   "source": [
    "Usando estos datos, conteste\n",
    "\n",
    "1. ¿De que tipo son las columnas *diagnosis*, *radius1* y *texture1*? ¿Cuál es el rango de cada uno?\n",
    "1. Grafique la distribución acumulada empírica del radio dado que el tumor es benigno. Repita para el caso maligno\n",
    "1. Estime la probabilidad de que el radio sea menor a 15 dado que es el tumor es benigno. Repita para el caso maligno\n",
    "1. Estime la probabilidad de que la textura sea mayor que 10 y menor que 20 dado que el tumor es benigno. Repita para el caso maligno\n",
    "1. Estime la probabilidad de que el radio sea menor a 15 y que la textura esté entre 10 y 20 dado que el tumor es maligno. Repita para el caso maligno"
   ]
  },
  {
   "cell_type": "markdown",
   "metadata": {
    "ExecuteTime": {
     "end_time": "2020-07-21T01:59:00.763515Z",
     "start_time": "2020-07-21T01:59:00.704760Z"
    }
   },
   "source": [
    "**Solución paso a paso con comentarios**"
   ]
  },
  {
   "cell_type": "code",
   "execution_count": null,
   "metadata": {
    "ExecuteTime": {
     "end_time": "2020-07-21T01:59:01.741436Z",
     "start_time": "2020-07-21T01:59:00.765949Z"
    }
   },
   "outputs": [],
   "source": [
    "YouTubeVideo_formato('ihcip87q4E8')"
   ]
  },
  {
   "cell_type": "markdown",
   "metadata": {},
   "source": [
    "## Histograma\n",
    "\n",
    "El histograma es una método que nos permite **estimar la densidad o masa de probabilidad de una variable**. \n",
    "\n",
    "### Construcción de un histograma\n",
    "\n",
    "La construcción de un histograma de densidad tiene dos pasos\n",
    "\n",
    "1. Definir un conjunto de **intervalos/cajas/bines** para la variable de interés\n",
    "1. Contar cuantos elementos de la muestra corresponden a cada intervalo y dividir por el total\n",
    "\n",
    "Esto se visualiza usando un gráfico de barra\n",
    "\n",
    "Estudiaremos el caso más simple donde los bines son \n",
    "\n",
    "- Disjuntos: El fin de un bin es el comienzo del siguiente\n",
    "- Del mismo tamaño: Todos los bines tienen el mismo ancho\n",
    "\n",
    "En este caso los intervalos se construyen especificando el \n",
    "\n",
    "- rango del histograma: Comienzo del primer bin y termino del último bin\n",
    "- cantidad de bines: En conjunto con el rango especifican el tamaño de los bines"
   ]
  },
  {
   "cell_type": "markdown",
   "metadata": {},
   "source": [
    "En el siguiente ejemplo la cantidad de bines es $7$ y el rango es $[-3, 4]$, por ende el tamaño de los bines es $1$\n",
    "\n",
    "<img src=\"../img/stats4.png\">"
   ]
  },
  {
   "cell_type": "markdown",
   "metadata": {},
   "source": [
    "> El tamaño de los bines es un parámetro sensible ya que controla la resolución del histograma. Si usamos bines muy grandes perdemos detalle. Si son muy pequeños el histograma será muy ruidoso."
   ]
  },
  {
   "cell_type": "markdown",
   "metadata": {},
   "source": [
    "\n",
    "### Interpretación de un histograma\n",
    "\n",
    "El histograma revela visualmente algunas propiedades y comportamientos de la muestra. Considere los siguientes ejemplos de histogramas de distribuciones univariadas\n",
    "\n",
    "<img src=\"../img/stats5.png\">\n",
    "\n",
    "El histograma nos permite ver\n",
    "\n",
    "- Cantidad de modas: Una, dos,  múltiples o ninguna en particular (distribución uniforme)\n",
    "- Distribución simétrica o asimétrica. En una distribución asimétrica el peso puede estar hacia la cola izquierda o derecha\n"
   ]
  },
  {
   "cell_type": "markdown",
   "metadata": {},
   "source": [
    "### Construyendo histogramas con `matplotlib`\n",
    "\n",
    "Podemos construir y visualizar un histograma con matplotlib usando\n",
    "\n",
    "```python\n",
    "plt.hist(x, # datos\n",
    "         bins=None, # Cantidad de cajas (escalar) o bordes de las cajas (secuencia creciente)\n",
    "         range=None,  # Valor mínimo y máximo del histograma\n",
    "         density=False, #dividir por len(x) o no\n",
    "         ...\n",
    "        )\n",
    "```\n",
    "\n",
    "\n",
    "Para el caso de dos variables se puede hacer un histograma bidimensional (mapa de contornos) con \n",
    "\n",
    "```python\n",
    "plt.hist2d(x, # data eje horizontal\n",
    "           y, # data eje vertical\n",
    "           bins=10, # Igual que hist\n",
    "           range=None, # Arreglo [[xmin, xmax],[ymin,ymax]]\n",
    "           density=False, #Igual que hist\n",
    "           ...\n",
    "          )\n",
    "```\n",
    "\n",
    "Las alternativas en la librería `seaborn` serían [`seaborn.distplot`](https://seaborn.pydata.org/generated/seaborn.distplot.html) y [`seaborn.jointplot`](https://seaborn.pydata.org/generated/seaborn.jointplot.html), respectivamente"
   ]
  },
  {
   "cell_type": "markdown",
   "metadata": {},
   "source": [
    "### Ejercicio\n",
    "\n",
    "Muestre tres gráficos con los histogramas de las siguientes variables\n",
    "\n",
    "- El radio (1D) para los diagnósticos M y B\n",
    "- La textura (1D) para los diagnósticos M y B\n",
    "- El radio y la textura (2D) para los diagnósticos M\n",
    "- El radio y la textura (2D) para los diagnósticos B\n",
    "\n",
    "Use el mismo rango y cantidad de bines para M y B. Explore la influencia de la cantidad de bines.\n",
    "\n",
    "Compare las distribuciones de los casos M y B analizando sus semejanzas y diferencias"
   ]
  },
  {
   "cell_type": "markdown",
   "metadata": {
    "ExecuteTime": {
     "end_time": "2020-07-21T01:59:01.748058Z",
     "start_time": "2020-07-21T01:59:01.745463Z"
    }
   },
   "source": [
    "**Solución paso a paso con comentarios**\n"
   ]
  },
  {
   "cell_type": "code",
   "execution_count": null,
   "metadata": {
    "ExecuteTime": {
     "end_time": "2020-07-21T01:59:02.008904Z",
     "start_time": "2020-07-21T01:59:01.751051Z"
    }
   },
   "outputs": [],
   "source": [
    "YouTubeVideo_formato('DOHp8xFDQNg')"
   ]
  },
  {
   "cell_type": "markdown",
   "metadata": {},
   "source": [
    "## Descriptores de la distribución"
   ]
  },
  {
   "cell_type": "markdown",
   "metadata": {},
   "source": [
    "Visualizar la distribución nos da mucha información. Pero en algunos casos sólo interesa comprobar la existencia de ciertas características o atributos de la distribución\n",
    "\n",
    "> Podemos resumir una distribución en función de sus **momentos**\n",
    "\n",
    "Cada momento describe una propiedad en particular\n",
    "\n",
    "- Primer momento o media: Describe donde está localizada la distribución\n",
    "- Segundo momento o varianza: Describe el ancho o dispersión de la distribución\n",
    "- Tercer momento o simetría (skewness): Indica si la distribución es más pesada hacia la izquierda o hacia la derecha\n",
    "- Cuarto momento o curtosis (kurtosis): Indica si la distribución es picuda o plana\n",
    "\n",
    "La siguiente figura esquematiza las influencia de los momentos\n",
    "\n",
    "<img src=\"https://images.deepai.org/django-summernote/2019-07-02/4d0a6ff1-8b53-4537-9d0a-919993d10024.png\" width=\"500\">\n",
    "\n",
    "También podemos describir una distribución en función de la\n",
    "\n",
    "- Moda: Valor más repetido\n",
    "- Mediana: Valor central\n",
    "- Diferencias entre percentiles"
   ]
  },
  {
   "cell_type": "markdown",
   "metadata": {},
   "source": [
    "### Calculando descriptores con Python\n",
    "\n",
    "Podemos obtener la media y la desviación estándar de un dataframe usando \n",
    "\n",
    "```python\n",
    "df.describe()\n",
    "```\n",
    "\n",
    "Podemos obtener los primeros cuatro momentos de un ndarray junto a su largo y rango con\n",
    "\n",
    "```python\n",
    "scipy.stats.describe(x)\n",
    "```\n",
    "\n",
    "Podemos calcular un momento de cualquier orden con\n",
    "\n",
    "```python\n",
    "scipy.stats.moment(x, moment=5)\n",
    "```\n",
    "\n",
    "Otros descriptores comunes están implementados en el módulo [scipy.stats](https://docs.scipy.org/doc/scipy/reference/stats.html#summary-statistics)"
   ]
  },
  {
   "cell_type": "markdown",
   "metadata": {},
   "source": [
    "### Ejemplo\n",
    "\n",
    "Descriptores para el radio y la textura usando pandas y scipy"
   ]
  },
  {
   "cell_type": "code",
   "execution_count": null,
   "metadata": {
    "ExecuteTime": {
     "end_time": "2020-07-21T01:59:02.080521Z",
     "start_time": "2020-07-21T01:59:02.010702Z"
    }
   },
   "outputs": [],
   "source": [
    "# Descriptores\n",
    "\n",
    "display(df.describe())\n",
    "\n",
    "print(scipy.stats.describe(df[[\"radius1\", \"texture1\"]]))"
   ]
  },
  {
   "cell_type": "markdown",
   "metadata": {},
   "source": [
    "## Distribuciones comunes \n",
    "\n",
    "Existen muchísimas distribuciones de probabilidad asociadas a distintos fenómenos y experimentos. La siguiente tabla presenta las distribuciones más comunmente encontradas \n",
    "\n",
    "\n",
    "| Distribución | Fenómeno que representa | Ejemplo |\n",
    "| --- | --- | --- |\n",
    "| **Bernoulli** | Evento binario  | Lanzamiento de una moneda |\n",
    "| **Binomial** | Multiples eventos binarios independientes | |\n",
    "| **Categórica** | Evento con $k$ valores posibles | Lanzamiento de un dado, Ruleta |\n",
    "| **Poisson** | Conteo de eventos ocurridos en un período de tiempo | Cantidad de alumnos que llegan entre 9:50 y 10:00| \n",
    "| **Exponencial** | Valor continuo positivo | Tiempo de espera entre eventos|\n",
    "| **Gamma** | Valor continuo positivo | Tiempos de espera hasta que ocurren $n$ eventos|\n",
    "| **Beta** | Valor continuo en $[0, 1]$ |  Tiempo para completar una tarea, proporciones|\n",
    "| **Normal/Gaussiana** | Valor continuo ubicado en la vecindad de un valor central| [Demasiados](https://galtonboard.com/probabilityexamplesinlife)|\n",
    "| **Uniforme** | Valor discreto/continuo acotado a un rango, todos con igual probabilidad de ocurrencia| |\n",
    "\n",
    "Conocer su forma nos permite reconocerlas cuando estudiamos la densidad empírica de nuestros datos\n",
    "\n",
    "> Les recomiendo el [zoológico de distribuciones](https://ben18785.shinyapps.io/distribution-zoo/) para ver interactivametne la forma de estas distribuciones\n",
    "\n",
    "En la próxima lección veremos en mayor detalle como podemos ajustar una distribución teórica a nuestros datos\n",
    "\n"
   ]
  },
  {
   "cell_type": "markdown",
   "metadata": {},
   "source": [
    "## Generando muestras aleatorias con NumPy y SciPy\n",
    "\n",
    "Podemos usar el módulo `np.random` para generar números aleatorios con las siguientes distribuciones\n",
    "\n",
    "- `randn` : Números reales con distribución normal estándar\n",
    "- `rand`: Números reales con distribución uniforme en $[0, 1]$\n",
    "- `randint(low=1, high=10)`: Números enteros con distribución uniforme entre $[0, 10]$\n",
    "\n",
    "Si necesitamos datos que siguen otra distribución es más recomdable usar el módulo `scipy.stats`. La lista de distribuciones disponible es sumamente extensa y está divida entre tres\n",
    "\n",
    "- [continua](https://docs.scipy.org/doc/scipy/reference/stats.html#continuous-distributions)\n",
    "- [multivariada](https://docs.scipy.org/doc/scipy/reference/stats.html#multivariate-distributions)\n",
    "- [discreta](https://docs.scipy.org/doc/scipy/reference/stats.html#discrete-distributions)\n",
    "\n",
    "Todas las distribuciones de `scipy.stats` tienen los siguientes métodos \n",
    "\n",
    "- `pdf`/`pmf(x)` Retorna la distribución de probabilidad evaluada en $x$\n",
    "- `cdf(x)` Distribución acumulada evaluada en $x$\n",
    "- `ppf(p)` Inverso de la distribución acumulada\n",
    "- `rvs(size=100)` Retorna $100$ muestras a partir de la distribución\n",
    "\n",
    "**Ejemplo**\n",
    "\n",
    "Generando y visualizando $1000$ muestras de una distribución Gaussiana (normal) con media 2 y desviación estándar 10"
   ]
  },
  {
   "cell_type": "code",
   "execution_count": null,
   "metadata": {},
   "outputs": [],
   "source": [
    "from scipy.stats import norm\n",
    "dist = norm(loc=2, scale=10) # Constructor\n",
    "samples = dist.rvs(size=1000) # Generación\n",
    "fig, ax = plt.subplots(figsize=(7, 3), tight_layout=True)\n",
    "ax.hist(samples); # Histograma"
   ]
  },
  {
   "cell_type": "markdown",
   "metadata": {},
   "source": [
    "La próxima clase veremos en mayor detalle como usar estos y otros métodos"
   ]
  },
  {
   "cell_type": "markdown",
   "metadata": {},
   "source": [
    "## ¿Por qué la distribución Gaussiana para ser tan común?\n",
    "\n",
    "<img src=\"https://thumbs.gfycat.com/AggressiveAromaticBuckeyebutterfly-size_restricted.gif\">\n",
    "\n",
    "El siguiente sitio web muestra algunos ejemplos de la fenómenos que se distribuyen de forma Gaussiana: https://galtonboard.com/probabilityexamplesinlife ¿Por qué esta distribución parece ser tan común? \n",
    "\n",
    "Recordemos lo siguiente\n",
    "\n",
    "**Ley de los grandes números**\n",
    "\n",
    "Sean $X_1, X_2, \\ldots, X_N$ V.A independientes e idénticamente distribuidas (iid) con media $\\mu$. Se cumple que su promedio\n",
    "\n",
    "$$\n",
    "\\bar X = \\frac{1}{N} (X_1 + X_2 + \\ldots + X_N)\n",
    "$$\n",
    "\n",
    "tiende a $\\mu$ cuando $N \\to \\infty$\n",
    "\n",
    "**Teorema central del límite**\n",
    "\n",
    "Si $X_1, X_2, \\ldots, X_N$ son V.A iid, entonces su promedio de distribuye como\n",
    "\n",
    "$$\n",
    "\\bar X \\sim \\mathcal{N}(\\mu, \\sigma^2/N)\n",
    "$$\n",
    "\n",
    "Es decir que \n",
    "\n",
    "> El promedio (o suma) **se distribuye normal sin importar la distribución original** de las V.A. \n",
    "\n",
    "siempre y cuando las VA sean independientes. ¿Cúantos de los ejemplos del sitio web mencionado corresponden a sumas o promedios?"
   ]
  },
  {
   "cell_type": "markdown",
   "metadata": {},
   "source": [
    "### Ejercicio\n",
    "\n",
    "Sea una variable aleatoria que corresponde al lanzamiento de $n$ dados de seis caras. Lance los $n$ dados 1000 veces y muestre con un histograma la distribución del promedio de los $n$ dados. Repita para $n: 1, 2, ..., 15$\n",
    "\n",
    "¿Qué puede decir de la distribución que observa?\n",
    "\n",
    "Hint: Puede usar `scipy.stats.multinomial` para modelar el resultado de lanzar $n$ dados"
   ]
  },
  {
   "cell_type": "markdown",
   "metadata": {
    "ExecuteTime": {
     "end_time": "2020-07-21T01:59:02.136701Z",
     "start_time": "2020-07-21T01:59:02.085472Z"
    }
   },
   "source": [
    "**Solución paso a paso con comentarios**"
   ]
  },
  {
   "cell_type": "code",
   "execution_count": null,
   "metadata": {
    "ExecuteTime": {
     "end_time": "2020-07-21T01:59:05.027404Z",
     "start_time": "2020-07-21T01:59:02.138410Z"
    }
   },
   "outputs": [],
   "source": [
    "YouTubeVideo_formato('2QwMBZAlvc4')"
   ]
  }
 ],
 "metadata": {
  "kernelspec": {
   "display_name": "Python 3 (ipykernel)",
   "language": "python",
   "name": "python3"
  },
  "language_info": {
   "codemirror_mode": {
    "name": "ipython",
    "version": 3
   },
   "file_extension": ".py",
   "mimetype": "text/x-python",
   "name": "python",
   "nbconvert_exporter": "python",
   "pygments_lexer": "ipython3",
   "version": "3.10.4"
  },
  "toc": {
   "base_numbering": 1,
   "nav_menu": {},
   "number_sections": true,
   "sideBar": true,
   "skip_h1_title": false,
   "title_cell": "Table of Contents",
   "title_sidebar": "Contents",
   "toc_cell": false,
   "toc_position": {
    "height": "calc(100% - 180px)",
    "left": "10px",
    "top": "150px",
    "width": "294.4px"
   },
   "toc_section_display": true,
   "toc_window_display": true
  }
 },
 "nbformat": 4,
 "nbformat_minor": 2
}
