{
 "cells": [
  {
   "cell_type": "markdown",
   "metadata": {},
   "source": [
    "# Estadística descriptiva\n",
    "\n",
    "La estadística descriptiva corresponde a los métodos numéricos y gráficos que nos permiten describir y visualizar nuestros datos\n",
    "\n",
    "También se suele llamar análisis exploratorio de datos y es clave para\n",
    "\n",
    "- Descubrir patrones en nuestros datos\n",
    "- Verificar preliminarmente nuestras hipótesis sobre los datos\n",
    "- Detectar outliers (valores fuera de rango) o valores inválidos en nuestros \n",
    "- Seleccionar de manera informada los métodos inferenciales que utilizaremos \n",
    "\n",
    "entre otros. El objetivo es describir nuestros datos para mejorar nuestro entendimiento de los mismos\n",
    "\n",
    "En este lección veremos algunas funciones de `matplotlib`, `numpy` y `scipy.stats` para realizar estadística descriptiva de datos"
   ]
  },
  {
   "cell_type": "code",
   "execution_count": 2,
   "metadata": {
    "ExecuteTime": {
     "end_time": "2020-07-21T01:59:00.678608Z",
     "start_time": "2020-07-21T01:58:59.791124Z"
    }
   },
   "outputs": [],
   "source": [
    "%matplotlib inline\n",
    "import numpy as np\n",
    "import pandas as pd\n",
    "import scipy.stats\n",
    "import matplotlib.pyplot as plt"
   ]
  },
  {
   "cell_type": "markdown",
   "metadata": {},
   "source": [
    "## Histogramas\n",
    "\n",
    "El histograma es una representación aproximada de la **distribución de probabilidad** de una variable\n",
    "\n",
    "Asumiendo que tenemos un vector con realizaciones de una variable aleatoria\n",
    "\n",
    "$$\n",
    "[x_1, x_2, \\ldots, x_N] \\sim X\n",
    "$$\n",
    "\n",
    "podemos construir un histograma en tres pasos\n",
    "\n",
    "1. Establecer un rango mínimo y máximo\n",
    "1. Dividir el rango en **cajones/bines**\n",
    "1. Medir la frecuencia relativa en cada cajón, es decir la cantidad de $x_i$ que caen en dicho cajón divido $N$\n",
    "\n",
    "\n",
    "**Ejemplo:** Para construir el siguiente histograma se utilizaron $7$ bines de tamaño $1$ regularmente distribuidos en el rango $[-3, 4]$\n",
    "\n",
    "<img src=\"img/stats4.png\">\n",
    "\n",
    "\n",
    "El ejemplo anterior corresponde al caso particular más común donde los cajones son disjuntos y de igual tamaño. En dicho caso los cajones se definen completamente con\n",
    "\n",
    "- el rango del histograma: Comienzo del primer bin y termino del último bin\n",
    "- la cantidad de bines: En conjunto con el rango especifican el tamaño de los bines\n",
    "\n",
    ":::{important}\n",
    "\n",
    "El tamaño de los bines relativo al rango del histograma controla la resolución del histograma. Por ejemplo para un rango fijo, utilizar bines muy grandes resultará en pérdida de detalle. Por el contrario utilizar bines muy pequeños resultará en un histograma muy ruidoso\n",
    "\n",
    ":::\n"
   ]
  },
  {
   "cell_type": "code",
   "execution_count": 3,
   "metadata": {},
   "outputs": [
    {
     "data": {
      "text/html": [
       "<div>\n",
       "<style scoped>\n",
       "    .dataframe tbody tr th:only-of-type {\n",
       "        vertical-align: middle;\n",
       "    }\n",
       "\n",
       "    .dataframe tbody tr th {\n",
       "        vertical-align: top;\n",
       "    }\n",
       "\n",
       "    .dataframe thead th {\n",
       "        text-align: right;\n",
       "    }\n",
       "</style>\n",
       "<table border=\"1\" class=\"dataframe\">\n",
       "  <thead>\n",
       "    <tr style=\"text-align: right;\">\n",
       "      <th></th>\n",
       "      <th>consumo</th>\n",
       "      <th>ingreso</th>\n",
       "      <th>precio</th>\n",
       "      <th>temperatura</th>\n",
       "    </tr>\n",
       "  </thead>\n",
       "  <tbody>\n",
       "    <tr>\n",
       "      <th>1</th>\n",
       "      <td>0.386</td>\n",
       "      <td>78</td>\n",
       "      <td>0.270</td>\n",
       "      <td>41</td>\n",
       "    </tr>\n",
       "    <tr>\n",
       "      <th>2</th>\n",
       "      <td>0.374</td>\n",
       "      <td>79</td>\n",
       "      <td>0.282</td>\n",
       "      <td>56</td>\n",
       "    </tr>\n",
       "    <tr>\n",
       "      <th>3</th>\n",
       "      <td>0.393</td>\n",
       "      <td>81</td>\n",
       "      <td>0.277</td>\n",
       "      <td>63</td>\n",
       "    </tr>\n",
       "    <tr>\n",
       "      <th>4</th>\n",
       "      <td>0.425</td>\n",
       "      <td>80</td>\n",
       "      <td>0.280</td>\n",
       "      <td>68</td>\n",
       "    </tr>\n",
       "    <tr>\n",
       "      <th>5</th>\n",
       "      <td>0.406</td>\n",
       "      <td>76</td>\n",
       "      <td>0.272</td>\n",
       "      <td>69</td>\n",
       "    </tr>\n",
       "  </tbody>\n",
       "</table>\n",
       "</div>"
      ],
      "text/plain": [
       "   consumo  ingreso  precio  temperatura\n",
       "1    0.386       78   0.270           41\n",
       "2    0.374       79   0.282           56\n",
       "3    0.393       81   0.277           63\n",
       "4    0.425       80   0.280           68\n",
       "5    0.406       76   0.272           69"
      ]
     },
     "metadata": {},
     "output_type": "display_data"
    }
   ],
   "source": [
    "df = pd.read_csv('../linalg/data/helados.csv', header=0, index_col=0)\n",
    "df.columns = ['consumo', 'ingreso', 'precio', 'temperatura']\n",
    "display(df.head())"
   ]
  },
  {
   "cell_type": "markdown",
   "metadata": {},
   "source": [
    "\n",
    "### Interpretación de un histograma\n",
    "\n",
    "El histograma revela visualmente algunas propiedades y comportamientos de la muestra. Considere los siguientes ejemplos de histogramas de distribuciones univariadas\n",
    "\n",
    "<img src=\"img/stats5.png\">\n",
    "\n",
    "El histograma nos permite ver\n",
    "\n",
    "- Cantidad de modas: Una, dos,  múltiples o ninguna en particular (distribución uniforme)\n",
    "- Distribución simétrica o asimétrica. En una distribución asimétrica el peso puede estar hacia la cola izquierda o derecha\n"
   ]
  },
  {
   "cell_type": "markdown",
   "metadata": {},
   "source": [
    "### Construyendo histogramas con `matplotlib`\n",
    "\n",
    "Podemos construir y visualizar un histograma con matplotlib usando\n",
    "\n",
    "```python\n",
    "plt.hist(x, # datos\n",
    "         bins=None, # Cantidad de cajas (escalar) o bordes de las cajas (secuencia creciente)\n",
    "         range=None,  # Valor mínimo y máximo del histograma\n",
    "         density=False, #dividir por len(x) o no\n",
    "         ...\n",
    "        )\n",
    "```\n",
    "\n",
    "\n",
    "Para el caso de dos variables se puede hacer un histograma bidimensional (mapa de contornos) con \n",
    "\n",
    "```python\n",
    "plt.hist2d(x, # data eje horizontal\n",
    "           y, # data eje vertical\n",
    "           bins=10, # Igual que hist\n",
    "           range=None, # Arreglo [[xmin, xmax],[ymin,ymax]]\n",
    "           density=False, #Igual que hist\n",
    "           ...\n",
    "          )\n",
    "```\n",
    "\n",
    "Las alternativas en la librería `seaborn` serían [`seaborn.distplot`](https://seaborn.pydata.org/generated/seaborn.distplot.html) y [`seaborn.jointplot`](https://seaborn.pydata.org/generated/seaborn.jointplot.html), respectivamente"
   ]
  },
  {
   "cell_type": "markdown",
   "metadata": {},
   "source": [
    "**Ejemplo**"
   ]
  },
  {
   "cell_type": "markdown",
   "metadata": {},
   "source": [
    "is the first step in the data analysis process. It allows us to understand the data we are dealing with by describing and summarizing the dataset’s main characteristics, often through visual methods like bar and pie charts, histograms, boxplots, scatterplots, heatmaps, and many more.\n",
    "\n",
    "Antes de responder preguntas con nuestros datos debemos es conveniente explorarlos\n",
    "\n",
    "> La estadística descriptiva es un conjunto de técnicas que \n",
    "\n",
    "> Para entender la muestra podemos intentar describirla\n",
    "\n",
    "Considere por ejemplo las siguientes preguntas\n",
    "\n",
    "- ¿Son mis datos discretos o continuos? ¿Cuál es su rango?\n",
    "- ¿Cuál es el valor medio de mis datos? ¿Cuál es su disperción?\n",
    "- ¿Tiene una moda o múltiples modas?\n",
    "- ¿Existen datos extremos (*outliers*)?\n",
    "\n",
    "Todas estas preguntas buscan describir la **distribución** subyacente de nuestros datos"
   ]
  },
  {
   "cell_type": "markdown",
   "metadata": {},
   "source": [
    "## Repaso de fundamentos\n",
    "\n",
    "**Distribución de probabilidades**\n",
    "\n",
    "Una distribución de probabilidad es una función que relaciona los valores posibles de una VA con sus respectivas probabilidades de ocurrir\n",
    "\n",
    "La definición es un poco distinta dependiendo si la variable aleatoria es discreta o continua\n",
    "\n",
    "- Variable continua: Toma valores de un conjunto no numerable. Ejemplos: Los números reales\n",
    "- Variable discreta o categórica: Toma valores de un conjunto numerable. Puede ser ordinal, por ejemplo los números enteros. Puede ser nominal, por ejemplo el género o la étnia de las personas\n",
    "\n",
    "Ambas pueden estar definidas en un cierto rango\n",
    "\n",
    "**Función de masa de probabilidad**\n",
    "\n",
    "Si nuestra variable $x\\sim X$ es discreta entonces podemos calcular la probabilidad de un evento como\n",
    "\n",
    "$$\n",
    "P(X = x) = p_X(x)\n",
    "$$\n",
    "\n",
    "donde $p_X(x)$ se conoce como función de masa de probabilidad (fmp)\n",
    "\n",
    "Para que una fmp sea valida se debe cumplir\n",
    "\n",
    "- Estar en el rango de una probabilidad: $p_X(x) \\in [0, 1]$\n",
    "- Sumar a 1 en el dominio completo: $\\sum_{x\\in\\mathcal{X}} p_X(x) = 1$    \n",
    "\n",
    "**Función de densidad de probabilidad**\n",
    "\n",
    "Si nuestra variable $x\\sim X$ es continua entonces debemos definir un rango si queremos estimar su probabilidad\n",
    "\n",
    "$$\n",
    "P(a < X < b) = \\int_{a}^{b} f_X(x) \\,dx = F_X(b) - F_X(a)\n",
    "$$\n",
    "\n",
    "donde $f_X(\\cdot)$ es la función de densidad de probabilidad (fdp) y $F_X(\\cdot)$ es la función de densidad acumulada\n",
    "\n",
    "Para que una fdp sea valida se debe cumplir\n",
    "\n",
    "- No-negatividad: $f_X(x) \\geq 0$\n",
    "- Integrar a 1 en el dominio completo: $\\int_{x\\in\\mathcal{X}} f_X(x) \\,dx = 1$ \n",
    "  \n",
    "  \n",
    "**Probabilidad conjunta, marginal y condicional**\n",
    "\n",
    "Las definiciones anteriores son para fdp/fmp de una variable\n",
    "\n",
    "Si queremos calcular la probabilidad de que $X=x$ y $Y=y$ entonces necesitamos la distribución conjunta $P(X, Y)$ \n",
    "\n",
    "A partir de la conjunta se pueden obtener la probabilidad marginal de $X$ (o de $Y$)\n",
    "\n",
    "$$\n",
    "P(X=x) = \\sum_{y \\in \\mathcal{Y}} P(X=x, Y=y) \n",
    "$$\n",
    "\n",
    "que corresponde a sumar (marginalizar) la variable que no nos interesa\n",
    "\n",
    "Usando la conjunta y las marginales podemos obtener las probabilidades condicionales\n",
    "\n",
    "$$\n",
    "P(Y=y|X=x) = \\frac{P(X=x, Y=y)}{P(X=x)}\n",
    "$$\n",
    "\n",
    "ssi $P(X=x) \\neq 0$\n",
    "\n",
    "De esta forma podemos relacionar variables estilo causa y efecto\n",
    "\n",
    "**Distribución acumulada empírica**\n",
    "\n",
    "En general no sabemos a priori la fdp/fmp de los datos \n",
    "\n",
    "Podemos calcular probabilidades usando la distribución empírica\n",
    "\n",
    "Si tengo $n$ datos $X_1, X_2, \\ldots, X_n$, su distribución acumulada empírica es\n",
    "\n",
    "$$\n",
    "F_n(x) = \\frac{1}{n} \\sum_{i=1}^n \\mathbb{1}(X_i < x)\n",
    "$$\n",
    "\n",
    "Donde la función indicadora $\\mathbb{1}(X_i<x)$ es igual a $1$ si la $X_i<x$ o $0$ en el caso contrario\n",
    "\n",
    "Si los datos están ordenados entonces sólo tenemos que buscar en que posición se encuentra $x$ y dividir por $n$\n",
    "\n",
    "Podemos implementarla en NumPy como\n",
    "\n",
    "```python\n",
    "def ECDF(data):\n",
    "    data = np.sort(data)\n",
    "    n = len(data)\n",
    "    def result(x):\n",
    "        return np.searchsorted(data, x, side='right')/n\n",
    "    return result\n",
    "```\n",
    "\n",
    "Luego si tengo una arreglo de datos $a$ y quiero saber la probabilidad de $b$ \n",
    "\n",
    "```python\n",
    "ECDF(a)(b)\n",
    "```"
   ]
  },
  {
   "cell_type": "markdown",
   "metadata": {},
   "source": [
    "**Ejemplo**"
   ]
  },
  {
   "cell_type": "markdown",
   "metadata": {},
   "source": [
    "## Descriptores de la distribución"
   ]
  },
  {
   "cell_type": "markdown",
   "metadata": {},
   "source": [
    "Visualizar la distribución nos da mucha información. Pero en algunos casos sólo interesa comprobar la existencia de ciertas características o atributos de la distribución\n",
    "\n",
    "> Podemos resumir una distribución en función de sus **momentos**\n",
    "\n",
    "Cada momento describe una propiedad en particular\n",
    "\n",
    "- Primer momento o media: Describe donde está localizada la distribución\n",
    "- Segundo momento o varianza: Describe el ancho o dispersión de la distribución\n",
    "- Tercer momento o simetría (skewness): Indica si la distribución es más pesada hacia la izquierda o hacia la derecha\n",
    "- Cuarto momento o curtosis (kurtosis): Indica si la distribución es picuda o plana\n",
    "\n",
    "La siguiente figura esquematiza las influencia de los momentos\n",
    "\n",
    "<img src=\"https://images.deepai.org/django-summernote/2019-07-02/4d0a6ff1-8b53-4537-9d0a-919993d10024.png\" width=\"500\">\n",
    "\n",
    "También podemos describir una distribución en función de la\n",
    "\n",
    "- Moda: Valor más repetido\n",
    "- Mediana: Valor central\n",
    "- Diferencias entre percentiles"
   ]
  },
  {
   "cell_type": "markdown",
   "metadata": {},
   "source": [
    "### Calculando descriptores con Python\n",
    "\n",
    "Podemos obtener la media y la desviación estándar de un dataframe usando \n",
    "\n",
    "```python\n",
    "df.describe()\n",
    "```\n",
    "\n",
    "Podemos obtener los primeros cuatro momentos de un ndarray junto a su largo y rango con\n",
    "\n",
    "```python\n",
    "scipy.stats.describe(x)\n",
    "```\n",
    "\n",
    "Podemos calcular un momento de cualquier orden con\n",
    "\n",
    "```python\n",
    "scipy.stats.moment(x, moment=5)\n",
    "```\n",
    "\n",
    "Otros descriptores comunes están implementados en el módulo [scipy.stats](https://docs.scipy.org/doc/scipy/reference/stats.html#summary-statistics)"
   ]
  },
  {
   "cell_type": "markdown",
   "metadata": {},
   "source": [
    "### Ejemplo\n",
    "\n",
    "Descriptores para el radio y la textura usando pandas y scipy"
   ]
  },
  {
   "cell_type": "code",
   "execution_count": null,
   "metadata": {
    "ExecuteTime": {
     "end_time": "2020-07-21T01:59:02.080521Z",
     "start_time": "2020-07-21T01:59:02.010702Z"
    }
   },
   "outputs": [],
   "source": [
    "# Descriptores\n",
    "\n",
    "display(df.describe())\n",
    "\n",
    "print(scipy.stats.describe(df[[\"radius1\", \"texture1\"]]))"
   ]
  },
  {
   "cell_type": "markdown",
   "metadata": {},
   "source": [
    "## Distribuciones comunes \n",
    "\n",
    "Existen muchísimas distribuciones de probabilidad asociadas a distintos fenómenos y experimentos. La siguiente tabla presenta las distribuciones más comunmente encontradas \n",
    "\n",
    "\n",
    "| Distribución | Fenómeno que representa | Ejemplo |\n",
    "| --- | --- | --- |\n",
    "| **Bernoulli** | Evento binario  | Lanzamiento de una moneda |\n",
    "| **Binomial** | Multiples eventos binarios independientes | |\n",
    "| **Categórica** | Evento con $k$ valores posibles | Lanzamiento de un dado, Ruleta |\n",
    "| **Poisson** | Conteo de eventos ocurridos en un período de tiempo | Cantidad de alumnos que llegan entre 9:50 y 10:00| \n",
    "| **Exponencial** | Valor continuo positivo | Tiempo de espera entre eventos|\n",
    "| **Gamma** | Valor continuo positivo | Tiempos de espera hasta que ocurren $n$ eventos|\n",
    "| **Beta** | Valor continuo en $[0, 1]$ |  Tiempo para completar una tarea, proporciones|\n",
    "| **Normal/Gaussiana** | Valor continuo ubicado en la vecindad de un valor central| [Demasiados](https://galtonboard.com/probabilityexamplesinlife)|\n",
    "| **Uniforme** | Valor discreto/continuo acotado a un rango, todos con igual probabilidad de ocurrencia| |\n",
    "\n",
    "Conocer su forma nos permite reconocerlas cuando estudiamos la densidad empírica de nuestros datos\n",
    "\n",
    "> Les recomiendo el [zoológico de distribuciones](https://ben18785.shinyapps.io/distribution-zoo/) para ver interactivametne la forma de estas distribuciones\n",
    "\n",
    "En la próxima lección veremos en mayor detalle como podemos ajustar una distribución teórica a nuestros datos\n",
    "\n"
   ]
  },
  {
   "cell_type": "markdown",
   "metadata": {},
   "source": [
    "## Generando muestras aleatorias con NumPy y SciPy\n",
    "\n",
    "Podemos usar el módulo `np.random` para generar números aleatorios con las siguientes distribuciones\n",
    "\n",
    "- `randn` : Números reales con distribución normal estándar\n",
    "- `rand`: Números reales con distribución uniforme en $[0, 1]$\n",
    "- `randint(low=1, high=10)`: Números enteros con distribución uniforme entre $[0, 10]$\n",
    "\n",
    "Si necesitamos datos que siguen otra distribución es más recomdable usar el módulo `scipy.stats`. La lista de distribuciones disponible es sumamente extensa y está divida entre tres\n",
    "\n",
    "- [continua](https://docs.scipy.org/doc/scipy/reference/stats.html#continuous-distributions)\n",
    "- [multivariada](https://docs.scipy.org/doc/scipy/reference/stats.html#multivariate-distributions)\n",
    "- [discreta](https://docs.scipy.org/doc/scipy/reference/stats.html#discrete-distributions)\n",
    "\n",
    "Todas las distribuciones de `scipy.stats` tienen los siguientes métodos \n",
    "\n",
    "- `pdf`/`pmf(x)` Retorna la distribución de probabilidad evaluada en $x$\n",
    "- `cdf(x)` Distribución acumulada evaluada en $x$\n",
    "- `ppf(p)` Inverso de la distribución acumulada\n",
    "- `rvs(size=100)` Retorna $100$ muestras a partir de la distribución\n",
    "\n",
    "**Ejemplo**\n",
    "\n",
    "Generando y visualizando $1000$ muestras de una distribución Gaussiana (normal) con media 2 y desviación estándar 10"
   ]
  },
  {
   "cell_type": "code",
   "execution_count": null,
   "metadata": {},
   "outputs": [],
   "source": [
    "from scipy.stats import norm\n",
    "dist = norm(loc=2, scale=10) # Constructor\n",
    "samples = dist.rvs(size=1000) # Generación\n",
    "fig, ax = plt.subplots(figsize=(7, 3), tight_layout=True)\n",
    "ax.hist(samples); # Histograma"
   ]
  },
  {
   "cell_type": "markdown",
   "metadata": {},
   "source": [
    "La próxima clase veremos en mayor detalle como usar estos y otros métodos"
   ]
  },
  {
   "cell_type": "markdown",
   "metadata": {},
   "source": [
    "## ¿Por qué la distribución Gaussiana para ser tan común?\n",
    "\n",
    "<img src=\"https://thumbs.gfycat.com/AggressiveAromaticBuckeyebutterfly-size_restricted.gif\">\n",
    "\n",
    "El siguiente sitio web muestra algunos ejemplos de la fenómenos que se distribuyen de forma Gaussiana: https://galtonboard.com/probabilityexamplesinlife ¿Por qué esta distribución parece ser tan común? \n",
    "\n",
    "Recordemos lo siguiente\n",
    "\n",
    "**Ley de los grandes números**\n",
    "\n",
    "Sean $X_1, X_2, \\ldots, X_N$ V.A independientes e idénticamente distribuidas (iid) con media $\\mu$. Se cumple que su promedio\n",
    "\n",
    "$$\n",
    "\\bar X = \\frac{1}{N} (X_1 + X_2 + \\ldots + X_N)\n",
    "$$\n",
    "\n",
    "tiende a $\\mu$ cuando $N \\to \\infty$\n",
    "\n",
    "**Teorema central del límite**\n",
    "\n",
    "Si $X_1, X_2, \\ldots, X_N$ son V.A iid, entonces su promedio de distribuye como\n",
    "\n",
    "$$\n",
    "\\bar X \\sim \\mathcal{N}(\\mu, \\sigma^2/N)\n",
    "$$\n",
    "\n",
    "Es decir que \n",
    "\n",
    "> El promedio (o suma) **se distribuye normal sin importar la distribución original** de las V.A. \n",
    "\n",
    "siempre y cuando las VA sean independientes. ¿Cúantos de los ejemplos del sitio web mencionado corresponden a sumas o promedios?"
   ]
  },
  {
   "cell_type": "markdown",
   "metadata": {},
   "source": [
    "### Ejercicio\n",
    "\n",
    "Sea una variable aleatoria que corresponde al lanzamiento de $n$ dados de seis caras. Lance los $n$ dados 1000 veces y muestre con un histograma la distribución del promedio de los $n$ dados. Repita para $n: 1, 2, ..., 15$\n",
    "\n",
    "¿Qué puede decir de la distribución que observa?\n",
    "\n",
    "Hint: Puede usar `scipy.stats.multinomial` para modelar el resultado de lanzar $n$ dados"
   ]
  },
  {
   "cell_type": "markdown",
   "metadata": {
    "ExecuteTime": {
     "end_time": "2020-07-21T01:59:02.136701Z",
     "start_time": "2020-07-21T01:59:02.085472Z"
    }
   },
   "source": [
    "**Solución paso a paso con comentarios**"
   ]
  },
  {
   "cell_type": "code",
   "execution_count": null,
   "metadata": {
    "ExecuteTime": {
     "end_time": "2020-07-21T01:59:05.027404Z",
     "start_time": "2020-07-21T01:59:02.138410Z"
    }
   },
   "outputs": [],
   "source": [
    "YouTubeVideo_formato('2QwMBZAlvc4')"
   ]
  }
 ],
 "metadata": {
  "kernelspec": {
   "display_name": "Python 3 (ipykernel)",
   "language": "python",
   "name": "python3"
  },
  "language_info": {
   "codemirror_mode": {
    "name": "ipython",
    "version": 3
   },
   "file_extension": ".py",
   "mimetype": "text/x-python",
   "name": "python",
   "nbconvert_exporter": "python",
   "pygments_lexer": "ipython3",
   "version": "3.10.4"
  },
  "toc": {
   "base_numbering": 1,
   "nav_menu": {},
   "number_sections": true,
   "sideBar": true,
   "skip_h1_title": false,
   "title_cell": "Table of Contents",
   "title_sidebar": "Contents",
   "toc_cell": false,
   "toc_position": {
    "height": "calc(100% - 180px)",
    "left": "10px",
    "top": "150px",
    "width": "294.4px"
   },
   "toc_section_display": true,
   "toc_window_display": true
  }
 },
 "nbformat": 4,
 "nbformat_minor": 2
}
