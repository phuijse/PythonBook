{
 "cells": [
  {
   "cell_type": "markdown",
   "metadata": {},
   "source": [
    "# Estadística inferencial: Ajuste de Modelos\n",
    "\n",
    "La inferencia busca extraer **conclusiones** a partir de **hechos u observaciones** a través de un **método o premisa**\n",
    "\n",
    "En el caso particular de la **inferencia estadística** podemos realizar las siguientes asociaciones\n",
    "\n",
    "- Hechos: Datos\n",
    "- Premisa: Modelo probabilístico\n",
    "- Conclusión: Una cantidad no observada que es interesante\n",
    "\n",
    "Y lo que buscamos es\n",
    "\n",
    "> Cuantificar la incerteza de la conclusión dado los datos y el modelo "
   ]
  },
  {
   "cell_type": "markdown",
   "metadata": {},
   "source": [
    "**Niveles de la estadística inferencial**\n",
    "\n",
    "La inferencia estadística puede dividirse en los siguientes tres niveles\n",
    "\n",
    "1. Ajustar un modelo a nuestros datos\n",
    "1. Verificar que el modelo sea confiable\n",
    "1. Responder una pregunta usando el modelo\n",
    "\n",
    "En lo que sigue estudiaremos las herramientas más utilizadas asociadas a cada uno de estos niveles\n",
    "\n",
    "1. **Estimador de máxima verosimilitud**\n",
    "1. **Bondad de ajuste** e **Intervalos de confianza**\n",
    "1. **Test de hipótesis**"
   ]
  },
  {
   "cell_type": "markdown",
   "metadata": {},
   "source": [
    "## Estimación de máxima verosimilitud\n",
    "\n",
    "En este nivel de inferencia se busca **ajustar** un modelo teórico sobre nuestros datos. Nos enfocaremos en **modelos de tipo parámetrico**, es decir aquellos donde **se explicita una distribución de probabilidad** \n",
    "\n",
    "Ajustar un modelo que se distribuye $\\mathcal{N}(\\mu, \\sigma^2)$ a nuestros datos corresponde a \n",
    "\n",
    "> encontrar los valores de $\\mu$ y $\\sigma$ tal que el modelo \"se parezca\" lo más posible a la distribución empírica de los datos\n",
    "\n",
    "A continuación definiremos estas nociones\n"
   ]
  },
  {
   "cell_type": "markdown",
   "metadata": {},
   "source": [
    "**¿Qué distribución ajustar?**\n",
    "\n",
    "Antes de ajustar debemos suponer una distribución. En general podemos ajustar cualquier distribución pero un mal supuesto podría invalidar nuestra inferencia\n",
    "\n",
    ":::{hint}\n",
    "\n",
    "Podemos usar las herramientas de **estadística descriptiva** para estudiar nuestros datos y tomar esta decisión de manera informada\n",
    "\n",
    ":::"
   ]
  },
  {
   "cell_type": "markdown",
   "metadata": {},
   "source": [
    "**¿Cómo ajustar mi modelo?**\n",
    "\n",
    "A continuación describiremos un procedimiento para ajustar modelos paramétricos llamado *maximum likelihood estimation* (MLE)\n",
    "\n",
    "Sea un conjunto de datos $\\{x_1, x_2, \\ldots, x_N\\}$. Antes de empezar haremos dos supuestos\n",
    "\n",
    "- **Supuesto 1:** Los datos siguen el modelo $f(x;\\theta)$ donde $f(\\cdot)$ es una distribución y $\\theta$ son sus parámetros\n",
    "- **Supuesto 2:** Las datos son independientes e idénticamente distribuidos (iid)\n"
   ]
  },
  {
   "cell_type": "markdown",
   "metadata": {},
   "source": [
    "Usando estos supuestos podemos desarrolar la distribución conjunta de los datos como como\n",
    "\n",
    "$$\n",
    "\\begin{split}\n",
    "f(x_1, x_2, \\ldots, x_N |\\theta) &= f(x_1|\\theta) f(x_2|\\theta) \\ldots f(x_N|\\theta)  \\\\\n",
    "& = \\prod_{i=1}^N f(x_i|\\theta)  \\\\\n",
    "& = \\mathcal{L}(\\theta)\n",
    "\\end{split}\n",
    "$$\n",
    "\n",
    "donde $\\mathcal{L}(\\theta)$ se conoce como la **verosimilitud** o probabilidad inversa de $\\theta$ \n"
   ]
  },
  {
   "cell_type": "markdown",
   "metadata": {},
   "source": [
    "Si consideramos que los datos son fijos podemos buscar el valor de $\\theta$ de máxima verosimilitud como\n",
    "\n",
    "$$\n",
    "\\begin{align}\n",
    "\\hat \\theta &= \\text{arg} \\max_\\theta \\mathcal{L}(\\theta) \\nonumber \\\\\n",
    "&= \\text{arg} \\max_\\theta \\log \\mathcal{L}(\\theta) \\nonumber \\\\\n",
    "&= \\text{arg} \\max_\\theta \\sum_{i=1}^N \\log f(x_i|\\theta) \n",
    "\\end{align}\n",
    "$$\n",
    "\n",
    ":::{note}\n",
    "\n",
    "El segundo paso es valido por que el argumento máximo de $g(x)$ y $\\log(g(x))$ son equivalentes (el logaritmo es monoticamente creciente)\n",
    "\n",
    ":::\n",
    "\n",
    "Ahora sólo falta encontrar el máximo. Podemos hacerlo\n",
    "\n",
    "- Analíticamente, derivando con respecto a $\\theta$ e igualando a cero\n",
    "- Usando técnicas de optimización iterativas como gradiente descedente"
   ]
  },
  {
   "cell_type": "markdown",
   "metadata": {},
   "source": [
    "**Ejemplo analítico:** \n",
    "\n",
    "Su profesor quiere medir su peso pero sospecha que su pesa está defectuosa. Para comprobarlo mide su peso $N$ veces obteniendo un conjunto de observaciones $\\{z_i\\}$. ¿Es posible obtener un estimador del peso real $\\hat z$ a partir de estas observaciones?\n",
    "\n",
    "Podemos modelar las observaciones como\n",
    "\n",
    "$$\n",
    "z_i = \\hat z + \\varepsilon_i\n",
    "$$\n",
    "\n",
    "donde $\\varepsilon_i$ corresponde al ruido o error del instrumento y asumiremos que $\\varepsilon_i \\sim \\mathcal{N}(0, \\sigma_\\varepsilon^2)$, es decir que el ruido es **independiente** y **Gaussiano** con media cero y **varianza** $\\sigma_\\varepsilon^2$ **conocida**\n",
    "\n",
    "Entonces la distribución de $z_i$ es\n",
    "\n",
    "$$\n",
    "f(z_i|\\hat z) = \\mathcal{N}(\\hat z, \\sigma_\\varepsilon^2)\n",
    "$$\n",
    "\n",
    "Para encontrar $\\hat z$, primero escribimos el logaritmo de la **verosimilitud**\n",
    "\n",
    "$$\n",
    "\\begin{align}\n",
    "\\log \\mathcal{L}(\\hat z) &=  \\sum_{i=1}^N \\log f(z_i|\\hat z) \\nonumber \\\\\n",
    "&= \\sum_{i=1}^N  \\log \\frac{1}{\\sqrt{2\\pi\\sigma_\\varepsilon^2}}  \\exp \\left ( - \\frac{1}{2\\sigma_\\varepsilon^2} (z_i - \\hat z)^2 \\right)  \\nonumber \\\\\n",
    "&= -\\frac{N}{2}\\log(2\\pi\\sigma_\\varepsilon^2)  - \\frac{1}{2\\sigma_\\varepsilon^2}  \\sum_{i=1}^N  (z_i - \\hat z)^2  \\nonumber\n",
    "\\end{align}\n",
    "$$"
   ]
  },
  {
   "cell_type": "markdown",
   "metadata": {},
   "source": [
    "Luego debemos resolver\n",
    "\n",
    "$$\n",
    "\\begin{align}\n",
    "\\hat \\theta &= \\text{arg} \\max_\\theta \\log \\mathcal{L}(\\theta) \\nonumber \\\\\n",
    "&= \\text{arg} \\max_\\theta - \\frac{1}{2\\sigma_\\varepsilon^2}  \\sum_{i=1}^N  (z_i - \\hat z)^2\n",
    "\\end{align}\n",
    "$$\n",
    "\n",
    "donde podemos ignorar el primer término de la verosimilitud ya que no depende de $\\theta$\n",
    "\n",
    "Para encontrar el máximo derivamos la expresión anterior e igualamos a cero \n",
    "\n",
    "$$\n",
    "-\\frac{1}{2\\sigma_\\varepsilon^2} \\sum_{i=1}^N 2(z_i - \\hat z) = 0.\n",
    "$$\n",
    "\n",
    "Finalmente si despejamos llegamos a que\n",
    "\n",
    "$$\n",
    "\\hat z = \\frac{1}{N} \\sum_{i=1}^N z_i,\n",
    "$$\n",
    "\n",
    "que se conoce como el estimador de máxima verosimilitud **para la media de una Gaussiana**\n",
    "\n",
    ":::{note}\n",
    "\n",
    "Podemos comprobar que es un máximo utilizando la segunda derivada\n",
    "\n",
    ":::\n",
    "\n",
    "A continuación veremos como hacer ajuste de parámetros con MLE para distintas distribuciones conocidas utilizando `scipy`"
   ]
  },
  {
   "cell_type": "markdown",
   "metadata": {},
   "source": [
    "## Estimación MLE con `scipy`\n",
    "\n",
    "El módulo [`scipy.stats`](https://docs.scipy.org/doc/scipy/reference/stats.html) provee de un gran número de distribuciones teóricas. Los objetos de tipo distribución comparten algunos métodos, entre ellos:\n",
    "\n",
    "- `pdf`/`pmf(x)`: Retorna la función de densidad/masa de probabilidad evaluada en $x$\n",
    "- `cdf(x)`: Retorna la función de densidad/masa acumulada evaluada en $x$\n",
    "- `ppf(p)`: Retorna  el inverso de la distribución acumulada\n",
    "- `rvs(size=N)`: Retorna $N$ muestras a partir de la distribución\n",
    "- `fit(data)`: Retorna los parámetros de la distribución ajutados al arreglo `data`\n",
    "\n",
    ":::{important}\n",
    "\n",
    "El método `fit` realiza estimación de máxima verosimilitud para obtener los parámetros\n",
    "\n",
    ":::\n",
    "\n",
    ":::{note}\n",
    "\n",
    "El método `fit` sólo está disponible para distribuciones univariadas (continuas o discretas)\n",
    "\n",
    ":::\n",
    "\n",
    "Para ejemplificar el uso de `fit` utilizaremos los siguientes datos"
   ]
  },
  {
   "cell_type": "code",
   "execution_count": 1,
   "metadata": {},
   "outputs": [],
   "source": [
    "import pickle\n",
    "import numpy as np\n",
    "import scipy.stats\n",
    "\n",
    "with open(\"data/mistery_data.pkl\", \"rb\") as f:\n",
    "    mistery_data = pickle.load(f)"
   ]
  },
  {
   "cell_type": "markdown",
   "metadata": {},
   "source": [
    "> Para ajustar un modelo parámetrico a estos datos primero creamos un objeto distribución y luego llamamos su método `fit`\n",
    "\n",
    "Por ejemplo si ajustamos una distribución normal a `mistery_data` obtenemos:"
   ]
  },
  {
   "cell_type": "code",
   "execution_count": 2,
   "metadata": {},
   "outputs": [
    {
     "data": {
      "text/plain": [
       "(1.7598526388767328, 0.5437958926009934)"
      ]
     },
     "execution_count": 2,
     "metadata": {},
     "output_type": "execute_result"
    }
   ],
   "source": [
    "normal_params = scipy.stats.norm.fit(mistery_data)\n",
    "normal_params"
   ]
  },
  {
   "cell_type": "markdown",
   "metadata": {},
   "source": [
    "El resultado son los estimadores de máxima verosimilitud de la media y la desviación estándar de la distribución normal"
   ]
  },
  {
   "cell_type": "markdown",
   "metadata": {},
   "source": [
    "Podemos visualizar el resultado del modelo ajustado utilizando `pdf`, sobre una objeto distribución creado a partir de los parámetros obtenidos\n",
    "\n",
    "Observemos el resultado en conjunto a un histograma de `mistery_data`"
   ]
  },
  {
   "cell_type": "code",
   "execution_count": 3,
   "metadata": {},
   "outputs": [],
   "source": [
    "fitted_distribution = scipy.stats.norm(*normal_params)\n",
    "\n",
    "x_eval = np.linspace(0, 4, num=100)\n",
    "p_eval = fitted_distribution.pdf(x_eval)"
   ]
  },
  {
   "cell_type": "code",
   "execution_count": 4,
   "metadata": {},
   "outputs": [
    {
     "data": {
      "image/png": "[encoded data removed]",
      "text/plain": [
       "<Figure size 504x288 with 1 Axes>"
      ]
     },
     "metadata": {
      "needs_background": "light"
     },
     "output_type": "display_data"
    }
   ],
   "source": [
    "%matplotlib inline\n",
    "import matplotlib.pyplot as plt\n",
    "\n",
    "fig, ax = plt.subplots(figsize=(7, 4), tight_layout=True)\n",
    "ax.hist(mistery_data, density=True, bins=20, label='data', alpha=0.75)\n",
    "ax.plot(x_eval, p_eval, lw=2, c='k', label='model')\n",
    "ax.legend();"
   ]
  },
  {
   "cell_type": "markdown",
   "metadata": {},
   "source": [
    "La visualización revela que los datos tienen una distribución asimétrica (cola derecha más larga)\n",
    "\n",
    "> Ajustar con un modelo normal no fue una buena decisión\n",
    "\n",
    "Intentemos nuevamente el ajuste pero con distribuciones de cola derecha larga:"
   ]
  },
  {
   "cell_type": "code",
   "execution_count": 5,
   "metadata": {},
   "outputs": [
    {
     "name": "stdout",
     "output_type": "stream",
     "text": [
      "(1.790519835925755, 0.9907786403961358, 0.4295227907552)\n",
      "(0.5432456929387437, 0.7550798666410953, 0.8711472938350178)\n",
      "(1.5177983118106886, 0.4010033437891445)\n"
     ]
    },
    {
     "data": {
      "image/png": "[encoded data removed]",
      "text/plain": [
       "<Figure size 504x288 with 1 Axes>"
      ]
     },
     "metadata": {
      "needs_background": "light"
     },
     "output_type": "display_data"
    }
   ],
   "source": [
    "fig, ax = plt.subplots(figsize=(7, 4), tight_layout=True)\n",
    "ax.hist(mistery_data, density=True, label='data', alpha=0.75, bins=20)\n",
    "\n",
    "for dist in [scipy.stats.gamma, \n",
    "             scipy.stats.lognorm, \n",
    "             scipy.stats.gumbel_r]:\n",
    "    mle_params = dist.fit(mistery_data)\n",
    "    print(mle_params)\n",
    "    ax.plot(x_eval, dist(*mle_params).pdf(x_eval), lw=2, label=dist.name)\n",
    "    \n",
    "ax.legend();"
   ]
  },
  {
   "cell_type": "markdown",
   "metadata": {},
   "source": [
    "A simple vista, el resultado del ajuste es superior al caso normal\n",
    "\n",
    "> ¿Cómo decidir cual modelo es superior?\n",
    "\n",
    "Para eso profundizaremos en el segundo nivel de la estadística inferencial"
   ]
  },
  {
   "cell_type": "markdown",
   "metadata": {},
   "source": [
    "## Verificación de modelos\n",
    "\n",
    "Una vez que hemos ajustado un modelo es buena práctica verificar la calidad o bondad del ajuste. Esto se puede hacer gráficamente utilizando histogramas, gráficos probabilidad-probabilidad (pp plot) o [gráficos cuantil-cuantil](https://es.wikipedia.org/wiki/Gr%C3%A1fico_Q-Q) (qq plot)\n",
    "\n",
    ":::{seealso}\n",
    "\n",
    "Para crear qq-plots o pp-plots en Python sugiero la [librería statsmodels](https://www.statsmodels.org/dev/graphics.html)\n",
    "\n",
    ":::\n",
    "\n",
    "También es muy usual visualizar la CDF de nuestro modelo teórico contra la CDF empírica de los datos. Por ejemplo:"
   ]
  },
  {
   "cell_type": "code",
   "execution_count": 6,
   "metadata": {},
   "outputs": [],
   "source": [
    "def ECDF(data):\n",
    "    data = np.sort(data)\n",
    "    n = len(data)\n",
    "    def result(x):\n",
    "        return np.searchsorted(data, x, side='right')/n\n",
    "    return result"
   ]
  },
  {
   "cell_type": "code",
   "execution_count": 7,
   "metadata": {},
   "outputs": [
    {
     "data": {
      "image/png": "[encoded data removed]",
      "text/plain": [
       "<Figure size 504x288 with 1 Axes>"
      ]
     },
     "metadata": {
      "needs_background": "light"
     },
     "output_type": "display_data"
    }
   ],
   "source": [
    "fig, ax = plt.subplots(figsize=(7, 4), tight_layout=True)\n",
    "\n",
    "ax.plot(x_eval, ECDF(mistery_data)(x_eval), lw=2, ls='--', label='ECDF')\n",
    "\n",
    "for dist in [scipy.stats.norm,\n",
    "             scipy.stats.gamma]:\n",
    "    mle_params = dist.fit(mistery_data)\n",
    "    ax.plot(x_eval, dist(*mle_params).cdf(x_eval), lw=2, \n",
    "            label=dist.name, alpha=1.)\n",
    "    \n",
    "ax.legend();"
   ]
  },
  {
   "cell_type": "markdown",
   "metadata": {},
   "source": [
    "Visualmente, el modelo gamma sigue más de cerca a la ECDF que el modelo normal"
   ]
  },
  {
   "cell_type": "markdown",
   "metadata": {},
   "source": [
    "**Test de Kolmogorov-Smirnov**\n",
    "\n",
    "Existen pruebas como el test de Kolmogorov-Smirnov (KS) y el test de Anderson-Darling (AS) que miden la diferencia entre la CDF empírica y teórica\n",
    "\n",
    "En particular el test de KS se basa en el siguiente estadístico de prueba\n",
    "\n",
    "$$\n",
    "D_n = \\sup_x |F_n(x) - F(x)|,\n",
    "$$\n",
    "\n",
    "es decir la distancia absoluta más grande entre $F_n(x)$, la CDF empírica, y $F(x)$, una CDF teórica de referencia\n",
    "\n",
    ":::{warning}\n",
    "\n",
    "El test de KS sólo se puede usar para distribuciones univariadas y continuas\n",
    "\n",
    ":::\n",
    "\n",
    ":::{note}\n",
    "\n",
    "El test de KS puede usarse para comparar dos muestras o para comparar una muestra con una distribución teórica\n",
    "\n",
    ":::\n",
    "\n",
    "El test de KS de una muestra está implementado en [`scipy.stats.kstest`](https://docs.scipy.org/doc/scipy/reference/generated/scipy.stats.kstest.html). Los principales argumentos de esta función son\n",
    "\n",
    "- un ndarray con las observaciones de nuestra muestra\n",
    "- un método `cdf` de una distribución continua de scipy.stats\n",
    "\n",
    "La función retorna un objeto cuyo atributo `statistic` es equivalente a $D_n$\n",
    "\n",
    "A continuación se calcula el valor de $D_n$ para cuatro distribuciones teóricas contra la CDF empírica de `mistery_data`:"
   ]
  },
  {
   "cell_type": "code",
   "execution_count": 8,
   "metadata": {},
   "outputs": [
    {
     "name": "stdout",
     "output_type": "stream",
     "text": [
      "norm      : Dn = 0.0981\n",
      "gamma     : Dn = 0.0538\n",
      "lognorm   : Dn = 0.0525\n",
      "gumbel_r  : Dn = 0.0493\n"
     ]
    }
   ],
   "source": [
    "for dist in [scipy.stats.norm,\n",
    "             scipy.stats.gamma, \n",
    "             scipy.stats.lognorm, \n",
    "             scipy.stats.gumbel_r]:\n",
    "    \n",
    "    mle_params = dist.fit(mistery_data)\n",
    "    fitted_distribution = dist(*mle_params)\n",
    "    result = scipy.stats.kstest(mistery_data, fitted_distribution.cdf)\n",
    "    print(f\"{dist.name:<10}: Dn = {result.statistic:0.4f}\")\n",
    "    "
   ]
  },
  {
   "cell_type": "markdown",
   "metadata": {},
   "source": [
    "La distribución de menor distancia es \"gumbel_r\", sin embargo \n",
    "\n",
    "> ¿Es significativa la diferencia en distancia que estamos observando?\n",
    "\n",
    "Para responder esta pregunta podemos realizar un **test de hipótesis**. Este es el tema principal de la lección siguiente\n",
    "\n",
    "\n",
    ":::{warning}\n",
    "\n",
    "`scipy.stats.kstest` también retorna un p-value asociado a la hipótesis nula de que las distribuciones que se están comparando son iguales. Este p-value sólo es válido si la CDF teórica no fue ajustada con los datos de la CDF empírica, por lo tanto lo hemos ignorado en este ejemplo. \n",
    "\n",
    ":::\n",
    "\n",
    ":::{seealso}\n",
    "\n",
    "- Para calcular un p-value para el test de KS donde la distribución teórica fue ajustada utilizando MLE la opción es utilizar *bootstrap*. Lo veremos en una lección futura\n",
    "- Para calcular el estadístico de Anderson-Darling (AD) sugiero la librería [statsmodels](https://www.statsmodels.org/stable/generated/statsmodels.stats.diagnostic.anderson_statistic.html). AD es más sensible que KS cuando la diferencia está concentrada en las colas de la distribución\n",
    "- Para variables discretas se puede usar el [test $\\chi^2$](https://docs.scipy.org/doc/scipy/reference/generated/scipy.stats.chisquare.html) de bondad de ajuste\n",
    "\n",
    ":::\n",
    "\n"
   ]
  },
  {
   "cell_type": "code",
   "execution_count": null,
   "metadata": {},
   "outputs": [],
   "source": []
  }
 ],
 "metadata": {
  "kernelspec": {
   "display_name": "Python 3 (ipykernel)",
   "language": "python",
   "name": "python3"
  },
  "language_info": {
   "codemirror_mode": {
    "name": "ipython",
    "version": 3
   },
   "file_extension": ".py",
   "mimetype": "text/x-python",
   "name": "python",
   "nbconvert_exporter": "python",
   "pygments_lexer": "ipython3",
   "version": "3.8.12"
  },
  "toc": {
   "base_numbering": 1,
   "nav_menu": {},
   "number_sections": true,
   "sideBar": true,
   "skip_h1_title": false,
   "title_cell": "Table of Contents",
   "title_sidebar": "Contents",
   "toc_cell": false,
   "toc_position": {
    "height": "calc(100% - 180px)",
    "left": "10px",
    "top": "150px",
    "width": "384px"
   },
   "toc_section_display": true,
   "toc_window_display": true
  }
 },
 "nbformat": 4,
 "nbformat_minor": 2
}
