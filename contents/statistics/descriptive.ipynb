{
 "cells": [
  {
   "cell_type": "markdown",
   "metadata": {},
   "source": [
    "# Estadística descriptiva\n",
    "\n",
    "La **estadística descriptiva** corresponde a los métodos numéricos y gráficos que nos permiten resumir, describir y visualizar nuestros datos\n",
    "\n",
    "También se suele llamar **análisis exploratorio de datos** y es clave para\n",
    "\n",
    "- Obtener información básica y resumida de nuestras variables\n",
    "- Descubrir patrones en nuestros datos\n",
    "- Detectar la presencia de outliers (valores fuera de rango)\n",
    "- Seleccionar de manera informada los métodos inferenciales que utilizaremos \n",
    "\n",
    "entre otros. El objetivo es describir nuestros datos para mejorar nuestro entendimiento de los mismos\n",
    "\n",
    "En esta lección veremos algunas funciones de `matplotlib`, `numpy` y `scipy.stats` para realizar estadística descriptiva "
   ]
  },
  {
   "cell_type": "code",
   "execution_count": 1,
   "metadata": {
    "ExecuteTime": {
     "end_time": "2020-07-21T01:59:00.678608Z",
     "start_time": "2020-07-21T01:58:59.791124Z"
    }
   },
   "outputs": [],
   "source": [
    "%matplotlib inline\n",
    "import numpy as np\n",
    "import pandas as pd\n",
    "import scipy.stats\n",
    "import matplotlib.pyplot as plt"
   ]
  },
  {
   "cell_type": "markdown",
   "metadata": {},
   "source": [
    "## Histogramas\n",
    "\n",
    "El histograma es una representación aproximada de la **distribución de probabilidad** de una variable\n",
    "\n",
    "Asumiendo que tenemos un vector con realizaciones de una variable aleatoria\n",
    "\n",
    "$$\n",
    "[x_1, x_2, \\ldots, x_N] \\sim X\n",
    "$$\n",
    "\n",
    "podemos construir un histograma en tres pasos\n",
    "\n",
    "1. Establecer un rango mínimo y máximo\n",
    "1. Dividir el rango en **cajones/bines**\n",
    "1. Medir la frecuencia relativa en cada cajón, es decir la cantidad de $x_i$ que caen en dicho cajón divido $N$\n",
    "\n",
    "\n",
    "**Ejemplo:** Para construir el siguiente histograma se utilizaron $7$ bines de tamaño $1$ regularmente distribuidos en el rango $[-3, 4]$\n",
    "\n",
    "<img src=\"img/stats4.png\">\n",
    "\n",
    "\n",
    "El ejemplo anterior corresponde al caso particular más común donde **los cajones son disjuntos y de igual tamaño**. En dicho caso los cajones se definen completamente con\n",
    "\n",
    "- el rango del histograma: Comienzo del primer bin y termino del último bin\n",
    "- la cantidad de bines: En conjunto con el rango especifican el tamaño de los bines\n",
    "\n",
    "\n",
    "**Histograma con Matplotlib**"
   ]
  },
  {
   "cell_type": "markdown",
   "metadata": {},
   "source": [
    "Consideremos el siguiente dataset con expectativa de vida, población y PIB per cápita por país al año 2007"
   ]
  },
  {
   "cell_type": "code",
   "execution_count": 2,
   "metadata": {},
   "outputs": [
    {
     "data": {
      "text/html": [
       "<div>\n",
       "<style scoped>\n",
       "    .dataframe tbody tr th:only-of-type {\n",
       "        vertical-align: middle;\n",
       "    }\n",
       "\n",
       "    .dataframe tbody tr th {\n",
       "        vertical-align: top;\n",
       "    }\n",
       "\n",
       "    .dataframe thead th {\n",
       "        text-align: right;\n",
       "    }\n",
       "</style>\n",
       "<table border=\"1\" class=\"dataframe\">\n",
       "  <thead>\n",
       "    <tr style=\"text-align: right;\">\n",
       "      <th></th>\n",
       "      <th>continent</th>\n",
       "      <th>lifeExp</th>\n",
       "      <th>pop</th>\n",
       "      <th>gdpPercap</th>\n",
       "    </tr>\n",
       "    <tr>\n",
       "      <th>country</th>\n",
       "      <th></th>\n",
       "      <th></th>\n",
       "      <th></th>\n",
       "      <th></th>\n",
       "    </tr>\n",
       "  </thead>\n",
       "  <tbody>\n",
       "    <tr>\n",
       "      <th>Afghanistan</th>\n",
       "      <td>Asia</td>\n",
       "      <td>43.828</td>\n",
       "      <td>31889923</td>\n",
       "      <td>974.580338</td>\n",
       "    </tr>\n",
       "    <tr>\n",
       "      <th>Albania</th>\n",
       "      <td>Europe</td>\n",
       "      <td>76.423</td>\n",
       "      <td>3600523</td>\n",
       "      <td>5937.029526</td>\n",
       "    </tr>\n",
       "    <tr>\n",
       "      <th>Algeria</th>\n",
       "      <td>Africa</td>\n",
       "      <td>72.301</td>\n",
       "      <td>33333216</td>\n",
       "      <td>6223.367465</td>\n",
       "    </tr>\n",
       "    <tr>\n",
       "      <th>Angola</th>\n",
       "      <td>Africa</td>\n",
       "      <td>42.731</td>\n",
       "      <td>12420476</td>\n",
       "      <td>4797.231267</td>\n",
       "    </tr>\n",
       "    <tr>\n",
       "      <th>Argentina</th>\n",
       "      <td>Americas</td>\n",
       "      <td>75.320</td>\n",
       "      <td>40301927</td>\n",
       "      <td>12779.379640</td>\n",
       "    </tr>\n",
       "  </tbody>\n",
       "</table>\n",
       "</div>"
      ],
      "text/plain": [
       "            continent  lifeExp       pop     gdpPercap\n",
       "country                                               \n",
       "Afghanistan      Asia   43.828  31889923    974.580338\n",
       "Albania        Europe   76.423   3600523   5937.029526\n",
       "Algeria        Africa   72.301  33333216   6223.367465\n",
       "Angola         Africa   42.731  12420476   4797.231267\n",
       "Argentina    Americas   75.320  40301927  12779.379640"
      ]
     },
     "execution_count": 2,
     "metadata": {},
     "output_type": "execute_result"
    }
   ],
   "source": [
    "df = pd.read_csv('data/gapminder.csv', index_col=2).loc[2007].set_index(\"country\")\n",
    "df.head()"
   ]
  },
  {
   "cell_type": "markdown",
   "metadata": {},
   "source": [
    "La función [`hist`](https://matplotlib.org/3.5.0/api/_as_gen/matplotlib.pyplot.hist.html) de matplotlib nos retorna el histograma y además lo gráfica. Sus principales argumentos \"funcionales\" son:\n",
    "\n",
    "- Un `ndarray` unidimensional\n",
    "- `bins`: La cantidad de cajones \n",
    "- `range`: Una tupla  con el límite mínimo y máximo del histograma\n",
    "- `density`: Un booleano para especificar si se retorna la frecuencia relativa o absoluta\n",
    "- `cumulative`: Un booleano para especificar si se retorna la frecuencia acumulada\n",
    "\n",
    "También tiene argumentos que modifican la apariencia del gráfico como `color`, `orientation`, `align`, entre otros\n",
    "\n",
    "\n",
    "Por ejemplo:"
   ]
  },
  {
   "cell_type": "code",
   "execution_count": 3,
   "metadata": {},
   "outputs": [
    {
     "data": {
      "text/plain": [
       "array([15., 20., 18., 38., 51.])"
      ]
     },
     "metadata": {},
     "output_type": "display_data"
    },
    {
     "data": {
      "text/plain": [
       "array([39.613, 48.211, 56.809, 65.407, 74.005, 82.603])"
      ]
     },
     "metadata": {},
     "output_type": "display_data"
    },
    {
     "data": {
      "image/png": "[encoded data removed]",
      "text/plain": [
       "<Figure size 432x216 with 1 Axes>"
      ]
     },
     "metadata": {
      "needs_background": "light"
     },
     "output_type": "display_data"
    }
   ],
   "source": [
    "fig, ax = plt.subplots(figsize=(6, 3), tight_layout=True)\n",
    "counts, bin_edges, artist = ax.hist(df[\"lifeExp\"], bins=5, edgecolor='black')\n",
    "ax.set_xlabel('Expectativa de vida')\n",
    "display(counts, bin_edges)"
   ]
  },
  {
   "cell_type": "markdown",
   "metadata": {},
   "source": [
    "donde `counts` corresponde a los conteos (frecuencias) y `bin_edges` a los límites de los cajones. Notar que para cinco  cajones tendremos seis límites\n",
    "\n",
    "**Influencia de la cantidad de bines**\n",
    "\n",
    "A continuación se muestra como cambia el histograma usando distinto número de cajas (`bins`)"
   ]
  },
  {
   "cell_type": "code",
   "execution_count": 4,
   "metadata": {},
   "outputs": [
    {
     "data": {
      "image/png": "[encoded data removed]",
      "text/plain": [
       "<Figure size 432x576 with 5 Axes>"
      ]
     },
     "metadata": {
      "needs_background": "light"
     },
     "output_type": "display_data"
    }
   ],
   "source": [
    "fig, ax = plt.subplots(5, figsize=(6, 8), tight_layout=True, sharex=True)\n",
    "\n",
    "for k, bins in enumerate([2, 5, 10, 20, 30]):\n",
    "    ax[k].hist(df[\"lifeExp\"], bins=bins, edgecolor='black', label=f\"{bins}\")\n",
    "    ax[k].legend(loc=2)\n",
    "ax[-1].set_xlabel('Expectativa de vida');"
   ]
  },
  {
   "cell_type": "markdown",
   "metadata": {},
   "source": [
    ":::{important}\n",
    "\n",
    "La cantidad de bines (en relación al rango) controla la resolución del histograma\n",
    "\n",
    "- Utilizar muy pocos bines resultará en pérdida de detalle (bines muy anchos)\n",
    "- Utilizar demasiados bines resultará en un histograma muy ruidoso (bines muy delgados)\n",
    "\n",
    ":::\n",
    "\n",
    "En el ejemplo anterior utilizar dos bines nos da una estimación demasiado gruesa, mientras que usar 30 nos da una estimación demasiado ruidosa. El mejor compromiso parece estar entre 10 y 20\n",
    "\n",
    ":::{hint}\n",
    "\n",
    "Usa distintos valores de `bins` y evalua cualitativamente los resultados\n",
    "\n",
    ":::\n",
    "\n",
    "Como valor inicial para `bins` se puede utilizar una heurística como la \"regla de Silverman\", la cual nos da un estimado para el ancho de los bines\n",
    "\n",
    "$$\n",
    "\\Delta = 0.9 \\sigma N^{-1/5}\n",
    "$$\n",
    "\n",
    "donde $N$ es la cantidad de datos y $\\sigma$ es la desviación estándar de los datos. Si dividimos el rango por el ancho de los bines y luego redondeamos obtenemos"
   ]
  },
  {
   "cell_type": "code",
   "execution_count": 5,
   "metadata": {},
   "outputs": [
    {
     "data": {
      "text/plain": [
       "11"
      ]
     },
     "execution_count": 5,
     "metadata": {},
     "output_type": "execute_result"
    }
   ],
   "source": [
    "silverman_rule = lambda data: 0.9*np.std(data)*len(data)**(-1/5)\n",
    "rango = lambda data: np.amax(data) - np.amin(data)\n",
    "\n",
    "int(np.round(rango(df[\"lifeExp\"])/silverman_rule(df[\"lifeExp\"])))"
   ]
  },
  {
   "cell_type": "markdown",
   "metadata": {},
   "source": [
    "**Interpretación de un histograma**\n",
    "\n",
    "El histograma revela visualmente algunas propiedades y comportamientos de la distribución de nuestra muestra. Usando un histograma podemos reconocer nuestros datos en alguna de las distribuciones que vimos en la lección anterior\n",
    "\n",
    "Considere ahora los siguientes ejemplos de histogramas de distribuciones univariadas\n",
    "\n",
    "<img src=\"img/stats5.png\">\n",
    "\n",
    "Utilizando el histograma podemos estudiar\n",
    "\n",
    "- Peso relativo entre la cola izquierda y derecha: Simetría de la distribución\n",
    "- La cantidad de modas de una distribución: Puede ser una (normal), múltiples o ninguna en particular (uniforme)\n"
   ]
  },
  {
   "cell_type": "markdown",
   "metadata": {},
   "source": [
    "**Histograma en dos dimensiones**\n",
    "\n",
    "La noción de histograma se puede extender al caso de dos variables utilizando cajones (bines) bidimensionales\n",
    "\n",
    "La función [`hist2d`](https://matplotlib.org/3.5.0/api/_as_gen/matplotlib.pyplot.hist2d.html) de matplotlib construye un histograma en dos dimensiones y lo grafica como un mapa de contornos\n",
    "\n",
    "A continuación se muestra un histograma de la expectativa de vida (horizontal) y el PIB per cápita (vertical)"
   ]
  },
  {
   "cell_type": "code",
   "execution_count": 6,
   "metadata": {},
   "outputs": [
    {
     "data": {
      "image/png": "[encoded data removed]",
      "text/plain": [
       "<Figure size 432x288 with 2 Axes>"
      ]
     },
     "metadata": {
      "needs_background": "light"
     },
     "output_type": "display_data"
    }
   ],
   "source": [
    "fig, ax = plt.subplots(figsize=(6, 4), tight_layout=True)\n",
    "res = ax.hist2d(df[\"lifeExp\"], df[\"gdpPercap\"], bins=15, edgecolor='black', cmap=plt.cm.Blues)\n",
    "counts, bin_edges_x, bin_edges_y, artist = res\n",
    "ax.set_xlabel('Expectativa de vida')\n",
    "ax.set_ylabel('PIB per capita')\n",
    "fig.colorbar(artist);"
   ]
  },
  {
   "cell_type": "markdown",
   "metadata": {},
   "source": [
    "donde `counts` corresponde a los conteos (frecuencias) y `bin_edges_x`/`bin_edges_y` corresponde a los límites horizontales y verticales, respectivamente\n",
    "\n",
    ":::{note}\n",
    "\n",
    "Con el histograma en dos dimensiones exploramos la **distribución conjunta** de las variables. Esto nos permite revelar correlaciones entre las variables\n",
    "\n",
    ":::\n",
    "\n"
   ]
  },
  {
   "cell_type": "markdown",
   "metadata": {},
   "source": [
    "## Distribución acumulada empírica\n",
    "\n",
    "Para calcular probabilidades a partir de neustros datos necesitamos su distribución. En general no conocemos la función de masa/densidad subyacente de los datos, pero podemos calcular su **distribución empírica**\n",
    "\n",
    "Si tengo $n$ datos $X_1, X_2, \\ldots, X_n$, su distribución acumulada empírica es\n",
    "\n",
    "$$\n",
    "F_n(x) = \\frac{1}{n} \\sum_{i=1}^n \\mathbb{1}(X_i < x)\n",
    "$$\n",
    "\n",
    "Donde la función indicadora $\\mathbb{1}(X_i<x)$ es igual a $1$ si la $X_i<x$ o $0$ en el caso contrario\n",
    "\n",
    "Si los datos están ordenados entonces sólo tenemos que buscar en que posición se encuentra $x$ y dividir por $n$\n",
    "\n",
    "Podemos implementarla en NumPy como"
   ]
  },
  {
   "cell_type": "code",
   "execution_count": 7,
   "metadata": {},
   "outputs": [],
   "source": [
    "def ECDF(data):\n",
    "    data = np.sort(data)\n",
    "    n = len(data)\n",
    "    def result(x):\n",
    "        return np.searchsorted(data, x, side='right')/n\n",
    "    return result"
   ]
  },
  {
   "cell_type": "markdown",
   "metadata": {},
   "source": [
    "**Ejemplo**\n",
    "\n",
    "¿Cuál es la probabilidad de seleccionar al azar un país que tenga expectativa de vida menor a 80 años? "
   ]
  },
  {
   "cell_type": "code",
   "execution_count": 8,
   "metadata": {},
   "outputs": [
    {
     "data": {
      "text/plain": [
       "0.9084507042253521"
      ]
     },
     "execution_count": 8,
     "metadata": {},
     "output_type": "execute_result"
    }
   ],
   "source": [
    "ECDF(df[\"lifeExp\"])(80)"
   ]
  },
  {
   "cell_type": "markdown",
   "metadata": {},
   "source": [
    "¿Cuál es la probabilidad de seleccionar al azar país que tenga expectativa de vida mayor a 60 años? "
   ]
  },
  {
   "cell_type": "code",
   "execution_count": 9,
   "metadata": {},
   "outputs": [
    {
     "data": {
      "text/plain": [
       "0.6971830985915493"
      ]
     },
     "execution_count": 9,
     "metadata": {},
     "output_type": "execute_result"
    }
   ],
   "source": [
    "1. - ECDF(df[\"lifeExp\"])(60)"
   ]
  },
  {
   "cell_type": "markdown",
   "metadata": {},
   "source": [
    "¿Cuál es la probabilidad de seleccionar al azar país que tenga expectativa de vida entre 60 y 80 años? "
   ]
  },
  {
   "cell_type": "code",
   "execution_count": 10,
   "metadata": {},
   "outputs": [
    {
     "data": {
      "text/plain": [
       "0.6056338028169015"
      ]
     },
     "execution_count": 10,
     "metadata": {},
     "output_type": "execute_result"
    }
   ],
   "source": [
    "ECDF(df[\"lifeExp\"])(80) - ECDF(df[\"lifeExp\"])(60)"
   ]
  },
  {
   "cell_type": "markdown",
   "metadata": {},
   "source": [
    "## Descriptores de la distribución"
   ]
  },
  {
   "cell_type": "markdown",
   "metadata": {},
   "source": [
    "Visualizar la distribución nos da mucha información. Pero en algunos casos sólo interesa comprobar la existencia de ciertas características o atributos de la distribución\n",
    "\n",
    "> Podemos resumir una distribución en función de sus **momentos**\n",
    "\n",
    "Cada momento describe una propiedad en particular\n",
    "\n",
    "- Primer momento o media: Describe donde está localizada la distribución\n",
    "- Segundo momento o varianza: Describe el ancho o dispersión de la distribución\n",
    "- Tercer momento o simetría (skewness): Indica si la distribución es más pesada hacia la izquierda o hacia la derecha\n",
    "- Cuarto momento o curtosis (kurtosis): Indica si la distribución es picuda o plana\n",
    "\n",
    "La siguiente figura esquematiza las influencia de los momentos\n",
    "\n",
    "<img src=\"https://images.deepai.org/django-summernote/2019-07-02/4d0a6ff1-8b53-4537-9d0a-919993d10024.png\" width=\"500\">\n",
    "\n",
    "También podemos describir una distribución en función de la\n",
    "\n",
    "- Moda: Valor más repetido\n",
    "- Mediana: Valor central\n",
    "- Diferencias entre percentiles"
   ]
  },
  {
   "cell_type": "markdown",
   "metadata": {},
   "source": [
    "**Calculando descriptores con `pandas` y `scipy`**\n",
    "\n",
    "Los dataframe tienen un método llamado [`describe`](https://pandas.pydata.org/docs/reference/api/pandas.DataFrame.describe.html) que retorna la media, la desviación estándar y los percentiles de los atributos"
   ]
  },
  {
   "cell_type": "code",
   "execution_count": 11,
   "metadata": {},
   "outputs": [
    {
     "data": {
      "text/html": [
       "<div>\n",
       "<style scoped>\n",
       "    .dataframe tbody tr th:only-of-type {\n",
       "        vertical-align: middle;\n",
       "    }\n",
       "\n",
       "    .dataframe tbody tr th {\n",
       "        vertical-align: top;\n",
       "    }\n",
       "\n",
       "    .dataframe thead th {\n",
       "        text-align: right;\n",
       "    }\n",
       "</style>\n",
       "<table border=\"1\" class=\"dataframe\">\n",
       "  <thead>\n",
       "    <tr style=\"text-align: right;\">\n",
       "      <th></th>\n",
       "      <th>lifeExp</th>\n",
       "      <th>pop</th>\n",
       "      <th>gdpPercap</th>\n",
       "    </tr>\n",
       "  </thead>\n",
       "  <tbody>\n",
       "    <tr>\n",
       "      <th>count</th>\n",
       "      <td>142.000000</td>\n",
       "      <td>1.420000e+02</td>\n",
       "      <td>142.000000</td>\n",
       "    </tr>\n",
       "    <tr>\n",
       "      <th>mean</th>\n",
       "      <td>67.007423</td>\n",
       "      <td>4.402122e+07</td>\n",
       "      <td>11680.071820</td>\n",
       "    </tr>\n",
       "    <tr>\n",
       "      <th>std</th>\n",
       "      <td>12.073021</td>\n",
       "      <td>1.476214e+08</td>\n",
       "      <td>12859.937337</td>\n",
       "    </tr>\n",
       "    <tr>\n",
       "      <th>min</th>\n",
       "      <td>39.613000</td>\n",
       "      <td>1.995790e+05</td>\n",
       "      <td>277.551859</td>\n",
       "    </tr>\n",
       "    <tr>\n",
       "      <th>25%</th>\n",
       "      <td>57.160250</td>\n",
       "      <td>4.508034e+06</td>\n",
       "      <td>1624.842248</td>\n",
       "    </tr>\n",
       "    <tr>\n",
       "      <th>50%</th>\n",
       "      <td>71.935500</td>\n",
       "      <td>1.051753e+07</td>\n",
       "      <td>6124.371108</td>\n",
       "    </tr>\n",
       "    <tr>\n",
       "      <th>75%</th>\n",
       "      <td>76.413250</td>\n",
       "      <td>3.121004e+07</td>\n",
       "      <td>18008.835640</td>\n",
       "    </tr>\n",
       "    <tr>\n",
       "      <th>max</th>\n",
       "      <td>82.603000</td>\n",
       "      <td>1.318683e+09</td>\n",
       "      <td>49357.190170</td>\n",
       "    </tr>\n",
       "  </tbody>\n",
       "</table>\n",
       "</div>"
      ],
      "text/plain": [
       "          lifeExp           pop     gdpPercap\n",
       "count  142.000000  1.420000e+02    142.000000\n",
       "mean    67.007423  4.402122e+07  11680.071820\n",
       "std     12.073021  1.476214e+08  12859.937337\n",
       "min     39.613000  1.995790e+05    277.551859\n",
       "25%     57.160250  4.508034e+06   1624.842248\n",
       "50%     71.935500  1.051753e+07   6124.371108\n",
       "75%     76.413250  3.121004e+07  18008.835640\n",
       "max     82.603000  1.318683e+09  49357.190170"
      ]
     },
     "execution_count": 11,
     "metadata": {},
     "output_type": "execute_result"
    }
   ],
   "source": [
    "df.describe()"
   ]
  },
  {
   "cell_type": "markdown",
   "metadata": {},
   "source": [
    "También podemos utilizar la función [`describe`](https://docs.scipy.org/doc/scipy/reference/generated/scipy.stats.describe.html#scipy.stats.describe) de scipy.stats "
   ]
  },
  {
   "cell_type": "code",
   "execution_count": 12,
   "metadata": {},
   "outputs": [],
   "source": [
    "res = scipy.stats.describe(df[[\"lifeExp\", \"gdpPercap\"]])"
   ]
  },
  {
   "cell_type": "markdown",
   "metadata": {},
   "source": [
    "El objeto retornado tiene atributos\n",
    "\n",
    "- `nobs`: Número de observaciones\n",
    "- `minmax`: Tuplas con valor mínimo y máximo\n",
    "- `mean`: Primer momento\n",
    "- `variance`: Segundo momento\n",
    "- `skewness`: Tercer momento\n",
    "- `kurtosis`: Cuarto momento"
   ]
  },
  {
   "cell_type": "markdown",
   "metadata": {},
   "source": [
    "Por ejemplo la simetría de las variables consultadas:"
   ]
  },
  {
   "cell_type": "code",
   "execution_count": 13,
   "metadata": {},
   "outputs": [
    {
     "data": {
      "text/plain": [
       "array([-0.6814798 ,  1.21122788])"
      ]
     },
     "execution_count": 13,
     "metadata": {},
     "output_type": "execute_result"
    }
   ],
   "source": [
    "res.skewness"
   ]
  },
  {
   "cell_type": "markdown",
   "metadata": {},
   "source": [
    "Finalmente, si necesitamos un momento en particular, podemos utilizar [`moment`](https://docs.scipy.org/doc/scipy/reference/generated/scipy.stats.moment.html) de scipy.stats"
   ]
  },
  {
   "cell_type": "code",
   "execution_count": 14,
   "metadata": {},
   "outputs": [
    {
     "data": {
      "text/plain": [
       "-739409.7609087641"
      ]
     },
     "execution_count": 14,
     "metadata": {},
     "output_type": "execute_result"
    }
   ],
   "source": [
    "scipy.stats.moment(df[\"lifeExp\"], moment=5)"
   ]
  }
 ],
 "metadata": {
  "kernelspec": {
   "display_name": "Python 3 (ipykernel)",
   "language": "python",
   "name": "python3"
  },
  "language_info": {
   "codemirror_mode": {
    "name": "ipython",
    "version": 3
   },
   "file_extension": ".py",
   "mimetype": "text/x-python",
   "name": "python",
   "nbconvert_exporter": "python",
   "pygments_lexer": "ipython3",
   "version": "3.8.12"
  },
  "toc": {
   "base_numbering": 1,
   "nav_menu": {},
   "number_sections": true,
   "sideBar": true,
   "skip_h1_title": false,
   "title_cell": "Table of Contents",
   "title_sidebar": "Contents",
   "toc_cell": false,
   "toc_position": {
    "height": "calc(100% - 180px)",
    "left": "10px",
    "top": "150px",
    "width": "294.4px"
   },
   "toc_section_display": true,
   "toc_window_display": true
  }
 },
 "nbformat": 4,
 "nbformat_minor": 2
}
