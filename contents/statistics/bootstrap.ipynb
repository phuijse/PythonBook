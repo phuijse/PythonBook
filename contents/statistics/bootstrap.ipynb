{
 "cells": [
  {
   "cell_type": "markdown",
   "metadata": {},
   "source": [
    "# Prueba no-paramétrica: *Bootstrap*\n",
    "\n",
    "Podemos estimar la incerteza de un estimador de forma no-paramétrica usando **muestreo tipo *bootstrap***\n",
    "\n",
    "Esto consiste en tomar nuestro conjunto de datos de tamaño $n$ y crear $m$ nuevos conjuntos que \"se le parezcan\". Luego se calcula el valor del estimador que estamos buscando en los $m$ conjuntos. Con esto obtenemos una distribución para el estimador como muestra el siguiente diagrama\n",
    "\n",
    "<img src=\"img/stats8.png\" width=\"700\">\n",
    "\n",
    "Podemos responder preguntas sobre el estadístico, calcular probabilidades y/o medir intervalos de confianza utilizando la distribución obtenida con bootstrap\n",
    "\n",
    ":::{important}\n",
    "\n",
    "Bootstrap es un procedimiento no parámetrico pues no requiere suponer que la muestra original sigue una distribución específica (e.g. normal)\n",
    "\n",
    ":::\n",
    "\n",
    "\n",
    "Para crear los subconjuntos podríamos suponer independencia y utilizar **muestreo con reemplazo**. Esto consiste en tomar $N$ muestras al azar permitiendo repeticiones, como muestra el siguiente diagrama\n",
    "\n",
    "<img src=\"img/stats7.png\" width=\"700\">\n",
    "\n",
    "Si no es posible suponer indepedencia se puede realizar bootstrap basado en residuos y bootstrap dependiente. Puedes consultar más detalles sobre [*bootstrap*](https://www.stat.cmu.edu/~cshalizi/402/lectures/08-bootstrap/lecture-08.pdf) [aquí](http://homepage.divms.uiowa.edu/~rdecook/stat3200/notes/bootstrap_4pp.pdf) y [acá](https://www.sagepub.com/sites/default/files/upm-binaries/21122_Chapter_21.pdf)\n",
    "\n",
    "A continuación nos enfocaremos en el clásico muestreo con reemplazo y como implementarlo en Python"
   ]
  },
  {
   "cell_type": "code",
   "execution_count": 1,
   "metadata": {},
   "outputs": [],
   "source": [
    "%matplotlib inline\n",
    "import pandas as pd\n",
    "import numpy as np\n",
    "import scipy.stats\n",
    "import matplotlib.pyplot as plt"
   ]
  },
  {
   "cell_type": "markdown",
   "metadata": {},
   "source": [
    "## Implementación con Numpy y Scipy\n",
    "\n",
    "La función [`numpy.random.choice`](https://numpy.org/doc/stable/reference/random/generated/numpy.random.choice.html) permite remuestrear con repetición a partir de un ndarray\n",
    "\n",
    "Consideremos el ejemplo del modelo de regresión lineal sobre la base de datos de consumo de helados que hemos utilizado anteriormente. En este casi debemos remuestrar las parejas/tuplas $(x_i, y_i)$\n",
    "\n",
    "> Utilicemos bootstrap para encontrar distribuciones de $\\theta_0$, $\\theta_1$ y el coeficiente de correlación $r$\n",
    "\n",
    "Para calcular los parámetros y $r$ en cada muestreo utilizamos `scipy.stats.linregress`. El resultado para una regresión de consumo versus temperatura esto sería:"
   ]
  },
  {
   "cell_type": "code",
   "execution_count": 2,
   "metadata": {
    "ExecuteTime": {
     "end_time": "2020-07-23T18:29:13.021567Z",
     "start_time": "2020-07-23T18:29:12.539446Z"
    }
   },
   "outputs": [],
   "source": [
    "df = pd.read_csv('../linalg/data/helados.csv', header=0, index_col=0)\n",
    "df.columns = ['consumo', 'ingreso', 'precio', 'temperatura']\n",
    "\n",
    "x, y = df[\"temperatura\"].values, df[\"consumo\"].values\n",
    "params = scipy.stats.linregress(x, y)\n",
    "np.random.seed(0)\n",
    "\n",
    "def muestreo_con_reemplazo(x, y):\n",
    "    n = len(x)\n",
    "    idx = np.random.choice(n, size=n, replace=True)\n",
    "    return x[idx], y[idx]\n",
    "\n",
    "def bootstrap_linregress(x, y, m):\n",
    "    # Parámetros: t0, t1 y r\n",
    "    params = np.zeros(shape=(m, 3)) \n",
    "    for j in range(m):\n",
    "        res = scipy.stats.linregress(*muestreo_con_reemplazo(x, y))\n",
    "        params[j, :] = [res.intercept, res.slope, res.rvalue]\n",
    "    return params\n",
    "\n",
    "bootstrap_params = bootstrap_linregress(x, y, m=1000)"
   ]
  },
  {
   "cell_type": "markdown",
   "metadata": {},
   "source": [
    "Y las distribuciones bootstrap de cada estadístico son:"
   ]
  },
  {
   "cell_type": "code",
   "execution_count": 3,
   "metadata": {},
   "outputs": [
    {
     "data": {
      "image/png": "[encoded data removed]",
      "text/plain": [
       "<Figure size 576x216 with 3 Axes>"
      ]
     },
     "metadata": {
      "needs_background": "light"
     },
     "output_type": "display_data"
    }
   ],
   "source": [
    "fig, ax = plt.subplots(1, 3, figsize=(8, 3), tight_layout=True)\n",
    "\n",
    "for ax_, dist, name in zip(ax, bootstrap_params.T, ['theta0', 'theta1', 'r']):\n",
    "    ax_.hist(dist, bins=20)\n",
    "    ax_.set_xlabel(name)"
   ]
  },
  {
   "cell_type": "markdown",
   "metadata": {},
   "source": [
    "## Intervalos de confianza empíricos\n",
    "\n",
    "Veamos más en detalle la distribución empírica de $r$ obtenida usando bootstrap\n",
    "\n",
    "En la figura de abajo tenemos\n",
    "\n",
    "- Linea roja: valor de $r$ con la muestra original\n",
    "- Lineas punteadas negras: Intervalo de confianza empírico al 95%\n",
    "\n",
    "Podemos calcular facilmente el intervalo de confianza de en un arreglo utilizando [`np.percentile`](https://numpy.org/doc/stable/reference/generated/numpy.percentile.html?highlight=percentile#numpy.percentile)\n"
   ]
  },
  {
   "cell_type": "code",
   "execution_count": 4,
   "metadata": {
    "ExecuteTime": {
     "end_time": "2020-07-23T18:29:13.079035Z",
     "start_time": "2020-07-23T18:29:13.023395Z"
    }
   },
   "outputs": [
    {
     "name": "stdout",
     "output_type": "stream",
     "text": [
      "Intervalo de confianza al 95% de r: [0.63497799 0.87744519]\n"
     ]
    },
    {
     "data": {
      "image/png": "[encoded data removed]",
      "text/plain": [
       "<Figure size 360x216 with 1 Axes>"
      ]
     },
     "metadata": {
      "needs_background": "light"
     },
     "output_type": "display_data"
    }
   ],
   "source": [
    "r_bootstrap = bootstrap_params[:, 2]\n",
    "IC = np.percentile(r_bootstrap, [2.5, 97.5])\n",
    "\n",
    "fig, ax = plt.subplots(figsize=(5, 3), tight_layout=True)\n",
    "hist_val, hist_lim, _ = ax.hist(r_bootstrap, bins=20, density=True)\n",
    "ax.plot([params.rvalue]*2, [0, np.max(hist_val)], 'r-', lw=2)\n",
    "ax.plot([IC[0]]*2, [0, np.max(hist_val)], 'k--', lw=2)\n",
    "ax.plot([IC[1]]*2, [0, np.max(hist_val)], 'k--', lw=2)\n",
    "ax.set_xlabel('r')\n",
    "\n",
    "print(f\"Intervalo de confianza al 95% de r: {IC}\")"
   ]
  },
  {
   "cell_type": "markdown",
   "metadata": {},
   "source": [
    "De la figura podemos notar que el 95% de la distribución empírica esta sobre $r=0.5$\n",
    "\n",
    ":::{note}\n",
    "\n",
    "La distribución empírica de $r$ no es simétrica. Por lo tanto aplicar un t-test parámetrico sobre $r$ no hubiera sido correcto (se quiebra el supuesto de normalidad)\n",
    "\n",
    ":::"
   ]
  },
  {
   "cell_type": "markdown",
   "metadata": {},
   "source": [
    "## Visualizando la incerteza del modelo\n",
    "\n",
    "Usando la distribución empírica de los parámetros $\\theta_0$ y $\\theta_1$ podemos visualizar la incerteza de nuestro modelo de regresión lineal"
   ]
  },
  {
   "cell_type": "code",
   "execution_count": 5,
   "metadata": {},
   "outputs": [],
   "source": [
    "x_test = np.linspace(20, 80, num=200)\n",
    "\n",
    "def model(theta0, theta1, x):\n",
    "    return x*theta1 + theta0\n",
    "\n",
    "dist_lines = model(bootstrap_params[:, 0], bootstrap_params[:, 1], x_test.reshape(-1, 1)).T\n",
    "\n",
    "lower, median, upper = np.percentile(dist_lines, [1, 50, 99], axis=0)"
   ]
  },
  {
   "cell_type": "markdown",
   "metadata": {},
   "source": [
    "En la figura de abajo tenemos\n",
    "\n",
    "- Puntos azules: Datos\n",
    "- Linea roja: Modelo de regresión lineal sobre la muestra original\n",
    "- Sombra rojo claro: Intervalo de confianza al 98\\% de la distribución predictiva de acuerdo a bootstrap"
   ]
  },
  {
   "cell_type": "code",
   "execution_count": 6,
   "metadata": {
    "ExecuteTime": {
     "end_time": "2020-07-23T18:29:13.157915Z",
     "start_time": "2020-07-23T18:29:13.080675Z"
    }
   },
   "outputs": [
    {
     "data": {
      "image/png": "[encoded data removed]",
      "text/plain": [
       "<Figure size 432x216 with 1 Axes>"
      ]
     },
     "metadata": {
      "needs_background": "light"
     },
     "output_type": "display_data"
    }
   ],
   "source": [
    "fig, ax = plt.subplots(figsize=(6, 3), tight_layout=True)\n",
    "ax.set_ylabel('Consumo')\n",
    "ax.set_xlabel('Temperatura')\n",
    "ax.scatter(x, y, zorder=100, s=10, label='datos')\n",
    "ax.plot(x_test, model(params.intercept, params.slope, x_test), \n",
    "        c='r', lw=2, label='mejor ajuste')\n",
    "\n",
    "ax.fill_between(x_test, lower, upper, color='r', alpha=0.25, label='incerteza')\n",
    "plt.legend();"
   ]
  },
  {
   "cell_type": "markdown",
   "metadata": {},
   "source": [
    ":::{note}\n",
    "\n",
    "La incertidumbre del modelo entrenado crece a medida que nos alejamos de los datos\n",
    "\n",
    ":::"
   ]
  },
  {
   "cell_type": "code",
   "execution_count": null,
   "metadata": {},
   "outputs": [],
   "source": []
  }
 ],
 "metadata": {
  "kernelspec": {
   "display_name": "Python 3 (ipykernel)",
   "language": "python",
   "name": "python3"
  },
  "language_info": {
   "codemirror_mode": {
    "name": "ipython",
    "version": 3
   },
   "file_extension": ".py",
   "mimetype": "text/x-python",
   "name": "python",
   "nbconvert_exporter": "python",
   "pygments_lexer": "ipython3",
   "version": "3.8.12"
  },
  "toc": {
   "base_numbering": 1,
   "nav_menu": {},
   "number_sections": true,
   "sideBar": true,
   "skip_h1_title": false,
   "title_cell": "Table of Contents",
   "title_sidebar": "Contents",
   "toc_cell": false,
   "toc_position": {
    "height": "calc(100% - 180px)",
    "left": "10px",
    "top": "150px",
    "width": "384px"
   },
   "toc_section_display": true,
   "toc_window_display": true
  }
 },
 "nbformat": 4,
 "nbformat_minor": 2
}
