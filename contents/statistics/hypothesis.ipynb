{
 "cells": [
  {
   "cell_type": "code",
   "execution_count": null,
   "metadata": {
    "ExecuteTime": {
     "end_time": "2020-07-23T18:29:11.834669Z",
     "start_time": "2020-07-23T18:29:10.986816Z"
    }
   },
   "outputs": [],
   "source": [
    "%matplotlib inline\n",
    "import numpy as np\n",
    "import pandas as pd\n",
    "import scipy.stats\n",
    "import matplotlib.pyplot as plt\n",
    "\n",
    "from matplotlib import animation\n",
    "from matplotlib import rcParams\n",
    "rcParams['figure.dpi'] = 120\n",
    "from IPython.display import HTML\n",
    "from IPython.display import YouTubeVideo\n",
    "from functools import partial\n",
    "YouTubeVideo_formato = partial(YouTubeVideo, modestbranding=1, disablekb=0,\n",
    "                               width=640, height=360, autoplay=0, rel=0, showinfo=0)"
   ]
  },
  {
   "cell_type": "markdown",
   "metadata": {},
   "source": [
    "# Test de hipótesis\n",
    "\n",
    "Se aplica un tratamiento nuevo a una muestra de la población \n",
    "\n",
    "- ¿Es el tratamiento efectivo?\n",
    "- ¿Existe una diferencia entre los que tomaron el tratamiento y los que no?\n",
    "\n",
    "El test de hipótesis es un procedimiento estadístico **para comprobar si el resultado de un experimento es significativo en la población**\n",
    "\n",
    "Para esto formulamos dos escenarios cada uno con una hipótesis asociada\n",
    "\n",
    "- Hipótesis nula ($H_0$): Por ejemplo\n",
    "    - \"El experimento no produjo diferencia\"\n",
    "    - \"El experimento no tuvo efecto\"\n",
    "    - \"Las observaciones son producto del azar\"\n",
    "- Hipótesis alternativa ($H_A$): Usualmente el complemento de $H_0$\n",
    "\n",
    ":::{important}\n",
    "\n",
    "El test de hipótesis se diseña para medir que tan fuerte es la evidencia **en contra** de la hipótesis nula\n",
    "\n",
    ":::"
   ]
  },
  {
   "cell_type": "markdown",
   "metadata": {},
   "source": [
    "## Algoritmo general de un test de hipótesis\n",
    "\n",
    "El siguiente es el algoritmo general de un test de hipótesis paramétrico\n",
    "\n",
    "1. Definimos $H_0$ y $H_A$\n",
    "1. Definimos un estadístico $T$\n",
    "1. Asumimos una distribución para $T$ dado que $H_0$ es cierto\n",
    "1. Seleccionamos un nivel de significancia $\\alpha$ \n",
    "1. Calculamos el $T$ para nuestros datos $T_{data}$\n",
    "1. Calculamos el **p-value**\n",
    "    - Si nuestro test es de una cola:\n",
    "        - Superior: $p = P(T>T_{data})$\n",
    "        - Inferior: $p = P(T<T_{data})$\n",
    "    - Si nuestro test es dos colas: $p = P(T>T_{data}) + P(T<T_{data})$\n",
    "\n",
    "Finalmente:\n",
    "\n",
    "`Si`  $p < \\alpha$\n",
    "    \n",
    "> Rechazamos la hipótesis nula con confianza (1-$\\alpha$)\n",
    "\n",
    "`De lo contrario`\n",
    "    \n",
    "> No hay suficiente evidencia para rechazar la hipótesis nula\n",
    "\n",
    "El valor de $\\alpha$ nos permite controlar el **[Error tipo I](https://es.wikipedia.org/wiki/Errores_de_tipo_I_y_de_tipo_II)**, es decir el error que cometemos si rechazamos $H_0$ cuando en realidad era cierta (falso positivo)\n",
    "\n",
    ":::{note}\n",
    "\n",
    "Típicamente se usa $\\alpha=0.05$ o $\\alpha=0.01$ \n",
    "\n",
    ":::"
   ]
  },
  {
   "cell_type": "markdown",
   "metadata": {},
   "source": [
    "**Errores de interpretación comunes**\n",
    "\n",
    "Muchas veces se asume que el p-value es la probabilidad de que $H_0$ sea cierta dado nuestras observaciones\n",
    "\n",
    "$$\n",
    "p = P(H_0 | T> T_{data})\n",
    "$$\n",
    "\n",
    "Esto es un **grave error**. Formálmente el **p-value** es la probabilidad de observar un valor de $T$ más extremo que el observado, es decir \n",
    "\n",
    "$$\n",
    "p = P(T> T_{data} | H_0) \n",
    "$$\n",
    "\n",
    "Otro error común es creer que no ser capaz de rechazar $H_0$ es lo mismo que aceptar $H_0$\n",
    "\n",
    ":::{error}\n",
    "\n",
    "No tener suficiente evidencia para rechazar no es lo mismo que aceptar\n",
    "\n",
    ":::"
   ]
  },
  {
   "cell_type": "markdown",
   "metadata": {},
   "source": [
    "## El t-test de una muestra \n",
    "\n",
    "Sea un conjunto de $N$ observaciones iid $X = {x_1, x_2, \\ldots, x_N}$ con media muestral $\\bar x = \\sum_{i=1}^N x_i$ \n",
    "\n",
    "El t-test de una muestra es busca verificar si $\\bar x$ es significativamente distinta de la **media poblacional** $\\mu$, en el caso de que **no conocemos la varianza poblacional** $\\sigma^2$\n",
    "\n",
    "Las hipótesis son\n",
    "\n",
    "- $H_0:$ $\\bar x = \\mu$\n",
    "- $H_A:$ $\\bar x \\neq \\mu$ (dos colas)\n",
    "\n",
    "El estadístico de prueba es \n",
    "\n",
    "$$\n",
    "t = \\frac{\\bar x - \\mu}{\\hat \\sigma /\\sqrt{N-1}}\n",
    "$$\n",
    "\n",
    "donde $\\hat \\sigma = \\sqrt{ \\frac{1}{N} \\sum_{i=1}^N (x_i - \\bar x)^2}$ es la desviación estándar muestral (sesgada)\n",
    "\n",
    "Si asumimos que $\\bar x$ se distribuye $\\mathcal{N}(\\mu, \\frac{\\sigma^2}{N})$ entonces\n",
    "$t$ se distribuye [t-student](https://en.wikipedia.org/wiki/Student%27s_t-distribution) con $N-1$ grados de libertad\n",
    "\n",
    "- Para muestras iid y $N$ grande el supuesto se cumple por teorema central del límite\n",
    "- Si $N$ es pequeño debemos verificar la normalidad de los datos\n"
   ]
  },
  {
   "cell_type": "markdown",
   "metadata": {},
   "source": [
    "**Ejemplo: Aplicación de t-test para probar que la regresión es significativa**\n",
    "\n",
    "En un modelo de regresión lineal donde tenemos $N$ ejemplos\n",
    "\n",
    "$$\n",
    "y_i = x_i \\theta_1 + \\theta_0, ~ i=1, 2, \\ldots, N\n",
    "$$\n",
    "\n",
    "Podemos probar que la correlación entre $x$ es $y$ es significativa realizando un test sobre el parámetro $\\theta_1$\n",
    "\n",
    "Por ejemplo podemos plantear las siguientes hipótesis\n",
    "\n",
    "- $H_0:$ La pendiente es nula $\\theta_1= 0$ \n",
    "- $H_A:$ La pendiente no es nula: $\\theta_1\\neq 0$ (dos colas)\n",
    "\n",
    "Y asumiremos que $\\theta_1$ es normal pero que desconocemos su varianza. Bajo este supuesto se puede formular el siguiente estadístico de prueba \n",
    "\n",
    "$$\n",
    "t = \\frac{(\\theta_1-\\theta^*) }{\\text{SE}_{\\theta_1}/\\sqrt{N-2}} = \\frac{ r\\sqrt{N-2}}{\\sqrt{1-r^2}},\n",
    "$$\n",
    "\n",
    "donde $r$ es el coeficiente de correlación de Pearson (detalles más adelante) y la última expresión se obtiene reemplazando  $\\theta^*=0$ y \n",
    "\n",
    "$$\n",
    "\\text{SE}_{\\theta_1} = \\sqrt{ \\frac{\\frac{1}{N} \\sum_i (y_i - \\hat y_i)^2}{\\text{Var}(x)}}.\n",
    "$$ \n",
    "\n",
    "Este estadístico tiene distribución t-student con dos grados de libertad (modelo de dos parámetros) \n"
   ]
  },
  {
   "cell_type": "markdown",
   "metadata": {},
   "source": [
    "**Ejercicio formativo**\n",
    "\n",
    "Sea el dataset de consumo de helados que utilizamos en lecciones anteriores"
   ]
  },
  {
   "cell_type": "code",
   "execution_count": null,
   "metadata": {
    "ExecuteTime": {
     "end_time": "2020-07-23T18:29:12.104916Z",
     "start_time": "2020-07-23T18:29:12.021606Z"
    }
   },
   "outputs": [],
   "source": [
    "df = pd.read_csv('../data/helados.csv', header=0, index_col=0)\n",
    "df.columns = ['consumo', 'ingreso', 'precio', 'temperatura']\n",
    "display(df.head())"
   ]
  },
  {
   "cell_type": "code",
   "execution_count": null,
   "metadata": {},
   "outputs": [],
   "source": [
    "\n",
    "En lecciones anteriores estudiamos el modelo de regresión lineal el cual nos permite estudiar si existe correlación entre variables continuas. También vimos como ajustar los parámetros del modelo usando el método de mínimos cuadrados. En este ejercicio formativo veremos como verificar si el modelo de regresión ajustado es correcto\n",
    "\n",
    "Luego de revisar este ejercicio usted habrá aprendido\n",
    "\n",
    "- La interpretación probabilística de la regresión lineal y la relación entre mínimos cuadrados ordinarios y la estimación por máxima verosimilitud\n",
    "- El estadístico $r$ para medir la fuerza de la correlación entre dos variables\n",
    "- Un test de hipótesis para verificar que la correlación encontrada es estadística significativa\n",
    "\n",
    "Usaremos el dataset de consumo de helados"
   ]
  },
  {
   "cell_type": "markdown",
   "metadata": {},
   "source": [
    "\n",
    "A continuación se muestra un gráfico de dispersión del consumo en función de las demás variables. ¿Cree usted que existe correlación en este caso?"
   ]
  },
  {
   "cell_type": "code",
   "execution_count": null,
   "metadata": {},
   "outputs": [],
   "source": [
    "fig, ax = plt.subplots(1, 3, figsize=(8, 3), tight_layout=True, sharey=True)\n",
    "for i, col in enumerate(df.columns[1:]):\n",
    "    ax[i].scatter(df[col], df[\"consumo\"], s=10)\n",
    "    ax[i].set_xlabel(col)\n",
    "ax[0].set_ylabel(df.columns[0]);"
   ]
  },
  {
   "cell_type": "markdown",
   "metadata": {},
   "source": [
    "### Interpretación probabilística y MLE de la regresión lineal\n",
    "\n",
    "Sea $y$ el consumo y $x$ la temperatura.\n",
    "\n",
    "Asumiremos errores gaussianos iid\n",
    "\n",
    "$$\n",
    "y_i = \\hat y_i + \\epsilon_i, \\epsilon_i \\sim \\mathcal{N}(0, \\sigma^2),\n",
    "$$\n",
    "\n",
    "y un modelo lineal de **dos parámetros** (linea recta)\n",
    "\n",
    "$$\n",
    "\\hat y_i = \\theta_0 + \\theta_1 x_i\n",
    "$$\n",
    "\n",
    "Bajo estos supuestos el estimador de máxima verosimilitud es \n",
    "\n",
    "$$\n",
    "\\begin{align}\n",
    "\\hat \\theta &= \\text{arg}\\max_\\theta \\log \\mathcal{L}(\\theta) \\nonumber \\\\\n",
    "&=\\text{arg}\\max_\\theta  - \\frac{1}{2\\sigma^2} \\sum_{i=1}^N (y_i - \\theta_0 - \\theta_1 x_i)^2 \\nonumber\n",
    "\\end{align}\n",
    "$$\n",
    "\n",
    "Es decir que el estimador de máxima verosimilitud es equivalente al de mínimos cuadrados ordanrios $\\hat \\theta= (X^T X)^{-1} X^T y$ que vimos anteriormente\n",
    "\n",
    "**Importante:** Cuando utilizamos la solución de mínimos cuadrados estamos asumiendo implicitamente que las observaciones son iid y que la verosimilitud es Gaussiana\n",
    "\n",
    "\n",
    "Derivando con respecto a los parámetros e igualado a cero tenemos que\n",
    "\n",
    "$$\n",
    "\\begin{align}\n",
    "\\sum_i y_i  - N\\theta_0 - \\theta_1  \\sum_i x_i &= 0 \\nonumber \\\\\n",
    "\\sum_i y_i x_i - \\theta_0 \\sum_i x_i - \\theta_1 \\sum_i x_i^2 &= 0 \\nonumber\n",
    "\\end{align}\n",
    "$$\n",
    "\n",
    "Finalmente podemos despejar\n",
    "\n",
    "$$\n",
    "\\begin{align}\n",
    "\\theta_0 &= \\bar y - \\theta_1 \\bar x \\nonumber \\\\\n",
    "\\theta_1 &= \\frac{\\sum_i x_i y_i - N \\bar x \\bar y}{\\sum_i x_i^2 - M \\bar x^2}  \\nonumber \\\\\n",
    "&= \\frac{ \\sum_i (y_i - \\bar y)(x_i - \\bar x)}{\\sum_i (x_i - \\bar x)^2}  = \\frac{\\text{COV}(x, y)}{\\text{Var}(x)}\n",
    "\\end{align}\n",
    "$$\n",
    "\n",
    "de donde reconocemos las expresiones para la covarianza entre $x$ e $y$ y la varianza de $x$\n"
   ]
  },
  {
   "cell_type": "markdown",
   "metadata": {},
   "source": [
    "### Coeficiente de correlación de Pearson\n",
    "\n",
    "La fuerza de la correlación se suele medir usando\n",
    "\n",
    "$$\n",
    "r^2 = 1 - \\frac{\\sum_i ( y_i - \\hat y_i)^2}{\\sum_i ( y_i - \\bar y)^2} = 1 - \\frac{\\frac{1}{M} \\sum_i (y_i - \\hat y_i)^2}{\\text{Var}(y)} = \\frac{\\text{COV}^2(x, y)}{\\text{Var}(x) \\text{Var}(y)}\n",
    "$$\n",
    "\n",
    "donde $r = \\frac{\\text{COV}(x, y)}{\\sqrt{\\text{Var}(x) \\text{Var}(y)}} \\in [-1, 1]$ se conoce como [coeficiente de correlación de Pearson](https://en.wikipedia.org/wiki/Pearson_correlation_coefficient)\n",
    "\n",
    "donde\n",
    "\n",
    "- si $r=1$ existe una correlación lineal perfecta\n",
    "- si $r=-1$ existe una anticorrelación lineal perfecta\n",
    "- si $r=0$ no hay correlación lineal entre las variables\n",
    "\n",
    "En general un $r>0.5$ se considera una correlación importante"
   ]
  },
  {
   "cell_type": "markdown",
   "metadata": {},
   "source": [
    "**Calculando $r$ con y los parámetros de la regresión lineal**\n",
    "\n",
    "Podemos usar el atributo de dataframe\n",
    "\n",
    "```python\n",
    "df.corr()\n",
    "```\n",
    "\n",
    "Que retorna la matriz de correlaciones lineales"
   ]
  },
  {
   "cell_type": "code",
   "execution_count": null,
   "metadata": {},
   "outputs": [],
   "source": [
    "df.corr()"
   ]
  },
  {
   "cell_type": "markdown",
   "metadata": {},
   "source": [
    "Si queremos también el valor de los parámetros podemos usar la función de scipy \n",
    "\n",
    "```python\n",
    "scipy.stats.linregress(x, # Variable independiente unidimensional\n",
    "                       y # Variable dependiente unidimensional\n",
    "                      )\n",
    "```\n",
    "\n",
    "Esta función retorna una tupla con\n",
    "\n",
    "- Valor de la pendiente: $\\theta_1$\n",
    "- Valor de la intercepta: $\\theta_0$\n",
    "- Coeficiente de correlación $r$\n",
    "- p-value\n",
    "- Error estándar del ajuste"
   ]
  },
  {
   "cell_type": "code",
   "execution_count": null,
   "metadata": {
    "ExecuteTime": {
     "end_time": "2020-07-23T18:29:12.415952Z",
     "start_time": "2020-07-23T18:29:12.255458Z"
    }
   },
   "outputs": [],
   "source": [
    "fig, ax = plt.subplots(1, 3, figsize=(8, 3), tight_layout=True, sharey=True)\n",
    "ax[0].set_ylabel(df.columns[0]);\n",
    "\n",
    "\n",
    "for i, col in enumerate(df.columns[1:]):\n",
    "    res = scipy.stats.linregress(df[col], df[\"consumo\"])\n",
    "    x_plot = np.linspace(np.amin(df[col]), np. amax(df[col]), num=100)\n",
    "    ax[i].scatter(df[col], df[\"consumo\"], label='datos', s=10)    \n",
    "    ax[i].plot(x_plot, res.slope*x_plot + res.intercept, lw=2, c='r', label='modelo');\n",
    "    ax[i].set_xlabel(col)\n",
    "    ax[i].set_title(f\"$r$: {res.rvalue:0.5f}\")\n",
    "    ax[i].legend()"
   ]
  },
  {
   "cell_type": "markdown",
   "metadata": {},
   "source": [
    "Es decir que visualmente parece existir\n",
    "\n",
    "- una correlación positiva alta entre consumo y temperatura\n",
    "- una correlación negativa moderada entre consumo y precio\n",
    "- una correlación cercana a cero entre consumo e ingreso"
   ]
  },
  {
   "cell_type": "markdown",
   "metadata": {},
   "source": [
    "### Test de hipótesis y conclusiones\n",
    "\n",
    "La función `linregress` implementa el t-test sobre $\\theta_1$ que vimos anteriormente. Usemos estos resultados para verificar si las correlaciones son estadísticamente significativas"
   ]
  },
  {
   "cell_type": "code",
   "execution_count": null,
   "metadata": {},
   "outputs": [],
   "source": [
    "alpha = 0.05\n",
    "\n",
    "for i, col in enumerate(df.columns[1:]):\n",
    "    res = scipy.stats.linregress(df[col], df[\"consumo\"])\n",
    "    print(f\"{col}: \\t p-value:{res.pvalue:0.4f} \\t ¿Menor que {alpha}?: {res.pvalue < alpha}\")    "
   ]
  },
  {
   "cell_type": "markdown",
   "metadata": {},
   "source": [
    "Como complemento visualizemos \n",
    "\n",
    "- las distribuciones bajo la hipótesis nula: linea azul\n",
    "- los límites dados por $\\alpha$: linea punteada negra\n",
    "- El valor del observado para cada una de las variables: linea roja "
   ]
  },
  {
   "cell_type": "code",
   "execution_count": null,
   "metadata": {
    "ExecuteTime": {
     "end_time": "2020-07-23T18:29:12.537649Z",
     "start_time": "2020-07-23T18:29:12.417765Z"
    }
   },
   "outputs": [],
   "source": [
    "fig, ax = plt.subplots(1, 3, figsize=(8, 2), tight_layout=True, sharey=True)\n",
    "ax[0].set_ylabel(df.columns[0]);\n",
    "\n",
    "N = df.shape[0]\n",
    "t = np.linspace(-7, 7, num=1000)\n",
    "dist = scipy.stats.t(loc=0, scale=1, df=N-2) # dos grados de libertad\n",
    "\n",
    "\n",
    "for i, col in enumerate(df.columns[1:]):\n",
    "    res = scipy.stats.linregress(df[col], df[\"consumo\"])\n",
    "    t_data = res.rvalue*np.sqrt(N-2)/np.sqrt(1.-res.rvalue**2)\n",
    "    ax[i].plot(t, dist.pdf(t))\n",
    "    ax[i].plot([dist.ppf(alpha/2)]*2, [0, np.amax(dist.pdf(t))], 'k--')\n",
    "    ax[i].plot([dist.ppf(1-alpha/2)]*2, [0, np.amax(dist.pdf(t))], 'k--')\n",
    "    ax[i].plot([t_data]*2, [0, np.amax(dist.pdf(t))], 'r-')\n",
    "    ax[i].set_xlabel(col)    "
   ]
  },
  {
   "cell_type": "markdown",
   "metadata": {},
   "source": [
    "**Conclusión**\n",
    "\n",
    "Basado en los p-values y considerando $\\alpha=0.05$\n",
    "\n",
    "¿Qué podemos decir de las correlaciones con el consumo de helados?\n",
    "\n",
    "> Rechazamos la hipótesis nula de que no existe correlación entre temperatura y consumo con un 95% de confianza\n",
    "\n",
    "Para las variables ingreso y precio no existe suficiente evidencia para rechazar $H_0$"
   ]
  },
  {
   "cell_type": "markdown",
   "metadata": {},
   "source": [
    "### Reflexión final\n",
    "\n",
    "En el ejercicio anterior usamos t-test para una regresión lineal entre dos variables ¿Qué prueba puedo usar si quiero hacer regresión lineal multivariada? \n",
    "\n",
    "> Se puede usar [ANOVA](https://pythonfordatascience.org/anova-python/)\n",
    "\n",
    "¿Qué pasa si...\n",
    "\n",
    "- mis datos tienen una relación que no es lineal? \n",
    "- $\\theta_1$ no es Gaussiano/normal? \n",
    "- si el ruido no es Gaussiano? \n",
    "- si el ruido es Gaussiano pero su varianza cambia en el tiempo? \n",
    "\n",
    "> En estos casos no se cumplen los supuestos del modelo o del test, por ende el resultado no es confiable\n",
    "\n",
    "Si mis supuestos no se cumplen con ninguna prueba parámetrica, la opión es utilizar pruebas no-paramétricas"
   ]
  }
 ],
 "metadata": {
  "kernelspec": {
   "display_name": "Python 3 (ipykernel)",
   "language": "python",
   "name": "python3"
  },
  "language_info": {
   "codemirror_mode": {
    "name": "ipython",
    "version": 3
   },
   "file_extension": ".py",
   "mimetype": "text/x-python",
   "name": "python",
   "nbconvert_exporter": "python",
   "pygments_lexer": "ipython3",
   "version": "3.10.4"
  },
  "toc": {
   "base_numbering": 1,
   "nav_menu": {},
   "number_sections": true,
   "sideBar": true,
   "skip_h1_title": false,
   "title_cell": "Table of Contents",
   "title_sidebar": "Contents",
   "toc_cell": false,
   "toc_position": {
    "height": "calc(100% - 180px)",
    "left": "10px",
    "top": "150px",
    "width": "384px"
   },
   "toc_section_display": true,
   "toc_window_display": true
  }
 },
 "nbformat": 4,
 "nbformat_minor": 2
}
