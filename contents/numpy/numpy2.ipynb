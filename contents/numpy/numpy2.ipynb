{
 "cells": [
  {
   "cell_type": "markdown",
   "metadata": {},
   "source": [
    "# Operaciones sobre ndarrays"
   ]
  },
  {
   "cell_type": "code",
   "execution_count": 1,
   "metadata": {
    "ExecuteTime": {
     "end_time": "2020-05-16T00:19:24.853448Z",
     "start_time": "2020-05-16T00:19:24.744862Z"
    }
   },
   "outputs": [],
   "source": [
    "import numpy as np"
   ]
  },
  {
   "cell_type": "markdown",
   "metadata": {},
   "source": [
    "## Operaciones aritméticas y *Broadcasting* \n",
    "\n",
    "Los ndarray soportan las operaciones aritméticas básicas\n",
    "\n",
    "- Suma:  +, +=\n",
    "- Resta: -, -=\n",
    "- Multiplicación:  *,*= \n",
    "- División: /, /=\n",
    "- División entera: //, //=\n",
    "- Exponenciación: ** , **=\n",
    "\n",
    "Estas operaciones tienen un comportamiento element-wise (elemento a elemento), es decir\n",
    "\n",
    "$$\n",
    "\\pmatrix{0 & 1 \\\\2 & 3 } \\cdot \\pmatrix{1 & 5 \\\\2 & 2 } = \\pmatrix{0 & 5 \\\\4 & 6 }\n",
    "$$\n",
    "\n",
    "Veamos algunos ejemplos:"
   ]
  },
  {
   "cell_type": "code",
   "execution_count": 2,
   "metadata": {},
   "outputs": [
    {
     "data": {
      "text/plain": [
       "(array([[1., 0., 0.],\n",
       "        [0., 1., 0.],\n",
       "        [0., 0., 1.]]),\n",
       " array([[1., 1., 1.],\n",
       "        [1., 1., 1.],\n",
       "        [1., 1., 1.]]))"
      ]
     },
     "execution_count": 2,
     "metadata": {},
     "output_type": "execute_result"
    }
   ],
   "source": [
    "N = 3\n",
    "A = np.eye(N)\n",
    "B = np.ones(shape=(N, N))\n",
    "A, B"
   ]
  },
  {
   "cell_type": "code",
   "execution_count": 3,
   "metadata": {
    "ExecuteTime": {
     "end_time": "2020-05-16T00:21:02.455706Z",
     "start_time": "2020-05-16T00:21:02.443045Z"
    },
    "scrolled": true
   },
   "outputs": [
    {
     "data": {
      "text/plain": [
       "array([[2., 1., 1.],\n",
       "       [1., 2., 1.],\n",
       "       [1., 1., 2.]])"
      ]
     },
     "execution_count": 3,
     "metadata": {},
     "output_type": "execute_result"
    }
   ],
   "source": [
    "A + B "
   ]
  },
  {
   "cell_type": "code",
   "execution_count": 4,
   "metadata": {},
   "outputs": [
    {
     "data": {
      "text/plain": [
       "array([[1., 0., 0.],\n",
       "       [0., 1., 0.],\n",
       "       [0., 0., 1.]])"
      ]
     },
     "execution_count": 4,
     "metadata": {},
     "output_type": "execute_result"
    }
   ],
   "source": [
    "A*B"
   ]
  },
  {
   "cell_type": "markdown",
   "metadata": {},
   "source": [
    ":::{note}\n",
    "\n",
    "El operador * no corresponde a la multiplicación de matrices sino a la multiplicación elemento por elemento\n",
    "\n",
    ":::"
   ]
  },
  {
   "cell_type": "markdown",
   "metadata": {},
   "source": [
    "**Broadcasting**\n",
    "\n",
    "Cuando los ndarray que estamos operando no son del mismo tamaño se hace un *broadcast*\n",
    "\n",
    "Por ejemplo si operamos una constante con un arreglo, la constante se opera con cada elemento del arreglo"
   ]
  },
  {
   "cell_type": "code",
   "execution_count": 5,
   "metadata": {
    "ExecuteTime": {
     "end_time": "2020-05-16T00:21:57.573634Z",
     "start_time": "2020-05-16T00:21:57.564219Z"
    }
   },
   "outputs": [
    {
     "data": {
      "text/plain": [
       "array([[ 0., -1., -1.],\n",
       "       [-1.,  0., -1.],\n",
       "       [-1., -1.,  0.]])"
      ]
     },
     "execution_count": 5,
     "metadata": {},
     "output_type": "execute_result"
    }
   ],
   "source": [
    "A - 1"
   ]
  },
  {
   "cell_type": "markdown",
   "metadata": {},
   "source": [
    "Las siguientes son las reglas automáticas de broadcasting\n",
    "\n",
    "1. Si dos arreglos son de dimensiones distintas la dimensión del más pequeño se agranda con \"1\"s **por la izquierda**\n",
    "1. Si dos arreglos tienen tamaños ditintos, el que tiene tamaño \"1\" se estira en dicha dimensión\n",
    "1. Si en cualquier dimensión los tamaños son distintos y ninguno es igual a \"1\" ocurre un error\n",
    "\n",
    "\n",
    "<img src=\"img/broadcast.png\" width=\"550\">\n",
    "\n",
    "Imagen tomada del [Python Data Science Handbook](https://jakevdp.github.io/PythonDataScienceHandbook/06.00-figure-code.html#Broadcasting)"
   ]
  },
  {
   "cell_type": "markdown",
   "metadata": {},
   "source": [
    "Observe los siguientes ejemplos y reflexione sobre las reglas de broadcast que se está aplicando en cada caso"
   ]
  },
  {
   "cell_type": "code",
   "execution_count": 6,
   "metadata": {},
   "outputs": [
    {
     "data": {
      "text/plain": [
       "(array([0, 1, 2]),\n",
       " array([[1., 1., 1.],\n",
       "        [1., 1., 1.],\n",
       "        [1., 1., 1.]]))"
      ]
     },
     "execution_count": 6,
     "metadata": {},
     "output_type": "execute_result"
    }
   ],
   "source": [
    "C = np.arange(N)\n",
    "B = np.ones(shape=(N, N))\n",
    "C, B"
   ]
  },
  {
   "cell_type": "code",
   "execution_count": 7,
   "metadata": {},
   "outputs": [
    {
     "data": {
      "text/plain": [
       "array([[1., 2., 3.],\n",
       "       [1., 2., 3.],\n",
       "       [1., 2., 3.]])"
      ]
     },
     "execution_count": 7,
     "metadata": {},
     "output_type": "execute_result"
    }
   ],
   "source": [
    "B+C"
   ]
  },
  {
   "cell_type": "code",
   "execution_count": 8,
   "metadata": {},
   "outputs": [
    {
     "data": {
      "text/plain": [
       "array([[1., 1., 1.],\n",
       "       [2., 2., 2.],\n",
       "       [3., 3., 3.]])"
      ]
     },
     "execution_count": 8,
     "metadata": {},
     "output_type": "execute_result"
    }
   ],
   "source": [
    "B + C.reshape(-1, 1)"
   ]
  },
  {
   "cell_type": "code",
   "execution_count": 9,
   "metadata": {
    "ExecuteTime": {
     "end_time": "2020-05-16T00:22:39.646437Z",
     "start_time": "2020-05-16T00:22:39.637991Z"
    }
   },
   "outputs": [
    {
     "data": {
      "text/plain": [
       "array([[0, 1, 2],\n",
       "       [1, 2, 3],\n",
       "       [2, 3, 4]])"
      ]
     },
     "execution_count": 9,
     "metadata": {},
     "output_type": "execute_result"
    }
   ],
   "source": [
    "C.reshape(1, N) + C.reshape(N, 1)"
   ]
  },
  {
   "cell_type": "markdown",
   "metadata": {},
   "source": [
    "**Operaciones matriciales**\n",
    "\n",
    "Antes dijimos que la multiplicación con `*` se realiza elemento a elemento\n",
    "\n",
    "Para realizar una multiplicación matricial propiamente tal podemos usar `dot` o el operador `@`"
   ]
  },
  {
   "cell_type": "code",
   "execution_count": 10,
   "metadata": {
    "ExecuteTime": {
     "end_time": "2020-05-16T00:35:02.211070Z",
     "start_time": "2020-05-16T00:35:02.194021Z"
    }
   },
   "outputs": [
    {
     "data": {
      "text/plain": [
       "(array([[0, 1],\n",
       "        [2, 3]]),\n",
       " array([[3, 2],\n",
       "        [1, 0]]))"
      ]
     },
     "execution_count": 10,
     "metadata": {},
     "output_type": "execute_result"
    }
   ],
   "source": [
    "A = np.arange(4).reshape(2, 2)\n",
    "B = np.arange(4)[::-1].reshape(2, 2)\n",
    "A, B "
   ]
  },
  {
   "cell_type": "markdown",
   "metadata": {},
   "source": [
    "Note la diferencia:"
   ]
  },
  {
   "cell_type": "code",
   "execution_count": 11,
   "metadata": {},
   "outputs": [
    {
     "data": {
      "text/plain": [
       "array([[0, 2],\n",
       "       [2, 0]])"
      ]
     },
     "execution_count": 11,
     "metadata": {},
     "output_type": "execute_result"
    }
   ],
   "source": [
    "A*B"
   ]
  },
  {
   "cell_type": "code",
   "execution_count": 12,
   "metadata": {},
   "outputs": [
    {
     "data": {
      "text/plain": [
       "array([[1, 0],\n",
       "       [9, 4]])"
      ]
     },
     "execution_count": 12,
     "metadata": {},
     "output_type": "execute_result"
    }
   ],
   "source": [
    "np.dot(A, B)"
   ]
  },
  {
   "cell_type": "markdown",
   "metadata": {
    "ExecuteTime": {
     "end_time": "2020-05-14T23:52:21.123842Z",
     "start_time": "2020-05-14T23:52:21.119785Z"
    }
   },
   "source": [
    "Otras operaciones matricionales útiles son:\n",
    "\n",
    "- `np.inner` que calcula el producto escalar o producto interno\n",
    "- `np.outer` que calcula el producto externo\n",
    "- `np.cross` que calcula  cruz"
   ]
  },
  {
   "cell_type": "markdown",
   "metadata": {
    "ExecuteTime": {
     "end_time": "2020-05-14T23:53:14.986015Z",
     "start_time": "2020-05-14T23:53:14.980209Z"
    }
   },
   "source": [
    "El módulo  [`linalg`](https://numpy.org/doc/stable/reference/routines.linalg.html) de NumPy contiene muchas más funciones de álgebra lineal que nos permiten \n",
    "\n",
    "- Calcular matriz inversa, determinantes y trazas\n",
    "- Resolver sistemas lineales\n",
    "- Factorizar matrices\n",
    "- Calcular valores y vectores propios\n",
    "\n",
    "entre otros. Este módulo será estudiando en una lección siguiente"
   ]
  },
  {
   "cell_type": "markdown",
   "metadata": {},
   "source": [
    "## Operaciones de reducción\n",
    "\n",
    "Una **reducción** es una operación que **agrega** los valores de un arreglo entregando un único valor como respuesta\n",
    "\n",
    "La reducción más básica es la **suma agregada**\n",
    "\n",
    "$$\n",
    "[0, 1, 2, 4, 3] \\rightarrow 0 + 1 + 2 + 4 + 3 = 10 \n",
    "$$\n",
    "\n",
    "\n",
    "Algunas de las reducciones disponibles en NumPy son:\n",
    "\n",
    "- `sum`, `prod`\n",
    "- `amax`, `amin`, `argmax`, `argmin`\n",
    "- `mean`, `std`, `var`, `percentile`, `median`\n",
    "- `cumsum`, `cumprod`\n",
    "\n",
    ":::{note}\n",
    "\n",
    "Las reducciones pueden realizar al ndarray completo o a un subconjunto de sus ejes\n",
    "\n",
    ":::"
   ]
  },
  {
   "cell_type": "markdown",
   "metadata": {},
   "source": [
    "Diferencia entre sumar en el eje de filas, columnas y suma total:"
   ]
  },
  {
   "cell_type": "code",
   "execution_count": 13,
   "metadata": {},
   "outputs": [
    {
     "data": {
      "text/plain": [
       "array([[0, 1, 2],\n",
       "       [0, 1, 2]])"
      ]
     },
     "execution_count": 13,
     "metadata": {},
     "output_type": "execute_result"
    }
   ],
   "source": [
    "A = np.tile(np.arange(3), (2, 1))\n",
    "A"
   ]
  },
  {
   "cell_type": "code",
   "execution_count": 14,
   "metadata": {},
   "outputs": [
    {
     "data": {
      "text/plain": [
       "array([0, 2, 4])"
      ]
     },
     "execution_count": 14,
     "metadata": {},
     "output_type": "execute_result"
    }
   ],
   "source": [
    "np.sum(A, axis=0)"
   ]
  },
  {
   "cell_type": "code",
   "execution_count": 15,
   "metadata": {},
   "outputs": [
    {
     "data": {
      "text/plain": [
       "array([3, 3])"
      ]
     },
     "execution_count": 15,
     "metadata": {},
     "output_type": "execute_result"
    }
   ],
   "source": [
    "np.sum(A, axis=1)"
   ]
  },
  {
   "cell_type": "code",
   "execution_count": 16,
   "metadata": {},
   "outputs": [
    {
     "data": {
      "text/plain": [
       "6"
      ]
     },
     "execution_count": 16,
     "metadata": {},
     "output_type": "execute_result"
    }
   ],
   "source": [
    "np.sum(A)"
   ]
  },
  {
   "cell_type": "markdown",
   "metadata": {},
   "source": [
    "Encontrar el valor y posición del máximo en un arreglo es también un tipo de reducción"
   ]
  },
  {
   "cell_type": "code",
   "execution_count": 17,
   "metadata": {},
   "outputs": [
    {
     "data": {
      "text/plain": [
       "array([[-1.49137569,  0.46936976, -0.25980522],\n",
       "       [ 0.3859342 , -1.55686259, -0.34882233]])"
      ]
     },
     "execution_count": 17,
     "metadata": {},
     "output_type": "execute_result"
    }
   ],
   "source": [
    "A = np.random.randn(2, 3)\n",
    "A"
   ]
  },
  {
   "cell_type": "code",
   "execution_count": 18,
   "metadata": {
    "ExecuteTime": {
     "end_time": "2020-05-16T00:39:45.794940Z",
     "start_time": "2020-05-16T00:39:45.778270Z"
    }
   },
   "outputs": [
    {
     "data": {
      "text/plain": [
       "array([ 0.3859342 ,  0.46936976, -0.25980522])"
      ]
     },
     "execution_count": 18,
     "metadata": {},
     "output_type": "execute_result"
    }
   ],
   "source": [
    "np.amax(A, axis=0) # El valor del máximo en el eje 0 "
   ]
  },
  {
   "cell_type": "code",
   "execution_count": 19,
   "metadata": {},
   "outputs": [
    {
     "data": {
      "text/plain": [
       "array([1, 0, 0])"
      ]
     },
     "execution_count": 19,
     "metadata": {},
     "output_type": "execute_result"
    }
   ],
   "source": [
    "np.argmax(A, axis=0) # La posición del máximo en el eje 0 "
   ]
  },
  {
   "cell_type": "markdown",
   "metadata": {},
   "source": [
    "Las operaciones de reducción de NumPy son altamente eficientes\n",
    "\n",
    "Hagamos una pequeña prueba de desempeño sumando  un vector\n",
    "\n",
    "Usaremos la magia de IPython `@timeit` que nos permite medir tiempo de cómputo"
   ]
  },
  {
   "cell_type": "code",
   "execution_count": 20,
   "metadata": {
    "ExecuteTime": {
     "end_time": "2020-05-16T00:41:57.444424Z",
     "start_time": "2020-05-16T00:41:49.763494Z"
    }
   },
   "outputs": [
    {
     "name": "stdout",
     "output_type": "stream",
     "text": [
      "10 ms ± 647 µs per loop (mean ± std. dev. of 7 runs, 10 loops each)\n",
      "7.72 ms ± 229 µs per loop (mean ± std. dev. of 7 runs, 10 loops each)\n",
      "5.42 ms ± 55.5 µs per loop (mean ± std. dev. of 7 runs, 10 loops each)\n",
      "3.32 ms ± 27.4 µs per loop (mean ± std. dev. of 7 runs, 10 loops each)\n",
      "2.99 ms ± 56.6 µs per loop (mean ± std. dev. of 7 runs, 10 loops each)\n",
      "48.7 µs ± 5.64 µs per loop (mean ± std. dev. of 7 runs, 10 loops each)\n"
     ]
    }
   ],
   "source": [
    "A = np.arange(100000)\n",
    "\n",
    "def suma_loop(arreglo):\n",
    "    suma = 0.\n",
    "    for elemento in arreglo:\n",
    "        suma += elemento\n",
    "    return suma\n",
    "\n",
    "L = list(A)\n",
    "%timeit -n10 suma_loop(A)\n",
    "%timeit -n10 suma_loop(L)\n",
    "%timeit -n10 sum(A)\n",
    "%timeit -n10 sum(L)\n",
    "%timeit -n10 np.sum(L)\n",
    "%timeit -n10 np.sum(A)"
   ]
  },
  {
   "cell_type": "markdown",
   "metadata": {},
   "source": [
    "Y el resultado es por supuesto el mismo"
   ]
  },
  {
   "cell_type": "code",
   "execution_count": 21,
   "metadata": {},
   "outputs": [
    {
     "data": {
      "text/plain": [
       "True"
      ]
     },
     "execution_count": 21,
     "metadata": {},
     "output_type": "execute_result"
    }
   ],
   "source": [
    "np.allclose(np.sum(A), sum(L))"
   ]
  },
  {
   "cell_type": "markdown",
   "metadata": {},
   "source": [
    "Muchas de estas funciones están implementadas como métodos de la clase arreglo, por ejemplo"
   ]
  },
  {
   "cell_type": "code",
   "execution_count": 22,
   "metadata": {
    "ExecuteTime": {
     "end_time": "2020-05-15T00:40:36.139436Z",
     "start_time": "2020-05-15T00:40:36.127316Z"
    }
   },
   "outputs": [
    {
     "data": {
      "text/plain": [
       "4999950000"
      ]
     },
     "metadata": {},
     "output_type": "display_data"
    },
    {
     "data": {
      "text/plain": [
       "99999"
      ]
     },
     "metadata": {},
     "output_type": "display_data"
    },
    {
     "data": {
      "text/plain": [
       "0"
      ]
     },
     "metadata": {},
     "output_type": "display_data"
    }
   ],
   "source": [
    "display(A.sum())\n",
    "display(A.max(axis=0))\n",
    "display(A.min())"
   ]
  },
  {
   "cell_type": "markdown",
   "metadata": {},
   "source": [
    "También cuentan con versiones seguras contra NaNs"
   ]
  },
  {
   "cell_type": "code",
   "execution_count": 23,
   "metadata": {
    "ExecuteTime": {
     "end_time": "2020-05-16T00:44:00.254762Z",
     "start_time": "2020-05-16T00:44:00.247889Z"
    }
   },
   "outputs": [
    {
     "data": {
      "text/plain": [
       "nan"
      ]
     },
     "metadata": {},
     "output_type": "display_data"
    },
    {
     "data": {
      "text/plain": [
       "13.0"
      ]
     },
     "metadata": {},
     "output_type": "display_data"
    }
   ],
   "source": [
    "A = np.array([1., 10., 2., np.nan])\n",
    "display(np.sum(A))\n",
    "display(np.nansum(A))"
   ]
  },
  {
   "cell_type": "markdown",
   "metadata": {},
   "source": [
    ":::{note}\n",
    "\n",
    "Si queremos encontrar los NaN en un arreglo podemos usar `isnan` \n",
    "\n",
    ":::"
   ]
  },
  {
   "cell_type": "code",
   "execution_count": 24,
   "metadata": {
    "ExecuteTime": {
     "end_time": "2020-05-16T00:45:03.177050Z",
     "start_time": "2020-05-16T00:45:03.168364Z"
    }
   },
   "outputs": [
    {
     "data": {
      "text/plain": [
       "array([False, False, False,  True])"
      ]
     },
     "execution_count": 24,
     "metadata": {},
     "output_type": "execute_result"
    }
   ],
   "source": [
    "np.isnan(A)"
   ]
  },
  {
   "cell_type": "markdown",
   "metadata": {},
   "source": [
    "## Operaciones vectorizadas\n",
    "\n",
    "Las operaciones vectorizados son funciones que operan elemento a elemento (*element-wise*)\n",
    "\n",
    "Ya vimos las operaciones aritméticas elemento a elemento pero existen muchas más\n",
    "\n",
    "Por ejemplo para calcular el valor absoluto de los elementos de un arreglo"
   ]
  },
  {
   "cell_type": "code",
   "execution_count": 25,
   "metadata": {
    "ExecuteTime": {
     "end_time": "2020-05-16T00:45:45.762104Z",
     "start_time": "2020-05-16T00:45:45.748228Z"
    }
   },
   "outputs": [
    {
     "data": {
      "text/plain": [
       "array([[ 0.48987236,  1.91565296, -1.50115953],\n",
       "       [-0.21021931,  0.44430062,  1.26071979]])"
      ]
     },
     "execution_count": 25,
     "metadata": {},
     "output_type": "execute_result"
    }
   ],
   "source": [
    "A = np.random.randn(2, 3)\n",
    "A"
   ]
  },
  {
   "cell_type": "code",
   "execution_count": 26,
   "metadata": {},
   "outputs": [
    {
     "data": {
      "text/plain": [
       "array([[0.48987236, 1.91565296, 1.50115953],\n",
       "       [0.21021931, 0.44430062, 1.26071979]])"
      ]
     },
     "execution_count": 26,
     "metadata": {},
     "output_type": "execute_result"
    }
   ],
   "source": [
    "np.absolute(A) # Equivalente a np.abs(A)"
   ]
  },
  {
   "cell_type": "markdown",
   "metadata": {},
   "source": [
    "Exponenciar un arreglo"
   ]
  },
  {
   "cell_type": "code",
   "execution_count": 27,
   "metadata": {},
   "outputs": [],
   "source": [
    "x = np.arange(5)"
   ]
  },
  {
   "cell_type": "code",
   "execution_count": 28,
   "metadata": {},
   "outputs": [
    {
     "data": {
      "text/plain": [
       "array([ 0,  1,  4,  9, 16])"
      ]
     },
     "execution_count": 28,
     "metadata": {},
     "output_type": "execute_result"
    }
   ],
   "source": [
    "np.power(x, 2) # Equivalente a x**2"
   ]
  },
  {
   "cell_type": "code",
   "execution_count": 29,
   "metadata": {},
   "outputs": [
    {
     "data": {
      "text/plain": [
       "array([0.        , 1.        , 1.41421356, 1.73205081, 2.        ])"
      ]
     },
     "execution_count": 29,
     "metadata": {},
     "output_type": "execute_result"
    }
   ],
   "source": [
    "np.sqrt(x)"
   ]
  },
  {
   "cell_type": "markdown",
   "metadata": {},
   "source": [
    "Calcular funciones exponencial, logaritmo y trigonométricas  a partir de una arreglo"
   ]
  },
  {
   "cell_type": "code",
   "execution_count": 30,
   "metadata": {},
   "outputs": [
    {
     "data": {
      "text/plain": [
       "array([-2.30258509,  0.        ,  2.30258509])"
      ]
     },
     "execution_count": 30,
     "metadata": {},
     "output_type": "execute_result"
    }
   ],
   "source": [
    "x = np.array([0.1, 1., 10.0])\n",
    "np.log(x) # También está log2, log10"
   ]
  },
  {
   "cell_type": "code",
   "execution_count": 31,
   "metadata": {},
   "outputs": [
    {
     "data": {
      "text/plain": [
       "array([1.10517092e+00, 2.71828183e+00, 2.20264658e+04])"
      ]
     },
     "execution_count": 31,
     "metadata": {},
     "output_type": "execute_result"
    }
   ],
   "source": [
    "np.exp(x)"
   ]
  },
  {
   "cell_type": "code",
   "execution_count": 32,
   "metadata": {},
   "outputs": [
    {
     "data": {
      "text/plain": [
       "(array([ 0.09983342,  0.84147098, -0.54402111]),\n",
       " array([ 0.99500417,  0.54030231, -0.83907153]),\n",
       " array([0.10033467, 1.55740772, 0.64836083]))"
      ]
     },
     "execution_count": 32,
     "metadata": {},
     "output_type": "execute_result"
    }
   ],
   "source": [
    "np.sin(x), np.cos(x), np.tan(x)"
   ]
  },
  {
   "cell_type": "markdown",
   "metadata": {},
   "source": [
    "También existe las versiones \n",
    "\n",
    "- hiperbólicas: `sinh`, `cosh`, `tanh`\n",
    "- inversas: `arcsin`, `arccos` y `arctan`"
   ]
  },
  {
   "cell_type": "markdown",
   "metadata": {},
   "source": [
    "Otras funciones útiles: \n",
    "\n",
    "- El signo de cada elemento de x: `sign(x)`\n",
    "- Uno dividido los elementos de x : `reciprocal(x)`\n",
    "- Redondeno hacia abajo o hacia arriba: `round(x)`, `floor(x)` y `ciel(x)`\n",
    "- Parte real o imaginaria de un número complejo y: `real(y)`, `imag(y)`\n",
    "- Conjugado de un número complejo: `conj(y)`, "
   ]
  },
  {
   "cell_type": "markdown",
   "metadata": {},
   "source": [
    "### Operaciones booleanas \n",
    "\n",
    "NumPy soporta operaciones booleanas sobre ndarray"
   ]
  },
  {
   "cell_type": "code",
   "execution_count": 33,
   "metadata": {},
   "outputs": [
    {
     "data": {
      "text/plain": [
       "array([[0, 1, 2],\n",
       "       [3, 4, 5]])"
      ]
     },
     "execution_count": 33,
     "metadata": {},
     "output_type": "execute_result"
    }
   ],
   "source": [
    "A = np.arange(6).reshape(2, 3)\n",
    "A"
   ]
  },
  {
   "cell_type": "code",
   "execution_count": 34,
   "metadata": {},
   "outputs": [
    {
     "data": {
      "text/plain": [
       "array([[False, False, False],\n",
       "       [False,  True, False]])"
      ]
     },
     "execution_count": 34,
     "metadata": {},
     "output_type": "execute_result"
    }
   ],
   "source": [
    "A == 4 # Es un alias de np.equal(A, 4)"
   ]
  },
  {
   "cell_type": "markdown",
   "metadata": {},
   "source": [
    "Podemos crear una máscara booleana para indexar un arreglo (*fancy indexing*)"
   ]
  },
  {
   "cell_type": "code",
   "execution_count": 35,
   "metadata": {
    "ExecuteTime": {
     "end_time": "2020-05-16T00:47:56.874179Z",
     "start_time": "2020-05-16T00:47:56.864752Z"
    }
   },
   "outputs": [
    {
     "data": {
      "text/plain": [
       "array([[False, False, False],\n",
       "       [ True, False,  True]])"
      ]
     },
     "execution_count": 35,
     "metadata": {},
     "output_type": "execute_result"
    }
   ],
   "source": [
    "mask = ~(A % 2 == 0) & (A > 2)\n",
    "mask"
   ]
  },
  {
   "cell_type": "code",
   "execution_count": 36,
   "metadata": {},
   "outputs": [
    {
     "data": {
      "text/plain": [
       "array([3, 5])"
      ]
     },
     "execution_count": 36,
     "metadata": {},
     "output_type": "execute_result"
    }
   ],
   "source": [
    "A[mask]"
   ]
  },
  {
   "cell_type": "markdown",
   "metadata": {},
   "source": [
    "La función `where` sirve para recuperar el índice de los elementos que cumplen una cierta condición"
   ]
  },
  {
   "cell_type": "code",
   "execution_count": 37,
   "metadata": {
    "ExecuteTime": {
     "end_time": "2020-05-16T00:48:26.975345Z",
     "start_time": "2020-05-16T00:48:26.961679Z"
    }
   },
   "outputs": [
    {
     "data": {
      "text/plain": [
       "'Fila 1 Columna 0 Valor 3'"
      ]
     },
     "metadata": {},
     "output_type": "display_data"
    },
    {
     "data": {
      "text/plain": [
       "'Fila 1 Columna 2 Valor 5'"
      ]
     },
     "metadata": {},
     "output_type": "display_data"
    }
   ],
   "source": [
    "(ixs, iys) = np.where(~(A % 2 == 0) & (A > 2))\n",
    "\n",
    "for i, j in zip(ixs, iys):\n",
    "    display(\"Fila {0} Columna {1} Valor {2}\".format(i, j, A[i, j]))"
   ]
  },
  {
   "cell_type": "markdown",
   "metadata": {},
   "source": [
    "Otras funciones útiles\n",
    "\n",
    "- `any(x)` Para comprobar si al menos un elemento de x es `True`\n",
    "- `all(x)`: Para comprobar si todos los elementos de x son `True`"
   ]
  },
  {
   "cell_type": "code",
   "execution_count": 38,
   "metadata": {},
   "outputs": [
    {
     "data": {
      "text/plain": [
       "array([[ 0.40621004,  1.20341154,  0.29600084],\n",
       "       [-0.63550142, -2.04026409, -0.68395942]])"
      ]
     },
     "execution_count": 38,
     "metadata": {},
     "output_type": "execute_result"
    }
   ],
   "source": [
    "x = np.random.randn(2, 3)\n",
    "x"
   ]
  },
  {
   "cell_type": "code",
   "execution_count": 39,
   "metadata": {},
   "outputs": [
    {
     "data": {
      "text/plain": [
       "array([[False,  True, False],\n",
       "       [False, False, False]])"
      ]
     },
     "execution_count": 39,
     "metadata": {},
     "output_type": "execute_result"
    }
   ],
   "source": [
    "b = (x > 0) & (x**2 > 0.5)\n",
    "b"
   ]
  },
  {
   "cell_type": "code",
   "execution_count": 40,
   "metadata": {},
   "outputs": [
    {
     "data": {
      "text/plain": [
       "True"
      ]
     },
     "execution_count": 40,
     "metadata": {},
     "output_type": "execute_result"
    }
   ],
   "source": [
    "np.any(b)"
   ]
  },
  {
   "cell_type": "code",
   "execution_count": 41,
   "metadata": {
    "ExecuteTime": {
     "end_time": "2020-05-16T00:49:26.977938Z",
     "start_time": "2020-05-16T00:49:26.967224Z"
    }
   },
   "outputs": [
    {
     "data": {
      "text/plain": [
       "False"
      ]
     },
     "execution_count": 41,
     "metadata": {},
     "output_type": "execute_result"
    }
   ],
   "source": [
    "np.all(b)"
   ]
  },
  {
   "cell_type": "markdown",
   "metadata": {},
   "source": [
    "## Operaciónes de conjutos\n",
    "\n",
    "Operaciones de tipo union, intersección y diferencia entre arreglos 1D\n",
    "\n",
    "Si se les entrega un arreglo de mayor dimensión este se aplanará automaticamente"
   ]
  },
  {
   "cell_type": "code",
   "execution_count": 42,
   "metadata": {
    "ExecuteTime": {
     "end_time": "2020-05-16T00:50:16.965342Z",
     "start_time": "2020-05-16T00:50:16.956741Z"
    }
   },
   "outputs": [
    {
     "data": {
      "text/plain": [
       "(array([0, 1, 2, 3, 4, 5]), array([  0,   1,  10, 100]))"
      ]
     },
     "execution_count": 42,
     "metadata": {},
     "output_type": "execute_result"
    }
   ],
   "source": [
    "A = np.arange(6)\n",
    "B = np.array([0, 1, 10, 100])\n",
    "A, B"
   ]
  },
  {
   "cell_type": "markdown",
   "metadata": {},
   "source": [
    "La unión e intersección, respectivamente:"
   ]
  },
  {
   "cell_type": "code",
   "execution_count": 43,
   "metadata": {},
   "outputs": [
    {
     "data": {
      "text/plain": [
       "array([  0,   1,   2,   3,   4,   5,  10, 100])"
      ]
     },
     "execution_count": 43,
     "metadata": {},
     "output_type": "execute_result"
    }
   ],
   "source": [
    "np.union1d(A, B)"
   ]
  },
  {
   "cell_type": "code",
   "execution_count": 44,
   "metadata": {},
   "outputs": [
    {
     "data": {
      "text/plain": [
       "array([0, 1])"
      ]
     },
     "execution_count": 44,
     "metadata": {},
     "output_type": "execute_result"
    }
   ],
   "source": [
    "np.intersect1d(A, B)"
   ]
  },
  {
   "cell_type": "markdown",
   "metadata": {},
   "source": [
    "O los elementos que existen a A y no en B (y viceversa)"
   ]
  },
  {
   "cell_type": "code",
   "execution_count": 45,
   "metadata": {},
   "outputs": [
    {
     "data": {
      "text/plain": [
       "array([2, 3, 4, 5])"
      ]
     },
     "execution_count": 45,
     "metadata": {},
     "output_type": "execute_result"
    }
   ],
   "source": [
    "np.setdiff1d(A, B)"
   ]
  },
  {
   "cell_type": "code",
   "execution_count": 46,
   "metadata": {},
   "outputs": [
    {
     "data": {
      "text/plain": [
       "array([ 10, 100])"
      ]
     },
     "execution_count": 46,
     "metadata": {},
     "output_type": "execute_result"
    }
   ],
   "source": [
    "np.setdiff1d(B, A)"
   ]
  },
  {
   "cell_type": "markdown",
   "metadata": {},
   "source": [
    "## Ordenando arreglos\n",
    "\n",
    "NumPy provee la función `np.sort` para ordernar un ndarray\n",
    "\n",
    "Se puede usar el argumento `kind` para escoger distintos algoritmos de ordenamiento (por defecto quicksort)\n",
    "\n",
    "El argumento `axis` especifica que eje se va a ordenar"
   ]
  },
  {
   "cell_type": "code",
   "execution_count": 47,
   "metadata": {},
   "outputs": [
    {
     "data": {
      "text/plain": [
       "array([[-0.57579771, -1.70714159],\n",
       "       [ 0.50578651,  0.88896311]])"
      ]
     },
     "execution_count": 47,
     "metadata": {},
     "output_type": "execute_result"
    }
   ],
   "source": [
    "A = np.random.randn(2, 2)\n",
    "A"
   ]
  },
  {
   "cell_type": "code",
   "execution_count": 48,
   "metadata": {
    "ExecuteTime": {
     "end_time": "2020-05-16T00:51:53.068684Z",
     "start_time": "2020-05-16T00:51:53.055167Z"
    }
   },
   "outputs": [
    {
     "data": {
      "text/plain": [
       "array([[-1.70714159, -0.57579771],\n",
       "       [ 0.50578651,  0.88896311]])"
      ]
     },
     "execution_count": 48,
     "metadata": {},
     "output_type": "execute_result"
    }
   ],
   "source": [
    "np.sort(A, axis=1)"
   ]
  },
  {
   "cell_type": "code",
   "execution_count": 49,
   "metadata": {},
   "outputs": [
    {
     "data": {
      "text/plain": [
       "array([[-0.57579771, -1.70714159],\n",
       "       [ 0.50578651,  0.88896311]])"
      ]
     },
     "execution_count": 49,
     "metadata": {},
     "output_type": "execute_result"
    }
   ],
   "source": [
    "np.sort(A, axis=0)"
   ]
  },
  {
   "cell_type": "code",
   "execution_count": 50,
   "metadata": {},
   "outputs": [
    {
     "data": {
      "text/plain": [
       "array([-1.70714159, -0.57579771,  0.50578651,  0.88896311])"
      ]
     },
     "execution_count": 50,
     "metadata": {},
     "output_type": "execute_result"
    }
   ],
   "source": [
    "np.sort(A, axis=None) # Ordena el arreglo aplanado con ravel"
   ]
  },
  {
   "cell_type": "markdown",
   "metadata": {},
   "source": [
    "La función `np.argsort` entrega un arreglo de índices que ordena el arreglo de menor a mayor"
   ]
  },
  {
   "cell_type": "code",
   "execution_count": 51,
   "metadata": {},
   "outputs": [
    {
     "data": {
      "text/plain": [
       "(array(['A', 'B', 'C'], dtype='<U1'), array([2, 4, 1]))"
      ]
     },
     "execution_count": 51,
     "metadata": {},
     "output_type": "execute_result"
    }
   ],
   "source": [
    "A = np.array([\"A\", \"B\", \"C\"])\n",
    "B = np.array([2, 4, 1])\n",
    "A, B"
   ]
  },
  {
   "cell_type": "code",
   "execution_count": 52,
   "metadata": {},
   "outputs": [
    {
     "data": {
      "text/plain": [
       "array([2, 0, 1])"
      ]
     },
     "execution_count": 52,
     "metadata": {},
     "output_type": "execute_result"
    }
   ],
   "source": [
    "idx = np.argsort(B)\n",
    "idx"
   ]
  },
  {
   "cell_type": "code",
   "execution_count": 53,
   "metadata": {
    "ExecuteTime": {
     "end_time": "2020-05-16T00:53:18.916647Z",
     "start_time": "2020-05-16T00:53:18.908467Z"
    }
   },
   "outputs": [
    {
     "data": {
      "text/plain": [
       "array(['C', 'A', 'B'], dtype='<U1')"
      ]
     },
     "execution_count": 53,
     "metadata": {},
     "output_type": "execute_result"
    }
   ],
   "source": [
    "A[idx]"
   ]
  }
 ],
 "metadata": {
  "kernelspec": {
   "display_name": "Python 3 (ipykernel)",
   "language": "python",
   "name": "python3"
  },
  "language_info": {
   "codemirror_mode": {
    "name": "ipython",
    "version": 3
   },
   "file_extension": ".py",
   "mimetype": "text/x-python",
   "name": "python",
   "nbconvert_exporter": "python",
   "pygments_lexer": "ipython3",
   "version": "3.10.4"
  },
  "toc": {
   "base_numbering": 1,
   "nav_menu": {},
   "number_sections": true,
   "sideBar": true,
   "skip_h1_title": false,
   "title_cell": "Table of Contents",
   "title_sidebar": "Contents",
   "toc_cell": false,
   "toc_position": {},
   "toc_section_display": true,
   "toc_window_display": false
  }
 },
 "nbformat": 4,
 "nbformat_minor": 2
}
