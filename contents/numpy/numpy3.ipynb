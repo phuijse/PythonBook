{
 "cells": [
  {
   "cell_type": "markdown",
   "metadata": {},
   "source": [
    "# Algebra lineal con NumPy"
   ]
  },
  {
   "cell_type": "code",
   "execution_count": 1,
   "metadata": {},
   "outputs": [],
   "source": [
    "%matplotlib inline\n",
    "import matplotlib.pyplot as plt\n",
    "import numpy as np\n",
    "import pandas as pd"
   ]
  },
  {
   "cell_type": "markdown",
   "metadata": {},
   "source": [
    "Una base de datos es una tabla donde cada fila corresponde a una medición/sujeto/evento y cada columna a un atributo\n",
    "\n",
    "> Si nuestros atributos son numéricos entonces podemos interpretar la tabla como una matriz y cada ejemplo como un vector \n",
    "\n",
    "Considere el siguiente ejemplo de una base de datos que describe el consumo de helados promedio para un día en particular (*cons*) en función del ingreso familiar promedio (*income*), la temperatura promedio (*temp*) y el precio promedio de los helados (*price*)"
   ]
  },
  {
   "cell_type": "code",
   "execution_count": 2,
   "metadata": {
    "ExecuteTime": {
     "end_time": "2020-06-29T16:13:20.374976Z",
     "start_time": "2020-06-29T16:13:20.346521Z"
    },
    "scrolled": false
   },
   "outputs": [
    {
     "ename": "FileNotFoundError",
     "evalue": "[Errno 2] No such file or directory: '../data/helados.csv'",
     "output_type": "error",
     "traceback": [
      "\u001b[0;31m---------------------------------------------------------------------------\u001b[0m",
      "\u001b[0;31mFileNotFoundError\u001b[0m                         Traceback (most recent call last)",
      "Input \u001b[0;32mIn [2]\u001b[0m, in \u001b[0;36m<cell line: 1>\u001b[0;34m()\u001b[0m\n\u001b[0;32m----> 1\u001b[0m df \u001b[38;5;241m=\u001b[39m \u001b[43mpd\u001b[49m\u001b[38;5;241;43m.\u001b[39;49m\u001b[43mread_csv\u001b[49m\u001b[43m(\u001b[49m\u001b[38;5;124;43m'\u001b[39;49m\u001b[38;5;124;43m../data/helados.csv\u001b[39;49m\u001b[38;5;124;43m'\u001b[39;49m\u001b[43m,\u001b[49m\u001b[43m \u001b[49m\u001b[43mindex_col\u001b[49m\u001b[38;5;241;43m=\u001b[39;49m\u001b[38;5;241;43m0\u001b[39;49m\u001b[43m)\u001b[49m\n\u001b[1;32m      2\u001b[0m df\u001b[38;5;241m.\u001b[39mhead()\n",
      "File \u001b[0;32m~/.conda/envs/info147/lib/python3.10/site-packages/pandas/util/_decorators.py:311\u001b[0m, in \u001b[0;36mdeprecate_nonkeyword_arguments.<locals>.decorate.<locals>.wrapper\u001b[0;34m(*args, **kwargs)\u001b[0m\n\u001b[1;32m    305\u001b[0m \u001b[38;5;28;01mif\u001b[39;00m \u001b[38;5;28mlen\u001b[39m(args) \u001b[38;5;241m>\u001b[39m num_allow_args:\n\u001b[1;32m    306\u001b[0m     warnings\u001b[38;5;241m.\u001b[39mwarn(\n\u001b[1;32m    307\u001b[0m         msg\u001b[38;5;241m.\u001b[39mformat(arguments\u001b[38;5;241m=\u001b[39marguments),\n\u001b[1;32m    308\u001b[0m         \u001b[38;5;167;01mFutureWarning\u001b[39;00m,\n\u001b[1;32m    309\u001b[0m         stacklevel\u001b[38;5;241m=\u001b[39mstacklevel,\n\u001b[1;32m    310\u001b[0m     )\n\u001b[0;32m--> 311\u001b[0m \u001b[38;5;28;01mreturn\u001b[39;00m \u001b[43mfunc\u001b[49m\u001b[43m(\u001b[49m\u001b[38;5;241;43m*\u001b[39;49m\u001b[43margs\u001b[49m\u001b[43m,\u001b[49m\u001b[43m \u001b[49m\u001b[38;5;241;43m*\u001b[39;49m\u001b[38;5;241;43m*\u001b[39;49m\u001b[43mkwargs\u001b[49m\u001b[43m)\u001b[49m\n",
      "File \u001b[0;32m~/.conda/envs/info147/lib/python3.10/site-packages/pandas/io/parsers/readers.py:680\u001b[0m, in \u001b[0;36mread_csv\u001b[0;34m(filepath_or_buffer, sep, delimiter, header, names, index_col, usecols, squeeze, prefix, mangle_dupe_cols, dtype, engine, converters, true_values, false_values, skipinitialspace, skiprows, skipfooter, nrows, na_values, keep_default_na, na_filter, verbose, skip_blank_lines, parse_dates, infer_datetime_format, keep_date_col, date_parser, dayfirst, cache_dates, iterator, chunksize, compression, thousands, decimal, lineterminator, quotechar, quoting, doublequote, escapechar, comment, encoding, encoding_errors, dialect, error_bad_lines, warn_bad_lines, on_bad_lines, delim_whitespace, low_memory, memory_map, float_precision, storage_options)\u001b[0m\n\u001b[1;32m    665\u001b[0m kwds_defaults \u001b[38;5;241m=\u001b[39m _refine_defaults_read(\n\u001b[1;32m    666\u001b[0m     dialect,\n\u001b[1;32m    667\u001b[0m     delimiter,\n\u001b[0;32m   (...)\u001b[0m\n\u001b[1;32m    676\u001b[0m     defaults\u001b[38;5;241m=\u001b[39m{\u001b[38;5;124m\"\u001b[39m\u001b[38;5;124mdelimiter\u001b[39m\u001b[38;5;124m\"\u001b[39m: \u001b[38;5;124m\"\u001b[39m\u001b[38;5;124m,\u001b[39m\u001b[38;5;124m\"\u001b[39m},\n\u001b[1;32m    677\u001b[0m )\n\u001b[1;32m    678\u001b[0m kwds\u001b[38;5;241m.\u001b[39mupdate(kwds_defaults)\n\u001b[0;32m--> 680\u001b[0m \u001b[38;5;28;01mreturn\u001b[39;00m \u001b[43m_read\u001b[49m\u001b[43m(\u001b[49m\u001b[43mfilepath_or_buffer\u001b[49m\u001b[43m,\u001b[49m\u001b[43m \u001b[49m\u001b[43mkwds\u001b[49m\u001b[43m)\u001b[49m\n",
      "File \u001b[0;32m~/.conda/envs/info147/lib/python3.10/site-packages/pandas/io/parsers/readers.py:575\u001b[0m, in \u001b[0;36m_read\u001b[0;34m(filepath_or_buffer, kwds)\u001b[0m\n\u001b[1;32m    572\u001b[0m _validate_names(kwds\u001b[38;5;241m.\u001b[39mget(\u001b[38;5;124m\"\u001b[39m\u001b[38;5;124mnames\u001b[39m\u001b[38;5;124m\"\u001b[39m, \u001b[38;5;28;01mNone\u001b[39;00m))\n\u001b[1;32m    574\u001b[0m \u001b[38;5;66;03m# Create the parser.\u001b[39;00m\n\u001b[0;32m--> 575\u001b[0m parser \u001b[38;5;241m=\u001b[39m \u001b[43mTextFileReader\u001b[49m\u001b[43m(\u001b[49m\u001b[43mfilepath_or_buffer\u001b[49m\u001b[43m,\u001b[49m\u001b[43m \u001b[49m\u001b[38;5;241;43m*\u001b[39;49m\u001b[38;5;241;43m*\u001b[39;49m\u001b[43mkwds\u001b[49m\u001b[43m)\u001b[49m\n\u001b[1;32m    577\u001b[0m \u001b[38;5;28;01mif\u001b[39;00m chunksize \u001b[38;5;129;01mor\u001b[39;00m iterator:\n\u001b[1;32m    578\u001b[0m     \u001b[38;5;28;01mreturn\u001b[39;00m parser\n",
      "File \u001b[0;32m~/.conda/envs/info147/lib/python3.10/site-packages/pandas/io/parsers/readers.py:933\u001b[0m, in \u001b[0;36mTextFileReader.__init__\u001b[0;34m(self, f, engine, **kwds)\u001b[0m\n\u001b[1;32m    930\u001b[0m     \u001b[38;5;28mself\u001b[39m\u001b[38;5;241m.\u001b[39moptions[\u001b[38;5;124m\"\u001b[39m\u001b[38;5;124mhas_index_names\u001b[39m\u001b[38;5;124m\"\u001b[39m] \u001b[38;5;241m=\u001b[39m kwds[\u001b[38;5;124m\"\u001b[39m\u001b[38;5;124mhas_index_names\u001b[39m\u001b[38;5;124m\"\u001b[39m]\n\u001b[1;32m    932\u001b[0m \u001b[38;5;28mself\u001b[39m\u001b[38;5;241m.\u001b[39mhandles: IOHandles \u001b[38;5;241m|\u001b[39m \u001b[38;5;28;01mNone\u001b[39;00m \u001b[38;5;241m=\u001b[39m \u001b[38;5;28;01mNone\u001b[39;00m\n\u001b[0;32m--> 933\u001b[0m \u001b[38;5;28mself\u001b[39m\u001b[38;5;241m.\u001b[39m_engine \u001b[38;5;241m=\u001b[39m \u001b[38;5;28;43mself\u001b[39;49m\u001b[38;5;241;43m.\u001b[39;49m\u001b[43m_make_engine\u001b[49m\u001b[43m(\u001b[49m\u001b[43mf\u001b[49m\u001b[43m,\u001b[49m\u001b[43m \u001b[49m\u001b[38;5;28;43mself\u001b[39;49m\u001b[38;5;241;43m.\u001b[39;49m\u001b[43mengine\u001b[49m\u001b[43m)\u001b[49m\n",
      "File \u001b[0;32m~/.conda/envs/info147/lib/python3.10/site-packages/pandas/io/parsers/readers.py:1217\u001b[0m, in \u001b[0;36mTextFileReader._make_engine\u001b[0;34m(self, f, engine)\u001b[0m\n\u001b[1;32m   1213\u001b[0m     mode \u001b[38;5;241m=\u001b[39m \u001b[38;5;124m\"\u001b[39m\u001b[38;5;124mrb\u001b[39m\u001b[38;5;124m\"\u001b[39m\n\u001b[1;32m   1214\u001b[0m \u001b[38;5;66;03m# error: No overload variant of \"get_handle\" matches argument types\u001b[39;00m\n\u001b[1;32m   1215\u001b[0m \u001b[38;5;66;03m# \"Union[str, PathLike[str], ReadCsvBuffer[bytes], ReadCsvBuffer[str]]\"\u001b[39;00m\n\u001b[1;32m   1216\u001b[0m \u001b[38;5;66;03m# , \"str\", \"bool\", \"Any\", \"Any\", \"Any\", \"Any\", \"Any\"\u001b[39;00m\n\u001b[0;32m-> 1217\u001b[0m \u001b[38;5;28mself\u001b[39m\u001b[38;5;241m.\u001b[39mhandles \u001b[38;5;241m=\u001b[39m \u001b[43mget_handle\u001b[49m\u001b[43m(\u001b[49m\u001b[43m  \u001b[49m\u001b[38;5;66;43;03m# type: ignore[call-overload]\u001b[39;49;00m\n\u001b[1;32m   1218\u001b[0m \u001b[43m    \u001b[49m\u001b[43mf\u001b[49m\u001b[43m,\u001b[49m\n\u001b[1;32m   1219\u001b[0m \u001b[43m    \u001b[49m\u001b[43mmode\u001b[49m\u001b[43m,\u001b[49m\n\u001b[1;32m   1220\u001b[0m \u001b[43m    \u001b[49m\u001b[43mencoding\u001b[49m\u001b[38;5;241;43m=\u001b[39;49m\u001b[38;5;28;43mself\u001b[39;49m\u001b[38;5;241;43m.\u001b[39;49m\u001b[43moptions\u001b[49m\u001b[38;5;241;43m.\u001b[39;49m\u001b[43mget\u001b[49m\u001b[43m(\u001b[49m\u001b[38;5;124;43m\"\u001b[39;49m\u001b[38;5;124;43mencoding\u001b[39;49m\u001b[38;5;124;43m\"\u001b[39;49m\u001b[43m,\u001b[49m\u001b[43m \u001b[49m\u001b[38;5;28;43;01mNone\u001b[39;49;00m\u001b[43m)\u001b[49m\u001b[43m,\u001b[49m\n\u001b[1;32m   1221\u001b[0m \u001b[43m    \u001b[49m\u001b[43mcompression\u001b[49m\u001b[38;5;241;43m=\u001b[39;49m\u001b[38;5;28;43mself\u001b[39;49m\u001b[38;5;241;43m.\u001b[39;49m\u001b[43moptions\u001b[49m\u001b[38;5;241;43m.\u001b[39;49m\u001b[43mget\u001b[49m\u001b[43m(\u001b[49m\u001b[38;5;124;43m\"\u001b[39;49m\u001b[38;5;124;43mcompression\u001b[39;49m\u001b[38;5;124;43m\"\u001b[39;49m\u001b[43m,\u001b[49m\u001b[43m \u001b[49m\u001b[38;5;28;43;01mNone\u001b[39;49;00m\u001b[43m)\u001b[49m\u001b[43m,\u001b[49m\n\u001b[1;32m   1222\u001b[0m \u001b[43m    \u001b[49m\u001b[43mmemory_map\u001b[49m\u001b[38;5;241;43m=\u001b[39;49m\u001b[38;5;28;43mself\u001b[39;49m\u001b[38;5;241;43m.\u001b[39;49m\u001b[43moptions\u001b[49m\u001b[38;5;241;43m.\u001b[39;49m\u001b[43mget\u001b[49m\u001b[43m(\u001b[49m\u001b[38;5;124;43m\"\u001b[39;49m\u001b[38;5;124;43mmemory_map\u001b[39;49m\u001b[38;5;124;43m\"\u001b[39;49m\u001b[43m,\u001b[49m\u001b[43m \u001b[49m\u001b[38;5;28;43;01mFalse\u001b[39;49;00m\u001b[43m)\u001b[49m\u001b[43m,\u001b[49m\n\u001b[1;32m   1223\u001b[0m \u001b[43m    \u001b[49m\u001b[43mis_text\u001b[49m\u001b[38;5;241;43m=\u001b[39;49m\u001b[43mis_text\u001b[49m\u001b[43m,\u001b[49m\n\u001b[1;32m   1224\u001b[0m \u001b[43m    \u001b[49m\u001b[43merrors\u001b[49m\u001b[38;5;241;43m=\u001b[39;49m\u001b[38;5;28;43mself\u001b[39;49m\u001b[38;5;241;43m.\u001b[39;49m\u001b[43moptions\u001b[49m\u001b[38;5;241;43m.\u001b[39;49m\u001b[43mget\u001b[49m\u001b[43m(\u001b[49m\u001b[38;5;124;43m\"\u001b[39;49m\u001b[38;5;124;43mencoding_errors\u001b[39;49m\u001b[38;5;124;43m\"\u001b[39;49m\u001b[43m,\u001b[49m\u001b[43m \u001b[49m\u001b[38;5;124;43m\"\u001b[39;49m\u001b[38;5;124;43mstrict\u001b[39;49m\u001b[38;5;124;43m\"\u001b[39;49m\u001b[43m)\u001b[49m\u001b[43m,\u001b[49m\n\u001b[1;32m   1225\u001b[0m \u001b[43m    \u001b[49m\u001b[43mstorage_options\u001b[49m\u001b[38;5;241;43m=\u001b[39;49m\u001b[38;5;28;43mself\u001b[39;49m\u001b[38;5;241;43m.\u001b[39;49m\u001b[43moptions\u001b[49m\u001b[38;5;241;43m.\u001b[39;49m\u001b[43mget\u001b[49m\u001b[43m(\u001b[49m\u001b[38;5;124;43m\"\u001b[39;49m\u001b[38;5;124;43mstorage_options\u001b[39;49m\u001b[38;5;124;43m\"\u001b[39;49m\u001b[43m,\u001b[49m\u001b[43m \u001b[49m\u001b[38;5;28;43;01mNone\u001b[39;49;00m\u001b[43m)\u001b[49m\u001b[43m,\u001b[49m\n\u001b[1;32m   1226\u001b[0m \u001b[43m\u001b[49m\u001b[43m)\u001b[49m\n\u001b[1;32m   1227\u001b[0m \u001b[38;5;28;01massert\u001b[39;00m \u001b[38;5;28mself\u001b[39m\u001b[38;5;241m.\u001b[39mhandles \u001b[38;5;129;01mis\u001b[39;00m \u001b[38;5;129;01mnot\u001b[39;00m \u001b[38;5;28;01mNone\u001b[39;00m\n\u001b[1;32m   1228\u001b[0m f \u001b[38;5;241m=\u001b[39m \u001b[38;5;28mself\u001b[39m\u001b[38;5;241m.\u001b[39mhandles\u001b[38;5;241m.\u001b[39mhandle\n",
      "File \u001b[0;32m~/.conda/envs/info147/lib/python3.10/site-packages/pandas/io/common.py:789\u001b[0m, in \u001b[0;36mget_handle\u001b[0;34m(path_or_buf, mode, encoding, compression, memory_map, is_text, errors, storage_options)\u001b[0m\n\u001b[1;32m    784\u001b[0m \u001b[38;5;28;01melif\u001b[39;00m \u001b[38;5;28misinstance\u001b[39m(handle, \u001b[38;5;28mstr\u001b[39m):\n\u001b[1;32m    785\u001b[0m     \u001b[38;5;66;03m# Check whether the filename is to be opened in binary mode.\u001b[39;00m\n\u001b[1;32m    786\u001b[0m     \u001b[38;5;66;03m# Binary mode does not support 'encoding' and 'newline'.\u001b[39;00m\n\u001b[1;32m    787\u001b[0m     \u001b[38;5;28;01mif\u001b[39;00m ioargs\u001b[38;5;241m.\u001b[39mencoding \u001b[38;5;129;01mand\u001b[39;00m \u001b[38;5;124m\"\u001b[39m\u001b[38;5;124mb\u001b[39m\u001b[38;5;124m\"\u001b[39m \u001b[38;5;129;01mnot\u001b[39;00m \u001b[38;5;129;01min\u001b[39;00m ioargs\u001b[38;5;241m.\u001b[39mmode:\n\u001b[1;32m    788\u001b[0m         \u001b[38;5;66;03m# Encoding\u001b[39;00m\n\u001b[0;32m--> 789\u001b[0m         handle \u001b[38;5;241m=\u001b[39m \u001b[38;5;28;43mopen\u001b[39;49m\u001b[43m(\u001b[49m\n\u001b[1;32m    790\u001b[0m \u001b[43m            \u001b[49m\u001b[43mhandle\u001b[49m\u001b[43m,\u001b[49m\n\u001b[1;32m    791\u001b[0m \u001b[43m            \u001b[49m\u001b[43mioargs\u001b[49m\u001b[38;5;241;43m.\u001b[39;49m\u001b[43mmode\u001b[49m\u001b[43m,\u001b[49m\n\u001b[1;32m    792\u001b[0m \u001b[43m            \u001b[49m\u001b[43mencoding\u001b[49m\u001b[38;5;241;43m=\u001b[39;49m\u001b[43mioargs\u001b[49m\u001b[38;5;241;43m.\u001b[39;49m\u001b[43mencoding\u001b[49m\u001b[43m,\u001b[49m\n\u001b[1;32m    793\u001b[0m \u001b[43m            \u001b[49m\u001b[43merrors\u001b[49m\u001b[38;5;241;43m=\u001b[39;49m\u001b[43merrors\u001b[49m\u001b[43m,\u001b[49m\n\u001b[1;32m    794\u001b[0m \u001b[43m            \u001b[49m\u001b[43mnewline\u001b[49m\u001b[38;5;241;43m=\u001b[39;49m\u001b[38;5;124;43m\"\u001b[39;49m\u001b[38;5;124;43m\"\u001b[39;49m\u001b[43m,\u001b[49m\n\u001b[1;32m    795\u001b[0m \u001b[43m        \u001b[49m\u001b[43m)\u001b[49m\n\u001b[1;32m    796\u001b[0m     \u001b[38;5;28;01melse\u001b[39;00m:\n\u001b[1;32m    797\u001b[0m         \u001b[38;5;66;03m# Binary mode\u001b[39;00m\n\u001b[1;32m    798\u001b[0m         handle \u001b[38;5;241m=\u001b[39m \u001b[38;5;28mopen\u001b[39m(handle, ioargs\u001b[38;5;241m.\u001b[39mmode)\n",
      "\u001b[0;31mFileNotFoundError\u001b[0m: [Errno 2] No such file or directory: '../data/helados.csv'"
     ]
    }
   ],
   "source": [
    "df = pd.read_csv('../data/helados.csv', index_col=0)\n",
    "df.head()"
   ]
  },
  {
   "cell_type": "markdown",
   "metadata": {},
   "source": [
    "De la tabla podemos apreciar que cada medición es un vector de cuatro componentes. Es decir que podemos representar la base de datos como una matriz $A \\in \\mathbb{R}^{30 \\times 4}$\n",
    "\n",
    "Con esta interpretación de matriz podemos usar las **herramientas de algebra lineal** para analizar estos datos"
   ]
  },
  {
   "cell_type": "markdown",
   "metadata": {},
   "source": [
    "## ¿Qué es el álgebra lineal?\n",
    "\n",
    "Es la rama de las matemáticas que analiza los sistemas de ecuaciones lineales de tipo\n",
    "\n",
    "$$\n",
    "Ax = b\n",
    "$$\n",
    "\n",
    "Es decir donde las incognitas $x$ se relacionan entre si usando sólo **adiciones** y **multiplicaciones**\n",
    "\n",
    "Si nuestro ejemplos son vectores y nuestra base de datos es una matriz podemos usar herramientas de álgebra lineal para\n",
    "\n",
    "**1** Medir que tan similares (o distintos) son dos ejemplos: **Distancia vectorial**\n",
    "\n",
    "$$\n",
    "d_{ij} = \\|\\vec z_i - \\vec z_j \\|\n",
    "$$\n",
    "\n",
    "**2** Comprimir nuestra base de datos: **Factorización de matrices**\n",
    "\n",
    "$$\n",
    "A = L D L^T\n",
    "$$\n",
    "\n",
    "**3** Predecir un atributo en función de otros: **Regresión lineal**\n",
    "\n",
    "$$\n",
    "y_i = m x_i + b = \\begin{pmatrix} 1 & x_i \\end{pmatrix} \\begin{pmatrix} b \\\\ m \\end{pmatrix} \\quad \\forall i\n",
    "$$\n",
    "\n",
    "En la presente y siguiente lección nos enfocaremos en la regresión lineal como un caso particular de solución de un sistema de ecuaciones lineales"
   ]
  },
  {
   "cell_type": "markdown",
   "metadata": {},
   "source": [
    "## Sistemas de ecuaciones lineales\n"
   ]
  },
  {
   "cell_type": "markdown",
   "metadata": {},
   "source": [
    "Respecto al ejemplo de los helados, la siguiente es una pregunta interesante\n",
    "\n",
    "> ¿Es posible predecir el consumo de helados en función del ingreso, la temperatura y el precio?\n",
    "\n",
    "Para responder esta pregunta podríamos proponer y estudiar un **modelo matemático** de la forma\n",
    "\n",
    "$$\n",
    "f(\\text{ingreso}, \\text{temperatura}, \\text{precio}) \\rightarrow \\text{consumo}\n",
    "$$\n",
    "\n",
    "Existen muchas opciones de modelos, sin embargo es conveniente partir con un **modelo simple**\n",
    "\n",
    "\n",
    "En general el modelo más simple es aquel que es **lineal en sus parámetros**, es decir \n",
    "\n",
    "$$\n",
    "\\begin{align}\n",
    "\\text{consumo} &= \\text{ingreso} \\cdot x + \\text{temperatura} \\cdot  y + \\text{precio} \\cdot  z + w\\nonumber \\\\\n",
    "& = \\begin{pmatrix} \\text{ingreso} & \\text{temperatura} & \\text{precio} & 1\\end{pmatrix} \\begin{pmatrix} x \\\\ y \\\\ z \\\\ w\\end{pmatrix}\n",
    "\\end{align}\n",
    "$$\n",
    "\n",
    "En este caso **ajustar** el modelo se reduce a encontrar los valores de los **parámetros o incógnitas** $x$, $y$, $z$ y $w$. Cada ejemplo de nuestra base de datos corresponde a una ecuación como la mostrada anteriormente. Es decir que en este caso particular tenemos un sistema lineal con 30 ecuaciones y 4 incógnitas\n",
    "\n",
    "En el caso más general un **sistema lineal en sus parámetros** con $N$ ecuaciones y $M$ incógnitas se ve así:\n",
    "\n",
    "$$\n",
    "\\begin{align}\n",
    "a_{11} x_{1} + a_{12} x_{2} + \\ldots + a_{1M} x_M &= b_1 \\nonumber \\\\\n",
    "a_{21} x_{1} + a_{22} x_{2} + \\ldots + a_{2M} x_M &= b_2  \\nonumber \\\\\n",
    "\\vdots  \\nonumber \\\\\n",
    "a_{N1} x_{1} + a_{N2} x_{2} + \\ldots + a_{NM} x_M &= b_N  \\nonumber \\\\\n",
    "\\end{align}\n",
    "$$\n",
    "\n",
    "que en representación matricial es\n",
    "\n",
    "$$\n",
    "A x = b\n",
    "$$\n",
    "\n",
    "El álgebra lineal nos da herramientas para resolver este sistema. Las soluciones dependen de las características del sistema en particular. Veremos tres casos, de los cuales dos son revisados en detalle en esta lección y un tercero se revisará en la lección {ref}`unit2-linear-2`"
   ]
  },
  {
   "cell_type": "markdown",
   "metadata": {},
   "source": [
    "### Sistema de ecuaciones cuadrado (Caso $N=M$)\n"
   ]
  },
  {
   "cell_type": "markdown",
   "metadata": {},
   "source": [
    "Este es un caso particular donde la matriz $A$ tiene igual número de filas y columnas\n",
    "\n",
    "Estos sistemas pueden resolverse usando inversión de matrices como se muestra a continuación\n",
    "\n",
    "$$\n",
    "\\begin{align}\n",
    "A x &=  b \\nonumber \\\\\n",
    "A^{-1} A x &= A^{-1} b \\nonumber \\\\\n",
    "x &= A^{-1} b \\nonumber \n",
    "\\end{align}\n",
    "$$\n",
    "\n",
    "donde $A A^{-1} = I$, es decir debemos encontrar la inversa de la matriz $A$\n",
    "\n",
    "Podemos invertir matrices usando la función `inv` del módulo [`linalg`](https://docs.scipy.org/doc/numpy/reference/routines.linalg.html) de NumPy\n",
    "\n",
    "```python\n",
    "np.linalg.inv(A # Una matriz cuadrada\n",
    "             )\n",
    "```\n"
   ]
  },
  {
   "cell_type": "markdown",
   "metadata": {},
   "source": [
    "**Verificar invertibilidad de una matriz**\n",
    "\n",
    "El sistema tendrá solución siempre y cuando la matriz $A$ sea **no-singular**\n",
    "\n",
    "Podemos verificar si $A$ es singular comprobando si su determinante es igual a cero con la función `det`\n",
    "\n",
    "```python\n",
    "np.linalg.det(A # Una matriz cuadrada\n",
    "             )\n",
    "```\n",
    "\n",
    "Otra forma de verificar si una matriz es invertible es comprobar que todas sus columnas sean linealmente independientes (LI). Esto es equivalente a que su rango sea igual al número de columnas, lo cual se puede verificar con la función `matrix_rank`\n",
    "\n",
    "```python\n",
    "np.linalg.matrix_rank(A # Un arreglo multidimensional\n",
    "                     )\n",
    "```"
   ]
  },
  {
   "cell_type": "markdown",
   "metadata": {},
   "source": [
    "**Análisis de errores y *condition number***\n",
    "\n",
    "Incluso con determinante distinto de cero podríamos no ser capaces de resolver un sistema numéricamente sin errores\n",
    "\n",
    "Imaginemos una pequeña variación en $b$ denominada $\\delta b$. Esta variación provoca a su vez una pequeña variación en $x$ denominada $\\delta x$. Se puede encontrar una cota que compara el error relativo de $b$ y $x$ como\n",
    "\n",
    "$$\n",
    "\\frac{\\| \\delta x \\|}{\\|x\\|} \\leq \\frac{\\| A^{-1} \\|  \\|\\delta b\\|}{\\|x\\|}  = \\|A^{-1}\\| \\|A\\| \\frac{\\| \\delta b \\|}{\\|b\\|} \n",
    "$$\n",
    "\n",
    "donde se usó que $A \\delta x = \\delta b$ (propiedad de linealidad)\n",
    "\n",
    "> Esto significa que un pequeño error relativo en $b$ puede causar un gran error en $x$ \n",
    "\n",
    "El estimador de $\\|A^{-1}\\| \\|A\\|$ se llama *condition number*. Un sistema se dice \"bien condicionado\" si este valor es cercano a $1$ y \"mal condicionado\" si es mucho mayor que $1$.\n",
    "\n",
    "Podemos calcular el *condition number* con la función de NumPy `cond` como se muestra a continuación\n",
    "\n",
    "```python\n",
    "np.linalg.cond(x, # Arreglo multidimensional\n",
    "               p # El orden de la norma: 1, 2, 'fro',...\n",
    "              )\n",
    "```\n",
    "\n",
    "La norma de $A$ denominada $\\| A\\|$ es \n",
    "\n",
    "> una medida del \"tamaño\" o \"magnitud\" de $A$ en el espacio\n",
    "\n",
    "Podemos calcular la norma o tamaño de un vector o matriz usando\n",
    "\n",
    "```python\n",
    "np.linalg.norm(x, # Arreglo multidimensional\n",
    "               ord, # El orden de la norma: 1, 2, 'fro', ...\n",
    "               axis, # Sobre cual/cualeses eje/s se calcula\n",
    "               ...\n",
    "              )\n",
    "```\n",
    "\n",
    "Las normas más utilizadas son la\n",
    "\n",
    "- norma euclidana (`ord=2`) para vectores \n",
    "- norma de [Frobenius](https://www.sciencedirect.com/topics/engineering/frobenius-norm) (`ord='fro'`) para matrices\n"
   ]
  },
  {
   "cell_type": "markdown",
   "metadata": {},
   "source": [
    "### Resolviendo sistemas cuadrados eficientemente\n",
    "\n",
    "En general nos interesa sólo $x$ y no $A^{-1}$. Si un sistema de ecuaciones es grande es preferible no calcular la inversa de $A$ por su alto costo computacional. \n",
    "\n",
    "Podemos encontrar $x$ directamente en un sistema cuadrado usando la función `solve` \n",
    "\n",
    "```python\n",
    ">>> np.linalg.solve(A, b)\n",
    "```\n",
    "\n",
    "Comparemos el resultado obtenido con respecto a calcular la inversa. Para esto podemos usar la función `allclose`"
   ]
  },
  {
   "cell_type": "code",
   "execution_count": null,
   "metadata": {
    "ExecuteTime": {
     "end_time": "2020-06-29T01:58:10.183782Z",
     "start_time": "2020-06-29T01:58:09.392696Z"
    }
   },
   "outputs": [],
   "source": [
    "N = 2000\n",
    "A = np.random.rand(N, N) # Matriz cuadrada\n",
    "b = np.random.rand(N, 1) # Vector\n",
    "np.allclose(np.linalg.solve(A, b), \n",
    "            np.dot(np.linalg.inv(A), b))"
   ]
  },
  {
   "cell_type": "markdown",
   "metadata": {},
   "source": [
    "Es decir que no hay diferencia entre los resultados. Comparemos ahora el tiempo de ejecución "
   ]
  },
  {
   "cell_type": "code",
   "execution_count": null,
   "metadata": {
    "ExecuteTime": {
     "end_time": "2020-06-29T01:58:26.551889Z",
     "start_time": "2020-06-29T01:58:10.188884Z"
    }
   },
   "outputs": [],
   "source": [
    "%timeit -r5 -n5 np.dot(np.linalg.inv(A), b)\n",
    "%timeit -r5 -n5 np.linalg.solve(A, b)"
   ]
  },
  {
   "cell_type": "markdown",
   "metadata": {},
   "source": [
    "Usar `solve` es un poco más de tres veces más veloz que utilizar `inv`+`dot`\n",
    "\n",
    "¿Cómo puede ser posible esto? \n",
    "\n",
    "La respuesta es que `solve` realiza internamente una factorización del tipo\n",
    "\n",
    "$$\n",
    "\\begin{align}\n",
    "A x &= b \\nonumber \\\\\n",
    "LU x &= b \\nonumber \\\\\n",
    "L z &= b \\nonumber\n",
    "\\end{align}\n",
    "$$\n",
    "\n",
    "Donde $L$ es una matriz triangular inferior (lower) y $U$ es una matriz triangular superior (upper)\n",
    "\n",
    "$$\n",
    "L = \\begin{pmatrix} \n",
    "l_{11} & 0 & 0 & \\ldots & 0 & 0 \\\\ \n",
    "l_{21} & l_{22} & 0 &\\ldots & 0 & 0 \\\\ \n",
    "\\vdots & \\vdots & \\vdots & \\ddots & \\vdots & \\vdots \\\\\n",
    "l_{N1} & l_{N2} & l_{N3} & \\ldots & l_{N(N-1)} & l_{NN} \\\\ \n",
    "\\end{pmatrix} \\quad\n",
    "U = \\begin{pmatrix} \n",
    "u_{11} & u_{11} & u_{13} & \\ldots & u_{1(N-1)} & u_{1N} \\\\ \n",
    "u_{21} & u_{22} & u_{32} &\\ldots & u_{2(N-1)} & 0 \\\\ \n",
    "\\vdots & \\vdots & \\vdots &\\ldots & \\ddots & \\vdots \\\\\n",
    "u_{N1} & 0 & 0 & \\ldots & 0 & 0\\\\ \n",
    "\\end{pmatrix}\n",
    "$$\n",
    "\n",
    "Luego $z$ se puede obtener recursivamente\n",
    "\n",
    "$$\n",
    "z_1 = \\frac{b_1}{l_{11}}\n",
    "$$\n",
    "$$\n",
    "z_2 = \\frac{b_2 - l_{21} z_1}{l_{22}}\n",
    "$$\n",
    "$$\n",
    "z_i = \\frac{b_i - \\sum_{j=1}^{i-1} l_{ij} z_j}{l_{ii}}\n",
    "$$\n",
    "\n",
    "y $x$ se puede obtener recursivamente de $z$\n",
    "\n",
    "La librería `scipy` nos ofrece en su modulo `linalg` la función `lu` para factorizar"
   ]
  },
  {
   "cell_type": "markdown",
   "metadata": {},
   "source": [
    "### Ejercicio práctico\n",
    "\n",
    "Sea el sistema de ecuaciones\n",
    "\n",
    "$$\n",
    "\\begin{align}\n",
    "-x_{1} + 5 x_{2} &= 2 \\nonumber \\\\\n",
    "2 x_{1} + 3 x_{2} &= 1  \\nonumber \n",
    "\\end{align}\n",
    "$$\n",
    "\n",
    "1. ¿Cuántas ecuaciones e incognitas tiene este sistema? ¿Es este un sistema cuadrado?\n",
    "1. Escriba $A$, $b$  y compruebe si $A$ es invertible (determinante y rango)\n",
    "1. Encuentre la inversa de $A$ y usela para calcular $x$\n",
    "1. (Extra) Represente geometricamente el sistema y encuentra la solución de forma gráfica"
   ]
  },
  {
   "cell_type": "markdown",
   "metadata": {},
   "source": [
    "Repita para los sistemas\n",
    "\n",
    "$$\n",
    "\\begin{align}\n",
    "x_{1} + 5 x_{2} &= 2 \\nonumber \\\\\n",
    "2 x_{1} + 10 x_{2} &= 6  \\nonumber \n",
    "\\end{align}\n",
    "$$\n",
    "\n",
    "y\n",
    "\n",
    "$$\n",
    "\\begin{align}\n",
    "x_{1} + 5 x_{2} &= 2 \\nonumber \\\\\n",
    "2 x_{1} + 10 x_{2} &= 4  \\nonumber \n",
    "\\end{align}\n",
    "$$\n",
    "\n",
    "¿Qué puede decir de estos sistemas?"
   ]
  },
  {
   "cell_type": "markdown",
   "metadata": {},
   "source": [
    "**Solución paso a paso con comentarios**"
   ]
  },
  {
   "cell_type": "code",
   "execution_count": null,
   "metadata": {
    "ExecuteTime": {
     "end_time": "2020-06-29T18:49:46.532076Z",
     "start_time": "2020-06-29T18:49:46.370248Z"
    }
   },
   "outputs": [],
   "source": [
    "YouTubeVideo_formato('Z47FrSIdIAg')"
   ]
  },
  {
   "cell_type": "markdown",
   "metadata": {},
   "source": [
    "### Sistema rectangular (caso $N\\neq M$)\n"
   ]
  },
  {
   "cell_type": "markdown",
   "metadata": {},
   "source": [
    "Consideremos que\n",
    "\n",
    "- Las incognitas de un sistema representan sus grados de libertad\n",
    "- Las ecuaciones de un sistema representan sus restricciones\n",
    "\n",
    "Si tenemos un sistema \n",
    "\n",
    "- con más ecuaciones que incognitas: el sistema está sobredeterminado \n",
    "- con más incognitas que ecuaciones: el sistema está infradeterminado\n",
    "\n",
    "y en ambos casos la matriz $A$ ya no es cuadrada, es decir ya no podemos calcular la inversa. Debemos utilizar otros métodos dependiendo del caso"
   ]
  },
  {
   "cell_type": "markdown",
   "metadata": {},
   "source": [
    "### Sistema sobre-determinado (caso $N>M$)\n",
    "\n",
    "Definamos el vector de error $e = Ax - b$\n",
    "\n",
    "Podemos encontrar una solución aproximada minimizando la norma euclidiana del error\n",
    "\n",
    "$$\n",
    "\\begin{align}\n",
    "\\hat x &= \\min_x \\|e\\|_2^2 \\nonumber \\\\\n",
    "& = \\min_x e^T e \\nonumber \\\\\n",
    "& = \\min_x (Ax -b)^T (Ax -b) \\nonumber \\\\\n",
    "\\end{align}\n",
    "$$\n",
    "\n",
    "Lo cual se conoce como el **Problema de mínimos cuadrados**\n",
    "\n",
    "Para continuar tomamos la última expresión y derivamos con respecto a $x$\n",
    "\n",
    "$$\n",
    "\\begin{align}\n",
    "\\frac{d}{dx}  (A x - b)^T (A x -b) &= 2 A^T (A x -b) \\nonumber \\\\\n",
    "&= 2A^T A x - 2A^T b = 0 \\nonumber \\\\\n",
    "\\rightarrow \\hat x &= (A^T A)^{-1} A^T b \\nonumber \\\\\n",
    "&= A^{\\dagger} b \\nonumber \\\\\n",
    "\\end{align}\n",
    "$$\n",
    "\n",
    "donde $A^{\\dagger} = (A^T A)^{-1} A^T$ se conoce como la pseudo-inversa de [Moore-Penrose](https://en.wikipedia.org/wiki/Moore%E2%80%93Penrose_inverse)"
   ]
  },
  {
   "cell_type": "markdown",
   "metadata": {},
   "source": [
    "Podemos calcular la pseudo inversa con NumPy usando la función `pinv` como se muestra a continuación\n",
    "\n",
    "```python\n",
    "np.linalg.pinv(a, # Arreglo multidimensional\n",
    "               rcond=1e-15, # Los valores singulares más pequeños que rcond se anulan\n",
    "               hermitian=False # Booleano para indicar si a tiene simetría hermítica\n",
    "              )\n",
    "```\n",
    "\n",
    "Si sólo queremos obtener la solución $\\hat x$ podemos usar \n",
    "\n",
    "```python\n",
    "np.linalg.lstsq(A, # Matriz rectangular de NxM\n",
    "                b, # vector de largo N\n",
    "                rcond # idem np.linalg.pinv\n",
    "               )\n",
    "                \n",
    "```\n",
    "\n",
    "que retorna una tupla con cuatro elementos\n",
    "\n",
    "- `x`: El resultado buscado\n",
    "- `residuals`: La norma del error al cuadrado\n",
    "- `rank`: El rango de $A$\n",
    "- `s`: Los valores singulares de $A$\n",
    "\n",
    "Podemos ver la función `lstsq` como una alternativa a `solve` para el caso rectangular sobredeterminado"
   ]
  },
  {
   "cell_type": "markdown",
   "metadata": {},
   "source": [
    "### Ejercicio práctico\n",
    "\n",
    "Encuentre los parámetros de la **ecuación de la recta** que ajuste mejor los datos \n",
    "\n",
    "$$\n",
    "\\text{consumo} = \\theta_1 \\cdot \\text{temperatura} + \\theta_0\n",
    "$$\n",
    "\n",
    "- Identifique y construya el vector $b$ y la matriz $A$ ¿Cuánto vale $N$ y $M$?\n",
    "- ¿Es este un sistema cuadrado o rectangular? ¿ Es sobre o infra-determinado?\n",
    "- Encuentre $\\theta_0$ y $\\theta_1$ que minimiza la suma de errores cuadráticos\n",
    "- Grafique la recta encontrada usando `matplotlib`"
   ]
  },
  {
   "cell_type": "markdown",
   "metadata": {
    "ExecuteTime": {
     "end_time": "2020-06-29T17:53:25.909211Z",
     "start_time": "2020-06-29T17:53:25.852145Z"
    }
   },
   "source": [
    "**Solución paso a paso con comentarios**"
   ]
  },
  {
   "cell_type": "code",
   "execution_count": null,
   "metadata": {
    "ExecuteTime": {
     "end_time": "2020-06-29T18:50:10.551885Z",
     "start_time": "2020-06-29T18:50:10.412141Z"
    }
   },
   "outputs": [],
   "source": [
    "YouTubeVideo_formato('FNwIqEZtX2A')"
   ]
  },
  {
   "cell_type": "markdown",
   "metadata": {},
   "source": [
    "## Resumen de la lección\n",
    "\n",
    "En esta lección hemos aprendido a:\n",
    "\n",
    "- Reconocer sistemas de ecuaciones lineales cuadrados y rectangulares\n",
    "- Utilizar herramientas de álgebra lineal implementadas en `NumPy` para resolver los sistemas de ecuaciones"
   ]
  },
  {
   "cell_type": "code",
   "execution_count": null,
   "metadata": {},
   "outputs": [],
   "source": []
  }
 ],
 "metadata": {
  "kernelspec": {
   "display_name": "Python 3 (ipykernel)",
   "language": "python",
   "name": "python3"
  },
  "language_info": {
   "codemirror_mode": {
    "name": "ipython",
    "version": 3
   },
   "file_extension": ".py",
   "mimetype": "text/x-python",
   "name": "python",
   "nbconvert_exporter": "python",
   "pygments_lexer": "ipython3",
   "version": "3.10.4"
  },
  "toc": {
   "base_numbering": 1,
   "nav_menu": {},
   "number_sections": true,
   "sideBar": true,
   "skip_h1_title": false,
   "title_cell": "Table of Contents",
   "title_sidebar": "Contents",
   "toc_cell": false,
   "toc_position": {
    "height": "calc(100% - 180px)",
    "left": "10px",
    "top": "150px",
    "width": "294.4px"
   },
   "toc_section_display": true,
   "toc_window_display": true
  }
 },
 "nbformat": 4,
 "nbformat_minor": 2
}
