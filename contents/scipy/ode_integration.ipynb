{
 "cells": [
  {
   "cell_type": "code",
   "execution_count": null,
   "metadata": {},
   "outputs": [],
   "source": [
    "%%HTML\n",
    "<!-- Mejorar visualización en proyector -->\n",
    "<style>\n",
    ".rendered_html {font-size: 1.2em; line-height: 150%;}\n",
    "div.prompt {min-width: 0ex; padding: 0px;}\n",
    ".container {width:95% !important;}\n",
    "</style>"
   ]
  },
  {
   "cell_type": "code",
   "execution_count": null,
   "metadata": {},
   "outputs": [],
   "source": [
    "%autosave 0\n",
    "%matplotlib notebook\n",
    "import numpy as np\n",
    "import matplotlib.pyplot as plt\n",
    "from matplotlib import animation\n",
    "from IPython.display import display"
   ]
  },
  {
   "cell_type": "markdown",
   "metadata": {},
   "source": [
    "## Sistema de ecuaciónes diferenciales ordinarias (EDO)\n",
    "\n",
    "Es un sistema de ecuaciones diferenciales que puede escribirse como\n",
    "$$\n",
    "\\frac{d x_i(t)}{dt} = F_i(x_1, x_2, \\ldots, x_N), i=1,\\ldots, N\n",
    "$$\n",
    "\n",
    "siempre puede escribirse como un sistema de primer orden usando cambios de variable"
   ]
  },
  {
   "cell_type": "markdown",
   "metadata": {},
   "source": [
    "## Sistema de Lorenz\n",
    "\n",
    "> \"when the present determines the future, but the approximate present does not approximately determine the future.\" Edward Lorenz\n",
    "\n",
    "Es un sistema EDO de primer orden de tres ecuaciones (variables) con parámetros $\\sigma$, $\\beta$ y $\\rho$ y condiciones iniciales $u(0)$, $v(0)$ y $w(0)$\n",
    "\n",
    "$$\n",
    "\\begin{split}\n",
    "\\frac{du}{dt} &= \\sigma(v-u) \\\\\n",
    "\\frac{dv}{dt} &= \\rho u -v - uw \\\\\n",
    "\\frac{dw}{dt} &= uv  - \\beta w\n",
    "\\end{split}\n",
    "$$\n",
    "\n",
    "Fue diseñado para describir como el aire se mueve por la atmósfera (convexión)\n",
    "\n",
    "Este es un ejemplo de **sistema caótico**: Pequeños cambios en las condiciones iniciales generan grandes cambios en el resultado\n",
    "\n",
    "Podemos usar el módulo [`scipy.integrate`](https://docs.scipy.org/doc/scipy/reference/tutorial/integrate.html) para resolver el sistema y luego graficarlo en tres dimensiones\n",
    "\n",
    "En particular usaremos la función [`odeint`](https://docs.scipy.org/doc/scipy/reference/generated/scipy.integrate.odeint.html#scipy.integrate.odeint)"
   ]
  },
  {
   "cell_type": "code",
   "execution_count": null,
   "metadata": {},
   "outputs": [],
   "source": [
    "import scipy.integrate\n",
    "from mpl_toolkits.mplot3d import Axes3D\n",
    "\n",
    "# Escribimos el sistema de ecuaciones\n",
    "def lorenz_system(time, var, *args):\n",
    "    sigma, beta, rho = args\n",
    "    u, v, w = var\n",
    "    du = sigma*(v - u)\n",
    "    dv = rho*u - v - u*w\n",
    "    dw = u*v -beta*w\n",
    "    return du, dv, dw\n",
    "\n",
    "# Evaluado en tiempo time con parámetros y valores iniciales:\n",
    "time = np.arange(0, 100, step=1e-2)\n",
    "sigma, beta, rho = 8., 1.6, 28\n",
    "u0, v0, w0 = 0, 1, 1.05\n",
    "u1, v1, w1 = scipy.integrate.odeint(func=lorenz_system, y0=(u0, v0, w0), t=time, \n",
    "                                 args=(sigma, beta, rho), tfirst=True).T\n",
    "u2, v2, w2 = scipy.integrate.odeint(func=lorenz_system, y0=(u0, v0, w0), t=time, \n",
    "                                 args=(sigma, 2*beta, rho), tfirst=True).T\n",
    "fig = plt.figure()\n",
    "ax = fig.gca(projection='3d')\n",
    "line1 = ax.plot(u1[:1], v1[:1], w1[:1], lw=0.5)\n",
    "line2 = ax.plot(u2[:1], v2[:1], w2[:1], lw=0.5)\n",
    "ax.set_xlim([-20, 20])\n",
    "ax.set_zlim([0, 50])\n",
    "ax.set_ylim([-30, 30])\n",
    "\n",
    "def update_plot(n):\n",
    "    line1[0].set_xdata(u1[:n])\n",
    "    line1[0].set_ydata(v1[:n])\n",
    "    line1[0].set_3d_properties(w1[:n])\n",
    "    line2[0].set_xdata(u2[:n])\n",
    "    line2[0].set_ydata(v2[:n])\n",
    "    line2[0].set_3d_properties(w2[:n])\n",
    "\n",
    "anim = animation.FuncAnimation(fig, update_plot, frames=len(time), interval=1, \n",
    "                               repeat=False, blit=True)"
   ]
  },
  {
   "cell_type": "markdown",
   "metadata": {},
   "source": [
    "Teoría de caos: https://geoffboeing.com/2015/03/chaos-theory-logistic-map/"
   ]
  },
  {
   "cell_type": "code",
   "execution_count": null,
   "metadata": {},
   "outputs": [],
   "source": []
  }
 ],
 "metadata": {
  "kernelspec": {
   "display_name": "Python 3",
   "language": "python",
   "name": "python3"
  },
  "language_info": {
   "codemirror_mode": {
    "name": "ipython",
    "version": 3
   },
   "file_extension": ".py",
   "mimetype": "text/x-python",
   "name": "python",
   "nbconvert_exporter": "python",
   "pygments_lexer": "ipython3",
   "version": "3.7.4"
  }
 },
 "nbformat": 4,
 "nbformat_minor": 2
}
