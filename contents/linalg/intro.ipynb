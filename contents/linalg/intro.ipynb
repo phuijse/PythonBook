{
 "cells": [
  {
   "cell_type": "markdown",
   "id": "baf576ad",
   "metadata": {},
   "source": [
    "# Introducción \n",
    "\n",
    "El álgebra lineal se enfoca en el estudio de los vectores, las matrices, los espacios vectoriales y las relaciones o combinaciones lineales\n",
    "\n",
    "> ¿Qué significa que una relación entre variables sea lineal?\n",
    "\n",
    "Significa que podemos expresar su relación utilizando sólo adición y multiplicación (escalamiento) por constantes. \n",
    "\n",
    "Por ejemplo la ecuación de la recta\n",
    "\n",
    "$$\n",
    "y = a x + b,\n",
    "$$\n",
    "\n",
    "donde $x$ e $y$ son variables o incógnitas y $a$ y $b$ son constantes o coeficientes es un ejemplo de relación lineal\n",
    "\n",
    "Cuando tenemos un conjunto de ecuaciones como la anterior hablamos de un **sistema lineal**, que usualmente podremos expresar como\n",
    "\n",
    "$$\n",
    "A x = b,\n",
    "$$\n",
    "\n",
    "donde $A$ es una matriz y $x$ y $b$ son vectores\n",
    "\n",
    "\n",
    ":::{important}\n",
    "\n",
    "Los conceptos de álgebra lineal son ampliamente utilizados en física o ingeniería, por ejemplo en dinámica, circuitos eléctricos, análisis estructural y análisis estadístico\n",
    "\n",
    ":::\n",
    "\n"
   ]
  },
  {
   "cell_type": "markdown",
   "id": "80daf23b",
   "metadata": {},
   "source": [
    "En general si podemos modelar nuestros ejemplos como vectores y agruparlos como matrices, el álgebra lineal nos puede servir para\n",
    "\n",
    "1. Medir similitud entre ejemplos: Distancia vectorial\n",
    "1. Comprimir nuestros datos: Factorización\n",
    "1. Predecir un atributo en función de otros: Sistemas de ecuaciones lineales\n",
    "\n",
    "por mencionar algunos ejemplos. \n",
    "\n",
    "En este capítulo veremos algunos de estos problemas y los resolveremos con el módulo `linalg` de la librería de computación científica `scipy`"
   ]
  },
  {
   "cell_type": "markdown",
   "id": "0f3ea60b",
   "metadata": {},
   "source": [
    ":::{note}\n",
    "\n",
    "Muchas de las funciones que veremos están implementadas tanto en  `scipy.linalg` como en `np.linalg`. Sin embargo algunas funciones de `np.linalg` no tienen equivalente en `scipy`\n",
    "\n",
    ":::"
   ]
  },
  {
   "cell_type": "markdown",
   "id": "8f25f19a",
   "metadata": {},
   "source": [
    "## Vectores"
   ]
  },
  {
   "cell_type": "markdown",
   "id": "a2594964",
   "metadata": {},
   "source": [
    "## Matrices"
   ]
  },
  {
   "cell_type": "code",
   "execution_count": null,
   "id": "7dd0aaa3",
   "metadata": {},
   "outputs": [],
   "source": [
    "La norma de $A$ denominada $\\| A\\|$ es \n",
    "\n",
    "> una medida del \"tamaño\" o \"magnitud\" de $A$ en el espacio\n",
    "\n",
    "Podemos calcular la norma o tamaño de un vector o matriz usando\n",
    "\n",
    "```python\n",
    "np.linalg.norm(x, # Arreglo multidimensional\n",
    "               ord, # El orden de la norma: 1, 2, 'fro', ...\n",
    "               axis, # Sobre cual/cualeses eje/s se calcula\n",
    "               ...\n",
    "              )\n",
    "```\n",
    "\n",
    "Las normas más utilizadas son la\n",
    "\n",
    "- norma euclidana (`ord=2`) para vectores \n",
    "- norma de [Frobenius](https://www.sciencedirect.com/topics/engineering/frobenius-norm) (`ord='fro'`) para matrices\n"
   ]
  }
 ],
 "metadata": {
  "kernelspec": {
   "display_name": "Python 3 (ipykernel)",
   "language": "python",
   "name": "python3"
  },
  "language_info": {
   "codemirror_mode": {
    "name": "ipython",
    "version": 3
   },
   "file_extension": ".py",
   "mimetype": "text/x-python",
   "name": "python",
   "nbconvert_exporter": "python",
   "pygments_lexer": "ipython3",
   "version": "3.8.12"
  }
 },
 "nbformat": 4,
 "nbformat_minor": 5
}
