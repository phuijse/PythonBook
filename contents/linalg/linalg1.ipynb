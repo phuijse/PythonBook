{
 "cells": [
  {
   "cell_type": "markdown",
   "metadata": {},
   "source": [
    "# Resolviendo sistemas de ecuaciones lineales\n",
    "\n",
    "En su forma más general un sistema de ecuaciones lineales se ve como\n",
    "\n",
    "$$\n",
    "\\begin{align}\n",
    "A_{11} x_{1} + A_{12} x_{2} + \\ldots + A_{1M} x_M &= b_1 \\nonumber \\\\\n",
    "A_{21} x_{1} + A_{22} x_{2} + \\ldots + A_{2M} x_M &= b_2  \\nonumber \\\\\n",
    "&\\vdots  \\nonumber \\\\\n",
    "A_{N1} x_{1} + A_{N2} x_{2} + \\ldots + A_{NM} x_M &= b_N  \\nonumber \\\\\n",
    "\\end{align}\n",
    "$$\n",
    "\n",
    "donde \n",
    "\n",
    "- $A_{ij}$ y $b_i$ son los coeficientes del sistema\n",
    "- $N$ es la cantidad de ecuaciones del sistema\n",
    "- $M$ es la cantidad de incógnitas del sistema\n",
    "\n",
    "El sistema anterior puede escribirse de forma matricial como\n",
    "\n",
    "$$\n",
    "A x = b\n",
    "$$\n",
    "\n",
    "donde $A \\in \\mathbb{R}^{N \\times M}$ y $b \\in \\mathbb{R}^N$ \n",
    "\n",
    "Revisemos a continuación como se resuelven problemas de este tipo utilizando `scipy.linalg` \n",
    "\n"
   ]
  },
  {
   "cell_type": "code",
   "execution_count": 1,
   "metadata": {},
   "outputs": [],
   "source": [
    "%matplotlib inline\n",
    "import matplotlib.pyplot as plt\n",
    "import pandas as pd\n",
    "import numpy as np\n",
    "import scipy.linalg"
   ]
  },
  {
   "cell_type": "markdown",
   "metadata": {},
   "source": [
    "## Solución de un sistema cuadrado \n"
   ]
  },
  {
   "cell_type": "markdown",
   "metadata": {},
   "source": [
    "Este es un caso particular donde la matriz $A$ tiene igual número de filas y columnas ($N=M$)\n",
    "\n",
    "Asumiendo que la inversa de $A$ existe podemos resolver este sistema como\n",
    "\n",
    "$$\n",
    "\\begin{align}\n",
    "A x &=  b \\nonumber \\\\\n",
    "A^{-1} A x &= A^{-1} b \\nonumber \\\\\n",
    "x &= A^{-1} b \\nonumber \n",
    "\\end{align}\n",
    "$$\n",
    "\n",
    "donde $A A^{-1} = I$\n",
    "\n",
    "A continuación veremos como calcular la inversa de una matriz y resolver el sistema de ecuaciones cuadrado"
   ]
  },
  {
   "cell_type": "markdown",
   "metadata": {},
   "source": [
    "**Ejemplo** Sea el sistema de tres ecuaciones y tres incognitas\n",
    "\n",
    "$$\n",
    "\\begin{align}\n",
    "x_1 - 2x_2 + 3x_3 &= 4 \\\\\n",
    "2x_1 - 5x2 + 12x_3 &= 15 \\\\\n",
    "2x_2 - 10x_3 &= -10 \n",
    "\\end{align}\n",
    "$$\n",
    "\n",
    "que podemos reescribir como\n",
    "\n",
    "$$\n",
    "\\begin{pmatrix}\n",
    "1 & -2 & 3 \\\\\n",
    "2 & -5 & 12 \\\\\n",
    "0 & 2 & -10\n",
    "\\end{pmatrix} \\cdot\n",
    "\\begin{pmatrix}\n",
    "x_1 \\\\ x_2 \\\\ x_3\n",
    "\\end{pmatrix} =\n",
    "\\begin{pmatrix}\n",
    "4 \\\\\n",
    "15 \\\\\n",
    "-10\n",
    "\\end{pmatrix} \n",
    "$$\n",
    "\n",
    "de donde es directo identificar $A$ y $b$"
   ]
  },
  {
   "cell_type": "code",
   "execution_count": 2,
   "metadata": {},
   "outputs": [],
   "source": [
    "A = np.array([[1, -2, 3], [2, -5, 12], [0, 2, -10]])\n",
    "b = np.array([4, 15, -10])"
   ]
  },
  {
   "cell_type": "markdown",
   "metadata": {},
   "source": [
    "Dado que $A$ es una matriz cuadrada podemos intentar invertla la función [`inv`](https://docs.scipy.org/doc/scipy/reference/generated/scipy.linalg.inv.html#scipy.linalg.inv)"
   ]
  },
  {
   "cell_type": "code",
   "execution_count": 3,
   "metadata": {},
   "outputs": [
    {
     "data": {
      "text/plain": [
       "array([[-13. ,   7. ,   4.5],\n",
       "       [-10. ,   5. ,   3. ],\n",
       "       [ -2. ,   1. ,   0.5]])"
      ]
     },
     "execution_count": 3,
     "metadata": {},
     "output_type": "execute_result"
    }
   ],
   "source": [
    "Ainv = scipy.linalg.inv(A)\n",
    "Ainv"
   ]
  },
  {
   "cell_type": "markdown",
   "metadata": {},
   "source": [
    "Con la inversa podemos resolver el problema con"
   ]
  },
  {
   "cell_type": "code",
   "execution_count": 4,
   "metadata": {},
   "outputs": [
    {
     "data": {
      "text/plain": [
       "array([8., 5., 2.])"
      ]
     },
     "execution_count": 4,
     "metadata": {},
     "output_type": "execute_result"
    }
   ],
   "source": [
    "np.dot(Ainv, b)"
   ]
  },
  {
   "cell_type": "markdown",
   "metadata": {},
   "source": [
    ":::{note}\n",
    "\n",
    "Si $A$ hubiera sido singular, es decir no invertible, la función `inv` hubiera retornado un `LinAlgError`\n",
    "\n",
    ":::"
   ]
  },
  {
   "cell_type": "markdown",
   "metadata": {},
   "source": [
    "Podemos verificar la invertibilidad de la matriz comprobando que su determinante sea distinto de cero"
   ]
  },
  {
   "cell_type": "code",
   "execution_count": 5,
   "metadata": {},
   "outputs": [
    {
     "data": {
      "text/plain": [
       "-1.9999999999999976"
      ]
     },
     "execution_count": 5,
     "metadata": {},
     "output_type": "execute_result"
    }
   ],
   "source": [
    "scipy.linalg.det(A)"
   ]
  },
  {
   "cell_type": "markdown",
   "metadata": {},
   "source": [
    "Otra forma de verificar si una matriz es invertible es comprobar que todas sus columnas sean linealmente independientes (LI)\n",
    "\n",
    "Esto es equivalente a que su rango sea igual al número de columnas, lo cual se puede verificar con la función de `NumPy`"
   ]
  },
  {
   "cell_type": "code",
   "execution_count": 6,
   "metadata": {},
   "outputs": [
    {
     "data": {
      "text/plain": [
       "True"
      ]
     },
     "execution_count": 6,
     "metadata": {},
     "output_type": "execute_result"
    }
   ],
   "source": [
    "np.linalg.matrix_rank(A) == A.shape[1]"
   ]
  },
  {
   "cell_type": "markdown",
   "metadata": {},
   "source": [
    "**Resolviendo sistemas cuadrados eficientemente**\n",
    "\n",
    "En general si sólo nos interesa $x$, podemos no realizar el cálculo explícito de  $A^{-1}$. Si un sistema de ecuaciones es grande es preferible no calcular la inversa de $A$ debido al alto costo computacional necesario\n",
    "\n",
    "Podemos encontrar $x$ directamente en un sistema cuadrado usando la función [`solve`](https://docs.scipy.org/doc/scipy/reference/generated/scipy.linalg.solve.html#scipy.linalg.solve)"
   ]
  },
  {
   "cell_type": "code",
   "execution_count": 7,
   "metadata": {},
   "outputs": [
    {
     "data": {
      "text/plain": [
       "array([8., 5., 2.])"
      ]
     },
     "execution_count": 7,
     "metadata": {},
     "output_type": "execute_result"
    }
   ],
   "source": [
    "scipy.linalg.solve(A, b)"
   ]
  },
  {
   "cell_type": "markdown",
   "metadata": {},
   "source": [
    "El resultado es idéntico al anterior\n",
    "\n",
    "Veamos ahora la diferencia en eficiencia utilizando un sistema más grande"
   ]
  },
  {
   "cell_type": "code",
   "execution_count": 8,
   "metadata": {
    "ExecuteTime": {
     "end_time": "2020-06-29T01:58:10.183782Z",
     "start_time": "2020-06-29T01:58:09.392696Z"
    }
   },
   "outputs": [
    {
     "name": "stdout",
     "output_type": "stream",
     "text": [
      "297 ms ± 15.7 ms per loop (mean ± std. dev. of 5 runs, 5 loops each)\n",
      "193 ms ± 11.6 ms per loop (mean ± std. dev. of 5 runs, 5 loops each)\n"
     ]
    }
   ],
   "source": [
    "N = 2000\n",
    "A_big = np.random.rand(N, N) # Matriz cuadrada\n",
    "b_big = np.random.rand(N, 1) # Vector\n",
    "%timeit -r5 -n5 np.dot(scipy.linalg.inv(A_big), b_big)\n",
    "%timeit -r5 -n5 scipy.linalg.solve(A_big, b_big)"
   ]
  },
  {
   "cell_type": "code",
   "execution_count": 9,
   "metadata": {},
   "outputs": [
    {
     "data": {
      "text/plain": [
       "True"
      ]
     },
     "execution_count": 9,
     "metadata": {},
     "output_type": "execute_result"
    }
   ],
   "source": [
    "np.allclose(scipy.linalg.solve(A_big, b_big), np.dot(scipy.linalg.inv(A_big), b_big))"
   ]
  },
  {
   "cell_type": "markdown",
   "metadata": {},
   "source": [
    "Usar `solve` toma un poco más de la mitad del tiempo de utilizar `inv`+`dot`\n",
    "\n",
    "¿Cómo puede ser posible esto? \n",
    "\n",
    "La respuesta es que `solve` realiza internamente una factorización del tipo\n",
    "\n",
    "$$\n",
    "\\begin{align}\n",
    "A x &= b \\nonumber \\\\\n",
    "LU x &= b \\nonumber \\\\\n",
    "L z &= b \\nonumber\n",
    "\\end{align}\n",
    "$$\n",
    "\n",
    "Donde $L$ es una matriz triangular inferior (lower) y $U$ es una matriz triangular superior (upper)\n",
    "\n",
    "$$\n",
    "L = \\begin{pmatrix} \n",
    "l_{11} & 0 & 0 & \\ldots & 0 & 0 \\\\ \n",
    "l_{21} & l_{22} & 0 &\\ldots & 0 & 0 \\\\ \n",
    "\\vdots & \\vdots & \\vdots & \\ddots & \\vdots & \\vdots \\\\\n",
    "l_{N1} & l_{N2} & l_{N3} & \\ldots & l_{N(N-1)} & l_{NN} \\\\ \n",
    "\\end{pmatrix} \\quad\n",
    "U = \\begin{pmatrix} \n",
    "u_{11} & u_{11} & u_{13} & \\ldots & u_{1(N-1)} & u_{1N} \\\\ \n",
    "u_{21} & u_{22} & u_{32} &\\ldots & u_{2(N-1)} & 0 \\\\ \n",
    "\\vdots & \\vdots & \\vdots &\\ldots & \\ddots & \\vdots \\\\\n",
    "u_{N1} & 0 & 0 & \\ldots & 0 & 0\\\\ \n",
    "\\end{pmatrix}\n",
    "$$\n",
    "\n",
    "Luego $z$ se puede obtener recursivamente\n",
    "\n",
    "$$\n",
    "z_1 = \\frac{b_1}{l_{11}}\n",
    "$$\n",
    "$$\n",
    "z_2 = \\frac{b_2 - l_{21} z_1}{l_{22}}\n",
    "$$\n",
    "$$\n",
    "z_i = \\frac{b_i - \\sum_{j=1}^{i-1} l_{ij} z_j}{l_{ii}}\n",
    "$$\n",
    "\n",
    "y $x$ se puede obtener recursivamente de $z$\n",
    "\n",
    "En caso de necesitar los factores LU podemos realizar la factorización en `scipy` con [`linalg.lu`](https://docs.scipy.org/doc/scipy/reference/generated/scipy.linalg.lu.html#scipy.linalg.lu)"
   ]
  },
  {
   "cell_type": "code",
   "execution_count": 10,
   "metadata": {},
   "outputs": [
    {
     "data": {
      "text/plain": [
       "(array([[1.  , 0.  , 0.  ],\n",
       "        [0.  , 1.  , 0.  ],\n",
       "        [0.5 , 0.25, 1.  ]]),\n",
       " array([[  2. ,  -5. ,  12. ],\n",
       "        [  0. ,   2. , -10. ],\n",
       "        [  0. ,   0. ,  -0.5]]))"
      ]
     },
     "execution_count": 10,
     "metadata": {},
     "output_type": "execute_result"
    }
   ],
   "source": [
    "P, L, U = scipy.linalg.lu(A)\n",
    "L, U"
   ]
  },
  {
   "cell_type": "markdown",
   "metadata": {},
   "source": [
    "## Solución de un sistema rectangular \n"
   ]
  },
  {
   "cell_type": "markdown",
   "metadata": {},
   "source": [
    "Consideremos que\n",
    "\n",
    "- Las incógnitas de un sistema representan sus grados de libertad\n",
    "- Las ecuaciones de un sistema representan sus restricciones\n",
    "\n",
    "Si tenemos un sistema \n",
    "\n",
    "- con más ecuaciones que incógnitas ($N>M$): el sistema está sobredeterminado \n",
    "- con más incógnitas que ecuaciones ($M>N$): el sistema está infradeterminado\n",
    "\n",
    ":::{warning}\n",
    "\n",
    "En ambos casos la matriz $A$ ya no es cuadrada, es decir ya no podemos calcular la inversa\n",
    "\n",
    ":::\n",
    "\n",
    "Sin embargo podemos utilizar otros métodos, como mostraremos a continuación"
   ]
  },
  {
   "cell_type": "markdown",
   "metadata": {},
   "source": [
    "**Caso N>M**\n",
    "\n",
    "Sea el vector de error $e = Ax - b$ de un sistema con más ecuaciones que incognitas. \n",
    "\n",
    "Podemos encontrar una solución aproximada minimizando la norma euclidiana del error\n",
    "\n",
    "$$\n",
    "\\begin{align}\n",
    "\\hat x &= \\min_x \\|e\\|_2^2 \\nonumber \\\\\n",
    "& = \\min_x e^T e \\nonumber \\\\\n",
    "& = \\min_x (Ax -b)^T (Ax -b) \\nonumber \\\\\n",
    "\\end{align}\n",
    "$$\n",
    "\n",
    "Lo cual se conoce como el **Problema de mínimos cuadrados**\n",
    "\n",
    "Para continuar tomamos la última expresión y derivamos con respecto a $x$\n",
    "\n",
    "$$\n",
    "\\begin{align}\n",
    "\\frac{d}{dx}  (A x - b)^T (A x -b) &= 2 A^T (A x -b) \\nonumber \\\\\n",
    "&= 2A^T A x - 2A^T b = 0 \\nonumber \\\\\n",
    "\\rightarrow \\hat x &= (A^T A)^{-1} A^T b \\nonumber \\\\\n",
    "&= A^{\\dagger} b \\nonumber \\\\\n",
    "\\end{align}\n",
    "$$\n",
    "\n",
    "donde $A^{\\dagger} = (A^T A)^{-1} A^T$ se conoce como la pseudo-inversa de [Moore-Penrose](https://en.wikipedia.org/wiki/Moore%E2%80%93Penrose_inverse)"
   ]
  },
  {
   "cell_type": "markdown",
   "metadata": {},
   "source": [
    "**Caso M>N**\n",
    "\n",
    "La consecuencia de que el sistema sea infradeterminado es que $A^T A$ no es invertible. \n",
    "\n",
    "Para resolver el problema infradeterminado se debe agregar una restricción adicional. La más típica es que el vector solución tenga norma mínima, por ejemplo\n",
    "\n",
    "$$\n",
    "\\min_\\theta \\| x \\|_2^2 ~\\text{s.a.}~ Ax =b\n",
    "$$\n",
    "\n",
    "que se resuelve usando $M$ [multiplicadores de Lagrange](https://es.wikipedia.org/wiki/Multiplicadores_de_Lagrange) $\\lambda$ como sigue\n",
    "\n",
    "$$\n",
    "\\begin{align}\n",
    "\\frac{d}{dx} \\| x\\|_2^2 + \\lambda^T (b - Ax) &= 2x - \\lambda^T A  \\nonumber \\\\\n",
    "&= 2Ax - A A^T \\lambda \\nonumber \\\\\n",
    "&= 2b - A A^T \\lambda = 0 \n",
    "\\end{align}\n",
    "$$\n",
    "\n",
    "De donde obtenemos que \n",
    "\n",
    "$$\n",
    "\\lambda = 2(AA^T)^{-1}b\n",
    "$$ \n",
    "\n",
    "y por lo tanto \n",
    "\n",
    "$$\n",
    "\\hat x = \\frac{1}{2} A^T \\lambda = A^T (A A^T)^{-1} b,\n",
    "$$\n",
    "\n",
    "donde $A^T (A A^T)^{-1}$ se conoce como la pseudo-inversa \"por la derecha\""
   ]
  },
  {
   "cell_type": "markdown",
   "metadata": {},
   "source": [
    "**Resolviendo el sistema rectangular con Python**\n",
    "\n",
    "Sea un sistema de ecuaciones lineales con $N\\neq M$. Podemos usar scipy para\n",
    "\n",
    "- Calcular la matriz pseudo inversa: [`scipy.linalg.pinv`](https://docs.scipy.org/doc/scipy/reference/generated/scipy.linalg.pinv.html)\n",
    "- Obtener la solución del sistema directamente: [`scipy.linalg.lstsq`](https://docs.scipy.org/doc/scipy/reference/generated/scipy.linalg.lstsq.html)\n",
    "\n",
    "Si $N>M$ se utiliza la pseudoinversa por la izquierda y la solución de mínimos cuadrados. En cambio si $M>N$ se utiliza la pseudoinversa para la derecha y la solución de multiplicadores de Lagrange\n",
    "\n",
    "**Ejemplo:** Sea el siguiente set de datos de un estudio realizado en los años 50\n",
    "\n",
    "Referencia: [A handbook of small datasets](https://www.routledge.com/A-Handbook-of-Small-Data-Sets/Hand-Daly-McConway-Lunn-Ostrowski/p/book/9780367449667)"
   ]
  },
  {
   "cell_type": "code",
   "execution_count": 11,
   "metadata": {},
   "outputs": [
    {
     "data": {
      "text/html": [
       "<div>\n",
       "<style scoped>\n",
       "    .dataframe tbody tr th:only-of-type {\n",
       "        vertical-align: middle;\n",
       "    }\n",
       "\n",
       "    .dataframe tbody tr th {\n",
       "        vertical-align: top;\n",
       "    }\n",
       "\n",
       "    .dataframe thead th {\n",
       "        text-align: right;\n",
       "    }\n",
       "</style>\n",
       "<table border=\"1\" class=\"dataframe\">\n",
       "  <thead>\n",
       "    <tr style=\"text-align: right;\">\n",
       "      <th></th>\n",
       "      <th>cons</th>\n",
       "      <th>income</th>\n",
       "      <th>price</th>\n",
       "      <th>temp</th>\n",
       "    </tr>\n",
       "  </thead>\n",
       "  <tbody>\n",
       "    <tr>\n",
       "      <th>1</th>\n",
       "      <td>0.386</td>\n",
       "      <td>78</td>\n",
       "      <td>0.270</td>\n",
       "      <td>41</td>\n",
       "    </tr>\n",
       "    <tr>\n",
       "      <th>2</th>\n",
       "      <td>0.374</td>\n",
       "      <td>79</td>\n",
       "      <td>0.282</td>\n",
       "      <td>56</td>\n",
       "    </tr>\n",
       "    <tr>\n",
       "      <th>3</th>\n",
       "      <td>0.393</td>\n",
       "      <td>81</td>\n",
       "      <td>0.277</td>\n",
       "      <td>63</td>\n",
       "    </tr>\n",
       "    <tr>\n",
       "      <th>4</th>\n",
       "      <td>0.425</td>\n",
       "      <td>80</td>\n",
       "      <td>0.280</td>\n",
       "      <td>68</td>\n",
       "    </tr>\n",
       "    <tr>\n",
       "      <th>5</th>\n",
       "      <td>0.406</td>\n",
       "      <td>76</td>\n",
       "      <td>0.272</td>\n",
       "      <td>69</td>\n",
       "    </tr>\n",
       "  </tbody>\n",
       "</table>\n",
       "</div>"
      ],
      "text/plain": [
       "    cons  income  price  temp\n",
       "1  0.386      78  0.270    41\n",
       "2  0.374      79  0.282    56\n",
       "3  0.393      81  0.277    63\n",
       "4  0.425      80  0.280    68\n",
       "5  0.406      76  0.272    69"
      ]
     },
     "execution_count": 11,
     "metadata": {},
     "output_type": "execute_result"
    }
   ],
   "source": [
    "df = pd.read_csv('data/helados.csv', index_col=0)\n",
    "df.head()"
   ]
  },
  {
   "cell_type": "markdown",
   "metadata": {},
   "source": [
    "donde cada fila corresponde a un día las columnas corresponde a \n",
    "\n",
    "- consumo de helados promedio ([pintas](https://en.wikipedia.org/wiki/Pint) per capita)\n",
    "- ingreso familiar promedio (dolares)\n",
    "- temperatura promedio (grados Fahrenheit)\n",
    "- precio promedio de los helados (dolares)\n",
    "\n",
    "Ahora consideremos la siguiente pregunta\n",
    "\n",
    "> ¿Está el consumo de helados influenciado por la temperatura?\n",
    "\n",
    "Intentemos responder esta pregunta en base al siguiente modelo\n",
    "\n",
    "$$\n",
    "\\text{cons} = \\theta_0 + \\theta_1 \\cdot \\text{temp}\n",
    "$$\n",
    "\n",
    "que corresponde a un sistema de ecuaciones lineales de dos incognitas y "
   ]
  },
  {
   "cell_type": "code",
   "execution_count": 12,
   "metadata": {},
   "outputs": [
    {
     "data": {
      "text/plain": [
       "'30 ecuaciones'"
      ]
     },
     "execution_count": 12,
     "metadata": {},
     "output_type": "execute_result"
    }
   ],
   "source": [
    "f\"{len(df)} ecuaciones\""
   ]
  },
  {
   "cell_type": "markdown",
   "metadata": {},
   "source": [
    "Es decir que es un sistema sobredeterminado\n",
    "\n",
    "$$\n",
    "\\begin{pmatrix}\n",
    "cons[0] \\\\ cons[1] \\\\ \\vdots \\\\ cons[{29}]\n",
    "\\end{pmatrix} = \n",
    "\\begin{pmatrix}\n",
    "1&temp[0] \\\\ 1&temp[1] \\\\ \\vdots & \\vdots \\\\ 1 & temp[29]\n",
    "\\end{pmatrix} \n",
    "\\begin{pmatrix}\n",
    "\\theta_0 \\\\ \\theta_1\n",
    "\\end{pmatrix} \n",
    "$$\n",
    "\n",
    "que podemos resolver utilizando `lstsq`"
   ]
  },
  {
   "cell_type": "code",
   "execution_count": 13,
   "metadata": {},
   "outputs": [
    {
     "data": {
      "text/plain": [
       "array([0.20686215, 0.00310736])"
      ]
     },
     "execution_count": 13,
     "metadata": {},
     "output_type": "execute_result"
    }
   ],
   "source": [
    "A = np.ones(shape=(len(df), 2))\n",
    "A[:, 1] = df[\"temp\"].values\n",
    "b = df[\"cons\"].values\n",
    "\n",
    "theta, residuals, rank, s = scipy.linalg.lstsq(A, b)\n",
    "theta"
   ]
  },
  {
   "cell_type": "markdown",
   "metadata": {},
   "source": [
    "La tupla retornada contiene\n",
    "\n",
    "- `theta`: El resultado buscado\n",
    "- `residuals`: La norma del error al cuadrado\n",
    "- `rank`: El rango de $A$\n",
    "- `s`: Los valores singulares de $A$"
   ]
  },
  {
   "cell_type": "markdown",
   "metadata": {},
   "source": [
    "Analicemos gráficamente la solución obtenida"
   ]
  },
  {
   "cell_type": "code",
   "execution_count": 14,
   "metadata": {},
   "outputs": [
    {
     "data": {
      "image/png": "[encoded data removed]",
      "text/plain": [
       "<Figure size 432x288 with 1 Axes>"
      ]
     },
     "metadata": {
      "needs_background": "light"
     },
     "output_type": "display_data"
    }
   ],
   "source": [
    "fig, ax = plt.subplots(tight_layout=True)\n",
    "ax.scatter(df[\"temp\"], df[\"cons\"], s=5, c='k', label='observaciones')\n",
    "ax.set_xlabel('Temperatura [F]')\n",
    "ax.set_ylabel('Consumo promedio')\n",
    "temp_modelo = np.linspace(df[\"temp\"].min(), df[\"temp\"].max(), num=200)\n",
    "cons_modelo = temp_modelo*theta[1] + theta[0]\n",
    "ax.plot(temp_modelo, cons_modelo, label='modelo')\n",
    "ax.legend();"
   ]
  },
  {
   "cell_type": "markdown",
   "metadata": {},
   "source": [
    "De donde podemos observar que el consumo promedio tiende al alza con la temperatura promedio\n",
    "\n",
    ":::{note}\n",
    "\n",
    "Lo que acabamos de resolver es un problema conocido como **regresión lineal**. Más adelante veremos una forma más general de este problema\n",
    "\n",
    ":::"
   ]
  },
  {
   "cell_type": "markdown",
   "metadata": {},
   "source": [
    "## Análisis de errores y *condition number*\n",
    "\n",
    "Incluso aunque una matriz sea matemáticamente invertible (determinante distinto de cero), podríamos no ser capaces de resolver el problema numéricamente\n",
    "\n",
    "Imaginemos una pequeña variación en $b$ denominada $\\delta b$. Esta variación provoca a su vez una pequeña variación en $x$ denominada $\\delta x$\n",
    "\n",
    "Se puede encontrar una cota que compara el error relativo de $b$ y $x$ como\n",
    "\n",
    "$$\n",
    "\\frac{\\| \\delta x \\|}{\\|x\\|} \\leq \\frac{\\| A^{-1} \\|  \\|\\delta b\\|}{\\|x\\|}  = \\|A^{-1}\\| \\|A\\| \\frac{\\| \\delta b \\|}{\\|b\\|} \n",
    "$$\n",
    "\n",
    "donde se usó que $A \\delta x = \\delta b$ (propiedad de linealidad)\n",
    "\n",
    ":::{note}\n",
    "\n",
    "Esto significa que un pequeño error relativo en $b$ puede causar un gran error en $x$ \n",
    "\n",
    ":::\n",
    "\n",
    "El estimador de $\\|A^{-1}\\| \\|A\\|$ es lo que se conoce como *condition number*\n",
    "\n",
    "Un sistema se dice \"bien condicionado\" si este valor es cercano a $1$ y \"mal condicionado\" si es mucho mayor que $1$.\n",
    "\n",
    "Podemos calcular el *condition number* con la función de NumPy `cond` como se muestra a continuación\n",
    "\n",
    "```python\n",
    "np.linalg.cond(x, # Arreglo multidimensional\n",
    "               p # El orden de la norma: 1, 2, 'fro',...\n",
    "              )\n",
    "```\n"
   ]
  },
  {
   "cell_type": "code",
   "execution_count": null,
   "metadata": {},
   "outputs": [],
   "source": []
  }
 ],
 "metadata": {
  "kernelspec": {
   "display_name": "Python 3 (ipykernel)",
   "language": "python",
   "name": "python3"
  },
  "language_info": {
   "codemirror_mode": {
    "name": "ipython",
    "version": 3
   },
   "file_extension": ".py",
   "mimetype": "text/x-python",
   "name": "python",
   "nbconvert_exporter": "python",
   "pygments_lexer": "ipython3",
   "version": "3.10.4"
  },
  "toc": {
   "base_numbering": 1,
   "nav_menu": {},
   "number_sections": true,
   "sideBar": true,
   "skip_h1_title": false,
   "title_cell": "Table of Contents",
   "title_sidebar": "Contents",
   "toc_cell": false,
   "toc_position": {
    "height": "calc(100% - 180px)",
    "left": "10px",
    "top": "150px",
    "width": "294.4px"
   },
   "toc_section_display": true,
   "toc_window_display": true
  }
 },
 "nbformat": 4,
 "nbformat_minor": 2
}
