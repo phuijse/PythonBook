{
 "cells": [
  {
   "cell_type": "markdown",
   "metadata": {},
   "source": [
    "# Repaso de Python 3\n",
    "\n",
    "Este curso asume una competencia intermedia de Python. Esta lección autocontenida es sólo un refresco de memoria de las características más importantes de este lenguaje"
   ]
  },
  {
   "cell_type": "markdown",
   "metadata": {},
   "source": [
    "## Dynamic typing\n",
    "\n",
    "A diferencia de otros lenguajes, Python no requiere que el usuario declare el tipo de una variable al momento de crearla. Python interpreta el tipo de acuerdo a su valor de forma automática, como muestran los siguientes ejemplos"
   ]
  },
  {
   "cell_type": "code",
   "execution_count": 1,
   "metadata": {
    "ExecuteTime": {
     "end_time": "2020-05-14T14:52:35.955610Z",
     "start_time": "2020-05-14T14:52:35.946823Z"
    }
   },
   "outputs": [
    {
     "data": {
      "text/plain": [
       "int"
      ]
     },
     "execution_count": 1,
     "metadata": {},
     "output_type": "execute_result"
    }
   ],
   "source": [
    "x = 1\n",
    "type(x)"
   ]
  },
  {
   "cell_type": "code",
   "execution_count": 2,
   "metadata": {},
   "outputs": [
    {
     "data": {
      "text/plain": [
       "float"
      ]
     },
     "execution_count": 2,
     "metadata": {},
     "output_type": "execute_result"
    }
   ],
   "source": [
    "x = 1.\n",
    "type(x)"
   ]
  },
  {
   "cell_type": "code",
   "execution_count": 3,
   "metadata": {},
   "outputs": [
    {
     "data": {
      "text/plain": [
       "str"
      ]
     },
     "execution_count": 3,
     "metadata": {},
     "output_type": "execute_result"
    }
   ],
   "source": [
    "x = '1'\n",
    "type(x)"
   ]
  },
  {
   "cell_type": "markdown",
   "metadata": {},
   "source": [
    "## Funciones en Python\n",
    "\n",
    "Las funciones en Python se declaran con `def`. Una función puede tener argumentos de tipo posicional y argumentos con valor predefinido (tipo keyword). La salida de una función se marca con `return`"
   ]
  },
  {
   "cell_type": "code",
   "execution_count": 4,
   "metadata": {},
   "outputs": [
    {
     "data": {
      "text/plain": [
       "110"
      ]
     },
     "execution_count": 4,
     "metadata": {},
     "output_type": "execute_result"
    }
   ],
   "source": [
    "def foo(x, y=100):\n",
    "    return x + y\n",
    "\n",
    "foo(10)"
   ]
  },
  {
   "cell_type": "markdown",
   "metadata": {},
   "source": [
    "Si no sabemos a priori los argumentos que se usaran para invocar la función podemos usar "
   ]
  },
  {
   "cell_type": "code",
   "execution_count": 5,
   "metadata": {
    "ExecuteTime": {
     "end_time": "2020-05-14T14:53:50.455791Z",
     "start_time": "2020-05-14T14:53:50.444949Z"
    },
    "cell_style": "center",
    "code_folding": []
   },
   "outputs": [
    {
     "data": {
      "text/plain": [
       "(('asd', 21, 54), {'x': 12, 'y': 100})"
      ]
     },
     "execution_count": 5,
     "metadata": {},
     "output_type": "execute_result"
    }
   ],
   "source": [
    "def foo(*args, **kwargs): \n",
    "    return args, kwargs\n",
    "\n",
    "\n",
    "foo('asd', 21, 54, x=12, y=100)"
   ]
  },
  {
   "cell_type": "markdown",
   "metadata": {},
   "source": [
    "`*args` agrupa todos los argumentos posicionales (sin nombre) mientras que `**kwargs` agrupa los argumentos con nombre como un diccionario"
   ]
  },
  {
   "cell_type": "markdown",
   "metadata": {},
   "source": [
    "### Función `print`\n",
    "\n",
    "En Python 3 `print` es una función, podemos imprimir texto formateado como"
   ]
  },
  {
   "cell_type": "code",
   "execution_count": 6,
   "metadata": {
    "ExecuteTime": {
     "end_time": "2020-05-14T14:57:30.661352Z",
     "start_time": "2020-05-14T14:57:30.654587Z"
    }
   },
   "outputs": [
    {
     "name": "stdout",
     "output_type": "stream",
     "text": [
      "pablo huijse\t edad: 33 peso: 80.2000\n",
      "pablo huijse\t edad: 33 peso: 80.2000\n",
      "pablo huijse\t edad: 33 peso: 80.2000\n"
     ]
    }
   ],
   "source": [
    "nombre = 'pablo'\n",
    "apellido = 'huijse'\n",
    "edad = 33\n",
    "peso = 80.2\n",
    "\n",
    "print(\"%s %s\\t edad: %d peso: %0.4f\" %(nombre, apellido, edad, peso))\n",
    "print(\"{1} {0}\\t edad: {2} peso: {3:0.4f}\".format(apellido, nombre, edad, peso))\n",
    "# Mi favorito: f-strings:\n",
    "print(f\"{nombre} {apellido}\\t edad: {edad} peso: {peso:0.4f}\")"
   ]
  },
  {
   "cell_type": "code",
   "execution_count": 7,
   "metadata": {},
   "outputs": [
    {
     "name": "stdout",
     "output_type": "stream",
     "text": [
      "pablo huijse 33 80.2\n"
     ]
    }
   ],
   "source": [
    "# Demostración del argumento sep de print\n",
    "print(nombre, apellido, edad, peso, sep=' ')"
   ]
  },
  {
   "cell_type": "markdown",
   "metadata": {},
   "source": [
    "### Decoradores\n",
    "\n",
    "Los decoradores son funciones que pueden modificar el funcionamiento de otra función\n",
    "\n",
    "A continuación se muestra como se aplica un decorador llamado `bar` a una función llamada `foo`"
   ]
  },
  {
   "cell_type": "code",
   "execution_count": 8,
   "metadata": {
    "ExecuteTime": {
     "end_time": "2020-05-14T15:00:08.164278Z",
     "start_time": "2020-05-14T15:00:08.153976Z"
    }
   },
   "outputs": [
    {
     "data": {
      "text/plain": [
       "21"
      ]
     },
     "execution_count": 8,
     "metadata": {},
     "output_type": "execute_result"
    }
   ],
   "source": [
    "def bar(func):    \n",
    "    def new_func(x):\n",
    "        return func(x) + 10\n",
    "    return new_func\n",
    "\n",
    "@bar\n",
    "def foo(x):\n",
    "    return x +1\n",
    "\n",
    "foo(10)"
   ]
  },
  {
   "cell_type": "markdown",
   "metadata": {},
   "source": [
    "## Estructuras de datos en Python"
   ]
  },
  {
   "cell_type": "markdown",
   "metadata": {},
   "source": [
    "### Listas\n",
    "\n",
    "Son tipos de datos secuenciales que pueden ser iterados\n",
    "\n",
    "Las listas pueden tener elementos de distinto tipo"
   ]
  },
  {
   "cell_type": "code",
   "execution_count": 9,
   "metadata": {
    "ExecuteTime": {
     "end_time": "2020-05-14T15:00:49.885249Z",
     "start_time": "2020-05-14T15:00:49.876150Z"
    }
   },
   "outputs": [
    {
     "name": "stdout",
     "output_type": "stream",
     "text": [
      "None\n",
      "[1, 'hola']\n",
      "hola\n",
      "[1]\n",
      "['chao']\n"
     ]
    }
   ],
   "source": [
    "lista_vacia = [] # Creación de una lista vacía\n",
    "print(lista_vacia.append(1)) # Agregando un elemento\n",
    "lista_vacia.append('hola')\n",
    "print(lista_vacia) # Tiene dos elementos\n",
    "print(lista_vacia.pop()) # Eliminando el primer elemento\n",
    "print(lista_vacia) # Ahora tiene uno\n",
    "lista_vacia[0] = 'chao' # Modificando el primer elemento\n",
    "print(lista_vacia)"
   ]
  },
  {
   "cell_type": "code",
   "execution_count": 10,
   "metadata": {
    "ExecuteTime": {
     "end_time": "2020-05-14T15:01:06.445770Z",
     "start_time": "2020-05-14T15:01:06.436638Z"
    }
   },
   "outputs": [
    {
     "name": "stdout",
     "output_type": "stream",
     "text": [
      "a b c 1 2 3 2.4 asd "
     ]
    }
   ],
   "source": [
    "una_lista = ['a', 'b', 'c', 1, 2, 3, 2.4, 'asd']\n",
    "\n",
    "for elemento in una_lista:\n",
    "    print(elemento, end=' ')"
   ]
  },
  {
   "cell_type": "markdown",
   "metadata": {},
   "source": [
    "\"Desempacando\" (unpacking) una lista"
   ]
  },
  {
   "cell_type": "code",
   "execution_count": 11,
   "metadata": {
    "ExecuteTime": {
     "end_time": "2020-05-14T15:02:01.005832Z",
     "start_time": "2020-05-14T15:02:01.001126Z"
    }
   },
   "outputs": [
    {
     "name": "stdout",
     "output_type": "stream",
     "text": [
      "a\n",
      "['b', 'c', 1, 2, 3, 2.4]\n",
      "asd\n"
     ]
    }
   ],
   "source": [
    "primero, *medio, ultimo = una_lista\n",
    "print(primero)\n",
    "print(medio)\n",
    "print(ultimo)"
   ]
  },
  {
   "cell_type": "code",
   "execution_count": 12,
   "metadata": {
    "ExecuteTime": {
     "end_time": "2020-05-14T15:02:21.918097Z",
     "start_time": "2020-05-14T15:02:21.909842Z"
    }
   },
   "outputs": [
    {
     "name": "stdout",
     "output_type": "stream",
     "text": [
      "asd a\n"
     ]
    }
   ],
   "source": [
    "primero, ultimo = ultimo, primero\n",
    "print(primero, ultimo)"
   ]
  },
  {
   "cell_type": "markdown",
   "metadata": {},
   "source": [
    "Imprimiendo una lista completa"
   ]
  },
  {
   "cell_type": "code",
   "execution_count": 13,
   "metadata": {
    "ExecuteTime": {
     "end_time": "2020-05-14T15:02:34.457197Z",
     "start_time": "2020-05-14T15:02:34.450679Z"
    }
   },
   "outputs": [
    {
     "name": "stdout",
     "output_type": "stream",
     "text": [
      "['a', 'b', 'c', 1, 2, 3, 2.4, 'asd']\n",
      "a b c 1 2 3 2.4 asd\n",
      "a-b-c-1-2-3-2.4-asd fin!"
     ]
    }
   ],
   "source": [
    "print(una_lista)\n",
    "print(*una_lista)\n",
    "print(*una_lista, sep='-', end=' fin!')"
   ]
  },
  {
   "cell_type": "markdown",
   "metadata": {},
   "source": [
    "Obteniendo el largo de una lista"
   ]
  },
  {
   "cell_type": "code",
   "execution_count": 14,
   "metadata": {
    "ExecuteTime": {
     "end_time": "2020-05-14T15:02:57.419295Z",
     "start_time": "2020-05-14T15:02:57.412540Z"
    }
   },
   "outputs": [
    {
     "data": {
      "text/plain": [
       "8"
      ]
     },
     "execution_count": 14,
     "metadata": {},
     "output_type": "execute_result"
    }
   ],
   "source": [
    "len(una_lista)"
   ]
  },
  {
   "cell_type": "markdown",
   "metadata": {},
   "source": [
    "Tomando slices (trozos) de una lista"
   ]
  },
  {
   "cell_type": "code",
   "execution_count": 15,
   "metadata": {
    "ExecuteTime": {
     "end_time": "2020-05-14T15:03:22.611482Z",
     "start_time": "2020-05-14T15:03:22.605620Z"
    }
   },
   "outputs": [
    {
     "name": "stdout",
     "output_type": "stream",
     "text": [
      "a\n",
      "['b', 'c', 1]\n",
      "asd\n",
      "['a', 'c', 2, 2.4]\n",
      "['asd', 2.4, 3, 2, 1, 'c', 'b', 'a']\n"
     ]
    }
   ],
   "source": [
    "print(una_lista[0])\n",
    "print(una_lista[1:4])\n",
    "print(una_lista[-1])\n",
    "print(una_lista[::2])\n",
    "print(una_lista[::-1])"
   ]
  },
  {
   "cell_type": "markdown",
   "metadata": {},
   "source": [
    "### Tuplas"
   ]
  },
  {
   "cell_type": "markdown",
   "metadata": {},
   "source": [
    "Las tuplas son similares a las listas, en el sentido de que sus elementos pueden tener tipos distintos"
   ]
  },
  {
   "cell_type": "code",
   "execution_count": 16,
   "metadata": {
    "ExecuteTime": {
     "end_time": "2020-05-14T15:03:34.568102Z",
     "start_time": "2020-05-14T15:03:34.419332Z"
    }
   },
   "outputs": [
    {
     "name": "stdout",
     "output_type": "stream",
     "text": [
      "(0, 10, 51243, 'asd')\n",
      "0\n",
      "0 10 51243 asd "
     ]
    }
   ],
   "source": [
    "tupla = (0, 10, 51243, 'asd')\n",
    "print(tupla)\n",
    "print(tupla[0])\n",
    "for elemento in tupla:\n",
    "    print(elemento, end=' ')"
   ]
  },
  {
   "cell_type": "markdown",
   "metadata": {},
   "source": [
    ":::{warning} \n",
    "\n",
    "A diferencia de las listas son inmutables, es decir no se pueden modificar\n",
    "\n",
    ":::\n",
    "\n",
    "Por ejemplo la instrucción\n",
    "\n",
    "```python\n",
    "\n",
    "tupla[0] = 'hola'\n",
    "\n",
    "```\n",
    "\n",
    "Returnaría una excepción de tipo `TypeError`"
   ]
  },
  {
   "cell_type": "markdown",
   "metadata": {},
   "source": [
    "### Rangos"
   ]
  },
  {
   "cell_type": "markdown",
   "metadata": {},
   "source": [
    "Podemos usar `range` para crear un iterador de números enteros"
   ]
  },
  {
   "cell_type": "code",
   "execution_count": 17,
   "metadata": {
    "ExecuteTime": {
     "end_time": "2020-05-14T15:03:58.634421Z",
     "start_time": "2020-05-14T15:03:58.628231Z"
    }
   },
   "outputs": [
    {
     "name": "stdout",
     "output_type": "stream",
     "text": [
      "0 2 4 6 8 10 12 14 16 18 "
     ]
    }
   ],
   "source": [
    "for element in range(0, 20, 2):\n",
    "    print(element, end=' ')\n"
   ]
  },
  {
   "cell_type": "markdown",
   "metadata": {},
   "source": [
    "Adicionalmente podemos usar `enumerate`, para crear un índice entero a partir de una lista"
   ]
  },
  {
   "cell_type": "code",
   "execution_count": 18,
   "metadata": {
    "ExecuteTime": {
     "end_time": "2020-05-14T15:05:09.609659Z",
     "start_time": "2020-05-14T15:05:09.602326Z"
    }
   },
   "outputs": [
    {
     "name": "stdout",
     "output_type": "stream",
     "text": [
      "0, a\n",
      "1, b\n",
      "2, c\n",
      "3, 1\n",
      "4, 2\n",
      "5, 3\n",
      "6, 2.4\n",
      "7, asd\n",
      "0, a\n",
      "1, b\n",
      "2, c\n",
      "3, 1\n",
      "4, 2\n",
      "5, 3\n",
      "6, 2.4\n",
      "7, asd\n"
     ]
    }
   ],
   "source": [
    "for i in range(len(una_lista)):\n",
    "    print(\"{0}, {1}\".format(i, una_lista[i]))\n",
    "\n",
    "for i, element in enumerate(una_lista):\n",
    "    print(\"{0}, {1}\".format(i, element))    "
   ]
  },
  {
   "cell_type": "markdown",
   "metadata": {},
   "source": [
    "### Diccionario\n",
    "\n",
    "Es una secuencia indexada por llaves (*keys*)"
   ]
  },
  {
   "cell_type": "markdown",
   "metadata": {},
   "source": [
    "Se puede crear un diccionario con:"
   ]
  },
  {
   "cell_type": "code",
   "execution_count": 19,
   "metadata": {},
   "outputs": [],
   "source": [
    "d = {'nombre': 'pablo', 'apellido': 'huijse', 'edad': 33, 'peso': 80.1}"
   ]
  },
  {
   "cell_type": "markdown",
   "metadata": {},
   "source": [
    "Luego si queremos leer el valor de un atributo particular utilizamos su llave"
   ]
  },
  {
   "cell_type": "code",
   "execution_count": 20,
   "metadata": {},
   "outputs": [
    {
     "data": {
      "text/plain": [
       "'huijse'"
      ]
     },
     "execution_count": 20,
     "metadata": {},
     "output_type": "execute_result"
    }
   ],
   "source": [
    "d['apellido']"
   ]
  },
  {
   "cell_type": "markdown",
   "metadata": {},
   "source": [
    "También podemos consultar si cierta llave existe en el diccionario antes de preguntar por ella:"
   ]
  },
  {
   "cell_type": "code",
   "execution_count": 21,
   "metadata": {},
   "outputs": [
    {
     "data": {
      "text/plain": [
       "True"
      ]
     },
     "execution_count": 21,
     "metadata": {},
     "output_type": "execute_result"
    }
   ],
   "source": [
    "'edad' in d"
   ]
  },
  {
   "cell_type": "markdown",
   "metadata": {},
   "source": [
    "Si usamos el operador `list` recuperamos las llaves"
   ]
  },
  {
   "cell_type": "code",
   "execution_count": 22,
   "metadata": {},
   "outputs": [
    {
     "data": {
      "text/plain": [
       "['nombre', 'apellido', 'edad', 'peso']"
      ]
     },
     "execution_count": 22,
     "metadata": {},
     "output_type": "execute_result"
    }
   ],
   "source": [
    "list(d)"
   ]
  },
  {
   "cell_type": "markdown",
   "metadata": {},
   "source": [
    "Para iterar sobre las llaves y los valores se utiliza el método `items()`:"
   ]
  },
  {
   "cell_type": "code",
   "execution_count": 23,
   "metadata": {
    "ExecuteTime": {
     "end_time": "2020-05-14T15:11:03.963713Z",
     "start_time": "2020-05-14T15:11:03.950221Z"
    }
   },
   "outputs": [
    {
     "name": "stdout",
     "output_type": "stream",
     "text": [
      "nombre: pablo\n",
      "apellido: huijse\n",
      "edad: 33\n",
      "peso: 80.1\n"
     ]
    }
   ],
   "source": [
    "for llave, valor in d.items():\n",
    "    print(llave, valor, sep=': ')"
   ]
  },
  {
   "cell_type": "markdown",
   "metadata": {},
   "source": [
    "### Sets\n",
    "\n",
    "Los `set` son una colección desordenada de objetos **sin duplicados**\n",
    "\n",
    "Es posible iterar en un set, agregar/remover elementos y aplicar operaciones lógicas entre sets (intersección, union, diferencia)\n",
    "\n",
    "Tiene complejidad O(1) de búsqueda (muy eficientes). Se deben preferir antes que las listas cuando\n",
    "\n",
    "- La colección es de gran tamaño\n",
    "- No hay elementos repetidos\n",
    "- Se realizarán múltiples búsquedas en la colección\n"
   ]
  },
  {
   "cell_type": "markdown",
   "metadata": {},
   "source": [
    "### Comprensiones de listas (list comprehensions)\n",
    "\n",
    "Representan una forma consisa de crear listas"
   ]
  },
  {
   "cell_type": "code",
   "execution_count": 24,
   "metadata": {
    "ExecuteTime": {
     "end_time": "2020-05-14T15:05:30.061060Z",
     "start_time": "2020-05-14T15:05:30.055536Z"
    }
   },
   "outputs": [
    {
     "data": {
      "text/plain": [
       "[0, 1, 2, 3, 4, 5, 6, 7, 8, 9, 10, 11, 12, 13, 14, 15, 16, 17, 18, 19]"
      ]
     },
     "execution_count": 24,
     "metadata": {},
     "output_type": "execute_result"
    }
   ],
   "source": [
    "[x for x in range(20)]"
   ]
  },
  {
   "cell_type": "code",
   "execution_count": 25,
   "metadata": {
    "ExecuteTime": {
     "end_time": "2020-05-14T15:06:51.827988Z",
     "start_time": "2020-05-14T15:06:51.821494Z"
    }
   },
   "outputs": [
    {
     "name": "stdout",
     "output_type": "stream",
     "text": [
      "['UN', 'DÍA', 'VI', 'UNA', 'VACA', 'VESTIDA', 'DE', 'UNIFORME']\n",
      "['UN', 'DÍA', 'VI', 'UNA', 'VACA', 'VESTIDA', 'DE', 'UNIFORME']\n"
     ]
    }
   ],
   "source": [
    "texto_en_minuscula = ['Un', 'día', 'vi', 'una', 'vaca', 'vestida', 'de', 'uniforme']\n",
    "\n",
    "texto_en_mayuscula = []\n",
    "for palabra in texto_en_minuscula:\n",
    "    texto_en_mayuscula.append(palabra.upper())\n",
    "print(texto_en_mayuscula)\n",
    "\n",
    "print([palabra.upper() for palabra in texto_en_minuscula])"
   ]
  },
  {
   "cell_type": "markdown",
   "metadata": {},
   "source": [
    "Se puede hacer una doble iteración"
   ]
  },
  {
   "cell_type": "code",
   "execution_count": 26,
   "metadata": {
    "ExecuteTime": {
     "end_time": "2020-05-14T15:06:59.423405Z",
     "start_time": "2020-05-14T15:06:59.415299Z"
    }
   },
   "outputs": [
    {
     "name": "stdout",
     "output_type": "stream",
     "text": [
      "[(0, 0), (0, 1), (0, 2), (0, 3), (0, 4), (1, 0), (1, 1), (1, 2), (1, 3), (1, 4), (2, 0), (2, 1), (2, 2), (2, 3), (2, 4), (3, 0), (3, 1), (3, 2), (3, 3), (3, 4), (4, 0), (4, 1), (4, 2), (4, 3), (4, 4)]\n"
     ]
    }
   ],
   "source": [
    "print([(x, y) for x in range(5) for y in range(5)])"
   ]
  },
  {
   "cell_type": "markdown",
   "metadata": {},
   "source": [
    "También se pueden aplicar condicionales en el iterador y/o en los valores"
   ]
  },
  {
   "cell_type": "code",
   "execution_count": 27,
   "metadata": {
    "ExecuteTime": {
     "end_time": "2020-05-14T15:07:18.154920Z",
     "start_time": "2020-05-14T15:07:18.150987Z"
    }
   },
   "outputs": [
    {
     "name": "stdout",
     "output_type": "stream",
     "text": [
      "[0, 2, 4, 6, 8]\n"
     ]
    }
   ],
   "source": [
    "# condicional en el iterador\n",
    "print([x for x in range(10) if x % 2 == 0])"
   ]
  },
  {
   "cell_type": "code",
   "execution_count": 28,
   "metadata": {
    "ExecuteTime": {
     "end_time": "2020-05-14T15:07:27.147652Z",
     "start_time": "2020-05-14T15:07:27.143341Z"
    }
   },
   "outputs": [
    {
     "name": "stdout",
     "output_type": "stream",
     "text": [
      "[0, 1, 4, 9, 16, 5, 6, 7, 8, 9]\n"
     ]
    }
   ],
   "source": [
    "# conditional en el valor\n",
    "print([x**2 if x < 5 else x for x in range(10)])"
   ]
  },
  {
   "cell_type": "markdown",
   "metadata": {},
   "source": [
    "Puede usarse `zip` parar iterar sobre más de una lista"
   ]
  },
  {
   "cell_type": "code",
   "execution_count": 29,
   "metadata": {
    "ExecuteTime": {
     "end_time": "2020-05-14T15:07:50.759825Z",
     "start_time": "2020-05-14T15:07:50.749407Z"
    },
    "scrolled": true
   },
   "outputs": [
    {
     "name": "stdout",
     "output_type": "stream",
     "text": [
      "0, 10, Un\n",
      "1, 10, día\n",
      "2, 10, vi\n",
      "3, 10, una\n",
      "4, 10, vaca\n",
      "5, 10, vestida\n",
      "6, 10, de\n",
      "7, 10, uniforme\n"
     ]
    }
   ],
   "source": [
    "lista1 = [x for x in range(20)]\n",
    "lista2 = [10]*20\n",
    "lista3 = texto_en_minuscula\n",
    "\n",
    "for elemento1, elemento2, elemento3 in zip(lista1, lista2, lista3):\n",
    "    print(elemento1, elemento2, elemento3, sep=', ')"
   ]
  },
  {
   "cell_type": "markdown",
   "metadata": {},
   "source": [
    "### Iteradores\n",
    "\n",
    "Podemos usar `iter` para crear un iterador a partir de un objeto iterable (lista, tupla, rango, string, diccionario)\n",
    "\n",
    "El iterador se evalua con `next` para escupir el próximo elemento, el cual sale del iterador (lazy, single-use)\n",
    "\n",
    "Son ventajosos en términos de uso de memoría (la lista completa no se mapea en memoria)"
   ]
  },
  {
   "cell_type": "code",
   "execution_count": 30,
   "metadata": {
    "ExecuteTime": {
     "end_time": "2020-05-14T15:11:38.280917Z",
     "start_time": "2020-05-14T15:11:38.265859Z"
    }
   },
   "outputs": [
    {
     "name": "stdout",
     "output_type": "stream",
     "text": [
      "Un\n",
      "día\n",
      "['vi', 'una', 'vaca', 'vestida', 'de', 'uniforme']\n"
     ]
    }
   ],
   "source": [
    "iterador = iter(texto_en_minuscula)\n",
    "\n",
    "print(next(iterador))\n",
    "print(next(iterador))\n",
    "print(list(iterador))"
   ]
  },
  {
   "cell_type": "markdown",
   "metadata": {},
   "source": [
    "Si se itera nuevamente:\n",
    "    \n",
    "```python\n",
    "    print(next(iterador))\n",
    "```\n",
    "\n",
    "Se arroja una excepción `StopIteration`, ya que no quedan elementos para iterar"
   ]
  },
  {
   "cell_type": "code",
   "execution_count": 31,
   "metadata": {
    "ExecuteTime": {
     "end_time": "2020-05-14T15:11:38.977579Z",
     "start_time": "2020-05-14T15:11:38.967768Z"
    }
   },
   "outputs": [
    {
     "name": "stdout",
     "output_type": "stream",
     "text": [
      "Un\n",
      "día\n",
      "vi\n",
      "una\n",
      "vaca\n",
      "vestida\n",
      "de\n",
      "uniforme\n",
      "[]\n"
     ]
    }
   ],
   "source": [
    "iterador = iter(texto_en_minuscula)\n",
    "for elemento in iterador:\n",
    "    print(elemento)\n",
    "\n",
    "# El iterador queda vacio luego de usarse    \n",
    "print(list(iterador))"
   ]
  },
  {
   "cell_type": "markdown",
   "metadata": {},
   "source": [
    "Escribiendo un iterador"
   ]
  },
  {
   "cell_type": "code",
   "execution_count": 32,
   "metadata": {},
   "outputs": [
    {
     "name": "stdout",
     "output_type": "stream",
     "text": [
      "1e-06 1e-05 0.0001 0.001 0.01 0.1 1 10 100 1000 10000 100000 1000000 "
     ]
    }
   ],
   "source": [
    "class Logrange:\n",
    "    \n",
    "    def __init__(self, start=-6, end=6):\n",
    "        self.num = start\n",
    "        self.end = end\n",
    "    \n",
    "    def __iter__(self):\n",
    "        return self\n",
    "    \n",
    "    def __next__(self):\n",
    "        a = self.num\n",
    "        if a > self.end:\n",
    "            raise StopIteration\n",
    "        self.num += 1\n",
    "        return 10**a\n",
    "        \n",
    "for elemento in Logrange():\n",
    "    print(elemento, end=' ')"
   ]
  },
  {
   "cell_type": "markdown",
   "metadata": {},
   "source": [
    "### Generadores (generator function)\n",
    "\n",
    "Funciones que retornan un iterador\n",
    "\n",
    "Se usa el keyword reservado `yield`"
   ]
  },
  {
   "cell_type": "code",
   "execution_count": 33,
   "metadata": {
    "scrolled": true
   },
   "outputs": [
    {
     "name": "stdout",
     "output_type": "stream",
     "text": [
      "0 1 4 9 16 25 36 49 64 81 "
     ]
    }
   ],
   "source": [
    "def gen():\n",
    "    for i in range(10):\n",
    "        yield i**2\n",
    "        \n",
    "for x in gen():\n",
    "    print(x, end=' ')\n",
    "#print(*gen())"
   ]
  },
  {
   "cell_type": "markdown",
   "metadata": {},
   "source": [
    "### Expresión generadora (generator expression)\n",
    "\n",
    "- Se construye como una comprensión de lista pero usando () en vez de []\n",
    "- Produce una \"receta\" en lugar de una lista\n",
    "- Se consume una vez y muere"
   ]
  },
  {
   "cell_type": "code",
   "execution_count": 34,
   "metadata": {},
   "outputs": [
    {
     "name": "stdout",
     "output_type": "stream",
     "text": [
      "<generator object <genexpr> at 0x7fcf0c69e350>\n",
      "Un\n",
      "día\n",
      "vi\n",
      "una vaca vestida de uniforme "
     ]
    }
   ],
   "source": [
    "gen = (palabra for palabra in texto_en_minuscula)\n",
    "print(gen)\n",
    "print(next(gen))\n",
    "print(next(gen))\n",
    "print(next(gen))\n",
    "for palabra in gen:\n",
    "    print(palabra, end=' ')"
   ]
  },
  {
   "cell_type": "markdown",
   "metadata": {},
   "source": [
    "### Otras estructuras de datos\n",
    "\n",
    "Sugiero revisar el módulo estándar [`collections`](https://docs.python.org/3.10/library/collections.html) que ofrece otras estructuras útiles como colas y contadores\n",
    "\n",
    "Por ejemplo `Counter` permite hacer histogramas"
   ]
  },
  {
   "cell_type": "code",
   "execution_count": 35,
   "metadata": {
    "ExecuteTime": {
     "end_time": "2020-05-14T15:10:30.256865Z",
     "start_time": "2020-05-14T15:10:30.248432Z"
    },
    "scrolled": true
   },
   "outputs": [
    {
     "data": {
      "text/plain": [
       "Counter({1: 2, 2: 3, 3: 2, 4: 1, 'foo': 1})"
      ]
     },
     "execution_count": 35,
     "metadata": {},
     "output_type": "execute_result"
    }
   ],
   "source": [
    "from collections import Counter\n",
    "\n",
    "data = [1, 1, 2, 2, 2, 3, 3, 4, 'foo']\n",
    "\n",
    "Counter(data)"
   ]
  },
  {
   "cell_type": "markdown",
   "metadata": {},
   "source": [
    "Se retorna un objeto donde la llave es el elemento único y el valor la cantidad de veces que aparece en `data`"
   ]
  },
  {
   "cell_type": "markdown",
   "metadata": {},
   "source": [
    "### Funciones anónimas y expresión lambda\n",
    "\n",
    "Son funciones de una linea con la estructura\n",
    "    \n",
    "    foo = lambda argumentos: expresión\n",
    "    \n",
    "Una lambda puede tener zero o más argumentos y siempre solo **una** expresión \n",
    "\n",
    "En general se usan para definir funciones anónimas, funciones que se ocupan sólo una vez en el código\n",
    "\n",
    "`lambda` + `map` = comprensión de lista"
   ]
  },
  {
   "cell_type": "code",
   "execution_count": 36,
   "metadata": {},
   "outputs": [
    {
     "data": {
      "text/plain": [
       "1.5"
      ]
     },
     "execution_count": 36,
     "metadata": {},
     "output_type": "execute_result"
    }
   ],
   "source": [
    "foo = lambda x, y : x+1/y\n",
    "\n",
    "foo(1, 2)"
   ]
  },
  {
   "cell_type": "code",
   "execution_count": 37,
   "metadata": {},
   "outputs": [
    {
     "data": {
      "text/plain": [
       "[0, 1, 4, 9, 16, 25, 36, 49, 64, 81]"
      ]
     },
     "execution_count": 37,
     "metadata": {},
     "output_type": "execute_result"
    }
   ],
   "source": [
    "list(map(lambda x : x**2, range(10)))"
   ]
  },
  {
   "cell_type": "code",
   "execution_count": 38,
   "metadata": {},
   "outputs": [
    {
     "data": {
      "text/plain": [
       "[0, 2, 4, 6, 8]"
      ]
     },
     "execution_count": 38,
     "metadata": {},
     "output_type": "execute_result"
    }
   ],
   "source": [
    "list(filter(lambda x : x % 2 == 0, range(10)))"
   ]
  },
  {
   "cell_type": "code",
   "execution_count": 39,
   "metadata": {
    "scrolled": true
   },
   "outputs": [
    {
     "name": "stdout",
     "output_type": "stream",
     "text": [
      "[(1, 'uno'), (2, 'dos'), (3, 'tres'), (4, 'cuatro')]\n",
      "[(4, 'cuatro'), (2, 'dos'), (3, 'tres'), (1, 'uno')]\n",
      "[(1, 'uno'), (2, 'dos'), (3, 'tres'), (4, 'cuatro')]\n"
     ]
    }
   ],
   "source": [
    "parejas = [(1, 'uno'), (2, 'dos'), (3, 'tres'), (4, 'cuatro')]\n",
    "#pairs.sort(key=lambda pair: pair[1])\n",
    "print(sorted(parejas, key=lambda p: p[0]))\n",
    "print(sorted(parejas, key=lambda p: p[1]))\n",
    "print(sorted(parejas, key=lambda p: len(p[1])))"
   ]
  },
  {
   "cell_type": "markdown",
   "metadata": {},
   "source": [
    "## Clases\n",
    "\n",
    "Se puede crear clases en Python utilizando `class`\n",
    "\n",
    "El siguiente ejemplo muestra como se hace herencia de clases en Python"
   ]
  },
  {
   "cell_type": "code",
   "execution_count": 40,
   "metadata": {
    "ExecuteTime": {
     "end_time": "2020-05-14T14:55:12.999309Z",
     "start_time": "2020-05-14T14:55:12.993297Z"
    }
   },
   "outputs": [
    {
     "name": "stdout",
     "output_type": "stream",
     "text": [
      "Rojo\n"
     ]
    }
   ],
   "source": [
    "class Fruta:\n",
    "    def __init__(self, nombre, color):\n",
    "        self.nombre = nombre # Atributos públicos\n",
    "        self.color = color\n",
    "        self.__sabor =  'asd' # Este es un atributo privado\n",
    "        \n",
    "class Manzana(Fruta):\n",
    "    def __init__(self):\n",
    "        super().__init__(\"Manzana\", \"Rojo\") # Llamamos al constructor de Fruta con super\n",
    "    \n",
    "mi_manzana = Manzana()\n",
    "print(mi_manzana.color)\n",
    "#mi_manzana.__atributo_privado"
   ]
  },
  {
   "cell_type": "markdown",
   "metadata": {},
   "source": [
    "## Manejo y levantamiento de excepciones\n",
    "\n",
    "\n",
    "### Bloque `try/catch` en Python"
   ]
  },
  {
   "cell_type": "code",
   "execution_count": 41,
   "metadata": {
    "ExecuteTime": {
     "end_time": "2020-05-14T15:13:08.438424Z",
     "start_time": "2020-05-14T15:13:08.429982Z"
    }
   },
   "outputs": [
    {
     "name": "stdout",
     "output_type": "stream",
     "text": [
      "Esta excepcion se captura\n",
      "Esto corre al final de cualquier camino (cleanup)\n"
     ]
    }
   ],
   "source": [
    "def foo(x):\n",
    "    try:\n",
    "        return x/10\n",
    "    except TypeError: \n",
    "        print(\"Esta excepcion se captura\")    \n",
    "    else:\n",
    "        print(\"Estas excepciones se propagan\")\n",
    "    finally:\n",
    "        print(\"Esto corre al final de cualquier camino (cleanup)\")\n",
    "        \n",
    "foo('asd')        "
   ]
  },
  {
   "cell_type": "markdown",
   "metadata": {},
   "source": [
    "Es posible levantar excepciones utilizando `raise` y `assert`\n",
    "\n",
    "Por ejemplo\n",
    "\n",
    "```python\n",
    "raise TypeError(\"Algo no está bien aquí\")\n",
    "```\n",
    "\n",
    "Retornaría una excepción `TypeError: Algo no está bien aquí`\n",
    "\n",
    "Sea ahora la siguietne función:"
   ]
  },
  {
   "cell_type": "code",
   "execution_count": 42,
   "metadata": {
    "ExecuteTime": {
     "end_time": "2020-05-14T15:14:43.896104Z",
     "start_time": "2020-05-14T15:14:43.884950Z"
    }
   },
   "outputs": [],
   "source": [
    "def foo(x):\n",
    "    assert type(x) == int, \"El argumento no es un entero\"\n",
    "    return x + 1"
   ]
  },
  {
   "cell_type": "markdown",
   "metadata": {},
   "source": [
    "Si ejecutáramos `foo('a')` se retornaría una excepción `AssertionError: El argumento no es un entero`"
   ]
  },
  {
   "cell_type": "markdown",
   "metadata": {},
   "source": [
    "### Debugging con ipdb\n",
    "\n",
    "Dos maneras para encontrar *bugs* con IPython usando el debugger `ipdb` \n",
    "\n",
    "Necesitas tener instalado `ipdb` \n"
   ]
  },
  {
   "cell_type": "markdown",
   "metadata": {},
   "source": [
    "**1) Debugeo Paso-a-paso:** Insertar breakpoints manualmente "
   ]
  },
  {
   "cell_type": "code",
   "execution_count": 43,
   "metadata": {
    "scrolled": true
   },
   "outputs": [],
   "source": [
    "def foo(x, y):\n",
    "    import ipdb; ipdb.set_trace(context=10) # Esto inserta un breakpoint en la función\n",
    "    z = x/2.\n",
    "    z += 2/y\n",
    "    return z"
   ]
  },
  {
   "cell_type": "markdown",
   "metadata": {},
   "source": [
    "Si ejecutamos `foo(1, 0)` veremos algo como lo siguiente\n",
    "\n"
   ]
  },
  {
   "cell_type": "markdown",
   "metadata": {},
   "source": [
    "<img src=\"img/debug1.png\" width=\"750\">"
   ]
  },
  {
   "cell_type": "markdown",
   "metadata": {},
   "source": [
    "Comandos en ipdb\n",
    "- a: Muestra los valores de los argumentos\n",
    "- l: Muestra la linea de código en que estamos posicionados\n",
    "- u/d: Sube y baja en el stack\n",
    "- q: Salir del modo debug"
   ]
  },
  {
   "cell_type": "markdown",
   "metadata": {},
   "source": [
    "**Debugeo Post-mortem:** Entra a modo debug con ipdb cuando ocurre una excepción"
   ]
  },
  {
   "cell_type": "code",
   "execution_count": 44,
   "metadata": {},
   "outputs": [
    {
     "name": "stdout",
     "output_type": "stream",
     "text": [
      "Automatic pdb calling has been turned ON\n"
     ]
    }
   ],
   "source": [
    "# Esto activa el modo post-mortem\n",
    "%pdb on "
   ]
  },
  {
   "cell_type": "code",
   "execution_count": 45,
   "metadata": {
    "scrolled": true
   },
   "outputs": [],
   "source": [
    "def foo(x, y):\n",
    "    z = x/2.\n",
    "    z += 2/y    \n",
    "    return z"
   ]
  },
  {
   "cell_type": "markdown",
   "metadata": {},
   "source": [
    "Si ejecutamos `foo(1, 0)` veremos algo como:"
   ]
  },
  {
   "cell_type": "markdown",
   "metadata": {},
   "source": [
    "<img src=\"img/debug2.png\" width=\"800\">"
   ]
  },
  {
   "cell_type": "markdown",
   "metadata": {},
   "source": [
    "## Interactuando con el sistema de archivos"
   ]
  },
  {
   "cell_type": "markdown",
   "metadata": {},
   "source": [
    "### Manejadores de contexto\n",
    "\n",
    "Usando la palabra clave `with` no es necesario preocuparse de cerrar el archivo `file.txt`, luego de trabajar con él"
   ]
  },
  {
   "cell_type": "code",
   "execution_count": 46,
   "metadata": {
    "ExecuteTime": {
     "end_time": "2020-05-14T14:58:59.283657Z",
     "start_time": "2020-05-14T14:58:59.160835Z"
    }
   },
   "outputs": [
    {
     "name": "stdout",
     "output_type": "stream",
     "text": [
      "hola mundo, soy un archivo\n",
      "\n"
     ]
    }
   ],
   "source": [
    "!echo \"hola mundo, soy un archivo\" > file.txt\n",
    "\n",
    "with open('file.txt') as f:\n",
    "    contents = f.read()\n",
    "\n",
    "print(contents)"
   ]
  },
  {
   "cell_type": "markdown",
   "metadata": {},
   "source": [
    "### Módulo [`pathlib`](https://docs.python.org/3/library/pathlib.html)\n",
    "\n",
    "Es un módulo estándar de Python para leer y manipular archivos y directorios"
   ]
  },
  {
   "cell_type": "code",
   "execution_count": 47,
   "metadata": {
    "ExecuteTime": {
     "end_time": "2020-05-14T15:15:56.315323Z",
     "start_time": "2020-05-14T15:15:56.302726Z"
    }
   },
   "outputs": [
    {
     "name": "stdout",
     "output_type": "stream",
     "text": [
      "[]\n",
      "[PosixPath('.ipynb_checkpoints'), PosixPath('img')]\n",
      "[PosixPath('git.ipynb'), PosixPath('env_management.ipynb'), PosixPath('python3.ipynb'), PosixPath('file.txt'), PosixPath('intro.ipynb')]\n",
      "('/', 'usr', 'bin', 'python3')\n"
     ]
    }
   ],
   "source": [
    "from pathlib import Path\n",
    "p = Path('.')\n",
    "print(sorted(p.glob('*.py')))\n",
    "print([x for x in p.iterdir() if x.is_dir()])\n",
    "print([x for x in p.iterdir() if x.is_file() and x])\n",
    "p = Path('/usr/bin/python3')\n",
    "print(p.parts)"
   ]
  },
  {
   "cell_type": "markdown",
   "metadata": {},
   "source": [
    "## Algunas buenas prácticas\n",
    "\n",
    "- Usa nombres explicativos para las variables, funciones y clases\n",
    "- Prefiere variables keyword antes que posicionales \n",
    "- Manten las funciones y clases breves, si una función es muy grande es posible que en realidad sean dos funciones en una (Principio de \"Single responsability\")\n",
    "- Prefiere los tipos nativos de Python, explora las [librerías estándar](https://docs.python.org/3/py-modindex.html) de Python para evitar reimplementar algo que ya existe\n",
    "- Trata de seguir el [PEP8](https://www.python.org/dev/peps/pep-0008/)\n",
    "\n",
    "[Python Enhancement Proposal (PEP)](https://www.python.org/dev/peps/pep-0008/) es una especificación técnica que busca mejorar el lenguaje Python\n",
    "\n",
    "PEP 0 es el índice de todos los PEP existentes. \n",
    "\n",
    "> El PEP 8 es una guia de buenas prácticas para dar formato a nuestros códigos en Python\n",
    "\n",
    "El objetivo de PEP 8 es mantener un estándar que facilite la lectura de código escrito en Python\n"
   ]
  },
  {
   "cell_type": "markdown",
   "metadata": {},
   "source": [
    "Por último, recitemos el zen de Python:"
   ]
  },
  {
   "cell_type": "code",
   "execution_count": 48,
   "metadata": {},
   "outputs": [
    {
     "name": "stdout",
     "output_type": "stream",
     "text": [
      "The Zen of Python, by Tim Peters\n",
      "\n",
      "Beautiful is better than ugly.\n",
      "Explicit is better than implicit.\n",
      "Simple is better than complex.\n",
      "Complex is better than complicated.\n",
      "Flat is better than nested.\n",
      "Sparse is better than dense.\n",
      "Readability counts.\n",
      "Special cases aren't special enough to break the rules.\n",
      "Although practicality beats purity.\n",
      "Errors should never pass silently.\n",
      "Unless explicitly silenced.\n",
      "In the face of ambiguity, refuse the temptation to guess.\n",
      "There should be one-- and preferably only one --obvious way to do it.\n",
      "Although that way may not be obvious at first unless you're Dutch.\n",
      "Now is better than never.\n",
      "Although never is often better than *right* now.\n",
      "If the implementation is hard to explain, it's a bad idea.\n",
      "If the implementation is easy to explain, it may be a good idea.\n",
      "Namespaces are one honking great idea -- let's do more of those!\n"
     ]
    }
   ],
   "source": [
    "import this"
   ]
  }
 ],
 "metadata": {
  "kernelspec": {
   "display_name": "Python 3 (ipykernel)",
   "language": "python",
   "name": "python3"
  },
  "language_info": {
   "codemirror_mode": {
    "name": "ipython",
    "version": 3
   },
   "file_extension": ".py",
   "mimetype": "text/x-python",
   "name": "python",
   "nbconvert_exporter": "python",
   "pygments_lexer": "ipython3",
   "version": "3.8.12"
  },
  "toc": {
   "base_numbering": 1,
   "nav_menu": {},
   "number_sections": true,
   "sideBar": true,
   "skip_h1_title": false,
   "title_cell": "Table of Contents",
   "title_sidebar": "Contents",
   "toc_cell": false,
   "toc_position": {
    "height": "calc(100% - 180px)",
    "left": "10px",
    "top": "150px",
    "width": "384px"
   },
   "toc_section_display": true,
   "toc_window_display": false
  }
 },
 "nbformat": 4,
 "nbformat_minor": 2
}
