{
 "cells": [
  {
   "cell_type": "markdown",
   "metadata": {},
   "source": [
    "# Jupyter y IPython\n",
    "\n",
    "En esta lección se presenta un ambiente de cómputo interactivo basado en el interprete [IPython](https://ipython.org/) y su integración con las herramientas del proyecto [Jupyter](https://jupyter.org/)"
   ]
  },
  {
   "cell_type": "markdown",
   "metadata": {},
   "source": [
    "## ¿Qué es Jupyter?\n",
    "\n",
    "Jupyter es un proyecto que incorpora\n",
    "\n",
    "- El formato `notebook`\n",
    "- Una aplicación web para visualizar y escribir `notebooks`\n",
    "- Un protocolo de mensajería para comunicar el notebook con un `kernel`\n",
    "\n",
    "El `notebook` es un formato relativamente nuevo que combina\n",
    "\n",
    "- código \n",
    "- visualizaciones \n",
    "- ecuaciones\n",
    "- texto enriquecido\n",
    "- imágenes, audio, video\n",
    "- interfaces de usuario (GUI)\n",
    "- entre otros\n",
    "\n",
    "esto lo hace ideal para \n",
    "\n",
    "- realizar exploración y análisis de datos\n",
    "- comunicar y compartir resultados\n",
    "- crear \"[narrativas científicas](https://github.com/mcburton/computational-narratives-with-jupyter)\" interactivas\n",
    "\n",
    "```{warning}\n",
    "En general Jupyter no es recomendable para tareas de producción. El flujo más correcto consiste en experimentar con Jupyter y luego escribir módulos. Veremos esto en detalle en una próxima sesión síncrona. \n",
    "```\n",
    "\n",
    "Jupyter no es un reemplazo para una IDE completa como [*pycharm*](https://www.jetbrains.com/pycharm/) o [*vscode*](https://code.visualstudio.com/) o editores de texto como [*vim*](https://www.vim.org/) o [*emacs*](https://www.gnu.org/software/emacs/). Jupyter es un complemento.\n",
    "\n",
    "\n",
    "**Ejemplos**\n",
    "\n",
    "Revisa uno o más de los siguientes ejemplos para hacerte una idea de lo que se puede hacer con Jupyter\n",
    "\n",
    "- Visualización de datos de censo (Estados Unidos): https://anaconda.org/jbednar/census/notebook\n",
    "- Jupyter notebook sobre reacciones químicas: https://nbviewer.jupyter.org/gist/greglandrum/4316430\n",
    "- Un libro de ciencia de datos escrito en jupyter: https://nbviewer.jupyter.org/github/gumption/Python_for_Data_Science/blob/master/Python_for_Data_Science_all.ipynb\n",
    "- Un tutorial de GIT escrito en jupyter: https://nbviewer.jupyter.org/github/fperez/reprosw/blob/master/Version%20Control.ipynb\n",
    "\n",
    "\n",
    "## ¿Cómo funciona Jupyter?\n",
    "\n",
    "\n",
    "- El **servidor jupyter** es el encargado de administrar los `notebooks`\n",
    "- Los usuarios interactuan con los `notebooks` a través de un frontend o interfaz web\n",
    "- El proceso encargado de correr los códigos se denomina **kernel**\n",
    "- El servidor conecta los notebooks con el kernel usando la librería de mensajería ZeroMQ\n",
    "\n",
    "La siguiente figura muestra el flujo detallado\n",
    "\n",
    "<img src=\"https://jupyter.readthedocs.io/en/latest/_images/notebook_components.png\" width=\"600\">\n",
    "\n",
    "**¿Qué lenguajes puedo usar?**\n",
    "\n",
    "Existen `kernels` de Python, Julia, Ruby, C y otros lenguajes\n",
    "\n",
    "En este curso nos enfocaremos en el kernel Interactive Python (IPython)\n",
    "\n",
    "IPython es un interprete de Python que ofrece varias mejoras tales como\n",
    "\n",
    "- autocompletación de path y modulos\n",
    "- acceso desde terminal a documentación y código fuente\n",
    "- búsqueda histórica de comandos\n",
    "- y las *magics* que serán vistas más adelante. \n",
    "\n",
    "\n",
    "**Notas**\n",
    "\n",
    "- Existen otros frontends como por ejemplo [jupyter lab](https://jupyter.org/)\n",
    "- Se puede acceder al kernel de ipython desde la terminal escribiendo el comando *ipython*\n",
    "- Las figuras provienen de la documentación de jupyter, donde además encontrarán más detalles: https://jupyter.readthedocs.io/en/latest/architecture/how_jupyter_ipython_work.html"
   ]
  },
  {
   "cell_type": "markdown",
   "metadata": {
    "cell_style": "center"
   },
   "source": [
    "## Montando nuestro ambiente de cómputo interactivo\n",
    "\n",
    "Escoge un directorio y clona el repositorio del curso\n",
    "\n",
    "    git clone https://github.com/magister-informatica-uach/INFO147.git\n",
    "\n",
    "Luego, utilizando conda creamos un ambiente \n",
    "\n",
    "    conda create -n info147\n",
    "    \n",
    "Activa el ambiente \n",
    "\n",
    "    conda activate info147\n",
    "    \n",
    "E instala jupyter y sus dependencias\n",
    "\n",
    "    conda install jupyter\n",
    "    \n",
    "Finalmente inicia jupyter escribiendo en la terminal\n",
    "\n",
    "    jupyter notebook\n",
    "    \n",
    "Esto abrirá una pestaña de navegador (browser) apuntada en la dirección\n",
    "\n",
    "    localhost:8888"
   ]
  },
  {
   "cell_type": "markdown",
   "metadata": {},
   "source": [
    "## Tutorial de Jupyter\n",
    "\n",
    "### Componentes principales y atajos\n",
    "\n",
    "- Pestañas: Files, Running y Clusters\n",
    "- Encabezado: File, Edit, View, Insert, Cell, Kernel, Widgets, Help\n",
    "- Tipo de celda: Código y Markdown\n",
    "- Modos: Edición (verde) y Comando (azul)\n",
    "- Atajos de texto (shortcuts)\n",
    "    - Ejecución: <kbd>Shift+Enter</kbd> y <kbd>Ctrl+Enter</kbd>\n",
    "    - Creación: <kbd>a</kbd> y <kbd>b</kbd>\n",
    "    - Copiar y pegar celdas: <kbd>c</kbd> y  <kbd>v</kbd>\n",
    "    - Cambio de tipo: <kbd>m</kbd> y <kbd>y</kbd>\n",
    "    - Salvar: <kbd>Ctrl+s</kbd>\n",
    "- Editor de texto y terminales (solo UNIX)"
   ]
  },
  {
   "cell_type": "markdown",
   "metadata": {},
   "source": [
    "### Editando y ejecutando un bloque de código"
   ]
  },
  {
   "cell_type": "markdown",
   "metadata": {},
   "source": [
    "La última línea de ejecución de un bloque se imprime como salida "
   ]
  },
  {
   "cell_type": "code",
   "execution_count": null,
   "metadata": {},
   "outputs": [],
   "source": [
    "x = 1412043130\n",
    "x"
   ]
  },
  {
   "cell_type": "markdown",
   "metadata": {},
   "source": [
    "Las variables y módulos que se crean/importan en un bloque puede ser llamados desde otro bloque"
   ]
  },
  {
   "cell_type": "code",
   "execution_count": null,
   "metadata": {},
   "outputs": [],
   "source": [
    "x"
   ]
  },
  {
   "cell_type": "markdown",
   "metadata": {},
   "source": [
    "Para imprimir otras lineas usamos print o display"
   ]
  },
  {
   "cell_type": "code",
   "execution_count": null,
   "metadata": {},
   "outputs": [],
   "source": [
    "print(2*x)\n",
    "3*x"
   ]
  },
  {
   "cell_type": "markdown",
   "metadata": {},
   "source": [
    "Se puede suprimir la salida terminando la expresión con ;"
   ]
  },
  {
   "cell_type": "code",
   "execution_count": null,
   "metadata": {},
   "outputs": [],
   "source": [
    "x;"
   ]
  },
  {
   "cell_type": "markdown",
   "metadata": {},
   "source": [
    "### Ayuda y autocompletación en Jupyter\n",
    "\n",
    "- Si escribes `?` después de un módulo se levantará el docstring de ese módulo\n",
    "- Si escribes `??` después de un módulo se levantará el código fuente de ese código\n",
    "- También puedes obtener ayuda con la función `help`\n",
    "\n",
    "```python\n",
    "from collections import Counter\n",
    "Counter?\n",
    "Counter??\n",
    "help(Counter)\n",
    "```\n",
    "\n",
    "Por ejemplo"
   ]
  },
  {
   "cell_type": "code",
   "execution_count": null,
   "metadata": {
    "code_folding": []
   },
   "outputs": [],
   "source": [
    "def funcion_interesante(x, y):\n",
    "    \"\"\"\n",
    "    Esta es una función interesante que suma sus argumentos\n",
    "    Argumentos: x, y\n",
    "    \"\"\"\n",
    "    return x + y"
   ]
  },
  {
   "cell_type": "markdown",
   "metadata": {},
   "source": [
    "Si escribes `funcion_interesante??` deberías ver una pestaña como la siguiente\n",
    "\n",
    "<img src=\"img/jupyter2.png\" width=\"850\">"
   ]
  },
  {
   "cell_type": "markdown",
   "metadata": {},
   "source": [
    "En un bloque de código puedes usar <kbd>TAB</kbd> para autocompletar nombres de variables, módulos o rutas \n",
    "\n",
    "También puedes usar <kbd>Shift+TAB</kbd> para levantar el docstring de una función\n",
    "\n",
    "Si usas esto con `funcion_interesante` deberías ver algo como\n",
    "\n",
    "<img src=\"img/jupyter1.png\" width=\"700\">"
   ]
  },
  {
   "cell_type": "markdown",
   "metadata": {},
   "source": [
    "### \"Magias\" de IPython"
   ]
  },
  {
   "cell_type": "markdown",
   "metadata": {},
   "source": [
    "Las magias son comandos especiales de IPython que se llama con el operador `%`\n",
    "\n",
    "Las \"magias\" disponibles son"
   ]
  },
  {
   "cell_type": "code",
   "execution_count": null,
   "metadata": {
    "scrolled": true
   },
   "outputs": [],
   "source": [
    "%lsmagic"
   ]
  },
  {
   "cell_type": "markdown",
   "metadata": {},
   "source": [
    "Por ejemplo podemos medir el tiempo de ejecución de un bloque usando"
   ]
  },
  {
   "cell_type": "code",
   "execution_count": null,
   "metadata": {},
   "outputs": [],
   "source": [
    "%%time \n",
    "a = ''\n",
    "for i in range(10):\n",
    "    a += str(i)\n",
    "print(a)"
   ]
  },
  {
   "cell_type": "markdown",
   "metadata": {},
   "source": [
    "O mostrar las variables y librerías que hemos importado a nuestro entorno"
   ]
  },
  {
   "cell_type": "code",
   "execution_count": null,
   "metadata": {
    "scrolled": true
   },
   "outputs": [],
   "source": [
    "%who"
   ]
  },
  {
   "cell_type": "markdown",
   "metadata": {},
   "source": [
    "O los comandos que hemos escrito"
   ]
  },
  {
   "cell_type": "code",
   "execution_count": null,
   "metadata": {},
   "outputs": [],
   "source": [
    "%history"
   ]
  },
  {
   "cell_type": "markdown",
   "metadata": {},
   "source": [
    "También podemos borrar las variables creadas y módulos importados con"
   ]
  },
  {
   "cell_type": "code",
   "execution_count": null,
   "metadata": {},
   "outputs": [],
   "source": [
    "%reset"
   ]
  },
  {
   "cell_type": "markdown",
   "metadata": {},
   "source": [
    "Y setear variables de entorno"
   ]
  },
  {
   "cell_type": "code",
   "execution_count": null,
   "metadata": {},
   "outputs": [],
   "source": [
    "%env OMP_NUM_THREADS=4"
   ]
  },
  {
   "cell_type": "markdown",
   "metadata": {},
   "source": [
    "entre mutras otras opciones útiles que iremos viendo a lo largo del curso"
   ]
  },
  {
   "cell_type": "markdown",
   "metadata": {},
   "source": [
    "**Corriendo un script Python externo**\n",
    "\n",
    "Podemos usar la magia `%run` para ejecutar un script externo"
   ]
  },
  {
   "cell_type": "code",
   "execution_count": null,
   "metadata": {},
   "outputs": [],
   "source": [
    "%run script_interesante.py"
   ]
  },
  {
   "cell_type": "code",
   "execution_count": null,
   "metadata": {},
   "outputs": [],
   "source": [
    "1*2*3*4*5*6*7*8*9*10"
   ]
  },
  {
   "cell_type": "markdown",
   "metadata": {},
   "source": [
    "También podemos importar una función dentro de un módulo con"
   ]
  },
  {
   "cell_type": "code",
   "execution_count": null,
   "metadata": {},
   "outputs": [],
   "source": [
    "from script_interesante import funcion_interesante\n",
    "\n",
    "funcion_interesante(10)"
   ]
  },
  {
   "cell_type": "markdown",
   "metadata": {},
   "source": [
    "Si estamos trabajando en el módulo `script_interesante` es conveniente importarlo dinamicamente\n",
    "\n",
    "De esta forma cualquier cambio que hagamos en el script se vera reflejado inmediatamente en el cuadernillo\n",
    "\n",
    "Para uso debemos usar la magia `%autoreload`\n",
    "\n",
    "Puedes consultar la ayuda de esta magia con `%autoreload?`"
   ]
  },
  {
   "cell_type": "code",
   "execution_count": null,
   "metadata": {},
   "outputs": [],
   "source": [
    "%load_ext autoreload\n",
    "%autoreload 2\n",
    "# Todo lo que importe a continuación podrá ser modificado dinamicamente\n",
    "from script_interesante import funcion_interesante\n",
    "funcion_interesante(10)"
   ]
  },
  {
   "cell_type": "markdown",
   "metadata": {},
   "source": [
    "**Errores y debugging**\n",
    "\n",
    "La magia `%debug` nos permite hacer debugging a nivel de bloque\n",
    "\n",
    "Si se detecta un error se levanta automáticamente una interfaz de ipdb\n",
    "\n",
    "```python\n",
    "%debug\n",
    "a = [1, 2, 3, 4]\n",
    "a[10] # Esto lanzará ipdb\n",
    "```\n",
    "\n",
    "El anexo \"Repaso de Python\" tiene instrucciones breves para aprender a usar pdb/ipdb"
   ]
  },
  {
   "cell_type": "markdown",
   "metadata": {},
   "source": [
    "**Accediendo al sistema operativo**"
   ]
  },
  {
   "cell_type": "markdown",
   "metadata": {},
   "source": [
    "Usando el operador `!` podemos hacer llamados al sistema operativo dentro de nuestros bloques de código\n",
    "\n",
    "Podemos usar `$` dentro de un comando para entregar variables de nuestro cuadernillo\n",
    "\n",
    "Algunos ejemplos"
   ]
  },
  {
   "cell_type": "code",
   "execution_count": null,
   "metadata": {
    "scrolled": true
   },
   "outputs": [],
   "source": [
    "mi_variable_interesante = 'asd'\n",
    "!pwd\n",
    "!echo $mi_variable_interesante\n",
    "!cat script_interesante.py"
   ]
  },
  {
   "cell_type": "markdown",
   "metadata": {},
   "source": [
    "También podemos usar la magía `%%bash` para acceder a comandos del sistema"
   ]
  },
  {
   "cell_type": "code",
   "execution_count": null,
   "metadata": {},
   "outputs": [],
   "source": [
    "%%bash\n",
    "echo \"Estoy usando:\" $SHELL\n",
    "echo \"Mi path es:\" $PATH\n",
    "free -m\n",
    "df -h"
   ]
  },
  {
   "cell_type": "markdown",
   "metadata": {},
   "source": [
    "Podemos capturar el retorno de las funciónes llamadas con `!`"
   ]
  },
  {
   "cell_type": "code",
   "execution_count": null,
   "metadata": {},
   "outputs": [],
   "source": [
    "lista_archivos = !ls\n",
    "\n",
    "print(lista_archivos)"
   ]
  },
  {
   "cell_type": "markdown",
   "metadata": {},
   "source": [
    "Algunas funciones básicas de UNIX a tener con consideración:\n",
    "\n",
    "- `pwd`: Retorna la ruta del directorio actual\n",
    "- `ls foo`: Lista de los archivos y directorios en `foo`\n",
    "- `rm foo`: Borrar el archivo `foo`\n",
    "- `cd foo`: Moverse al directorio `foo`\n",
    "- `cp foo bar`: Copiar el archivo `foo` como `bar`\n",
    "- `mkdir/rmdir foo` Crear/Borrar directorio `foo`\n",
    "- `cat foo`: Imprimir el contenido del archivo `foo`\n",
    "- `head/tail -n10 foo`: Imprimir las primeras/últimas 10 lineas de `foo`\n",
    "- `more foo`: Imprimir `foo` por partes\n",
    "    "
   ]
  },
  {
   "cell_type": "code",
   "execution_count": null,
   "metadata": {},
   "outputs": [],
   "source": []
  }
 ],
 "metadata": {
  "kernelspec": {
   "display_name": "Python 3",
   "language": "python",
   "name": "python3"
  },
  "language_info": {
   "codemirror_mode": {
    "name": "ipython",
    "version": 3
   },
   "file_extension": ".py",
   "mimetype": "text/x-python",
   "name": "python",
   "nbconvert_exporter": "python",
   "pygments_lexer": "ipython3",
   "version": "3.7.10"
  },
  "toc": {
   "base_numbering": 1,
   "nav_menu": {},
   "number_sections": true,
   "sideBar": true,
   "skip_h1_title": false,
   "title_cell": "Table of Contents",
   "title_sidebar": "Contents",
   "toc_cell": false,
   "toc_position": {},
   "toc_section_display": true,
   "toc_window_display": false
  }
 },
 "nbformat": 4,
 "nbformat_minor": 2
}
